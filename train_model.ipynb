{
 "cells": [
  {
   "cell_type": "code",
   "execution_count": 72,
   "metadata": {},
   "outputs": [],
   "source": [
    "import numpy as np\n",
    "import torch\n",
    "import torch.nn.functional as F\n",
    "\n",
    "from analyst import Analyst\n",
    "from config import ModelConfig, TrainerConfig\n",
    "from dataset import load_dataset_manager"
   ]
  },
  {
   "cell_type": "code",
   "execution_count": 85,
   "metadata": {},
   "outputs": [],
   "source": [
    "torch.manual_seed(24)\n",
    "np.random.seed(24)\n",
    "\n",
    "trainer_config = TrainerConfig(\n",
    "    dataset_name=\"toydata\", epochs=3, ignore_saved_model=True, load_model=False, batch_size=16\n",
    ")\n",
    "model_config = ModelConfig(d_model=64, lr=0.00001, add_seq_embedding=True)"
   ]
  },
  {
   "cell_type": "code",
   "execution_count": 86,
   "metadata": {},
   "outputs": [
    {
     "data": {
      "text/plain": [
       "TrainerConfig(model_name='attentive2', dataset_name='toydata', epochs=3, batch_size=16, verbose=False, ignore_saved_model=True, load_model=False, save_model=True, load_dataset=True, save_dataset=True, cache_dir='cache/', dataset_dir='cache/dataset/')"
      ]
     },
     "execution_count": 86,
     "metadata": {},
     "output_type": "execute_result"
    }
   ],
   "source": [
    "trainer_config"
   ]
  },
  {
   "cell_type": "code",
   "execution_count": 87,
   "metadata": {},
   "outputs": [
    {
     "data": {
      "text/plain": [
       "ModelConfig(d_model=64, max_embedding_norm=None, window_size=8, negative_sample_size=5, lr=5e-05, use_learnable_embedding=True, dropout=0.1, add_seq_embedding=True, add_positional_encoding=False)"
      ]
     },
     "execution_count": 87,
     "metadata": {},
     "output_type": "execute_result"
    }
   ],
   "source": [
    "model_config"
   ]
  },
  {
   "cell_type": "code",
   "execution_count": 18,
   "metadata": {},
   "outputs": [
    {
     "name": "stdout",
     "output_type": "stream",
     "text": [
      "load cached dataset_manager from: cache/dataset/toydata.pickle\n"
     ]
    },
    {
     "ename": "KeyboardInterrupt",
     "evalue": "",
     "output_type": "error",
     "traceback": [
      "\u001b[0;31m---------------------------------------------------------------------------\u001b[0m",
      "\u001b[0;31mKeyboardInterrupt\u001b[0m                         Traceback (most recent call last)",
      "\u001b[1;32mセル5 を /Users/tatsuyaishii/dev/my-doc2vec/train_model.ipynb\u001b[0m in \u001b[0;36m<cell line: 1>\u001b[0;34m()\u001b[0m\n\u001b[0;32m----> <a href='vscode-notebook-cell:/Users/tatsuyaishii/dev/my-doc2vec/train_model.ipynb#W4sZmlsZQ%3D%3D?line=0'>1</a>\u001b[0m dataset_manager \u001b[39m=\u001b[39m load_dataset_manager(\n\u001b[1;32m      <a href='vscode-notebook-cell:/Users/tatsuyaishii/dev/my-doc2vec/train_model.ipynb#W4sZmlsZQ%3D%3D?line=1'>2</a>\u001b[0m     dataset_name\u001b[39m=\u001b[39;49mtrainer_config\u001b[39m.\u001b[39;49mdataset_name,\n\u001b[1;32m      <a href='vscode-notebook-cell:/Users/tatsuyaishii/dev/my-doc2vec/train_model.ipynb#W4sZmlsZQ%3D%3D?line=2'>3</a>\u001b[0m     dataset_dir\u001b[39m=\u001b[39;49mtrainer_config\u001b[39m.\u001b[39;49mdataset_dir,\n\u001b[1;32m      <a href='vscode-notebook-cell:/Users/tatsuyaishii/dev/my-doc2vec/train_model.ipynb#W4sZmlsZQ%3D%3D?line=3'>4</a>\u001b[0m     load_dataset\u001b[39m=\u001b[39;49mtrainer_config\u001b[39m.\u001b[39;49mload_dataset,\n\u001b[1;32m      <a href='vscode-notebook-cell:/Users/tatsuyaishii/dev/my-doc2vec/train_model.ipynb#W4sZmlsZQ%3D%3D?line=4'>5</a>\u001b[0m     save_dataset\u001b[39m=\u001b[39;49mtrainer_config\u001b[39m.\u001b[39;49msave_dataset,\n\u001b[1;32m      <a href='vscode-notebook-cell:/Users/tatsuyaishii/dev/my-doc2vec/train_model.ipynb#W4sZmlsZQ%3D%3D?line=5'>6</a>\u001b[0m     window_size\u001b[39m=\u001b[39;49mmodel_config\u001b[39m.\u001b[39;49mwindow_size,\n\u001b[1;32m      <a href='vscode-notebook-cell:/Users/tatsuyaishii/dev/my-doc2vec/train_model.ipynb#W4sZmlsZQ%3D%3D?line=6'>7</a>\u001b[0m )\n",
      "File \u001b[0;32m~/dev/my-doc2vec/dataset.py:36\u001b[0m, in \u001b[0;36mload_dataset_manager\u001b[0;34m(dataset_name, dataset_dir, load_dataset, save_dataset, window_size)\u001b[0m\n\u001b[1;32m     34\u001b[0m     \u001b[39mprint\u001b[39m(\u001b[39mf\u001b[39m\u001b[39m\"\u001b[39m\u001b[39mload cached dataset_manager from: \u001b[39m\u001b[39m{\u001b[39;00mpickle_path\u001b[39m}\u001b[39;00m\u001b[39m\"\u001b[39m)\n\u001b[1;32m     35\u001b[0m     \u001b[39mwith\u001b[39;00m \u001b[39mopen\u001b[39m(pickle_path, \u001b[39m\"\u001b[39m\u001b[39mrb\u001b[39m\u001b[39m\"\u001b[39m) \u001b[39mas\u001b[39;00m f:\n\u001b[0;32m---> 36\u001b[0m         dataset_manager: SequenceDatasetManager \u001b[39m=\u001b[39m pickle\u001b[39m.\u001b[39;49mload(f)\n\u001b[1;32m     37\u001b[0m     \u001b[39mreturn\u001b[39;00m dataset_manager\n\u001b[1;32m     39\u001b[0m \u001b[39mprint\u001b[39m(\u001b[39mf\u001b[39m\u001b[39m\"\u001b[39m\u001b[39mdataset_manager does not exist at: \u001b[39m\u001b[39m{\u001b[39;00mpickle_path\u001b[39m}\u001b[39;00m\u001b[39m, create dataset\u001b[39m\u001b[39m\"\u001b[39m)\n",
      "File \u001b[0;32m~/.pyenv/versions/3.10.4/lib/python3.10/site-packages/torch/storage.py:181\u001b[0m, in \u001b[0;36m_load_from_bytes\u001b[0;34m(b)\u001b[0m\n\u001b[1;32m    180\u001b[0m \u001b[39mdef\u001b[39;00m \u001b[39m_load_from_bytes\u001b[39m(b):\n\u001b[0;32m--> 181\u001b[0m     \u001b[39mreturn\u001b[39;00m torch\u001b[39m.\u001b[39;49mload(io\u001b[39m.\u001b[39;49mBytesIO(b))\n",
      "File \u001b[0;32m~/.pyenv/versions/3.10.4/lib/python3.10/site-packages/torch/serialization.py:700\u001b[0m, in \u001b[0;36mload\u001b[0;34m(f, map_location, pickle_module, **pickle_load_args)\u001b[0m\n\u001b[1;32m    697\u001b[0m     pickle_load_args[\u001b[39m'\u001b[39m\u001b[39mencoding\u001b[39m\u001b[39m'\u001b[39m] \u001b[39m=\u001b[39m \u001b[39m'\u001b[39m\u001b[39mutf-8\u001b[39m\u001b[39m'\u001b[39m\n\u001b[1;32m    699\u001b[0m \u001b[39mwith\u001b[39;00m _open_file_like(f, \u001b[39m'\u001b[39m\u001b[39mrb\u001b[39m\u001b[39m'\u001b[39m) \u001b[39mas\u001b[39;00m opened_file:\n\u001b[0;32m--> 700\u001b[0m     \u001b[39mif\u001b[39;00m _is_zipfile(opened_file):\n\u001b[1;32m    701\u001b[0m         \u001b[39m# The zipfile reader is going to advance the current file position.\u001b[39;00m\n\u001b[1;32m    702\u001b[0m         \u001b[39m# If we want to actually tail call to torch.jit.load, we need to\u001b[39;00m\n\u001b[1;32m    703\u001b[0m         \u001b[39m# reset back to the original position.\u001b[39;00m\n\u001b[1;32m    704\u001b[0m         orig_position \u001b[39m=\u001b[39m opened_file\u001b[39m.\u001b[39mtell()\n\u001b[1;32m    705\u001b[0m         \u001b[39mwith\u001b[39;00m _open_zipfile_reader(opened_file) \u001b[39mas\u001b[39;00m opened_zipfile:\n",
      "File \u001b[0;32m~/.pyenv/versions/3.10.4/lib/python3.10/site-packages/torch/serialization.py:60\u001b[0m, in \u001b[0;36m_is_zipfile\u001b[0;34m(f)\u001b[0m\n\u001b[1;32m     58\u001b[0m byte \u001b[39m=\u001b[39m f\u001b[39m.\u001b[39mread(\u001b[39m1\u001b[39m)\n\u001b[1;32m     59\u001b[0m \u001b[39mwhile\u001b[39;00m byte \u001b[39m!=\u001b[39m \u001b[39m\"\u001b[39m\u001b[39m\"\u001b[39m:\n\u001b[0;32m---> 60\u001b[0m     read_bytes\u001b[39m.\u001b[39;49mappend(byte)\n\u001b[1;32m     61\u001b[0m     \u001b[39mif\u001b[39;00m \u001b[39mlen\u001b[39m(read_bytes) \u001b[39m==\u001b[39m \u001b[39m4\u001b[39m:\n\u001b[1;32m     62\u001b[0m         \u001b[39mbreak\u001b[39;00m\n",
      "\u001b[0;31mKeyboardInterrupt\u001b[0m: "
     ]
    }
   ],
   "source": [
    "dataset_manager = load_dataset_manager(\n",
    "    dataset_name=trainer_config.dataset_name,\n",
    "    dataset_dir=trainer_config.dataset_dir,\n",
    "    load_dataset=trainer_config.load_dataset,\n",
    "    save_dataset=trainer_config.save_dataset,\n",
    "    window_size=model_config.window_size,\n",
    ")"
   ]
  },
  {
   "cell_type": "code",
   "execution_count": 88,
   "metadata": {},
   "outputs": [],
   "source": [
    "analyst = Analyst(\n",
    "    dataset_manager=dataset_manager,\n",
    "    trainer_config=trainer_config,\n",
    "    model_config=model_config,\n",
    ")"
   ]
  },
  {
   "cell_type": "code",
   "execution_count": 89,
   "metadata": {},
   "outputs": [],
   "source": [
    "def on_epoch_start():\n",
    "    analyst.similarity_between_seq_meta_and_item_meta(\n",
    "        \"gender\", \"M\", \"genre\", method=\"inner-product\", num_top_values=30\n",
    "    )\n",
    "    analyst.similarity_between_seq_meta_and_item_meta(\n",
    "        \"gender\", \"F\", \"genre\", method=\"inner-product\", num_top_values=30\n",
    "    )\n",
    "    analyst.visualize_meta_embedding(\"gender\", \"genre\", method=\"pca\")\n",
    "    # print(analyst.trainer.model.embedding_seq_meta.weight[6])\n",
    "    # print(analyst.trainer.model.embedding_seq_meta.weight[7])\n",
    "    print(F.cosine_similarity(analyst.trainer.model.embedding_seq_meta.weight[6], analyst.trainer.model.embedding_seq_meta.weight[7], dim=0))\n",
    "    # print(analyst.trainer.model.embedding_item_meta.weight[15])\n",
    "    # print(analyst.trainer.model.Qk.weight[0])"
   ]
  },
  {
   "cell_type": "code",
   "execution_count": 90,
   "metadata": {},
   "outputs": [
    {
     "name": "stdout",
     "output_type": "stream",
     "text": [
      "train start\n",
      "similarity of seq meta: gender:M for meta: genre\n",
      "0.0871 E5\n",
      "0.0468 E1\n",
      "-0.0134 F2\n",
      "-0.0440 M3\n",
      "-0.0482 E3\n",
      "-0.0575 F4\n",
      "-0.0577 F3\n",
      "-0.0594 M5\n",
      "-0.0606 M4\n",
      "-0.0652 F5\n",
      "-0.0728 M2\n",
      "-0.0843 E2\n",
      "-0.1026 F1\n",
      "-0.1050 M1\n",
      "-0.1303 E4\n",
      "similarity of seq meta: gender:F for meta: genre\n",
      "0.0869 E4\n",
      "0.0600 F4\n",
      "0.0514 M4\n",
      "0.0354 E3\n",
      "0.0251 F5\n",
      "0.0226 M1\n",
      "0.0175 F3\n",
      "0.0165 M5\n",
      "0.0033 M2\n",
      "-0.0013 E2\n",
      "-0.0069 F1\n",
      "-0.0239 F2\n",
      "-0.0485 M3\n",
      "-0.0681 E1\n",
      "-0.0777 E5\n"
     ]
    },
    {
     "data": {
      "image/png": "[encoded data removed]",
      "text/plain": [
       "<Figure size 432x288 with 1 Axes>"
      ]
     },
     "metadata": {
      "needs_background": "light"
     },
     "output_type": "display_data"
    },
    {
     "name": "stdout",
     "output_type": "stream",
     "text": [
      "tensor(-0.2375, grad_fn=<DivBackward0>)\n"
     ]
    },
    {
     "name": "stderr",
     "output_type": "stream",
     "text": [
      "100%|██████████| 29250/29250 [02:18<00:00, 211.95it/s]\n",
      "100%|██████████| 6750/6750 [00:04<00:00, 1415.14it/s]\n"
     ]
    },
    {
     "name": "stdout",
     "output_type": "stream",
     "text": [
      "Epoch: 1, loss: 0.2755543513109541, test_loss: {'test': 0.28926319132690076}\n",
      "saved best model to cache/best-toydata-attentive2.pt\n",
      "similarity of seq meta: gender:M for meta: genre\n",
      "363.9510 F4\n",
      "359.1454 F1\n",
      "357.3235 F3\n",
      "357.1515 F2\n",
      "353.5854 F5\n",
      "270.4706 E1\n",
      "265.9458 E2\n",
      "261.6313 E4\n",
      "259.7496 E5\n",
      "259.6725 E3\n",
      "22.0712 M3\n",
      "18.0355 M4\n",
      "16.9484 M5\n",
      "15.8122 M2\n",
      "8.8386 M1\n",
      "similarity of seq meta: gender:F for meta: genre\n",
      "327.8516 F4\n",
      "323.0938 F1\n",
      "321.1729 F2\n",
      "320.9277 F3\n",
      "318.1994 F5\n",
      "242.7782 E1\n",
      "239.0684 E2\n",
      "235.6251 E4\n",
      "233.2591 E3\n",
      "233.0471 E5\n",
      "18.7817 M3\n",
      "15.5151 M4\n",
      "14.6508 M5\n",
      "13.4273 M2\n",
      "7.4902 M1\n"
     ]
    },
    {
     "data": {
      "image/png": "[encoded data removed]",
      "text/plain": [
       "<Figure size 432x288 with 1 Axes>"
      ]
     },
     "metadata": {
      "needs_background": "light"
     },
     "output_type": "display_data"
    },
    {
     "name": "stdout",
     "output_type": "stream",
     "text": [
      "tensor(0.8322, grad_fn=<DivBackward0>)\n"
     ]
    },
    {
     "name": "stderr",
     "output_type": "stream",
     "text": [
      " 16%|█▌        | 4576/29250 [00:21<02:00, 205.12it/s]"
     ]
    }
   ],
   "source": [
    "analyst.fit(show_fig=False, on_epoch_start=on_epoch_start)\n",
    "on_epoch_start()"
   ]
  },
  {
   "cell_type": "code",
   "execution_count": null,
   "metadata": {},
   "outputs": [],
   "source": []
  }
 ],
 "metadata": {
  "kernelspec": {
   "display_name": "Python 3.10.4 64-bit ('3.10.4')",
   "language": "python",
   "name": "python3"
  },
  "language_info": {
   "codemirror_mode": {
    "name": "ipython",
    "version": 3
   },
   "file_extension": ".py",
   "mimetype": "text/x-python",
   "name": "python",
   "nbconvert_exporter": "python",
   "pygments_lexer": "ipython3",
   "version": "3.10.4"
  },
  "orig_nbformat": 4,
  "vscode": {
   "interpreter": {
    "hash": "2a5fb540920344d2a30df49d123c0d51f1e8fc17e24494fc3a54f6f29186e4c7"
   }
  }
 },
 "nbformat": 4,
 "nbformat_minor": 2
}
