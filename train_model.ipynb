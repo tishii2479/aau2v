{
 "cells": [
  {
   "cell_type": "code",
   "execution_count": 1,
   "metadata": {},
   "outputs": [],
   "source": [
    "from analyst import Analyst\n",
    "from config import ModelConfig, TrainerConfig\n",
    "from dataset import load_dataset_manager\n",
    "\n",
    "import torch.nn.functional as F"
   ]
  },
  {
   "cell_type": "code",
   "execution_count": 2,
   "metadata": {},
   "outputs": [],
   "source": [
    "trainer_config = TrainerConfig(\n",
    "    dataset_name=\"toydata-simple\", epochs=1, ignore_saved_model=True, load_model=False, batch_size=64\n",
    ")\n",
    "model_config = ModelConfig(d_model=32, lr=0.005)"
   ]
  },
  {
   "cell_type": "code",
   "execution_count": 3,
   "metadata": {},
   "outputs": [
    {
     "data": {
      "text/plain": [
       "TrainerConfig(model_name='attentive2', dataset_name='toydata-simple', epochs=1, batch_size=64, verbose=False, ignore_saved_model=True, load_model=False, save_model=True, load_dataset=True, save_dataset=True, cache_dir='cache/', dataset_dir='cache/dataset/')"
      ]
     },
     "execution_count": 3,
     "metadata": {},
     "output_type": "execute_result"
    }
   ],
   "source": [
    "trainer_config"
   ]
  },
  {
   "cell_type": "code",
   "execution_count": 4,
   "metadata": {},
   "outputs": [
    {
     "data": {
      "text/plain": [
       "ModelConfig(d_model=32, max_embedding_norm=None, window_size=8, negative_sample_size=5, lr=0.005, use_learnable_embedding=True, dropout=0.1, add_seq_embedding=False, add_positional_encoding=False)"
      ]
     },
     "execution_count": 4,
     "metadata": {},
     "output_type": "execute_result"
    }
   ],
   "source": [
    "model_config"
   ]
  },
  {
   "cell_type": "code",
   "execution_count": 5,
   "metadata": {},
   "outputs": [
    {
     "name": "stdout",
     "output_type": "stream",
     "text": [
      "load cached dataset_manager from: cache/dataset/toydata-simple.pickle\n"
     ]
    }
   ],
   "source": [
    "dataset_manager = load_dataset_manager(\n",
    "    dataset_name=trainer_config.dataset_name,\n",
    "    dataset_dir=trainer_config.dataset_dir,\n",
    "    load_dataset=trainer_config.load_dataset,\n",
    "    save_dataset=trainer_config.save_dataset,\n",
    ")"
   ]
  },
  {
   "cell_type": "code",
   "execution_count": 6,
   "metadata": {},
   "outputs": [],
   "source": [
    "analyst = Analyst(\n",
    "    dataset_manager=dataset_manager,\n",
    "    trainer_config=trainer_config,\n",
    "    model_config=model_config,\n",
    ")"
   ]
  },
  {
   "cell_type": "code",
   "execution_count": 7,
   "metadata": {},
   "outputs": [
    {
     "name": "stdout",
     "output_type": "stream",
     "text": [
      "train start\n"
     ]
    },
    {
     "name": "stderr",
     "output_type": "stream",
     "text": [
      "100%|██████████| 7313/7313 [00:35<00:00, 207.89it/s]\n",
      "100%|██████████| 1688/1688 [00:02<00:00, 773.07it/s]\n"
     ]
    },
    {
     "name": "stdout",
     "output_type": "stream",
     "text": [
      "Epoch: 1, loss: 0.17991196081545582, test_loss: {'test': 0.35196703471137447}\n",
      "saved best model to cache/best-toydata-simple-attentive2.pt\n",
      "train end\n",
      "saved model to cache/toydata-simple-attentive2.pt\n"
     ]
    }
   ],
   "source": [
    "analyst.fit(show_fig=False)"
   ]
  },
  {
   "cell_type": "code",
   "execution_count": 21,
   "metadata": {},
   "outputs": [
    {
     "data": {
      "image/png": "[encoded data removed]",
      "text/plain": [
       "<Figure size 432x288 with 1 Axes>"
      ]
     },
     "metadata": {
      "needs_background": "light"
     },
     "output_type": "display_data"
    }
   ],
   "source": [
    "analyst.visualize_meta_embedding(\"gender\", \"genre\", method=\"pca\")"
   ]
  },
  {
   "cell_type": "code",
   "execution_count": 22,
   "metadata": {},
   "outputs": [
    {
     "name": "stdout",
     "output_type": "stream",
     "text": [
      "similarity of seq meta: gender:M for meta: genre\n",
      "7.6639 F5\n",
      "7.4850 F4\n",
      "7.2118 F2\n",
      "7.0117 F1\n",
      "6.9749 F3\n",
      "4.2717 E1\n",
      "4.0152 E4\n",
      "3.9590 E3\n",
      "3.8381 E2\n",
      "3.7357 E5\n",
      "1.4192 M2\n",
      "1.0667 M3\n",
      "1.0064 M4\n",
      "0.9594 M5\n",
      "0.8762 M1\n",
      "similarity of seq meta: gender:F for meta: genre\n",
      "0.6212 E4\n",
      "0.5960 E5\n",
      "0.4354 F4\n",
      "0.4220 F3\n",
      "0.3599 F2\n",
      "0.2722 F5\n",
      "0.2720 E3\n",
      "0.1749 E2\n",
      "0.1441 F1\n",
      "0.0314 E1\n",
      "-1.0243 M5\n",
      "-1.1068 M2\n",
      "-1.1142 M1\n",
      "-1.2714 M4\n",
      "-1.2983 M3\n"
     ]
    }
   ],
   "source": [
    "analyst.similarity_between_seq_meta_and_item_meta(\n",
    "    \"gender\", \"M\", \"genre\", method=\"inner-product\", num_top_values=30\n",
    ")\n",
    "analyst.similarity_between_seq_meta_and_item_meta(\n",
    "    \"gender\", \"F\", \"genre\", method=\"inner-product\", num_top_values=30\n",
    ")"
   ]
  },
  {
   "cell_type": "code",
   "execution_count": 10,
   "metadata": {},
   "outputs": [
    {
     "data": {
      "text/plain": [
       "array(['genre:E1', 'genre:E2', 'genre:E3', 'genre:E4', 'genre:E5',\n",
       "       'genre:F1', 'genre:F2', 'genre:F3', 'genre:F4', 'genre:F5',\n",
       "       'genre:M1', 'genre:M2', 'genre:M3', 'genre:M4', 'genre:M5'],\n",
       "      dtype='<U8')"
      ]
     },
     "execution_count": 10,
     "metadata": {},
     "output_type": "execute_result"
    }
   ],
   "source": [
    "dataset_manager.item_meta_le.classes_"
   ]
  },
  {
   "cell_type": "code",
   "execution_count": 11,
   "metadata": {},
   "outputs": [
    {
     "data": {
      "text/plain": [
       "array(['gender:F', 'gender:M'], dtype='<U8')"
      ]
     },
     "execution_count": 11,
     "metadata": {},
     "output_type": "execute_result"
    }
   ],
   "source": [
    "dataset_manager.seq_meta_le.classes_"
   ]
  },
  {
   "cell_type": "code",
   "execution_count": 34,
   "metadata": {},
   "outputs": [
    {
     "name": "stdout",
     "output_type": "stream",
     "text": [
      "tensor(3.5177, grad_fn=<CopyBackwards>)\n",
      "tensor(3.1228, grad_fn=<CopyBackwards>)\n",
      "tensor(3.4387, grad_fn=<CopyBackwards>)\n",
      "tensor(3.0420, grad_fn=<CopyBackwards>)\n",
      "tensor(3.6859, grad_fn=<CopyBackwards>)\n",
      "tensor(3.6259, grad_fn=<CopyBackwards>)\n",
      "tensor(2.7294, grad_fn=<CopyBackwards>)\n",
      "tensor(2.5215, grad_fn=<CopyBackwards>)\n",
      "tensor(3.0481, grad_fn=<CopyBackwards>)\n",
      "tensor(2.9895, grad_fn=<CopyBackwards>)\n"
     ]
    }
   ],
   "source": [
    "for i in range(10):\n",
    "    print(analyst.trainer.model.embedding_seq.weight[i].norm())"
   ]
  },
  {
   "cell_type": "code",
   "execution_count": 35,
   "metadata": {},
   "outputs": [
    {
     "name": "stdout",
     "output_type": "stream",
     "text": [
      "tensor(6.0872, grad_fn=<CopyBackwards>)\n",
      "tensor(6.0978, grad_fn=<CopyBackwards>)\n",
      "tensor(4.7153, grad_fn=<CopyBackwards>)\n",
      "tensor(5.2141, grad_fn=<CopyBackwards>)\n",
      "tensor(5.1377, grad_fn=<CopyBackwards>)\n",
      "tensor(5.7213, grad_fn=<CopyBackwards>)\n",
      "tensor(5.2527, grad_fn=<CopyBackwards>)\n",
      "tensor(6.5006, grad_fn=<CopyBackwards>)\n",
      "tensor(5.6484, grad_fn=<CopyBackwards>)\n",
      "tensor(5.3071, grad_fn=<CopyBackwards>)\n"
     ]
    }
   ],
   "source": [
    "for i in range(10):\n",
    "    print(analyst.trainer.model.embedding_item.weight[i].norm())"
   ]
  },
  {
   "cell_type": "code",
   "execution_count": 25,
   "metadata": {},
   "outputs": [
    {
     "name": "stdout",
     "output_type": "stream",
     "text": [
      "tensor(2.3168, grad_fn=<CopyBackwards>)\n",
      "tensor(2.7873, grad_fn=<CopyBackwards>)\n"
     ]
    }
   ],
   "source": [
    "for i in range(2):\n",
    "    print(analyst.trainer.model.embedding_seq_meta.weight[i].norm())"
   ]
  },
  {
   "cell_type": "code",
   "execution_count": 26,
   "metadata": {},
   "outputs": [
    {
     "name": "stdout",
     "output_type": "stream",
     "text": [
      "tensor(1.9411, grad_fn=<CopyBackwards>)\n",
      "tensor(2.0628, grad_fn=<CopyBackwards>)\n",
      "tensor(1.9910, grad_fn=<CopyBackwards>)\n",
      "tensor(1.8787, grad_fn=<CopyBackwards>)\n",
      "tensor(1.8540, grad_fn=<CopyBackwards>)\n",
      "tensor(3.7015, grad_fn=<CopyBackwards>)\n",
      "tensor(3.7621, grad_fn=<CopyBackwards>)\n",
      "tensor(3.6596, grad_fn=<CopyBackwards>)\n",
      "tensor(3.9325, grad_fn=<CopyBackwards>)\n",
      "tensor(3.8124, grad_fn=<CopyBackwards>)\n",
      "tensor(2.4382, grad_fn=<CopyBackwards>)\n",
      "tensor(2.2637, grad_fn=<CopyBackwards>)\n",
      "tensor(2.2293, grad_fn=<CopyBackwards>)\n",
      "tensor(2.4337, grad_fn=<CopyBackwards>)\n",
      "tensor(2.4288, grad_fn=<CopyBackwards>)\n"
     ]
    }
   ],
   "source": [
    "for i in range(15):\n",
    "    print(analyst.trainer.model.embedding_item_meta.weight[i].norm())"
   ]
  },
  {
   "cell_type": "code",
   "execution_count": 27,
   "metadata": {},
   "outputs": [
    {
     "name": "stdout",
     "output_type": "stream",
     "text": [
      "tensor(0.8945, grad_fn=<CopyBackwards>)\n",
      "tensor(0.8157, grad_fn=<CopyBackwards>)\n",
      "tensor(0.7378, grad_fn=<CopyBackwards>)\n",
      "tensor(0.6889, grad_fn=<CopyBackwards>)\n",
      "tensor(0.9758, grad_fn=<CopyBackwards>)\n",
      "tensor(0.7792, grad_fn=<CopyBackwards>)\n",
      "tensor(0.9198, grad_fn=<CopyBackwards>)\n",
      "tensor(0.8754, grad_fn=<CopyBackwards>)\n",
      "tensor(0.5838, grad_fn=<CopyBackwards>)\n",
      "tensor(0.8161, grad_fn=<CopyBackwards>)\n"
     ]
    }
   ],
   "source": [
    "for i in range(10):\n",
    "    print(analyst.trainer.model.Qk.weight[i].norm())"
   ]
  },
  {
   "cell_type": "code",
   "execution_count": 28,
   "metadata": {},
   "outputs": [
    {
     "data": {
      "text/plain": [
       "tensor(0.0320, grad_fn=<DivBackward0>)"
      ]
     },
     "execution_count": 28,
     "metadata": {},
     "output_type": "execute_result"
    }
   ],
   "source": [
    "F.cosine_similarity(analyst.trainer.model.embedding_seq_meta.weight[0], analyst.trainer.model.embedding_seq_meta.weight[1], dim=0)"
   ]
  },
  {
   "cell_type": "code",
   "execution_count": 29,
   "metadata": {},
   "outputs": [
    {
     "data": {
      "text/plain": [
       "tensor(-0.1703, grad_fn=<DivBackward0>)"
      ]
     },
     "execution_count": 29,
     "metadata": {},
     "output_type": "execute_result"
    }
   ],
   "source": [
    "F.cosine_similarity(analyst.trainer.model.embedding_seq_meta.weight[0], analyst.trainer.model.embedding_item_meta.weight[0], dim=0)"
   ]
  },
  {
   "cell_type": "code",
   "execution_count": 30,
   "metadata": {},
   "outputs": [
    {
     "data": {
      "text/plain": [
       "tensor(-0.1507, grad_fn=<DivBackward0>)"
      ]
     },
     "execution_count": 30,
     "metadata": {},
     "output_type": "execute_result"
    }
   ],
   "source": [
    "F.cosine_similarity(analyst.trainer.model.embedding_seq_meta.weight[0], analyst.trainer.model.embedding_item_meta.weight[5], dim=0)"
   ]
  },
  {
   "cell_type": "code",
   "execution_count": 31,
   "metadata": {},
   "outputs": [
    {
     "data": {
      "text/plain": [
       "tensor(0.0493, grad_fn=<DivBackward0>)"
      ]
     },
     "execution_count": 31,
     "metadata": {},
     "output_type": "execute_result"
    }
   ],
   "source": [
    "F.cosine_similarity(analyst.trainer.model.embedding_seq_meta.weight[0], analyst.trainer.model.embedding_item_meta.weight[10], dim=0)"
   ]
  },
  {
   "cell_type": "code",
   "execution_count": null,
   "metadata": {},
   "outputs": [],
   "source": []
  }
 ],
 "metadata": {
  "kernelspec": {
   "display_name": "Python 3.10.4 64-bit ('3.10.4')",
   "language": "python",
   "name": "python3"
  },
  "language_info": {
   "codemirror_mode": {
    "name": "ipython",
    "version": 3
   },
   "file_extension": ".py",
   "mimetype": "text/x-python",
   "name": "python",
   "nbconvert_exporter": "python",
   "pygments_lexer": "ipython3",
   "version": "3.10.4"
  },
  "orig_nbformat": 4,
  "vscode": {
   "interpreter": {
    "hash": "2a5fb540920344d2a30df49d123c0d51f1e8fc17e24494fc3a54f6f29186e4c7"
   }
  }
 },
 "nbformat": 4,
 "nbformat_minor": 2
}
