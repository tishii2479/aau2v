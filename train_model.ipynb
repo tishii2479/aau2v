{
 "cells": [
  {
   "cell_type": "code",
   "execution_count": null,
   "metadata": {},
   "outputs": [],
   "source": [
    "import numpy as np\n",
    "import torch\n",
    "import torch.nn.functional as F\n",
    "from scipy.stats import spearmanr\n",
    "import matplotlib.pyplot as plt\n",
    "\n",
    "from analyst import Analyst\n",
    "from config import ModelConfig, TrainerConfig\n",
    "from dataset import load_dataset_manager"
   ]
  },
  {
   "cell_type": "code",
   "execution_count": null,
   "metadata": {},
   "outputs": [],
   "source": [
    "torch.manual_seed(0)\n",
    "np.random.seed(0)\n",
    "\n",
    "trainer_config = TrainerConfig(\n",
    "    dataset_name=\"toydata-hard\", epochs=5, ignore_saved_model=True, load_model=False, batch_size=64\n",
    ")\n",
    "model_config = ModelConfig(d_model=128, lr=0.0001, init_embedding_std=0.2, normalize_embedding_weight=True)"
   ]
  },
  {
   "cell_type": "code",
   "execution_count": null,
   "metadata": {},
   "outputs": [],
   "source": [
    "trainer_config"
   ]
  },
  {
   "cell_type": "code",
   "execution_count": null,
   "metadata": {},
   "outputs": [],
   "source": [
    "model_config"
   ]
  },
  {
   "cell_type": "code",
   "execution_count": null,
   "metadata": {},
   "outputs": [],
   "source": [
    "dataset_manager = load_dataset_manager(\n",
    "    dataset_name=trainer_config.dataset_name,\n",
    "    dataset_dir=trainer_config.dataset_dir,\n",
    "    load_dataset=trainer_config.load_dataset,\n",
    "    save_dataset=trainer_config.save_dataset,\n",
    "    window_size=model_config.window_size,\n",
    ")"
   ]
  },
  {
   "cell_type": "code",
   "execution_count": null,
   "metadata": {},
   "outputs": [],
   "source": [
    "analyst = Analyst(\n",
    "    dataset_manager=dataset_manager,\n",
    "    trainer_config=trainer_config,\n",
    "    model_config=model_config,\n",
    ")"
   ]
  },
  {
   "cell_type": "code",
   "execution_count": null,
   "metadata": {},
   "outputs": [],
   "source": [
    "def calc_spearmanr(v, c):\n",
    "    p_c = []\n",
    "    for e in c:\n",
    "        for i, e2 in enumerate(v):\n",
    "            if e == e2[1]:\n",
    "                p_c.append(i)\n",
    "    p_v = list(range(len(v)))\n",
    "    return spearmanr(p_c, p_v)\n",
    "\n",
    "m_s = []\n",
    "f_s = []\n",
    "\n",
    "def on_epoch_start(epoch: int):\n",
    "    m_v = analyst.similarity_between_seq_meta_and_item_meta(\n",
    "        \"gender\", \"M\", \"genre\", method=\"inner-product\", num_top_values=30, verbose=True\n",
    "    )\n",
    "    f_v = analyst.similarity_between_seq_meta_and_item_meta(\n",
    "        \"gender\", \"F\", \"genre\", method=\"inner-product\", num_top_values=30, verbose=True\n",
    "    )\n",
    "    # f_c = [\n",
    "    #     \"Romance\",\n",
    "    #     \"Musical\",\n",
    "    #     \"Children's\",\n",
    "    #     \"Animation\",\n",
    "    #     \"Drama\",\n",
    "    #     \"Comedy\",\n",
    "    #     \"Mystery\",\n",
    "    #     \"Documentary\",\n",
    "    #     \"Fantasy\",\n",
    "    #     \"Film-Noir\",\n",
    "    #     \"Thriller\",\n",
    "    #     \"Crime\",\n",
    "    #     \"War\",\n",
    "    #     \"Adventure\",\n",
    "    #     \"Horror\",\n",
    "    #     \"Action\",\n",
    "    #     \"Sci-Fi\",\n",
    "    #     \"Western\"\n",
    "    # ]\n",
    "    # m_c = reversed(f_c)\n",
    "    # m_spearman = calc_spearmanr(m_v, m_c)\n",
    "    # f_spearman = calc_spearmanr(f_v, f_c)\n",
    "    # print(f\"M_spearman_result: {m_spearman}\")\n",
    "    # print(f\"F_spearman_result: {f_spearman}\")\n",
    "    # m_s.append(m_spearman.correlation)\n",
    "    # f_s.append(f_spearman.correlation)\n",
    "\n",
    "    # print(analyst.trainer.seq_meta_embedding)\n",
    "\n",
    "    # analyst.similarity_between_seq_meta_and_item_meta(\n",
    "    #     \"age\", \"10\", \"year\", method=\"inner-product\", num_top_values=30, verbose=True\n",
    "    # )\n",
    "    # analyst.similarity_between_seq_meta_and_item_meta(\n",
    "    #     \"age\", \"30\", \"year\", method=\"inner-product\", num_top_values=30, verbose=True\n",
    "    # )\n",
    "    # analyst.similarity_between_seq_meta_and_item_meta(\n",
    "    #     \"age\", \"50\", \"year\", method=\"inner-product\", num_top_values=30, verbose=True\n",
    "    # )\n",
    "\n",
    "    print(\n",
    "        \"seq:\",\n",
    "        analyst.trainer.model.embedding_seq.embedding_element.weight.data.mean(),\n",
    "        analyst.trainer.model.embedding_seq.embedding_element.weight.data.std(),\n",
    "        analyst.trainer.model.embedding_seq.embedding_meta.weight.data.mean(),\n",
    "        analyst.trainer.model.embedding_seq.embedding_meta.weight.data.std(),\n",
    "    )\n",
    "    print(\n",
    "        \"item:\",\n",
    "        analyst.trainer.model.embedding_item.embedding_element.weight.data.mean(),\n",
    "        analyst.trainer.model.embedding_item.embedding_element.weight.data.std(),\n",
    "        analyst.trainer.model.embedding_item.embedding_meta.weight.data.mean(),\n",
    "        analyst.trainer.model.embedding_item.embedding_meta.weight.data.std(),\n",
    "    )\n",
    "    print(F.cosine_similarity(analyst.trainer.model.embedding_seq.embedding_element.weight[6], analyst.trainer.model.embedding_seq.embedding_element.weight[7], dim=0))\n",
    "    analyst.visualize_meta_embedding(\"age\", \"year\", method=\"pca\")\n",
    "\n",
    "    # if epoch == 5:\n",
    "    #     analyst.trainer.model.set_train_mode(\"seq\")"
   ]
  },
  {
   "cell_type": "code",
   "execution_count": null,
   "metadata": {},
   "outputs": [],
   "source": [
    "analyst.fit(show_fig=False, on_epoch_start=on_epoch_start)"
   ]
  },
  {
   "cell_type": "code",
   "execution_count": null,
   "metadata": {},
   "outputs": [],
   "source": [
    "s = []\n",
    "for m, f in zip(m_s, f_s):\n",
    "    s.append(m+f)\n",
    "fig, ax = plt.subplots()\n",
    "ax.plot(m_s)\n",
    "ax.plot(f_s)\n",
    "ax.plot(s)"
   ]
  },
  {
   "cell_type": "code",
   "execution_count": null,
   "metadata": {},
   "outputs": [],
   "source": [
    "from sklearn.cluster import KMeans\n",
    "from util import visualize_cluster\n",
    "\n",
    "kmeans = KMeans(n_clusters=10)\n",
    "h_seq = list(analyst.trainer.seq_embedding.values())\n",
    "kmeans.fit(h_seq)"
   ]
  },
  {
   "cell_type": "code",
   "execution_count": null,
   "metadata": {},
   "outputs": [],
   "source": [
    "cluster_labels = kmeans.labels_"
   ]
  },
  {
   "cell_type": "code",
   "execution_count": null,
   "metadata": {},
   "outputs": [],
   "source": [
    "from collections import Counter\n",
    "for k, l in zip(analyst.trainer.seq_embedding.keys(), cluster_labels):\n",
    "    print(k, l)"
   ]
  },
  {
   "cell_type": "code",
   "execution_count": null,
   "metadata": {},
   "outputs": [],
   "source": []
  }
 ],
 "metadata": {
  "kernelspec": {
   "display_name": "Python 3.10.4 64-bit ('3.10.4')",
   "language": "python",
   "name": "python3"
  },
  "language_info": {
   "codemirror_mode": {
    "name": "ipython",
    "version": 3
   },
   "file_extension": ".py",
   "mimetype": "text/x-python",
   "name": "python",
   "nbconvert_exporter": "python",
   "pygments_lexer": "ipython3",
   "version": "3.10.4"
  },
  "vscode": {
   "interpreter": {
    "hash": "2a5fb540920344d2a30df49d123c0d51f1e8fc17e24494fc3a54f6f29186e4c7"
   }
  }
 },
 "nbformat": 4,
 "nbformat_minor": 2
}
