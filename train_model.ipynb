{
 "cells": [
  {
   "cell_type": "code",
   "execution_count": 1,
   "metadata": {},
   "outputs": [],
   "source": [
    "import numpy as np\n",
    "import torch\n",
    "\n",
    "from analyst import Analyst\n",
    "from config import ModelConfig, TrainerConfig\n",
    "from dataset import load_dataset_manager"
   ]
  },
  {
   "cell_type": "code",
   "execution_count": 2,
   "metadata": {},
   "outputs": [],
   "source": [
    "torch.manual_seed(24)\n",
    "np.random.seed(24)\n",
    "\n",
    "trainer_config = TrainerConfig(\n",
    "    dataset_name=\"toydata\", epochs=3, ignore_saved_model=True, load_model=False, batch_size=64\n",
    ")\n",
    "model_config = ModelConfig(d_model=64, lr=0.005, add_seq_embedding=True)"
   ]
  },
  {
   "cell_type": "code",
   "execution_count": 3,
   "metadata": {},
   "outputs": [
    {
     "data": {
      "text/plain": [
       "TrainerConfig(model_name='attentive2', dataset_name='toydata', epochs=3, batch_size=64, verbose=False, ignore_saved_model=True, load_model=False, save_model=True, load_dataset=True, save_dataset=True, cache_dir='cache/', dataset_dir='cache/dataset/')"
      ]
     },
     "execution_count": 3,
     "metadata": {},
     "output_type": "execute_result"
    }
   ],
   "source": [
    "trainer_config"
   ]
  },
  {
   "cell_type": "code",
   "execution_count": 4,
   "metadata": {},
   "outputs": [
    {
     "data": {
      "text/plain": [
       "ModelConfig(d_model=64, max_embedding_norm=None, window_size=8, negative_sample_size=5, lr=0.005, use_learnable_embedding=True, dropout=0.1, add_seq_embedding=True, add_positional_encoding=False)"
      ]
     },
     "execution_count": 4,
     "metadata": {},
     "output_type": "execute_result"
    }
   ],
   "source": [
    "model_config"
   ]
  },
  {
   "cell_type": "code",
   "execution_count": 5,
   "metadata": {},
   "outputs": [
    {
     "name": "stdout",
     "output_type": "stream",
     "text": [
      "load cached dataset_manager from: cache/dataset/toydata.pickle\n"
     ]
    }
   ],
   "source": [
    "dataset_manager = load_dataset_manager(\n",
    "    dataset_name=trainer_config.dataset_name,\n",
    "    dataset_dir=trainer_config.dataset_dir,\n",
    "    load_dataset=trainer_config.load_dataset,\n",
    "    save_dataset=trainer_config.save_dataset,\n",
    "    window_size=model_config.window_size,\n",
    ")"
   ]
  },
  {
   "cell_type": "code",
   "execution_count": 6,
   "metadata": {},
   "outputs": [],
   "source": [
    "analyst = Analyst(\n",
    "    dataset_manager=dataset_manager,\n",
    "    trainer_config=trainer_config,\n",
    "    model_config=model_config,\n",
    ")"
   ]
  },
  {
   "cell_type": "code",
   "execution_count": 9,
   "metadata": {},
   "outputs": [],
   "source": [
    "def on_epoch_start():\n",
    "    analyst.similarity_between_seq_meta_and_item_meta(\n",
    "        \"gender\", \"M\", \"genre\", method=\"attention\", num_top_values=30\n",
    "    )\n",
    "    analyst.similarity_between_seq_meta_and_item_meta(\n",
    "        \"gender\", \"F\", \"genre\", method=\"attention\", num_top_values=30\n",
    "    )"
   ]
  },
  {
   "cell_type": "code",
   "execution_count": 7,
   "metadata": {},
   "outputs": [
    {
     "name": "stdout",
     "output_type": "stream",
     "text": [
      "train start\n",
      "similarity of seq meta: gender:M for meta: genre\n",
      "0.0871 E5\n",
      "0.0468 E1\n",
      "-0.0134 F2\n",
      "-0.0440 M3\n",
      "-0.0482 E3\n",
      "-0.0575 F4\n",
      "-0.0577 F3\n",
      "-0.0594 M5\n",
      "-0.0606 M4\n",
      "-0.0652 F5\n",
      "-0.0728 M2\n",
      "-0.0843 E2\n",
      "-0.1026 F1\n",
      "-0.1050 M1\n",
      "-0.1303 E4\n",
      "similarity of seq meta: gender:F for meta: genre\n",
      "0.0869 E4\n",
      "0.0600 F4\n",
      "0.0514 M4\n",
      "0.0354 E3\n",
      "0.0251 F5\n",
      "0.0226 M1\n",
      "0.0175 F3\n",
      "0.0165 M5\n",
      "0.0033 M2\n",
      "-0.0013 E2\n",
      "-0.0069 F1\n",
      "-0.0239 F2\n",
      "-0.0485 M3\n",
      "-0.0681 E1\n",
      "-0.0777 E5\n"
     ]
    },
    {
     "name": "stderr",
     "output_type": "stream",
     "text": [
      "100%|██████████| 7313/7313 [00:54<00:00, 135.09it/s]\n",
      "100%|██████████| 1688/1688 [00:03<00:00, 537.59it/s]\n"
     ]
    },
    {
     "name": "stdout",
     "output_type": "stream",
     "text": [
      "Epoch: 1, loss: 0.1742909758932594, test_loss: {'test': 0.2949624671755244}\n",
      "saved best model to cache/best-toydata-attentive2.pt\n",
      "similarity of seq meta: gender:M for meta: genre\n",
      "3.1331 F4\n",
      "2.7503 F5\n",
      "2.6657 F1\n",
      "2.6347 F2\n",
      "2.4765 F3\n",
      "0.8925 E3\n",
      "0.7611 E2\n",
      "0.5469 E4\n",
      "0.4711 E5\n",
      "0.3025 E1\n",
      "-0.6006 M4\n",
      "-0.8594 M3\n",
      "-1.2329 M5\n",
      "-1.2676 M2\n",
      "-1.3727 M1\n",
      "similarity of seq meta: gender:F for meta: genre\n",
      "2.6060 F5\n",
      "2.5689 F4\n",
      "2.5021 F1\n",
      "2.4371 F2\n",
      "1.9736 F3\n",
      "0.2013 E2\n",
      "0.0980 E1\n",
      "0.0474 E3\n",
      "-0.0827 E5\n",
      "-0.1364 E4\n",
      "-3.5081 M4\n",
      "-3.5141 M3\n",
      "-3.5687 M2\n",
      "-3.9986 M1\n",
      "-4.0929 M5\n"
     ]
    },
    {
     "name": "stderr",
     "output_type": "stream",
     "text": [
      "100%|██████████| 7313/7313 [01:01<00:00, 119.04it/s]\n",
      "100%|██████████| 1688/1688 [00:03<00:00, 561.05it/s]\n"
     ]
    },
    {
     "name": "stdout",
     "output_type": "stream",
     "text": [
      "Epoch: 2, loss: 0.12074755961614123, test_loss: {'test': 0.25235539522922434}\n",
      "saved best model to cache/best-toydata-attentive2.pt\n",
      "similarity of seq meta: gender:M for meta: genre\n",
      "17.2629 F4\n",
      "15.0238 F2\n",
      "14.7830 F5\n",
      "14.7186 F1\n",
      "14.3125 F3\n",
      "-0.7672 E3\n",
      "-1.4694 E4\n",
      "-1.8407 E2\n",
      "-2.8898 E1\n",
      "-3.2368 E5\n",
      "-10.2513 M4\n",
      "-10.3460 M1\n",
      "-10.4000 M3\n",
      "-10.8972 M5\n",
      "-11.8694 M2\n",
      "similarity of seq meta: gender:F for meta: genre\n",
      "6.1462 F5\n",
      "6.0468 F4\n",
      "5.6439 F1\n",
      "5.1559 F3\n",
      "5.1124 F2\n",
      "-3.2429 E4\n",
      "-3.2816 E1\n",
      "-3.7868 E2\n",
      "-4.4023 E5\n",
      "-4.6783 E3\n",
      "-9.7382 M3\n",
      "-10.1607 M4\n",
      "-10.4108 M5\n",
      "-10.5728 M1\n",
      "-10.5741 M2\n"
     ]
    },
    {
     "name": "stderr",
     "output_type": "stream",
     "text": [
      "100%|██████████| 7313/7313 [00:54<00:00, 133.16it/s]\n",
      "100%|██████████| 1688/1688 [00:03<00:00, 545.24it/s]"
     ]
    },
    {
     "name": "stdout",
     "output_type": "stream",
     "text": [
      "Epoch: 3, loss: 0.10701453017724713, test_loss: {'test': 0.2652494806831623}\n",
      "train end\n",
      "saved model to cache/toydata-attentive2.pt\n",
      "similarity of seq meta: gender:M for meta: genre\n",
      "16.8638 F4\n",
      "15.5901 F1\n",
      "14.5311 F3\n",
      "14.3995 F2\n",
      "14.3376 F5\n",
      "1.9056 E4\n",
      "1.2715 E3\n",
      "0.7206 E5\n",
      "0.3628 E2\n",
      "0.1186 E1\n",
      "-13.5402 M4\n",
      "-14.5593 M3\n",
      "-14.7161 M5\n",
      "-15.7237 M1\n",
      "-16.7570 M2\n",
      "similarity of seq meta: gender:F for meta: genre\n",
      "0.6540 F5\n",
      "0.5341 F1\n",
      "0.3017 F3\n",
      "0.0045 E4\n",
      "-0.1591 F4\n",
      "-0.1853 F2\n",
      "-0.7678 E5\n",
      "-1.1491 E1\n",
      "-1.4892 E3\n",
      "-1.8698 E2\n",
      "-2.9776 M4\n",
      "-3.2895 M3\n",
      "-3.2970 M1\n",
      "-3.7731 M5\n",
      "-4.5565 M2\n"
     ]
    },
    {
     "name": "stderr",
     "output_type": "stream",
     "text": [
      "\n"
     ]
    }
   ],
   "source": [
    "analyst.fit(show_fig=False, on_epoch_start=on_epoch_start)\n",
    "on_epoch_start()"
   ]
  },
  {
   "cell_type": "code",
   "execution_count": 8,
   "metadata": {},
   "outputs": [
    {
     "data": {
      "image/png": "[encoded data removed]",
      "text/plain": [
       "<Figure size 432x288 with 1 Axes>"
      ]
     },
     "metadata": {
      "needs_background": "light"
     },
     "output_type": "display_data"
    }
   ],
   "source": [
    "analyst.visualize_meta_embedding(\"gender\", \"genre\", method=\"pca\")"
   ]
  },
  {
   "cell_type": "code",
   "execution_count": null,
   "metadata": {},
   "outputs": [],
   "source": []
  }
 ],
 "metadata": {
  "kernelspec": {
   "display_name": "Python 3.10.4 64-bit ('3.10.4')",
   "language": "python",
   "name": "python3"
  },
  "language_info": {
   "codemirror_mode": {
    "name": "ipython",
    "version": 3
   },
   "file_extension": ".py",
   "mimetype": "text/x-python",
   "name": "python",
   "nbconvert_exporter": "python",
   "pygments_lexer": "ipython3",
   "version": "3.10.4"
  },
  "orig_nbformat": 4,
  "vscode": {
   "interpreter": {
    "hash": "2a5fb540920344d2a30df49d123c0d51f1e8fc17e24494fc3a54f6f29186e4c7"
   }
  }
 },
 "nbformat": 4,
 "nbformat_minor": 2
}
