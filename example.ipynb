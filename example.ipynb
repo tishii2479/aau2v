{
 "cells": [
  {
   "cell_type": "code",
   "execution_count": 1,
   "metadata": {},
   "outputs": [
    {
     "name": "stderr",
     "output_type": "stream",
     "text": [
      "/Users/tatsuyaishii/dev/clones/my-doc2vec/.venv/lib/python3.10/site-packages/tqdm/auto.py:22: TqdmWarning: IProgress not found. Please update jupyter and ipywidgets. See https://ipywidgets.readthedocs.io/en/stable/user_install.html\n",
      "  from .autonotebook import tqdm as notebook_tqdm\n"
     ]
    }
   ],
   "source": [
    "import os\n",
    "import sys\n",
    "from pathlib import Path\n",
    "sys.path.append(os.path.join(Path().resolve(), \"src/\"))\n",
    "\n",
    "from src.config import ModelConfig, TrainerConfig\n",
    "from src.dataset_manager import load_dataset_manager\n",
    "from src.trainers import PyTorchTrainer\n",
    "from src.analyst import Analyst\n",
    "from src.model import load_model"
   ]
  },
  {
   "cell_type": "code",
   "execution_count": 2,
   "metadata": {},
   "outputs": [],
   "source": [
    "# 設定\n",
    "model_config = ModelConfig()\n",
    "trainer_config = TrainerConfig()"
   ]
  },
  {
   "cell_type": "code",
   "execution_count": 3,
   "metadata": {},
   "outputs": [
    {
     "name": "stdout",
     "output_type": "stream",
     "text": [
      "load cached dataset_manager from: cache/dataset/toydata-small.pickle\n"
     ]
    }
   ],
   "source": [
    "# データセットのロード\n",
    "dataset_manager = load_dataset_manager(\n",
    "    dataset_name=trainer_config.dataset_name,\n",
    "    dataset_dir=trainer_config.dataset_dir,\n",
    "    load_dataset=trainer_config.load_dataset,\n",
    "    save_dataset=trainer_config.save_dataset,\n",
    "    window_size=model_config.window_size,\n",
    ")\n",
    "\n",
    "# 自分でデータセットを作る場合\n",
    "# RawDatasetの作り方はRawDatasetを参照する\n",
    "# dataset = RawDataset(\n",
    "#     ...\n",
    "# )\n",
    "# dataset_manager = DatasetManager(\n",
    "#     dataset=dataset,\n",
    "#     window_size=model_config.window_size\n",
    "# )"
   ]
  },
  {
   "cell_type": "code",
   "execution_count": 4,
   "metadata": {},
   "outputs": [
    {
     "name": "stdout",
     "output_type": "stream",
     "text": [
      "load_state_dict from: cache/model/toydata-small/attentive.pt\n"
     ]
    }
   ],
   "source": [
    "# modelの作成\n",
    "model = load_model(\n",
    "    dataset_manager=dataset_manager,\n",
    "    trainer_config=trainer_config,\n",
    "    model_config=model_config\n",
    ")"
   ]
  },
  {
   "cell_type": "code",
   "execution_count": 5,
   "metadata": {},
   "outputs": [],
   "source": [
    "# Trainerの作成\n",
    "trainer = PyTorchTrainer(\n",
    "    model=model,\n",
    "    dataset_manager=dataset_manager,\n",
    "    trainer_config=trainer_config,\n",
    "    model_config=model_config,\n",
    ")"
   ]
  },
  {
   "cell_type": "code",
   "execution_count": 6,
   "metadata": {},
   "outputs": [
    {
     "name": "stdout",
     "output_type": "stream",
     "text": [
      "train start\n"
     ]
    },
    {
     "name": "stderr",
     "output_type": "stream",
     "text": [
      "100%|██████████| 71/71 [00:00<00:00, 133.08it/s]\n",
      "100%|██████████| 71/71 [00:00<00:00, 450.00it/s]\n"
     ]
    },
    {
     "name": "stdout",
     "output_type": "stream",
     "text": [
      "Epoch: 1, loss: 0.2867270032284965, test_loss: {'test': 0.2838674078524952}\n",
      "saved best model to cache/model/toydata-small/best-attentive.pt\n"
     ]
    },
    {
     "name": "stderr",
     "output_type": "stream",
     "text": [
      "100%|██████████| 71/71 [00:00<00:00, 135.76it/s]\n",
      "100%|██████████| 71/71 [00:00<00:00, 439.87it/s]\n"
     ]
    },
    {
     "name": "stdout",
     "output_type": "stream",
     "text": [
      "Epoch: 2, loss: 0.2812870144844055, test_loss: {'test': 0.2787350126555268}\n",
      "saved best model to cache/model/toydata-small/best-attentive.pt\n"
     ]
    },
    {
     "name": "stderr",
     "output_type": "stream",
     "text": [
      "100%|██████████| 71/71 [00:00<00:00, 134.19it/s]\n",
      "100%|██████████| 71/71 [00:00<00:00, 421.91it/s]"
     ]
    },
    {
     "name": "stdout",
     "output_type": "stream",
     "text": [
      "Epoch: 3, loss: 0.2765140797890408, test_loss: {'test': 0.2739204999426721}\n",
      "saved best model to cache/model/toydata-small/best-attentive.pt\n",
      "train end\n",
      "saved model to cache/model/toydata-small/attentive.pt\n"
     ]
    },
    {
     "name": "stderr",
     "output_type": "stream",
     "text": [
      "\n"
     ]
    },
    {
     "data": {
      "text/plain": [
       "{'train': [0.2867270032284965, 0.2812870144844055, 0.2765140797890408],\n",
       " 'test': [0.2838674078524952, 0.2787350126555268, 0.2739204999426721]}"
      ]
     },
     "execution_count": 6,
     "metadata": {},
     "output_type": "execute_result"
    }
   ],
   "source": [
    "# モデルの学習\n",
    "trainer.fit()"
   ]
  },
  {
   "cell_type": "code",
   "execution_count": 7,
   "metadata": {},
   "outputs": [],
   "source": [
    "# Analyst（モデルの出力を分析するクラス）インスタンスの作成\n",
    "analyst = Analyst(model, dataset_manager)"
   ]
  },
  {
   "cell_type": "code",
   "execution_count": 8,
   "metadata": {},
   "outputs": [
    {
     "data": {
      "text/html": [
       "<div>\n",
       "<style scoped>\n",
       "    .dataframe tbody tr th:only-of-type {\n",
       "        vertical-align: middle;\n",
       "    }\n",
       "\n",
       "    .dataframe tbody tr th {\n",
       "        vertical-align: top;\n",
       "    }\n",
       "\n",
       "    .dataframe thead th {\n",
       "        text-align: right;\n",
       "    }\n",
       "</style>\n",
       "<table border=\"1\" class=\"dataframe\">\n",
       "  <thead>\n",
       "    <tr style=\"text-align: right;\">\n",
       "      <th></th>\n",
       "      <th>similarity</th>\n",
       "      <th>item</th>\n",
       "    </tr>\n",
       "  </thead>\n",
       "  <tbody>\n",
       "    <tr>\n",
       "      <th>0</th>\n",
       "      <td>0.471796</td>\n",
       "      <td>v_1_M_2000</td>\n",
       "    </tr>\n",
       "    <tr>\n",
       "      <th>1</th>\n",
       "      <td>0.273585</td>\n",
       "      <td>v_1_E_2000</td>\n",
       "    </tr>\n",
       "    <tr>\n",
       "      <th>2</th>\n",
       "      <td>0.118253</td>\n",
       "      <td>v_2_E_2000</td>\n",
       "    </tr>\n",
       "    <tr>\n",
       "      <th>3</th>\n",
       "      <td>0.118253</td>\n",
       "      <td>v_2_E_2000</td>\n",
       "    </tr>\n",
       "    <tr>\n",
       "      <th>4</th>\n",
       "      <td>0.110747</td>\n",
       "      <td>v_2_F_1990</td>\n",
       "    </tr>\n",
       "    <tr>\n",
       "      <th>5</th>\n",
       "      <td>0.008540</td>\n",
       "      <td>v_2_M_1960</td>\n",
       "    </tr>\n",
       "    <tr>\n",
       "      <th>6</th>\n",
       "      <td>-0.105330</td>\n",
       "      <td>v_1_M_1980</td>\n",
       "    </tr>\n",
       "    <tr>\n",
       "      <th>7</th>\n",
       "      <td>-0.107204</td>\n",
       "      <td>v_1_F_2000</td>\n",
       "    </tr>\n",
       "    <tr>\n",
       "      <th>8</th>\n",
       "      <td>-0.210813</td>\n",
       "      <td>v_2_F_2000</td>\n",
       "    </tr>\n",
       "    <tr>\n",
       "      <th>9</th>\n",
       "      <td>-0.210813</td>\n",
       "      <td>v_2_F_2000</td>\n",
       "    </tr>\n",
       "  </tbody>\n",
       "</table>\n",
       "</div>"
      ],
      "text/plain": [
       "   similarity        item\n",
       "0    0.471796  v_1_M_2000\n",
       "1    0.273585  v_1_E_2000\n",
       "2    0.118253  v_2_E_2000\n",
       "3    0.118253  v_2_E_2000\n",
       "4    0.110747  v_2_F_1990\n",
       "5    0.008540  v_2_M_1960\n",
       "6   -0.105330  v_1_M_1980\n",
       "7   -0.107204  v_1_F_2000\n",
       "8   -0.210813  v_2_F_2000\n",
       "9   -0.210813  v_2_F_2000"
      ]
     },
     "execution_count": 8,
     "metadata": {},
     "output_type": "execute_result"
    }
   ],
   "source": [
    "# 系列と要素の関連性（デフォルトだと内積）の出力\n",
    "analyst.similarity_between_seq_and_item(seq_index=0, num_recent_items=10)"
   ]
  },
  {
   "cell_type": "code",
   "execution_count": 9,
   "metadata": {},
   "outputs": [
    {
     "data": {
      "text/html": [
       "<div>\n",
       "<style scoped>\n",
       "    .dataframe tbody tr th:only-of-type {\n",
       "        vertical-align: middle;\n",
       "    }\n",
       "\n",
       "    .dataframe tbody tr th {\n",
       "        vertical-align: top;\n",
       "    }\n",
       "\n",
       "    .dataframe thead th {\n",
       "        text-align: right;\n",
       "    }\n",
       "</style>\n",
       "<table border=\"1\" class=\"dataframe\">\n",
       "  <thead>\n",
       "    <tr style=\"text-align: right;\">\n",
       "      <th></th>\n",
       "      <th>similarity</th>\n",
       "      <th>item_meta</th>\n",
       "    </tr>\n",
       "  </thead>\n",
       "  <tbody>\n",
       "    <tr>\n",
       "      <th>0</th>\n",
       "      <td>0.075607</td>\n",
       "      <td>genre:F</td>\n",
       "    </tr>\n",
       "    <tr>\n",
       "      <th>1</th>\n",
       "      <td>-0.138014</td>\n",
       "      <td>genre:E</td>\n",
       "    </tr>\n",
       "    <tr>\n",
       "      <th>2</th>\n",
       "      <td>-0.477986</td>\n",
       "      <td>genre:M</td>\n",
       "    </tr>\n",
       "  </tbody>\n",
       "</table>\n",
       "</div>"
      ],
      "text/plain": [
       "   similarity item_meta\n",
       "0    0.075607   genre:F\n",
       "1   -0.138014   genre:E\n",
       "2   -0.477986   genre:M"
      ]
     },
     "execution_count": 9,
     "metadata": {},
     "output_type": "execute_result"
    }
   ],
   "source": [
    "# 系列と要素の補助情報の関連性（デフォルトだと内積）の出力\n",
    "analyst.similarity_between_seq_and_item_meta(seq_index=0, item_meta_name=\"genre\")"
   ]
  },
  {
   "cell_type": "code",
   "execution_count": 10,
   "metadata": {},
   "outputs": [
    {
     "data": {
      "text/html": [
       "<div>\n",
       "<style scoped>\n",
       "    .dataframe tbody tr th:only-of-type {\n",
       "        vertical-align: middle;\n",
       "    }\n",
       "\n",
       "    .dataframe tbody tr th {\n",
       "        vertical-align: top;\n",
       "    }\n",
       "\n",
       "    .dataframe thead th {\n",
       "        text-align: right;\n",
       "    }\n",
       "</style>\n",
       "<table border=\"1\" class=\"dataframe\">\n",
       "  <thead>\n",
       "    <tr style=\"text-align: right;\">\n",
       "      <th></th>\n",
       "      <th>similarity</th>\n",
       "      <th>item_meta</th>\n",
       "    </tr>\n",
       "  </thead>\n",
       "  <tbody>\n",
       "    <tr>\n",
       "      <th>0</th>\n",
       "      <td>0.220435</td>\n",
       "      <td>genre:E</td>\n",
       "    </tr>\n",
       "    <tr>\n",
       "      <th>1</th>\n",
       "      <td>-0.216667</td>\n",
       "      <td>genre:F</td>\n",
       "    </tr>\n",
       "    <tr>\n",
       "      <th>2</th>\n",
       "      <td>-0.272493</td>\n",
       "      <td>genre:M</td>\n",
       "    </tr>\n",
       "  </tbody>\n",
       "</table>\n",
       "</div>"
      ],
      "text/plain": [
       "   similarity item_meta\n",
       "0    0.220435   genre:E\n",
       "1   -0.216667   genre:F\n",
       "2   -0.272493   genre:M"
      ]
     },
     "execution_count": 10,
     "metadata": {},
     "output_type": "execute_result"
    }
   ],
   "source": [
    "# 系列の補助情報と要素の補助情報の関連性（デフォルトだと内積）の出力\n",
    "analyst.similarity_between_seq_meta_and_item_meta(\"gender\", \"M\", \"genre\")"
   ]
  },
  {
   "cell_type": "code",
   "execution_count": 11,
   "metadata": {},
   "outputs": [
    {
     "data": {
      "text/html": [
       "<div>\n",
       "<style scoped>\n",
       "    .dataframe tbody tr th:only-of-type {\n",
       "        vertical-align: middle;\n",
       "    }\n",
       "\n",
       "    .dataframe tbody tr th {\n",
       "        vertical-align: top;\n",
       "    }\n",
       "\n",
       "    .dataframe thead th {\n",
       "        text-align: right;\n",
       "    }\n",
       "</style>\n",
       "<table border=\"1\" class=\"dataframe\">\n",
       "  <thead>\n",
       "    <tr style=\"text-align: right;\">\n",
       "      <th></th>\n",
       "      <th>similarity</th>\n",
       "      <th>seq</th>\n",
       "      <th>item</th>\n",
       "    </tr>\n",
       "  </thead>\n",
       "  <tbody>\n",
       "    <tr>\n",
       "      <th>0</th>\n",
       "      <td>1.497893</td>\n",
       "      <td>gender:F</td>\n",
       "      <td>genre:F</td>\n",
       "    </tr>\n",
       "    <tr>\n",
       "      <th>1</th>\n",
       "      <td>1.166353</td>\n",
       "      <td>age:20</td>\n",
       "      <td>genre:M</td>\n",
       "    </tr>\n",
       "    <tr>\n",
       "      <th>2</th>\n",
       "      <td>0.787450</td>\n",
       "      <td>gender:F</td>\n",
       "      <td>genre:E</td>\n",
       "    </tr>\n",
       "    <tr>\n",
       "      <th>3</th>\n",
       "      <td>0.711529</td>\n",
       "      <td>gender:F</td>\n",
       "      <td>year:1990</td>\n",
       "    </tr>\n",
       "    <tr>\n",
       "      <th>4</th>\n",
       "      <td>0.702425</td>\n",
       "      <td>age:20</td>\n",
       "      <td>year:2000</td>\n",
       "    </tr>\n",
       "    <tr>\n",
       "      <th>5</th>\n",
       "      <td>0.602711</td>\n",
       "      <td>gender:F</td>\n",
       "      <td>year:1980</td>\n",
       "    </tr>\n",
       "    <tr>\n",
       "      <th>6</th>\n",
       "      <td>0.485062</td>\n",
       "      <td>gender:F</td>\n",
       "      <td>year:1960</td>\n",
       "    </tr>\n",
       "    <tr>\n",
       "      <th>7</th>\n",
       "      <td>0.419317</td>\n",
       "      <td>gender:F</td>\n",
       "      <td>year:2000</td>\n",
       "    </tr>\n",
       "    <tr>\n",
       "      <th>8</th>\n",
       "      <td>0.348917</td>\n",
       "      <td>u_0_F_20_20_F1</td>\n",
       "      <td>year:1980</td>\n",
       "    </tr>\n",
       "    <tr>\n",
       "      <th>9</th>\n",
       "      <td>0.282189</td>\n",
       "      <td>age:20</td>\n",
       "      <td>genre:F</td>\n",
       "    </tr>\n",
       "    <tr>\n",
       "      <th>10</th>\n",
       "      <td>0.139971</td>\n",
       "      <td>gender:F</td>\n",
       "      <td>genre:M</td>\n",
       "    </tr>\n",
       "    <tr>\n",
       "      <th>11</th>\n",
       "      <td>0.128128</td>\n",
       "      <td>u_0_F_20_20_F1</td>\n",
       "      <td>year:1990</td>\n",
       "    </tr>\n",
       "    <tr>\n",
       "      <th>12</th>\n",
       "      <td>0.126722</td>\n",
       "      <td>age:20</td>\n",
       "      <td>year:1960</td>\n",
       "    </tr>\n",
       "    <tr>\n",
       "      <th>13</th>\n",
       "      <td>0.108416</td>\n",
       "      <td>u_0_F_20_20_F1</td>\n",
       "      <td>year:1960</td>\n",
       "    </tr>\n",
       "    <tr>\n",
       "      <th>14</th>\n",
       "      <td>0.075607</td>\n",
       "      <td>u_0_F_20_20_F1</td>\n",
       "      <td>genre:F</td>\n",
       "    </tr>\n",
       "    <tr>\n",
       "      <th>15</th>\n",
       "      <td>-0.097302</td>\n",
       "      <td>u_0_F_20_20_F1</td>\n",
       "      <td>year:2000</td>\n",
       "    </tr>\n",
       "    <tr>\n",
       "      <th>16</th>\n",
       "      <td>-0.138014</td>\n",
       "      <td>u_0_F_20_20_F1</td>\n",
       "      <td>genre:E</td>\n",
       "    </tr>\n",
       "    <tr>\n",
       "      <th>17</th>\n",
       "      <td>-0.138775</td>\n",
       "      <td>age:20</td>\n",
       "      <td>year:1970</td>\n",
       "    </tr>\n",
       "    <tr>\n",
       "      <th>18</th>\n",
       "      <td>-0.292832</td>\n",
       "      <td>gender:F</td>\n",
       "      <td>year:1970</td>\n",
       "    </tr>\n",
       "    <tr>\n",
       "      <th>19</th>\n",
       "      <td>-0.471985</td>\n",
       "      <td>u_0_F_20_20_F1</td>\n",
       "      <td>year:1970</td>\n",
       "    </tr>\n",
       "    <tr>\n",
       "      <th>20</th>\n",
       "      <td>-0.477986</td>\n",
       "      <td>u_0_F_20_20_F1</td>\n",
       "      <td>genre:M</td>\n",
       "    </tr>\n",
       "    <tr>\n",
       "      <th>21</th>\n",
       "      <td>-0.504927</td>\n",
       "      <td>age:20</td>\n",
       "      <td>year:1990</td>\n",
       "    </tr>\n",
       "    <tr>\n",
       "      <th>22</th>\n",
       "      <td>-0.515978</td>\n",
       "      <td>age:20</td>\n",
       "      <td>year:1980</td>\n",
       "    </tr>\n",
       "    <tr>\n",
       "      <th>23</th>\n",
       "      <td>-0.604500</td>\n",
       "      <td>age:20</td>\n",
       "      <td>genre:E</td>\n",
       "    </tr>\n",
       "  </tbody>\n",
       "</table>\n",
       "</div>"
      ],
      "text/plain": [
       "    similarity             seq       item\n",
       "0     1.497893        gender:F    genre:F\n",
       "1     1.166353          age:20    genre:M\n",
       "2     0.787450        gender:F    genre:E\n",
       "3     0.711529        gender:F  year:1990\n",
       "4     0.702425          age:20  year:2000\n",
       "5     0.602711        gender:F  year:1980\n",
       "6     0.485062        gender:F  year:1960\n",
       "7     0.419317        gender:F  year:2000\n",
       "8     0.348917  u_0_F_20_20_F1  year:1980\n",
       "9     0.282189          age:20    genre:F\n",
       "10    0.139971        gender:F    genre:M\n",
       "11    0.128128  u_0_F_20_20_F1  year:1990\n",
       "12    0.126722          age:20  year:1960\n",
       "13    0.108416  u_0_F_20_20_F1  year:1960\n",
       "14    0.075607  u_0_F_20_20_F1    genre:F\n",
       "15   -0.097302  u_0_F_20_20_F1  year:2000\n",
       "16   -0.138014  u_0_F_20_20_F1    genre:E\n",
       "17   -0.138775          age:20  year:1970\n",
       "18   -0.292832        gender:F  year:1970\n",
       "19   -0.471985  u_0_F_20_20_F1  year:1970\n",
       "20   -0.477986  u_0_F_20_20_F1    genre:M\n",
       "21   -0.504927          age:20  year:1990\n",
       "22   -0.515978          age:20  year:1980\n",
       "23   -0.604500          age:20    genre:E"
      ]
     },
     "execution_count": 11,
     "metadata": {},
     "output_type": "execute_result"
    }
   ],
   "source": [
    "# 系列と要素の固有の特徴と補助情報の関連性（デフォルトだと内積）の出力\n",
    "analyst.analyze_seq(seq_index=0)"
   ]
  },
  {
   "cell_type": "code",
   "execution_count": 12,
   "metadata": {},
   "outputs": [
    {
     "data": {
      "text/plain": [
       "(<Figure size 800x400 with 2 Axes>, <AxesSubplot: >)"
      ]
     },
     "execution_count": 12,
     "metadata": {},
     "output_type": "execute_result"
    },
    {
     "data": {
      "image/png": "[encoded data removed]",
      "text/plain": [
       "<Figure size 800x400 with 2 Axes>"
      ]
     },
     "metadata": {},
     "output_type": "display_data"
    }
   ],
   "source": [
    "# 補助情報のヒートマップの作成\n",
    "seq_meta_names = [\"gender:M\", \"gender:F\", \"age:20\", \"age:30\", \"age:40\", \"age:50\", \"age:60\"]\n",
    "item_meta_names = [\"genre:M\", \"genre:E\", \"genre:F\", \"year:1960\", \"year:1970\", \"year:1980\", \"year:1990\", \"year:2000\"]\n",
    "analyst.visualize_similarity_heatmap(seq_meta_names, item_meta_names, figsize=(8, 4))"
   ]
  },
  {
   "cell_type": "code",
   "execution_count": null,
   "metadata": {},
   "outputs": [],
   "source": []
  }
 ],
 "metadata": {
  "kernelspec": {
   "display_name": ".venv",
   "language": "python",
   "name": "python3"
  },
  "language_info": {
   "codemirror_mode": {
    "name": "ipython",
    "version": 3
   },
   "file_extension": ".py",
   "mimetype": "text/x-python",
   "name": "python",
   "nbconvert_exporter": "python",
   "pygments_lexer": "ipython3",
   "version": "3.10.4"
  },
  "orig_nbformat": 4
 },
 "nbformat": 4,
 "nbformat_minor": 2
}
