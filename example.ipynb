{
 "cells": [
  {
   "cell_type": "code",
   "execution_count": 29,
   "metadata": {},
   "outputs": [],
   "source": [
    "import os\n",
    "import sys\n",
    "from pathlib import Path\n",
    "sys.path.append(os.path.join(Path().resolve(), \"src/\"))\n",
    "\n",
    "from src.config import ModelConfig, TrainerConfig\n",
    "from src.dataset import load_dataset_manager\n",
    "from src.trainers import PyTorchTrainer\n",
    "from src.analyst import Analyst"
   ]
  },
  {
   "cell_type": "code",
   "execution_count": 15,
   "metadata": {},
   "outputs": [],
   "source": [
    "# コンフィグの設定\n",
    "model_config = ModelConfig()\n",
    "trainer_config = TrainerConfig()"
   ]
  },
  {
   "cell_type": "code",
   "execution_count": 26,
   "metadata": {},
   "outputs": [
    {
     "name": "stdout",
     "output_type": "stream",
     "text": [
      "load cached dataset_manager from: cache/dataset/toydata-small.pickle\n"
     ]
    }
   ],
   "source": [
    "# データセットのロード\n",
    "dataset_manager = load_dataset_manager(\n",
    "    dataset_name=trainer_config.dataset_name,\n",
    "    dataset_dir=trainer_config.dataset_dir,\n",
    "    load_dataset=trainer_config.load_dataset,\n",
    "    save_dataset=trainer_config.save_dataset,\n",
    "    window_size=model_config.window_size,\n",
    ")"
   ]
  },
  {
   "cell_type": "code",
   "execution_count": 17,
   "metadata": {},
   "outputs": [
    {
     "name": "stdout",
     "output_type": "stream",
     "text": [
      "load_state_dict from: cache/model/toydata-small/attentive.pt\n"
     ]
    }
   ],
   "source": [
    "# Trainerの作成\n",
    "trainer = PyTorchTrainer(\n",
    "    dataset_manager=dataset_manager,\n",
    "    trainer_config=trainer_config,\n",
    "    model_config=model_config,\n",
    ")"
   ]
  },
  {
   "cell_type": "code",
   "execution_count": 18,
   "metadata": {},
   "outputs": [
    {
     "name": "stdout",
     "output_type": "stream",
     "text": [
      "train start\n"
     ]
    },
    {
     "name": "stderr",
     "output_type": "stream",
     "text": [
      "100%|██████████| 71/71 [00:00<00:00, 112.79it/s]\n",
      "100%|██████████| 71/71 [00:00<00:00, 319.97it/s]\n"
     ]
    },
    {
     "name": "stdout",
     "output_type": "stream",
     "text": [
      "Epoch: 1, loss: 0.23958276485053587, test_loss: {'test': 0.24000655660327053}\n",
      "saved best model to cache/model/toydata-small/best-attentive.pt\n"
     ]
    },
    {
     "name": "stderr",
     "output_type": "stream",
     "text": [
      "100%|██████████| 71/71 [00:00<00:00, 103.14it/s]\n",
      "100%|██████████| 71/71 [00:00<00:00, 321.63it/s]\n"
     ]
    },
    {
     "name": "stdout",
     "output_type": "stream",
     "text": [
      "Epoch: 2, loss: 0.23891678158666046, test_loss: {'test': 0.238784843347442}\n",
      "saved best model to cache/model/toydata-small/best-attentive.pt\n"
     ]
    },
    {
     "name": "stderr",
     "output_type": "stream",
     "text": [
      "100%|██████████| 71/71 [00:00<00:00, 113.87it/s]\n",
      "100%|██████████| 71/71 [00:00<00:00, 338.20it/s]"
     ]
    },
    {
     "name": "stdout",
     "output_type": "stream",
     "text": [
      "Epoch: 3, loss: 0.2379332417753381, test_loss: {'test': 0.23831479922986368}\n",
      "saved best model to cache/model/toydata-small/best-attentive.pt\n",
      "train end\n",
      "saved model to cache/model/toydata-small/attentive.pt\n"
     ]
    },
    {
     "name": "stderr",
     "output_type": "stream",
     "text": [
      "\n"
     ]
    },
    {
     "data": {
      "text/plain": [
       "{'train': [0.23958276485053587, 0.23891678158666046, 0.2379332417753381],\n",
       " 'test': [0.24000655660327053, 0.238784843347442, 0.23831479922986368]}"
      ]
     },
     "execution_count": 18,
     "metadata": {},
     "output_type": "execute_result"
    }
   ],
   "source": [
    "# モデルの学習\n",
    "trainer.fit()"
   ]
  },
  {
   "cell_type": "code",
   "execution_count": 19,
   "metadata": {},
   "outputs": [],
   "source": [
    "# Analyst（モデルの出力を分析するクラス）インスタンスの作成\n",
    "analyst = Analyst(trainer.model, dataset_manager)"
   ]
  },
  {
   "cell_type": "code",
   "execution_count": 20,
   "metadata": {},
   "outputs": [
    {
     "data": {
      "text/html": [
       "<div>\n",
       "<style scoped>\n",
       "    .dataframe tbody tr th:only-of-type {\n",
       "        vertical-align: middle;\n",
       "    }\n",
       "\n",
       "    .dataframe tbody tr th {\n",
       "        vertical-align: top;\n",
       "    }\n",
       "\n",
       "    .dataframe thead th {\n",
       "        text-align: right;\n",
       "    }\n",
       "</style>\n",
       "<table border=\"1\" class=\"dataframe\">\n",
       "  <thead>\n",
       "    <tr style=\"text-align: right;\">\n",
       "      <th></th>\n",
       "      <th>similarity</th>\n",
       "      <th>item</th>\n",
       "    </tr>\n",
       "  </thead>\n",
       "  <tbody>\n",
       "    <tr>\n",
       "      <th>0</th>\n",
       "      <td>0.604959</td>\n",
       "      <td>v_1_M_2000</td>\n",
       "    </tr>\n",
       "    <tr>\n",
       "      <th>1</th>\n",
       "      <td>0.402700</td>\n",
       "      <td>v_1_E_2000</td>\n",
       "    </tr>\n",
       "    <tr>\n",
       "      <th>2</th>\n",
       "      <td>0.195290</td>\n",
       "      <td>v_2_E_2000</td>\n",
       "    </tr>\n",
       "    <tr>\n",
       "      <th>3</th>\n",
       "      <td>0.195290</td>\n",
       "      <td>v_2_E_2000</td>\n",
       "    </tr>\n",
       "    <tr>\n",
       "      <th>4</th>\n",
       "      <td>0.164643</td>\n",
       "      <td>v_2_F_1990</td>\n",
       "    </tr>\n",
       "    <tr>\n",
       "      <th>5</th>\n",
       "      <td>0.033569</td>\n",
       "      <td>v_2_M_1960</td>\n",
       "    </tr>\n",
       "    <tr>\n",
       "      <th>6</th>\n",
       "      <td>-0.121563</td>\n",
       "      <td>v_1_F_2000</td>\n",
       "    </tr>\n",
       "    <tr>\n",
       "      <th>7</th>\n",
       "      <td>-0.125975</td>\n",
       "      <td>v_1_M_1980</td>\n",
       "    </tr>\n",
       "    <tr>\n",
       "      <th>8</th>\n",
       "      <td>-0.209825</td>\n",
       "      <td>v_2_F_2000</td>\n",
       "    </tr>\n",
       "    <tr>\n",
       "      <th>9</th>\n",
       "      <td>-0.209825</td>\n",
       "      <td>v_2_F_2000</td>\n",
       "    </tr>\n",
       "  </tbody>\n",
       "</table>\n",
       "</div>"
      ],
      "text/plain": [
       "   similarity        item\n",
       "0    0.604959  v_1_M_2000\n",
       "1    0.402700  v_1_E_2000\n",
       "2    0.195290  v_2_E_2000\n",
       "3    0.195290  v_2_E_2000\n",
       "4    0.164643  v_2_F_1990\n",
       "5    0.033569  v_2_M_1960\n",
       "6   -0.121563  v_1_F_2000\n",
       "7   -0.125975  v_1_M_1980\n",
       "8   -0.209825  v_2_F_2000\n",
       "9   -0.209825  v_2_F_2000"
      ]
     },
     "execution_count": 20,
     "metadata": {},
     "output_type": "execute_result"
    }
   ],
   "source": [
    "# 系列と要素の関連性（デフォルトだと内積）の出力\n",
    "analyst.similarity_between_seq_and_item(seq_index=0, num_recent_items=10)"
   ]
  },
  {
   "cell_type": "code",
   "execution_count": 21,
   "metadata": {},
   "outputs": [
    {
     "data": {
      "text/html": [
       "<div>\n",
       "<style scoped>\n",
       "    .dataframe tbody tr th:only-of-type {\n",
       "        vertical-align: middle;\n",
       "    }\n",
       "\n",
       "    .dataframe tbody tr th {\n",
       "        vertical-align: top;\n",
       "    }\n",
       "\n",
       "    .dataframe thead th {\n",
       "        text-align: right;\n",
       "    }\n",
       "</style>\n",
       "<table border=\"1\" class=\"dataframe\">\n",
       "  <thead>\n",
       "    <tr style=\"text-align: right;\">\n",
       "      <th></th>\n",
       "      <th>similarity</th>\n",
       "      <th>item_meta</th>\n",
       "    </tr>\n",
       "  </thead>\n",
       "  <tbody>\n",
       "    <tr>\n",
       "      <th>0</th>\n",
       "      <td>0.122109</td>\n",
       "      <td>genre:F</td>\n",
       "    </tr>\n",
       "    <tr>\n",
       "      <th>1</th>\n",
       "      <td>-0.140290</td>\n",
       "      <td>genre:E</td>\n",
       "    </tr>\n",
       "    <tr>\n",
       "      <th>2</th>\n",
       "      <td>-0.622595</td>\n",
       "      <td>genre:M</td>\n",
       "    </tr>\n",
       "  </tbody>\n",
       "</table>\n",
       "</div>"
      ],
      "text/plain": [
       "   similarity item_meta\n",
       "0    0.122109   genre:F\n",
       "1   -0.140290   genre:E\n",
       "2   -0.622595   genre:M"
      ]
     },
     "execution_count": 21,
     "metadata": {},
     "output_type": "execute_result"
    }
   ],
   "source": [
    "# 系列と要素の補助情報の関連性（デフォルトだと内積）の出力\n",
    "analyst.similarity_between_seq_and_item_meta(seq_index=0, item_meta_name=\"genre\")"
   ]
  },
  {
   "cell_type": "code",
   "execution_count": 22,
   "metadata": {},
   "outputs": [
    {
     "data": {
      "text/html": [
       "<div>\n",
       "<style scoped>\n",
       "    .dataframe tbody tr th:only-of-type {\n",
       "        vertical-align: middle;\n",
       "    }\n",
       "\n",
       "    .dataframe tbody tr th {\n",
       "        vertical-align: top;\n",
       "    }\n",
       "\n",
       "    .dataframe thead th {\n",
       "        text-align: right;\n",
       "    }\n",
       "</style>\n",
       "<table border=\"1\" class=\"dataframe\">\n",
       "  <thead>\n",
       "    <tr style=\"text-align: right;\">\n",
       "      <th></th>\n",
       "      <th>similarity</th>\n",
       "      <th>item_meta</th>\n",
       "    </tr>\n",
       "  </thead>\n",
       "  <tbody>\n",
       "    <tr>\n",
       "      <th>0</th>\n",
       "      <td>0.288425</td>\n",
       "      <td>genre:M</td>\n",
       "    </tr>\n",
       "    <tr>\n",
       "      <th>1</th>\n",
       "      <td>0.009154</td>\n",
       "      <td>genre:E</td>\n",
       "    </tr>\n",
       "    <tr>\n",
       "      <th>2</th>\n",
       "      <td>-0.731324</td>\n",
       "      <td>genre:F</td>\n",
       "    </tr>\n",
       "  </tbody>\n",
       "</table>\n",
       "</div>"
      ],
      "text/plain": [
       "   similarity item_meta\n",
       "0    0.288425   genre:M\n",
       "1    0.009154   genre:E\n",
       "2   -0.731324   genre:F"
      ]
     },
     "execution_count": 22,
     "metadata": {},
     "output_type": "execute_result"
    }
   ],
   "source": [
    "# 系列の補助情報と要素の補助情報の関連性（デフォルトだと内積）の出力\n",
    "analyst.similarity_between_seq_meta_and_item_meta(\"gender\", \"M\", \"genre\")"
   ]
  },
  {
   "cell_type": "code",
   "execution_count": 23,
   "metadata": {},
   "outputs": [
    {
     "data": {
      "text/html": [
       "<div>\n",
       "<style scoped>\n",
       "    .dataframe tbody tr th:only-of-type {\n",
       "        vertical-align: middle;\n",
       "    }\n",
       "\n",
       "    .dataframe tbody tr th {\n",
       "        vertical-align: top;\n",
       "    }\n",
       "\n",
       "    .dataframe thead th {\n",
       "        text-align: right;\n",
       "    }\n",
       "</style>\n",
       "<table border=\"1\" class=\"dataframe\">\n",
       "  <thead>\n",
       "    <tr style=\"text-align: right;\">\n",
       "      <th></th>\n",
       "      <th>similarity</th>\n",
       "      <th>seq</th>\n",
       "      <th>item</th>\n",
       "    </tr>\n",
       "  </thead>\n",
       "  <tbody>\n",
       "    <tr>\n",
       "      <th>0</th>\n",
       "      <td>2.609066</td>\n",
       "      <td>gender:F</td>\n",
       "      <td>genre:F</td>\n",
       "    </tr>\n",
       "    <tr>\n",
       "      <th>1</th>\n",
       "      <td>1.490470</td>\n",
       "      <td>age:20</td>\n",
       "      <td>genre:M</td>\n",
       "    </tr>\n",
       "    <tr>\n",
       "      <th>2</th>\n",
       "      <td>1.343822</td>\n",
       "      <td>age:20</td>\n",
       "      <td>year:2000</td>\n",
       "    </tr>\n",
       "    <tr>\n",
       "      <th>3</th>\n",
       "      <td>0.967979</td>\n",
       "      <td>gender:F</td>\n",
       "      <td>year:1990</td>\n",
       "    </tr>\n",
       "    <tr>\n",
       "      <th>4</th>\n",
       "      <td>0.829699</td>\n",
       "      <td>gender:F</td>\n",
       "      <td>genre:E</td>\n",
       "    </tr>\n",
       "    <tr>\n",
       "      <th>5</th>\n",
       "      <td>0.796977</td>\n",
       "      <td>gender:F</td>\n",
       "      <td>year:1980</td>\n",
       "    </tr>\n",
       "    <tr>\n",
       "      <th>6</th>\n",
       "      <td>0.491376</td>\n",
       "      <td>gender:F</td>\n",
       "      <td>year:2000</td>\n",
       "    </tr>\n",
       "    <tr>\n",
       "      <th>7</th>\n",
       "      <td>0.399128</td>\n",
       "      <td>u_0_F_20_20_F1</td>\n",
       "      <td>year:1980</td>\n",
       "    </tr>\n",
       "    <tr>\n",
       "      <th>8</th>\n",
       "      <td>0.386390</td>\n",
       "      <td>age:20</td>\n",
       "      <td>genre:F</td>\n",
       "    </tr>\n",
       "    <tr>\n",
       "      <th>9</th>\n",
       "      <td>0.379840</td>\n",
       "      <td>gender:F</td>\n",
       "      <td>year:1960</td>\n",
       "    </tr>\n",
       "    <tr>\n",
       "      <th>10</th>\n",
       "      <td>0.122109</td>\n",
       "      <td>u_0_F_20_20_F1</td>\n",
       "      <td>genre:F</td>\n",
       "    </tr>\n",
       "    <tr>\n",
       "      <th>11</th>\n",
       "      <td>0.110695</td>\n",
       "      <td>u_0_F_20_20_F1</td>\n",
       "      <td>year:1960</td>\n",
       "    </tr>\n",
       "    <tr>\n",
       "      <th>12</th>\n",
       "      <td>0.106005</td>\n",
       "      <td>u_0_F_20_20_F1</td>\n",
       "      <td>year:1990</td>\n",
       "    </tr>\n",
       "    <tr>\n",
       "      <th>13</th>\n",
       "      <td>0.024740</td>\n",
       "      <td>age:20</td>\n",
       "      <td>year:1960</td>\n",
       "    </tr>\n",
       "    <tr>\n",
       "      <th>14</th>\n",
       "      <td>0.016654</td>\n",
       "      <td>u_0_F_20_20_F1</td>\n",
       "      <td>year:2000</td>\n",
       "    </tr>\n",
       "    <tr>\n",
       "      <th>15</th>\n",
       "      <td>-0.140290</td>\n",
       "      <td>u_0_F_20_20_F1</td>\n",
       "      <td>genre:E</td>\n",
       "    </tr>\n",
       "    <tr>\n",
       "      <th>16</th>\n",
       "      <td>-0.210455</td>\n",
       "      <td>age:20</td>\n",
       "      <td>year:1970</td>\n",
       "    </tr>\n",
       "    <tr>\n",
       "      <th>17</th>\n",
       "      <td>-0.371468</td>\n",
       "      <td>gender:F</td>\n",
       "      <td>year:1970</td>\n",
       "    </tr>\n",
       "    <tr>\n",
       "      <th>18</th>\n",
       "      <td>-0.384866</td>\n",
       "      <td>gender:F</td>\n",
       "      <td>genre:M</td>\n",
       "    </tr>\n",
       "    <tr>\n",
       "      <th>19</th>\n",
       "      <td>-0.616581</td>\n",
       "      <td>u_0_F_20_20_F1</td>\n",
       "      <td>year:1970</td>\n",
       "    </tr>\n",
       "    <tr>\n",
       "      <th>20</th>\n",
       "      <td>-0.622595</td>\n",
       "      <td>u_0_F_20_20_F1</td>\n",
       "      <td>genre:M</td>\n",
       "    </tr>\n",
       "    <tr>\n",
       "      <th>21</th>\n",
       "      <td>-0.740789</td>\n",
       "      <td>age:20</td>\n",
       "      <td>year:1980</td>\n",
       "    </tr>\n",
       "    <tr>\n",
       "      <th>22</th>\n",
       "      <td>-0.747198</td>\n",
       "      <td>age:20</td>\n",
       "      <td>year:1990</td>\n",
       "    </tr>\n",
       "    <tr>\n",
       "      <th>23</th>\n",
       "      <td>-0.751725</td>\n",
       "      <td>age:20</td>\n",
       "      <td>genre:E</td>\n",
       "    </tr>\n",
       "  </tbody>\n",
       "</table>\n",
       "</div>"
      ],
      "text/plain": [
       "    similarity             seq       item\n",
       "0     2.609066        gender:F    genre:F\n",
       "1     1.490470          age:20    genre:M\n",
       "2     1.343822          age:20  year:2000\n",
       "3     0.967979        gender:F  year:1990\n",
       "4     0.829699        gender:F    genre:E\n",
       "5     0.796977        gender:F  year:1980\n",
       "6     0.491376        gender:F  year:2000\n",
       "7     0.399128  u_0_F_20_20_F1  year:1980\n",
       "8     0.386390          age:20    genre:F\n",
       "9     0.379840        gender:F  year:1960\n",
       "10    0.122109  u_0_F_20_20_F1    genre:F\n",
       "11    0.110695  u_0_F_20_20_F1  year:1960\n",
       "12    0.106005  u_0_F_20_20_F1  year:1990\n",
       "13    0.024740          age:20  year:1960\n",
       "14    0.016654  u_0_F_20_20_F1  year:2000\n",
       "15   -0.140290  u_0_F_20_20_F1    genre:E\n",
       "16   -0.210455          age:20  year:1970\n",
       "17   -0.371468        gender:F  year:1970\n",
       "18   -0.384866        gender:F    genre:M\n",
       "19   -0.616581  u_0_F_20_20_F1  year:1970\n",
       "20   -0.622595  u_0_F_20_20_F1    genre:M\n",
       "21   -0.740789          age:20  year:1980\n",
       "22   -0.747198          age:20  year:1990\n",
       "23   -0.751725          age:20    genre:E"
      ]
     },
     "execution_count": 23,
     "metadata": {},
     "output_type": "execute_result"
    }
   ],
   "source": [
    "# 系列と要素の固有の特徴と補助情報の関連性（デフォルトだと内積）の出力\n",
    "analyst.analyze_seq(seq_index=0)"
   ]
  },
  {
   "cell_type": "code",
   "execution_count": 24,
   "metadata": {},
   "outputs": [
    {
     "data": {
      "text/plain": [
       "(<Figure size 800x400 with 2 Axes>, <AxesSubplot: >)"
      ]
     },
     "execution_count": 24,
     "metadata": {},
     "output_type": "execute_result"
    },
    {
     "data": {
      "image/png": "[encoded data removed]",
      "text/plain": [
       "<Figure size 800x400 with 2 Axes>"
      ]
     },
     "metadata": {},
     "output_type": "display_data"
    }
   ],
   "source": [
    "# 補助情報のヒートマップの作成\n",
    "seq_meta_names = [\"gender:M\", \"gender:F\", \"age:20\", \"age:30\", \"age:40\", \"age:50\", \"age:60\"]\n",
    "item_meta_names = [\"genre:M\", \"genre:E\", \"genre:F\", \"year:1960\", \"year:1970\", \"year:1980\", \"year:1990\", \"year:2000\"]\n",
    "analyst.visualize_similarity_heatmap(seq_meta_names, item_meta_names, figsize=(8, 4))"
   ]
  },
  {
   "cell_type": "code",
   "execution_count": null,
   "metadata": {},
   "outputs": [],
   "source": []
  }
 ],
 "metadata": {
  "kernelspec": {
   "display_name": ".venv",
   "language": "python",
   "name": "python3"
  },
  "language_info": {
   "codemirror_mode": {
    "name": "ipython",
    "version": 3
   },
   "file_extension": ".py",
   "mimetype": "text/x-python",
   "name": "python",
   "nbconvert_exporter": "python",
   "pygments_lexer": "ipython3",
   "version": "3.10.4"
  },
  "orig_nbformat": 4
 },
 "nbformat": 4,
 "nbformat_minor": 2
}
