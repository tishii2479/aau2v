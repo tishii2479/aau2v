{
 "cells": [
  {
   "cell_type": "code",
   "execution_count": 1,
   "metadata": {},
   "outputs": [
    {
     "name": "stderr",
     "output_type": "stream",
     "text": [
      "/Users/tatsuyaishii/dev/clones/my-doc2vec/.venv/lib/python3.10/site-packages/tqdm/auto.py:22: TqdmWarning: IProgress not found. Please update jupyter and ipywidgets. See https://ipywidgets.readthedocs.io/en/stable/user_install.html\n",
      "  from .autonotebook import tqdm as notebook_tqdm\n"
     ]
    }
   ],
   "source": [
    "from pathlib import Path\n",
    "\n",
    "from au2v.config import ModelConfig, TrainerConfig\n",
    "from au2v.dataset_manager import load_dataset_manager\n",
    "from au2v.trainers import PyTorchTrainer\n",
    "from au2v.analyst import Analyst\n",
    "from au2v.model import load_model"
   ]
  },
  {
   "cell_type": "code",
   "execution_count": 2,
   "metadata": {},
   "outputs": [],
   "source": [
    "# 設定\n",
    "model_config = ModelConfig()\n",
    "trainer_config = TrainerConfig()"
   ]
  },
  {
   "cell_type": "code",
   "execution_count": 3,
   "metadata": {},
   "outputs": [
    {
     "name": "stdout",
     "output_type": "stream",
     "text": [
      "load cached dataset_manager from: cache/dataset/toydata-small.pickle\n"
     ]
    }
   ],
   "source": [
    "# データセットのロード\n",
    "dataset_manager = load_dataset_manager(\n",
    "    dataset_name=trainer_config.dataset_name,\n",
    "    dataset_dir=trainer_config.dataset_dir,\n",
    "    load_dataset=trainer_config.load_dataset,\n",
    "    save_dataset=trainer_config.save_dataset,\n",
    "    window_size=model_config.window_size,\n",
    ")\n",
    "\n",
    "# 自分でデータセットを作る場合\n",
    "# `RawDataset`の作り方は`dataset.RawDataset`のコメントを参照\n",
    "# dataset = dataset.RawDataset(\n",
    "#     ...\n",
    "# )\n",
    "# dataset_manager = DatasetManager(\n",
    "#     dataset=dataset,\n",
    "#     window_size=model_config.window_size\n",
    "# )"
   ]
  },
  {
   "cell_type": "code",
   "execution_count": 4,
   "metadata": {},
   "outputs": [
    {
     "name": "stdout",
     "output_type": "stream",
     "text": [
      "load_state_dict from: cache/model/toydata-small/attentive.pt\n"
     ]
    }
   ],
   "source": [
    "# modelの作成\n",
    "model = load_model(\n",
    "    dataset_manager=dataset_manager,\n",
    "    trainer_config=trainer_config,\n",
    "    model_config=model_config\n",
    ")"
   ]
  },
  {
   "cell_type": "code",
   "execution_count": 5,
   "metadata": {},
   "outputs": [],
   "source": [
    "# Trainerの作成\n",
    "trainer = PyTorchTrainer(\n",
    "    model=model,\n",
    "    dataset_manager=dataset_manager,\n",
    "    trainer_config=trainer_config,\n",
    "    model_config=model_config,\n",
    ")"
   ]
  },
  {
   "cell_type": "code",
   "execution_count": 6,
   "metadata": {},
   "outputs": [
    {
     "name": "stdout",
     "output_type": "stream",
     "text": [
      "train start\n"
     ]
    },
    {
     "name": "stderr",
     "output_type": "stream",
     "text": [
      "100%|██████████| 71/71 [00:00<00:00, 125.38it/s]\n",
      "100%|██████████| 71/71 [00:00<00:00, 416.42it/s]\n"
     ]
    },
    {
     "name": "stdout",
     "output_type": "stream",
     "text": [
      "Epoch: 1, loss: 0.2713991428764773, test_loss: {'test': 0.2695866728752432}\n",
      "saved best model to cache/model/toydata-small/best-attentive.pt\n"
     ]
    },
    {
     "name": "stderr",
     "output_type": "stream",
     "text": [
      "100%|██████████| 71/71 [00:00<00:00, 131.36it/s]\n",
      "100%|██████████| 71/71 [00:00<00:00, 423.99it/s]\n"
     ]
    },
    {
     "name": "stdout",
     "output_type": "stream",
     "text": [
      "Epoch: 2, loss: 0.26718653591585834, test_loss: {'test': 0.26528946362750633}\n",
      "saved best model to cache/model/toydata-small/best-attentive.pt\n"
     ]
    },
    {
     "name": "stderr",
     "output_type": "stream",
     "text": [
      "100%|██████████| 71/71 [00:00<00:00, 131.78it/s]\n",
      "100%|██████████| 71/71 [00:00<00:00, 451.83it/s]"
     ]
    },
    {
     "name": "stdout",
     "output_type": "stream",
     "text": [
      "Epoch: 3, loss: 0.2632671817087791, test_loss: {'test': 0.2616591978241021}\n",
      "saved best model to cache/model/toydata-small/best-attentive.pt\n",
      "train end\n",
      "saved model to cache/model/toydata-small/attentive.pt\n"
     ]
    },
    {
     "name": "stderr",
     "output_type": "stream",
     "text": [
      "\n"
     ]
    },
    {
     "data": {
      "text/plain": [
       "{'train': [0.2713991428764773, 0.26718653591585834, 0.2632671817087791],\n",
       " 'test': [0.2695866728752432, 0.26528946362750633, 0.2616591978241021]}"
      ]
     },
     "execution_count": 6,
     "metadata": {},
     "output_type": "execute_result"
    }
   ],
   "source": [
    "# モデルの学習\n",
    "trainer.fit()"
   ]
  },
  {
   "cell_type": "code",
   "execution_count": 7,
   "metadata": {},
   "outputs": [],
   "source": [
    "# Analyst（モデルの出力を分析するクラス）インスタンスの作成\n",
    "analyst = Analyst(model, dataset_manager)"
   ]
  },
  {
   "cell_type": "code",
   "execution_count": 8,
   "metadata": {},
   "outputs": [
    {
     "data": {
      "text/html": [
       "<div>\n",
       "<style scoped>\n",
       "    .dataframe tbody tr th:only-of-type {\n",
       "        vertical-align: middle;\n",
       "    }\n",
       "\n",
       "    .dataframe tbody tr th {\n",
       "        vertical-align: top;\n",
       "    }\n",
       "\n",
       "    .dataframe thead th {\n",
       "        text-align: right;\n",
       "    }\n",
       "</style>\n",
       "<table border=\"1\" class=\"dataframe\">\n",
       "  <thead>\n",
       "    <tr style=\"text-align: right;\">\n",
       "      <th></th>\n",
       "      <th>similarity</th>\n",
       "      <th>item</th>\n",
       "    </tr>\n",
       "  </thead>\n",
       "  <tbody>\n",
       "    <tr>\n",
       "      <th>0</th>\n",
       "      <td>0.470106</td>\n",
       "      <td>v_1_M_2000</td>\n",
       "    </tr>\n",
       "    <tr>\n",
       "      <th>1</th>\n",
       "      <td>0.288426</td>\n",
       "      <td>v_1_E_2000</td>\n",
       "    </tr>\n",
       "    <tr>\n",
       "      <th>2</th>\n",
       "      <td>0.123459</td>\n",
       "      <td>v_2_E_2000</td>\n",
       "    </tr>\n",
       "    <tr>\n",
       "      <th>3</th>\n",
       "      <td>0.123459</td>\n",
       "      <td>v_2_E_2000</td>\n",
       "    </tr>\n",
       "    <tr>\n",
       "      <th>4</th>\n",
       "      <td>0.113570</td>\n",
       "      <td>v_2_F_1990</td>\n",
       "    </tr>\n",
       "    <tr>\n",
       "      <th>5</th>\n",
       "      <td>0.010845</td>\n",
       "      <td>v_2_M_1960</td>\n",
       "    </tr>\n",
       "    <tr>\n",
       "      <th>6</th>\n",
       "      <td>-0.099424</td>\n",
       "      <td>v_1_M_1980</td>\n",
       "    </tr>\n",
       "    <tr>\n",
       "      <th>7</th>\n",
       "      <td>-0.109909</td>\n",
       "      <td>v_1_F_2000</td>\n",
       "    </tr>\n",
       "    <tr>\n",
       "      <th>8</th>\n",
       "      <td>-0.204516</td>\n",
       "      <td>v_2_F_2000</td>\n",
       "    </tr>\n",
       "    <tr>\n",
       "      <th>9</th>\n",
       "      <td>-0.204516</td>\n",
       "      <td>v_2_F_2000</td>\n",
       "    </tr>\n",
       "  </tbody>\n",
       "</table>\n",
       "</div>"
      ],
      "text/plain": [
       "   similarity        item\n",
       "0    0.470106  v_1_M_2000\n",
       "1    0.288426  v_1_E_2000\n",
       "2    0.123459  v_2_E_2000\n",
       "3    0.123459  v_2_E_2000\n",
       "4    0.113570  v_2_F_1990\n",
       "5    0.010845  v_2_M_1960\n",
       "6   -0.099424  v_1_M_1980\n",
       "7   -0.109909  v_1_F_2000\n",
       "8   -0.204516  v_2_F_2000\n",
       "9   -0.204516  v_2_F_2000"
      ]
     },
     "execution_count": 8,
     "metadata": {},
     "output_type": "execute_result"
    }
   ],
   "source": [
    "# 系列と要素の関連性（デフォルトだと内積）の出力\n",
    "analyst.similarity_between_seq_and_item(seq_index=0, num_recent_items=10)"
   ]
  },
  {
   "cell_type": "code",
   "execution_count": 9,
   "metadata": {},
   "outputs": [
    {
     "data": {
      "text/html": [
       "<div>\n",
       "<style scoped>\n",
       "    .dataframe tbody tr th:only-of-type {\n",
       "        vertical-align: middle;\n",
       "    }\n",
       "\n",
       "    .dataframe tbody tr th {\n",
       "        vertical-align: top;\n",
       "    }\n",
       "\n",
       "    .dataframe thead th {\n",
       "        text-align: right;\n",
       "    }\n",
       "</style>\n",
       "<table border=\"1\" class=\"dataframe\">\n",
       "  <thead>\n",
       "    <tr style=\"text-align: right;\">\n",
       "      <th></th>\n",
       "      <th>similarity</th>\n",
       "      <th>item_meta</th>\n",
       "    </tr>\n",
       "  </thead>\n",
       "  <tbody>\n",
       "    <tr>\n",
       "      <th>0</th>\n",
       "      <td>0.055380</td>\n",
       "      <td>genre:F</td>\n",
       "    </tr>\n",
       "    <tr>\n",
       "      <th>1</th>\n",
       "      <td>-0.122025</td>\n",
       "      <td>genre:E</td>\n",
       "    </tr>\n",
       "    <tr>\n",
       "      <th>2</th>\n",
       "      <td>-0.478092</td>\n",
       "      <td>genre:M</td>\n",
       "    </tr>\n",
       "  </tbody>\n",
       "</table>\n",
       "</div>"
      ],
      "text/plain": [
       "   similarity item_meta\n",
       "0    0.055380   genre:F\n",
       "1   -0.122025   genre:E\n",
       "2   -0.478092   genre:M"
      ]
     },
     "execution_count": 9,
     "metadata": {},
     "output_type": "execute_result"
    }
   ],
   "source": [
    "# 系列と要素の補助情報の関連性（デフォルトだと内積）の出力\n",
    "analyst.similarity_between_seq_and_item_meta(seq_index=0, item_meta_name=\"genre\")"
   ]
  },
  {
   "cell_type": "code",
   "execution_count": 10,
   "metadata": {},
   "outputs": [
    {
     "data": {
      "text/html": [
       "<div>\n",
       "<style scoped>\n",
       "    .dataframe tbody tr th:only-of-type {\n",
       "        vertical-align: middle;\n",
       "    }\n",
       "\n",
       "    .dataframe tbody tr th {\n",
       "        vertical-align: top;\n",
       "    }\n",
       "\n",
       "    .dataframe thead th {\n",
       "        text-align: right;\n",
       "    }\n",
       "</style>\n",
       "<table border=\"1\" class=\"dataframe\">\n",
       "  <thead>\n",
       "    <tr style=\"text-align: right;\">\n",
       "      <th></th>\n",
       "      <th>similarity</th>\n",
       "      <th>item_meta</th>\n",
       "    </tr>\n",
       "  </thead>\n",
       "  <tbody>\n",
       "    <tr>\n",
       "      <th>0</th>\n",
       "      <td>0.154183</td>\n",
       "      <td>genre:E</td>\n",
       "    </tr>\n",
       "    <tr>\n",
       "      <th>1</th>\n",
       "      <td>-0.160568</td>\n",
       "      <td>genre:M</td>\n",
       "    </tr>\n",
       "    <tr>\n",
       "      <th>2</th>\n",
       "      <td>-0.320533</td>\n",
       "      <td>genre:F</td>\n",
       "    </tr>\n",
       "  </tbody>\n",
       "</table>\n",
       "</div>"
      ],
      "text/plain": [
       "   similarity item_meta\n",
       "0    0.154183   genre:E\n",
       "1   -0.160568   genre:M\n",
       "2   -0.320533   genre:F"
      ]
     },
     "execution_count": 10,
     "metadata": {},
     "output_type": "execute_result"
    }
   ],
   "source": [
    "# 系列の補助情報と要素の補助情報の関連性（デフォルトだと内積）の出力\n",
    "analyst.similarity_between_seq_meta_and_item_meta(\"gender\", \"M\", \"genre\")"
   ]
  },
  {
   "cell_type": "code",
   "execution_count": 11,
   "metadata": {},
   "outputs": [
    {
     "data": {
      "text/html": [
       "<div>\n",
       "<style scoped>\n",
       "    .dataframe tbody tr th:only-of-type {\n",
       "        vertical-align: middle;\n",
       "    }\n",
       "\n",
       "    .dataframe tbody tr th {\n",
       "        vertical-align: top;\n",
       "    }\n",
       "\n",
       "    .dataframe thead th {\n",
       "        text-align: right;\n",
       "    }\n",
       "</style>\n",
       "<table border=\"1\" class=\"dataframe\">\n",
       "  <thead>\n",
       "    <tr style=\"text-align: right;\">\n",
       "      <th></th>\n",
       "      <th>similarity</th>\n",
       "      <th>seq</th>\n",
       "      <th>item</th>\n",
       "    </tr>\n",
       "  </thead>\n",
       "  <tbody>\n",
       "    <tr>\n",
       "      <th>0</th>\n",
       "      <td>1.714814</td>\n",
       "      <td>gender:F</td>\n",
       "      <td>genre:F</td>\n",
       "    </tr>\n",
       "    <tr>\n",
       "      <th>1</th>\n",
       "      <td>1.211452</td>\n",
       "      <td>age:20</td>\n",
       "      <td>genre:M</td>\n",
       "    </tr>\n",
       "    <tr>\n",
       "      <th>2</th>\n",
       "      <td>0.836054</td>\n",
       "      <td>age:20</td>\n",
       "      <td>year:2000</td>\n",
       "    </tr>\n",
       "    <tr>\n",
       "      <th>3</th>\n",
       "      <td>0.824594</td>\n",
       "      <td>gender:F</td>\n",
       "      <td>genre:E</td>\n",
       "    </tr>\n",
       "    <tr>\n",
       "      <th>4</th>\n",
       "      <td>0.789925</td>\n",
       "      <td>gender:F</td>\n",
       "      <td>year:1990</td>\n",
       "    </tr>\n",
       "    <tr>\n",
       "      <th>5</th>\n",
       "      <td>0.663723</td>\n",
       "      <td>gender:F</td>\n",
       "      <td>year:1980</td>\n",
       "    </tr>\n",
       "    <tr>\n",
       "      <th>6</th>\n",
       "      <td>0.506109</td>\n",
       "      <td>gender:F</td>\n",
       "      <td>year:1960</td>\n",
       "    </tr>\n",
       "    <tr>\n",
       "      <th>7</th>\n",
       "      <td>0.477079</td>\n",
       "      <td>gender:F</td>\n",
       "      <td>year:2000</td>\n",
       "    </tr>\n",
       "    <tr>\n",
       "      <th>8</th>\n",
       "      <td>0.350365</td>\n",
       "      <td>u_0_F_20_20_F1</td>\n",
       "      <td>year:1980</td>\n",
       "    </tr>\n",
       "    <tr>\n",
       "      <th>9</th>\n",
       "      <td>0.317490</td>\n",
       "      <td>age:20</td>\n",
       "      <td>genre:F</td>\n",
       "    </tr>\n",
       "    <tr>\n",
       "      <th>10</th>\n",
       "      <td>0.125209</td>\n",
       "      <td>age:20</td>\n",
       "      <td>year:1960</td>\n",
       "    </tr>\n",
       "    <tr>\n",
       "      <th>11</th>\n",
       "      <td>0.115234</td>\n",
       "      <td>u_0_F_20_20_F1</td>\n",
       "      <td>year:1960</td>\n",
       "    </tr>\n",
       "    <tr>\n",
       "      <th>12</th>\n",
       "      <td>0.112086</td>\n",
       "      <td>u_0_F_20_20_F1</td>\n",
       "      <td>year:1990</td>\n",
       "    </tr>\n",
       "    <tr>\n",
       "      <th>13</th>\n",
       "      <td>0.088462</td>\n",
       "      <td>gender:F</td>\n",
       "      <td>genre:M</td>\n",
       "    </tr>\n",
       "    <tr>\n",
       "      <th>14</th>\n",
       "      <td>0.055380</td>\n",
       "      <td>u_0_F_20_20_F1</td>\n",
       "      <td>genre:F</td>\n",
       "    </tr>\n",
       "    <tr>\n",
       "      <th>15</th>\n",
       "      <td>-0.073174</td>\n",
       "      <td>u_0_F_20_20_F1</td>\n",
       "      <td>year:2000</td>\n",
       "    </tr>\n",
       "    <tr>\n",
       "      <th>16</th>\n",
       "      <td>-0.122025</td>\n",
       "      <td>u_0_F_20_20_F1</td>\n",
       "      <td>genre:E</td>\n",
       "    </tr>\n",
       "    <tr>\n",
       "      <th>17</th>\n",
       "      <td>-0.134619</td>\n",
       "      <td>age:20</td>\n",
       "      <td>year:1970</td>\n",
       "    </tr>\n",
       "    <tr>\n",
       "      <th>18</th>\n",
       "      <td>-0.275273</td>\n",
       "      <td>gender:F</td>\n",
       "      <td>year:1970</td>\n",
       "    </tr>\n",
       "    <tr>\n",
       "      <th>19</th>\n",
       "      <td>-0.478092</td>\n",
       "      <td>u_0_F_20_20_F1</td>\n",
       "      <td>genre:M</td>\n",
       "    </tr>\n",
       "    <tr>\n",
       "      <th>20</th>\n",
       "      <td>-0.480758</td>\n",
       "      <td>u_0_F_20_20_F1</td>\n",
       "      <td>year:1970</td>\n",
       "    </tr>\n",
       "    <tr>\n",
       "      <th>21</th>\n",
       "      <td>-0.516255</td>\n",
       "      <td>age:20</td>\n",
       "      <td>year:1990</td>\n",
       "    </tr>\n",
       "    <tr>\n",
       "      <th>22</th>\n",
       "      <td>-0.522195</td>\n",
       "      <td>age:20</td>\n",
       "      <td>year:1980</td>\n",
       "    </tr>\n",
       "    <tr>\n",
       "      <th>23</th>\n",
       "      <td>-0.586245</td>\n",
       "      <td>age:20</td>\n",
       "      <td>genre:E</td>\n",
       "    </tr>\n",
       "  </tbody>\n",
       "</table>\n",
       "</div>"
      ],
      "text/plain": [
       "    similarity             seq       item\n",
       "0     1.714814        gender:F    genre:F\n",
       "1     1.211452          age:20    genre:M\n",
       "2     0.836054          age:20  year:2000\n",
       "3     0.824594        gender:F    genre:E\n",
       "4     0.789925        gender:F  year:1990\n",
       "5     0.663723        gender:F  year:1980\n",
       "6     0.506109        gender:F  year:1960\n",
       "7     0.477079        gender:F  year:2000\n",
       "8     0.350365  u_0_F_20_20_F1  year:1980\n",
       "9     0.317490          age:20    genre:F\n",
       "10    0.125209          age:20  year:1960\n",
       "11    0.115234  u_0_F_20_20_F1  year:1960\n",
       "12    0.112086  u_0_F_20_20_F1  year:1990\n",
       "13    0.088462        gender:F    genre:M\n",
       "14    0.055380  u_0_F_20_20_F1    genre:F\n",
       "15   -0.073174  u_0_F_20_20_F1  year:2000\n",
       "16   -0.122025  u_0_F_20_20_F1    genre:E\n",
       "17   -0.134619          age:20  year:1970\n",
       "18   -0.275273        gender:F  year:1970\n",
       "19   -0.478092  u_0_F_20_20_F1    genre:M\n",
       "20   -0.480758  u_0_F_20_20_F1  year:1970\n",
       "21   -0.516255          age:20  year:1990\n",
       "22   -0.522195          age:20  year:1980\n",
       "23   -0.586245          age:20    genre:E"
      ]
     },
     "execution_count": 11,
     "metadata": {},
     "output_type": "execute_result"
    }
   ],
   "source": [
    "# 系列と要素の固有の特徴と補助情報の関連性（デフォルトだと内積）の出力\n",
    "analyst.analyze_seq(seq_index=0)"
   ]
  },
  {
   "cell_type": "code",
   "execution_count": 12,
   "metadata": {},
   "outputs": [
    {
     "data": {
      "text/plain": [
       "(<Figure size 800x400 with 2 Axes>, <AxesSubplot: >)"
      ]
     },
     "execution_count": 12,
     "metadata": {},
     "output_type": "execute_result"
    },
    {
     "data": {
      "image/png": "[encoded data removed]",
      "text/plain": [
       "<Figure size 800x400 with 2 Axes>"
      ]
     },
     "metadata": {},
     "output_type": "display_data"
    }
   ],
   "source": [
    "# 補助情報のヒートマップの作成\n",
    "seq_meta_names = [\"gender:M\", \"gender:F\", \"age:20\", \"age:30\", \"age:40\", \"age:50\", \"age:60\"]\n",
    "item_meta_names = [\"genre:M\", \"genre:E\", \"genre:F\", \"year:1960\", \"year:1970\", \"year:1980\", \"year:1990\", \"year:2000\"]\n",
    "analyst.visualize_similarity_heatmap(seq_meta_names, item_meta_names, figsize=(8, 4))"
   ]
  },
  {
   "cell_type": "code",
   "execution_count": null,
   "metadata": {},
   "outputs": [],
   "source": []
  }
 ],
 "metadata": {
  "kernelspec": {
   "display_name": ".venv",
   "language": "python",
   "name": "python3"
  },
  "language_info": {
   "codemirror_mode": {
    "name": "ipython",
    "version": 3
   },
   "file_extension": ".py",
   "mimetype": "text/x-python",
   "name": "python",
   "nbconvert_exporter": "python",
   "pygments_lexer": "ipython3",
   "version": "3.10.4"
  },
  "orig_nbformat": 4
 },
 "nbformat": 4,
 "nbformat_minor": 2
}
