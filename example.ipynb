{
 "cells": [
  {
   "cell_type": "code",
   "execution_count": 6,
   "metadata": {},
   "outputs": [],
   "source": [
    "from pathlib import Path\n",
    "\n",
    "from au2v.config import ModelConfig, TrainerConfig\n",
    "from au2v.dataset_manager import load_dataset_manager\n",
    "from au2v.trainer import PyTorchTrainer\n",
    "from au2v.analyst import Analyst\n",
    "from au2v.model import load_model"
   ]
  },
  {
   "cell_type": "code",
   "execution_count": 7,
   "metadata": {},
   "outputs": [],
   "source": [
    "# 設定\n",
    "model_config = ModelConfig()\n",
    "trainer_config = TrainerConfig()"
   ]
  },
  {
   "cell_type": "code",
   "execution_count": 8,
   "metadata": {},
   "outputs": [
    {
     "name": "stdout",
     "output_type": "stream",
     "text": [
      "dataset_manager does not exist at: cache/dataset/toydata-small.pickle, create dataset\n",
      "num_seq: 500, num_item: 45, num_item_meta: 8, num_seq_meta: 7, num_item_meta_types: 2, num_seq_meta_types: 2\n",
      "to_sequential_data start\n"
     ]
    },
    {
     "name": "stderr",
     "output_type": "stream",
     "text": [
      "100%|██████████| 500/500 [00:00<00:00, 15305.44it/s]\n"
     ]
    },
    {
     "name": "stdout",
     "output_type": "stream",
     "text": [
      "to_sequential_data end\n",
      "to_sequential_data start\n"
     ]
    },
    {
     "name": "stderr",
     "output_type": "stream",
     "text": [
      "100%|██████████| 500/500 [00:00<00:00, 16449.03it/s]"
     ]
    },
    {
     "name": "stdout",
     "output_type": "stream",
     "text": [
      "to_sequential_data end\n",
      "dumping dataset_manager to: cache/dataset/toydata-small.pickle\n",
      "dumped dataset_manager to: cache/dataset/toydata-small.pickle\n"
     ]
    },
    {
     "name": "stderr",
     "output_type": "stream",
     "text": [
      "\n"
     ]
    }
   ],
   "source": [
    "# データセットのロード\n",
    "dataset_manager = load_dataset_manager(\n",
    "    dataset_name=trainer_config.dataset_name,\n",
    "    dataset_dir=trainer_config.dataset_dir,\n",
    "    load_dataset=trainer_config.load_dataset,\n",
    "    save_dataset=trainer_config.save_dataset,\n",
    "    window_size=model_config.window_size,\n",
    ")\n",
    "\n",
    "# 自分でデータセットを作る場合\n",
    "# `RawDataset`の作り方は`dataset.RawDataset`のコメントを参照\n",
    "# dataset = dataset.RawDataset(\n",
    "#     ...\n",
    "# )\n",
    "# dataset_manager = DatasetManager(\n",
    "#     dataset=dataset,\n",
    "#     window_size=model_config.window_size\n",
    "# )"
   ]
  },
  {
   "cell_type": "code",
   "execution_count": 9,
   "metadata": {},
   "outputs": [
    {
     "name": "stdout",
     "output_type": "stream",
     "text": [
      "Warning: load_model is specified at trainer_config, but model does not exists at cache/model/toydata-small/attentive.pt\n"
     ]
    }
   ],
   "source": [
    "# modelの作成\n",
    "model = load_model(\n",
    "    dataset_manager=dataset_manager,\n",
    "    trainer_config=trainer_config,\n",
    "    model_config=model_config\n",
    ")"
   ]
  },
  {
   "cell_type": "code",
   "execution_count": 10,
   "metadata": {},
   "outputs": [],
   "source": [
    "# Trainerの作成\n",
    "trainer = PyTorchTrainer(\n",
    "    model=model,\n",
    "    dataset_manager=dataset_manager,\n",
    "    trainer_config=trainer_config,\n",
    "    model_config=model_config,\n",
    ")"
   ]
  },
  {
   "cell_type": "code",
   "execution_count": 11,
   "metadata": {},
   "outputs": [
    {
     "name": "stdout",
     "output_type": "stream",
     "text": [
      "train start\n"
     ]
    },
    {
     "name": "stderr",
     "output_type": "stream",
     "text": [
      "100%|██████████| 71/71 [00:01<00:00, 54.69it/s]\n",
      "100%|██████████| 71/71 [00:00<00:00, 136.00it/s]\n"
     ]
    },
    {
     "name": "stdout",
     "output_type": "stream",
     "text": [
      "Epoch: 1, loss: 0.005900349245000053, test_loss: {'test': 0.005835460380874049}\n",
      "saved best model to cache/model/toydata-small/best-attentive.pt\n"
     ]
    },
    {
     "name": "stderr",
     "output_type": "stream",
     "text": [
      "100%|██████████| 71/71 [00:01<00:00, 60.38it/s]\n",
      "100%|██████████| 71/71 [00:00<00:00, 157.55it/s]\n"
     ]
    },
    {
     "name": "stdout",
     "output_type": "stream",
     "text": [
      "Epoch: 2, loss: 0.0058103942732051226, test_loss: {'test': 0.00573948706487115}\n",
      "saved best model to cache/model/toydata-small/best-attentive.pt\n"
     ]
    },
    {
     "name": "stderr",
     "output_type": "stream",
     "text": [
      "100%|██████████| 71/71 [00:01<00:00, 57.83it/s]\n",
      "100%|██████████| 71/71 [00:00<00:00, 149.74it/s]"
     ]
    },
    {
     "name": "stdout",
     "output_type": "stream",
     "text": [
      "Epoch: 3, loss: 0.00571345879604489, test_loss: {'test': 0.0056461378682772035}\n",
      "saved best model to cache/model/toydata-small/best-attentive.pt\n",
      "train end\n",
      "saved model to cache/model/toydata-small/attentive.pt\n"
     ]
    },
    {
     "name": "stderr",
     "output_type": "stream",
     "text": [
      "\n"
     ]
    },
    {
     "data": {
      "text/plain": [
       "{'train': [0.005900349245000053, 0.0058103942732051226, 0.00571345879604489],\n",
       " 'test': [0.005835460380874049, 0.00573948706487115, 0.0056461378682772035]}"
      ]
     },
     "execution_count": 11,
     "metadata": {},
     "output_type": "execute_result"
    }
   ],
   "source": [
    "# モデルの学習\n",
    "trainer.fit()"
   ]
  },
  {
   "cell_type": "code",
   "execution_count": 12,
   "metadata": {},
   "outputs": [],
   "source": [
    "# Analyst（モデルの出力を分析するクラス）インスタンスの作成\n",
    "analyst = Analyst(model, dataset_manager)"
   ]
  },
  {
   "cell_type": "code",
   "execution_count": 13,
   "metadata": {},
   "outputs": [
    {
     "data": {
      "text/html": [
       "<div>\n",
       "<style scoped>\n",
       "    .dataframe tbody tr th:only-of-type {\n",
       "        vertical-align: middle;\n",
       "    }\n",
       "\n",
       "    .dataframe tbody tr th {\n",
       "        vertical-align: top;\n",
       "    }\n",
       "\n",
       "    .dataframe thead th {\n",
       "        text-align: right;\n",
       "    }\n",
       "</style>\n",
       "<table border=\"1\" class=\"dataframe\">\n",
       "  <thead>\n",
       "    <tr style=\"text-align: right;\">\n",
       "      <th></th>\n",
       "      <th>similarity</th>\n",
       "      <th>item</th>\n",
       "    </tr>\n",
       "  </thead>\n",
       "  <tbody>\n",
       "    <tr>\n",
       "      <th>0</th>\n",
       "      <td>0.549167</td>\n",
       "      <td>v_2_F_2000</td>\n",
       "    </tr>\n",
       "    <tr>\n",
       "      <th>1</th>\n",
       "      <td>0.549167</td>\n",
       "      <td>v_2_F_2000</td>\n",
       "    </tr>\n",
       "    <tr>\n",
       "      <th>2</th>\n",
       "      <td>0.549167</td>\n",
       "      <td>v_2_F_2000</td>\n",
       "    </tr>\n",
       "    <tr>\n",
       "      <th>3</th>\n",
       "      <td>0.549167</td>\n",
       "      <td>v_2_F_2000</td>\n",
       "    </tr>\n",
       "    <tr>\n",
       "      <th>4</th>\n",
       "      <td>0.525343</td>\n",
       "      <td>v_1_F_1970</td>\n",
       "    </tr>\n",
       "    <tr>\n",
       "      <th>5</th>\n",
       "      <td>-0.278191</td>\n",
       "      <td>v_2_E_1960</td>\n",
       "    </tr>\n",
       "    <tr>\n",
       "      <th>6</th>\n",
       "      <td>-0.510978</td>\n",
       "      <td>v_1_E_2000</td>\n",
       "    </tr>\n",
       "    <tr>\n",
       "      <th>7</th>\n",
       "      <td>-0.510978</td>\n",
       "      <td>v_1_E_2000</td>\n",
       "    </tr>\n",
       "    <tr>\n",
       "      <th>8</th>\n",
       "      <td>-0.546763</td>\n",
       "      <td>v_2_E_1980</td>\n",
       "    </tr>\n",
       "    <tr>\n",
       "      <th>9</th>\n",
       "      <td>-1.022017</td>\n",
       "      <td>v_2_M_2000</td>\n",
       "    </tr>\n",
       "  </tbody>\n",
       "</table>\n",
       "</div>"
      ],
      "text/plain": [
       "   similarity        item\n",
       "0    0.549167  v_2_F_2000\n",
       "1    0.549167  v_2_F_2000\n",
       "2    0.549167  v_2_F_2000\n",
       "3    0.549167  v_2_F_2000\n",
       "4    0.525343  v_1_F_1970\n",
       "5   -0.278191  v_2_E_1960\n",
       "6   -0.510978  v_1_E_2000\n",
       "7   -0.510978  v_1_E_2000\n",
       "8   -0.546763  v_2_E_1980\n",
       "9   -1.022017  v_2_M_2000"
      ]
     },
     "execution_count": 13,
     "metadata": {},
     "output_type": "execute_result"
    }
   ],
   "source": [
    "# 系列と要素の関連性（デフォルトだと内積）の出力\n",
    "analyst.similarity_between_seq_and_item(seq_index=0, num_recent_items=10)"
   ]
  },
  {
   "cell_type": "code",
   "execution_count": 14,
   "metadata": {},
   "outputs": [
    {
     "data": {
      "text/html": [
       "<div>\n",
       "<style scoped>\n",
       "    .dataframe tbody tr th:only-of-type {\n",
       "        vertical-align: middle;\n",
       "    }\n",
       "\n",
       "    .dataframe tbody tr th {\n",
       "        vertical-align: top;\n",
       "    }\n",
       "\n",
       "    .dataframe thead th {\n",
       "        text-align: right;\n",
       "    }\n",
       "</style>\n",
       "<table border=\"1\" class=\"dataframe\">\n",
       "  <thead>\n",
       "    <tr style=\"text-align: right;\">\n",
       "      <th></th>\n",
       "      <th>similarity</th>\n",
       "      <th>item_meta</th>\n",
       "    </tr>\n",
       "  </thead>\n",
       "  <tbody>\n",
       "    <tr>\n",
       "      <th>0</th>\n",
       "      <td>0.238348</td>\n",
       "      <td>genre:E</td>\n",
       "    </tr>\n",
       "    <tr>\n",
       "      <th>1</th>\n",
       "      <td>-0.406619</td>\n",
       "      <td>genre:M</td>\n",
       "    </tr>\n",
       "    <tr>\n",
       "      <th>2</th>\n",
       "      <td>-0.595285</td>\n",
       "      <td>genre:F</td>\n",
       "    </tr>\n",
       "  </tbody>\n",
       "</table>\n",
       "</div>"
      ],
      "text/plain": [
       "   similarity item_meta\n",
       "0    0.238348   genre:E\n",
       "1   -0.406619   genre:M\n",
       "2   -0.595285   genre:F"
      ]
     },
     "execution_count": 14,
     "metadata": {},
     "output_type": "execute_result"
    }
   ],
   "source": [
    "# 系列と要素の補助情報の関連性（デフォルトだと内積）の出力\n",
    "analyst.similarity_between_seq_and_item_meta(seq_index=0, item_meta_name=\"genre\")"
   ]
  },
  {
   "cell_type": "code",
   "execution_count": 15,
   "metadata": {},
   "outputs": [
    {
     "data": {
      "text/html": [
       "<div>\n",
       "<style scoped>\n",
       "    .dataframe tbody tr th:only-of-type {\n",
       "        vertical-align: middle;\n",
       "    }\n",
       "\n",
       "    .dataframe tbody tr th {\n",
       "        vertical-align: top;\n",
       "    }\n",
       "\n",
       "    .dataframe thead th {\n",
       "        text-align: right;\n",
       "    }\n",
       "</style>\n",
       "<table border=\"1\" class=\"dataframe\">\n",
       "  <thead>\n",
       "    <tr style=\"text-align: right;\">\n",
       "      <th></th>\n",
       "      <th>similarity</th>\n",
       "      <th>item_meta</th>\n",
       "    </tr>\n",
       "  </thead>\n",
       "  <tbody>\n",
       "    <tr>\n",
       "      <th>0</th>\n",
       "      <td>0.245904</td>\n",
       "      <td>genre:E</td>\n",
       "    </tr>\n",
       "    <tr>\n",
       "      <th>1</th>\n",
       "      <td>-0.003645</td>\n",
       "      <td>genre:F</td>\n",
       "    </tr>\n",
       "    <tr>\n",
       "      <th>2</th>\n",
       "      <td>-0.261237</td>\n",
       "      <td>genre:M</td>\n",
       "    </tr>\n",
       "  </tbody>\n",
       "</table>\n",
       "</div>"
      ],
      "text/plain": [
       "   similarity item_meta\n",
       "0    0.245904   genre:E\n",
       "1   -0.003645   genre:F\n",
       "2   -0.261237   genre:M"
      ]
     },
     "execution_count": 15,
     "metadata": {},
     "output_type": "execute_result"
    }
   ],
   "source": [
    "# 系列の補助情報と要素の補助情報の関連性（デフォルトだと内積）の出力\n",
    "analyst.similarity_between_seq_meta_and_item_meta(\"gender\", \"M\", \"genre\")"
   ]
  },
  {
   "cell_type": "code",
   "execution_count": 16,
   "metadata": {},
   "outputs": [
    {
     "data": {
      "text/html": [
       "<div>\n",
       "<style scoped>\n",
       "    .dataframe tbody tr th:only-of-type {\n",
       "        vertical-align: middle;\n",
       "    }\n",
       "\n",
       "    .dataframe tbody tr th {\n",
       "        vertical-align: top;\n",
       "    }\n",
       "\n",
       "    .dataframe thead th {\n",
       "        text-align: right;\n",
       "    }\n",
       "</style>\n",
       "<table border=\"1\" class=\"dataframe\">\n",
       "  <thead>\n",
       "    <tr style=\"text-align: right;\">\n",
       "      <th></th>\n",
       "      <th>similarity</th>\n",
       "      <th>seq</th>\n",
       "      <th>item</th>\n",
       "    </tr>\n",
       "  </thead>\n",
       "  <tbody>\n",
       "    <tr>\n",
       "      <th>0</th>\n",
       "      <td>0.716744</td>\n",
       "      <td>gender:F</td>\n",
       "      <td>genre:M</td>\n",
       "    </tr>\n",
       "    <tr>\n",
       "      <th>1</th>\n",
       "      <td>0.526177</td>\n",
       "      <td>gender:F</td>\n",
       "      <td>year:2000</td>\n",
       "    </tr>\n",
       "    <tr>\n",
       "      <th>2</th>\n",
       "      <td>0.350325</td>\n",
       "      <td>gender:F</td>\n",
       "      <td>year:1960</td>\n",
       "    </tr>\n",
       "    <tr>\n",
       "      <th>3</th>\n",
       "      <td>0.238348</td>\n",
       "      <td>u_0_F_20_20_F1</td>\n",
       "      <td>genre:E</td>\n",
       "    </tr>\n",
       "    <tr>\n",
       "      <th>4</th>\n",
       "      <td>0.203482</td>\n",
       "      <td>gender:F</td>\n",
       "      <td>year:1990</td>\n",
       "    </tr>\n",
       "    <tr>\n",
       "      <th>5</th>\n",
       "      <td>0.132814</td>\n",
       "      <td>gender:F</td>\n",
       "      <td>year:1980</td>\n",
       "    </tr>\n",
       "    <tr>\n",
       "      <th>6</th>\n",
       "      <td>0.059319</td>\n",
       "      <td>u_0_F_20_20_F1</td>\n",
       "      <td>year:1970</td>\n",
       "    </tr>\n",
       "    <tr>\n",
       "      <th>7</th>\n",
       "      <td>0.006187</td>\n",
       "      <td>age:20</td>\n",
       "      <td>genre:F</td>\n",
       "    </tr>\n",
       "    <tr>\n",
       "      <th>8</th>\n",
       "      <td>-0.015210</td>\n",
       "      <td>u_0_F_20_20_F1</td>\n",
       "      <td>year:1960</td>\n",
       "    </tr>\n",
       "    <tr>\n",
       "      <th>9</th>\n",
       "      <td>-0.077326</td>\n",
       "      <td>age:20</td>\n",
       "      <td>genre:E</td>\n",
       "    </tr>\n",
       "    <tr>\n",
       "      <th>10</th>\n",
       "      <td>-0.096761</td>\n",
       "      <td>age:20</td>\n",
       "      <td>year:1980</td>\n",
       "    </tr>\n",
       "    <tr>\n",
       "      <th>11</th>\n",
       "      <td>-0.140931</td>\n",
       "      <td>gender:F</td>\n",
       "      <td>genre:E</td>\n",
       "    </tr>\n",
       "    <tr>\n",
       "      <th>12</th>\n",
       "      <td>-0.217111</td>\n",
       "      <td>u_0_F_20_20_F1</td>\n",
       "      <td>year:2000</td>\n",
       "    </tr>\n",
       "    <tr>\n",
       "      <th>13</th>\n",
       "      <td>-0.222252</td>\n",
       "      <td>u_0_F_20_20_F1</td>\n",
       "      <td>year:1980</td>\n",
       "    </tr>\n",
       "    <tr>\n",
       "      <th>14</th>\n",
       "      <td>-0.254174</td>\n",
       "      <td>u_0_F_20_20_F1</td>\n",
       "      <td>year:1990</td>\n",
       "    </tr>\n",
       "    <tr>\n",
       "      <th>15</th>\n",
       "      <td>-0.257957</td>\n",
       "      <td>age:20</td>\n",
       "      <td>year:2000</td>\n",
       "    </tr>\n",
       "    <tr>\n",
       "      <th>16</th>\n",
       "      <td>-0.266852</td>\n",
       "      <td>age:20</td>\n",
       "      <td>year:1970</td>\n",
       "    </tr>\n",
       "    <tr>\n",
       "      <th>17</th>\n",
       "      <td>-0.275294</td>\n",
       "      <td>gender:F</td>\n",
       "      <td>genre:F</td>\n",
       "    </tr>\n",
       "    <tr>\n",
       "      <th>18</th>\n",
       "      <td>-0.319915</td>\n",
       "      <td>age:20</td>\n",
       "      <td>year:1990</td>\n",
       "    </tr>\n",
       "    <tr>\n",
       "      <th>19</th>\n",
       "      <td>-0.357483</td>\n",
       "      <td>age:20</td>\n",
       "      <td>genre:M</td>\n",
       "    </tr>\n",
       "    <tr>\n",
       "      <th>20</th>\n",
       "      <td>-0.406619</td>\n",
       "      <td>u_0_F_20_20_F1</td>\n",
       "      <td>genre:M</td>\n",
       "    </tr>\n",
       "    <tr>\n",
       "      <th>21</th>\n",
       "      <td>-0.477903</td>\n",
       "      <td>gender:F</td>\n",
       "      <td>year:1970</td>\n",
       "    </tr>\n",
       "    <tr>\n",
       "      <th>22</th>\n",
       "      <td>-0.564624</td>\n",
       "      <td>age:20</td>\n",
       "      <td>year:1960</td>\n",
       "    </tr>\n",
       "    <tr>\n",
       "      <th>23</th>\n",
       "      <td>-0.595285</td>\n",
       "      <td>u_0_F_20_20_F1</td>\n",
       "      <td>genre:F</td>\n",
       "    </tr>\n",
       "  </tbody>\n",
       "</table>\n",
       "</div>"
      ],
      "text/plain": [
       "    similarity             seq       item\n",
       "0     0.716744        gender:F    genre:M\n",
       "1     0.526177        gender:F  year:2000\n",
       "2     0.350325        gender:F  year:1960\n",
       "3     0.238348  u_0_F_20_20_F1    genre:E\n",
       "4     0.203482        gender:F  year:1990\n",
       "5     0.132814        gender:F  year:1980\n",
       "6     0.059319  u_0_F_20_20_F1  year:1970\n",
       "7     0.006187          age:20    genre:F\n",
       "8    -0.015210  u_0_F_20_20_F1  year:1960\n",
       "9    -0.077326          age:20    genre:E\n",
       "10   -0.096761          age:20  year:1980\n",
       "11   -0.140931        gender:F    genre:E\n",
       "12   -0.217111  u_0_F_20_20_F1  year:2000\n",
       "13   -0.222252  u_0_F_20_20_F1  year:1980\n",
       "14   -0.254174  u_0_F_20_20_F1  year:1990\n",
       "15   -0.257957          age:20  year:2000\n",
       "16   -0.266852          age:20  year:1970\n",
       "17   -0.275294        gender:F    genre:F\n",
       "18   -0.319915          age:20  year:1990\n",
       "19   -0.357483          age:20    genre:M\n",
       "20   -0.406619  u_0_F_20_20_F1    genre:M\n",
       "21   -0.477903        gender:F  year:1970\n",
       "22   -0.564624          age:20  year:1960\n",
       "23   -0.595285  u_0_F_20_20_F1    genre:F"
      ]
     },
     "execution_count": 16,
     "metadata": {},
     "output_type": "execute_result"
    }
   ],
   "source": [
    "# 系列と要素の固有の特徴と補助情報の関連性（デフォルトだと内積）の出力\n",
    "analyst.analyze_seq(seq_index=0)"
   ]
  },
  {
   "cell_type": "code",
   "execution_count": 17,
   "metadata": {},
   "outputs": [
    {
     "data": {
      "text/plain": [
       "(<Figure size 800x400 with 2 Axes>, <AxesSubplot: >)"
      ]
     },
     "execution_count": 17,
     "metadata": {},
     "output_type": "execute_result"
    },
    {
     "data": {
      "image/png": "[encoded data removed]",
      "text/plain": [
       "<Figure size 800x400 with 2 Axes>"
      ]
     },
     "metadata": {},
     "output_type": "display_data"
    }
   ],
   "source": [
    "# 補助情報のヒートマップの作成\n",
    "seq_meta_names = [\"gender:M\", \"gender:F\", \"age:20\", \"age:30\", \"age:40\", \"age:50\", \"age:60\"]\n",
    "item_meta_names = [\"genre:M\", \"genre:E\", \"genre:F\", \"year:1960\", \"year:1970\", \"year:1980\", \"year:1990\", \"year:2000\"]\n",
    "analyst.visualize_similarity_heatmap(seq_meta_names, item_meta_names, figsize=(8, 4))"
   ]
  },
  {
   "cell_type": "code",
   "execution_count": null,
   "metadata": {},
   "outputs": [],
   "source": []
  }
 ],
 "metadata": {
  "kernelspec": {
   "display_name": ".venv",
   "language": "python",
   "name": "python3"
  },
  "language_info": {
   "codemirror_mode": {
    "name": "ipython",
    "version": 3
   },
   "file_extension": ".py",
   "mimetype": "text/x-python",
   "name": "python",
   "nbconvert_exporter": "python",
   "pygments_lexer": "ipython3",
   "version": "3.11.6"
  },
  "orig_nbformat": 4
 },
 "nbformat": 4,
 "nbformat_minor": 2
}
