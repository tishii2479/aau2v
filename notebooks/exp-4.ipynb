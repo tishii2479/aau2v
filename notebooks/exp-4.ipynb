{
 "cells": [
  {
   "cell_type": "code",
   "execution_count": null,
   "metadata": {},
   "outputs": [],
   "source": [
    "import numpy as np\n",
    "import torch\n",
    "import matplotlib.pyplot as plt\n",
    "import seaborn as sns\n",
    "\n",
    "from aau2v.config import ModelConfig, TrainerConfig\n",
    "from aau2v.dataset_center import load_dataset_center\n",
    "from aau2v.trainer import PyTorchTrainer\n",
    "from aau2v.model import load_model"
   ]
  },
  {
   "cell_type": "code",
   "execution_count": null,
   "metadata": {},
   "outputs": [],
   "source": [
    "trainer_config = TrainerConfig(\n",
    "    dataset_name=\"toydata-paper\",\n",
    "    epochs=3,\n",
    ")\n",
    "model_config = ModelConfig(\n",
    "    max_embedding_norm=5,\n",
    ")"
   ]
  },
  {
   "cell_type": "code",
   "execution_count": null,
   "metadata": {},
   "outputs": [],
   "source": [
    "dataset_center = load_dataset_center(\n",
    "    dataset_name=trainer_config.dataset_name,\n",
    "    window_size=model_config.window_size,\n",
    ")"
   ]
  },
  {
   "cell_type": "code",
   "execution_count": null,
   "metadata": {},
   "outputs": [],
   "source": [
    "model = load_model(\n",
    "    dataset_center=dataset_center,\n",
    "    trainer_config=trainer_config,\n",
    "    model_config=model_config\n",
    ")\n",
    "trainer = PyTorchTrainer(\n",
    "    model=model,\n",
    "    dataset_center=dataset_center,\n",
    "    trainer_config=trainer_config,\n",
    ")\n",
    "trainer.fit()"
   ]
  },
  {
   "cell_type": "code",
   "execution_count": null,
   "metadata": {},
   "outputs": [],
   "source": [
    "seq_embedding = {\n",
    "    seq_name: e_seq\n",
    "    for seq_name, e_seq in zip(dataset_center.seq_le.classes_, model.seq_embedding)\n",
    "}\n",
    "item_embedding = {\n",
    "    item_name: e_item\n",
    "    for item_name, e_item in zip(dataset_center.item_le.classes_, model.item_embedding)\n",
    "}\n",
    "seq_meta_embedding = {\n",
    "    seq_meta_name: e_seq_meta\n",
    "    for seq_meta_name, e_seq_meta in zip(\n",
    "        dataset_center.seq_meta_le.classes_,\n",
    "        model.seq_meta_embedding,\n",
    "    )\n",
    "}\n",
    "item_meta_embedding = {\n",
    "    item_meta_name: e_item_meta\n",
    "    for item_meta_name, e_item_meta in zip(\n",
    "        dataset_center.item_meta_le.classes_,\n",
    "        model.item_meta_embedding,\n",
    "    )\n",
    "}"
   ]
  },
  {
   "cell_type": "code",
   "execution_count": null,
   "metadata": {},
   "outputs": [],
   "source": [
    "seq_keys = [\"u_0_M_20_100_M1\", \"u_1_M_20_100_M2\", \"u_2_M_20_100_M3\", \"u_3_M_20_100_M4\", \"u_4_M_20_100_M5\"]\n",
    "seq_meta_keys = [\"gender:M\", \"gender:F\", \"age:20\", \"age:30\", \"age:40\", \"age:50\", \"age:60\"]\n",
    "item_meta_keys = [\"genre:M\", \"genre:E\", \"genre:F\", \"year:1960\", \"year:1970\", \"year:1980\", \"year:1990\", \"year:2000\"]"
   ]
  },
  {
   "cell_type": "code",
   "execution_count": null,
   "metadata": {},
   "outputs": [],
   "source": [
    "cmap = \"OrRd\""
   ]
  },
  {
   "cell_type": "code",
   "execution_count": null,
   "metadata": {},
   "outputs": [],
   "source": [
    "plt.rcParams['figure.subplot.bottom'] = 0.30\n",
    "\n",
    "data = np.zeros((len(seq_meta_keys), len(item_meta_keys)))\n",
    "for i, seq_key in enumerate(seq_meta_keys):\n",
    "    for j, item_key in enumerate(item_meta_keys):\n",
    "        data[i][j] = torch.dot(seq_meta_embedding[seq_key], item_meta_embedding[item_key])\n",
    "\n",
    "display_seq_meta_keys = seq_meta_keys\n",
    "display_item_meta_keys = item_meta_keys\n",
    "\n",
    "plt.figure(figsize = (6,7/2))\n",
    "ax = sns.heatmap(data, linewidth=0.2, annot=True, fmt=\"5.2f\",\n",
    "    yticklabels=display_seq_meta_keys, xticklabels=display_item_meta_keys, cmap=cmap, cbar=False\n",
    ")\n",
    "ax.set_yticklabels(ax.get_yticklabels(), rotation=0)"
   ]
  },
  {
   "cell_type": "code",
   "execution_count": null,
   "metadata": {},
   "outputs": [],
   "source": [
    "data = np.zeros((len(seq_keys), len(item_meta_keys)))\n",
    "for i, seq_key in enumerate(seq_keys):\n",
    "    for j, item_key in enumerate(item_meta_keys):\n",
    "        data[i][j] = np.dot(seq_embedding[seq_key], item_meta_embedding[item_key])\n",
    "\n",
    "display_item_meta_keys = item_meta_keys\n",
    "display_seq_meta_keys = [\"User A\", \"User B\", \"User C\", \"User D\", \"User E\"]\n",
    "\n",
    "plt.figure(figsize = (6,4))\n",
    "ax = sns.heatmap(data, linewidth=0.2, annot=True, fmt=\"5.2f\",\n",
    "    yticklabels=display_seq_meta_keys, xticklabels=item_meta_keys, cmap=cmap, cbar=False\n",
    ")\n",
    "ax.set_yticklabels(ax.get_yticklabels(), rotation=0)\n",
    "plt.subplots_adjust(left=0.18, right=1, bottom=0.5, top=1)"
   ]
  },
  {
   "cell_type": "code",
   "execution_count": null,
   "metadata": {},
   "outputs": [],
   "source": []
  }
 ],
 "metadata": {
  "kernelspec": {
   "display_name": "Python 3",
   "language": "python",
   "name": "python3"
  },
  "language_info": {
   "codemirror_mode": {
    "name": "ipython",
    "version": 3
   },
   "file_extension": ".py",
   "mimetype": "text/x-python",
   "name": "python",
   "nbconvert_exporter": "python",
   "pygments_lexer": "ipython3",
   "version": "3.11.6"
  },
  "vscode": {
   "interpreter": {
    "hash": "2a5fb540920344d2a30df49d123c0d51f1e8fc17e24494fc3a54f6f29186e4c7"
   }
  }
 },
 "nbformat": 4,
 "nbformat_minor": 2
}
