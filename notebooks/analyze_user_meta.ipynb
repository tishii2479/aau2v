{
 "cells": [
  {
   "cell_type": "code",
   "execution_count": null,
   "metadata": {},
   "outputs": [],
   "source": [
    "import pandas as pd"
   ]
  },
  {
   "cell_type": "code",
   "execution_count": null,
   "metadata": {},
   "outputs": [],
   "source": [
    "users = pd.read_csv(\"../data/ml-1m/users.csv\")\n",
    "movies = pd.read_csv(\"../data/ml-1m/movies.csv\")\n",
    "ratings = pd.read_csv(\"../data/ml-1m/ratings.dat\", engine=\"python\", sep=\"::\", header=None)\n",
    "\n",
    "ratings.columns = [\"user_id\", \"movie_id\", \"rating\", \"timestamp\"]"
   ]
  },
  {
   "cell_type": "code",
   "execution_count": null,
   "metadata": {},
   "outputs": [],
   "source": [
    "df = pd.merge(ratings, movies, how=\"inner\", on=\"movie_id\")\n",
    "df = pd.merge(df, users, how=\"inner\", on=\"user_id\")\n",
    "df"
   ]
  },
  {
   "cell_type": "code",
   "execution_count": null,
   "metadata": {},
   "outputs": [],
   "source": [
    "genre_counts = {}\n",
    "\n",
    "def f(row):\n",
    "    target = row.gender\n",
    "    # if row.rating < 4: continue\n",
    "    if target not in genre_counts:\n",
    "        genre_counts[target] = {}\n",
    "    for genre in row.genre.split(\"|\"):\n",
    "        if genre not in genre_counts[target]:\n",
    "            genre_counts[target][genre] = 0\n",
    "        genre_counts[target][genre] += 1\n",
    "\n",
    "_ = df.apply(f, axis=1)"
   ]
  },
  {
   "cell_type": "code",
   "execution_count": null,
   "metadata": {},
   "outputs": [],
   "source": [
    "genre_df = pd.DataFrame(genre_counts)\n",
    "genre_df /= genre_df.sum()\n",
    "genre_df"
   ]
  },
  {
   "cell_type": "code",
   "execution_count": null,
   "metadata": {},
   "outputs": [],
   "source": [
    "genre_df[\"Ave\"] = genre_df.apply(lambda row: row.mean(axis=0), axis=1)\n",
    "# genre_df[\"18-24_p\"] = genre_df.apply(lambda row: (row[\"18-24\"] - row.Ave) / row.Ave, axis=1)\n",
    "genre_df[\"F_p\"] = genre_df.apply(lambda row: (row.F - row.Ave) / row.Ave, axis=1)\n",
    "genre_df"
   ]
  },
  {
   "cell_type": "code",
   "execution_count": null,
   "metadata": {},
   "outputs": [],
   "source": [
    "genre_df.sort_values(\"F_p\", ascending=False).F_p"
   ]
  },
  {
   "cell_type": "code",
   "execution_count": null,
   "metadata": {},
   "outputs": [],
   "source": [
    "c = genre_df.sort_values(\"F_p\", ascending=False).index.to_list()\n",
    "v = \"\"\"19.8511 Western\n",
    "16.4662 Romance\n",
    "11.0733 Documentary\n",
    "9.6883 Fantasy\n",
    "7.9723 Film-Noir\n",
    "5.6727 Musical\n",
    "3.7861 War\n",
    "2.8060 Crime\n",
    "1.6402 Mystery\n",
    "-0.6888 Sci-Fi\n",
    "-2.7091 Action\n",
    "-4.0114 Drama\n",
    "-4.8586 Children's\n",
    "-5.4887 Adventure\n",
    "-13.4018 Comedy\n",
    "-14.9702 Animation\n",
    "-14.9937 Horror\n",
    "-18.9063 Thriller\"\"\"\n",
    "\n",
    "v = list(map(lambda s: s.split()[1], v.split(\"\\n\")))\n",
    "\n",
    "p_c = []\n",
    "for e in c:\n",
    "    for i, e2 in enumerate(v):\n",
    "        if e == e2:\n",
    "            p_c.append(i)\n",
    "\n",
    "p_v = list(range(len(v)))"
   ]
  },
  {
   "cell_type": "code",
   "execution_count": null,
   "metadata": {},
   "outputs": [],
   "source": [
    "from scipy.stats import spearmanr\n",
    "\n",
    "spearmanr(p_c, p_v)"
   ]
  },
  {
   "cell_type": "code",
   "execution_count": null,
   "metadata": {},
   "outputs": [],
   "source": []
  }
 ],
 "metadata": {
  "kernelspec": {
   "display_name": "Python 3.10.4 64-bit ('3.10.4')",
   "language": "python",
   "name": "python3"
  },
  "language_info": {
   "codemirror_mode": {
    "name": "ipython",
    "version": 3
   },
   "file_extension": ".py",
   "mimetype": "text/x-python",
   "name": "python",
   "nbconvert_exporter": "python",
   "pygments_lexer": "ipython3",
   "version": "3.10.4"
  },
  "vscode": {
   "interpreter": {
    "hash": "2a5fb540920344d2a30df49d123c0d51f1e8fc17e24494fc3a54f6f29186e4c7"
   }
  }
 },
 "nbformat": 4,
 "nbformat_minor": 2
}
