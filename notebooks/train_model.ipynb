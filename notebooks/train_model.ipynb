{
 "cells": [
  {
   "cell_type": "code",
   "execution_count": null,
   "metadata": {},
   "outputs": [],
   "source": [
    "import numpy as np\n",
    "import torch\n",
    "import torch.nn.functional as F\n",
    "from scipy.stats import spearmanr\n",
    "import matplotlib.pyplot as plt\n",
    "\n",
    "import sys\n",
    "sys.path.append(\"..\")\n",
    "\n",
    "from analyst import Analyst\n",
    "from config import ModelConfig, TrainerConfig\n",
    "from dataset import load_dataset_manager\n",
    "from trainers import PyTorchTrainer"
   ]
  },
  {
   "cell_type": "code",
   "execution_count": null,
   "metadata": {},
   "outputs": [],
   "source": [
    "torch.manual_seed(0)\n",
    "np.random.seed(0)\n",
    "\n",
    "trainer_config = TrainerConfig(\n",
    "    dataset_name=\"toydata-paper\", epochs=3, ignore_saved_model=True, load_model=False, batch_size=64,\n",
    "    model_dir=\"../cache/model/\", dataset_dir=\"../cache/dataset/\"\n",
    ")\n",
    "model_config = ModelConfig(d_model=128, lr=0.0001, init_embedding_std=0.2, window_size=5)"
   ]
  },
  {
   "cell_type": "code",
   "execution_count": null,
   "metadata": {},
   "outputs": [],
   "source": [
    "trainer_config"
   ]
  },
  {
   "cell_type": "code",
   "execution_count": null,
   "metadata": {},
   "outputs": [],
   "source": [
    "model_config"
   ]
  },
  {
   "cell_type": "code",
   "execution_count": null,
   "metadata": {},
   "outputs": [],
   "source": [
    "dataset_manager = load_dataset_manager(\n",
    "    dataset_name=trainer_config.dataset_name,\n",
    "    dataset_dir=trainer_config.dataset_dir,\n",
    "    load_dataset=trainer_config.load_dataset,\n",
    "    save_dataset=trainer_config.save_dataset,\n",
    "    window_size=model_config.window_size,\n",
    "    data_dir=\"../data/\"\n",
    ")"
   ]
  },
  {
   "cell_type": "code",
   "execution_count": null,
   "metadata": {},
   "outputs": [],
   "source": [
    "trainer = PyTorchTrainer(\n",
    "    dataset_manager=dataset_manager,\n",
    "    trainer_config=trainer_config,\n",
    "    model_config=model_config,\n",
    ")\n",
    "analyst = Analyst(\n",
    "    dataset_manager=dataset_manager,\n",
    "    model=trainer.model\n",
    ")"
   ]
  },
  {
   "cell_type": "code",
   "execution_count": null,
   "metadata": {},
   "outputs": [],
   "source": [
    "def calc_spearmanr(v, c):\n",
    "    p_c = []\n",
    "    for e in c:\n",
    "        for i, e2 in enumerate(v):\n",
    "            if e == e2[1]:\n",
    "                p_c.append(i)\n",
    "    p_v = list(range(len(v)))\n",
    "    return spearmanr(p_c, p_v)\n",
    "\n",
    "def on_epoch_start(epoch: int):\n",
    "    m_v = analyst.similarity_between_seq_meta_and_item_meta(\n",
    "        \"gender\", \"M\", \"genre\", method=\"inner-product\"\n",
    "    )\n",
    "    f_v = analyst.similarity_between_seq_meta_and_item_meta(\n",
    "        \"gender\", \"F\", \"genre\", method=\"inner-product\"\n",
    "    )\n",
    "    # f_c = [\"Romance\", \"Musical\", \"Children's\", \"Animation\", \"Drama\", \"Comedy\", \"Mystery\", \"Documentary\", \"Fantasy\", \"Film-Noir\", \"Thriller\", \"Crime\", \"War\", \"Adventure\", \"Horror\", \"Action\", \"Sci-Fi\", \"Western\"]\n",
    "    # m_c = reversed(f_c)\n",
    "    # m_spearman = calc_spearmanr(m_v, m_c)\n",
    "    # f_spearman = calc_spearmanr(f_v, f_c)\n",
    "    # print(f\"M_spearman_result: {m_spearman}\")\n",
    "    # print(f\"F_spearman_result: {f_spearman}\")\n",
    "\n",
    "    # analyst.similarity_between_seq_meta_and_item_meta(\n",
    "    #     \"age\", \"10\", \"year\", method=\"inner-product\", num_top_values=30, verbose=True\n",
    "    # )\n",
    "    # analyst.similarity_between_seq_meta_and_item_meta(\n",
    "    #     \"age\", \"30\", \"year\", method=\"inner-product\", num_top_values=30, verbose=True\n",
    "    # )\n",
    "    # analyst.similarity_between_seq_meta_and_item_meta(\n",
    "    #     \"age\", \"50\", \"year\", method=\"inner-product\", num_top_values=30, verbose=True\n",
    "    # )\n",
    "\n",
    "    # print(\"seq:\", analyst.trainer.model.embedding_seq.embedding_element.weight.data.mean(), analyst.trainer.model.embedding_seq.embedding_element.weight.data.std(), analyst.trainer.model.embedding_seq.embedding_meta.weight.data.mean(), analyst.trainer.model.embedding_seq.embedding_meta.weight.data.std(),)\n",
    "    # print(\"item:\", analyst.trainer.model.embedding_item.embedding_element.weight.data.mean(), analyst.trainer.model.embedding_item.embedding_element.weight.data.std(), analyst.trainer.model.embedding_item.embedding_meta.weight.data.mean(), analyst.trainer.model.embedding_item.embedding_meta.weight.data.std(),)\n",
    "    # print(F.cosine_similarity(analyst.trainer.model.embedding_seq.embedding_element.weight[6], analyst.trainer.model.embedding_seq.embedding_element.weight[7], dim=0))\n",
    "    analyst.visualize_meta_embedding(\"age\", \"year\", method=\"pca\")\n",
    "    analyst.visualize_meta_embedding(\"gender\", \"genre\", method=\"pca\")"
   ]
  },
  {
   "cell_type": "code",
   "execution_count": null,
   "metadata": {},
   "outputs": [],
   "source": [
    "trainer.fit(show_fig=False, on_epoch_start=on_epoch_start)"
   ]
  },
  {
   "cell_type": "code",
   "execution_count": null,
   "metadata": {},
   "outputs": [],
   "source": [
    "analyst.similarity_between_seq_meta_and_item_meta(\"gender\", \"M\", \"genre\")"
   ]
  },
  {
   "cell_type": "code",
   "execution_count": null,
   "metadata": {},
   "outputs": [],
   "source": [
    "analyst.similarity_between_seq_meta_and_item_meta(\"gender\", \"F\", \"genre\")"
   ]
  },
  {
   "cell_type": "code",
   "execution_count": null,
   "metadata": {},
   "outputs": [],
   "source": []
  }
 ],
 "metadata": {
  "kernelspec": {
   "display_name": "Python 3.10.4 64-bit ('3.10.4')",
   "language": "python",
   "name": "python3"
  },
  "language_info": {
   "codemirror_mode": {
    "name": "ipython",
    "version": 3
   },
   "file_extension": ".py",
   "mimetype": "text/x-python",
   "name": "python",
   "nbconvert_exporter": "python",
   "pygments_lexer": "ipython3",
   "version": "3.10.4"
  },
  "vscode": {
   "interpreter": {
    "hash": "2a5fb540920344d2a30df49d123c0d51f1e8fc17e24494fc3a54f6f29186e4c7"
   }
  }
 },
 "nbformat": 4,
 "nbformat_minor": 2
}
