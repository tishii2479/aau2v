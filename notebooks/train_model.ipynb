{
 "cells": [
  {
   "cell_type": "code",
   "execution_count": 12,
   "metadata": {},
   "outputs": [],
   "source": [
    "import numpy as np\n",
    "import torch\n",
    "import torch.nn.functional as F\n",
    "from scipy.stats import spearmanr\n",
    "import matplotlib.pyplot as plt\n",
    "\n",
    "from au2v.analyst import Analyst\n",
    "from au2v.config import ModelConfig, TrainerConfig\n",
    "from au2v.dataset import load_dataset_manager\n",
    "from au2v.trainer import PyTorchTrainer"
   ]
  },
  {
   "cell_type": "code",
   "execution_count": 7,
   "metadata": {},
   "outputs": [],
   "source": [
    "torch.manual_seed(0)\n",
    "np.random.seed(0)\n",
    "\n",
    "trainer_config = TrainerConfig(\n",
    "    dataset_name=\"toydata-paper\", epochs=3, ignore_saved_model=True, load_model=False, batch_size=64,\n",
    "    model_dir=\"../cache/model/\", dataset_dir=\"../cache/dataset/\"\n",
    ")\n",
    "model_config = ModelConfig(d_model=128, lr=0.0001, init_embedding_std=0.2, window_size=5)"
   ]
  },
  {
   "cell_type": "code",
   "execution_count": 8,
   "metadata": {},
   "outputs": [
    {
     "data": {
      "text/plain": [
       "TrainerConfig(model_name='attentive', dataset_name='toydata-paper', epochs=3, batch_size=64, verbose=False, ignore_saved_model=True, load_model=False, save_model=True, load_dataset=True, save_dataset=True, model_dir='../cache/model/', dataset_dir='../cache/dataset/')"
      ]
     },
     "execution_count": 8,
     "metadata": {},
     "output_type": "execute_result"
    }
   ],
   "source": [
    "trainer_config"
   ]
  },
  {
   "cell_type": "code",
   "execution_count": 9,
   "metadata": {},
   "outputs": [
    {
     "data": {
      "text/plain": [
       "ModelConfig(d_model=128, init_embedding_std=0.2, max_embedding_norm=None, window_size=5, negative_sample_size=5, lr=0.0001)"
      ]
     },
     "execution_count": 9,
     "metadata": {},
     "output_type": "execute_result"
    }
   ],
   "source": [
    "model_config"
   ]
  },
  {
   "cell_type": "code",
   "execution_count": 10,
   "metadata": {},
   "outputs": [
    {
     "name": "stdout",
     "output_type": "stream",
     "text": [
      "dataset_manager does not exist at: ../cache/dataset/toydata-paper.pickle, create dataset\n",
      "num_seq: 10000, num_item: 750, num_item_meta: 8, num_seq_meta: 7, num_item_meta_types: 2, num_seq_meta_types: 2\n",
      "to_sequential_data start\n"
     ]
    },
    {
     "name": "stderr",
     "output_type": "stream",
     "text": [
      "100%|██████████| 10000/10000 [00:45<00:00, 217.81it/s]\n"
     ]
    },
    {
     "name": "stdout",
     "output_type": "stream",
     "text": [
      "to_sequential_data end\n",
      "to_sequential_data start\n"
     ]
    },
    {
     "name": "stderr",
     "output_type": "stream",
     "text": [
      "100%|██████████| 10000/10000 [00:44<00:00, 226.35it/s]\n"
     ]
    },
    {
     "name": "stdout",
     "output_type": "stream",
     "text": [
      "to_sequential_data end\n",
      "dumping dataset_manager to: ../cache/dataset/toydata-paper.pickle\n",
      "dumped dataset_manager to: ../cache/dataset/toydata-paper.pickle\n"
     ]
    }
   ],
   "source": [
    "dataset_manager = load_dataset_manager(\n",
    "    dataset_name=trainer_config.dataset_name,\n",
    "    dataset_dir=trainer_config.dataset_dir,\n",
    "    load_dataset=trainer_config.load_dataset,\n",
    "    save_dataset=trainer_config.save_dataset,\n",
    "    window_size=model_config.window_size,\n",
    "    data_dir=\"../data/\"\n",
    ")"
   ]
  },
  {
   "cell_type": "code",
   "execution_count": 13,
   "metadata": {},
   "outputs": [],
   "source": [
    "trainer = PyTorchTrainer(\n",
    "    dataset_manager=dataset_manager,\n",
    "    trainer_config=trainer_config,\n",
    "    model_config=model_config,\n",
    ")\n",
    "analyst = Analyst(\n",
    "    dataset_manager=dataset_manager,\n",
    "    model=trainer.model\n",
    ")"
   ]
  },
  {
   "cell_type": "code",
   "execution_count": 17,
   "metadata": {},
   "outputs": [],
   "source": [
    "def calc_spearmanr(v, c):\n",
    "    p_c = []\n",
    "    for e in c:\n",
    "        for i, e2 in enumerate(v):\n",
    "            if e == e2[1]:\n",
    "                p_c.append(i)\n",
    "    p_v = list(range(len(v)))\n",
    "    return spearmanr(p_c, p_v)\n",
    "\n",
    "def on_epoch_start(epoch: int):\n",
    "    m_v = analyst.similarity_between_seq_meta_and_item_meta(\n",
    "        \"gender\", \"M\", \"genre\", method=\"inner-product\"\n",
    "    )\n",
    "    f_v = analyst.similarity_between_seq_meta_and_item_meta(\n",
    "        \"gender\", \"F\", \"genre\", method=\"inner-product\"\n",
    "    )\n",
    "    # f_c = [\"Romance\", \"Musical\", \"Children's\", \"Animation\", \"Drama\", \"Comedy\", \"Mystery\", \"Documentary\", \"Fantasy\", \"Film-Noir\", \"Thriller\", \"Crime\", \"War\", \"Adventure\", \"Horror\", \"Action\", \"Sci-Fi\", \"Western\"]\n",
    "    # m_c = reversed(f_c)\n",
    "    # m_spearman = calc_spearmanr(m_v, m_c)\n",
    "    # f_spearman = calc_spearmanr(f_v, f_c)\n",
    "    # print(f\"M_spearman_result: {m_spearman}\")\n",
    "    # print(f\"F_spearman_result: {f_spearman}\")\n",
    "\n",
    "    # analyst.similarity_between_seq_meta_and_item_meta(\n",
    "    #     \"age\", \"10\", \"year\", method=\"inner-product\", num_top_values=30, verbose=True\n",
    "    # )\n",
    "    # analyst.similarity_between_seq_meta_and_item_meta(\n",
    "    #     \"age\", \"30\", \"year\", method=\"inner-product\", num_top_values=30, verbose=True\n",
    "    # )\n",
    "    # analyst.similarity_between_seq_meta_and_item_meta(\n",
    "    #     \"age\", \"50\", \"year\", method=\"inner-product\", num_top_values=30, verbose=True\n",
    "    # )\n",
    "\n",
    "    # print(\"seq:\", analyst.trainer.model.embedding_seq.embedding_element.weight.data.mean(), analyst.trainer.model.embedding_seq.embedding_element.weight.data.std(), analyst.trainer.model.embedding_seq.embedding_meta.weight.data.mean(), analyst.trainer.model.embedding_seq.embedding_meta.weight.data.std(),)\n",
    "    # print(\"item:\", analyst.trainer.model.embedding_item.embedding_element.weight.data.mean(), analyst.trainer.model.embedding_item.embedding_element.weight.data.std(), analyst.trainer.model.embedding_item.embedding_meta.weight.data.mean(), analyst.trainer.model.embedding_item.embedding_meta.weight.data.std(),)\n",
    "    # print(F.cosine_similarity(analyst.trainer.model.embedding_seq.embedding_element.weight[6], analyst.trainer.model.embedding_seq.embedding_element.weight[7], dim=0))\n",
    "    analyst.visualize_meta_embedding(\"age\", \"year\", method=\"pca\")\n",
    "    analyst.visualize_meta_embedding(\"gender\", \"genre\", method=\"pca\")"
   ]
  },
  {
   "cell_type": "code",
   "execution_count": 18,
   "metadata": {},
   "outputs": [
    {
     "name": "stdout",
     "output_type": "stream",
     "text": [
      "train start\n"
     ]
    },
    {
     "data": {
      "image/png": "[encoded data removed]",
      "text/plain": [
       "<Figure size 432x288 with 1 Axes>"
      ]
     },
     "metadata": {
      "needs_background": "light"
     },
     "output_type": "display_data"
    },
    {
     "data": {
      "image/png": "[encoded data removed]",
      "text/plain": [
       "<Figure size 432x288 with 1 Axes>"
      ]
     },
     "metadata": {
      "needs_background": "light"
     },
     "output_type": "display_data"
    },
    {
     "name": "stderr",
     "output_type": "stream",
     "text": [
      "100%|██████████| 6094/6094 [01:19<00:00, 77.06it/s]\n",
      "100%|██████████| 1407/1407 [00:04<00:00, 293.29it/s]\n"
     ]
    },
    {
     "name": "stdout",
     "output_type": "stream",
     "text": [
      "Epoch: 1, loss: 0.23821591105144613, test_loss: {'test': 0.239180799856962}\n",
      "saved best model to ../cache/model/toydata-paper/best-attentive.pt\n"
     ]
    },
    {
     "data": {
      "image/png": "[encoded data removed]",
      "text/plain": [
       "<Figure size 432x288 with 1 Axes>"
      ]
     },
     "metadata": {
      "needs_background": "light"
     },
     "output_type": "display_data"
    },
    {
     "data": {
      "image/png": "[encoded data removed]",
      "text/plain": [
       "<Figure size 432x288 with 1 Axes>"
      ]
     },
     "metadata": {
      "needs_background": "light"
     },
     "output_type": "display_data"
    },
    {
     "name": "stderr",
     "output_type": "stream",
     "text": [
      "100%|██████████| 6094/6094 [01:19<00:00, 76.82it/s]\n",
      "100%|██████████| 1407/1407 [00:05<00:00, 277.16it/s]\n"
     ]
    },
    {
     "name": "stdout",
     "output_type": "stream",
     "text": [
      "Epoch: 2, loss: 0.22397809835351956, test_loss: {'test': 0.22918110362544666}\n",
      "saved best model to ../cache/model/toydata-paper/best-attentive.pt\n"
     ]
    },
    {
     "data": {
      "image/png": "[encoded data removed]",
      "text/plain": [
       "<Figure size 432x288 with 1 Axes>"
      ]
     },
     "metadata": {
      "needs_background": "light"
     },
     "output_type": "display_data"
    },
    {
     "data": {
      "image/png": "[encoded data removed]",
      "text/plain": [
       "<Figure size 432x288 with 1 Axes>"
      ]
     },
     "metadata": {
      "needs_background": "light"
     },
     "output_type": "display_data"
    },
    {
     "name": "stderr",
     "output_type": "stream",
     "text": [
      "100%|██████████| 6094/6094 [01:18<00:00, 77.57it/s]\n",
      "100%|██████████| 1407/1407 [00:04<00:00, 303.72it/s]"
     ]
    },
    {
     "name": "stdout",
     "output_type": "stream",
     "text": [
      "Epoch: 3, loss: 0.21898898883093995, test_loss: {'test': 0.22435826663650685}\n",
      "saved best model to ../cache/model/toydata-paper/best-attentive.pt\n",
      "train end\n",
      "saved model to ../cache/model/toydata-paper/attentive.pt\n"
     ]
    },
    {
     "name": "stderr",
     "output_type": "stream",
     "text": [
      "\n"
     ]
    },
    {
     "data": {
      "text/plain": [
       "{'train': [0.23821591105144613, 0.22397809835351956, 0.21898898883093995],\n",
       " 'test': [0.239180799856962, 0.22918110362544666, 0.22435826663650685]}"
      ]
     },
     "execution_count": 18,
     "metadata": {},
     "output_type": "execute_result"
    }
   ],
   "source": [
    "trainer.fit(show_fig=False, on_epoch_start=on_epoch_start)"
   ]
  },
  {
   "cell_type": "code",
   "execution_count": 19,
   "metadata": {},
   "outputs": [
    {
     "data": {
      "text/html": [
       "<div>\n",
       "<style scoped>\n",
       "    .dataframe tbody tr th:only-of-type {\n",
       "        vertical-align: middle;\n",
       "    }\n",
       "\n",
       "    .dataframe tbody tr th {\n",
       "        vertical-align: top;\n",
       "    }\n",
       "\n",
       "    .dataframe thead th {\n",
       "        text-align: right;\n",
       "    }\n",
       "</style>\n",
       "<table border=\"1\" class=\"dataframe\">\n",
       "  <thead>\n",
       "    <tr style=\"text-align: right;\">\n",
       "      <th></th>\n",
       "      <th>similarity</th>\n",
       "      <th>item_meta</th>\n",
       "    </tr>\n",
       "  </thead>\n",
       "  <tbody>\n",
       "    <tr>\n",
       "      <th>0</th>\n",
       "      <td>10.684203</td>\n",
       "      <td>genre:M</td>\n",
       "    </tr>\n",
       "    <tr>\n",
       "      <th>1</th>\n",
       "      <td>-0.966498</td>\n",
       "      <td>genre:E</td>\n",
       "    </tr>\n",
       "    <tr>\n",
       "      <th>2</th>\n",
       "      <td>-7.802520</td>\n",
       "      <td>genre:F</td>\n",
       "    </tr>\n",
       "  </tbody>\n",
       "</table>\n",
       "</div>"
      ],
      "text/plain": [
       "   similarity item_meta\n",
       "0   10.684203   genre:M\n",
       "1   -0.966498   genre:E\n",
       "2   -7.802520   genre:F"
      ]
     },
     "execution_count": 19,
     "metadata": {},
     "output_type": "execute_result"
    }
   ],
   "source": [
    "analyst.similarity_between_seq_meta_and_item_meta(\"gender\", \"M\", \"genre\")"
   ]
  },
  {
   "cell_type": "code",
   "execution_count": 21,
   "metadata": {},
   "outputs": [
    {
     "data": {
      "text/html": [
       "<div>\n",
       "<style scoped>\n",
       "    .dataframe tbody tr th:only-of-type {\n",
       "        vertical-align: middle;\n",
       "    }\n",
       "\n",
       "    .dataframe tbody tr th {\n",
       "        vertical-align: top;\n",
       "    }\n",
       "\n",
       "    .dataframe thead th {\n",
       "        text-align: right;\n",
       "    }\n",
       "</style>\n",
       "<table border=\"1\" class=\"dataframe\">\n",
       "  <thead>\n",
       "    <tr style=\"text-align: right;\">\n",
       "      <th></th>\n",
       "      <th>similarity</th>\n",
       "      <th>item_meta</th>\n",
       "    </tr>\n",
       "  </thead>\n",
       "  <tbody>\n",
       "    <tr>\n",
       "      <th>0</th>\n",
       "      <td>11.349966</td>\n",
       "      <td>genre:F</td>\n",
       "    </tr>\n",
       "    <tr>\n",
       "      <th>1</th>\n",
       "      <td>2.725331</td>\n",
       "      <td>genre:E</td>\n",
       "    </tr>\n",
       "    <tr>\n",
       "      <th>2</th>\n",
       "      <td>-8.804426</td>\n",
       "      <td>genre:M</td>\n",
       "    </tr>\n",
       "  </tbody>\n",
       "</table>\n",
       "</div>"
      ],
      "text/plain": [
       "   similarity item_meta\n",
       "0   11.349966   genre:F\n",
       "1    2.725331   genre:E\n",
       "2   -8.804426   genre:M"
      ]
     },
     "execution_count": 21,
     "metadata": {},
     "output_type": "execute_result"
    }
   ],
   "source": [
    "analyst.similarity_between_seq_meta_and_item_meta(\"gender\", \"F\", \"genre\")"
   ]
  },
  {
   "cell_type": "code",
   "execution_count": null,
   "metadata": {},
   "outputs": [],
   "source": []
  }
 ],
 "metadata": {
  "kernelspec": {
   "display_name": "Python 3.10.4 64-bit ('3.10.4')",
   "language": "python",
   "name": "python3"
  },
  "language_info": {
   "codemirror_mode": {
    "name": "ipython",
    "version": 3
   },
   "file_extension": ".py",
   "mimetype": "text/x-python",
   "name": "python",
   "nbconvert_exporter": "python",
   "pygments_lexer": "ipython3",
   "version": "3.10.4"
  },
  "vscode": {
   "interpreter": {
    "hash": "2a5fb540920344d2a30df49d123c0d51f1e8fc17e24494fc3a54f6f29186e4c7"
   }
  }
 },
 "nbformat": 4,
 "nbformat_minor": 2
}
