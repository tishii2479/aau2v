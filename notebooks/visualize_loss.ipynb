{
 "cells": [
  {
   "cell_type": "code",
   "execution_count": null,
   "metadata": {},
   "outputs": [],
   "source": [
    "import json\n",
    "import matplotlib.pyplot as plt"
   ]
  },
  {
   "cell_type": "code",
   "execution_count": null,
   "metadata": {},
   "outputs": [],
   "source": [
    "with open(\"../data/loss_log.json\", \"r\") as f:\n",
    "    json_data = json.load(f)"
   ]
  },
  {
   "cell_type": "code",
   "execution_count": null,
   "metadata": {},
   "outputs": [],
   "source": [
    "models = [\"proposed\", \"user2vec\"]\n",
    "train_loss_names = {\"loss\": \"train-loss\"}\n",
    "test_loss_names = {\n",
    "    \"train-size=0\": \"test-loss (train-size=0)\",\n",
    "    \"train-size=10\": \"test-loss (train-size=10)\",\n",
    "    \"train-size=20\": \"test-loss (train-size=20)\",\n",
    "    \"train-size=30\": \"test-loss (train-size=30)\",\n",
    "    \"train-size=40\": \"test-loss (train-size=40)\",\n",
    "    \"train-size=50\": \"test-loss (train-size=50)\",\n",
    "}\n",
    "\n",
    "loss_data = {}\n",
    "\n",
    "for model in models:\n",
    "    loss_data[model] = {}\n",
    "    for epoch_data in json_data[model]:\n",
    "        for loss_name, display_loss_name in train_loss_names.items():\n",
    "            display_loss_name = model + \" \" + display_loss_name\n",
    "            if display_loss_name not in loss_data[model]:\n",
    "                loss_data[model][display_loss_name] = []\n",
    "            loss_data[model][display_loss_name].append(epoch_data[loss_name])\n",
    "        for loss_name, display_loss_name in test_loss_names.items():\n",
    "            display_loss_name = model + \" \" + display_loss_name\n",
    "            if display_loss_name not in loss_data[model]:\n",
    "                loss_data[model][display_loss_name] = []\n",
    "            loss_data[model][display_loss_name].append(epoch_data[\"test_loss\"][loss_name])"
   ]
  },
  {
   "cell_type": "code",
   "execution_count": null,
   "metadata": {},
   "outputs": [],
   "source": [
    "import matplotlib.cm as cm\n",
    "fig, ax = plt.subplots(figsize=(6, 4))\n",
    "\n",
    "for model in models:\n",
    "    cmap = cm.Reds if model == \"proposed\" else cm.Blues\n",
    "    # linestyle = \"solid\" if model == \"proposed\" else \"dashed\"\n",
    "    for i, (loss_name, losses) in enumerate(loss_data[model].items()):\n",
    "        ax.plot(losses[:20], label=loss_name, color=cmap(0.5 + 0.5 * i / len(loss_data[model])))\n",
    "\n",
    "ax.set_ylabel(\"Loss\")\n",
    "ax.set_xlabel(\"Epoch\")\n",
    "fig.legend()"
   ]
  },
  {
   "cell_type": "code",
   "execution_count": null,
   "metadata": {},
   "outputs": [],
   "source": [
    "fig, ax = plt.subplots(figsize=(6, 4))\n",
    "\n",
    "for model in [\"proposed\"]:\n",
    "    for i, (loss_name, losses) in enumerate(loss_data[model].items()):\n",
    "        if loss_name == \"proposed train-loss\":\n",
    "            color = \"#274A78\"\n",
    "        else:\n",
    "            color = cm.Oranges(i / 5)\n",
    "        ax.plot(losses[:20], label=loss_name, color=color)\n",
    "\n",
    "ax.set_ylabel(\"Loss\")\n",
    "ax.set_xlabel(\"Epoch\")\n",
    "fig.legend()\n",
    "fig.savefig(\"data/loss.svg\", format=\"svg\")"
   ]
  },
  {
   "cell_type": "code",
   "execution_count": null,
   "metadata": {},
   "outputs": [],
   "source": [
    "fig, ax = plt.subplots()\n",
    "\n",
    "colors = {\n",
    "    \"proposed\": \"#EC6D51\",\n",
    "    \"user2vec\": \"#274A78\"\n",
    "}\n",
    "\n",
    "for model in models:\n",
    "    i = -1\n",
    "    xs, ys = [], []\n",
    "    for loss_name, losses in loss_data[model].items():\n",
    "        i += 1\n",
    "        if i == 0:\n",
    "            continue\n",
    "        xs.append(i * 10)\n",
    "        ys.append(min(losses))\n",
    "    ax.plot(xs, ys, marker='o', label=model, color=colors[model])\n",
    "\n",
    "ax.set_ylabel(\"Loss\")\n",
    "ax.set_xlabel(\"Train data size\")\n",
    "fig.legend()\n",
    "fig.savefig(\"data/compare.svg\", format=\"svg\")\n",
    "fig.savefig(\"data/compare.pdf\", format=\"pdf\")"
   ]
  },
  {
   "cell_type": "code",
   "execution_count": null,
   "metadata": {},
   "outputs": [],
   "source": [
    "proposed = [0.13780289706080517, 0.10975917064129039, 0.09165382198989391, 0.08783298873520912, 0.07421393228813689]\n",
    "doc2vec = [0.19013651333590773, 0.15874055341044638, 0.1320475473048839, 0.12571821234961775, 0.11140885534993511]\n",
    "proposed_gender = [0.1454391172750199, 0.11478135786316496,  0.09466286221558744,  0.089873733732136,  0.07711116232453509]\n",
    "\n",
    "for i in range(5):\n",
    "    print(proposed[i] - doc2vec[i])"
   ]
  },
  {
   "cell_type": "code",
   "execution_count": null,
   "metadata": {},
   "outputs": [],
   "source": []
  }
 ],
 "metadata": {
  "kernelspec": {
   "display_name": "Python 3.10.4 64-bit ('3.10.4')",
   "language": "python",
   "name": "python3"
  },
  "language_info": {
   "codemirror_mode": {
    "name": "ipython",
    "version": 3
   },
   "file_extension": ".py",
   "mimetype": "text/x-python",
   "name": "python",
   "nbconvert_exporter": "python",
   "pygments_lexer": "ipython3",
   "version": "3.10.4"
  },
  "vscode": {
   "interpreter": {
    "hash": "2a5fb540920344d2a30df49d123c0d51f1e8fc17e24494fc3a54f6f29186e4c7"
   }
  }
 },
 "nbformat": 4,
 "nbformat_minor": 2
}
