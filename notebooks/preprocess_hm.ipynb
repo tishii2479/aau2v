{
 "cells": [
  {
   "cell_type": "code",
   "execution_count": 1,
   "metadata": {},
   "outputs": [
    {
     "name": "stdout",
     "output_type": "stream",
     "text": [
      "hi\n",
      "hi!\n",
      "2136454\n",
      "hi!!\n"
     ]
    }
   ],
   "source": [
    "import pandas as pd\n",
    "\n",
    "customers_df = pd.read_csv('../data/hm/customers.csv')\n",
    "articles_df = pd.read_csv('../data/hm/articles.csv', dtype={'article_id': str})"
   ]
  },
  {
   "cell_type": "code",
   "execution_count": null,
   "metadata": {},
   "outputs": [],
   "source": [
    "article_df = articles_df[['article_id', 'prod_name', 'product_type_name']]\n",
    "customers_df = customers_df[['customer_id', 'age']]\n",
    "transactions_df = pd.read_csv('../data/hm/transactions_train.csv', dtype={'article_id': str})"
   ]
  },
  {
   "cell_type": "code",
   "execution_count": 71,
   "metadata": {},
   "outputs": [],
   "source": [
    "df = pd.merge(transactions_df, article_df, how='inner', on='article_id')\n",
    "\n",
    "customer_count = df.customer_id.value_counts()\n",
    "valid_customers = customer_count[5000:15000]\n",
    "valid_customer_ids = set(valid_customers.index)\n",
    "\n",
    "valid_customer_mask = df.customer_id.isin(valid_customer_ids)\n",
    "\n",
    "a = df.article_id.value_counts()\n",
    "too_popular_articles = set(a[:50].index)\n",
    "too_unpopular_articles = set(a[a < 20].index)\n",
    "\n",
    "exclude_article_mask = df.article_id.isin(too_popular_articles | too_unpopular_articles)\n",
    "\n",
    "mask = (valid_customer_mask & (~exclude_article_mask))\n",
    "\n",
    "filtered_df = df[mask]"
   ]
  },
  {
   "cell_type": "code",
   "execution_count": 72,
   "metadata": {},
   "outputs": [
    {
     "name": "stderr",
     "output_type": "stream",
     "text": [
      "100%|██████████| 10000/10000 [00:00<00:00, 16956.45it/s]\n"
     ]
    }
   ],
   "source": [
    "from tqdm import tqdm\n",
    "tqdm.pandas()\n",
    "\n",
    "raw_sequences = []\n",
    "seq_labels = None\n",
    "\n",
    "for customer_id, personal_df in tqdm(filtered_df.groupby('customer_id')):\n",
    "    raw_sequences.append(list(personal_df.article_id.values))"
   ]
  },
  {
   "cell_type": "code",
   "execution_count": 74,
   "metadata": {},
   "outputs": [],
   "source": [
    "filtered_articles = filtered_df.article_id.unique()"
   ]
  },
  {
   "cell_type": "code",
   "execution_count": 75,
   "metadata": {},
   "outputs": [],
   "source": [
    "item_list = []\n",
    "filtered_articles_df = articles_df[article_df.article_id.isin(set(filtered_articles))]\n",
    "\n",
    "for index, row in filtered_articles_df.iterrows():\n",
    "    item_name = row.prod_name + ' - ' + row.product_type_name\n",
    "    item_list.append(item_name)"
   ]
  },
  {
   "cell_type": "code",
   "execution_count": 76,
   "metadata": {},
   "outputs": [],
   "source": [
    "raw_sequences = [' '.join(sequence) for sequence in raw_sequences]"
   ]
  },
  {
   "cell_type": "code",
   "execution_count": 77,
   "metadata": {},
   "outputs": [],
   "source": [
    "sequence_df = pd.DataFrame(raw_sequences, columns=['sequence'])\n",
    "sequence_df.to_csv('../data/hm/filtered_purchase_history.csv')"
   ]
  },
  {
   "cell_type": "code",
   "execution_count": 78,
   "metadata": {},
   "outputs": [],
   "source": [
    "item_df = pd.DataFrame(item_list, columns=['name'])\n",
    "item_df['article_id'] = filtered_articles\n",
    "item_df.to_csv('../data/hm/items.csv')"
   ]
  }
 ],
 "metadata": {
  "kernelspec": {
   "display_name": "Python 3.10.4 64-bit ('3.10.4')",
   "language": "python",
   "name": "python3"
  },
  "language_info": {
   "codemirror_mode": {
    "name": "ipython",
    "version": 3
   },
   "file_extension": ".py",
   "mimetype": "text/x-python",
   "name": "python",
   "nbconvert_exporter": "python",
   "pygments_lexer": "ipython3",
   "version": "3.10.4"
  },
  "orig_nbformat": 4,
  "vscode": {
   "interpreter": {
    "hash": "2a5fb540920344d2a30df49d123c0d51f1e8fc17e24494fc3a54f6f29186e4c7"
   }
  }
 },
 "nbformat": 4,
 "nbformat_minor": 2
}
