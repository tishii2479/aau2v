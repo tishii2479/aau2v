{
 "cells": [
  {
   "cell_type": "code",
   "execution_count": null,
   "metadata": {},
   "outputs": [],
   "source": [
    "import pandas as pd"
   ]
  },
  {
   "cell_type": "code",
   "execution_count": null,
   "metadata": {},
   "outputs": [],
   "source": [
    "\n",
    "customers_df = pd.read_csv('../data/hm/customers.csv')\n",
    "article_df = pd.read_csv('../data/hm/articles.csv', dtype={'article_id': str})\n",
    "transactions_df = pd.read_csv('../data/hm/transactions_train.csv', dtype={'article_id': str})"
   ]
  },
  {
   "cell_type": "code",
   "execution_count": null,
   "metadata": {},
   "outputs": [],
   "source": [
    "article_df = article_df[['article_id', 'prod_name', 'product_type_name', 'colour_group_name', 'section_name']]\n",
    "customers_df = customers_df[['customer_id', 'age']]"
   ]
  },
  {
   "cell_type": "code",
   "execution_count": null,
   "metadata": {},
   "outputs": [],
   "source": [
    "df = pd.merge(transactions_df, article_df, how='inner', on='article_id')\n",
    "\n",
    "customer_count = df.customer_id.value_counts()\n",
    "valid_customers = customer_count[5000:15000]\n",
    "valid_customer_ids = set(valid_customers.index)\n",
    "\n",
    "valid_customer_mask = df.customer_id.isin(valid_customer_ids)\n",
    "\n",
    "a = df.article_id.value_counts()\n",
    "too_popular_articles = set(a[:50].index)\n",
    "too_unpopular_articles = set(a[a < 20].index)\n",
    "\n",
    "exclude_article_mask = df.article_id.isin(too_popular_articles | too_unpopular_articles)\n",
    "\n",
    "mask = (valid_customer_mask & (~exclude_article_mask))\n",
    "\n",
    "filtered_df = df[mask]"
   ]
  },
  {
   "cell_type": "code",
   "execution_count": null,
   "metadata": {},
   "outputs": [],
   "source": [
    "from tqdm import tqdm\n",
    "tqdm.pandas()\n",
    "\n",
    "raw_sequences = []\n",
    "customer_ids = []\n",
    "seq_labels = None\n",
    "\n",
    "for customer_id, personal_df in tqdm(filtered_df.groupby('customer_id')):\n",
    "    raw_sequences.append(list(personal_df.article_id.values))\n",
    "    customer_ids.append(customer_id)"
   ]
  },
  {
   "cell_type": "code",
   "execution_count": null,
   "metadata": {},
   "outputs": [],
   "source": [
    "filtered_articles = filtered_df.article_id.unique()"
   ]
  },
  {
   "cell_type": "code",
   "execution_count": null,
   "metadata": {},
   "outputs": [],
   "source": [
    "filtered_articles_df = article_df[article_df.article_id.isin(set(filtered_articles))]\n",
    "filtered_articles_df = filtered_articles_df.set_index('article_id')\n",
    "filtered_articles_df.to_csv('../data/hm/items.csv')"
   ]
  },
  {
   "cell_type": "code",
   "execution_count": null,
   "metadata": {},
   "outputs": [],
   "source": [
    "item_list = []\n",
    "\n",
    "for index, row in filtered_articles_df.iterrows():\n",
    "    item_name = row.prod_name + ' - ' + row.product_type_name\n",
    "    item_list.append(item_name)"
   ]
  },
  {
   "cell_type": "code",
   "execution_count": null,
   "metadata": {},
   "outputs": [],
   "source": [
    "raw_sequences = [' '.join(sequence) for sequence in raw_sequences]"
   ]
  },
  {
   "cell_type": "code",
   "execution_count": null,
   "metadata": {},
   "outputs": [],
   "source": [
    "sequence_df = pd.DataFrame(raw_sequences, columns=['sequence'])\n",
    "sequence_df['customer_id'] = customer_ids\n",
    "sequence_df.to_csv('../data/hm/filtered_purchase_history.csv', index=False)"
   ]
  },
  {
   "cell_type": "code",
   "execution_count": null,
   "metadata": {},
   "outputs": [],
   "source": [
    "items = pd.read_csv(\"../data/hm/items.csv\", dtype={\"article_id\": str}, index_col='article_id')"
   ]
  },
  {
   "cell_type": "code",
   "execution_count": null,
   "metadata": {},
   "outputs": [],
   "source": [
    "customers_df.index = customers_df.customer_id\n",
    "customers_df = customers_df.drop(\"customer_id\", axis=1)"
   ]
  },
  {
   "cell_type": "code",
   "execution_count": null,
   "metadata": {},
   "outputs": [],
   "source": [
    "customers_df.to_csv('../data/hm/customers.csv')"
   ]
  },
  {
   "cell_type": "code",
   "execution_count": null,
   "metadata": {},
   "outputs": [],
   "source": [
    "pd.read_csv('../data/hm/filtered_purchase_history.csv')"
   ]
  },
  {
   "cell_type": "code",
   "execution_count": null,
   "metadata": {},
   "outputs": [],
   "source": []
  }
 ],
 "metadata": {
  "kernelspec": {
   "display_name": "Python 3.10.4 64-bit ('3.10.4')",
   "language": "python",
   "name": "python3"
  },
  "language_info": {
   "codemirror_mode": {
    "name": "ipython",
    "version": 3
   },
   "file_extension": ".py",
   "mimetype": "text/x-python",
   "name": "python",
   "nbconvert_exporter": "python",
   "pygments_lexer": "ipython3",
   "version": "3.10.4"
  },
  "vscode": {
   "interpreter": {
    "hash": "2a5fb540920344d2a30df49d123c0d51f1e8fc17e24494fc3a54f6f29186e4c7"
   }
  }
 },
 "nbformat": 4,
 "nbformat_minor": 2
}
