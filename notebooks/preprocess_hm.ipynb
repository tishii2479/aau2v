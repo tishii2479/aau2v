{
 "cells": [
  {
   "cell_type": "code",
   "execution_count": 1,
   "metadata": {},
   "outputs": [],
   "source": [
    "import pandas as pd"
   ]
  },
  {
   "cell_type": "code",
   "execution_count": 2,
   "metadata": {},
   "outputs": [],
   "source": [
    "\n",
    "customers_df = pd.read_csv('../data/hm/customers.csv')\n",
    "article_df = pd.read_csv('../data/hm/articles.csv', dtype={'article_id': str})\n",
    "transactions_df = pd.read_csv('../data/hm/transactions_train.csv', dtype={'article_id': str})"
   ]
  },
  {
   "cell_type": "code",
   "execution_count": 3,
   "metadata": {},
   "outputs": [],
   "source": [
    "article_df = article_df[['article_id', 'prod_name', 'product_type_name', 'colour_group_name', 'section_name']]\n",
    "customers_df = customers_df[['customer_id', 'age']]"
   ]
  },
  {
   "cell_type": "code",
   "execution_count": 4,
   "metadata": {},
   "outputs": [],
   "source": [
    "df = pd.merge(transactions_df, article_df, how='inner', on='article_id')\n",
    "\n",
    "customer_count = df.customer_id.value_counts()\n",
    "valid_customers = customer_count[5000:15000]\n",
    "valid_customer_ids = set(valid_customers.index)\n",
    "\n",
    "valid_customer_mask = df.customer_id.isin(valid_customer_ids)\n",
    "\n",
    "a = df.article_id.value_counts()\n",
    "too_popular_articles = set(a[:50].index)\n",
    "too_unpopular_articles = set(a[a < 20].index)\n",
    "\n",
    "exclude_article_mask = df.article_id.isin(too_popular_articles | too_unpopular_articles)\n",
    "\n",
    "mask = (valid_customer_mask & (~exclude_article_mask))\n",
    "\n",
    "filtered_df = df[mask]"
   ]
  },
  {
   "cell_type": "code",
   "execution_count": 5,
   "metadata": {},
   "outputs": [
    {
     "name": "stderr",
     "output_type": "stream",
     "text": [
      "100%|██████████| 10000/10000 [00:00<00:00, 16218.08it/s]"
     ]
    },
    {
     "name": "stdout",
     "output_type": "stream",
     "text": [
      "2044684\n"
     ]
    },
    {
     "name": "stderr",
     "output_type": "stream",
     "text": [
      "\n"
     ]
    }
   ],
   "source": [
    "from tqdm import tqdm\n",
    "tqdm.pandas()\n",
    "\n",
    "raw_sequences = []\n",
    "customer_ids = []\n",
    "seq_labels = None\n",
    "\n",
    "for customer_id, personal_df in tqdm(filtered_df.groupby('customer_id')):\n",
    "    raw_sequences.append(list(personal_df.article_id.values))\n",
    "    customer_ids.append(customer_id)"
   ]
  },
  {
   "cell_type": "code",
   "execution_count": null,
   "metadata": {},
   "outputs": [],
   "source": [
    "filtered_articles = filtered_df.article_id.unique()"
   ]
  },
  {
   "cell_type": "code",
   "execution_count": null,
   "metadata": {},
   "outputs": [],
   "source": [
    "filtered_articles_df = article_df[article_df.article_id.isin(set(filtered_articles))]\n",
    "filtered_articles_df = filtered_articles_df.set_index('article_id')\n",
    "filtered_articles_df.to_csv('../data/hm/items.csv')"
   ]
  },
  {
   "cell_type": "code",
   "execution_count": null,
   "metadata": {},
   "outputs": [],
   "source": [
    "item_list = []\n",
    "\n",
    "for index, row in filtered_articles_df.iterrows():\n",
    "    item_name = row.prod_name + ' - ' + row.product_type_name\n",
    "    item_list.append(item_name)"
   ]
  },
  {
   "cell_type": "code",
   "execution_count": null,
   "metadata": {},
   "outputs": [],
   "source": [
    "raw_sequences = [' '.join(sequence) for sequence in raw_sequences]"
   ]
  },
  {
   "cell_type": "code",
   "execution_count": null,
   "metadata": {},
   "outputs": [],
   "source": [
    "sequence_df = pd.DataFrame(raw_sequences, columns=['sequence'])\n",
    "sequence_df['customer_id'] = customer_ids\n",
    "sequence_df.to_csv('../data/hm/filtered_purchase_history.csv', index=False)"
   ]
  },
  {
   "cell_type": "code",
   "execution_count": 65,
   "metadata": {},
   "outputs": [],
   "source": [
    "items = pd.read_csv(\"../data/hm/items.csv\", dtype={\"article_id\": str}, index_col='article_id')"
   ]
  },
  {
   "cell_type": "code",
   "execution_count": 56,
   "metadata": {},
   "outputs": [],
   "source": [
    "customers_df.index = customers_df.customer_id\n",
    "customers_df = customers_df.drop(\"customer_id\", axis=1)"
   ]
  },
  {
   "cell_type": "code",
   "execution_count": 62,
   "metadata": {},
   "outputs": [],
   "source": [
    "customers_df.to_csv('../data/hm/customers.csv')"
   ]
  },
  {
   "cell_type": "code",
   "execution_count": 3,
   "metadata": {},
   "outputs": [
    {
     "data": {
      "text/html": [
       "<div>\n",
       "<style scoped>\n",
       "    .dataframe tbody tr th:only-of-type {\n",
       "        vertical-align: middle;\n",
       "    }\n",
       "\n",
       "    .dataframe tbody tr th {\n",
       "        vertical-align: top;\n",
       "    }\n",
       "\n",
       "    .dataframe thead th {\n",
       "        text-align: right;\n",
       "    }\n",
       "</style>\n",
       "<table border=\"1\" class=\"dataframe\">\n",
       "  <thead>\n",
       "    <tr style=\"text-align: right;\">\n",
       "      <th></th>\n",
       "      <th>sequence</th>\n",
       "      <th>customer_id</th>\n",
       "    </tr>\n",
       "  </thead>\n",
       "  <tbody>\n",
       "    <tr>\n",
       "      <th>0</th>\n",
       "      <td>0682550001 0677999001 0677999001 0688873005 06...</td>\n",
       "      <td>00080403a669b3b89d1bef1ec73ea466d95e39698d6dde...</td>\n",
       "    </tr>\n",
       "    <tr>\n",
       "      <th>1</th>\n",
       "      <td>0464277014 0608458001 0608458001 0496111020 06...</td>\n",
       "      <td>00201f34c8c92683263346d78c2b45ffd0c6927229542d...</td>\n",
       "    </tr>\n",
       "    <tr>\n",
       "      <th>2</th>\n",
       "      <td>0553139001 0632143001 0629764001 0355569001 03...</td>\n",
       "      <td>0036a44bd648ce2dbc32688a465b9628b7a78395302f26...</td>\n",
       "    </tr>\n",
       "    <tr>\n",
       "      <th>3</th>\n",
       "      <td>0567475001 0448515001 0448515001 0637255001 06...</td>\n",
       "      <td>003ca8034fe32b9bab8e1c03d74c972abd80dccf84a302...</td>\n",
       "    </tr>\n",
       "    <tr>\n",
       "      <th>4</th>\n",
       "      <td>0671515001 0675139006 0684080001 0639192002 06...</td>\n",
       "      <td>003f1bdc9212bd81fd5ec35bf7285580103cd8a469340e...</td>\n",
       "    </tr>\n",
       "    <tr>\n",
       "      <th>...</th>\n",
       "      <td>...</td>\n",
       "      <td>...</td>\n",
       "    </tr>\n",
       "    <tr>\n",
       "      <th>9995</th>\n",
       "      <td>0700819006 0568858001 0524825006 0549607002 06...</td>\n",
       "      <td>ffd8e32e538255ececbef268d6f04ffcdf66fe00a1b459...</td>\n",
       "    </tr>\n",
       "    <tr>\n",
       "      <th>9996</th>\n",
       "      <td>0620081001 0690478001 0565379021 0634320006 06...</td>\n",
       "      <td>ffed71450acc902268fc4b99dfdc28f1a22583f573863b...</td>\n",
       "    </tr>\n",
       "    <tr>\n",
       "      <th>9997</th>\n",
       "      <td>0648719001 0648719001 0573937001 0573937001 05...</td>\n",
       "      <td>fffabaebcc10efa0e613b58de37901e04fa25a2f90a0a8...</td>\n",
       "    </tr>\n",
       "    <tr>\n",
       "      <th>9998</th>\n",
       "      <td>0573937001 0610776023 0294008002 0448515001 04...</td>\n",
       "      <td>fffae8eb3a282d8c43c77dd2ca0621703b71e90904dfde...</td>\n",
       "    </tr>\n",
       "    <tr>\n",
       "      <th>9999</th>\n",
       "      <td>0564358023 0665303002 0351484013 0562245004 06...</td>\n",
       "      <td>fffe7116f9f68e8ad287fd7b6e33aad4871d7080e77d2d...</td>\n",
       "    </tr>\n",
       "  </tbody>\n",
       "</table>\n",
       "<p>10000 rows × 2 columns</p>\n",
       "</div>"
      ],
      "text/plain": [
       "                                               sequence  \\\n",
       "0     0682550001 0677999001 0677999001 0688873005 06...   \n",
       "1     0464277014 0608458001 0608458001 0496111020 06...   \n",
       "2     0553139001 0632143001 0629764001 0355569001 03...   \n",
       "3     0567475001 0448515001 0448515001 0637255001 06...   \n",
       "4     0671515001 0675139006 0684080001 0639192002 06...   \n",
       "...                                                 ...   \n",
       "9995  0700819006 0568858001 0524825006 0549607002 06...   \n",
       "9996  0620081001 0690478001 0565379021 0634320006 06...   \n",
       "9997  0648719001 0648719001 0573937001 0573937001 05...   \n",
       "9998  0573937001 0610776023 0294008002 0448515001 04...   \n",
       "9999  0564358023 0665303002 0351484013 0562245004 06...   \n",
       "\n",
       "                                            customer_id  \n",
       "0     00080403a669b3b89d1bef1ec73ea466d95e39698d6dde...  \n",
       "1     00201f34c8c92683263346d78c2b45ffd0c6927229542d...  \n",
       "2     0036a44bd648ce2dbc32688a465b9628b7a78395302f26...  \n",
       "3     003ca8034fe32b9bab8e1c03d74c972abd80dccf84a302...  \n",
       "4     003f1bdc9212bd81fd5ec35bf7285580103cd8a469340e...  \n",
       "...                                                 ...  \n",
       "9995  ffd8e32e538255ececbef268d6f04ffcdf66fe00a1b459...  \n",
       "9996  ffed71450acc902268fc4b99dfdc28f1a22583f573863b...  \n",
       "9997  fffabaebcc10efa0e613b58de37901e04fa25a2f90a0a8...  \n",
       "9998  fffae8eb3a282d8c43c77dd2ca0621703b71e90904dfde...  \n",
       "9999  fffe7116f9f68e8ad287fd7b6e33aad4871d7080e77d2d...  \n",
       "\n",
       "[10000 rows x 2 columns]"
      ]
     },
     "execution_count": 3,
     "metadata": {},
     "output_type": "execute_result"
    }
   ],
   "source": [
    "pd.read_csv('../data/hm/filtered_purchase_history.csv')"
   ]
  },
  {
   "cell_type": "code",
   "execution_count": null,
   "metadata": {},
   "outputs": [],
   "source": []
  }
 ],
 "metadata": {
  "kernelspec": {
   "display_name": "Python 3.10.4 64-bit ('3.10.4')",
   "language": "python",
   "name": "python3"
  },
  "language_info": {
   "codemirror_mode": {
    "name": "ipython",
    "version": 3
   },
   "file_extension": ".py",
   "mimetype": "text/x-python",
   "name": "python",
   "nbconvert_exporter": "python",
   "pygments_lexer": "ipython3",
   "version": "3.10.4"
  },
  "orig_nbformat": 4,
  "vscode": {
   "interpreter": {
    "hash": "2a5fb540920344d2a30df49d123c0d51f1e8fc17e24494fc3a54f6f29186e4c7"
   }
  }
 },
 "nbformat": 4,
 "nbformat_minor": 2
}
