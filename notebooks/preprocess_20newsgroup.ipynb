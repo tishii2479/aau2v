{
 "cells": [
  {
   "cell_type": "code",
   "execution_count": null,
   "metadata": {},
   "outputs": [],
   "source": [
    "from pprint import pprint\n",
    "from sklearn.datasets import fetch_20newsgroups"
   ]
  },
  {
   "cell_type": "code",
   "execution_count": null,
   "metadata": {},
   "outputs": [],
   "source": [
    "newsgroups_train = fetch_20newsgroups(\n",
    "    data_home='data', subset='train', remove=('headers', 'footers', 'quotes'))\n",
    "target_names = list(newsgroups_train.target_names)\n",
    "\n",
    "for i in range(10):\n",
    "    print(newsgroups_train.data[i])\n",
    "    print(target_names[newsgroups_train.target[i]])"
   ]
  },
  {
   "cell_type": "code",
   "execution_count": null,
   "metadata": {},
   "outputs": [],
   "source": [
    "import torchtext\n",
    "from torchtext.data import get_tokenizer"
   ]
  },
  {
   "cell_type": "code",
   "execution_count": null,
   "metadata": {},
   "outputs": [],
   "source": [
    "import gensim\n",
    "\n",
    "tokenizer = get_tokenizer('basic_english')\n",
    "\n",
    "dictionary = gensim.corpora.Dictionary([\n",
    "    tokenizer(document) for document in newsgroups_train.data])\n",
    "dictionary.filter_extremes(no_below=10, no_above=0.1)\n",
    "\n",
    "raw_sequences = []\n",
    "\n",
    "for document in newsgroups_train.data:\n",
    "    tokens = tokenizer(document)\n",
    "    sequence = []\n",
    "    for word in tokens:\n",
    "        if word in dictionary.token2id:\n",
    "            sequence.append(word)\n",
    "    if len(sequence) <= 50:\n",
    "        continue\n",
    "    raw_sequences.append(sequence)\n",
    "    if len(raw_sequences) == 1000:\n",
    "        break\n",
    "\n",
    "len(raw_sequences)"
   ]
  },
  {
   "cell_type": "code",
   "execution_count": null,
   "metadata": {},
   "outputs": [],
   "source": []
  }
 ],
 "metadata": {
  "kernelspec": {
   "display_name": "Python 3.10.4 64-bit ('3.10.4')",
   "language": "python",
   "name": "python3"
  },
  "language_info": {
   "codemirror_mode": {
    "name": "ipython",
    "version": 3
   },
   "file_extension": ".py",
   "mimetype": "text/x-python",
   "name": "python",
   "nbconvert_exporter": "python",
   "pygments_lexer": "ipython3",
   "version": "3.10.4"
  },
  "vscode": {
   "interpreter": {
    "hash": "2a5fb540920344d2a30df49d123c0d51f1e8fc17e24494fc3a54f6f29186e4c7"
   }
  }
 },
 "nbformat": 4,
 "nbformat_minor": 2
}
