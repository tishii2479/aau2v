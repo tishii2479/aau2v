{
 "cells": [
  {
   "cell_type": "markdown",
   "metadata": {},
   "source": [
    "# 人工データの作成\n",
    "\n",
    "## 目的\n",
    "\n",
    "- Movie-Lensのデータは不均一なので、得られた解釈が正しいかどうかわからない\n",
    "- 真の構造が既知な、均一データを人工的に作成する、解釈が正しいかどうか確認する\n",
    "\n",
    "## データ形式\n",
    "\n",
    "顧客属性\n",
    "- 性別\n",
    "    - [M, F]\n",
    "- 年齢\n",
    "    - [10, 20, 30, 40, 50, 60]\n",
    "\n",
    "商品属性\n",
    "- ジャンル\n",
    "    - [M, E, F]\n",
    "    - 性別と相関がある\n",
    "- 公開年\n",
    "    - [1960, 1970, 1980, 1990, 2000, 2010]\n",
    "    - 年齢と相関がある\n",
    "\n",
    "- 顧客の人数\n",
    "    - 150 * 60 * 2 * 6 = 10800\n",
    "\n",
    "- 商品の個数\n",
    "    - 50 * 3 * 6 = 900\n",
    "\n",
    "- 顧客が閲覧している映画\n",
    "    - 個数\n",
    "    [0, 20, 40, 60, 80, 100]\n",
    "        - 均一に選ぶ\n",
    "    - 分布\n",
    "        - Mの場合\n",
    "            - ジャンルの比率\n",
    "                - M: 0.60, E: 0.30, F: 0.10\n",
    "        - 20歳の場合\n",
    "            - 公開年の比率\n",
    "                - 2000: 0.50, other: 0.10 * 5\n",
    "\n",
    "- 顧客の名前: u_id_性別_年齢\n",
    "- 商品の名前: v_id_ジャンル_公開年"
   ]
  },
  {
   "cell_type": "code",
   "execution_count": 17,
   "metadata": {},
   "outputs": [],
   "source": [
    "from typing import Dict, List, Any\n",
    "import random"
   ]
  },
  {
   "cell_type": "code",
   "execution_count": 79,
   "metadata": {},
   "outputs": [],
   "source": [
    "random.seed(0)\n",
    "user_count_per_segment = 150\n",
    "item_count_per_segment = 50\n",
    "seq_lengths = [20, 40, 60, 80, 100]\n",
    "genders = [\"M\", \"F\"]\n",
    "ages = [10, 20, 30, 40, 50, 60]\n",
    "# genres = [\"M\", \"E\", \"F\"]\n",
    "genres = [\"M1\", \"M2\", \"M3\", \"M4\", \"M5\", \"E1\", \"E2\", \"E3\", \"E4\", \"E5\", \"F1\", \"F2\", \"F3\", \"F4\", \"F5\"]\n",
    "base_year = 2020\n",
    "years = [1960, 1970, 1980, 1990, 2000, 2010]\n",
    "\n",
    "raw_sequences: Dict[str, List[str]] = {}\n",
    "users: Dict[str, Dict[str, Any]] = {}\n",
    "items: Dict[str, Dict[str, Any]] = {}\n",
    "\n",
    "def get_user_name(user_id: int, gender: str, age: int, seq_length: int):\n",
    "    return f\"u_{user_id}_{gender}_{age}_{seq_length}\"\n",
    "\n",
    "def get_item_name(item_id: int, genre: str, year: int):\n",
    "    return f\"v_{item_id}_{genre}_{year}\"\n",
    "\n",
    "for gender in genders:\n",
    "    for age in ages:\n",
    "        for seq_length in seq_lengths:\n",
    "            for user_id in range(user_count_per_segment):\n",
    "                p = []\n",
    "                if gender == \"M\":\n",
    "                    p = [0.12] * 5 + [0.06] * 5 + [0.02] * 5\n",
    "                else:\n",
    "                    p = [0.02] * 5 + [0.06] * 5 + [0.12] * 5\n",
    "\n",
    "                genre_list = random.choices(genres, p, k=seq_length)\n",
    "\n",
    "                year_weight = list(map(lambda e: 0.50 if e == base_year - age else 0.10, years))\n",
    "                year_list = random.choices(years, year_weight, k=seq_length)\n",
    "\n",
    "                item_id_list = [random.randint(0, item_count_per_segment - 1) for _ in range(seq_length)]\n",
    "                item_id_list.sort()\n",
    "\n",
    "                sequences = list(map(lambda x: get_item_name(*x), zip(item_id_list, genre_list, year_list)))\n",
    "\n",
    "                user_name = get_user_name(user_id, gender, age, seq_length)\n",
    "                raw_sequences[user_name] = sequences\n",
    "\n",
    "                users[user_name] = {\n",
    "                    \"gender\": gender,\n",
    "                    # \"age\": age,\n",
    "                }\n",
    "\n",
    "for genre in genres:\n",
    "    for year in years:\n",
    "        for item_id in range(item_count_per_segment):\n",
    "            item_name = get_item_name(item_id, genre, year)\n",
    "            items[item_name] = {\n",
    "                \"genre\": genre,\n",
    "                # \"year\": year\n",
    "            }"
   ]
  },
  {
   "cell_type": "code",
   "execution_count": 80,
   "metadata": {},
   "outputs": [],
   "source": [
    "import pandas as pd"
   ]
  },
  {
   "cell_type": "code",
   "execution_count": 81,
   "metadata": {},
   "outputs": [],
   "source": [
    "user_df = pd.DataFrame(users.values(), index=users.keys())\n",
    "item_df = pd.DataFrame(items.values(), index=items.keys())"
   ]
  },
  {
   "cell_type": "code",
   "execution_count": 82,
   "metadata": {},
   "outputs": [],
   "source": [
    "train_sequences = list(map(lambda s: \" \".join(s), raw_sequences.values()))\n",
    "train_df = pd.DataFrame(train_sequences, index=raw_sequences.keys(), columns=[\"sequence\"])"
   ]
  },
  {
   "cell_type": "code",
   "execution_count": 83,
   "metadata": {},
   "outputs": [],
   "source": [
    "user_df.index.name = \"user_id\"\n",
    "item_df.index.name = \"item_id\"\n",
    "train_df.index.name = \"user_id\""
   ]
  },
  {
   "cell_type": "code",
   "execution_count": 84,
   "metadata": {},
   "outputs": [],
   "source": [
    "data_dir = \"../data/toydata-simple/\"\n",
    "user_df.to_csv(data_dir + \"users.csv\")\n",
    "item_df.to_csv(data_dir + \"items.csv\")\n",
    "train_df.to_csv(data_dir + \"train.csv\")"
   ]
  },
  {
   "cell_type": "code",
   "execution_count": 85,
   "metadata": {},
   "outputs": [
    {
     "data": {
      "text/html": [
       "<div>\n",
       "<style scoped>\n",
       "    .dataframe tbody tr th:only-of-type {\n",
       "        vertical-align: middle;\n",
       "    }\n",
       "\n",
       "    .dataframe tbody tr th {\n",
       "        vertical-align: top;\n",
       "    }\n",
       "\n",
       "    .dataframe thead th {\n",
       "        text-align: right;\n",
       "    }\n",
       "</style>\n",
       "<table border=\"1\" class=\"dataframe\">\n",
       "  <thead>\n",
       "    <tr style=\"text-align: right;\">\n",
       "      <th></th>\n",
       "      <th>sequence</th>\n",
       "    </tr>\n",
       "    <tr>\n",
       "      <th>user_id</th>\n",
       "      <th></th>\n",
       "    </tr>\n",
       "  </thead>\n",
       "  <tbody>\n",
       "    <tr>\n",
       "      <th>u_0_M_10_20</th>\n",
       "      <td>v_0_E5_1990 v_4_E3_2010 v_5_M4_2010 v_5_M3_201...</td>\n",
       "    </tr>\n",
       "    <tr>\n",
       "      <th>u_1_M_10_20</th>\n",
       "      <td>v_1_F5_1960 v_5_M5_2010 v_7_M3_1970 v_7_M3_197...</td>\n",
       "    </tr>\n",
       "    <tr>\n",
       "      <th>u_2_M_10_20</th>\n",
       "      <td>v_0_M3_1970 v_3_E4_1970 v_7_M1_1980 v_10_M2_20...</td>\n",
       "    </tr>\n",
       "    <tr>\n",
       "      <th>u_3_M_10_20</th>\n",
       "      <td>v_0_E2_2010 v_2_F1_1970 v_3_E5_1990 v_4_F1_201...</td>\n",
       "    </tr>\n",
       "    <tr>\n",
       "      <th>u_4_M_10_20</th>\n",
       "      <td>v_0_F5_2010 v_2_E1_1990 v_8_M1_1960 v_11_E3_19...</td>\n",
       "    </tr>\n",
       "    <tr>\n",
       "      <th>...</th>\n",
       "      <td>...</td>\n",
       "    </tr>\n",
       "    <tr>\n",
       "      <th>u_145_F_60_100</th>\n",
       "      <td>v_0_F1_1980 v_0_E5_2000 v_0_F2_1960 v_0_F3_196...</td>\n",
       "    </tr>\n",
       "    <tr>\n",
       "      <th>u_146_F_60_100</th>\n",
       "      <td>v_0_F5_1960 v_1_E1_1970 v_1_M2_1960 v_2_F3_196...</td>\n",
       "    </tr>\n",
       "    <tr>\n",
       "      <th>u_147_F_60_100</th>\n",
       "      <td>v_0_E2_1970 v_1_M4_2000 v_1_E4_1980 v_2_M5_196...</td>\n",
       "    </tr>\n",
       "    <tr>\n",
       "      <th>u_148_F_60_100</th>\n",
       "      <td>v_0_F3_1990 v_0_F5_1960 v_1_F2_2000 v_2_F5_199...</td>\n",
       "    </tr>\n",
       "    <tr>\n",
       "      <th>u_149_F_60_100</th>\n",
       "      <td>v_0_F4_2010 v_1_F1_2010 v_1_F2_1960 v_2_F3_196...</td>\n",
       "    </tr>\n",
       "  </tbody>\n",
       "</table>\n",
       "<p>9000 rows × 1 columns</p>\n",
       "</div>"
      ],
      "text/plain": [
       "                                                         sequence\n",
       "user_id                                                          \n",
       "u_0_M_10_20     v_0_E5_1990 v_4_E3_2010 v_5_M4_2010 v_5_M3_201...\n",
       "u_1_M_10_20     v_1_F5_1960 v_5_M5_2010 v_7_M3_1970 v_7_M3_197...\n",
       "u_2_M_10_20     v_0_M3_1970 v_3_E4_1970 v_7_M1_1980 v_10_M2_20...\n",
       "u_3_M_10_20     v_0_E2_2010 v_2_F1_1970 v_3_E5_1990 v_4_F1_201...\n",
       "u_4_M_10_20     v_0_F5_2010 v_2_E1_1990 v_8_M1_1960 v_11_E3_19...\n",
       "...                                                           ...\n",
       "u_145_F_60_100  v_0_F1_1980 v_0_E5_2000 v_0_F2_1960 v_0_F3_196...\n",
       "u_146_F_60_100  v_0_F5_1960 v_1_E1_1970 v_1_M2_1960 v_2_F3_196...\n",
       "u_147_F_60_100  v_0_E2_1970 v_1_M4_2000 v_1_E4_1980 v_2_M5_196...\n",
       "u_148_F_60_100  v_0_F3_1990 v_0_F5_1960 v_1_F2_2000 v_2_F5_199...\n",
       "u_149_F_60_100  v_0_F4_2010 v_1_F1_2010 v_1_F2_1960 v_2_F3_196...\n",
       "\n",
       "[9000 rows x 1 columns]"
      ]
     },
     "execution_count": 85,
     "metadata": {},
     "output_type": "execute_result"
    }
   ],
   "source": [
    "train_df"
   ]
  },
  {
   "cell_type": "code",
   "execution_count": null,
   "metadata": {},
   "outputs": [],
   "source": []
  }
 ],
 "metadata": {
  "kernelspec": {
   "display_name": "Python 3.10.4 64-bit ('3.10.4')",
   "language": "python",
   "name": "python3"
  },
  "language_info": {
   "codemirror_mode": {
    "name": "ipython",
    "version": 3
   },
   "file_extension": ".py",
   "mimetype": "text/x-python",
   "name": "python",
   "nbconvert_exporter": "python",
   "pygments_lexer": "ipython3",
   "version": "3.10.4"
  },
  "orig_nbformat": 4,
  "vscode": {
   "interpreter": {
    "hash": "2a5fb540920344d2a30df49d123c0d51f1e8fc17e24494fc3a54f6f29186e4c7"
   }
  }
 },
 "nbformat": 4,
 "nbformat_minor": 2
}
