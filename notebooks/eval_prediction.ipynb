{
 "cells": [
  {
   "cell_type": "code",
   "execution_count": 1,
   "metadata": {},
   "outputs": [],
   "source": [
    "from pathlib import Path\n",
    "import torch\n",
    "\n",
    "from au2v.config import ModelConfig, TrainerConfig\n",
    "from au2v.dataset_manager import load_dataset_manager\n",
    "from au2v.trainer import PyTorchTrainer\n",
    "from au2v.analyst import Analyst\n",
    "from au2v.model import load_model"
   ]
  },
  {
   "cell_type": "code",
   "execution_count": 2,
   "metadata": {},
   "outputs": [],
   "source": [
    "model = torch.load(\"../cache2/model/movielens/best-old-attentive.pt\")"
   ]
  },
  {
   "cell_type": "code",
   "execution_count": 3,
   "metadata": {},
   "outputs": [
    {
     "data": {
      "text/plain": [
       "tensor([[ 5.9445e-01, -5.3686e-01, -4.4306e-01,  ...,  1.2628e+00,\n",
       "          2.1819e+00,  1.6862e-01],\n",
       "        [ 1.3797e+00, -1.2708e+00,  2.8118e-01,  ...,  1.5327e+00,\n",
       "          1.7508e+00,  3.5421e-01],\n",
       "        [ 1.0829e+00, -9.3927e-01, -6.2595e-01,  ...,  1.5912e+00,\n",
       "          2.5104e+00,  2.1781e-01],\n",
       "        ...,\n",
       "        [-2.8484e-03, -1.0787e-02, -9.8908e-03,  ...,  1.4662e-02,\n",
       "          9.7584e-02,  1.8170e-03],\n",
       "        [ 1.5448e-02, -1.6689e-02, -6.1102e-02,  ...,  5.8766e-02,\n",
       "          9.6333e-02,  1.3110e-02],\n",
       "        [ 3.0404e-01, -7.3202e-02,  1.4936e-01,  ...,  4.1133e-01,\n",
       "          9.4724e-01,  1.4356e-01]], device='mps:0')"
      ]
     },
     "execution_count": 3,
     "metadata": {},
     "output_type": "execute_result"
    }
   ],
   "source": [
    "model[\"embedding_seq.embedding_meta.weight\"]"
   ]
  },
  {
   "cell_type": "code",
   "execution_count": 4,
   "metadata": {},
   "outputs": [],
   "source": [
    "model_config = ModelConfig()\n",
    "trainer_config = TrainerConfig(\n",
    "    dataset_name=\"movielens\",\n",
    "    load_dataset=False,\n",
    "    save_dataset=False,\n",
    ")"
   ]
  },
  {
   "cell_type": "code",
   "execution_count": 5,
   "metadata": {},
   "outputs": [
    {
     "name": "stdout",
     "output_type": "stream",
     "text": [
      "dataset_manager does not exist at: cache/dataset/movielens.pickle, create dataset\n",
      "num_seq: 6040, num_item: 3706, num_item_meta: 28, num_seq_meta: 30, num_item_meta_types: 3, num_seq_meta_types: 3\n",
      "to_sequential_data start\n"
     ]
    },
    {
     "name": "stderr",
     "output_type": "stream",
     "text": [
      "100%|██████████| 5347/5347 [00:12<00:00, 444.26it/s]\n"
     ]
    },
    {
     "name": "stdout",
     "output_type": "stream",
     "text": [
      "to_sequential_data end\n",
      "to_sequential_data start\n"
     ]
    },
    {
     "name": "stderr",
     "output_type": "stream",
     "text": [
      "100%|██████████| 1845/1845 [00:04<00:00, 450.99it/s]\n"
     ]
    },
    {
     "name": "stdout",
     "output_type": "stream",
     "text": [
      "to_sequential_data end\n"
     ]
    }
   ],
   "source": [
    "dataset_manager = load_dataset_manager(\n",
    "    dataset_name=trainer_config.dataset_name,\n",
    "    dataset_dir=trainer_config.dataset_dir,\n",
    "    data_dir=\"../data/\",\n",
    "    load_dataset=trainer_config.load_dataset,\n",
    "    save_dataset=trainer_config.save_dataset,\n",
    "    window_size=model_config.window_size,\n",
    ")"
   ]
  },
  {
   "cell_type": "code",
   "execution_count": 6,
   "metadata": {},
   "outputs": [
    {
     "data": {
      "text/plain": [
       "53"
      ]
     },
     "execution_count": 6,
     "metadata": {},
     "output_type": "execute_result"
    }
   ],
   "source": [
    "len(dataset_manager.test_datasets[\"test\"].sequences[0])"
   ]
  }
 ],
 "metadata": {
  "kernelspec": {
   "display_name": ".venv",
   "language": "python",
   "name": "python3"
  },
  "language_info": {
   "codemirror_mode": {
    "name": "ipython",
    "version": 3
   },
   "file_extension": ".py",
   "mimetype": "text/x-python",
   "name": "python",
   "nbconvert_exporter": "python",
   "pygments_lexer": "ipython3",
   "version": "3.11.6"
  }
 },
 "nbformat": 4,
 "nbformat_minor": 2
}
