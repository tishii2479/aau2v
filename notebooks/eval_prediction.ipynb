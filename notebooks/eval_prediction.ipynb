{
 "cells": [
  {
   "cell_type": "code",
   "execution_count": 24,
   "metadata": {},
   "outputs": [],
   "source": [
    "from pathlib import Path\n",
    "import torch\n",
    "import tqdm\n",
    "\n",
    "from au2v.config import ModelConfig, TrainerConfig\n",
    "from au2v.dataset_manager import load_dataset_manager\n",
    "from au2v.trainer import PyTorchTrainer\n",
    "from au2v.model import load_model, PyTorchModel"
   ]
  },
  {
   "cell_type": "code",
   "execution_count": 25,
   "metadata": {},
   "outputs": [],
   "source": [
    "def calc_accuracy(\n",
    "    model: PyTorchModel,\n",
    "    num_item: int,\n",
    "    test_dataset: list[tuple[int, list[int], list[int]]],\n",
    "    top_k: list[int],\n",
    ") -> dict[str, float]:\n",
    "    hit_counts = {k: 0 for k in top_k}\n",
    "    for seq_index, context_items, target_indices in tqdm.tqdm(test_dataset):\n",
    "        rec_list = model.output_rec_lists(\n",
    "            seq_index=torch.LongTensor([seq_index]),\n",
    "            item_indices=torch.LongTensor([context_items]),\n",
    "            cand_item_indices=torch.arange(num_item),\n",
    "            k=max(top_k),\n",
    "        )\n",
    "        for k in top_k:\n",
    "            hit_counts[k] += len(set(target_indices) & set(rec_list[0][:k]))\n",
    "\n",
    "    total_rec = len(test_dataset)\n",
    "    results = {\n",
    "        f\"Accuracy@{k}\": hit_count / total_rec / k\n",
    "        for k, hit_count in hit_counts.items()\n",
    "    }\n",
    "    return results"
   ]
  },
  {
   "cell_type": "code",
   "execution_count": 26,
   "metadata": {},
   "outputs": [],
   "source": [
    "run_configs = [\n",
    "    {\n",
    "        \"name\": \"User2Vec (d=16)\",\n",
    "        \"model_name\": \"doc2vec\",\n",
    "        \"d_model\": 16,\n",
    "    },\n",
    "    {\n",
    "        \"name\": \"User2Vec (d=32)\",\n",
    "        \"model_name\": \"doc2vec\",\n",
    "        \"d_model\": 32,\n",
    "    },\n",
    "    {\n",
    "        \"name\": \"User2Vec (d=64)\",\n",
    "        \"model_name\": \"doc2vec\",\n",
    "        \"d_model\": 64,\n",
    "    },\n",
    "    {\n",
    "        \"name\": \"AU2V (wo weight-tieing)\",\n",
    "        \"model_name\": \"old-attentive\",\n",
    "        \"d_model\": 64,\n",
    "    },\n",
    "    {\n",
    "        \"name\": \"AU2V (d=16)\",\n",
    "        \"model_name\": \"attentive\",\n",
    "        \"d_model\": 16,\n",
    "    },\n",
    "    {\n",
    "        \"name\": \"AU2V (d=32)\",\n",
    "        \"model_name\": \"attentive\",\n",
    "        \"d_model\": 32,\n",
    "    },\n",
    "    {\n",
    "        \"name\": \"AU2V (d=64)\",\n",
    "        \"model_name\": \"attentive\",\n",
    "        \"d_model\": 64,\n",
    "    },\n",
    "]"
   ]
  },
  {
   "cell_type": "code",
   "execution_count": 27,
   "metadata": {},
   "outputs": [
    {
     "name": "stdout",
     "output_type": "stream",
     "text": [
      "ModelConfig(d_model=16, init_embedding_std=0.2, max_embedding_norm=1, window_size=5, negative_sample_size=5, lr=5e-05, weight_decay=1e-08)\n",
      "TrainerConfig(model_name='doc2vec', dataset_name='movielens', epochs=8, batch_size=64, verbose=False, ignore_saved_model=True, load_model=False, save_model=True, load_dataset=False, save_dataset=False, model_dir='cache/model/', dataset_dir='cache/dataset/', device='cpu')\n",
      "dataset_manager does not exist at: cache/dataset/movielens.pickle, create dataset\n",
      "num_seq: 6040, num_item: 3706, num_item_meta: 28, num_seq_meta: 30, num_item_meta_types: 3, num_seq_meta_types: 3\n",
      "to_sequential_data start\n",
      "to_sequential_data end\n"
     ]
    },
    {
     "name": "stderr",
     "output_type": "stream",
     "text": [
      "100%|██████████| 9190/9190 [00:37<00:00, 243.31it/s]\n"
     ]
    },
    {
     "name": "stdout",
     "output_type": "stream",
     "text": [
      "train 0.006517342345787048\n"
     ]
    },
    {
     "name": "stderr",
     "output_type": "stream",
     "text": [
      "100%|██████████| 2298/2298 [00:02<00:00, 886.70it/s]\n"
     ]
    },
    {
     "name": "stdout",
     "output_type": "stream",
     "text": [
      "valid 0.006486121344657288\n"
     ]
    },
    {
     "name": "stderr",
     "output_type": "stream",
     "text": [
      "100%|██████████| 1591/1591 [00:07<00:00, 200.74it/s]\n"
     ]
    },
    {
     "name": "stdout",
     "output_type": "stream",
     "text": [
      "saved model to cache/model/movielens/doc2vec.pt\n"
     ]
    },
    {
     "name": "stderr",
     "output_type": "stream",
     "text": [
      "100%|██████████| 1591/1591 [00:07<00:00, 199.35it/s]\n"
     ]
    },
    {
     "name": "stdout",
     "output_type": "stream",
     "text": [
      "{'Accuracy@10': 0.03343808925204274, 'Accuracy@30': 0.03343808925204274, 'Accuracy@50': 0.03353865493400377}\n"
     ]
    },
    {
     "name": "stderr",
     "output_type": "stream",
     "text": [
      "100%|██████████| 9190/9190 [00:38<00:00, 239.90it/s]\n"
     ]
    },
    {
     "name": "stdout",
     "output_type": "stream",
     "text": [
      "train 0.006429358006792469\n"
     ]
    },
    {
     "name": "stderr",
     "output_type": "stream",
     "text": [
      "100%|██████████| 2298/2298 [00:02<00:00, 883.51it/s]\n"
     ]
    },
    {
     "name": "stdout",
     "output_type": "stream",
     "text": [
      "valid 0.006396935946970848\n"
     ]
    },
    {
     "name": "stderr",
     "output_type": "stream",
     "text": [
      "100%|██████████| 1591/1591 [00:08<00:00, 196.18it/s]\n"
     ]
    },
    {
     "name": "stdout",
     "output_type": "stream",
     "text": [
      "saved model to cache/model/movielens/doc2vec.pt\n"
     ]
    },
    {
     "name": "stderr",
     "output_type": "stream",
     "text": [
      "100%|██████████| 1591/1591 [00:08<00:00, 195.63it/s]\n"
     ]
    },
    {
     "name": "stdout",
     "output_type": "stream",
     "text": [
      "{'Accuracy@10': 0.0399120050282841, 'Accuracy@30': 0.03951393253718835, 'Accuracy@50': 0.03922061596480201}\n"
     ]
    },
    {
     "name": "stderr",
     "output_type": "stream",
     "text": [
      "100%|██████████| 9190/9190 [00:38<00:00, 241.40it/s]\n"
     ]
    },
    {
     "name": "stdout",
     "output_type": "stream",
     "text": [
      "train 0.0063143843735778\n"
     ]
    },
    {
     "name": "stderr",
     "output_type": "stream",
     "text": [
      "100%|██████████| 2298/2298 [00:02<00:00, 883.82it/s]\n"
     ]
    },
    {
     "name": "stdout",
     "output_type": "stream",
     "text": [
      "valid 0.006268841222013997\n"
     ]
    },
    {
     "name": "stderr",
     "output_type": "stream",
     "text": [
      "100%|██████████| 1591/1591 [00:07<00:00, 200.94it/s]\n"
     ]
    },
    {
     "name": "stdout",
     "output_type": "stream",
     "text": [
      "saved model to cache/model/movielens/doc2vec.pt\n"
     ]
    },
    {
     "name": "stderr",
     "output_type": "stream",
     "text": [
      "100%|██████████| 1591/1591 [00:08<00:00, 198.62it/s]\n"
     ]
    },
    {
     "name": "stdout",
     "output_type": "stream",
     "text": [
      "{'Accuracy@10': 0.05600251414204902, 'Accuracy@30': 0.05451498009637545, 'Accuracy@50': 0.0527215587680704}\n"
     ]
    },
    {
     "name": "stderr",
     "output_type": "stream",
     "text": [
      "100%|██████████| 9190/9190 [00:37<00:00, 246.79it/s]\n"
     ]
    },
    {
     "name": "stdout",
     "output_type": "stream",
     "text": [
      "train 0.006152452744079411\n"
     ]
    },
    {
     "name": "stderr",
     "output_type": "stream",
     "text": [
      "100%|██████████| 2298/2298 [00:02<00:00, 884.86it/s]\n"
     ]
    },
    {
     "name": "stdout",
     "output_type": "stream",
     "text": [
      "valid 0.00608540518774758\n"
     ]
    },
    {
     "name": "stderr",
     "output_type": "stream",
     "text": [
      "100%|██████████| 1591/1591 [00:08<00:00, 197.66it/s]\n"
     ]
    },
    {
     "name": "stdout",
     "output_type": "stream",
     "text": [
      "saved model to cache/model/movielens/doc2vec.pt\n"
     ]
    },
    {
     "name": "stderr",
     "output_type": "stream",
     "text": [
      "100%|██████████| 1591/1591 [00:08<00:00, 197.32it/s]\n"
     ]
    },
    {
     "name": "stdout",
     "output_type": "stream",
     "text": [
      "{'Accuracy@10': 0.09220615964802012, 'Accuracy@30': 0.08403519798868636, 'Accuracy@50': 0.07865493400377122}\n"
     ]
    },
    {
     "name": "stderr",
     "output_type": "stream",
     "text": [
      "100%|██████████| 9190/9190 [00:38<00:00, 237.68it/s]\n"
     ]
    },
    {
     "name": "stdout",
     "output_type": "stream",
     "text": [
      "train 0.00593546872291718\n"
     ]
    },
    {
     "name": "stderr",
     "output_type": "stream",
     "text": [
      "100%|██████████| 2298/2298 [00:02<00:00, 881.26it/s]\n"
     ]
    },
    {
     "name": "stdout",
     "output_type": "stream",
     "text": [
      "valid 0.005849094519370922\n"
     ]
    },
    {
     "name": "stderr",
     "output_type": "stream",
     "text": [
      "100%|██████████| 1591/1591 [00:07<00:00, 203.35it/s]\n"
     ]
    },
    {
     "name": "stdout",
     "output_type": "stream",
     "text": [
      "saved model to cache/model/movielens/doc2vec.pt\n"
     ]
    },
    {
     "name": "stderr",
     "output_type": "stream",
     "text": [
      "100%|██████████| 1591/1591 [00:07<00:00, 205.10it/s]\n"
     ]
    },
    {
     "name": "stdout",
     "output_type": "stream",
     "text": [
      "{'Accuracy@10': 0.1284098051539912, 'Accuracy@30': 0.11881416300020951, 'Accuracy@50': 0.11029541169076053}\n"
     ]
    },
    {
     "name": "stderr",
     "output_type": "stream",
     "text": [
      "100%|██████████| 9190/9190 [00:38<00:00, 239.03it/s]\n"
     ]
    },
    {
     "name": "stdout",
     "output_type": "stream",
     "text": [
      "train 0.0056761985547917615\n"
     ]
    },
    {
     "name": "stderr",
     "output_type": "stream",
     "text": [
      "100%|██████████| 2298/2298 [00:02<00:00, 881.46it/s]\n"
     ]
    },
    {
     "name": "stdout",
     "output_type": "stream",
     "text": [
      "valid 0.005579947104212953\n"
     ]
    },
    {
     "name": "stderr",
     "output_type": "stream",
     "text": [
      "100%|██████████| 1591/1591 [00:08<00:00, 197.77it/s]\n"
     ]
    },
    {
     "name": "stdout",
     "output_type": "stream",
     "text": [
      "saved model to cache/model/movielens/doc2vec.pt\n"
     ]
    },
    {
     "name": "stderr",
     "output_type": "stream",
     "text": [
      "100%|██████████| 1591/1591 [00:08<00:00, 198.28it/s]\n"
     ]
    },
    {
     "name": "stdout",
     "output_type": "stream",
     "text": [
      "{'Accuracy@10': 0.1464487743557511, 'Accuracy@30': 0.13915776241357636, 'Accuracy@50': 0.1316781898177247}\n"
     ]
    },
    {
     "name": "stderr",
     "output_type": "stream",
     "text": [
      "100%|██████████| 9190/9190 [00:38<00:00, 239.83it/s]\n"
     ]
    },
    {
     "name": "stdout",
     "output_type": "stream",
     "text": [
      "train 0.005397864119620979\n"
     ]
    },
    {
     "name": "stderr",
     "output_type": "stream",
     "text": [
      "100%|██████████| 2298/2298 [00:02<00:00, 872.61it/s]\n"
     ]
    },
    {
     "name": "stdout",
     "output_type": "stream",
     "text": [
      "valid 0.005303241963361922\n"
     ]
    },
    {
     "name": "stderr",
     "output_type": "stream",
     "text": [
      "100%|██████████| 1591/1591 [00:07<00:00, 200.76it/s]\n"
     ]
    },
    {
     "name": "stdout",
     "output_type": "stream",
     "text": [
      "saved model to cache/model/movielens/doc2vec.pt\n"
     ]
    },
    {
     "name": "stderr",
     "output_type": "stream",
     "text": [
      "100%|██████████| 1591/1591 [00:07<00:00, 200.10it/s]\n"
     ]
    },
    {
     "name": "stdout",
     "output_type": "stream",
     "text": [
      "{'Accuracy@10': 0.1545568824638592, 'Accuracy@30': 0.14816677142258536, 'Accuracy@50': 0.1420993086109365}\n"
     ]
    },
    {
     "name": "stderr",
     "output_type": "stream",
     "text": [
      "100%|██████████| 9190/9190 [00:38<00:00, 238.30it/s]\n"
     ]
    },
    {
     "name": "stdout",
     "output_type": "stream",
     "text": [
      "train 0.005123787193525668\n"
     ]
    },
    {
     "name": "stderr",
     "output_type": "stream",
     "text": [
      "100%|██████████| 2298/2298 [00:02<00:00, 881.01it/s]\n"
     ]
    },
    {
     "name": "stdout",
     "output_type": "stream",
     "text": [
      "valid 0.0050382485787523485\n"
     ]
    },
    {
     "name": "stderr",
     "output_type": "stream",
     "text": [
      "100%|██████████| 1591/1591 [00:07<00:00, 199.60it/s]\n"
     ]
    },
    {
     "name": "stdout",
     "output_type": "stream",
     "text": [
      "saved model to cache/model/movielens/doc2vec.pt\n"
     ]
    },
    {
     "name": "stderr",
     "output_type": "stream",
     "text": [
      "100%|██████████| 1591/1591 [00:08<00:00, 195.11it/s]\n"
     ]
    },
    {
     "name": "stdout",
     "output_type": "stream",
     "text": [
      "{'Accuracy@10': 0.16021370207416719, 'Accuracy@30': 0.15411690760527968, 'Accuracy@50': 0.14780641106222503}\n",
      "{'User2Vec (d=16)': {'accuracy': [{'Accuracy@10': 0.03343808925204274, 'Accuracy@20': 0.03287240729101194, 'Accuracy@30': 0.03343808925204274, 'Accuracy@40': 0.03357950974230044, 'Accuracy@50': 0.03353865493400377}, {'Accuracy@10': 0.0399120050282841, 'Accuracy@20': 0.03966059082338152, 'Accuracy@30': 0.03951393253718835, 'Accuracy@40': 0.039754871150219986, 'Accuracy@50': 0.03922061596480201}, {'Accuracy@10': 0.05600251414204902, 'Accuracy@20': 0.0549654305468259, 'Accuracy@30': 0.05451498009637545, 'Accuracy@40': 0.053331238214959144, 'Accuracy@50': 0.0527215587680704}, {'Accuracy@10': 0.09220615964802012, 'Accuracy@20': 0.08846637335009429, 'Accuracy@30': 0.08403519798868636, 'Accuracy@40': 0.08062539283469516, 'Accuracy@50': 0.07865493400377122}, {'Accuracy@10': 0.1284098051539912, 'Accuracy@20': 0.12413576367064738, 'Accuracy@30': 0.11881416300020951, 'Accuracy@40': 0.11445631678189819, 'Accuracy@50': 0.11029541169076053}, {'Accuracy@10': 0.1464487743557511, 'Accuracy@20': 0.14412319296040227, 'Accuracy@30': 0.13915776241357636, 'Accuracy@40': 0.13482086737900692, 'Accuracy@50': 0.1316781898177247}, {'Accuracy@10': 0.1545568824638592, 'Accuracy@20': 0.15260842237586422, 'Accuracy@30': 0.14816677142258536, 'Accuracy@40': 0.14571024512884978, 'Accuracy@50': 0.1420993086109365}, {'Accuracy@10': 0.16021370207416719, 'Accuracy@20': 0.15791954745443118, 'Accuracy@30': 0.15411690760527968, 'Accuracy@40': 0.15168133249528598, 'Accuracy@50': 0.14780641106222503}], 'loss': {'train': [0.006517342345787048, 0.006429358006792469, 0.0063143843735778, 0.006152452744079411, 0.00593546872291718, 0.0056761985547917615, 0.005397864119620979, 0.005123787193525668], 'valid': [0.006486121344657288, 0.006396935946970848, 0.006268841222013997, 0.00608540518774758, 0.005849094519370922, 0.005579947104212953, 0.005303241963361922, 0.0050382485787523485]}}}\n",
      "ModelConfig(d_model=32, init_embedding_std=0.2, max_embedding_norm=1, window_size=5, negative_sample_size=5, lr=5e-05, weight_decay=1e-08)\n",
      "TrainerConfig(model_name='doc2vec', dataset_name='movielens', epochs=8, batch_size=64, verbose=False, ignore_saved_model=True, load_model=False, save_model=True, load_dataset=False, save_dataset=False, model_dir='cache/model/', dataset_dir='cache/dataset/', device='cpu')\n",
      "dataset_manager does not exist at: cache/dataset/movielens.pickle, create dataset\n",
      "num_seq: 6040, num_item: 3706, num_item_meta: 28, num_seq_meta: 30, num_item_meta_types: 3, num_seq_meta_types: 3\n",
      "to_sequential_data start\n",
      "to_sequential_data end\n"
     ]
    },
    {
     "name": "stderr",
     "output_type": "stream",
     "text": [
      "100%|██████████| 9190/9190 [00:47<00:00, 192.97it/s]\n"
     ]
    },
    {
     "name": "stdout",
     "output_type": "stream",
     "text": [
      "train 0.006529061485566321\n"
     ]
    },
    {
     "name": "stderr",
     "output_type": "stream",
     "text": [
      "100%|██████████| 2298/2298 [00:02<00:00, 872.89it/s]\n"
     ]
    },
    {
     "name": "stdout",
     "output_type": "stream",
     "text": [
      "valid 0.006467592687032568\n"
     ]
    },
    {
     "name": "stderr",
     "output_type": "stream",
     "text": [
      "100%|██████████| 1591/1591 [00:08<00:00, 196.09it/s]\n"
     ]
    },
    {
     "name": "stdout",
     "output_type": "stream",
     "text": [
      "saved model to cache/model/movielens/doc2vec.pt\n"
     ]
    },
    {
     "name": "stderr",
     "output_type": "stream",
     "text": [
      "100%|██████████| 1591/1591 [00:08<00:00, 192.54it/s]\n"
     ]
    },
    {
     "name": "stdout",
     "output_type": "stream",
     "text": [
      "{'Accuracy@10': 0.030986800754242615, 'Accuracy@30': 0.032013408757594806, 'Accuracy@50': 0.03257071024512885}\n"
     ]
    },
    {
     "name": "stderr",
     "output_type": "stream",
     "text": [
      "100%|██████████| 9190/9190 [00:46<00:00, 196.54it/s]\n"
     ]
    },
    {
     "name": "stdout",
     "output_type": "stream",
     "text": [
      "train 0.006373398017565902\n"
     ]
    },
    {
     "name": "stderr",
     "output_type": "stream",
     "text": [
      "100%|██████████| 2298/2298 [00:02<00:00, 871.59it/s]\n"
     ]
    },
    {
     "name": "stdout",
     "output_type": "stream",
     "text": [
      "valid 0.006312935331637133\n"
     ]
    },
    {
     "name": "stderr",
     "output_type": "stream",
     "text": [
      "100%|██████████| 1591/1591 [00:07<00:00, 200.60it/s]\n"
     ]
    },
    {
     "name": "stdout",
     "output_type": "stream",
     "text": [
      "saved model to cache/model/movielens/doc2vec.pt\n"
     ]
    },
    {
     "name": "stderr",
     "output_type": "stream",
     "text": [
      "100%|██████████| 1591/1591 [00:08<00:00, 198.57it/s]\n"
     ]
    },
    {
     "name": "stdout",
     "output_type": "stream",
     "text": [
      "{'Accuracy@10': 0.03802639849151477, 'Accuracy@30': 0.03995390739576786, 'Accuracy@50': 0.04054054054054054}\n"
     ]
    },
    {
     "name": "stderr",
     "output_type": "stream",
     "text": [
      "100%|██████████| 9190/9190 [00:45<00:00, 201.83it/s]\n"
     ]
    },
    {
     "name": "stdout",
     "output_type": "stream",
     "text": [
      "train 0.006181069893075378\n"
     ]
    },
    {
     "name": "stderr",
     "output_type": "stream",
     "text": [
      "100%|██████████| 2298/2298 [00:02<00:00, 836.10it/s]\n"
     ]
    },
    {
     "name": "stdout",
     "output_type": "stream",
     "text": [
      "valid 0.006105076649807924\n"
     ]
    },
    {
     "name": "stderr",
     "output_type": "stream",
     "text": [
      "100%|██████████| 1591/1591 [00:08<00:00, 197.96it/s]\n"
     ]
    },
    {
     "name": "stdout",
     "output_type": "stream",
     "text": [
      "saved model to cache/model/movielens/doc2vec.pt\n"
     ]
    },
    {
     "name": "stderr",
     "output_type": "stream",
     "text": [
      "100%|██████████| 1591/1591 [00:08<00:00, 197.91it/s]\n"
     ]
    },
    {
     "name": "stdout",
     "output_type": "stream",
     "text": [
      "{'Accuracy@10': 0.06316781898177247, 'Accuracy@30': 0.06224596689712969, 'Accuracy@50': 0.060955373978629795}\n"
     ]
    },
    {
     "name": "stderr",
     "output_type": "stream",
     "text": [
      "100%|██████████| 9190/9190 [00:44<00:00, 205.07it/s]\n"
     ]
    },
    {
     "name": "stdout",
     "output_type": "stream",
     "text": [
      "train 0.005928491195207776\n"
     ]
    },
    {
     "name": "stderr",
     "output_type": "stream",
     "text": [
      "100%|██████████| 2298/2298 [00:02<00:00, 876.63it/s]\n"
     ]
    },
    {
     "name": "stdout",
     "output_type": "stream",
     "text": [
      "valid 0.005829360438782112\n"
     ]
    },
    {
     "name": "stderr",
     "output_type": "stream",
     "text": [
      "100%|██████████| 1591/1591 [00:08<00:00, 198.39it/s]\n"
     ]
    },
    {
     "name": "stdout",
     "output_type": "stream",
     "text": [
      "saved model to cache/model/movielens/doc2vec.pt\n"
     ]
    },
    {
     "name": "stderr",
     "output_type": "stream",
     "text": [
      "100%|██████████| 1591/1591 [00:07<00:00, 200.77it/s]\n"
     ]
    },
    {
     "name": "stdout",
     "output_type": "stream",
     "text": [
      "{'Accuracy@10': 0.10402262727844122, 'Accuracy@30': 0.10222082547663944, 'Accuracy@50': 0.09607793840351979}\n"
     ]
    },
    {
     "name": "stderr",
     "output_type": "stream",
     "text": [
      "100%|██████████| 9190/9190 [00:45<00:00, 201.55it/s]\n"
     ]
    },
    {
     "name": "stdout",
     "output_type": "stream",
     "text": [
      "train 0.005617570916243441\n"
     ]
    },
    {
     "name": "stderr",
     "output_type": "stream",
     "text": [
      "100%|██████████| 2298/2298 [00:02<00:00, 833.49it/s]\n"
     ]
    },
    {
     "name": "stdout",
     "output_type": "stream",
     "text": [
      "valid 0.005507853683514675\n"
     ]
    },
    {
     "name": "stderr",
     "output_type": "stream",
     "text": [
      "100%|██████████| 1591/1591 [00:08<00:00, 192.59it/s]\n"
     ]
    },
    {
     "name": "stdout",
     "output_type": "stream",
     "text": [
      "saved model to cache/model/movielens/doc2vec.pt\n"
     ]
    },
    {
     "name": "stderr",
     "output_type": "stream",
     "text": [
      "100%|██████████| 1591/1591 [00:08<00:00, 198.20it/s]\n"
     ]
    },
    {
     "name": "stdout",
     "output_type": "stream",
     "text": [
      "{'Accuracy@10': 0.14311753614079195, 'Accuracy@30': 0.13859208045254556, 'Accuracy@50': 0.13159019484600878}\n"
     ]
    },
    {
     "name": "stderr",
     "output_type": "stream",
     "text": [
      "100%|██████████| 9190/9190 [00:47<00:00, 194.87it/s]\n"
     ]
    },
    {
     "name": "stdout",
     "output_type": "stream",
     "text": [
      "train 0.005281189215188122\n"
     ]
    },
    {
     "name": "stderr",
     "output_type": "stream",
     "text": [
      "100%|██████████| 2298/2298 [00:02<00:00, 874.94it/s]\n"
     ]
    },
    {
     "name": "stdout",
     "output_type": "stream",
     "text": [
      "valid 0.005175735383919783\n"
     ]
    },
    {
     "name": "stderr",
     "output_type": "stream",
     "text": [
      "100%|██████████| 1591/1591 [00:07<00:00, 201.96it/s]\n"
     ]
    },
    {
     "name": "stdout",
     "output_type": "stream",
     "text": [
      "saved model to cache/model/movielens/doc2vec.pt\n"
     ]
    },
    {
     "name": "stderr",
     "output_type": "stream",
     "text": [
      "100%|██████████| 1591/1591 [00:07<00:00, 202.92it/s]\n"
     ]
    },
    {
     "name": "stdout",
     "output_type": "stream",
     "text": [
      "{'Accuracy@10': 0.16398491514770586, 'Accuracy@30': 0.16103079824010055, 'Accuracy@50': 0.15362664990571967}\n"
     ]
    },
    {
     "name": "stderr",
     "output_type": "stream",
     "text": [
      "100%|██████████| 9190/9190 [00:50<00:00, 182.83it/s]\n"
     ]
    },
    {
     "name": "stdout",
     "output_type": "stream",
     "text": [
      "train 0.004955936524301556\n"
     ]
    },
    {
     "name": "stderr",
     "output_type": "stream",
     "text": [
      "100%|██████████| 2298/2298 [00:02<00:00, 871.10it/s]\n"
     ]
    },
    {
     "name": "stdout",
     "output_type": "stream",
     "text": [
      "valid 0.004870312128045501\n"
     ]
    },
    {
     "name": "stderr",
     "output_type": "stream",
     "text": [
      "100%|██████████| 1591/1591 [00:08<00:00, 197.13it/s]\n"
     ]
    },
    {
     "name": "stdout",
     "output_type": "stream",
     "text": [
      "saved model to cache/model/movielens/doc2vec.pt\n"
     ]
    },
    {
     "name": "stderr",
     "output_type": "stream",
     "text": [
      "100%|██████████| 1591/1591 [00:08<00:00, 197.16it/s]\n"
     ]
    },
    {
     "name": "stdout",
     "output_type": "stream",
     "text": [
      "{'Accuracy@10': 0.1749842866121936, 'Accuracy@30': 0.1719254137858789, 'Accuracy@50': 0.1652294154619736}\n"
     ]
    },
    {
     "name": "stderr",
     "output_type": "stream",
     "text": [
      "100%|██████████| 9190/9190 [00:49<00:00, 187.20it/s]\n"
     ]
    },
    {
     "name": "stdout",
     "output_type": "stream",
     "text": [
      "train 0.004667942515919968\n"
     ]
    },
    {
     "name": "stderr",
     "output_type": "stream",
     "text": [
      "100%|██████████| 2298/2298 [00:02<00:00, 864.17it/s]\n"
     ]
    },
    {
     "name": "stdout",
     "output_type": "stream",
     "text": [
      "valid 0.00460565242060865\n"
     ]
    },
    {
     "name": "stderr",
     "output_type": "stream",
     "text": [
      "100%|██████████| 1591/1591 [00:08<00:00, 195.55it/s]\n"
     ]
    },
    {
     "name": "stdout",
     "output_type": "stream",
     "text": [
      "saved model to cache/model/movielens/doc2vec.pt\n"
     ]
    },
    {
     "name": "stderr",
     "output_type": "stream",
     "text": [
      "100%|██████████| 1591/1591 [00:08<00:00, 196.54it/s]\n"
     ]
    },
    {
     "name": "stdout",
     "output_type": "stream",
     "text": [
      "{'Accuracy@10': 0.18051539912005027, 'Accuracy@30': 0.1760946993505133, 'Accuracy@50': 0.16961659333752357}\n",
      "{'User2Vec (d=16)': {'accuracy': [{'Accuracy@10': 0.03343808925204274, 'Accuracy@20': 0.03287240729101194, 'Accuracy@30': 0.03343808925204274, 'Accuracy@40': 0.03357950974230044, 'Accuracy@50': 0.03353865493400377}, {'Accuracy@10': 0.0399120050282841, 'Accuracy@20': 0.03966059082338152, 'Accuracy@30': 0.03951393253718835, 'Accuracy@40': 0.039754871150219986, 'Accuracy@50': 0.03922061596480201}, {'Accuracy@10': 0.05600251414204902, 'Accuracy@20': 0.0549654305468259, 'Accuracy@30': 0.05451498009637545, 'Accuracy@40': 0.053331238214959144, 'Accuracy@50': 0.0527215587680704}, {'Accuracy@10': 0.09220615964802012, 'Accuracy@20': 0.08846637335009429, 'Accuracy@30': 0.08403519798868636, 'Accuracy@40': 0.08062539283469516, 'Accuracy@50': 0.07865493400377122}, {'Accuracy@10': 0.1284098051539912, 'Accuracy@20': 0.12413576367064738, 'Accuracy@30': 0.11881416300020951, 'Accuracy@40': 0.11445631678189819, 'Accuracy@50': 0.11029541169076053}, {'Accuracy@10': 0.1464487743557511, 'Accuracy@20': 0.14412319296040227, 'Accuracy@30': 0.13915776241357636, 'Accuracy@40': 0.13482086737900692, 'Accuracy@50': 0.1316781898177247}, {'Accuracy@10': 0.1545568824638592, 'Accuracy@20': 0.15260842237586422, 'Accuracy@30': 0.14816677142258536, 'Accuracy@40': 0.14571024512884978, 'Accuracy@50': 0.1420993086109365}, {'Accuracy@10': 0.16021370207416719, 'Accuracy@20': 0.15791954745443118, 'Accuracy@30': 0.15411690760527968, 'Accuracy@40': 0.15168133249528598, 'Accuracy@50': 0.14780641106222503}], 'loss': {'train': [0.006517342345787048, 0.006429358006792469, 0.0063143843735778, 0.006152452744079411, 0.00593546872291718, 0.0056761985547917615, 0.005397864119620979, 0.005123787193525668], 'valid': [0.006486121344657288, 0.006396935946970848, 0.006268841222013997, 0.00608540518774758, 0.005849094519370922, 0.005579947104212953, 0.005303241963361922, 0.0050382485787523485]}}, 'User2Vec (d=32)': {'accuracy': [{'Accuracy@10': 0.030986800754242615, 'Accuracy@20': 0.030892520427404146, 'Accuracy@30': 0.032013408757594806, 'Accuracy@40': 0.0321024512884978, 'Accuracy@50': 0.03257071024512885}, {'Accuracy@10': 0.03802639849151477, 'Accuracy@20': 0.03928346951602766, 'Accuracy@30': 0.03995390739576786, 'Accuracy@40': 0.040446260213702075, 'Accuracy@50': 0.04054054054054054}, {'Accuracy@10': 0.06316781898177247, 'Accuracy@20': 0.06345065996228787, 'Accuracy@30': 0.06224596689712969, 'Accuracy@40': 0.061565053425518546, 'Accuracy@50': 0.060955373978629795}, {'Accuracy@10': 0.10402262727844122, 'Accuracy@20': 0.10587680703959775, 'Accuracy@30': 0.10222082547663944, 'Accuracy@40': 0.09932432432432432, 'Accuracy@50': 0.09607793840351979}, {'Accuracy@10': 0.14311753614079195, 'Accuracy@20': 0.14157762413576366, 'Accuracy@30': 0.13859208045254556, 'Accuracy@40': 0.13546511627906976, 'Accuracy@50': 0.13159019484600878}, {'Accuracy@10': 0.16398491514770586, 'Accuracy@20': 0.16445631678189818, 'Accuracy@30': 0.16103079824010055, 'Accuracy@40': 0.15763670647391576, 'Accuracy@50': 0.15362664990571967}, {'Accuracy@10': 0.1749842866121936, 'Accuracy@20': 0.17476429918290384, 'Accuracy@30': 0.1719254137858789, 'Accuracy@40': 0.16821181646763042, 'Accuracy@50': 0.1652294154619736}, {'Accuracy@10': 0.18051539912005027, 'Accuracy@20': 0.17803268384663734, 'Accuracy@30': 0.1760946993505133, 'Accuracy@40': 0.1723130106851037, 'Accuracy@50': 0.16961659333752357}], 'loss': {'train': [0.006529061485566321, 0.006373398017565902, 0.006181069893075378, 0.005928491195207776, 0.005617570916243441, 0.005281189215188122, 0.004955936524301556, 0.004667942515919968], 'valid': [0.006467592687032568, 0.006312935331637133, 0.006105076649807924, 0.005829360438782112, 0.005507853683514675, 0.005175735383919783, 0.004870312128045501, 0.00460565242060865]}}}\n",
      "ModelConfig(d_model=64, init_embedding_std=0.2, max_embedding_norm=1, window_size=5, negative_sample_size=5, lr=5e-05, weight_decay=1e-08)\n",
      "TrainerConfig(model_name='doc2vec', dataset_name='movielens', epochs=8, batch_size=64, verbose=False, ignore_saved_model=True, load_model=False, save_model=True, load_dataset=False, save_dataset=False, model_dir='cache/model/', dataset_dir='cache/dataset/', device='cpu')\n",
      "dataset_manager does not exist at: cache/dataset/movielens.pickle, create dataset\n",
      "num_seq: 6040, num_item: 3706, num_item_meta: 28, num_seq_meta: 30, num_item_meta_types: 3, num_seq_meta_types: 3\n",
      "to_sequential_data start\n",
      "to_sequential_data end\n"
     ]
    },
    {
     "name": "stderr",
     "output_type": "stream",
     "text": [
      "100%|██████████| 9190/9190 [01:14<00:00, 124.15it/s]\n"
     ]
    },
    {
     "name": "stdout",
     "output_type": "stream",
     "text": [
      "train 0.0064600452186359385\n"
     ]
    },
    {
     "name": "stderr",
     "output_type": "stream",
     "text": [
      "100%|██████████| 2298/2298 [00:03<00:00, 693.34it/s]\n"
     ]
    },
    {
     "name": "stdout",
     "output_type": "stream",
     "text": [
      "valid 0.006332815786168779\n"
     ]
    },
    {
     "name": "stderr",
     "output_type": "stream",
     "text": [
      "100%|██████████| 1591/1591 [00:08<00:00, 196.70it/s]\n"
     ]
    },
    {
     "name": "stdout",
     "output_type": "stream",
     "text": [
      "saved model to cache/model/movielens/doc2vec.pt\n"
     ]
    },
    {
     "name": "stderr",
     "output_type": "stream",
     "text": [
      "100%|██████████| 1591/1591 [00:08<00:00, 195.04it/s]\n"
     ]
    },
    {
     "name": "stdout",
     "output_type": "stream",
     "text": [
      "{'Accuracy@10': 0.026272784412319294, 'Accuracy@30': 0.032914309658495705, 'Accuracy@50': 0.034594594594594595}\n"
     ]
    },
    {
     "name": "stderr",
     "output_type": "stream",
     "text": [
      "100%|██████████| 9190/9190 [01:13<00:00, 125.34it/s]\n"
     ]
    },
    {
     "name": "stdout",
     "output_type": "stream",
     "text": [
      "train 0.0061487346325146686\n"
     ]
    },
    {
     "name": "stderr",
     "output_type": "stream",
     "text": [
      "100%|██████████| 2298/2298 [00:03<00:00, 711.45it/s]\n"
     ]
    },
    {
     "name": "stdout",
     "output_type": "stream",
     "text": [
      "valid 0.006020846278191725\n"
     ]
    },
    {
     "name": "stderr",
     "output_type": "stream",
     "text": [
      "100%|██████████| 1591/1591 [00:08<00:00, 191.33it/s]\n"
     ]
    },
    {
     "name": "stdout",
     "output_type": "stream",
     "text": [
      "saved model to cache/model/movielens/doc2vec.pt\n"
     ]
    },
    {
     "name": "stderr",
     "output_type": "stream",
     "text": [
      "100%|██████████| 1591/1591 [00:08<00:00, 191.85it/s]\n"
     ]
    },
    {
     "name": "stdout",
     "output_type": "stream",
     "text": [
      "{'Accuracy@10': 0.05619107479572596, 'Accuracy@30': 0.06543054682589566, 'Accuracy@50': 0.06549340037712131}\n"
     ]
    },
    {
     "name": "stderr",
     "output_type": "stream",
     "text": [
      "100%|██████████| 9190/9190 [01:12<00:00, 126.46it/s]\n"
     ]
    },
    {
     "name": "stdout",
     "output_type": "stream",
     "text": [
      "train 0.005773849266918703\n"
     ]
    },
    {
     "name": "stderr",
     "output_type": "stream",
     "text": [
      "100%|██████████| 2298/2298 [00:03<00:00, 709.57it/s]\n"
     ]
    },
    {
     "name": "stdout",
     "output_type": "stream",
     "text": [
      "valid 0.005628339828919845\n"
     ]
    },
    {
     "name": "stderr",
     "output_type": "stream",
     "text": [
      "100%|██████████| 1591/1591 [00:08<00:00, 197.57it/s]\n"
     ]
    },
    {
     "name": "stdout",
     "output_type": "stream",
     "text": [
      "saved model to cache/model/movielens/doc2vec.pt\n"
     ]
    },
    {
     "name": "stderr",
     "output_type": "stream",
     "text": [
      "100%|██████████| 1591/1591 [00:08<00:00, 195.82it/s]\n"
     ]
    },
    {
     "name": "stdout",
     "output_type": "stream",
     "text": [
      "{'Accuracy@10': 0.1170333123821496, 'Accuracy@30': 0.128975487115022, 'Accuracy@50': 0.12417347580138278}\n"
     ]
    },
    {
     "name": "stderr",
     "output_type": "stream",
     "text": [
      "100%|██████████| 9190/9190 [01:13<00:00, 125.32it/s]\n"
     ]
    },
    {
     "name": "stdout",
     "output_type": "stream",
     "text": [
      "train 0.005338003722215081\n"
     ]
    },
    {
     "name": "stderr",
     "output_type": "stream",
     "text": [
      "100%|██████████| 2298/2298 [00:03<00:00, 692.82it/s]\n"
     ]
    },
    {
     "name": "stdout",
     "output_type": "stream",
     "text": [
      "valid 0.00519066566722703\n"
     ]
    },
    {
     "name": "stderr",
     "output_type": "stream",
     "text": [
      "100%|██████████| 1591/1591 [00:08<00:00, 191.79it/s]\n"
     ]
    },
    {
     "name": "stdout",
     "output_type": "stream",
     "text": [
      "saved model to cache/model/movielens/doc2vec.pt\n"
     ]
    },
    {
     "name": "stderr",
     "output_type": "stream",
     "text": [
      "100%|██████████| 1591/1591 [00:08<00:00, 195.88it/s]\n"
     ]
    },
    {
     "name": "stdout",
     "output_type": "stream",
     "text": [
      "{'Accuracy@10': 0.15663104965430547, 'Accuracy@30': 0.16756756756756758, 'Accuracy@50': 0.16002514142049026}\n"
     ]
    },
    {
     "name": "stderr",
     "output_type": "stream",
     "text": [
      "100%|██████████| 9190/9190 [01:09<00:00, 132.00it/s]\n"
     ]
    },
    {
     "name": "stdout",
     "output_type": "stream",
     "text": [
      "train 0.004901086054012682\n"
     ]
    },
    {
     "name": "stderr",
     "output_type": "stream",
     "text": [
      "100%|██████████| 2298/2298 [00:03<00:00, 738.65it/s]\n"
     ]
    },
    {
     "name": "stdout",
     "output_type": "stream",
     "text": [
      "valid 0.004782344646065837\n"
     ]
    },
    {
     "name": "stderr",
     "output_type": "stream",
     "text": [
      "100%|██████████| 1591/1591 [00:07<00:00, 199.70it/s]\n"
     ]
    },
    {
     "name": "stdout",
     "output_type": "stream",
     "text": [
      "saved model to cache/model/movielens/doc2vec.pt\n"
     ]
    },
    {
     "name": "stderr",
     "output_type": "stream",
     "text": [
      "100%|██████████| 1591/1591 [00:08<00:00, 197.89it/s]\n"
     ]
    },
    {
     "name": "stdout",
     "output_type": "stream",
     "text": [
      "{'Accuracy@10': 0.17605279698302953, 'Accuracy@30': 0.18273622459668973, 'Accuracy@50': 0.17340037712130735}\n"
     ]
    },
    {
     "name": "stderr",
     "output_type": "stream",
     "text": [
      "100%|██████████| 9190/9190 [01:09<00:00, 132.59it/s]\n"
     ]
    },
    {
     "name": "stdout",
     "output_type": "stream",
     "text": [
      "train 0.004522611606426302\n"
     ]
    },
    {
     "name": "stderr",
     "output_type": "stream",
     "text": [
      "100%|██████████| 2298/2298 [00:03<00:00, 696.40it/s]\n"
     ]
    },
    {
     "name": "stdout",
     "output_type": "stream",
     "text": [
      "valid 0.00444565085420857\n"
     ]
    },
    {
     "name": "stderr",
     "output_type": "stream",
     "text": [
      "100%|██████████| 1591/1591 [00:08<00:00, 195.97it/s]\n"
     ]
    },
    {
     "name": "stdout",
     "output_type": "stream",
     "text": [
      "saved model to cache/model/movielens/doc2vec.pt\n"
     ]
    },
    {
     "name": "stderr",
     "output_type": "stream",
     "text": [
      "100%|██████████| 1591/1591 [00:08<00:00, 197.36it/s]\n"
     ]
    },
    {
     "name": "stdout",
     "output_type": "stream",
     "text": [
      "{'Accuracy@10': 0.18541797611565053, 'Accuracy@30': 0.1880368740833857, 'Accuracy@50': 0.17810182275298556}\n"
     ]
    },
    {
     "name": "stderr",
     "output_type": "stream",
     "text": [
      "100%|██████████| 9190/9190 [01:14<00:00, 122.60it/s]\n"
     ]
    },
    {
     "name": "stdout",
     "output_type": "stream",
     "text": [
      "train 0.0042211764040620955\n"
     ]
    },
    {
     "name": "stderr",
     "output_type": "stream",
     "text": [
      "100%|██████████| 2298/2298 [00:04<00:00, 570.81it/s]\n"
     ]
    },
    {
     "name": "stdout",
     "output_type": "stream",
     "text": [
      "valid 0.004179521062751606\n"
     ]
    },
    {
     "name": "stderr",
     "output_type": "stream",
     "text": [
      "100%|██████████| 1591/1591 [00:08<00:00, 187.24it/s]\n"
     ]
    },
    {
     "name": "stdout",
     "output_type": "stream",
     "text": [
      "saved model to cache/model/movielens/doc2vec.pt\n"
     ]
    },
    {
     "name": "stderr",
     "output_type": "stream",
     "text": [
      "100%|██████████| 1591/1591 [00:08<00:00, 194.47it/s]\n"
     ]
    },
    {
     "name": "stdout",
     "output_type": "stream",
     "text": [
      "{'Accuracy@10': 0.18881206788183533, 'Accuracy@30': 0.18801592289964383, 'Accuracy@50': 0.1786926461345066}\n"
     ]
    },
    {
     "name": "stderr",
     "output_type": "stream",
     "text": [
      "100%|██████████| 9190/9190 [01:16<00:00, 120.41it/s]\n"
     ]
    },
    {
     "name": "stdout",
     "output_type": "stream",
     "text": [
      "train 0.003985472349424657\n"
     ]
    },
    {
     "name": "stderr",
     "output_type": "stream",
     "text": [
      "100%|██████████| 2298/2298 [00:03<00:00, 684.64it/s]\n"
     ]
    },
    {
     "name": "stdout",
     "output_type": "stream",
     "text": [
      "valid 0.003971637475014117\n"
     ]
    },
    {
     "name": "stderr",
     "output_type": "stream",
     "text": [
      "100%|██████████| 1591/1591 [00:08<00:00, 196.63it/s]\n"
     ]
    },
    {
     "name": "stdout",
     "output_type": "stream",
     "text": [
      "saved model to cache/model/movielens/doc2vec.pt\n"
     ]
    },
    {
     "name": "stderr",
     "output_type": "stream",
     "text": [
      "100%|██████████| 1591/1591 [00:08<00:00, 197.67it/s]\n"
     ]
    },
    {
     "name": "stdout",
     "output_type": "stream",
     "text": [
      "{'Accuracy@10': 0.18409805153991202, 'Accuracy@30': 0.18411900272365386, 'Accuracy@50': 0.1764676304211188}\n",
      "{'User2Vec (d=16)': {'accuracy': [{'Accuracy@10': 0.03343808925204274, 'Accuracy@20': 0.03287240729101194, 'Accuracy@30': 0.03343808925204274, 'Accuracy@40': 0.03357950974230044, 'Accuracy@50': 0.03353865493400377}, {'Accuracy@10': 0.0399120050282841, 'Accuracy@20': 0.03966059082338152, 'Accuracy@30': 0.03951393253718835, 'Accuracy@40': 0.039754871150219986, 'Accuracy@50': 0.03922061596480201}, {'Accuracy@10': 0.05600251414204902, 'Accuracy@20': 0.0549654305468259, 'Accuracy@30': 0.05451498009637545, 'Accuracy@40': 0.053331238214959144, 'Accuracy@50': 0.0527215587680704}, {'Accuracy@10': 0.09220615964802012, 'Accuracy@20': 0.08846637335009429, 'Accuracy@30': 0.08403519798868636, 'Accuracy@40': 0.08062539283469516, 'Accuracy@50': 0.07865493400377122}, {'Accuracy@10': 0.1284098051539912, 'Accuracy@20': 0.12413576367064738, 'Accuracy@30': 0.11881416300020951, 'Accuracy@40': 0.11445631678189819, 'Accuracy@50': 0.11029541169076053}, {'Accuracy@10': 0.1464487743557511, 'Accuracy@20': 0.14412319296040227, 'Accuracy@30': 0.13915776241357636, 'Accuracy@40': 0.13482086737900692, 'Accuracy@50': 0.1316781898177247}, {'Accuracy@10': 0.1545568824638592, 'Accuracy@20': 0.15260842237586422, 'Accuracy@30': 0.14816677142258536, 'Accuracy@40': 0.14571024512884978, 'Accuracy@50': 0.1420993086109365}, {'Accuracy@10': 0.16021370207416719, 'Accuracy@20': 0.15791954745443118, 'Accuracy@30': 0.15411690760527968, 'Accuracy@40': 0.15168133249528598, 'Accuracy@50': 0.14780641106222503}], 'loss': {'train': [0.006517342345787048, 0.006429358006792469, 0.0063143843735778, 0.006152452744079411, 0.00593546872291718, 0.0056761985547917615, 0.005397864119620979, 0.005123787193525668], 'valid': [0.006486121344657288, 0.006396935946970848, 0.006268841222013997, 0.00608540518774758, 0.005849094519370922, 0.005579947104212953, 0.005303241963361922, 0.0050382485787523485]}}, 'User2Vec (d=32)': {'accuracy': [{'Accuracy@10': 0.030986800754242615, 'Accuracy@20': 0.030892520427404146, 'Accuracy@30': 0.032013408757594806, 'Accuracy@40': 0.0321024512884978, 'Accuracy@50': 0.03257071024512885}, {'Accuracy@10': 0.03802639849151477, 'Accuracy@20': 0.03928346951602766, 'Accuracy@30': 0.03995390739576786, 'Accuracy@40': 0.040446260213702075, 'Accuracy@50': 0.04054054054054054}, {'Accuracy@10': 0.06316781898177247, 'Accuracy@20': 0.06345065996228787, 'Accuracy@30': 0.06224596689712969, 'Accuracy@40': 0.061565053425518546, 'Accuracy@50': 0.060955373978629795}, {'Accuracy@10': 0.10402262727844122, 'Accuracy@20': 0.10587680703959775, 'Accuracy@30': 0.10222082547663944, 'Accuracy@40': 0.09932432432432432, 'Accuracy@50': 0.09607793840351979}, {'Accuracy@10': 0.14311753614079195, 'Accuracy@20': 0.14157762413576366, 'Accuracy@30': 0.13859208045254556, 'Accuracy@40': 0.13546511627906976, 'Accuracy@50': 0.13159019484600878}, {'Accuracy@10': 0.16398491514770586, 'Accuracy@20': 0.16445631678189818, 'Accuracy@30': 0.16103079824010055, 'Accuracy@40': 0.15763670647391576, 'Accuracy@50': 0.15362664990571967}, {'Accuracy@10': 0.1749842866121936, 'Accuracy@20': 0.17476429918290384, 'Accuracy@30': 0.1719254137858789, 'Accuracy@40': 0.16821181646763042, 'Accuracy@50': 0.1652294154619736}, {'Accuracy@10': 0.18051539912005027, 'Accuracy@20': 0.17803268384663734, 'Accuracy@30': 0.1760946993505133, 'Accuracy@40': 0.1723130106851037, 'Accuracy@50': 0.16961659333752357}], 'loss': {'train': [0.006529061485566321, 0.006373398017565902, 0.006181069893075378, 0.005928491195207776, 0.005617570916243441, 0.005281189215188122, 0.004955936524301556, 0.004667942515919968], 'valid': [0.006467592687032568, 0.006312935331637133, 0.006105076649807924, 0.005829360438782112, 0.005507853683514675, 0.005175735383919783, 0.004870312128045501, 0.00460565242060865]}}, 'User2Vec (d=64)': {'accuracy': [{'Accuracy@10': 0.026272784412319294, 'Accuracy@20': 0.03095537397862979, 'Accuracy@30': 0.032914309658495705, 'Accuracy@40': 0.03433375235700817, 'Accuracy@50': 0.034594594594594595}, {'Accuracy@10': 0.05619107479572596, 'Accuracy@20': 0.06379635449402891, 'Accuracy@30': 0.06543054682589566, 'Accuracy@40': 0.06610622250157135, 'Accuracy@50': 0.06549340037712131}, {'Accuracy@10': 0.1170333123821496, 'Accuracy@20': 0.1302639849151477, 'Accuracy@30': 0.128975487115022, 'Accuracy@40': 0.12716844751728473, 'Accuracy@50': 0.12417347580138278}, {'Accuracy@10': 0.15663104965430547, 'Accuracy@20': 0.16822752985543682, 'Accuracy@30': 0.16756756756756758, 'Accuracy@40': 0.1631992457573853, 'Accuracy@50': 0.16002514142049026}, {'Accuracy@10': 0.17605279698302953, 'Accuracy@20': 0.1857950974230044, 'Accuracy@30': 0.18273622459668973, 'Accuracy@40': 0.1782683846637335, 'Accuracy@50': 0.17340037712130735}, {'Accuracy@10': 0.18541797611565053, 'Accuracy@20': 0.192049025769956, 'Accuracy@30': 0.1880368740833857, 'Accuracy@40': 0.18304525455688245, 'Accuracy@50': 0.17810182275298556}, {'Accuracy@10': 0.18881206788183533, 'Accuracy@20': 0.1905091137649277, 'Accuracy@30': 0.18801592289964383, 'Accuracy@40': 0.18328095537397865, 'Accuracy@50': 0.1786926461345066}, {'Accuracy@10': 0.18409805153991202, 'Accuracy@20': 0.18827781269641736, 'Accuracy@30': 0.18411900272365386, 'Accuracy@40': 0.17985543683218103, 'Accuracy@50': 0.1764676304211188}], 'loss': {'train': [0.0064600452186359385, 0.0061487346325146686, 0.005773849266918703, 0.005338003722215081, 0.004901086054012682, 0.004522611606426302, 0.0042211764040620955, 0.003985472349424657], 'valid': [0.006332815786168779, 0.006020846278191725, 0.005628339828919845, 0.00519066566722703, 0.004782344646065837, 0.00444565085420857, 0.004179521062751606, 0.003971637475014117]}}}\n",
      "ModelConfig(d_model=64, init_embedding_std=0.2, max_embedding_norm=1, window_size=5, negative_sample_size=5, lr=5e-05, weight_decay=1e-08)\n",
      "TrainerConfig(model_name='old-attentive', dataset_name='movielens', epochs=8, batch_size=64, verbose=False, ignore_saved_model=True, load_model=False, save_model=True, load_dataset=False, save_dataset=False, model_dir='cache/model/', dataset_dir='cache/dataset/', device='cpu')\n",
      "dataset_manager does not exist at: cache/dataset/movielens.pickle, create dataset\n",
      "num_seq: 6040, num_item: 3706, num_item_meta: 28, num_seq_meta: 30, num_item_meta_types: 3, num_seq_meta_types: 3\n",
      "to_sequential_data start\n",
      "to_sequential_data end\n"
     ]
    },
    {
     "name": "stderr",
     "output_type": "stream",
     "text": [
      "100%|██████████| 9190/9190 [02:03<00:00, 74.55it/s]\n"
     ]
    },
    {
     "name": "stdout",
     "output_type": "stream",
     "text": [
      "train 0.006223665272778506\n"
     ]
    },
    {
     "name": "stderr",
     "output_type": "stream",
     "text": [
      "100%|██████████| 2298/2298 [00:08<00:00, 261.11it/s]\n"
     ]
    },
    {
     "name": "stdout",
     "output_type": "stream",
     "text": [
      "valid 0.005805455380727279\n"
     ]
    },
    {
     "name": "stderr",
     "output_type": "stream",
     "text": [
      "100%|██████████| 1591/1591 [00:18<00:00, 83.94it/s]\n"
     ]
    },
    {
     "name": "stdout",
     "output_type": "stream",
     "text": [
      "saved model to cache/model/movielens/old-attentive.pt\n"
     ]
    },
    {
     "name": "stderr",
     "output_type": "stream",
     "text": [
      "100%|██████████| 1591/1591 [00:18<00:00, 87.67it/s]\n"
     ]
    },
    {
     "name": "stdout",
     "output_type": "stream",
     "text": [
      "{'Accuracy@10': 0.1600879949717159, 'Accuracy@30': 0.14355751099937147, 'Accuracy@50': 0.13248271527341296}\n"
     ]
    },
    {
     "name": "stderr",
     "output_type": "stream",
     "text": [
      "100%|██████████| 9190/9190 [01:59<00:00, 76.91it/s]\n"
     ]
    },
    {
     "name": "stdout",
     "output_type": "stream",
     "text": [
      "train 0.005358958944335774\n"
     ]
    },
    {
     "name": "stderr",
     "output_type": "stream",
     "text": [
      "100%|██████████| 2298/2298 [00:07<00:00, 311.70it/s]\n"
     ]
    },
    {
     "name": "stdout",
     "output_type": "stream",
     "text": [
      "valid 0.004998471834243582\n"
     ]
    },
    {
     "name": "stderr",
     "output_type": "stream",
     "text": [
      "100%|██████████| 1591/1591 [00:17<00:00, 89.76it/s]\n"
     ]
    },
    {
     "name": "stdout",
     "output_type": "stream",
     "text": [
      "saved model to cache/model/movielens/old-attentive.pt\n"
     ]
    },
    {
     "name": "stderr",
     "output_type": "stream",
     "text": [
      "100%|██████████| 1591/1591 [00:17<00:00, 88.49it/s]\n"
     ]
    },
    {
     "name": "stdout",
     "output_type": "stream",
     "text": [
      "{'Accuracy@10': 0.21294783155248273, 'Accuracy@30': 0.19384035197988686, 'Accuracy@50': 0.17865493400377122}\n"
     ]
    },
    {
     "name": "stderr",
     "output_type": "stream",
     "text": [
      "100%|██████████| 9190/9190 [01:54<00:00, 80.08it/s]\n"
     ]
    },
    {
     "name": "stdout",
     "output_type": "stream",
     "text": [
      "train 0.004755232759809143\n"
     ]
    },
    {
     "name": "stderr",
     "output_type": "stream",
     "text": [
      "100%|██████████| 2298/2298 [00:08<00:00, 273.10it/s]\n"
     ]
    },
    {
     "name": "stdout",
     "output_type": "stream",
     "text": [
      "valid 0.004584061969240652\n"
     ]
    },
    {
     "name": "stderr",
     "output_type": "stream",
     "text": [
      "100%|██████████| 1591/1591 [00:18<00:00, 86.18it/s]\n"
     ]
    },
    {
     "name": "stdout",
     "output_type": "stream",
     "text": [
      "saved model to cache/model/movielens/old-attentive.pt\n"
     ]
    },
    {
     "name": "stderr",
     "output_type": "stream",
     "text": [
      "100%|██████████| 1591/1591 [00:18<00:00, 86.81it/s]\n"
     ]
    },
    {
     "name": "stdout",
     "output_type": "stream",
     "text": [
      "{'Accuracy@10': 0.2147705845380264, 'Accuracy@30': 0.19712968782736223, 'Accuracy@50': 0.18397234443746072}\n"
     ]
    },
    {
     "name": "stderr",
     "output_type": "stream",
     "text": [
      "100%|██████████| 9190/9190 [02:02<00:00, 74.79it/s]\n"
     ]
    },
    {
     "name": "stdout",
     "output_type": "stream",
     "text": [
      "train 0.0044654519944244\n"
     ]
    },
    {
     "name": "stderr",
     "output_type": "stream",
     "text": [
      "100%|██████████| 2298/2298 [00:08<00:00, 282.11it/s]\n"
     ]
    },
    {
     "name": "stdout",
     "output_type": "stream",
     "text": [
      "valid 0.004390811358401591\n"
     ]
    },
    {
     "name": "stderr",
     "output_type": "stream",
     "text": [
      "100%|██████████| 1591/1591 [00:18<00:00, 88.11it/s]\n"
     ]
    },
    {
     "name": "stdout",
     "output_type": "stream",
     "text": [
      "saved model to cache/model/movielens/old-attentive.pt\n"
     ]
    },
    {
     "name": "stderr",
     "output_type": "stream",
     "text": [
      "100%|██████████| 1591/1591 [00:18<00:00, 88.19it/s]\n"
     ]
    },
    {
     "name": "stdout",
     "output_type": "stream",
     "text": [
      "{'Accuracy@10': 0.20395977372721558, 'Accuracy@30': 0.18466373350094278, 'Accuracy@50': 0.17488372093023255}\n"
     ]
    },
    {
     "name": "stderr",
     "output_type": "stream",
     "text": [
      "100%|██████████| 9190/9190 [02:03<00:00, 74.66it/s]\n"
     ]
    },
    {
     "name": "stdout",
     "output_type": "stream",
     "text": [
      "train 0.004326995685179764\n"
     ]
    },
    {
     "name": "stderr",
     "output_type": "stream",
     "text": [
      "100%|██████████| 2298/2298 [00:08<00:00, 285.86it/s]\n"
     ]
    },
    {
     "name": "stdout",
     "output_type": "stream",
     "text": [
      "valid 0.004296024907372012\n"
     ]
    },
    {
     "name": "stderr",
     "output_type": "stream",
     "text": [
      "100%|██████████| 1591/1591 [00:18<00:00, 87.79it/s]\n"
     ]
    },
    {
     "name": "stdout",
     "output_type": "stream",
     "text": [
      "saved model to cache/model/movielens/old-attentive.pt\n"
     ]
    },
    {
     "name": "stderr",
     "output_type": "stream",
     "text": [
      "100%|██████████| 1591/1591 [00:18<00:00, 86.73it/s]\n"
     ]
    },
    {
     "name": "stdout",
     "output_type": "stream",
     "text": [
      "{'Accuracy@10': 0.168196103079824, 'Accuracy@30': 0.15968992248062014, 'Accuracy@50': 0.15279698302954117}\n"
     ]
    },
    {
     "name": "stderr",
     "output_type": "stream",
     "text": [
      "100%|██████████| 9190/9190 [02:59<00:00, 51.28it/s]\n"
     ]
    },
    {
     "name": "stdout",
     "output_type": "stream",
     "text": [
      "train 0.004250601272583129\n"
     ]
    },
    {
     "name": "stderr",
     "output_type": "stream",
     "text": [
      "100%|██████████| 2298/2298 [00:10<00:00, 215.70it/s]\n"
     ]
    },
    {
     "name": "stdout",
     "output_type": "stream",
     "text": [
      "valid 0.0042342555296667785\n"
     ]
    },
    {
     "name": "stderr",
     "output_type": "stream",
     "text": [
      "100%|██████████| 1591/1591 [00:20<00:00, 76.53it/s]\n"
     ]
    },
    {
     "name": "stdout",
     "output_type": "stream",
     "text": [
      "saved model to cache/model/movielens/old-attentive.pt\n"
     ]
    },
    {
     "name": "stderr",
     "output_type": "stream",
     "text": [
      "100%|██████████| 1591/1591 [00:20<00:00, 75.92it/s]\n"
     ]
    },
    {
     "name": "stdout",
     "output_type": "stream",
     "text": [
      "{'Accuracy@10': 0.13815210559396607, 'Accuracy@30': 0.13004399748585796, 'Accuracy@50': 0.1255311125078567}\n"
     ]
    },
    {
     "name": "stderr",
     "output_type": "stream",
     "text": [
      "100%|██████████| 9190/9190 [02:14<00:00, 68.53it/s]\n"
     ]
    },
    {
     "name": "stdout",
     "output_type": "stream",
     "text": [
      "train 0.004198019208424037\n"
     ]
    },
    {
     "name": "stderr",
     "output_type": "stream",
     "text": [
      "100%|██████████| 2298/2298 [00:08<00:00, 270.37it/s]\n"
     ]
    },
    {
     "name": "stdout",
     "output_type": "stream",
     "text": [
      "valid 0.00418648942652605\n"
     ]
    },
    {
     "name": "stderr",
     "output_type": "stream",
     "text": [
      "100%|██████████| 1591/1591 [00:17<00:00, 88.89it/s]\n"
     ]
    },
    {
     "name": "stdout",
     "output_type": "stream",
     "text": [
      "saved model to cache/model/movielens/old-attentive.pt\n"
     ]
    },
    {
     "name": "stderr",
     "output_type": "stream",
     "text": [
      "100%|██████████| 1591/1591 [00:18<00:00, 88.18it/s]\n"
     ]
    },
    {
     "name": "stdout",
     "output_type": "stream",
     "text": [
      "{'Accuracy@10': 0.10879949717159018, 'Accuracy@30': 0.10706054892101405, 'Accuracy@50': 0.10473915776241358}\n"
     ]
    },
    {
     "name": "stderr",
     "output_type": "stream",
     "text": [
      "100%|██████████| 9190/9190 [01:52<00:00, 81.60it/s]\n"
     ]
    },
    {
     "name": "stdout",
     "output_type": "stream",
     "text": [
      "train 0.004153067983790291\n"
     ]
    },
    {
     "name": "stderr",
     "output_type": "stream",
     "text": [
      "100%|██████████| 2298/2298 [00:07<00:00, 310.18it/s]\n"
     ]
    },
    {
     "name": "stdout",
     "output_type": "stream",
     "text": [
      "valid 0.004143867861161019\n"
     ]
    },
    {
     "name": "stderr",
     "output_type": "stream",
     "text": [
      "100%|██████████| 1591/1591 [00:17<00:00, 88.41it/s]\n"
     ]
    },
    {
     "name": "stdout",
     "output_type": "stream",
     "text": [
      "saved model to cache/model/movielens/old-attentive.pt\n"
     ]
    },
    {
     "name": "stderr",
     "output_type": "stream",
     "text": [
      "100%|██████████| 1591/1591 [00:18<00:00, 86.11it/s]\n"
     ]
    },
    {
     "name": "stdout",
     "output_type": "stream",
     "text": [
      "{'Accuracy@10': 0.08648648648648649, 'Accuracy@30': 0.0908652838885397, 'Accuracy@50': 0.08974230043997485}\n",
      "{'User2Vec (d=16)': {'accuracy': [{'Accuracy@10': 0.03343808925204274, 'Accuracy@20': 0.03287240729101194, 'Accuracy@30': 0.03343808925204274, 'Accuracy@40': 0.03357950974230044, 'Accuracy@50': 0.03353865493400377}, {'Accuracy@10': 0.0399120050282841, 'Accuracy@20': 0.03966059082338152, 'Accuracy@30': 0.03951393253718835, 'Accuracy@40': 0.039754871150219986, 'Accuracy@50': 0.03922061596480201}, {'Accuracy@10': 0.05600251414204902, 'Accuracy@20': 0.0549654305468259, 'Accuracy@30': 0.05451498009637545, 'Accuracy@40': 0.053331238214959144, 'Accuracy@50': 0.0527215587680704}, {'Accuracy@10': 0.09220615964802012, 'Accuracy@20': 0.08846637335009429, 'Accuracy@30': 0.08403519798868636, 'Accuracy@40': 0.08062539283469516, 'Accuracy@50': 0.07865493400377122}, {'Accuracy@10': 0.1284098051539912, 'Accuracy@20': 0.12413576367064738, 'Accuracy@30': 0.11881416300020951, 'Accuracy@40': 0.11445631678189819, 'Accuracy@50': 0.11029541169076053}, {'Accuracy@10': 0.1464487743557511, 'Accuracy@20': 0.14412319296040227, 'Accuracy@30': 0.13915776241357636, 'Accuracy@40': 0.13482086737900692, 'Accuracy@50': 0.1316781898177247}, {'Accuracy@10': 0.1545568824638592, 'Accuracy@20': 0.15260842237586422, 'Accuracy@30': 0.14816677142258536, 'Accuracy@40': 0.14571024512884978, 'Accuracy@50': 0.1420993086109365}, {'Accuracy@10': 0.16021370207416719, 'Accuracy@20': 0.15791954745443118, 'Accuracy@30': 0.15411690760527968, 'Accuracy@40': 0.15168133249528598, 'Accuracy@50': 0.14780641106222503}], 'loss': {'train': [0.006517342345787048, 0.006429358006792469, 0.0063143843735778, 0.006152452744079411, 0.00593546872291718, 0.0056761985547917615, 0.005397864119620979, 0.005123787193525668], 'valid': [0.006486121344657288, 0.006396935946970848, 0.006268841222013997, 0.00608540518774758, 0.005849094519370922, 0.005579947104212953, 0.005303241963361922, 0.0050382485787523485]}}, 'User2Vec (d=32)': {'accuracy': [{'Accuracy@10': 0.030986800754242615, 'Accuracy@20': 0.030892520427404146, 'Accuracy@30': 0.032013408757594806, 'Accuracy@40': 0.0321024512884978, 'Accuracy@50': 0.03257071024512885}, {'Accuracy@10': 0.03802639849151477, 'Accuracy@20': 0.03928346951602766, 'Accuracy@30': 0.03995390739576786, 'Accuracy@40': 0.040446260213702075, 'Accuracy@50': 0.04054054054054054}, {'Accuracy@10': 0.06316781898177247, 'Accuracy@20': 0.06345065996228787, 'Accuracy@30': 0.06224596689712969, 'Accuracy@40': 0.061565053425518546, 'Accuracy@50': 0.060955373978629795}, {'Accuracy@10': 0.10402262727844122, 'Accuracy@20': 0.10587680703959775, 'Accuracy@30': 0.10222082547663944, 'Accuracy@40': 0.09932432432432432, 'Accuracy@50': 0.09607793840351979}, {'Accuracy@10': 0.14311753614079195, 'Accuracy@20': 0.14157762413576366, 'Accuracy@30': 0.13859208045254556, 'Accuracy@40': 0.13546511627906976, 'Accuracy@50': 0.13159019484600878}, {'Accuracy@10': 0.16398491514770586, 'Accuracy@20': 0.16445631678189818, 'Accuracy@30': 0.16103079824010055, 'Accuracy@40': 0.15763670647391576, 'Accuracy@50': 0.15362664990571967}, {'Accuracy@10': 0.1749842866121936, 'Accuracy@20': 0.17476429918290384, 'Accuracy@30': 0.1719254137858789, 'Accuracy@40': 0.16821181646763042, 'Accuracy@50': 0.1652294154619736}, {'Accuracy@10': 0.18051539912005027, 'Accuracy@20': 0.17803268384663734, 'Accuracy@30': 0.1760946993505133, 'Accuracy@40': 0.1723130106851037, 'Accuracy@50': 0.16961659333752357}], 'loss': {'train': [0.006529061485566321, 0.006373398017565902, 0.006181069893075378, 0.005928491195207776, 0.005617570916243441, 0.005281189215188122, 0.004955936524301556, 0.004667942515919968], 'valid': [0.006467592687032568, 0.006312935331637133, 0.006105076649807924, 0.005829360438782112, 0.005507853683514675, 0.005175735383919783, 0.004870312128045501, 0.00460565242060865]}}, 'User2Vec (d=64)': {'accuracy': [{'Accuracy@10': 0.026272784412319294, 'Accuracy@20': 0.03095537397862979, 'Accuracy@30': 0.032914309658495705, 'Accuracy@40': 0.03433375235700817, 'Accuracy@50': 0.034594594594594595}, {'Accuracy@10': 0.05619107479572596, 'Accuracy@20': 0.06379635449402891, 'Accuracy@30': 0.06543054682589566, 'Accuracy@40': 0.06610622250157135, 'Accuracy@50': 0.06549340037712131}, {'Accuracy@10': 0.1170333123821496, 'Accuracy@20': 0.1302639849151477, 'Accuracy@30': 0.128975487115022, 'Accuracy@40': 0.12716844751728473, 'Accuracy@50': 0.12417347580138278}, {'Accuracy@10': 0.15663104965430547, 'Accuracy@20': 0.16822752985543682, 'Accuracy@30': 0.16756756756756758, 'Accuracy@40': 0.1631992457573853, 'Accuracy@50': 0.16002514142049026}, {'Accuracy@10': 0.17605279698302953, 'Accuracy@20': 0.1857950974230044, 'Accuracy@30': 0.18273622459668973, 'Accuracy@40': 0.1782683846637335, 'Accuracy@50': 0.17340037712130735}, {'Accuracy@10': 0.18541797611565053, 'Accuracy@20': 0.192049025769956, 'Accuracy@30': 0.1880368740833857, 'Accuracy@40': 0.18304525455688245, 'Accuracy@50': 0.17810182275298556}, {'Accuracy@10': 0.18881206788183533, 'Accuracy@20': 0.1905091137649277, 'Accuracy@30': 0.18801592289964383, 'Accuracy@40': 0.18328095537397865, 'Accuracy@50': 0.1786926461345066}, {'Accuracy@10': 0.18409805153991202, 'Accuracy@20': 0.18827781269641736, 'Accuracy@30': 0.18411900272365386, 'Accuracy@40': 0.17985543683218103, 'Accuracy@50': 0.1764676304211188}], 'loss': {'train': [0.0064600452186359385, 0.0061487346325146686, 0.005773849266918703, 0.005338003722215081, 0.004901086054012682, 0.004522611606426302, 0.0042211764040620955, 0.003985472349424657], 'valid': [0.006332815786168779, 0.006020846278191725, 0.005628339828919845, 0.00519066566722703, 0.004782344646065837, 0.00444565085420857, 0.004179521062751606, 0.003971637475014117]}}, 'AU2V (wo weight-tieing)': {'accuracy': [{'Accuracy@10': 0.1600879949717159, 'Accuracy@20': 0.14952859836580767, 'Accuracy@30': 0.14355751099937147, 'Accuracy@40': 0.1374921433060968, 'Accuracy@50': 0.13248271527341296}, {'Accuracy@10': 0.21294783155248273, 'Accuracy@20': 0.19993714644877436, 'Accuracy@30': 0.19384035197988686, 'Accuracy@40': 0.1859208045254557, 'Accuracy@50': 0.17865493400377122}, {'Accuracy@10': 0.2147705845380264, 'Accuracy@20': 0.20537397862979256, 'Accuracy@30': 0.19712968782736223, 'Accuracy@40': 0.1907762413576367, 'Accuracy@50': 0.18397234443746072}, {'Accuracy@10': 0.20395977372721558, 'Accuracy@20': 0.19198617221873035, 'Accuracy@30': 0.18466373350094278, 'Accuracy@40': 0.17930546825895663, 'Accuracy@50': 0.17488372093023255}, {'Accuracy@10': 0.168196103079824, 'Accuracy@20': 0.16398491514770586, 'Accuracy@30': 0.15968992248062014, 'Accuracy@40': 0.15586109365179132, 'Accuracy@50': 0.15279698302954117}, {'Accuracy@10': 0.13815210559396607, 'Accuracy@20': 0.1326524198617222, 'Accuracy@30': 0.13004399748585796, 'Accuracy@40': 0.12787554996857323, 'Accuracy@50': 0.1255311125078567}, {'Accuracy@10': 0.10879949717159018, 'Accuracy@20': 0.10879949717159018, 'Accuracy@30': 0.10706054892101405, 'Accuracy@40': 0.10645820238843495, 'Accuracy@50': 0.10473915776241358}, {'Accuracy@10': 0.08648648648648649, 'Accuracy@20': 0.09054054054054053, 'Accuracy@30': 0.0908652838885397, 'Accuracy@40': 0.09107479572595852, 'Accuracy@50': 0.08974230043997485}], 'loss': {'train': [0.006223665272778506, 0.005358958944335774, 0.004755232759809143, 0.0044654519944244, 0.004326995685179764, 0.004250601272583129, 0.004198019208424037, 0.004153067983790291], 'valid': [0.005805455380727279, 0.004998471834243582, 0.004584061969240652, 0.004390811358401591, 0.004296024907372012, 0.0042342555296667785, 0.00418648942652605, 0.004143867861161019]}}}\n",
      "ModelConfig(d_model=64, init_embedding_std=0.2, max_embedding_norm=None, window_size=5, negative_sample_size=5, lr=5e-05, weight_decay=1e-08)\n",
      "TrainerConfig(model_name='attentive', dataset_name='movielens', epochs=8, batch_size=64, verbose=False, ignore_saved_model=True, load_model=False, save_model=True, load_dataset=False, save_dataset=False, model_dir='cache/model/', dataset_dir='cache/dataset/', device='cpu')\n",
      "dataset_manager does not exist at: cache/dataset/movielens.pickle, create dataset\n",
      "num_seq: 6040, num_item: 3706, num_item_meta: 28, num_seq_meta: 30, num_item_meta_types: 3, num_seq_meta_types: 3\n",
      "to_sequential_data start\n",
      "to_sequential_data end\n"
     ]
    },
    {
     "name": "stderr",
     "output_type": "stream",
     "text": [
      "100%|██████████| 9190/9190 [01:55<00:00, 79.37it/s]\n"
     ]
    },
    {
     "name": "stdout",
     "output_type": "stream",
     "text": [
      "train 0.004714172831974656\n"
     ]
    },
    {
     "name": "stderr",
     "output_type": "stream",
     "text": [
      "100%|██████████| 2298/2298 [00:08<00:00, 283.32it/s]\n"
     ]
    },
    {
     "name": "stdout",
     "output_type": "stream",
     "text": [
      "valid 0.004664224713935083\n"
     ]
    },
    {
     "name": "stderr",
     "output_type": "stream",
     "text": [
      "100%|██████████| 1591/1591 [00:10<00:00, 153.07it/s]\n"
     ]
    },
    {
     "name": "stdout",
     "output_type": "stream",
     "text": [
      "saved model to cache/model/movielens/attentive.pt\n"
     ]
    },
    {
     "name": "stderr",
     "output_type": "stream",
     "text": [
      "100%|██████████| 1591/1591 [00:10<00:00, 154.40it/s]\n"
     ]
    },
    {
     "name": "stdout",
     "output_type": "stream",
     "text": [
      "{'Accuracy@10': 0.034318038969201756, 'Accuracy@30': 0.03299811439346323, 'Accuracy@50': 0.03405405405405405}\n"
     ]
    },
    {
     "name": "stderr",
     "output_type": "stream",
     "text": [
      "100%|██████████| 9190/9190 [01:58<00:00, 77.76it/s]\n"
     ]
    },
    {
     "name": "stdout",
     "output_type": "stream",
     "text": [
      "train 0.004752388326410646\n"
     ]
    },
    {
     "name": "stderr",
     "output_type": "stream",
     "text": [
      "100%|██████████| 2298/2298 [00:07<00:00, 316.43it/s]\n"
     ]
    },
    {
     "name": "stdout",
     "output_type": "stream",
     "text": [
      "valid 0.004692442304668712\n"
     ]
    },
    {
     "name": "stderr",
     "output_type": "stream",
     "text": [
      "100%|██████████| 1591/1591 [00:09<00:00, 162.10it/s]\n"
     ]
    },
    {
     "name": "stdout",
     "output_type": "stream",
     "text": [
      "saved model to cache/model/movielens/attentive.pt\n"
     ]
    },
    {
     "name": "stderr",
     "output_type": "stream",
     "text": [
      "100%|██████████| 1591/1591 [00:09<00:00, 161.94it/s]\n"
     ]
    },
    {
     "name": "stdout",
     "output_type": "stream",
     "text": [
      "{'Accuracy@10': 0.0021370207416719043, 'Accuracy@30': 0.003268384663733501, 'Accuracy@50': 0.003947203016970459}\n"
     ]
    },
    {
     "name": "stderr",
     "output_type": "stream",
     "text": [
      "100%|██████████| 9190/9190 [01:52<00:00, 81.63it/s]\n"
     ]
    },
    {
     "name": "stdout",
     "output_type": "stream",
     "text": [
      "train 0.004572540800106409\n"
     ]
    },
    {
     "name": "stderr",
     "output_type": "stream",
     "text": [
      "100%|██████████| 2298/2298 [00:08<00:00, 284.00it/s]\n"
     ]
    },
    {
     "name": "stdout",
     "output_type": "stream",
     "text": [
      "valid 0.004471826902772669\n"
     ]
    },
    {
     "name": "stderr",
     "output_type": "stream",
     "text": [
      "100%|██████████| 1591/1591 [00:10<00:00, 152.34it/s]\n"
     ]
    },
    {
     "name": "stdout",
     "output_type": "stream",
     "text": [
      "saved model to cache/model/movielens/attentive.pt\n"
     ]
    },
    {
     "name": "stderr",
     "output_type": "stream",
     "text": [
      "100%|██████████| 1591/1591 [00:10<00:00, 150.93it/s]\n"
     ]
    },
    {
     "name": "stdout",
     "output_type": "stream",
     "text": [
      "{'Accuracy@10': 0.002325581395348837, 'Accuracy@30': 0.0034988476848941967, 'Accuracy@50': 0.004274041483343809}\n"
     ]
    },
    {
     "name": "stderr",
     "output_type": "stream",
     "text": [
      "100%|██████████| 9190/9190 [01:57<00:00, 78.13it/s]\n"
     ]
    },
    {
     "name": "stdout",
     "output_type": "stream",
     "text": [
      "train 0.004394865891074314\n"
     ]
    },
    {
     "name": "stderr",
     "output_type": "stream",
     "text": [
      "100%|██████████| 2298/2298 [00:07<00:00, 290.68it/s]\n"
     ]
    },
    {
     "name": "stdout",
     "output_type": "stream",
     "text": [
      "valid 0.004318412520108975\n"
     ]
    },
    {
     "name": "stderr",
     "output_type": "stream",
     "text": [
      "100%|██████████| 1591/1591 [00:10<00:00, 154.98it/s]\n"
     ]
    },
    {
     "name": "stdout",
     "output_type": "stream",
     "text": [
      "saved model to cache/model/movielens/attentive.pt\n"
     ]
    },
    {
     "name": "stderr",
     "output_type": "stream",
     "text": [
      "100%|██████████| 1591/1591 [00:10<00:00, 151.59it/s]\n"
     ]
    },
    {
     "name": "stdout",
     "output_type": "stream",
     "text": [
      "{'Accuracy@10': 0.0026398491514770584, 'Accuracy@30': 0.004148334380892521, 'Accuracy@50': 0.004764299182903834}\n"
     ]
    },
    {
     "name": "stderr",
     "output_type": "stream",
     "text": [
      "100%|██████████| 9190/9190 [01:55<00:00, 79.40it/s]\n"
     ]
    },
    {
     "name": "stdout",
     "output_type": "stream",
     "text": [
      "train 0.004251740028107817\n"
     ]
    },
    {
     "name": "stderr",
     "output_type": "stream",
     "text": [
      "100%|██████████| 2298/2298 [00:07<00:00, 292.05it/s]\n"
     ]
    },
    {
     "name": "stdout",
     "output_type": "stream",
     "text": [
      "valid 0.004186736832810118\n"
     ]
    },
    {
     "name": "stderr",
     "output_type": "stream",
     "text": [
      "100%|██████████| 1591/1591 [00:10<00:00, 155.31it/s]\n"
     ]
    },
    {
     "name": "stdout",
     "output_type": "stream",
     "text": [
      "saved model to cache/model/movielens/attentive.pt\n"
     ]
    },
    {
     "name": "stderr",
     "output_type": "stream",
     "text": [
      "100%|██████████| 1591/1591 [00:10<00:00, 155.44it/s]\n"
     ]
    },
    {
     "name": "stdout",
     "output_type": "stream",
     "text": [
      "{'Accuracy@10': 0.002765556253928347, 'Accuracy@30': 0.004609260423213911, 'Accuracy@50': 0.0059208045254556885}\n"
     ]
    },
    {
     "name": "stderr",
     "output_type": "stream",
     "text": [
      "100%|██████████| 9190/9190 [02:03<00:00, 74.21it/s]\n"
     ]
    },
    {
     "name": "stdout",
     "output_type": "stream",
     "text": [
      "train 0.004126205321267588\n"
     ]
    },
    {
     "name": "stderr",
     "output_type": "stream",
     "text": [
      "100%|██████████| 2298/2298 [00:07<00:00, 295.37it/s]\n"
     ]
    },
    {
     "name": "stdout",
     "output_type": "stream",
     "text": [
      "valid 0.0040709432570037824\n"
     ]
    },
    {
     "name": "stderr",
     "output_type": "stream",
     "text": [
      "100%|██████████| 1591/1591 [00:10<00:00, 147.39it/s]\n"
     ]
    },
    {
     "name": "stdout",
     "output_type": "stream",
     "text": [
      "saved model to cache/model/movielens/attentive.pt\n"
     ]
    },
    {
     "name": "stderr",
     "output_type": "stream",
     "text": [
      "100%|██████████| 1591/1591 [00:10<00:00, 144.95it/s]\n"
     ]
    },
    {
     "name": "stdout",
     "output_type": "stream",
     "text": [
      "{'Accuracy@10': 0.003708359522313011, 'Accuracy@30': 0.006012989733919966, 'Accuracy@50': 0.008334380892520428}\n"
     ]
    },
    {
     "name": "stderr",
     "output_type": "stream",
     "text": [
      "100%|██████████| 9190/9190 [01:55<00:00, 79.38it/s]\n"
     ]
    },
    {
     "name": "stdout",
     "output_type": "stream",
     "text": [
      "train 0.004023230119032726\n"
     ]
    },
    {
     "name": "stderr",
     "output_type": "stream",
     "text": [
      "100%|██████████| 2298/2298 [00:07<00:00, 295.29it/s]\n"
     ]
    },
    {
     "name": "stdout",
     "output_type": "stream",
     "text": [
      "valid 0.0039817305632914675\n"
     ]
    },
    {
     "name": "stderr",
     "output_type": "stream",
     "text": [
      "100%|██████████| 1591/1591 [00:10<00:00, 157.30it/s]\n"
     ]
    },
    {
     "name": "stdout",
     "output_type": "stream",
     "text": [
      "saved model to cache/model/movielens/attentive.pt\n"
     ]
    },
    {
     "name": "stderr",
     "output_type": "stream",
     "text": [
      "100%|██████████| 1591/1591 [00:10<00:00, 156.83it/s]\n"
     ]
    },
    {
     "name": "stdout",
     "output_type": "stream",
     "text": [
      "{'Accuracy@10': 0.009302325581395349, 'Accuracy@30': 0.011753614079195476, 'Accuracy@50': 0.014695160276555626}\n"
     ]
    },
    {
     "name": "stderr",
     "output_type": "stream",
     "text": [
      "100%|██████████| 9190/9190 [01:54<00:00, 80.53it/s]\n"
     ]
    },
    {
     "name": "stdout",
     "output_type": "stream",
     "text": [
      "train 0.0039428260077806485\n"
     ]
    },
    {
     "name": "stderr",
     "output_type": "stream",
     "text": [
      "100%|██████████| 2298/2298 [00:07<00:00, 293.01it/s]\n"
     ]
    },
    {
     "name": "stdout",
     "output_type": "stream",
     "text": [
      "valid 0.003913070399004254\n"
     ]
    },
    {
     "name": "stderr",
     "output_type": "stream",
     "text": [
      "100%|██████████| 1591/1591 [00:10<00:00, 151.84it/s]\n"
     ]
    },
    {
     "name": "stdout",
     "output_type": "stream",
     "text": [
      "saved model to cache/model/movielens/attentive.pt\n"
     ]
    },
    {
     "name": "stderr",
     "output_type": "stream",
     "text": [
      "100%|██████████| 1591/1591 [00:10<00:00, 153.86it/s]\n"
     ]
    },
    {
     "name": "stdout",
     "output_type": "stream",
     "text": [
      "{'Accuracy@10': 0.027906976744186046, 'Accuracy@30': 0.028514561072700607, 'Accuracy@50': 0.02893777498428661}\n",
      "{'User2Vec (d=16)': {'accuracy': [{'Accuracy@10': 0.03343808925204274, 'Accuracy@20': 0.03287240729101194, 'Accuracy@30': 0.03343808925204274, 'Accuracy@40': 0.03357950974230044, 'Accuracy@50': 0.03353865493400377}, {'Accuracy@10': 0.0399120050282841, 'Accuracy@20': 0.03966059082338152, 'Accuracy@30': 0.03951393253718835, 'Accuracy@40': 0.039754871150219986, 'Accuracy@50': 0.03922061596480201}, {'Accuracy@10': 0.05600251414204902, 'Accuracy@20': 0.0549654305468259, 'Accuracy@30': 0.05451498009637545, 'Accuracy@40': 0.053331238214959144, 'Accuracy@50': 0.0527215587680704}, {'Accuracy@10': 0.09220615964802012, 'Accuracy@20': 0.08846637335009429, 'Accuracy@30': 0.08403519798868636, 'Accuracy@40': 0.08062539283469516, 'Accuracy@50': 0.07865493400377122}, {'Accuracy@10': 0.1284098051539912, 'Accuracy@20': 0.12413576367064738, 'Accuracy@30': 0.11881416300020951, 'Accuracy@40': 0.11445631678189819, 'Accuracy@50': 0.11029541169076053}, {'Accuracy@10': 0.1464487743557511, 'Accuracy@20': 0.14412319296040227, 'Accuracy@30': 0.13915776241357636, 'Accuracy@40': 0.13482086737900692, 'Accuracy@50': 0.1316781898177247}, {'Accuracy@10': 0.1545568824638592, 'Accuracy@20': 0.15260842237586422, 'Accuracy@30': 0.14816677142258536, 'Accuracy@40': 0.14571024512884978, 'Accuracy@50': 0.1420993086109365}, {'Accuracy@10': 0.16021370207416719, 'Accuracy@20': 0.15791954745443118, 'Accuracy@30': 0.15411690760527968, 'Accuracy@40': 0.15168133249528598, 'Accuracy@50': 0.14780641106222503}], 'loss': {'train': [0.006517342345787048, 0.006429358006792469, 0.0063143843735778, 0.006152452744079411, 0.00593546872291718, 0.0056761985547917615, 0.005397864119620979, 0.005123787193525668], 'valid': [0.006486121344657288, 0.006396935946970848, 0.006268841222013997, 0.00608540518774758, 0.005849094519370922, 0.005579947104212953, 0.005303241963361922, 0.0050382485787523485]}}, 'User2Vec (d=32)': {'accuracy': [{'Accuracy@10': 0.030986800754242615, 'Accuracy@20': 0.030892520427404146, 'Accuracy@30': 0.032013408757594806, 'Accuracy@40': 0.0321024512884978, 'Accuracy@50': 0.03257071024512885}, {'Accuracy@10': 0.03802639849151477, 'Accuracy@20': 0.03928346951602766, 'Accuracy@30': 0.03995390739576786, 'Accuracy@40': 0.040446260213702075, 'Accuracy@50': 0.04054054054054054}, {'Accuracy@10': 0.06316781898177247, 'Accuracy@20': 0.06345065996228787, 'Accuracy@30': 0.06224596689712969, 'Accuracy@40': 0.061565053425518546, 'Accuracy@50': 0.060955373978629795}, {'Accuracy@10': 0.10402262727844122, 'Accuracy@20': 0.10587680703959775, 'Accuracy@30': 0.10222082547663944, 'Accuracy@40': 0.09932432432432432, 'Accuracy@50': 0.09607793840351979}, {'Accuracy@10': 0.14311753614079195, 'Accuracy@20': 0.14157762413576366, 'Accuracy@30': 0.13859208045254556, 'Accuracy@40': 0.13546511627906976, 'Accuracy@50': 0.13159019484600878}, {'Accuracy@10': 0.16398491514770586, 'Accuracy@20': 0.16445631678189818, 'Accuracy@30': 0.16103079824010055, 'Accuracy@40': 0.15763670647391576, 'Accuracy@50': 0.15362664990571967}, {'Accuracy@10': 0.1749842866121936, 'Accuracy@20': 0.17476429918290384, 'Accuracy@30': 0.1719254137858789, 'Accuracy@40': 0.16821181646763042, 'Accuracy@50': 0.1652294154619736}, {'Accuracy@10': 0.18051539912005027, 'Accuracy@20': 0.17803268384663734, 'Accuracy@30': 0.1760946993505133, 'Accuracy@40': 0.1723130106851037, 'Accuracy@50': 0.16961659333752357}], 'loss': {'train': [0.006529061485566321, 0.006373398017565902, 0.006181069893075378, 0.005928491195207776, 0.005617570916243441, 0.005281189215188122, 0.004955936524301556, 0.004667942515919968], 'valid': [0.006467592687032568, 0.006312935331637133, 0.006105076649807924, 0.005829360438782112, 0.005507853683514675, 0.005175735383919783, 0.004870312128045501, 0.00460565242060865]}}, 'User2Vec (d=64)': {'accuracy': [{'Accuracy@10': 0.026272784412319294, 'Accuracy@20': 0.03095537397862979, 'Accuracy@30': 0.032914309658495705, 'Accuracy@40': 0.03433375235700817, 'Accuracy@50': 0.034594594594594595}, {'Accuracy@10': 0.05619107479572596, 'Accuracy@20': 0.06379635449402891, 'Accuracy@30': 0.06543054682589566, 'Accuracy@40': 0.06610622250157135, 'Accuracy@50': 0.06549340037712131}, {'Accuracy@10': 0.1170333123821496, 'Accuracy@20': 0.1302639849151477, 'Accuracy@30': 0.128975487115022, 'Accuracy@40': 0.12716844751728473, 'Accuracy@50': 0.12417347580138278}, {'Accuracy@10': 0.15663104965430547, 'Accuracy@20': 0.16822752985543682, 'Accuracy@30': 0.16756756756756758, 'Accuracy@40': 0.1631992457573853, 'Accuracy@50': 0.16002514142049026}, {'Accuracy@10': 0.17605279698302953, 'Accuracy@20': 0.1857950974230044, 'Accuracy@30': 0.18273622459668973, 'Accuracy@40': 0.1782683846637335, 'Accuracy@50': 0.17340037712130735}, {'Accuracy@10': 0.18541797611565053, 'Accuracy@20': 0.192049025769956, 'Accuracy@30': 0.1880368740833857, 'Accuracy@40': 0.18304525455688245, 'Accuracy@50': 0.17810182275298556}, {'Accuracy@10': 0.18881206788183533, 'Accuracy@20': 0.1905091137649277, 'Accuracy@30': 0.18801592289964383, 'Accuracy@40': 0.18328095537397865, 'Accuracy@50': 0.1786926461345066}, {'Accuracy@10': 0.18409805153991202, 'Accuracy@20': 0.18827781269641736, 'Accuracy@30': 0.18411900272365386, 'Accuracy@40': 0.17985543683218103, 'Accuracy@50': 0.1764676304211188}], 'loss': {'train': [0.0064600452186359385, 0.0061487346325146686, 0.005773849266918703, 0.005338003722215081, 0.004901086054012682, 0.004522611606426302, 0.0042211764040620955, 0.003985472349424657], 'valid': [0.006332815786168779, 0.006020846278191725, 0.005628339828919845, 0.00519066566722703, 0.004782344646065837, 0.00444565085420857, 0.004179521062751606, 0.003971637475014117]}}, 'AU2V (wo weight-tieing)': {'accuracy': [{'Accuracy@10': 0.1600879949717159, 'Accuracy@20': 0.14952859836580767, 'Accuracy@30': 0.14355751099937147, 'Accuracy@40': 0.1374921433060968, 'Accuracy@50': 0.13248271527341296}, {'Accuracy@10': 0.21294783155248273, 'Accuracy@20': 0.19993714644877436, 'Accuracy@30': 0.19384035197988686, 'Accuracy@40': 0.1859208045254557, 'Accuracy@50': 0.17865493400377122}, {'Accuracy@10': 0.2147705845380264, 'Accuracy@20': 0.20537397862979256, 'Accuracy@30': 0.19712968782736223, 'Accuracy@40': 0.1907762413576367, 'Accuracy@50': 0.18397234443746072}, {'Accuracy@10': 0.20395977372721558, 'Accuracy@20': 0.19198617221873035, 'Accuracy@30': 0.18466373350094278, 'Accuracy@40': 0.17930546825895663, 'Accuracy@50': 0.17488372093023255}, {'Accuracy@10': 0.168196103079824, 'Accuracy@20': 0.16398491514770586, 'Accuracy@30': 0.15968992248062014, 'Accuracy@40': 0.15586109365179132, 'Accuracy@50': 0.15279698302954117}, {'Accuracy@10': 0.13815210559396607, 'Accuracy@20': 0.1326524198617222, 'Accuracy@30': 0.13004399748585796, 'Accuracy@40': 0.12787554996857323, 'Accuracy@50': 0.1255311125078567}, {'Accuracy@10': 0.10879949717159018, 'Accuracy@20': 0.10879949717159018, 'Accuracy@30': 0.10706054892101405, 'Accuracy@40': 0.10645820238843495, 'Accuracy@50': 0.10473915776241358}, {'Accuracy@10': 0.08648648648648649, 'Accuracy@20': 0.09054054054054053, 'Accuracy@30': 0.0908652838885397, 'Accuracy@40': 0.09107479572595852, 'Accuracy@50': 0.08974230043997485}], 'loss': {'train': [0.006223665272778506, 0.005358958944335774, 0.004755232759809143, 0.0044654519944244, 0.004326995685179764, 0.004250601272583129, 0.004198019208424037, 0.004153067983790291], 'valid': [0.005805455380727279, 0.004998471834243582, 0.004584061969240652, 0.004390811358401591, 0.004296024907372012, 0.0042342555296667785, 0.00418648942652605, 0.004143867861161019]}}, 'AU2V (wo normalize-norm)': {'accuracy': [{'Accuracy@10': 0.034318038969201756, 'Accuracy@20': 0.03529226901319925, 'Accuracy@30': 0.03299811439346323, 'Accuracy@40': 0.033862350722815834, 'Accuracy@50': 0.03405405405405405}, {'Accuracy@10': 0.0021370207416719043, 'Accuracy@20': 0.003079824010056568, 'Accuracy@30': 0.003268384663733501, 'Accuracy@40': 0.003645505971087366, 'Accuracy@50': 0.003947203016970459}, {'Accuracy@10': 0.002325581395348837, 'Accuracy@20': 0.0029541169076052797, 'Accuracy@30': 0.0034988476848941967, 'Accuracy@40': 0.003959773727215588, 'Accuracy@50': 0.004274041483343809}, {'Accuracy@10': 0.0026398491514770584, 'Accuracy@20': 0.003519798868636078, 'Accuracy@30': 0.004148334380892521, 'Accuracy@40': 0.004321181646763042, 'Accuracy@50': 0.004764299182903834}, {'Accuracy@10': 0.002765556253928347, 'Accuracy@20': 0.003519798868636078, 'Accuracy@30': 0.004609260423213911, 'Accuracy@40': 0.005091137649277184, 'Accuracy@50': 0.0059208045254556885}, {'Accuracy@10': 0.003708359522313011, 'Accuracy@20': 0.0043368950345694535, 'Accuracy@30': 0.006012989733919966, 'Accuracy@40': 0.007165304839723445, 'Accuracy@50': 0.008334380892520428}, {'Accuracy@10': 0.009302325581395349, 'Accuracy@20': 0.01021370207416719, 'Accuracy@30': 0.011753614079195476, 'Accuracy@40': 0.013639220615964804, 'Accuracy@50': 0.014695160276555626}, {'Accuracy@10': 0.027906976744186046, 'Accuracy@20': 0.02721558768070396, 'Accuracy@30': 0.028514561072700607, 'Accuracy@40': 0.028771213073538655, 'Accuracy@50': 0.02893777498428661}], 'loss': {'train': [0.004714172831974656, 0.004752388326410646, 0.004572540800106409, 0.004394865891074314, 0.004251740028107817, 0.004126205321267588, 0.004023230119032726, 0.0039428260077806485], 'valid': [0.004664224713935083, 0.004692442304668712, 0.004471826902772669, 0.004318412520108975, 0.004186736832810118, 0.0040709432570037824, 0.0039817305632914675, 0.003913070399004254]}}}\n",
      "ModelConfig(d_model=16, init_embedding_std=0.2, max_embedding_norm=1, window_size=5, negative_sample_size=5, lr=5e-05, weight_decay=1e-08)\n",
      "TrainerConfig(model_name='attentive', dataset_name='movielens', epochs=8, batch_size=64, verbose=False, ignore_saved_model=True, load_model=False, save_model=True, load_dataset=False, save_dataset=False, model_dir='cache/model/', dataset_dir='cache/dataset/', device='cpu')\n",
      "dataset_manager does not exist at: cache/dataset/movielens.pickle, create dataset\n",
      "num_seq: 6040, num_item: 3706, num_item_meta: 28, num_seq_meta: 30, num_item_meta_types: 3, num_seq_meta_types: 3\n",
      "to_sequential_data start\n",
      "to_sequential_data end\n"
     ]
    },
    {
     "name": "stderr",
     "output_type": "stream",
     "text": [
      "100%|██████████| 9190/9190 [01:00<00:00, 151.78it/s]\n"
     ]
    },
    {
     "name": "stdout",
     "output_type": "stream",
     "text": [
      "train 0.005852364949320602\n"
     ]
    },
    {
     "name": "stderr",
     "output_type": "stream",
     "text": [
      "100%|██████████| 2298/2298 [00:06<00:00, 344.98it/s]\n"
     ]
    },
    {
     "name": "stdout",
     "output_type": "stream",
     "text": [
      "valid 0.005516709398129488\n"
     ]
    },
    {
     "name": "stderr",
     "output_type": "stream",
     "text": [
      "100%|██████████| 1591/1591 [00:11<00:00, 143.85it/s]\n"
     ]
    },
    {
     "name": "stdout",
     "output_type": "stream",
     "text": [
      "saved model to cache/model/movielens/attentive.pt\n"
     ]
    },
    {
     "name": "stderr",
     "output_type": "stream",
     "text": [
      "100%|██████████| 1591/1591 [00:10<00:00, 144.79it/s]\n"
     ]
    },
    {
     "name": "stdout",
     "output_type": "stream",
     "text": [
      "{'Accuracy@10': 0.1639220615964802, 'Accuracy@30': 0.1367693274670019, 'Accuracy@50': 0.13269641734758014}\n"
     ]
    },
    {
     "name": "stderr",
     "output_type": "stream",
     "text": [
      "100%|██████████| 9190/9190 [01:02<00:00, 146.34it/s]\n"
     ]
    },
    {
     "name": "stdout",
     "output_type": "stream",
     "text": [
      "train 0.005387285022395415\n"
     ]
    },
    {
     "name": "stderr",
     "output_type": "stream",
     "text": [
      "100%|██████████| 2298/2298 [00:06<00:00, 341.20it/s]\n"
     ]
    },
    {
     "name": "stdout",
     "output_type": "stream",
     "text": [
      "valid 0.005303117275269793\n"
     ]
    },
    {
     "name": "stderr",
     "output_type": "stream",
     "text": [
      "100%|██████████| 1591/1591 [00:11<00:00, 143.89it/s]\n"
     ]
    },
    {
     "name": "stdout",
     "output_type": "stream",
     "text": [
      "saved model to cache/model/movielens/attentive.pt\n"
     ]
    },
    {
     "name": "stderr",
     "output_type": "stream",
     "text": [
      "100%|██████████| 1591/1591 [00:11<00:00, 136.99it/s]\n"
     ]
    },
    {
     "name": "stdout",
     "output_type": "stream",
     "text": [
      "{'Accuracy@10': 0.2, 'Accuracy@30': 0.16760946993505133, 'Accuracy@50': 0.16334380892520428}\n"
     ]
    },
    {
     "name": "stderr",
     "output_type": "stream",
     "text": [
      "100%|██████████| 9190/9190 [01:05<00:00, 140.83it/s]\n"
     ]
    },
    {
     "name": "stdout",
     "output_type": "stream",
     "text": [
      "train 0.005249754310777093\n"
     ]
    },
    {
     "name": "stderr",
     "output_type": "stream",
     "text": [
      "100%|██████████| 2298/2298 [00:06<00:00, 352.19it/s]\n"
     ]
    },
    {
     "name": "stdout",
     "output_type": "stream",
     "text": [
      "valid 0.005217102662346987\n"
     ]
    },
    {
     "name": "stderr",
     "output_type": "stream",
     "text": [
      "100%|██████████| 1591/1591 [00:10<00:00, 145.99it/s]\n"
     ]
    },
    {
     "name": "stdout",
     "output_type": "stream",
     "text": [
      "saved model to cache/model/movielens/attentive.pt\n"
     ]
    },
    {
     "name": "stderr",
     "output_type": "stream",
     "text": [
      "100%|██████████| 1591/1591 [00:10<00:00, 145.12it/s]\n"
     ]
    },
    {
     "name": "stdout",
     "output_type": "stream",
     "text": [
      "{'Accuracy@10': 0.2180389692017599, 'Accuracy@30': 0.19226901319924575, 'Accuracy@50': 0.17963544940289125}\n"
     ]
    },
    {
     "name": "stderr",
     "output_type": "stream",
     "text": [
      "100%|██████████| 9190/9190 [01:07<00:00, 135.83it/s]\n"
     ]
    },
    {
     "name": "stdout",
     "output_type": "stream",
     "text": [
      "train 0.005189330728979978\n"
     ]
    },
    {
     "name": "stderr",
     "output_type": "stream",
     "text": [
      "100%|██████████| 2298/2298 [00:06<00:00, 345.42it/s]\n"
     ]
    },
    {
     "name": "stdout",
     "output_type": "stream",
     "text": [
      "valid 0.00517562477728744\n"
     ]
    },
    {
     "name": "stderr",
     "output_type": "stream",
     "text": [
      "100%|██████████| 1591/1591 [00:11<00:00, 134.34it/s]\n"
     ]
    },
    {
     "name": "stdout",
     "output_type": "stream",
     "text": [
      "saved model to cache/model/movielens/attentive.pt\n"
     ]
    },
    {
     "name": "stderr",
     "output_type": "stream",
     "text": [
      "100%|██████████| 1591/1591 [00:11<00:00, 141.74it/s]\n"
     ]
    },
    {
     "name": "stdout",
     "output_type": "stream",
     "text": [
      "{'Accuracy@10': 0.21992457573852922, 'Accuracy@30': 0.20205321600670437, 'Accuracy@50': 0.18770584538026397}\n"
     ]
    },
    {
     "name": "stderr",
     "output_type": "stream",
     "text": [
      "100%|██████████| 9190/9190 [01:06<00:00, 138.85it/s]\n"
     ]
    },
    {
     "name": "stdout",
     "output_type": "stream",
     "text": [
      "train 0.0051585635406971465\n"
     ]
    },
    {
     "name": "stderr",
     "output_type": "stream",
     "text": [
      "100%|██████████| 2298/2298 [00:06<00:00, 348.39it/s]\n"
     ]
    },
    {
     "name": "stdout",
     "output_type": "stream",
     "text": [
      "valid 0.0051533678419394425\n"
     ]
    },
    {
     "name": "stderr",
     "output_type": "stream",
     "text": [
      "100%|██████████| 1591/1591 [00:11<00:00, 144.14it/s]\n"
     ]
    },
    {
     "name": "stdout",
     "output_type": "stream",
     "text": [
      "saved model to cache/model/movielens/attentive.pt\n"
     ]
    },
    {
     "name": "stderr",
     "output_type": "stream",
     "text": [
      "100%|██████████| 1591/1591 [00:11<00:00, 144.33it/s]\n"
     ]
    },
    {
     "name": "stdout",
     "output_type": "stream",
     "text": [
      "{'Accuracy@10': 0.21646763042111877, 'Accuracy@30': 0.20410643201340878, 'Accuracy@50': 0.19118793211816468}\n"
     ]
    },
    {
     "name": "stderr",
     "output_type": "stream",
     "text": [
      "100%|██████████| 9190/9190 [01:06<00:00, 138.34it/s]\n"
     ]
    },
    {
     "name": "stdout",
     "output_type": "stream",
     "text": [
      "train 0.005141560878793145\n"
     ]
    },
    {
     "name": "stderr",
     "output_type": "stream",
     "text": [
      "100%|██████████| 2298/2298 [00:06<00:00, 350.70it/s]\n"
     ]
    },
    {
     "name": "stdout",
     "output_type": "stream",
     "text": [
      "valid 0.005140534491852994\n"
     ]
    },
    {
     "name": "stderr",
     "output_type": "stream",
     "text": [
      "100%|██████████| 1591/1591 [00:11<00:00, 141.05it/s]\n"
     ]
    },
    {
     "name": "stdout",
     "output_type": "stream",
     "text": [
      "saved model to cache/model/movielens/attentive.pt\n"
     ]
    },
    {
     "name": "stderr",
     "output_type": "stream",
     "text": [
      "100%|██████████| 1591/1591 [00:11<00:00, 137.54it/s]\n"
     ]
    },
    {
     "name": "stdout",
     "output_type": "stream",
     "text": [
      "{'Accuracy@10': 0.208485229415462, 'Accuracy@30': 0.20111041273831973, 'Accuracy@50': 0.1911502199874293}\n"
     ]
    },
    {
     "name": "stderr",
     "output_type": "stream",
     "text": [
      "100%|██████████| 9190/9190 [01:09<00:00, 132.36it/s]\n"
     ]
    },
    {
     "name": "stdout",
     "output_type": "stream",
     "text": [
      "train 0.0051314685803810715\n"
     ]
    },
    {
     "name": "stderr",
     "output_type": "stream",
     "text": [
      "100%|██████████| 2298/2298 [00:06<00:00, 347.04it/s]\n"
     ]
    },
    {
     "name": "stdout",
     "output_type": "stream",
     "text": [
      "valid 0.005132692481191452\n"
     ]
    },
    {
     "name": "stderr",
     "output_type": "stream",
     "text": [
      "100%|██████████| 1591/1591 [00:11<00:00, 144.00it/s]\n"
     ]
    },
    {
     "name": "stdout",
     "output_type": "stream",
     "text": [
      "saved model to cache/model/movielens/attentive.pt\n"
     ]
    },
    {
     "name": "stderr",
     "output_type": "stream",
     "text": [
      "100%|██████████| 1591/1591 [00:11<00:00, 144.17it/s]\n"
     ]
    },
    {
     "name": "stdout",
     "output_type": "stream",
     "text": [
      "{'Accuracy@10': 0.19151477058453803, 'Accuracy@30': 0.1951393253718835, 'Accuracy@50': 0.18891263356379637}\n"
     ]
    },
    {
     "name": "stderr",
     "output_type": "stream",
     "text": [
      "100%|██████████| 9190/9190 [01:06<00:00, 138.29it/s]\n"
     ]
    },
    {
     "name": "stdout",
     "output_type": "stream",
     "text": [
      "train 0.005125159340615712\n"
     ]
    },
    {
     "name": "stderr",
     "output_type": "stream",
     "text": [
      "100%|██████████| 2298/2298 [00:06<00:00, 350.24it/s]\n"
     ]
    },
    {
     "name": "stdout",
     "output_type": "stream",
     "text": [
      "valid 0.005127651176979804\n"
     ]
    },
    {
     "name": "stderr",
     "output_type": "stream",
     "text": [
      "100%|██████████| 1591/1591 [00:10<00:00, 144.92it/s]\n"
     ]
    },
    {
     "name": "stdout",
     "output_type": "stream",
     "text": [
      "saved model to cache/model/movielens/attentive.pt\n"
     ]
    },
    {
     "name": "stderr",
     "output_type": "stream",
     "text": [
      "100%|██████████| 1591/1591 [00:11<00:00, 143.71it/s]\n"
     ]
    },
    {
     "name": "stdout",
     "output_type": "stream",
     "text": [
      "{'Accuracy@10': 0.17303582652419863, 'Accuracy@30': 0.18133249528598366, 'Accuracy@50': 0.18124450031426775}\n",
      "{'User2Vec (d=16)': {'accuracy': [{'Accuracy@10': 0.03343808925204274, 'Accuracy@20': 0.03287240729101194, 'Accuracy@30': 0.03343808925204274, 'Accuracy@40': 0.03357950974230044, 'Accuracy@50': 0.03353865493400377}, {'Accuracy@10': 0.0399120050282841, 'Accuracy@20': 0.03966059082338152, 'Accuracy@30': 0.03951393253718835, 'Accuracy@40': 0.039754871150219986, 'Accuracy@50': 0.03922061596480201}, {'Accuracy@10': 0.05600251414204902, 'Accuracy@20': 0.0549654305468259, 'Accuracy@30': 0.05451498009637545, 'Accuracy@40': 0.053331238214959144, 'Accuracy@50': 0.0527215587680704}, {'Accuracy@10': 0.09220615964802012, 'Accuracy@20': 0.08846637335009429, 'Accuracy@30': 0.08403519798868636, 'Accuracy@40': 0.08062539283469516, 'Accuracy@50': 0.07865493400377122}, {'Accuracy@10': 0.1284098051539912, 'Accuracy@20': 0.12413576367064738, 'Accuracy@30': 0.11881416300020951, 'Accuracy@40': 0.11445631678189819, 'Accuracy@50': 0.11029541169076053}, {'Accuracy@10': 0.1464487743557511, 'Accuracy@20': 0.14412319296040227, 'Accuracy@30': 0.13915776241357636, 'Accuracy@40': 0.13482086737900692, 'Accuracy@50': 0.1316781898177247}, {'Accuracy@10': 0.1545568824638592, 'Accuracy@20': 0.15260842237586422, 'Accuracy@30': 0.14816677142258536, 'Accuracy@40': 0.14571024512884978, 'Accuracy@50': 0.1420993086109365}, {'Accuracy@10': 0.16021370207416719, 'Accuracy@20': 0.15791954745443118, 'Accuracy@30': 0.15411690760527968, 'Accuracy@40': 0.15168133249528598, 'Accuracy@50': 0.14780641106222503}], 'loss': {'train': [0.006517342345787048, 0.006429358006792469, 0.0063143843735778, 0.006152452744079411, 0.00593546872291718, 0.0056761985547917615, 0.005397864119620979, 0.005123787193525668], 'valid': [0.006486121344657288, 0.006396935946970848, 0.006268841222013997, 0.00608540518774758, 0.005849094519370922, 0.005579947104212953, 0.005303241963361922, 0.0050382485787523485]}}, 'User2Vec (d=32)': {'accuracy': [{'Accuracy@10': 0.030986800754242615, 'Accuracy@20': 0.030892520427404146, 'Accuracy@30': 0.032013408757594806, 'Accuracy@40': 0.0321024512884978, 'Accuracy@50': 0.03257071024512885}, {'Accuracy@10': 0.03802639849151477, 'Accuracy@20': 0.03928346951602766, 'Accuracy@30': 0.03995390739576786, 'Accuracy@40': 0.040446260213702075, 'Accuracy@50': 0.04054054054054054}, {'Accuracy@10': 0.06316781898177247, 'Accuracy@20': 0.06345065996228787, 'Accuracy@30': 0.06224596689712969, 'Accuracy@40': 0.061565053425518546, 'Accuracy@50': 0.060955373978629795}, {'Accuracy@10': 0.10402262727844122, 'Accuracy@20': 0.10587680703959775, 'Accuracy@30': 0.10222082547663944, 'Accuracy@40': 0.09932432432432432, 'Accuracy@50': 0.09607793840351979}, {'Accuracy@10': 0.14311753614079195, 'Accuracy@20': 0.14157762413576366, 'Accuracy@30': 0.13859208045254556, 'Accuracy@40': 0.13546511627906976, 'Accuracy@50': 0.13159019484600878}, {'Accuracy@10': 0.16398491514770586, 'Accuracy@20': 0.16445631678189818, 'Accuracy@30': 0.16103079824010055, 'Accuracy@40': 0.15763670647391576, 'Accuracy@50': 0.15362664990571967}, {'Accuracy@10': 0.1749842866121936, 'Accuracy@20': 0.17476429918290384, 'Accuracy@30': 0.1719254137858789, 'Accuracy@40': 0.16821181646763042, 'Accuracy@50': 0.1652294154619736}, {'Accuracy@10': 0.18051539912005027, 'Accuracy@20': 0.17803268384663734, 'Accuracy@30': 0.1760946993505133, 'Accuracy@40': 0.1723130106851037, 'Accuracy@50': 0.16961659333752357}], 'loss': {'train': [0.006529061485566321, 0.006373398017565902, 0.006181069893075378, 0.005928491195207776, 0.005617570916243441, 0.005281189215188122, 0.004955936524301556, 0.004667942515919968], 'valid': [0.006467592687032568, 0.006312935331637133, 0.006105076649807924, 0.005829360438782112, 0.005507853683514675, 0.005175735383919783, 0.004870312128045501, 0.00460565242060865]}}, 'User2Vec (d=64)': {'accuracy': [{'Accuracy@10': 0.026272784412319294, 'Accuracy@20': 0.03095537397862979, 'Accuracy@30': 0.032914309658495705, 'Accuracy@40': 0.03433375235700817, 'Accuracy@50': 0.034594594594594595}, {'Accuracy@10': 0.05619107479572596, 'Accuracy@20': 0.06379635449402891, 'Accuracy@30': 0.06543054682589566, 'Accuracy@40': 0.06610622250157135, 'Accuracy@50': 0.06549340037712131}, {'Accuracy@10': 0.1170333123821496, 'Accuracy@20': 0.1302639849151477, 'Accuracy@30': 0.128975487115022, 'Accuracy@40': 0.12716844751728473, 'Accuracy@50': 0.12417347580138278}, {'Accuracy@10': 0.15663104965430547, 'Accuracy@20': 0.16822752985543682, 'Accuracy@30': 0.16756756756756758, 'Accuracy@40': 0.1631992457573853, 'Accuracy@50': 0.16002514142049026}, {'Accuracy@10': 0.17605279698302953, 'Accuracy@20': 0.1857950974230044, 'Accuracy@30': 0.18273622459668973, 'Accuracy@40': 0.1782683846637335, 'Accuracy@50': 0.17340037712130735}, {'Accuracy@10': 0.18541797611565053, 'Accuracy@20': 0.192049025769956, 'Accuracy@30': 0.1880368740833857, 'Accuracy@40': 0.18304525455688245, 'Accuracy@50': 0.17810182275298556}, {'Accuracy@10': 0.18881206788183533, 'Accuracy@20': 0.1905091137649277, 'Accuracy@30': 0.18801592289964383, 'Accuracy@40': 0.18328095537397865, 'Accuracy@50': 0.1786926461345066}, {'Accuracy@10': 0.18409805153991202, 'Accuracy@20': 0.18827781269641736, 'Accuracy@30': 0.18411900272365386, 'Accuracy@40': 0.17985543683218103, 'Accuracy@50': 0.1764676304211188}], 'loss': {'train': [0.0064600452186359385, 0.0061487346325146686, 0.005773849266918703, 0.005338003722215081, 0.004901086054012682, 0.004522611606426302, 0.0042211764040620955, 0.003985472349424657], 'valid': [0.006332815786168779, 0.006020846278191725, 0.005628339828919845, 0.00519066566722703, 0.004782344646065837, 0.00444565085420857, 0.004179521062751606, 0.003971637475014117]}}, 'AU2V (wo weight-tieing)': {'accuracy': [{'Accuracy@10': 0.1600879949717159, 'Accuracy@20': 0.14952859836580767, 'Accuracy@30': 0.14355751099937147, 'Accuracy@40': 0.1374921433060968, 'Accuracy@50': 0.13248271527341296}, {'Accuracy@10': 0.21294783155248273, 'Accuracy@20': 0.19993714644877436, 'Accuracy@30': 0.19384035197988686, 'Accuracy@40': 0.1859208045254557, 'Accuracy@50': 0.17865493400377122}, {'Accuracy@10': 0.2147705845380264, 'Accuracy@20': 0.20537397862979256, 'Accuracy@30': 0.19712968782736223, 'Accuracy@40': 0.1907762413576367, 'Accuracy@50': 0.18397234443746072}, {'Accuracy@10': 0.20395977372721558, 'Accuracy@20': 0.19198617221873035, 'Accuracy@30': 0.18466373350094278, 'Accuracy@40': 0.17930546825895663, 'Accuracy@50': 0.17488372093023255}, {'Accuracy@10': 0.168196103079824, 'Accuracy@20': 0.16398491514770586, 'Accuracy@30': 0.15968992248062014, 'Accuracy@40': 0.15586109365179132, 'Accuracy@50': 0.15279698302954117}, {'Accuracy@10': 0.13815210559396607, 'Accuracy@20': 0.1326524198617222, 'Accuracy@30': 0.13004399748585796, 'Accuracy@40': 0.12787554996857323, 'Accuracy@50': 0.1255311125078567}, {'Accuracy@10': 0.10879949717159018, 'Accuracy@20': 0.10879949717159018, 'Accuracy@30': 0.10706054892101405, 'Accuracy@40': 0.10645820238843495, 'Accuracy@50': 0.10473915776241358}, {'Accuracy@10': 0.08648648648648649, 'Accuracy@20': 0.09054054054054053, 'Accuracy@30': 0.0908652838885397, 'Accuracy@40': 0.09107479572595852, 'Accuracy@50': 0.08974230043997485}], 'loss': {'train': [0.006223665272778506, 0.005358958944335774, 0.004755232759809143, 0.0044654519944244, 0.004326995685179764, 0.004250601272583129, 0.004198019208424037, 0.004153067983790291], 'valid': [0.005805455380727279, 0.004998471834243582, 0.004584061969240652, 0.004390811358401591, 0.004296024907372012, 0.0042342555296667785, 0.00418648942652605, 0.004143867861161019]}}, 'AU2V (wo normalize-norm)': {'accuracy': [{'Accuracy@10': 0.034318038969201756, 'Accuracy@20': 0.03529226901319925, 'Accuracy@30': 0.03299811439346323, 'Accuracy@40': 0.033862350722815834, 'Accuracy@50': 0.03405405405405405}, {'Accuracy@10': 0.0021370207416719043, 'Accuracy@20': 0.003079824010056568, 'Accuracy@30': 0.003268384663733501, 'Accuracy@40': 0.003645505971087366, 'Accuracy@50': 0.003947203016970459}, {'Accuracy@10': 0.002325581395348837, 'Accuracy@20': 0.0029541169076052797, 'Accuracy@30': 0.0034988476848941967, 'Accuracy@40': 0.003959773727215588, 'Accuracy@50': 0.004274041483343809}, {'Accuracy@10': 0.0026398491514770584, 'Accuracy@20': 0.003519798868636078, 'Accuracy@30': 0.004148334380892521, 'Accuracy@40': 0.004321181646763042, 'Accuracy@50': 0.004764299182903834}, {'Accuracy@10': 0.002765556253928347, 'Accuracy@20': 0.003519798868636078, 'Accuracy@30': 0.004609260423213911, 'Accuracy@40': 0.005091137649277184, 'Accuracy@50': 0.0059208045254556885}, {'Accuracy@10': 0.003708359522313011, 'Accuracy@20': 0.0043368950345694535, 'Accuracy@30': 0.006012989733919966, 'Accuracy@40': 0.007165304839723445, 'Accuracy@50': 0.008334380892520428}, {'Accuracy@10': 0.009302325581395349, 'Accuracy@20': 0.01021370207416719, 'Accuracy@30': 0.011753614079195476, 'Accuracy@40': 0.013639220615964804, 'Accuracy@50': 0.014695160276555626}, {'Accuracy@10': 0.027906976744186046, 'Accuracy@20': 0.02721558768070396, 'Accuracy@30': 0.028514561072700607, 'Accuracy@40': 0.028771213073538655, 'Accuracy@50': 0.02893777498428661}], 'loss': {'train': [0.004714172831974656, 0.004752388326410646, 0.004572540800106409, 0.004394865891074314, 0.004251740028107817, 0.004126205321267588, 0.004023230119032726, 0.0039428260077806485], 'valid': [0.004664224713935083, 0.004692442304668712, 0.004471826902772669, 0.004318412520108975, 0.004186736832810118, 0.0040709432570037824, 0.0039817305632914675, 0.003913070399004254]}}, 'AU2V (d=16)': {'accuracy': [{'Accuracy@10': 0.1639220615964802, 'Accuracy@20': 0.14217473287240728, 'Accuracy@30': 0.1367693274670019, 'Accuracy@40': 0.13274670018856066, 'Accuracy@50': 0.13269641734758014}, {'Accuracy@10': 0.2, 'Accuracy@20': 0.17479572595851664, 'Accuracy@30': 0.16760946993505133, 'Accuracy@40': 0.1656033940917662, 'Accuracy@50': 0.16334380892520428}, {'Accuracy@10': 0.2180389692017599, 'Accuracy@20': 0.20323695788812066, 'Accuracy@30': 0.19226901319924575, 'Accuracy@40': 0.18491514770584538, 'Accuracy@50': 0.17963544940289125}, {'Accuracy@10': 0.21992457573852922, 'Accuracy@20': 0.21134506599622876, 'Accuracy@30': 0.20205321600670437, 'Accuracy@40': 0.1945945945945946, 'Accuracy@50': 0.18770584538026397}, {'Accuracy@10': 0.21646763042111877, 'Accuracy@20': 0.21074795725958517, 'Accuracy@30': 0.20410643201340878, 'Accuracy@40': 0.19791011942174733, 'Accuracy@50': 0.19118793211816468}, {'Accuracy@10': 0.208485229415462, 'Accuracy@20': 0.20716530483972345, 'Accuracy@30': 0.20111041273831973, 'Accuracy@40': 0.19720301697045883, 'Accuracy@50': 0.1911502199874293}, {'Accuracy@10': 0.19151477058453803, 'Accuracy@20': 0.1947517284726587, 'Accuracy@30': 0.1951393253718835, 'Accuracy@40': 0.19151477058453803, 'Accuracy@50': 0.18891263356379637}, {'Accuracy@10': 0.17303582652419863, 'Accuracy@20': 0.17925832809553738, 'Accuracy@30': 0.18133249528598366, 'Accuracy@40': 0.18244814582023886, 'Accuracy@50': 0.18124450031426775}], 'loss': {'train': [0.005852364949320602, 0.005387285022395415, 0.005249754310777093, 0.005189330728979978, 0.0051585635406971465, 0.005141560878793145, 0.0051314685803810715, 0.005125159340615712], 'valid': [0.005516709398129488, 0.005303117275269793, 0.005217102662346987, 0.00517562477728744, 0.0051533678419394425, 0.005140534491852994, 0.005132692481191452, 0.005127651176979804]}}}\n",
      "ModelConfig(d_model=32, init_embedding_std=0.2, max_embedding_norm=1, window_size=5, negative_sample_size=5, lr=5e-05, weight_decay=1e-08)\n",
      "TrainerConfig(model_name='attentive', dataset_name='movielens', epochs=8, batch_size=64, verbose=False, ignore_saved_model=True, load_model=False, save_model=True, load_dataset=False, save_dataset=False, model_dir='cache/model/', dataset_dir='cache/dataset/', device='cpu')\n",
      "dataset_manager does not exist at: cache/dataset/movielens.pickle, create dataset\n",
      "num_seq: 6040, num_item: 3706, num_item_meta: 28, num_seq_meta: 30, num_item_meta_types: 3, num_seq_meta_types: 3\n",
      "to_sequential_data start\n",
      "to_sequential_data end\n"
     ]
    },
    {
     "name": "stderr",
     "output_type": "stream",
     "text": [
      "100%|██████████| 9190/9190 [01:23<00:00, 109.98it/s]\n"
     ]
    },
    {
     "name": "stdout",
     "output_type": "stream",
     "text": [
      "train 0.005789849058024674\n"
     ]
    },
    {
     "name": "stderr",
     "output_type": "stream",
     "text": [
      "100%|██████████| 2298/2298 [00:07<00:00, 308.20it/s]\n"
     ]
    },
    {
     "name": "stdout",
     "output_type": "stream",
     "text": [
      "valid 0.0054499675782335175\n"
     ]
    },
    {
     "name": "stderr",
     "output_type": "stream",
     "text": [
      "100%|██████████| 1591/1591 [00:12<00:00, 131.39it/s]\n"
     ]
    },
    {
     "name": "stdout",
     "output_type": "stream",
     "text": [
      "saved model to cache/model/movielens/attentive.pt\n"
     ]
    },
    {
     "name": "stderr",
     "output_type": "stream",
     "text": [
      "100%|██████████| 1591/1591 [00:12<00:00, 132.29it/s]\n"
     ]
    },
    {
     "name": "stdout",
     "output_type": "stream",
     "text": [
      "{'Accuracy@10': 0.1883720930232558, 'Accuracy@30': 0.17091975696626857, 'Accuracy@50': 0.16434946574481457}\n"
     ]
    },
    {
     "name": "stderr",
     "output_type": "stream",
     "text": [
      "100%|██████████| 9190/9190 [01:26<00:00, 106.79it/s]\n"
     ]
    },
    {
     "name": "stdout",
     "output_type": "stream",
     "text": [
      "train 0.005327348440522743\n"
     ]
    },
    {
     "name": "stderr",
     "output_type": "stream",
     "text": [
      "100%|██████████| 2298/2298 [00:07<00:00, 305.55it/s]\n"
     ]
    },
    {
     "name": "stdout",
     "output_type": "stream",
     "text": [
      "valid 0.005254103106826555\n"
     ]
    },
    {
     "name": "stderr",
     "output_type": "stream",
     "text": [
      "100%|██████████| 1591/1591 [00:12<00:00, 130.91it/s]\n"
     ]
    },
    {
     "name": "stdout",
     "output_type": "stream",
     "text": [
      "saved model to cache/model/movielens/attentive.pt\n"
     ]
    },
    {
     "name": "stderr",
     "output_type": "stream",
     "text": [
      "100%|██████████| 1591/1591 [00:12<00:00, 130.82it/s]\n"
     ]
    },
    {
     "name": "stdout",
     "output_type": "stream",
     "text": [
      "{'Accuracy@10': 0.21156505342551854, 'Accuracy@30': 0.20243033731405824, 'Accuracy@50': 0.18989314896291642}\n"
     ]
    },
    {
     "name": "stderr",
     "output_type": "stream",
     "text": [
      "100%|██████████| 9190/9190 [01:25<00:00, 107.67it/s]\n"
     ]
    },
    {
     "name": "stdout",
     "output_type": "stream",
     "text": [
      "train 0.005207680866843793\n"
     ]
    },
    {
     "name": "stderr",
     "output_type": "stream",
     "text": [
      "100%|██████████| 2298/2298 [00:07<00:00, 308.02it/s]\n"
     ]
    },
    {
     "name": "stdout",
     "output_type": "stream",
     "text": [
      "valid 0.005183248392313877\n"
     ]
    },
    {
     "name": "stderr",
     "output_type": "stream",
     "text": [
      "100%|██████████| 1591/1591 [00:12<00:00, 130.63it/s]\n"
     ]
    },
    {
     "name": "stdout",
     "output_type": "stream",
     "text": [
      "saved model to cache/model/movielens/attentive.pt\n"
     ]
    },
    {
     "name": "stderr",
     "output_type": "stream",
     "text": [
      "100%|██████████| 1591/1591 [00:12<00:00, 130.47it/s]\n"
     ]
    },
    {
     "name": "stdout",
     "output_type": "stream",
     "text": [
      "{'Accuracy@10': 0.21690760527969832, 'Accuracy@30': 0.20718625602346533, 'Accuracy@50': 0.1960402262727844}\n"
     ]
    },
    {
     "name": "stderr",
     "output_type": "stream",
     "text": [
      "100%|██████████| 9190/9190 [01:25<00:00, 107.20it/s]\n"
     ]
    },
    {
     "name": "stdout",
     "output_type": "stream",
     "text": [
      "train 0.005160463916216861\n"
     ]
    },
    {
     "name": "stderr",
     "output_type": "stream",
     "text": [
      "100%|██████████| 2298/2298 [00:07<00:00, 304.83it/s]\n"
     ]
    },
    {
     "name": "stdout",
     "output_type": "stream",
     "text": [
      "valid 0.005152662444528262\n"
     ]
    },
    {
     "name": "stderr",
     "output_type": "stream",
     "text": [
      "100%|██████████| 1591/1591 [00:12<00:00, 129.27it/s]\n"
     ]
    },
    {
     "name": "stdout",
     "output_type": "stream",
     "text": [
      "saved model to cache/model/movielens/attentive.pt\n"
     ]
    },
    {
     "name": "stderr",
     "output_type": "stream",
     "text": [
      "100%|██████████| 1591/1591 [00:12<00:00, 129.28it/s]\n"
     ]
    },
    {
     "name": "stdout",
     "output_type": "stream",
     "text": [
      "{'Accuracy@10': 0.21640477686989318, 'Accuracy@30': 0.2085899853341714, 'Accuracy@50': 0.19658076681332495}\n"
     ]
    },
    {
     "name": "stderr",
     "output_type": "stream",
     "text": [
      "100%|██████████| 9190/9190 [01:25<00:00, 108.04it/s]\n"
     ]
    },
    {
     "name": "stdout",
     "output_type": "stream",
     "text": [
      "train 0.005138931157304556\n"
     ]
    },
    {
     "name": "stderr",
     "output_type": "stream",
     "text": [
      "100%|██████████| 2298/2298 [00:07<00:00, 310.09it/s]\n"
     ]
    },
    {
     "name": "stdout",
     "output_type": "stream",
     "text": [
      "valid 0.0051375336630621075\n"
     ]
    },
    {
     "name": "stderr",
     "output_type": "stream",
     "text": [
      "100%|██████████| 1591/1591 [00:12<00:00, 131.64it/s]\n"
     ]
    },
    {
     "name": "stdout",
     "output_type": "stream",
     "text": [
      "saved model to cache/model/movielens/attentive.pt\n"
     ]
    },
    {
     "name": "stderr",
     "output_type": "stream",
     "text": [
      "100%|██████████| 1591/1591 [00:12<00:00, 131.53it/s]\n"
     ]
    },
    {
     "name": "stdout",
     "output_type": "stream",
     "text": [
      "{'Accuracy@10': 0.20465116279069767, 'Accuracy@30': 0.2025979467839933, 'Accuracy@50': 0.1940289126335638}\n"
     ]
    },
    {
     "name": "stderr",
     "output_type": "stream",
     "text": [
      "100%|██████████| 9190/9190 [01:30<00:00, 101.46it/s]\n"
     ]
    },
    {
     "name": "stdout",
     "output_type": "stream",
     "text": [
      "train 0.0051278396823744455\n"
     ]
    },
    {
     "name": "stderr",
     "output_type": "stream",
     "text": [
      "100%|██████████| 2298/2298 [00:08<00:00, 286.60it/s]\n"
     ]
    },
    {
     "name": "stdout",
     "output_type": "stream",
     "text": [
      "valid 0.005129414748939357\n"
     ]
    },
    {
     "name": "stderr",
     "output_type": "stream",
     "text": [
      "100%|██████████| 1591/1591 [00:12<00:00, 125.30it/s]\n"
     ]
    },
    {
     "name": "stdout",
     "output_type": "stream",
     "text": [
      "saved model to cache/model/movielens/attentive.pt\n"
     ]
    },
    {
     "name": "stderr",
     "output_type": "stream",
     "text": [
      "100%|██████████| 1591/1591 [00:12<00:00, 129.16it/s]\n"
     ]
    },
    {
     "name": "stdout",
     "output_type": "stream",
     "text": [
      "{'Accuracy@10': 0.18491514770584538, 'Accuracy@30': 0.1880578252671276, 'Accuracy@50': 0.18560653676932748}\n"
     ]
    },
    {
     "name": "stderr",
     "output_type": "stream",
     "text": [
      "100%|██████████| 9190/9190 [01:26<00:00, 106.02it/s]\n"
     ]
    },
    {
     "name": "stdout",
     "output_type": "stream",
     "text": [
      "train 0.0051215439874747765\n"
     ]
    },
    {
     "name": "stderr",
     "output_type": "stream",
     "text": [
      "100%|██████████| 2298/2298 [00:07<00:00, 298.26it/s]\n"
     ]
    },
    {
     "name": "stdout",
     "output_type": "stream",
     "text": [
      "valid 0.005124516560615337\n"
     ]
    },
    {
     "name": "stderr",
     "output_type": "stream",
     "text": [
      "100%|██████████| 1591/1591 [00:12<00:00, 128.15it/s]\n"
     ]
    },
    {
     "name": "stdout",
     "output_type": "stream",
     "text": [
      "saved model to cache/model/movielens/attentive.pt\n"
     ]
    },
    {
     "name": "stderr",
     "output_type": "stream",
     "text": [
      "100%|██████████| 1591/1591 [00:12<00:00, 130.46it/s]\n"
     ]
    },
    {
     "name": "stdout",
     "output_type": "stream",
     "text": [
      "{'Accuracy@10': 0.16134506599622878, 'Accuracy@30': 0.1687827362245967, 'Accuracy@50': 0.17027027027027028}\n"
     ]
    },
    {
     "name": "stderr",
     "output_type": "stream",
     "text": [
      "100%|██████████| 9190/9190 [01:26<00:00, 106.55it/s]\n"
     ]
    },
    {
     "name": "stdout",
     "output_type": "stream",
     "text": [
      "train 0.005117680754469985\n"
     ]
    },
    {
     "name": "stderr",
     "output_type": "stream",
     "text": [
      "100%|██████████| 2298/2298 [00:07<00:00, 294.65it/s]\n"
     ]
    },
    {
     "name": "stdout",
     "output_type": "stream",
     "text": [
      "valid 0.005121391582848231\n"
     ]
    },
    {
     "name": "stderr",
     "output_type": "stream",
     "text": [
      "100%|██████████| 1591/1591 [00:12<00:00, 129.47it/s]\n"
     ]
    },
    {
     "name": "stdout",
     "output_type": "stream",
     "text": [
      "saved model to cache/model/movielens/attentive.pt\n"
     ]
    },
    {
     "name": "stderr",
     "output_type": "stream",
     "text": [
      "100%|██████████| 1591/1591 [00:12<00:00, 128.98it/s]\n"
     ]
    },
    {
     "name": "stdout",
     "output_type": "stream",
     "text": [
      "{'Accuracy@10': 0.14299182903834068, 'Accuracy@30': 0.15168657029122146, 'Accuracy@50': 0.15445631678189817}\n",
      "{'User2Vec (d=16)': {'accuracy': [{'Accuracy@10': 0.03343808925204274, 'Accuracy@20': 0.03287240729101194, 'Accuracy@30': 0.03343808925204274, 'Accuracy@40': 0.03357950974230044, 'Accuracy@50': 0.03353865493400377}, {'Accuracy@10': 0.0399120050282841, 'Accuracy@20': 0.03966059082338152, 'Accuracy@30': 0.03951393253718835, 'Accuracy@40': 0.039754871150219986, 'Accuracy@50': 0.03922061596480201}, {'Accuracy@10': 0.05600251414204902, 'Accuracy@20': 0.0549654305468259, 'Accuracy@30': 0.05451498009637545, 'Accuracy@40': 0.053331238214959144, 'Accuracy@50': 0.0527215587680704}, {'Accuracy@10': 0.09220615964802012, 'Accuracy@20': 0.08846637335009429, 'Accuracy@30': 0.08403519798868636, 'Accuracy@40': 0.08062539283469516, 'Accuracy@50': 0.07865493400377122}, {'Accuracy@10': 0.1284098051539912, 'Accuracy@20': 0.12413576367064738, 'Accuracy@30': 0.11881416300020951, 'Accuracy@40': 0.11445631678189819, 'Accuracy@50': 0.11029541169076053}, {'Accuracy@10': 0.1464487743557511, 'Accuracy@20': 0.14412319296040227, 'Accuracy@30': 0.13915776241357636, 'Accuracy@40': 0.13482086737900692, 'Accuracy@50': 0.1316781898177247}, {'Accuracy@10': 0.1545568824638592, 'Accuracy@20': 0.15260842237586422, 'Accuracy@30': 0.14816677142258536, 'Accuracy@40': 0.14571024512884978, 'Accuracy@50': 0.1420993086109365}, {'Accuracy@10': 0.16021370207416719, 'Accuracy@20': 0.15791954745443118, 'Accuracy@30': 0.15411690760527968, 'Accuracy@40': 0.15168133249528598, 'Accuracy@50': 0.14780641106222503}], 'loss': {'train': [0.006517342345787048, 0.006429358006792469, 0.0063143843735778, 0.006152452744079411, 0.00593546872291718, 0.0056761985547917615, 0.005397864119620979, 0.005123787193525668], 'valid': [0.006486121344657288, 0.006396935946970848, 0.006268841222013997, 0.00608540518774758, 0.005849094519370922, 0.005579947104212953, 0.005303241963361922, 0.0050382485787523485]}}, 'User2Vec (d=32)': {'accuracy': [{'Accuracy@10': 0.030986800754242615, 'Accuracy@20': 0.030892520427404146, 'Accuracy@30': 0.032013408757594806, 'Accuracy@40': 0.0321024512884978, 'Accuracy@50': 0.03257071024512885}, {'Accuracy@10': 0.03802639849151477, 'Accuracy@20': 0.03928346951602766, 'Accuracy@30': 0.03995390739576786, 'Accuracy@40': 0.040446260213702075, 'Accuracy@50': 0.04054054054054054}, {'Accuracy@10': 0.06316781898177247, 'Accuracy@20': 0.06345065996228787, 'Accuracy@30': 0.06224596689712969, 'Accuracy@40': 0.061565053425518546, 'Accuracy@50': 0.060955373978629795}, {'Accuracy@10': 0.10402262727844122, 'Accuracy@20': 0.10587680703959775, 'Accuracy@30': 0.10222082547663944, 'Accuracy@40': 0.09932432432432432, 'Accuracy@50': 0.09607793840351979}, {'Accuracy@10': 0.14311753614079195, 'Accuracy@20': 0.14157762413576366, 'Accuracy@30': 0.13859208045254556, 'Accuracy@40': 0.13546511627906976, 'Accuracy@50': 0.13159019484600878}, {'Accuracy@10': 0.16398491514770586, 'Accuracy@20': 0.16445631678189818, 'Accuracy@30': 0.16103079824010055, 'Accuracy@40': 0.15763670647391576, 'Accuracy@50': 0.15362664990571967}, {'Accuracy@10': 0.1749842866121936, 'Accuracy@20': 0.17476429918290384, 'Accuracy@30': 0.1719254137858789, 'Accuracy@40': 0.16821181646763042, 'Accuracy@50': 0.1652294154619736}, {'Accuracy@10': 0.18051539912005027, 'Accuracy@20': 0.17803268384663734, 'Accuracy@30': 0.1760946993505133, 'Accuracy@40': 0.1723130106851037, 'Accuracy@50': 0.16961659333752357}], 'loss': {'train': [0.006529061485566321, 0.006373398017565902, 0.006181069893075378, 0.005928491195207776, 0.005617570916243441, 0.005281189215188122, 0.004955936524301556, 0.004667942515919968], 'valid': [0.006467592687032568, 0.006312935331637133, 0.006105076649807924, 0.005829360438782112, 0.005507853683514675, 0.005175735383919783, 0.004870312128045501, 0.00460565242060865]}}, 'User2Vec (d=64)': {'accuracy': [{'Accuracy@10': 0.026272784412319294, 'Accuracy@20': 0.03095537397862979, 'Accuracy@30': 0.032914309658495705, 'Accuracy@40': 0.03433375235700817, 'Accuracy@50': 0.034594594594594595}, {'Accuracy@10': 0.05619107479572596, 'Accuracy@20': 0.06379635449402891, 'Accuracy@30': 0.06543054682589566, 'Accuracy@40': 0.06610622250157135, 'Accuracy@50': 0.06549340037712131}, {'Accuracy@10': 0.1170333123821496, 'Accuracy@20': 0.1302639849151477, 'Accuracy@30': 0.128975487115022, 'Accuracy@40': 0.12716844751728473, 'Accuracy@50': 0.12417347580138278}, {'Accuracy@10': 0.15663104965430547, 'Accuracy@20': 0.16822752985543682, 'Accuracy@30': 0.16756756756756758, 'Accuracy@40': 0.1631992457573853, 'Accuracy@50': 0.16002514142049026}, {'Accuracy@10': 0.17605279698302953, 'Accuracy@20': 0.1857950974230044, 'Accuracy@30': 0.18273622459668973, 'Accuracy@40': 0.1782683846637335, 'Accuracy@50': 0.17340037712130735}, {'Accuracy@10': 0.18541797611565053, 'Accuracy@20': 0.192049025769956, 'Accuracy@30': 0.1880368740833857, 'Accuracy@40': 0.18304525455688245, 'Accuracy@50': 0.17810182275298556}, {'Accuracy@10': 0.18881206788183533, 'Accuracy@20': 0.1905091137649277, 'Accuracy@30': 0.18801592289964383, 'Accuracy@40': 0.18328095537397865, 'Accuracy@50': 0.1786926461345066}, {'Accuracy@10': 0.18409805153991202, 'Accuracy@20': 0.18827781269641736, 'Accuracy@30': 0.18411900272365386, 'Accuracy@40': 0.17985543683218103, 'Accuracy@50': 0.1764676304211188}], 'loss': {'train': [0.0064600452186359385, 0.0061487346325146686, 0.005773849266918703, 0.005338003722215081, 0.004901086054012682, 0.004522611606426302, 0.0042211764040620955, 0.003985472349424657], 'valid': [0.006332815786168779, 0.006020846278191725, 0.005628339828919845, 0.00519066566722703, 0.004782344646065837, 0.00444565085420857, 0.004179521062751606, 0.003971637475014117]}}, 'AU2V (wo weight-tieing)': {'accuracy': [{'Accuracy@10': 0.1600879949717159, 'Accuracy@20': 0.14952859836580767, 'Accuracy@30': 0.14355751099937147, 'Accuracy@40': 0.1374921433060968, 'Accuracy@50': 0.13248271527341296}, {'Accuracy@10': 0.21294783155248273, 'Accuracy@20': 0.19993714644877436, 'Accuracy@30': 0.19384035197988686, 'Accuracy@40': 0.1859208045254557, 'Accuracy@50': 0.17865493400377122}, {'Accuracy@10': 0.2147705845380264, 'Accuracy@20': 0.20537397862979256, 'Accuracy@30': 0.19712968782736223, 'Accuracy@40': 0.1907762413576367, 'Accuracy@50': 0.18397234443746072}, {'Accuracy@10': 0.20395977372721558, 'Accuracy@20': 0.19198617221873035, 'Accuracy@30': 0.18466373350094278, 'Accuracy@40': 0.17930546825895663, 'Accuracy@50': 0.17488372093023255}, {'Accuracy@10': 0.168196103079824, 'Accuracy@20': 0.16398491514770586, 'Accuracy@30': 0.15968992248062014, 'Accuracy@40': 0.15586109365179132, 'Accuracy@50': 0.15279698302954117}, {'Accuracy@10': 0.13815210559396607, 'Accuracy@20': 0.1326524198617222, 'Accuracy@30': 0.13004399748585796, 'Accuracy@40': 0.12787554996857323, 'Accuracy@50': 0.1255311125078567}, {'Accuracy@10': 0.10879949717159018, 'Accuracy@20': 0.10879949717159018, 'Accuracy@30': 0.10706054892101405, 'Accuracy@40': 0.10645820238843495, 'Accuracy@50': 0.10473915776241358}, {'Accuracy@10': 0.08648648648648649, 'Accuracy@20': 0.09054054054054053, 'Accuracy@30': 0.0908652838885397, 'Accuracy@40': 0.09107479572595852, 'Accuracy@50': 0.08974230043997485}], 'loss': {'train': [0.006223665272778506, 0.005358958944335774, 0.004755232759809143, 0.0044654519944244, 0.004326995685179764, 0.004250601272583129, 0.004198019208424037, 0.004153067983790291], 'valid': [0.005805455380727279, 0.004998471834243582, 0.004584061969240652, 0.004390811358401591, 0.004296024907372012, 0.0042342555296667785, 0.00418648942652605, 0.004143867861161019]}}, 'AU2V (wo normalize-norm)': {'accuracy': [{'Accuracy@10': 0.034318038969201756, 'Accuracy@20': 0.03529226901319925, 'Accuracy@30': 0.03299811439346323, 'Accuracy@40': 0.033862350722815834, 'Accuracy@50': 0.03405405405405405}, {'Accuracy@10': 0.0021370207416719043, 'Accuracy@20': 0.003079824010056568, 'Accuracy@30': 0.003268384663733501, 'Accuracy@40': 0.003645505971087366, 'Accuracy@50': 0.003947203016970459}, {'Accuracy@10': 0.002325581395348837, 'Accuracy@20': 0.0029541169076052797, 'Accuracy@30': 0.0034988476848941967, 'Accuracy@40': 0.003959773727215588, 'Accuracy@50': 0.004274041483343809}, {'Accuracy@10': 0.0026398491514770584, 'Accuracy@20': 0.003519798868636078, 'Accuracy@30': 0.004148334380892521, 'Accuracy@40': 0.004321181646763042, 'Accuracy@50': 0.004764299182903834}, {'Accuracy@10': 0.002765556253928347, 'Accuracy@20': 0.003519798868636078, 'Accuracy@30': 0.004609260423213911, 'Accuracy@40': 0.005091137649277184, 'Accuracy@50': 0.0059208045254556885}, {'Accuracy@10': 0.003708359522313011, 'Accuracy@20': 0.0043368950345694535, 'Accuracy@30': 0.006012989733919966, 'Accuracy@40': 0.007165304839723445, 'Accuracy@50': 0.008334380892520428}, {'Accuracy@10': 0.009302325581395349, 'Accuracy@20': 0.01021370207416719, 'Accuracy@30': 0.011753614079195476, 'Accuracy@40': 0.013639220615964804, 'Accuracy@50': 0.014695160276555626}, {'Accuracy@10': 0.027906976744186046, 'Accuracy@20': 0.02721558768070396, 'Accuracy@30': 0.028514561072700607, 'Accuracy@40': 0.028771213073538655, 'Accuracy@50': 0.02893777498428661}], 'loss': {'train': [0.004714172831974656, 0.004752388326410646, 0.004572540800106409, 0.004394865891074314, 0.004251740028107817, 0.004126205321267588, 0.004023230119032726, 0.0039428260077806485], 'valid': [0.004664224713935083, 0.004692442304668712, 0.004471826902772669, 0.004318412520108975, 0.004186736832810118, 0.0040709432570037824, 0.0039817305632914675, 0.003913070399004254]}}, 'AU2V (d=16)': {'accuracy': [{'Accuracy@10': 0.1639220615964802, 'Accuracy@20': 0.14217473287240728, 'Accuracy@30': 0.1367693274670019, 'Accuracy@40': 0.13274670018856066, 'Accuracy@50': 0.13269641734758014}, {'Accuracy@10': 0.2, 'Accuracy@20': 0.17479572595851664, 'Accuracy@30': 0.16760946993505133, 'Accuracy@40': 0.1656033940917662, 'Accuracy@50': 0.16334380892520428}, {'Accuracy@10': 0.2180389692017599, 'Accuracy@20': 0.20323695788812066, 'Accuracy@30': 0.19226901319924575, 'Accuracy@40': 0.18491514770584538, 'Accuracy@50': 0.17963544940289125}, {'Accuracy@10': 0.21992457573852922, 'Accuracy@20': 0.21134506599622876, 'Accuracy@30': 0.20205321600670437, 'Accuracy@40': 0.1945945945945946, 'Accuracy@50': 0.18770584538026397}, {'Accuracy@10': 0.21646763042111877, 'Accuracy@20': 0.21074795725958517, 'Accuracy@30': 0.20410643201340878, 'Accuracy@40': 0.19791011942174733, 'Accuracy@50': 0.19118793211816468}, {'Accuracy@10': 0.208485229415462, 'Accuracy@20': 0.20716530483972345, 'Accuracy@30': 0.20111041273831973, 'Accuracy@40': 0.19720301697045883, 'Accuracy@50': 0.1911502199874293}, {'Accuracy@10': 0.19151477058453803, 'Accuracy@20': 0.1947517284726587, 'Accuracy@30': 0.1951393253718835, 'Accuracy@40': 0.19151477058453803, 'Accuracy@50': 0.18891263356379637}, {'Accuracy@10': 0.17303582652419863, 'Accuracy@20': 0.17925832809553738, 'Accuracy@30': 0.18133249528598366, 'Accuracy@40': 0.18244814582023886, 'Accuracy@50': 0.18124450031426775}], 'loss': {'train': [0.005852364949320602, 0.005387285022395415, 0.005249754310777093, 0.005189330728979978, 0.0051585635406971465, 0.005141560878793145, 0.0051314685803810715, 0.005125159340615712], 'valid': [0.005516709398129488, 0.005303117275269793, 0.005217102662346987, 0.00517562477728744, 0.0051533678419394425, 0.005140534491852994, 0.005132692481191452, 0.005127651176979804]}}, 'AU2V (d=32)': {'accuracy': [{'Accuracy@10': 0.1883720930232558, 'Accuracy@20': 0.17957259585166563, 'Accuracy@30': 0.17091975696626857, 'Accuracy@40': 0.16777184160905093, 'Accuracy@50': 0.16434946574481457}, {'Accuracy@10': 0.21156505342551854, 'Accuracy@20': 0.20637963544940288, 'Accuracy@30': 0.20243033731405824, 'Accuracy@40': 0.19495600251414205, 'Accuracy@50': 0.18989314896291642}, {'Accuracy@10': 0.21690760527969832, 'Accuracy@20': 0.21407919547454432, 'Accuracy@30': 0.20718625602346533, 'Accuracy@40': 0.2008642363293526, 'Accuracy@50': 0.1960402262727844}, {'Accuracy@10': 0.21640477686989318, 'Accuracy@20': 0.21370207416719045, 'Accuracy@30': 0.2085899853341714, 'Accuracy@40': 0.20208988057825267, 'Accuracy@50': 0.19658076681332495}, {'Accuracy@10': 0.20465116279069767, 'Accuracy@20': 0.20414833438089253, 'Accuracy@30': 0.2025979467839933, 'Accuracy@40': 0.1986957888120679, 'Accuracy@50': 0.1940289126335638}, {'Accuracy@10': 0.18491514770584538, 'Accuracy@20': 0.18629792583280955, 'Accuracy@30': 0.1880578252671276, 'Accuracy@40': 0.18782212445003144, 'Accuracy@50': 0.18560653676932748}, {'Accuracy@10': 0.16134506599622878, 'Accuracy@20': 0.16671904462602136, 'Accuracy@30': 0.1687827362245967, 'Accuracy@40': 0.16912319296040226, 'Accuracy@50': 0.17027027027027028}, {'Accuracy@10': 0.14299182903834068, 'Accuracy@20': 0.1491514770584538, 'Accuracy@30': 0.15168657029122146, 'Accuracy@40': 0.15358265241986174, 'Accuracy@50': 0.15445631678189817}], 'loss': {'train': [0.005789849058024674, 0.005327348440522743, 0.005207680866843793, 0.005160463916216861, 0.005138931157304556, 0.0051278396823744455, 0.0051215439874747765, 0.005117680754469985], 'valid': [0.0054499675782335175, 0.005254103106826555, 0.005183248392313877, 0.005152662444528262, 0.0051375336630621075, 0.005129414748939357, 0.005124516560615337, 0.005121391582848231]}}}\n",
      "ModelConfig(d_model=64, init_embedding_std=0.2, max_embedding_norm=1, window_size=5, negative_sample_size=5, lr=5e-05, weight_decay=1e-08)\n",
      "TrainerConfig(model_name='attentive', dataset_name='movielens', epochs=8, batch_size=64, verbose=False, ignore_saved_model=True, load_model=False, save_model=True, load_dataset=False, save_dataset=False, model_dir='cache/model/', dataset_dir='cache/dataset/', device='cpu')\n",
      "dataset_manager does not exist at: cache/dataset/movielens.pickle, create dataset\n",
      "num_seq: 6040, num_item: 3706, num_item_meta: 28, num_seq_meta: 30, num_item_meta_types: 3, num_seq_meta_types: 3\n",
      "to_sequential_data start\n",
      "to_sequential_data end\n"
     ]
    },
    {
     "name": "stderr",
     "output_type": "stream",
     "text": [
      "100%|██████████| 9190/9190 [02:13<00:00, 68.74it/s]\n"
     ]
    },
    {
     "name": "stdout",
     "output_type": "stream",
     "text": [
      "train 0.005678935020187134\n"
     ]
    },
    {
     "name": "stderr",
     "output_type": "stream",
     "text": [
      "100%|██████████| 2298/2298 [00:11<00:00, 198.20it/s]\n"
     ]
    },
    {
     "name": "stdout",
     "output_type": "stream",
     "text": [
      "valid 0.005338055798819138\n"
     ]
    },
    {
     "name": "stderr",
     "output_type": "stream",
     "text": [
      "100%|██████████| 1591/1591 [00:18<00:00, 86.54it/s]\n"
     ]
    },
    {
     "name": "stdout",
     "output_type": "stream",
     "text": [
      "saved model to cache/model/movielens/attentive.pt\n"
     ]
    },
    {
     "name": "stderr",
     "output_type": "stream",
     "text": [
      "100%|██████████| 1591/1591 [00:18<00:00, 86.84it/s]\n"
     ]
    },
    {
     "name": "stdout",
     "output_type": "stream",
     "text": [
      "{'Accuracy@10': 0.21948460087994973, 'Accuracy@30': 0.19624973811020321, 'Accuracy@50': 0.1893274670018856}\n"
     ]
    },
    {
     "name": "stderr",
     "output_type": "stream",
     "text": [
      "100%|██████████| 9190/9190 [02:21<00:00, 65.11it/s]\n"
     ]
    },
    {
     "name": "stdout",
     "output_type": "stream",
     "text": [
      "train 0.005243717179855613\n"
     ]
    },
    {
     "name": "stderr",
     "output_type": "stream",
     "text": [
      "100%|██████████| 2298/2298 [00:12<00:00, 189.88it/s]\n"
     ]
    },
    {
     "name": "stdout",
     "output_type": "stream",
     "text": [
      "valid 0.005190551558365693\n"
     ]
    },
    {
     "name": "stderr",
     "output_type": "stream",
     "text": [
      "100%|██████████| 1591/1591 [00:18<00:00, 87.16it/s]\n"
     ]
    },
    {
     "name": "stdout",
     "output_type": "stream",
     "text": [
      "saved model to cache/model/movielens/attentive.pt\n"
     ]
    },
    {
     "name": "stderr",
     "output_type": "stream",
     "text": [
      "100%|██████████| 1591/1591 [00:18<00:00, 86.96it/s]\n"
     ]
    },
    {
     "name": "stdout",
     "output_type": "stream",
     "text": [
      "{'Accuracy@10': 0.22262727844123192, 'Accuracy@30': 0.21076890844332705, 'Accuracy@50': 0.1980389692017599}\n"
     ]
    },
    {
     "name": "stderr",
     "output_type": "stream",
     "text": [
      "100%|██████████| 9190/9190 [02:18<00:00, 66.57it/s]\n"
     ]
    },
    {
     "name": "stdout",
     "output_type": "stream",
     "text": [
      "train 0.005161401140731602\n"
     ]
    },
    {
     "name": "stderr",
     "output_type": "stream",
     "text": [
      "100%|██████████| 2298/2298 [00:11<00:00, 198.32it/s]\n"
     ]
    },
    {
     "name": "stdout",
     "output_type": "stream",
     "text": [
      "valid 0.0051480000896491395\n"
     ]
    },
    {
     "name": "stderr",
     "output_type": "stream",
     "text": [
      "100%|██████████| 1591/1591 [00:18<00:00, 87.47it/s]\n"
     ]
    },
    {
     "name": "stdout",
     "output_type": "stream",
     "text": [
      "saved model to cache/model/movielens/attentive.pt\n"
     ]
    },
    {
     "name": "stderr",
     "output_type": "stream",
     "text": [
      "100%|██████████| 1591/1591 [00:18<00:00, 87.98it/s]\n"
     ]
    },
    {
     "name": "stdout",
     "output_type": "stream",
     "text": [
      "{'Accuracy@10': 0.22143306096794468, 'Accuracy@30': 0.21102032264822962, 'Accuracy@50': 0.198830923947203}\n"
     ]
    },
    {
     "name": "stderr",
     "output_type": "stream",
     "text": [
      "100%|██████████| 9190/9190 [02:15<00:00, 67.75it/s]\n"
     ]
    },
    {
     "name": "stdout",
     "output_type": "stream",
     "text": [
      "train 0.005134417648630884\n"
     ]
    },
    {
     "name": "stderr",
     "output_type": "stream",
     "text": [
      "100%|██████████| 2298/2298 [00:11<00:00, 197.77it/s]\n"
     ]
    },
    {
     "name": "stdout",
     "output_type": "stream",
     "text": [
      "valid 0.005131781002733251\n"
     ]
    },
    {
     "name": "stderr",
     "output_type": "stream",
     "text": [
      "100%|██████████| 1591/1591 [00:18<00:00, 87.54it/s]\n"
     ]
    },
    {
     "name": "stdout",
     "output_type": "stream",
     "text": [
      "saved model to cache/model/movielens/attentive.pt\n"
     ]
    },
    {
     "name": "stderr",
     "output_type": "stream",
     "text": [
      "100%|██████████| 1591/1591 [00:18<00:00, 87.50it/s]\n"
     ]
    },
    {
     "name": "stdout",
     "output_type": "stream",
     "text": [
      "{'Accuracy@10': 0.20817096165933374, 'Accuracy@30': 0.20387596899224808, 'Accuracy@50': 0.19552482715273414}\n"
     ]
    },
    {
     "name": "stderr",
     "output_type": "stream",
     "text": [
      "100%|██████████| 9190/9190 [02:10<00:00, 70.50it/s]\n"
     ]
    },
    {
     "name": "stdout",
     "output_type": "stream",
     "text": [
      "train 0.005123078153530487\n"
     ]
    },
    {
     "name": "stderr",
     "output_type": "stream",
     "text": [
      "100%|██████████| 2298/2298 [00:10<00:00, 219.39it/s]\n"
     ]
    },
    {
     "name": "stdout",
     "output_type": "stream",
     "text": [
      "valid 0.005124317864807605\n"
     ]
    },
    {
     "name": "stderr",
     "output_type": "stream",
     "text": [
      "100%|██████████| 1591/1591 [00:17<00:00, 90.78it/s]\n"
     ]
    },
    {
     "name": "stdout",
     "output_type": "stream",
     "text": [
      "saved model to cache/model/movielens/attentive.pt\n"
     ]
    },
    {
     "name": "stderr",
     "output_type": "stream",
     "text": [
      "100%|██████████| 1591/1591 [00:17<00:00, 90.57it/s]\n"
     ]
    },
    {
     "name": "stdout",
     "output_type": "stream",
     "text": [
      "{'Accuracy@10': 0.17303582652419863, 'Accuracy@30': 0.1805992038550178, 'Accuracy@50': 0.18198617221873037}\n"
     ]
    },
    {
     "name": "stderr",
     "output_type": "stream",
     "text": [
      "100%|██████████| 9190/9190 [02:02<00:00, 75.02it/s]\n"
     ]
    },
    {
     "name": "stdout",
     "output_type": "stream",
     "text": [
      "train 0.0051174579126916425\n"
     ]
    },
    {
     "name": "stderr",
     "output_type": "stream",
     "text": [
      "100%|██████████| 2298/2298 [00:10<00:00, 217.52it/s]\n"
     ]
    },
    {
     "name": "stdout",
     "output_type": "stream",
     "text": [
      "valid 0.0051203173207898115\n"
     ]
    },
    {
     "name": "stderr",
     "output_type": "stream",
     "text": [
      "100%|██████████| 1591/1591 [00:17<00:00, 90.54it/s]\n"
     ]
    },
    {
     "name": "stdout",
     "output_type": "stream",
     "text": [
      "saved model to cache/model/movielens/attentive.pt\n"
     ]
    },
    {
     "name": "stderr",
     "output_type": "stream",
     "text": [
      "100%|██████████| 1591/1591 [00:17<00:00, 90.73it/s]\n"
     ]
    },
    {
     "name": "stdout",
     "output_type": "stream",
     "text": [
      "{'Accuracy@10': 0.14607165304839725, 'Accuracy@30': 0.15415880997276346, 'Accuracy@50': 0.16011313639220617}\n"
     ]
    },
    {
     "name": "stderr",
     "output_type": "stream",
     "text": [
      "100%|██████████| 9190/9190 [02:01<00:00, 75.35it/s]\n"
     ]
    },
    {
     "name": "stdout",
     "output_type": "stream",
     "text": [
      "train 0.005114377242278903\n"
     ]
    },
    {
     "name": "stderr",
     "output_type": "stream",
     "text": [
      "100%|██████████| 2298/2298 [00:10<00:00, 219.57it/s]\n"
     ]
    },
    {
     "name": "stdout",
     "output_type": "stream",
     "text": [
      "valid 0.0051179994044583685\n"
     ]
    },
    {
     "name": "stderr",
     "output_type": "stream",
     "text": [
      "100%|██████████| 1591/1591 [00:17<00:00, 90.11it/s]\n"
     ]
    },
    {
     "name": "stdout",
     "output_type": "stream",
     "text": [
      "saved model to cache/model/movielens/attentive.pt\n"
     ]
    },
    {
     "name": "stderr",
     "output_type": "stream",
     "text": [
      "100%|██████████| 1591/1591 [00:17<00:00, 89.57it/s]\n"
     ]
    },
    {
     "name": "stdout",
     "output_type": "stream",
     "text": [
      "{'Accuracy@10': 0.12746700188560653, 'Accuracy@30': 0.13312382149591453, 'Accuracy@50': 0.13835323695788812}\n"
     ]
    },
    {
     "name": "stderr",
     "output_type": "stream",
     "text": [
      "100%|██████████| 9190/9190 [02:01<00:00, 75.78it/s]\n"
     ]
    },
    {
     "name": "stdout",
     "output_type": "stream",
     "text": [
      "train 0.005112502149278875\n"
     ]
    },
    {
     "name": "stderr",
     "output_type": "stream",
     "text": [
      "100%|██████████| 2298/2298 [00:10<00:00, 220.64it/s]\n"
     ]
    },
    {
     "name": "stdout",
     "output_type": "stream",
     "text": [
      "valid 0.0051165665410231155\n"
     ]
    },
    {
     "name": "stderr",
     "output_type": "stream",
     "text": [
      "100%|██████████| 1591/1591 [00:17<00:00, 89.71it/s]\n"
     ]
    },
    {
     "name": "stdout",
     "output_type": "stream",
     "text": [
      "saved model to cache/model/movielens/attentive.pt\n"
     ]
    },
    {
     "name": "stderr",
     "output_type": "stream",
     "text": [
      "100%|██████████| 1591/1591 [00:17<00:00, 90.21it/s]"
     ]
    },
    {
     "name": "stdout",
     "output_type": "stream",
     "text": [
      "{'Accuracy@10': 0.11596480201131365, 'Accuracy@30': 0.11917033312382148, 'Accuracy@50': 0.12240100565681962}\n",
      "{'User2Vec (d=16)': {'accuracy': [{'Accuracy@10': 0.03343808925204274, 'Accuracy@20': 0.03287240729101194, 'Accuracy@30': 0.03343808925204274, 'Accuracy@40': 0.03357950974230044, 'Accuracy@50': 0.03353865493400377}, {'Accuracy@10': 0.0399120050282841, 'Accuracy@20': 0.03966059082338152, 'Accuracy@30': 0.03951393253718835, 'Accuracy@40': 0.039754871150219986, 'Accuracy@50': 0.03922061596480201}, {'Accuracy@10': 0.05600251414204902, 'Accuracy@20': 0.0549654305468259, 'Accuracy@30': 0.05451498009637545, 'Accuracy@40': 0.053331238214959144, 'Accuracy@50': 0.0527215587680704}, {'Accuracy@10': 0.09220615964802012, 'Accuracy@20': 0.08846637335009429, 'Accuracy@30': 0.08403519798868636, 'Accuracy@40': 0.08062539283469516, 'Accuracy@50': 0.07865493400377122}, {'Accuracy@10': 0.1284098051539912, 'Accuracy@20': 0.12413576367064738, 'Accuracy@30': 0.11881416300020951, 'Accuracy@40': 0.11445631678189819, 'Accuracy@50': 0.11029541169076053}, {'Accuracy@10': 0.1464487743557511, 'Accuracy@20': 0.14412319296040227, 'Accuracy@30': 0.13915776241357636, 'Accuracy@40': 0.13482086737900692, 'Accuracy@50': 0.1316781898177247}, {'Accuracy@10': 0.1545568824638592, 'Accuracy@20': 0.15260842237586422, 'Accuracy@30': 0.14816677142258536, 'Accuracy@40': 0.14571024512884978, 'Accuracy@50': 0.1420993086109365}, {'Accuracy@10': 0.16021370207416719, 'Accuracy@20': 0.15791954745443118, 'Accuracy@30': 0.15411690760527968, 'Accuracy@40': 0.15168133249528598, 'Accuracy@50': 0.14780641106222503}], 'loss': {'train': [0.006517342345787048, 0.006429358006792469, 0.0063143843735778, 0.006152452744079411, 0.00593546872291718, 0.0056761985547917615, 0.005397864119620979, 0.005123787193525668], 'valid': [0.006486121344657288, 0.006396935946970848, 0.006268841222013997, 0.00608540518774758, 0.005849094519370922, 0.005579947104212953, 0.005303241963361922, 0.0050382485787523485]}}, 'User2Vec (d=32)': {'accuracy': [{'Accuracy@10': 0.030986800754242615, 'Accuracy@20': 0.030892520427404146, 'Accuracy@30': 0.032013408757594806, 'Accuracy@40': 0.0321024512884978, 'Accuracy@50': 0.03257071024512885}, {'Accuracy@10': 0.03802639849151477, 'Accuracy@20': 0.03928346951602766, 'Accuracy@30': 0.03995390739576786, 'Accuracy@40': 0.040446260213702075, 'Accuracy@50': 0.04054054054054054}, {'Accuracy@10': 0.06316781898177247, 'Accuracy@20': 0.06345065996228787, 'Accuracy@30': 0.06224596689712969, 'Accuracy@40': 0.061565053425518546, 'Accuracy@50': 0.060955373978629795}, {'Accuracy@10': 0.10402262727844122, 'Accuracy@20': 0.10587680703959775, 'Accuracy@30': 0.10222082547663944, 'Accuracy@40': 0.09932432432432432, 'Accuracy@50': 0.09607793840351979}, {'Accuracy@10': 0.14311753614079195, 'Accuracy@20': 0.14157762413576366, 'Accuracy@30': 0.13859208045254556, 'Accuracy@40': 0.13546511627906976, 'Accuracy@50': 0.13159019484600878}, {'Accuracy@10': 0.16398491514770586, 'Accuracy@20': 0.16445631678189818, 'Accuracy@30': 0.16103079824010055, 'Accuracy@40': 0.15763670647391576, 'Accuracy@50': 0.15362664990571967}, {'Accuracy@10': 0.1749842866121936, 'Accuracy@20': 0.17476429918290384, 'Accuracy@30': 0.1719254137858789, 'Accuracy@40': 0.16821181646763042, 'Accuracy@50': 0.1652294154619736}, {'Accuracy@10': 0.18051539912005027, 'Accuracy@20': 0.17803268384663734, 'Accuracy@30': 0.1760946993505133, 'Accuracy@40': 0.1723130106851037, 'Accuracy@50': 0.16961659333752357}], 'loss': {'train': [0.006529061485566321, 0.006373398017565902, 0.006181069893075378, 0.005928491195207776, 0.005617570916243441, 0.005281189215188122, 0.004955936524301556, 0.004667942515919968], 'valid': [0.006467592687032568, 0.006312935331637133, 0.006105076649807924, 0.005829360438782112, 0.005507853683514675, 0.005175735383919783, 0.004870312128045501, 0.00460565242060865]}}, 'User2Vec (d=64)': {'accuracy': [{'Accuracy@10': 0.026272784412319294, 'Accuracy@20': 0.03095537397862979, 'Accuracy@30': 0.032914309658495705, 'Accuracy@40': 0.03433375235700817, 'Accuracy@50': 0.034594594594594595}, {'Accuracy@10': 0.05619107479572596, 'Accuracy@20': 0.06379635449402891, 'Accuracy@30': 0.06543054682589566, 'Accuracy@40': 0.06610622250157135, 'Accuracy@50': 0.06549340037712131}, {'Accuracy@10': 0.1170333123821496, 'Accuracy@20': 0.1302639849151477, 'Accuracy@30': 0.128975487115022, 'Accuracy@40': 0.12716844751728473, 'Accuracy@50': 0.12417347580138278}, {'Accuracy@10': 0.15663104965430547, 'Accuracy@20': 0.16822752985543682, 'Accuracy@30': 0.16756756756756758, 'Accuracy@40': 0.1631992457573853, 'Accuracy@50': 0.16002514142049026}, {'Accuracy@10': 0.17605279698302953, 'Accuracy@20': 0.1857950974230044, 'Accuracy@30': 0.18273622459668973, 'Accuracy@40': 0.1782683846637335, 'Accuracy@50': 0.17340037712130735}, {'Accuracy@10': 0.18541797611565053, 'Accuracy@20': 0.192049025769956, 'Accuracy@30': 0.1880368740833857, 'Accuracy@40': 0.18304525455688245, 'Accuracy@50': 0.17810182275298556}, {'Accuracy@10': 0.18881206788183533, 'Accuracy@20': 0.1905091137649277, 'Accuracy@30': 0.18801592289964383, 'Accuracy@40': 0.18328095537397865, 'Accuracy@50': 0.1786926461345066}, {'Accuracy@10': 0.18409805153991202, 'Accuracy@20': 0.18827781269641736, 'Accuracy@30': 0.18411900272365386, 'Accuracy@40': 0.17985543683218103, 'Accuracy@50': 0.1764676304211188}], 'loss': {'train': [0.0064600452186359385, 0.0061487346325146686, 0.005773849266918703, 0.005338003722215081, 0.004901086054012682, 0.004522611606426302, 0.0042211764040620955, 0.003985472349424657], 'valid': [0.006332815786168779, 0.006020846278191725, 0.005628339828919845, 0.00519066566722703, 0.004782344646065837, 0.00444565085420857, 0.004179521062751606, 0.003971637475014117]}}, 'AU2V (wo weight-tieing)': {'accuracy': [{'Accuracy@10': 0.1600879949717159, 'Accuracy@20': 0.14952859836580767, 'Accuracy@30': 0.14355751099937147, 'Accuracy@40': 0.1374921433060968, 'Accuracy@50': 0.13248271527341296}, {'Accuracy@10': 0.21294783155248273, 'Accuracy@20': 0.19993714644877436, 'Accuracy@30': 0.19384035197988686, 'Accuracy@40': 0.1859208045254557, 'Accuracy@50': 0.17865493400377122}, {'Accuracy@10': 0.2147705845380264, 'Accuracy@20': 0.20537397862979256, 'Accuracy@30': 0.19712968782736223, 'Accuracy@40': 0.1907762413576367, 'Accuracy@50': 0.18397234443746072}, {'Accuracy@10': 0.20395977372721558, 'Accuracy@20': 0.19198617221873035, 'Accuracy@30': 0.18466373350094278, 'Accuracy@40': 0.17930546825895663, 'Accuracy@50': 0.17488372093023255}, {'Accuracy@10': 0.168196103079824, 'Accuracy@20': 0.16398491514770586, 'Accuracy@30': 0.15968992248062014, 'Accuracy@40': 0.15586109365179132, 'Accuracy@50': 0.15279698302954117}, {'Accuracy@10': 0.13815210559396607, 'Accuracy@20': 0.1326524198617222, 'Accuracy@30': 0.13004399748585796, 'Accuracy@40': 0.12787554996857323, 'Accuracy@50': 0.1255311125078567}, {'Accuracy@10': 0.10879949717159018, 'Accuracy@20': 0.10879949717159018, 'Accuracy@30': 0.10706054892101405, 'Accuracy@40': 0.10645820238843495, 'Accuracy@50': 0.10473915776241358}, {'Accuracy@10': 0.08648648648648649, 'Accuracy@20': 0.09054054054054053, 'Accuracy@30': 0.0908652838885397, 'Accuracy@40': 0.09107479572595852, 'Accuracy@50': 0.08974230043997485}], 'loss': {'train': [0.006223665272778506, 0.005358958944335774, 0.004755232759809143, 0.0044654519944244, 0.004326995685179764, 0.004250601272583129, 0.004198019208424037, 0.004153067983790291], 'valid': [0.005805455380727279, 0.004998471834243582, 0.004584061969240652, 0.004390811358401591, 0.004296024907372012, 0.0042342555296667785, 0.00418648942652605, 0.004143867861161019]}}, 'AU2V (wo normalize-norm)': {'accuracy': [{'Accuracy@10': 0.034318038969201756, 'Accuracy@20': 0.03529226901319925, 'Accuracy@30': 0.03299811439346323, 'Accuracy@40': 0.033862350722815834, 'Accuracy@50': 0.03405405405405405}, {'Accuracy@10': 0.0021370207416719043, 'Accuracy@20': 0.003079824010056568, 'Accuracy@30': 0.003268384663733501, 'Accuracy@40': 0.003645505971087366, 'Accuracy@50': 0.003947203016970459}, {'Accuracy@10': 0.002325581395348837, 'Accuracy@20': 0.0029541169076052797, 'Accuracy@30': 0.0034988476848941967, 'Accuracy@40': 0.003959773727215588, 'Accuracy@50': 0.004274041483343809}, {'Accuracy@10': 0.0026398491514770584, 'Accuracy@20': 0.003519798868636078, 'Accuracy@30': 0.004148334380892521, 'Accuracy@40': 0.004321181646763042, 'Accuracy@50': 0.004764299182903834}, {'Accuracy@10': 0.002765556253928347, 'Accuracy@20': 0.003519798868636078, 'Accuracy@30': 0.004609260423213911, 'Accuracy@40': 0.005091137649277184, 'Accuracy@50': 0.0059208045254556885}, {'Accuracy@10': 0.003708359522313011, 'Accuracy@20': 0.0043368950345694535, 'Accuracy@30': 0.006012989733919966, 'Accuracy@40': 0.007165304839723445, 'Accuracy@50': 0.008334380892520428}, {'Accuracy@10': 0.009302325581395349, 'Accuracy@20': 0.01021370207416719, 'Accuracy@30': 0.011753614079195476, 'Accuracy@40': 0.013639220615964804, 'Accuracy@50': 0.014695160276555626}, {'Accuracy@10': 0.027906976744186046, 'Accuracy@20': 0.02721558768070396, 'Accuracy@30': 0.028514561072700607, 'Accuracy@40': 0.028771213073538655, 'Accuracy@50': 0.02893777498428661}], 'loss': {'train': [0.004714172831974656, 0.004752388326410646, 0.004572540800106409, 0.004394865891074314, 0.004251740028107817, 0.004126205321267588, 0.004023230119032726, 0.0039428260077806485], 'valid': [0.004664224713935083, 0.004692442304668712, 0.004471826902772669, 0.004318412520108975, 0.004186736832810118, 0.0040709432570037824, 0.0039817305632914675, 0.003913070399004254]}}, 'AU2V (d=16)': {'accuracy': [{'Accuracy@10': 0.1639220615964802, 'Accuracy@20': 0.14217473287240728, 'Accuracy@30': 0.1367693274670019, 'Accuracy@40': 0.13274670018856066, 'Accuracy@50': 0.13269641734758014}, {'Accuracy@10': 0.2, 'Accuracy@20': 0.17479572595851664, 'Accuracy@30': 0.16760946993505133, 'Accuracy@40': 0.1656033940917662, 'Accuracy@50': 0.16334380892520428}, {'Accuracy@10': 0.2180389692017599, 'Accuracy@20': 0.20323695788812066, 'Accuracy@30': 0.19226901319924575, 'Accuracy@40': 0.18491514770584538, 'Accuracy@50': 0.17963544940289125}, {'Accuracy@10': 0.21992457573852922, 'Accuracy@20': 0.21134506599622876, 'Accuracy@30': 0.20205321600670437, 'Accuracy@40': 0.1945945945945946, 'Accuracy@50': 0.18770584538026397}, {'Accuracy@10': 0.21646763042111877, 'Accuracy@20': 0.21074795725958517, 'Accuracy@30': 0.20410643201340878, 'Accuracy@40': 0.19791011942174733, 'Accuracy@50': 0.19118793211816468}, {'Accuracy@10': 0.208485229415462, 'Accuracy@20': 0.20716530483972345, 'Accuracy@30': 0.20111041273831973, 'Accuracy@40': 0.19720301697045883, 'Accuracy@50': 0.1911502199874293}, {'Accuracy@10': 0.19151477058453803, 'Accuracy@20': 0.1947517284726587, 'Accuracy@30': 0.1951393253718835, 'Accuracy@40': 0.19151477058453803, 'Accuracy@50': 0.18891263356379637}, {'Accuracy@10': 0.17303582652419863, 'Accuracy@20': 0.17925832809553738, 'Accuracy@30': 0.18133249528598366, 'Accuracy@40': 0.18244814582023886, 'Accuracy@50': 0.18124450031426775}], 'loss': {'train': [0.005852364949320602, 0.005387285022395415, 0.005249754310777093, 0.005189330728979978, 0.0051585635406971465, 0.005141560878793145, 0.0051314685803810715, 0.005125159340615712], 'valid': [0.005516709398129488, 0.005303117275269793, 0.005217102662346987, 0.00517562477728744, 0.0051533678419394425, 0.005140534491852994, 0.005132692481191452, 0.005127651176979804]}}, 'AU2V (d=32)': {'accuracy': [{'Accuracy@10': 0.1883720930232558, 'Accuracy@20': 0.17957259585166563, 'Accuracy@30': 0.17091975696626857, 'Accuracy@40': 0.16777184160905093, 'Accuracy@50': 0.16434946574481457}, {'Accuracy@10': 0.21156505342551854, 'Accuracy@20': 0.20637963544940288, 'Accuracy@30': 0.20243033731405824, 'Accuracy@40': 0.19495600251414205, 'Accuracy@50': 0.18989314896291642}, {'Accuracy@10': 0.21690760527969832, 'Accuracy@20': 0.21407919547454432, 'Accuracy@30': 0.20718625602346533, 'Accuracy@40': 0.2008642363293526, 'Accuracy@50': 0.1960402262727844}, {'Accuracy@10': 0.21640477686989318, 'Accuracy@20': 0.21370207416719045, 'Accuracy@30': 0.2085899853341714, 'Accuracy@40': 0.20208988057825267, 'Accuracy@50': 0.19658076681332495}, {'Accuracy@10': 0.20465116279069767, 'Accuracy@20': 0.20414833438089253, 'Accuracy@30': 0.2025979467839933, 'Accuracy@40': 0.1986957888120679, 'Accuracy@50': 0.1940289126335638}, {'Accuracy@10': 0.18491514770584538, 'Accuracy@20': 0.18629792583280955, 'Accuracy@30': 0.1880578252671276, 'Accuracy@40': 0.18782212445003144, 'Accuracy@50': 0.18560653676932748}, {'Accuracy@10': 0.16134506599622878, 'Accuracy@20': 0.16671904462602136, 'Accuracy@30': 0.1687827362245967, 'Accuracy@40': 0.16912319296040226, 'Accuracy@50': 0.17027027027027028}, {'Accuracy@10': 0.14299182903834068, 'Accuracy@20': 0.1491514770584538, 'Accuracy@30': 0.15168657029122146, 'Accuracy@40': 0.15358265241986174, 'Accuracy@50': 0.15445631678189817}], 'loss': {'train': [0.005789849058024674, 0.005327348440522743, 0.005207680866843793, 0.005160463916216861, 0.005138931157304556, 0.0051278396823744455, 0.0051215439874747765, 0.005117680754469985], 'valid': [0.0054499675782335175, 0.005254103106826555, 0.005183248392313877, 0.005152662444528262, 0.0051375336630621075, 0.005129414748939357, 0.005124516560615337, 0.005121391582848231]}}, 'AU2V (d=64)': {'accuracy': [{'Accuracy@10': 0.21948460087994973, 'Accuracy@20': 0.2041169076052797, 'Accuracy@30': 0.19624973811020321, 'Accuracy@40': 0.19225329981143935, 'Accuracy@50': 0.1893274670018856}, {'Accuracy@10': 0.22262727844123192, 'Accuracy@20': 0.21681332495285982, 'Accuracy@30': 0.21076890844332705, 'Accuracy@40': 0.20490257699560024, 'Accuracy@50': 0.1980389692017599}, {'Accuracy@10': 0.22143306096794468, 'Accuracy@20': 0.21568196103079823, 'Accuracy@30': 0.21102032264822962, 'Accuracy@40': 0.20380263984915148, 'Accuracy@50': 0.198830923947203}, {'Accuracy@10': 0.20817096165933374, 'Accuracy@20': 0.20644248900062853, 'Accuracy@30': 0.20387596899224808, 'Accuracy@40': 0.19960716530483974, 'Accuracy@50': 0.19552482715273414}, {'Accuracy@10': 0.17303582652419863, 'Accuracy@20': 0.17815839094908864, 'Accuracy@30': 0.1805992038550178, 'Accuracy@40': 0.18161533626649906, 'Accuracy@50': 0.18198617221873037}, {'Accuracy@10': 0.14607165304839725, 'Accuracy@20': 0.15091137649277184, 'Accuracy@30': 0.15415880997276346, 'Accuracy@40': 0.15840666247642993, 'Accuracy@50': 0.16011313639220617}, {'Accuracy@10': 0.12746700188560653, 'Accuracy@20': 0.12837837837837837, 'Accuracy@30': 0.13312382149591453, 'Accuracy@40': 0.13593651791326208, 'Accuracy@50': 0.13835323695788812}, {'Accuracy@10': 0.11596480201131365, 'Accuracy@20': 0.11700188560653677, 'Accuracy@30': 0.11917033312382148, 'Accuracy@40': 0.12099308610936518, 'Accuracy@50': 0.12240100565681962}], 'loss': {'train': [0.005678935020187134, 0.005243717179855613, 0.005161401140731602, 0.005134417648630884, 0.005123078153530487, 0.0051174579126916425, 0.005114377242278903, 0.005112502149278875], 'valid': [0.005338055798819138, 0.005190551558365693, 0.0051480000896491395, 0.005131781002733251, 0.005124317864807605, 0.0051203173207898115, 0.0051179994044583685, 0.0051165665410231155]}}}\n"
     ]
    },
    {
     "name": "stderr",
     "output_type": "stream",
     "text": [
      "\n"
     ]
    }
   ],
   "source": [
    "results = {}\n",
    "\n",
    "for run_config in run_configs:\n",
    "    results[run_config[\"name\"]] = {\"accuracy\": []}\n",
    "    model_config = ModelConfig(\n",
    "        weight_decay=1e-8,\n",
    "        max_embedding_norm=1,\n",
    "        d_model=run_config[\"d_model\"],\n",
    "        lr=5e-5,\n",
    "    )\n",
    "    trainer_config = TrainerConfig(\n",
    "        dataset_name=\"movielens\",\n",
    "        model_name=run_config[\"model_name\"],\n",
    "        load_dataset=False,\n",
    "        save_dataset=False,\n",
    "        load_model=False,\n",
    "        ignore_saved_model=True,\n",
    "        epochs=8,\n",
    "    )\n",
    "\n",
    "    print(model_config)\n",
    "    print(trainer_config)\n",
    "\n",
    "    dataset_manager = load_dataset_manager(\n",
    "        dataset_name=trainer_config.dataset_name,\n",
    "        dataset_dir=trainer_config.dataset_dir,\n",
    "        data_dir=\"../data/\",\n",
    "        load_dataset=trainer_config.load_dataset,\n",
    "        save_dataset=trainer_config.save_dataset,\n",
    "        window_size=model_config.window_size,\n",
    "    )\n",
    "    model = load_model(\n",
    "        dataset_manager=dataset_manager,\n",
    "        trainer_config=trainer_config,\n",
    "        model_config=model_config,\n",
    "    )\n",
    "    trainer = PyTorchTrainer(\n",
    "        model=model,\n",
    "        dataset_manager=dataset_manager,\n",
    "        trainer_config=trainer_config,\n",
    "        model_config=model_config,\n",
    "    )\n",
    "\n",
    "    def on_epoch_end(epoch):\n",
    "        results[run_config[\"name\"]][\"accuracy\"].append(\n",
    "            calc_accuracy(\n",
    "                model=model,\n",
    "                num_item=dataset_manager.num_item,\n",
    "                test_dataset=dataset_manager.test_datasets[\"test\"],\n",
    "                top_k=[10, 20, 30, 40, 50],\n",
    "            )\n",
    "        )\n",
    "        torch.save(model, f\"cache/model/movielens/{run_config['name']}-{epoch}.pt\")\n",
    "\n",
    "    losses = trainer.fit(on_epoch_end=on_epoch_end)\n",
    "    results[run_config[\"name\"]][\"loss\"] = losses\n",
    "    print(results)"
   ]
  },
  {
   "cell_type": "code",
   "execution_count": 34,
   "metadata": {},
   "outputs": [
    {
     "name": "stdout",
     "output_type": "stream",
     "text": [
      "User2Vec (d=16), 0.14781\n",
      "User2Vec (d=32), 0.16962\n",
      "User2Vec (d=64), 0.17869\n",
      "AU2V (wo weight-tieing), 0.18397\n",
      "AU2V (wo normalize-norm), 0.034054\n",
      "AU2V (d=16), 0.19119\n",
      "AU2V (d=32), 0.19658\n",
      "AU2V (d=64), 0.19883\n"
     ]
    }
   ],
   "source": [
    "for method, result in results.items():\n",
    "    a = max(map(lambda r: r[\"Accuracy@50\"], result[\"accuracy\"]))\n",
    "    print(f\"{method}, {a:.5}\")"
   ]
  },
  {
   "cell_type": "code",
   "execution_count": 28,
   "metadata": {},
   "outputs": [
    {
     "name": "stderr",
     "output_type": "stream",
     "text": [
      "100%|██████████| 1591/1591 [00:17<00:00, 88.78it/s]\n"
     ]
    },
    {
     "name": "stdout",
     "output_type": "stream",
     "text": [
      "attentive {'Accuracy@10': 0.11596480201131365, 'Accuracy@30': 0.11917033312382148, 'Accuracy@50': 0.12240100565681962}\n"
     ]
    },
    {
     "name": "stderr",
     "output_type": "stream",
     "text": [
      "100%|██████████| 1591/1591 [00:08<00:00, 197.95it/s]\n"
     ]
    },
    {
     "name": "stdout",
     "output_type": "stream",
     "text": [
      "doc2vec {'Accuracy@10': 0.18409805153991202, 'Accuracy@30': 0.18411900272365386, 'Accuracy@50': 0.1764676304211188}\n"
     ]
    },
    {
     "name": "stderr",
     "output_type": "stream",
     "text": [
      "100%|██████████| 1591/1591 [00:17<00:00, 89.57it/s]"
     ]
    },
    {
     "name": "stdout",
     "output_type": "stream",
     "text": [
      "old-attentive {'Accuracy@10': 0.08648648648648649, 'Accuracy@30': 0.0908652838885397, 'Accuracy@50': 0.08974230043997485}\n"
     ]
    },
    {
     "name": "stderr",
     "output_type": "stream",
     "text": [
      "\n"
     ]
    }
   ],
   "source": [
    "models = [\"attentive\", \"doc2vec\", \"old-attentive\"]\n",
    "\n",
    "for model_name in models:\n",
    "    model = torch.load(f\"cache/model/movielens/{model_name}.pt\")\n",
    "\n",
    "    print(\n",
    "        model_name,\n",
    "        calc_accuracy(\n",
    "            model=model,\n",
    "            num_item=dataset_manager.num_item,\n",
    "            test_dataset=dataset_manager.test_datasets[\"test\"],\n",
    "            top_k=[10, 30, 50],\n",
    "        ),\n",
    "    )"
   ]
  }
 ],
 "metadata": {
  "kernelspec": {
   "display_name": ".venv",
   "language": "python",
   "name": "python3"
  },
  "language_info": {
   "codemirror_mode": {
    "name": "ipython",
    "version": 3
   },
   "file_extension": ".py",
   "mimetype": "text/x-python",
   "name": "python",
   "nbconvert_exporter": "python",
   "pygments_lexer": "ipython3",
   "version": "3.11.6"
  }
 },
 "nbformat": 4,
 "nbformat_minor": 2
}
