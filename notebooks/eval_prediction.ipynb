{
 "cells": [
  {
   "cell_type": "code",
   "execution_count": 1,
   "metadata": {},
   "outputs": [],
   "source": [
    "from pathlib import Path\n",
    "import torch\n",
    "import json\n",
    "import pandas as pd\n",
    "import tqdm\n",
    "\n",
    "from au2v.config import ModelConfig, TrainerConfig\n",
    "from au2v.dataset_manager import load_dataset_manager\n",
    "from au2v.trainer import PyTorchTrainer\n",
    "from au2v.model import load_model, PyTorchModel"
   ]
  },
  {
   "cell_type": "code",
   "execution_count": 2,
   "metadata": {},
   "outputs": [],
   "source": [
    "def calc_accuracy(\n",
    "    model: PyTorchModel,\n",
    "    num_item: int,\n",
    "    test_dataset: list[tuple[int, list[int], list[int]]],\n",
    "    top_k: list[int],\n",
    ") -> dict[str, float]:\n",
    "    hit_counts = {k: 0 for k in top_k}\n",
    "    for seq_index, context_items, target_indices in tqdm.tqdm(test_dataset):\n",
    "        rec_list = model.output_rec_lists(\n",
    "            seq_index=torch.LongTensor([seq_index]),\n",
    "            item_indices=torch.LongTensor([context_items]),\n",
    "            cand_item_indices=torch.arange(num_item),\n",
    "            k=max(top_k),\n",
    "        )\n",
    "        for k in top_k:\n",
    "            hit_counts[k] += len(set(target_indices) & set(rec_list[0][:k]))\n",
    "\n",
    "    total_rec = len(test_dataset)\n",
    "    results = {\n",
    "        f\"Accuracy@{k}\": hit_count / total_rec / k\n",
    "        for k, hit_count in hit_counts.items()\n",
    "    }\n",
    "    return results"
   ]
  },
  {
   "cell_type": "code",
   "execution_count": 3,
   "metadata": {},
   "outputs": [],
   "source": [
    "run_configs = [\n",
    "    {\n",
    "        \"name\": \"User2Vec (d=16)\",\n",
    "        \"model_name\": \"doc2vec\",\n",
    "        \"d_model\": 16,\n",
    "        \"epochs\": 10,\n",
    "        \"use_weight_tying\": True,\n",
    "        \"use_attention\": True,\n",
    "        \"use_meta\": True,\n",
    "    },\n",
    "    {\n",
    "        \"name\": \"User2Vec (d=32)\",\n",
    "        \"model_name\": \"doc2vec\",\n",
    "        \"d_model\": 32,\n",
    "        \"epochs\": 10,\n",
    "        \"use_weight_tying\": True,\n",
    "        \"use_attention\": True,\n",
    "        \"use_meta\": True,\n",
    "    },\n",
    "    {\n",
    "        \"name\": \"User2Vec (d=64)\",\n",
    "        \"model_name\": \"doc2vec\",\n",
    "        \"d_model\": 64,\n",
    "        \"epochs\": 10,\n",
    "        \"use_weight_tying\": True,\n",
    "        \"use_attention\": True,\n",
    "        \"use_meta\": True,\n",
    "    },\n",
    "    # {\n",
    "    #     \"name\": \"AU2V (d=16)\",\n",
    "    #     \"model_name\": \"attentive\",\n",
    "    #     \"d_model\": 16,\n",
    "    #     \"epochs\": 10,\n",
    "    # },\n",
    "    # {\n",
    "    #     \"name\": \"AU2V (d=32)\",\n",
    "    #     \"model_name\": \"attentive\",\n",
    "    #     \"d_model\": 32,\n",
    "    #     \"epochs\": 10,\n",
    "    # },\n",
    "    # {\n",
    "    #     \"name\": \"AU2V (d=64)\",\n",
    "    #     \"model_name\": \"attentive\",\n",
    "    #     \"d_model\": 64,\n",
    "    #     \"epochs\": 10,\n",
    "    # },\n",
    "    # {\n",
    "    #     \"name\": \"AU2V (wo weight-tying)\",\n",
    "    #     \"model_name\": \"attentive\",\n",
    "    #     \"d_model\": 64,\n",
    "    #     \"epochs\": 10,\n",
    "    #     \"use_weight_tying\": False,\n",
    "    #     \"use_attention\": True,\n",
    "    #     \"use_meta\": True,\n",
    "    # },\n",
    "    # {\n",
    "    #     \"name\": \"AU2V (wo attention)\",\n",
    "    #     \"model_name\": \"attentive\",\n",
    "    #     \"d_model\": 64,\n",
    "    #     \"epochs\": 10,\n",
    "    #     \"use_weight_tying\": True,\n",
    "    #     \"use_attention\": False,\n",
    "    #     \"use_meta\": True,\n",
    "    # },\n",
    "    # {\n",
    "    #     \"name\": \"AU2V (wo meta)\",\n",
    "    #     \"model_name\": \"attentive\",\n",
    "    #     \"d_model\": 64,\n",
    "    #     \"epochs\": 10,\n",
    "    #     \"use_weight_tying\": True,\n",
    "    #     \"use_attention\": True,\n",
    "    #     \"use_meta\": False,\n",
    "    # },\n",
    "]"
   ]
  },
  {
   "cell_type": "code",
   "execution_count": 4,
   "metadata": {},
   "outputs": [
    {
     "name": "stdout",
     "output_type": "stream",
     "text": [
      "ModelConfig(d_model=16, init_embedding_std=0.2, max_embedding_norm=1, window_size=5, negative_sample_size=5, lr=5e-05, weight_decay=1e-08, use_weight_tying=True, use_meta=True, use_attention=True)\n",
      "TrainerConfig(model_name='doc2vec', dataset_name='movielens', epochs=10, batch_size=64, verbose=False, ignore_saved_model=True, load_model=False, save_model=True, load_dataset=False, save_dataset=False, model_dir='cache/model/', dataset_dir='cache/dataset/', device='cpu')\n",
      "dataset_manager does not exist at: cache/dataset/movielens.pickle, create dataset\n",
      "num_seq: 6040, num_item: 3706, num_item_meta: 28, num_seq_meta: 30, num_item_meta_types: 3, num_seq_meta_types: 3\n",
      "to_sequential_data start\n",
      "to_sequential_data end\n",
      "train: 589192 valid: 110547\n"
     ]
    },
    {
     "name": "stderr",
     "output_type": "stream",
     "text": [
      "100%|██████████| 9207/9207 [00:34<00:00, 270.75it/s]\n"
     ]
    },
    {
     "name": "stdout",
     "output_type": "stream",
     "text": [
      "train 0.00649393937346458\n"
     ]
    },
    {
     "name": "stderr",
     "output_type": "stream",
     "text": [
      "100%|██████████| 1728/1728 [00:01<00:00, 1057.15it/s]\n"
     ]
    },
    {
     "name": "stdout",
     "output_type": "stream",
     "text": [
      "valid 0.006496575769230932\n"
     ]
    },
    {
     "name": "stderr",
     "output_type": "stream",
     "text": [
      "100%|██████████| 1591/1591 [00:07<00:00, 200.34it/s]\n"
     ]
    },
    {
     "name": "stdout",
     "output_type": "stream",
     "text": [
      "0 {'Accuracy@10': 0.05223130106851037, 'Accuracy@20': 0.05012570710245129, 'Accuracy@30': 0.04869055101613241, 'Accuracy@40': 0.0484443746071653, 'Accuracy@50': 0.04790697674418604}\n",
      "saved model to cache/model/movielens/doc2vec.pt\n"
     ]
    },
    {
     "name": "stderr",
     "output_type": "stream",
     "text": [
      "100%|██████████| 9207/9207 [00:34<00:00, 266.71it/s]\n"
     ]
    },
    {
     "name": "stdout",
     "output_type": "stream",
     "text": [
      "train 0.006440958644123753\n"
     ]
    },
    {
     "name": "stderr",
     "output_type": "stream",
     "text": [
      "100%|██████████| 1728/1728 [00:01<00:00, 1032.41it/s]\n"
     ]
    },
    {
     "name": "stdout",
     "output_type": "stream",
     "text": [
      "valid 0.0064436110503948135\n"
     ]
    },
    {
     "name": "stderr",
     "output_type": "stream",
     "text": [
      "100%|██████████| 1591/1591 [00:07<00:00, 208.00it/s]\n"
     ]
    },
    {
     "name": "stdout",
     "output_type": "stream",
     "text": [
      "1 {'Accuracy@10': 0.09912005028284097, 'Accuracy@20': 0.09421747328724073, 'Accuracy@30': 0.08967106641525247, 'Accuracy@40': 0.08687932118164676, 'Accuracy@50': 0.08414833438089252}\n",
      "saved model to cache/model/movielens/doc2vec.pt\n"
     ]
    },
    {
     "name": "stderr",
     "output_type": "stream",
     "text": [
      "100%|██████████| 9207/9207 [00:34<00:00, 268.34it/s]\n"
     ]
    },
    {
     "name": "stdout",
     "output_type": "stream",
     "text": [
      "train 0.0062689030609933485\n"
     ]
    },
    {
     "name": "stderr",
     "output_type": "stream",
     "text": [
      "100%|██████████| 1728/1728 [00:01<00:00, 1055.85it/s]\n"
     ]
    },
    {
     "name": "stdout",
     "output_type": "stream",
     "text": [
      "valid 0.006284045014497646\n"
     ]
    },
    {
     "name": "stderr",
     "output_type": "stream",
     "text": [
      "100%|██████████| 1591/1591 [00:08<00:00, 198.77it/s]\n"
     ]
    },
    {
     "name": "stdout",
     "output_type": "stream",
     "text": [
      "2 {'Accuracy@10': 0.15480829666876178, 'Accuracy@20': 0.15619107479572597, 'Accuracy@30': 0.15384454221663527, 'Accuracy@40': 0.15001571338780642, 'Accuracy@50': 0.14525455688246386}\n",
      "saved model to cache/model/movielens/doc2vec.pt\n"
     ]
    },
    {
     "name": "stderr",
     "output_type": "stream",
     "text": [
      "100%|██████████| 9207/9207 [00:35<00:00, 259.51it/s]\n"
     ]
    },
    {
     "name": "stdout",
     "output_type": "stream",
     "text": [
      "train 0.005936785582163713\n"
     ]
    },
    {
     "name": "stderr",
     "output_type": "stream",
     "text": [
      "100%|██████████| 1728/1728 [00:01<00:00, 1055.93it/s]\n"
     ]
    },
    {
     "name": "stdout",
     "output_type": "stream",
     "text": [
      "valid 0.00601709129005283\n"
     ]
    },
    {
     "name": "stderr",
     "output_type": "stream",
     "text": [
      "100%|██████████| 1591/1591 [00:07<00:00, 205.19it/s]\n"
     ]
    },
    {
     "name": "stdout",
     "output_type": "stream",
     "text": [
      "3 {'Accuracy@10': 0.17127592708988057, 'Accuracy@20': 0.1697360150848523, 'Accuracy@30': 0.16777707940498637, 'Accuracy@40': 0.16588623507228156, 'Accuracy@50': 0.16316781898177246}\n",
      "saved model to cache/model/movielens/doc2vec.pt\n"
     ]
    },
    {
     "name": "stderr",
     "output_type": "stream",
     "text": [
      "100%|██████████| 9207/9207 [00:35<00:00, 259.02it/s]\n"
     ]
    },
    {
     "name": "stdout",
     "output_type": "stream",
     "text": [
      "train 0.005575470878833977\n"
     ]
    },
    {
     "name": "stderr",
     "output_type": "stream",
     "text": [
      "100%|██████████| 1728/1728 [00:01<00:00, 1059.25it/s]\n"
     ]
    },
    {
     "name": "stdout",
     "output_type": "stream",
     "text": [
      "valid 0.005741339889813712\n"
     ]
    },
    {
     "name": "stderr",
     "output_type": "stream",
     "text": [
      "100%|██████████| 1591/1591 [00:07<00:00, 202.08it/s]\n"
     ]
    },
    {
     "name": "stdout",
     "output_type": "stream",
     "text": [
      "4 {'Accuracy@10': 0.1785669390320553, 'Accuracy@20': 0.18029541169076052, 'Accuracy@30': 0.17613660171799708, 'Accuracy@40': 0.17388434946574483, 'Accuracy@50': 0.17098680075424263}\n",
      "saved model to cache/model/movielens/doc2vec.pt\n"
     ]
    },
    {
     "name": "stderr",
     "output_type": "stream",
     "text": [
      "100%|██████████| 9207/9207 [00:35<00:00, 256.39it/s]\n"
     ]
    },
    {
     "name": "stdout",
     "output_type": "stream",
     "text": [
      "train 0.005295273199634173\n"
     ]
    },
    {
     "name": "stderr",
     "output_type": "stream",
     "text": [
      "100%|██████████| 1728/1728 [00:01<00:00, 1054.07it/s]\n"
     ]
    },
    {
     "name": "stdout",
     "output_type": "stream",
     "text": [
      "valid 0.005515128145475105\n"
     ]
    },
    {
     "name": "stderr",
     "output_type": "stream",
     "text": [
      "100%|██████████| 1591/1591 [00:08<00:00, 197.49it/s]\n"
     ]
    },
    {
     "name": "stdout",
     "output_type": "stream",
     "text": [
      "5 {'Accuracy@10': 0.18629792583280955, 'Accuracy@20': 0.1843808925204274, 'Accuracy@30': 0.1802639849151477, 'Accuracy@40': 0.17815839094908864, 'Accuracy@50': 0.1753362664990572}\n",
      "saved model to cache/model/movielens/doc2vec.pt\n"
     ]
    },
    {
     "name": "stderr",
     "output_type": "stream",
     "text": [
      "100%|██████████| 9207/9207 [00:35<00:00, 256.15it/s]\n"
     ]
    },
    {
     "name": "stdout",
     "output_type": "stream",
     "text": [
      "train 0.0051019563908842784\n"
     ]
    },
    {
     "name": "stderr",
     "output_type": "stream",
     "text": [
      "100%|██████████| 1728/1728 [00:01<00:00, 1053.57it/s]\n"
     ]
    },
    {
     "name": "stdout",
     "output_type": "stream",
     "text": [
      "valid 0.005342472890312782\n"
     ]
    },
    {
     "name": "stderr",
     "output_type": "stream",
     "text": [
      "100%|██████████| 1591/1591 [00:07<00:00, 203.71it/s]\n"
     ]
    },
    {
     "name": "stdout",
     "output_type": "stream",
     "text": [
      "6 {'Accuracy@10': 0.18246385920804525, 'Accuracy@20': 0.17922690131992458, 'Accuracy@30': 0.1779384035197989, 'Accuracy@40': 0.17704274041483342, 'Accuracy@50': 0.17509742300439973}\n",
      "saved model to cache/model/movielens/doc2vec.pt\n"
     ]
    },
    {
     "name": "stderr",
     "output_type": "stream",
     "text": [
      "100%|██████████| 9207/9207 [00:36<00:00, 251.75it/s]\n"
     ]
    },
    {
     "name": "stdout",
     "output_type": "stream",
     "text": [
      "train 0.00497048651629419\n"
     ]
    },
    {
     "name": "stderr",
     "output_type": "stream",
     "text": [
      "100%|██████████| 1728/1728 [00:01<00:00, 1051.08it/s]\n"
     ]
    },
    {
     "name": "stdout",
     "output_type": "stream",
     "text": [
      "valid 0.005212828747774094\n"
     ]
    },
    {
     "name": "stderr",
     "output_type": "stream",
     "text": [
      "100%|██████████| 1591/1591 [00:07<00:00, 201.45it/s]\n"
     ]
    },
    {
     "name": "stdout",
     "output_type": "stream",
     "text": [
      "7 {'Accuracy@10': 0.17360150848522943, 'Accuracy@20': 0.17146448774355752, 'Accuracy@30': 0.1714854389272994, 'Accuracy@40': 0.17121307353865495, 'Accuracy@50': 0.17038340666247642}\n",
      "saved model to cache/model/movielens/doc2vec.pt\n"
     ]
    },
    {
     "name": "stderr",
     "output_type": "stream",
     "text": [
      "100%|██████████| 9207/9207 [00:36<00:00, 254.60it/s]\n"
     ]
    },
    {
     "name": "stdout",
     "output_type": "stream",
     "text": [
      "train 0.004880592201238487\n"
     ]
    },
    {
     "name": "stderr",
     "output_type": "stream",
     "text": [
      "100%|██████████| 1728/1728 [00:01<00:00, 1057.90it/s]\n"
     ]
    },
    {
     "name": "stdout",
     "output_type": "stream",
     "text": [
      "valid 0.005114680140466985\n"
     ]
    },
    {
     "name": "stderr",
     "output_type": "stream",
     "text": [
      "100%|██████████| 1591/1591 [00:07<00:00, 201.24it/s]\n"
     ]
    },
    {
     "name": "stdout",
     "output_type": "stream",
     "text": [
      "8 {'Accuracy@10': 0.16398491514770586, 'Accuracy@20': 0.1656191074795726, 'Accuracy@30': 0.1651791326209931, 'Accuracy@40': 0.16425204274041483, 'Accuracy@50': 0.1619610307982401}\n",
      "saved model to cache/model/movielens/doc2vec.pt\n"
     ]
    },
    {
     "name": "stderr",
     "output_type": "stream",
     "text": [
      "100%|██████████| 9207/9207 [00:36<00:00, 252.92it/s]\n"
     ]
    },
    {
     "name": "stdout",
     "output_type": "stream",
     "text": [
      "train 0.004816293888392039\n"
     ]
    },
    {
     "name": "stderr",
     "output_type": "stream",
     "text": [
      "100%|██████████| 1728/1728 [00:01<00:00, 1057.40it/s]\n"
     ]
    },
    {
     "name": "stdout",
     "output_type": "stream",
     "text": [
      "valid 0.005038207789327158\n"
     ]
    },
    {
     "name": "stderr",
     "output_type": "stream",
     "text": [
      "100%|██████████| 1591/1591 [00:07<00:00, 204.46it/s]\n"
     ]
    },
    {
     "name": "stdout",
     "output_type": "stream",
     "text": [
      "9 {'Accuracy@10': 0.1596480201131364, 'Accuracy@20': 0.15713387806411064, 'Accuracy@30': 0.1580557301487534, 'Accuracy@40': 0.15648962916404777, 'Accuracy@50': 0.1551602765556254}\n",
      "saved model to cache/model/movielens/doc2vec.pt\n",
      "ModelConfig(d_model=32, init_embedding_std=0.2, max_embedding_norm=1, window_size=5, negative_sample_size=5, lr=5e-05, weight_decay=1e-08, use_weight_tying=True, use_meta=True, use_attention=True)\n",
      "TrainerConfig(model_name='doc2vec', dataset_name='movielens', epochs=10, batch_size=64, verbose=False, ignore_saved_model=True, load_model=False, save_model=True, load_dataset=False, save_dataset=False, model_dir='cache/model/', dataset_dir='cache/dataset/', device='cpu')\n",
      "dataset_manager does not exist at: cache/dataset/movielens.pickle, create dataset\n",
      "num_seq: 6040, num_item: 3706, num_item_meta: 28, num_seq_meta: 30, num_item_meta_types: 3, num_seq_meta_types: 3\n",
      "to_sequential_data start\n",
      "to_sequential_data end\n",
      "train: 589192 valid: 110547\n"
     ]
    },
    {
     "name": "stderr",
     "output_type": "stream",
     "text": [
      "100%|██████████| 9207/9207 [00:42<00:00, 218.73it/s]\n"
     ]
    },
    {
     "name": "stdout",
     "output_type": "stream",
     "text": [
      "train 0.006483769257259272\n"
     ]
    },
    {
     "name": "stderr",
     "output_type": "stream",
     "text": [
      "100%|██████████| 1728/1728 [00:01<00:00, 1047.27it/s]\n"
     ]
    },
    {
     "name": "stdout",
     "output_type": "stream",
     "text": [
      "valid 0.006480335563660916\n"
     ]
    },
    {
     "name": "stderr",
     "output_type": "stream",
     "text": [
      "100%|██████████| 1591/1591 [00:07<00:00, 199.65it/s]\n"
     ]
    },
    {
     "name": "stdout",
     "output_type": "stream",
     "text": [
      "0 {'Accuracy@10': 0.056568196103079824, 'Accuracy@20': 0.05515399120050283, 'Accuracy@30': 0.053760737481667716, 'Accuracy@40': 0.05248271527341295, 'Accuracy@50': 0.05220615964802011}\n",
      "saved model to cache/model/movielens/doc2vec.pt\n"
     ]
    },
    {
     "name": "stderr",
     "output_type": "stream",
     "text": [
      "100%|██████████| 9207/9207 [00:43<00:00, 213.76it/s]\n"
     ]
    },
    {
     "name": "stdout",
     "output_type": "stream",
     "text": [
      "train 0.0063689489210328135\n"
     ]
    },
    {
     "name": "stderr",
     "output_type": "stream",
     "text": [
      "100%|██████████| 1728/1728 [00:01<00:00, 1042.44it/s]\n"
     ]
    },
    {
     "name": "stdout",
     "output_type": "stream",
     "text": [
      "valid 0.006363773392584231\n"
     ]
    },
    {
     "name": "stderr",
     "output_type": "stream",
     "text": [
      "100%|██████████| 1591/1591 [00:07<00:00, 202.84it/s]\n"
     ]
    },
    {
     "name": "stdout",
     "output_type": "stream",
     "text": [
      "1 {'Accuracy@10': 0.1247014456316782, 'Accuracy@20': 0.12620993086109364, 'Accuracy@30': 0.12478525036664571, 'Accuracy@40': 0.12295725958516657, 'Accuracy@50': 0.11968573224387179}\n",
      "saved model to cache/model/movielens/doc2vec.pt\n"
     ]
    },
    {
     "name": "stderr",
     "output_type": "stream",
     "text": [
      "100%|██████████| 9207/9207 [00:44<00:00, 207.70it/s]\n"
     ]
    },
    {
     "name": "stdout",
     "output_type": "stream",
     "text": [
      "train 0.0060613081873250605\n"
     ]
    },
    {
     "name": "stderr",
     "output_type": "stream",
     "text": [
      "100%|██████████| 1728/1728 [00:01<00:00, 1043.47it/s]\n"
     ]
    },
    {
     "name": "stdout",
     "output_type": "stream",
     "text": [
      "valid 0.006087788981950836\n"
     ]
    },
    {
     "name": "stderr",
     "output_type": "stream",
     "text": [
      "100%|██████████| 1591/1591 [00:07<00:00, 200.55it/s]\n"
     ]
    },
    {
     "name": "stdout",
     "output_type": "stream",
     "text": [
      "2 {'Accuracy@10': 0.18057825267127592, 'Accuracy@20': 0.18001257071024512, 'Accuracy@30': 0.17552901738948248, 'Accuracy@40': 0.1714487743557511, 'Accuracy@50': 0.16828409805153993}\n",
      "saved model to cache/model/movielens/doc2vec.pt\n"
     ]
    },
    {
     "name": "stderr",
     "output_type": "stream",
     "text": [
      "100%|██████████| 9207/9207 [00:44<00:00, 204.72it/s]\n"
     ]
    },
    {
     "name": "stdout",
     "output_type": "stream",
     "text": [
      "train 0.0056395424929265095\n"
     ]
    },
    {
     "name": "stderr",
     "output_type": "stream",
     "text": [
      "100%|██████████| 1728/1728 [00:01<00:00, 1041.00it/s]\n"
     ]
    },
    {
     "name": "stdout",
     "output_type": "stream",
     "text": [
      "valid 0.005751325259562323\n"
     ]
    },
    {
     "name": "stderr",
     "output_type": "stream",
     "text": [
      "100%|██████████| 1591/1591 [00:07<00:00, 202.02it/s]\n"
     ]
    },
    {
     "name": "stdout",
     "output_type": "stream",
     "text": [
      "3 {'Accuracy@10': 0.20490257699560024, 'Accuracy@20': 0.20025141420490256, 'Accuracy@30': 0.1951393253718835, 'Accuracy@40': 0.1890634820867379, 'Accuracy@50': 0.18390949088623507}\n",
      "saved model to cache/model/movielens/doc2vec.pt\n"
     ]
    },
    {
     "name": "stderr",
     "output_type": "stream",
     "text": [
      "100%|██████████| 9207/9207 [00:44<00:00, 206.50it/s]\n"
     ]
    },
    {
     "name": "stdout",
     "output_type": "stream",
     "text": [
      "train 0.005291729367934827\n"
     ]
    },
    {
     "name": "stderr",
     "output_type": "stream",
     "text": [
      "100%|██████████| 1728/1728 [00:01<00:00, 1040.05it/s]\n"
     ]
    },
    {
     "name": "stdout",
     "output_type": "stream",
     "text": [
      "valid 0.005471595327546454\n"
     ]
    },
    {
     "name": "stderr",
     "output_type": "stream",
     "text": [
      "100%|██████████| 1591/1591 [00:07<00:00, 202.53it/s]\n"
     ]
    },
    {
     "name": "stdout",
     "output_type": "stream",
     "text": [
      "4 {'Accuracy@10': 0.20980515399120053, 'Accuracy@20': 0.20421118793211815, 'Accuracy@30': 0.19861722187303585, 'Accuracy@40': 0.19248900062853552, 'Accuracy@50': 0.18740414833438088}\n",
      "saved model to cache/model/movielens/doc2vec.pt\n"
     ]
    },
    {
     "name": "stderr",
     "output_type": "stream",
     "text": [
      "100%|██████████| 9207/9207 [00:45<00:00, 202.10it/s]\n"
     ]
    },
    {
     "name": "stdout",
     "output_type": "stream",
     "text": [
      "train 0.005062885929050376\n"
     ]
    },
    {
     "name": "stderr",
     "output_type": "stream",
     "text": [
      "100%|██████████| 1728/1728 [00:01<00:00, 1033.53it/s]\n"
     ]
    },
    {
     "name": "stdout",
     "output_type": "stream",
     "text": [
      "valid 0.005269989589240093\n"
     ]
    },
    {
     "name": "stderr",
     "output_type": "stream",
     "text": [
      "100%|██████████| 1591/1591 [00:07<00:00, 203.91it/s]\n"
     ]
    },
    {
     "name": "stdout",
     "output_type": "stream",
     "text": [
      "5 {'Accuracy@10': 0.20603394091766183, 'Accuracy@20': 0.19952859836580766, 'Accuracy@30': 0.19289754871150222, 'Accuracy@40': 0.1876807039597737, 'Accuracy@50': 0.1834443746071653}\n",
      "saved model to cache/model/movielens/doc2vec.pt\n"
     ]
    },
    {
     "name": "stderr",
     "output_type": "stream",
     "text": [
      "100%|██████████| 9207/9207 [00:44<00:00, 205.58it/s]\n"
     ]
    },
    {
     "name": "stdout",
     "output_type": "stream",
     "text": [
      "train 0.004920227115360232\n"
     ]
    },
    {
     "name": "stderr",
     "output_type": "stream",
     "text": [
      "100%|██████████| 1728/1728 [00:01<00:00, 1033.79it/s]\n"
     ]
    },
    {
     "name": "stdout",
     "output_type": "stream",
     "text": [
      "valid 0.005128154123202689\n"
     ]
    },
    {
     "name": "stderr",
     "output_type": "stream",
     "text": [
      "100%|██████████| 1591/1591 [00:08<00:00, 198.04it/s]\n"
     ]
    },
    {
     "name": "stdout",
     "output_type": "stream",
     "text": [
      "6 {'Accuracy@10': 0.1935889377749843, 'Accuracy@20': 0.18799497171590196, 'Accuracy@30': 0.18328095537397862, 'Accuracy@40': 0.178441231929604, 'Accuracy@50': 0.17504714016341924}\n",
      "saved model to cache/model/movielens/doc2vec.pt\n"
     ]
    },
    {
     "name": "stderr",
     "output_type": "stream",
     "text": [
      "100%|██████████| 9207/9207 [00:46<00:00, 199.08it/s]\n"
     ]
    },
    {
     "name": "stdout",
     "output_type": "stream",
     "text": [
      "train 0.00482914651833791\n"
     ]
    },
    {
     "name": "stderr",
     "output_type": "stream",
     "text": [
      "100%|██████████| 1728/1728 [00:01<00:00, 1040.78it/s]\n"
     ]
    },
    {
     "name": "stdout",
     "output_type": "stream",
     "text": [
      "valid 0.005027869139109714\n"
     ]
    },
    {
     "name": "stderr",
     "output_type": "stream",
     "text": [
      "100%|██████████| 1591/1591 [00:07<00:00, 203.35it/s]\n"
     ]
    },
    {
     "name": "stdout",
     "output_type": "stream",
     "text": [
      "7 {'Accuracy@10': 0.18227529855436833, 'Accuracy@20': 0.17771841609050912, 'Accuracy@30': 0.17314058244290803, 'Accuracy@40': 0.1695945945945946, 'Accuracy@50': 0.1668887492143306}\n",
      "saved model to cache/model/movielens/doc2vec.pt\n"
     ]
    },
    {
     "name": "stderr",
     "output_type": "stream",
     "text": [
      "100%|██████████| 9207/9207 [00:44<00:00, 206.09it/s]\n"
     ]
    },
    {
     "name": "stdout",
     "output_type": "stream",
     "text": [
      "train 0.004769624077725196\n"
     ]
    },
    {
     "name": "stderr",
     "output_type": "stream",
     "text": [
      "100%|██████████| 1728/1728 [00:01<00:00, 1043.87it/s]\n"
     ]
    },
    {
     "name": "stdout",
     "output_type": "stream",
     "text": [
      "valid 0.0049549855487254135\n"
     ]
    },
    {
     "name": "stderr",
     "output_type": "stream",
     "text": [
      "100%|██████████| 1591/1591 [00:07<00:00, 199.86it/s]\n"
     ]
    },
    {
     "name": "stdout",
     "output_type": "stream",
     "text": [
      "8 {'Accuracy@10': 0.17636706473915775, 'Accuracy@20': 0.16923318667504714, 'Accuracy@30': 0.1643620364550597, 'Accuracy@40': 0.1612350722815839, 'Accuracy@50': 0.15844123192960402}\n",
      "saved model to cache/model/movielens/doc2vec.pt\n"
     ]
    },
    {
     "name": "stderr",
     "output_type": "stream",
     "text": [
      "100%|██████████| 9207/9207 [00:44<00:00, 205.68it/s]\n"
     ]
    },
    {
     "name": "stdout",
     "output_type": "stream",
     "text": [
      "train 0.004728403922649465\n"
     ]
    },
    {
     "name": "stderr",
     "output_type": "stream",
     "text": [
      "100%|██████████| 1728/1728 [00:01<00:00, 1045.04it/s]\n"
     ]
    },
    {
     "name": "stdout",
     "output_type": "stream",
     "text": [
      "valid 0.00490222619827735\n"
     ]
    },
    {
     "name": "stderr",
     "output_type": "stream",
     "text": [
      "100%|██████████| 1591/1591 [00:07<00:00, 200.17it/s]\n"
     ]
    },
    {
     "name": "stdout",
     "output_type": "stream",
     "text": [
      "9 {'Accuracy@10': 0.16857322438717787, 'Accuracy@20': 0.16046511627906976, 'Accuracy@30': 0.15675675675675677, 'Accuracy@40': 0.1535512256442489, 'Accuracy@50': 0.1501068510370836}\n",
      "saved model to cache/model/movielens/doc2vec.pt\n",
      "ModelConfig(d_model=64, init_embedding_std=0.2, max_embedding_norm=1, window_size=5, negative_sample_size=5, lr=5e-05, weight_decay=1e-08, use_weight_tying=True, use_meta=True, use_attention=True)\n",
      "TrainerConfig(model_name='doc2vec', dataset_name='movielens', epochs=10, batch_size=64, verbose=False, ignore_saved_model=True, load_model=False, save_model=True, load_dataset=False, save_dataset=False, model_dir='cache/model/', dataset_dir='cache/dataset/', device='cpu')\n",
      "dataset_manager does not exist at: cache/dataset/movielens.pickle, create dataset\n",
      "num_seq: 6040, num_item: 3706, num_item_meta: 28, num_seq_meta: 30, num_item_meta_types: 3, num_seq_meta_types: 3\n",
      "to_sequential_data start\n",
      "to_sequential_data end\n",
      "train: 589192 valid: 110547\n"
     ]
    },
    {
     "name": "stderr",
     "output_type": "stream",
     "text": [
      "100%|██████████| 9207/9207 [01:04<00:00, 142.89it/s]\n"
     ]
    },
    {
     "name": "stdout",
     "output_type": "stream",
     "text": [
      "train 0.006462391784688371\n"
     ]
    },
    {
     "name": "stderr",
     "output_type": "stream",
     "text": [
      "100%|██████████| 1728/1728 [00:02<00:00, 857.98it/s]\n"
     ]
    },
    {
     "name": "stdout",
     "output_type": "stream",
     "text": [
      "valid 0.006440928828261338\n"
     ]
    },
    {
     "name": "stderr",
     "output_type": "stream",
     "text": [
      "100%|██████████| 1591/1591 [00:08<00:00, 194.00it/s]\n"
     ]
    },
    {
     "name": "stdout",
     "output_type": "stream",
     "text": [
      "0 {'Accuracy@10': 0.06844751728472659, 'Accuracy@20': 0.0758642363293526, 'Accuracy@30': 0.07578043159438508, 'Accuracy@40': 0.0757071024512885, 'Accuracy@50': 0.07516027655562539}\n",
      "saved model to cache/model/movielens/doc2vec.pt\n"
     ]
    },
    {
     "name": "stderr",
     "output_type": "stream",
     "text": [
      "100%|██████████| 9207/9207 [01:05<00:00, 140.09it/s]\n"
     ]
    },
    {
     "name": "stdout",
     "output_type": "stream",
     "text": [
      "train 0.006169865508208261\n"
     ]
    },
    {
     "name": "stderr",
     "output_type": "stream",
     "text": [
      "100%|██████████| 1728/1728 [00:02<00:00, 843.52it/s]\n"
     ]
    },
    {
     "name": "stdout",
     "output_type": "stream",
     "text": [
      "valid 0.006119930132098519\n"
     ]
    },
    {
     "name": "stderr",
     "output_type": "stream",
     "text": [
      "100%|██████████| 1591/1591 [00:08<00:00, 195.18it/s]\n"
     ]
    },
    {
     "name": "stdout",
     "output_type": "stream",
     "text": [
      "1 {'Accuracy@10': 0.1896291640477687, 'Accuracy@20': 0.18799497171590196, 'Accuracy@30': 0.18342761366017182, 'Accuracy@40': 0.17946260213702075, 'Accuracy@50': 0.17585166561910748}\n",
      "saved model to cache/model/movielens/doc2vec.pt\n"
     ]
    },
    {
     "name": "stderr",
     "output_type": "stream",
     "text": [
      "100%|██████████| 9207/9207 [01:06<00:00, 138.24it/s]\n"
     ]
    },
    {
     "name": "stdout",
     "output_type": "stream",
     "text": [
      "train 0.005610314865149594\n"
     ]
    },
    {
     "name": "stderr",
     "output_type": "stream",
     "text": [
      "100%|██████████| 1728/1728 [00:02<00:00, 859.65it/s]\n"
     ]
    },
    {
     "name": "stdout",
     "output_type": "stream",
     "text": [
      "valid 0.005673075398639625\n"
     ]
    },
    {
     "name": "stderr",
     "output_type": "stream",
     "text": [
      "100%|██████████| 1591/1591 [00:07<00:00, 198.97it/s]\n"
     ]
    },
    {
     "name": "stdout",
     "output_type": "stream",
     "text": [
      "2 {'Accuracy@10': 0.21125078566939032, 'Accuracy@20': 0.2071024512884978, 'Accuracy@30': 0.2027027027027027, 'Accuracy@40': 0.19622878692646134, 'Accuracy@50': 0.19182903834066625}\n",
      "saved model to cache/model/movielens/doc2vec.pt\n"
     ]
    },
    {
     "name": "stderr",
     "output_type": "stream",
     "text": [
      "100%|██████████| 9207/9207 [01:11<00:00, 128.20it/s]\n"
     ]
    },
    {
     "name": "stdout",
     "output_type": "stream",
     "text": [
      "train 0.005184951065867035\n"
     ]
    },
    {
     "name": "stderr",
     "output_type": "stream",
     "text": [
      "100%|██████████| 1728/1728 [00:02<00:00, 842.37it/s]\n"
     ]
    },
    {
     "name": "stdout",
     "output_type": "stream",
     "text": [
      "valid 0.005343797864482307\n"
     ]
    },
    {
     "name": "stderr",
     "output_type": "stream",
     "text": [
      "100%|██████████| 1591/1591 [00:08<00:00, 191.78it/s]\n"
     ]
    },
    {
     "name": "stdout",
     "output_type": "stream",
     "text": [
      "3 {'Accuracy@10': 0.20553111250785666, 'Accuracy@20': 0.20034569453174106, 'Accuracy@30': 0.19624973811020321, 'Accuracy@40': 0.19186046511627908, 'Accuracy@50': 0.18765556253928348}\n",
      "saved model to cache/model/movielens/doc2vec.pt\n"
     ]
    },
    {
     "name": "stderr",
     "output_type": "stream",
     "text": [
      "100%|██████████| 9207/9207 [01:09<00:00, 132.27it/s]\n"
     ]
    },
    {
     "name": "stdout",
     "output_type": "stream",
     "text": [
      "train 0.004948209680372468\n"
     ]
    },
    {
     "name": "stderr",
     "output_type": "stream",
     "text": [
      "100%|██████████| 1728/1728 [00:02<00:00, 819.31it/s]\n"
     ]
    },
    {
     "name": "stdout",
     "output_type": "stream",
     "text": [
      "valid 0.005134582277639472\n"
     ]
    },
    {
     "name": "stderr",
     "output_type": "stream",
     "text": [
      "100%|██████████| 1591/1591 [00:08<00:00, 195.57it/s]\n"
     ]
    },
    {
     "name": "stdout",
     "output_type": "stream",
     "text": [
      "4 {'Accuracy@10': 0.19088623507228158, 'Accuracy@20': 0.1865179132620993, 'Accuracy@30': 0.18135344646972554, 'Accuracy@40': 0.17807982401005656, 'Accuracy@50': 0.17456945317410433}\n",
      "saved model to cache/model/movielens/doc2vec.pt\n"
     ]
    },
    {
     "name": "stderr",
     "output_type": "stream",
     "text": [
      "100%|██████████| 9207/9207 [01:12<00:00, 126.67it/s]\n"
     ]
    },
    {
     "name": "stdout",
     "output_type": "stream",
     "text": [
      "train 0.004819949637358842\n"
     ]
    },
    {
     "name": "stderr",
     "output_type": "stream",
     "text": [
      "100%|██████████| 1728/1728 [00:02<00:00, 860.34it/s]\n"
     ]
    },
    {
     "name": "stdout",
     "output_type": "stream",
     "text": [
      "valid 0.005002682506873845\n"
     ]
    },
    {
     "name": "stderr",
     "output_type": "stream",
     "text": [
      "100%|██████████| 1591/1591 [00:08<00:00, 195.90it/s]\n"
     ]
    },
    {
     "name": "stdout",
     "output_type": "stream",
     "text": [
      "5 {'Accuracy@10': 0.1791326209930861, 'Accuracy@20': 0.17162162162162162, 'Accuracy@30': 0.16748376283260005, 'Accuracy@40': 0.16356065367693276, 'Accuracy@50': 0.16075424261470772}\n",
      "saved model to cache/model/movielens/doc2vec.pt\n"
     ]
    },
    {
     "name": "stderr",
     "output_type": "stream",
     "text": [
      "100%|██████████| 9207/9207 [01:07<00:00, 135.67it/s]\n"
     ]
    },
    {
     "name": "stdout",
     "output_type": "stream",
     "text": [
      "train 0.004745135977791435\n"
     ]
    },
    {
     "name": "stderr",
     "output_type": "stream",
     "text": [
      "100%|██████████| 1728/1728 [00:02<00:00, 861.96it/s]\n"
     ]
    },
    {
     "name": "stdout",
     "output_type": "stream",
     "text": [
      "valid 0.004915661255039957\n"
     ]
    },
    {
     "name": "stderr",
     "output_type": "stream",
     "text": [
      "100%|██████████| 1591/1591 [00:08<00:00, 194.81it/s]\n"
     ]
    },
    {
     "name": "stdout",
     "output_type": "stream",
     "text": [
      "6 {'Accuracy@10': 0.16939032055311126, 'Accuracy@20': 0.16040226272784414, 'Accuracy@30': 0.1545568824638592, 'Accuracy@40': 0.15158705216844753, 'Accuracy@50': 0.14913890634820867}\n",
      "saved model to cache/model/movielens/doc2vec.pt\n"
     ]
    },
    {
     "name": "stderr",
     "output_type": "stream",
     "text": [
      "100%|██████████| 9207/9207 [01:09<00:00, 133.26it/s]\n"
     ]
    },
    {
     "name": "stdout",
     "output_type": "stream",
     "text": [
      "train 0.004698908680539521\n"
     ]
    },
    {
     "name": "stderr",
     "output_type": "stream",
     "text": [
      "100%|██████████| 1728/1728 [00:02<00:00, 844.37it/s]\n"
     ]
    },
    {
     "name": "stdout",
     "output_type": "stream",
     "text": [
      "valid 0.004856131985044907\n"
     ]
    },
    {
     "name": "stderr",
     "output_type": "stream",
     "text": [
      "100%|██████████| 1591/1591 [00:08<00:00, 195.84it/s]\n"
     ]
    },
    {
     "name": "stdout",
     "output_type": "stream",
     "text": [
      "7 {'Accuracy@10': 0.15719673161533626, 'Accuracy@20': 0.15012570710245127, 'Accuracy@30': 0.1446260213702074, 'Accuracy@40': 0.14156191074795726, 'Accuracy@50': 0.13885606536769327}\n",
      "saved model to cache/model/movielens/doc2vec.pt\n"
     ]
    },
    {
     "name": "stderr",
     "output_type": "stream",
     "text": [
      "100%|██████████| 9207/9207 [01:06<00:00, 138.11it/s]\n"
     ]
    },
    {
     "name": "stdout",
     "output_type": "stream",
     "text": [
      "train 0.00466903728774145\n"
     ]
    },
    {
     "name": "stderr",
     "output_type": "stream",
     "text": [
      "100%|██████████| 1728/1728 [00:02<00:00, 807.40it/s]\n"
     ]
    },
    {
     "name": "stdout",
     "output_type": "stream",
     "text": [
      "valid 0.004814594496087705\n"
     ]
    },
    {
     "name": "stderr",
     "output_type": "stream",
     "text": [
      "100%|██████████| 1591/1591 [00:08<00:00, 194.86it/s]\n"
     ]
    },
    {
     "name": "stdout",
     "output_type": "stream",
     "text": [
      "8 {'Accuracy@10': 0.14776869893148964, 'Accuracy@20': 0.141169076052797, 'Accuracy@30': 0.1357636706473916, 'Accuracy@40': 0.13328095537397863, 'Accuracy@50': 0.13057196731615336}\n",
      "saved model to cache/model/movielens/doc2vec.pt\n"
     ]
    },
    {
     "name": "stderr",
     "output_type": "stream",
     "text": [
      "100%|██████████| 9207/9207 [01:08<00:00, 135.26it/s]\n"
     ]
    },
    {
     "name": "stdout",
     "output_type": "stream",
     "text": [
      "train 0.004648101541862188\n"
     ]
    },
    {
     "name": "stderr",
     "output_type": "stream",
     "text": [
      "100%|██████████| 1728/1728 [00:02<00:00, 845.04it/s]\n"
     ]
    },
    {
     "name": "stdout",
     "output_type": "stream",
     "text": [
      "valid 0.0047853116543910175\n"
     ]
    },
    {
     "name": "stderr",
     "output_type": "stream",
     "text": [
      "100%|██████████| 1591/1591 [00:08<00:00, 193.84it/s]"
     ]
    },
    {
     "name": "stdout",
     "output_type": "stream",
     "text": [
      "9 {'Accuracy@10': 0.13708359522313013, 'Accuracy@20': 0.13199245757385292, 'Accuracy@30': 0.12880787764508694, 'Accuracy@40': 0.12575424261470775, 'Accuracy@50': 0.12359522313010686}\n",
      "saved model to cache/model/movielens/doc2vec.pt\n"
     ]
    },
    {
     "name": "stderr",
     "output_type": "stream",
     "text": [
      "\n"
     ]
    }
   ],
   "source": [
    "results = {}\n",
    "\n",
    "for run_config in run_configs:\n",
    "    results[run_config[\"name\"]] = {\"accuracy\": []}\n",
    "    model_config = ModelConfig(\n",
    "        weight_decay=1e-8,\n",
    "        max_embedding_norm=1,\n",
    "        d_model=run_config[\"d_model\"],\n",
    "        lr=5e-5,\n",
    "        use_attention=run_config[\"use_attention\"],\n",
    "        use_meta=run_config[\"use_meta\"],\n",
    "        use_weight_tying=run_config[\"use_weight_tying\"],\n",
    "    )\n",
    "    trainer_config = TrainerConfig(\n",
    "        dataset_name=\"movielens\",\n",
    "        model_name=run_config[\"model_name\"],\n",
    "        load_dataset=False,\n",
    "        save_dataset=False,\n",
    "        load_model=False,\n",
    "        ignore_saved_model=True,\n",
    "        epochs=run_config[\"epochs\"],\n",
    "    )\n",
    "\n",
    "    print(model_config)\n",
    "    print(trainer_config)\n",
    "\n",
    "    dataset_manager = load_dataset_manager(\n",
    "        dataset_name=trainer_config.dataset_name,\n",
    "        dataset_dir=trainer_config.dataset_dir,\n",
    "        data_dir=\"../data/\",\n",
    "        load_dataset=trainer_config.load_dataset,\n",
    "        save_dataset=trainer_config.save_dataset,\n",
    "        window_size=model_config.window_size,\n",
    "    )\n",
    "    print(\n",
    "        \"train:\",\n",
    "        len(dataset_manager.train_dataset),\n",
    "        \"valid:\",\n",
    "        len(dataset_manager.valid_dataset),\n",
    "    )\n",
    "    model = load_model(\n",
    "        dataset_manager=dataset_manager,\n",
    "        trainer_config=trainer_config,\n",
    "        model_config=model_config,\n",
    "    )\n",
    "    trainer = PyTorchTrainer(\n",
    "        model=model,\n",
    "        dataset_manager=dataset_manager,\n",
    "        trainer_config=trainer_config,\n",
    "        model_config=model_config,\n",
    "    )\n",
    "\n",
    "    def on_epoch_end(epoch: int):\n",
    "        result = calc_accuracy(\n",
    "            model=model,\n",
    "            num_item=dataset_manager.num_item,\n",
    "            test_dataset=dataset_manager.test_datasets[\"test\"],\n",
    "            top_k=[10, 20, 30, 40, 50],\n",
    "        )\n",
    "        print(epoch, result)\n",
    "        results[run_config[\"name\"]][\"accuracy\"].append(result)\n",
    "        torch.save(model, f\"cache/model/movielens-2/{run_config['name']}-{epoch}.pt\")\n",
    "\n",
    "    losses = trainer.fit(on_epoch_end=on_epoch_end)\n",
    "    results[run_config[\"name\"]][\"loss\"] = losses\n",
    "\n",
    "    with open(\"result.json\", \"w\") as f:\n",
    "        json.dump(results, f)"
   ]
  },
  {
   "cell_type": "code",
   "execution_count": 7,
   "metadata": {},
   "outputs": [],
   "source": [
    "top_k = list(range(10, 51, 10))\n",
    "data = {}\n",
    "for method, result in results.items():\n",
    "    data[method] = []\n",
    "    for k in top_k:\n",
    "        a = max(map(lambda r: r[f\"Accuracy@{k}\"], result[\"accuracy\"]))\n",
    "        data[method].append(a)"
   ]
  },
  {
   "cell_type": "code",
   "execution_count": 10,
   "metadata": {},
   "outputs": [
    {
     "data": {
      "text/html": [
       "<div>\n",
       "<style scoped>\n",
       "    .dataframe tbody tr th:only-of-type {\n",
       "        vertical-align: middle;\n",
       "    }\n",
       "\n",
       "    .dataframe tbody tr th {\n",
       "        vertical-align: top;\n",
       "    }\n",
       "\n",
       "    .dataframe thead th {\n",
       "        text-align: right;\n",
       "    }\n",
       "</style>\n",
       "<table border=\"1\" class=\"dataframe\">\n",
       "  <thead>\n",
       "    <tr style=\"text-align: right;\">\n",
       "      <th></th>\n",
       "      <th>Accuracy@10</th>\n",
       "      <th>Accuracy@20</th>\n",
       "      <th>Accuracy@30</th>\n",
       "      <th>Accuracy@40</th>\n",
       "      <th>Accuracy@50</th>\n",
       "    </tr>\n",
       "  </thead>\n",
       "  <tbody>\n",
       "    <tr>\n",
       "      <th>User2Vec (d=16)</th>\n",
       "      <td>0.186298</td>\n",
       "      <td>0.184381</td>\n",
       "      <td>0.180264</td>\n",
       "      <td>0.178158</td>\n",
       "      <td>0.175336</td>\n",
       "    </tr>\n",
       "    <tr>\n",
       "      <th>User2Vec (d=32)</th>\n",
       "      <td>0.209805</td>\n",
       "      <td>0.204211</td>\n",
       "      <td>0.198617</td>\n",
       "      <td>0.192489</td>\n",
       "      <td>0.187404</td>\n",
       "    </tr>\n",
       "    <tr>\n",
       "      <th>User2Vec (d=64)</th>\n",
       "      <td>0.211251</td>\n",
       "      <td>0.207102</td>\n",
       "      <td>0.202703</td>\n",
       "      <td>0.196229</td>\n",
       "      <td>0.191829</td>\n",
       "    </tr>\n",
       "    <tr>\n",
       "      <th>AU2V (d=16)</th>\n",
       "      <td>0.215713</td>\n",
       "      <td>0.209585</td>\n",
       "      <td>0.206160</td>\n",
       "      <td>0.200629</td>\n",
       "      <td>0.195060</td>\n",
       "    </tr>\n",
       "    <tr>\n",
       "      <th>AU2V (d=32)</th>\n",
       "      <td>0.226776</td>\n",
       "      <td>0.217788</td>\n",
       "      <td>0.209428</td>\n",
       "      <td>0.202263</td>\n",
       "      <td>0.195789</td>\n",
       "    </tr>\n",
       "    <tr>\n",
       "      <th>AU2V (d=64)</th>\n",
       "      <td>0.229038</td>\n",
       "      <td>0.221150</td>\n",
       "      <td>0.212717</td>\n",
       "      <td>0.204824</td>\n",
       "      <td>0.198366</td>\n",
       "    </tr>\n",
       "    <tr>\n",
       "      <th>AU2V (wo weight-tying)</th>\n",
       "      <td>0.226776</td>\n",
       "      <td>0.221307</td>\n",
       "      <td>0.210455</td>\n",
       "      <td>0.202923</td>\n",
       "      <td>0.197285</td>\n",
       "    </tr>\n",
       "    <tr>\n",
       "      <th>AU2V (wo attention)</th>\n",
       "      <td>0.229101</td>\n",
       "      <td>0.221999</td>\n",
       "      <td>0.211544</td>\n",
       "      <td>0.202216</td>\n",
       "      <td>0.197260</td>\n",
       "    </tr>\n",
       "    <tr>\n",
       "      <th>AU2V (wo meta)</th>\n",
       "      <td>0.227970</td>\n",
       "      <td>0.219233</td>\n",
       "      <td>0.209638</td>\n",
       "      <td>0.202043</td>\n",
       "      <td>0.195223</td>\n",
       "    </tr>\n",
       "  </tbody>\n",
       "</table>\n",
       "</div>"
      ],
      "text/plain": [
       "                        Accuracy@10  Accuracy@20  Accuracy@30  Accuracy@40  \\\n",
       "User2Vec (d=16)            0.186298     0.184381     0.180264     0.178158   \n",
       "User2Vec (d=32)            0.209805     0.204211     0.198617     0.192489   \n",
       "User2Vec (d=64)            0.211251     0.207102     0.202703     0.196229   \n",
       "AU2V (d=16)                0.215713     0.209585     0.206160     0.200629   \n",
       "AU2V (d=32)                0.226776     0.217788     0.209428     0.202263   \n",
       "AU2V (d=64)                0.229038     0.221150     0.212717     0.204824   \n",
       "AU2V (wo weight-tying)     0.226776     0.221307     0.210455     0.202923   \n",
       "AU2V (wo attention)        0.229101     0.221999     0.211544     0.202216   \n",
       "AU2V (wo meta)             0.227970     0.219233     0.209638     0.202043   \n",
       "\n",
       "                        Accuracy@50  \n",
       "User2Vec (d=16)            0.175336  \n",
       "User2Vec (d=32)            0.187404  \n",
       "User2Vec (d=64)            0.191829  \n",
       "AU2V (d=16)                0.195060  \n",
       "AU2V (d=32)                0.195789  \n",
       "AU2V (d=64)                0.198366  \n",
       "AU2V (wo weight-tying)     0.197285  \n",
       "AU2V (wo attention)        0.197260  \n",
       "AU2V (wo meta)             0.195223  "
      ]
     },
     "execution_count": 10,
     "metadata": {},
     "output_type": "execute_result"
    }
   ],
   "source": [
    "df = pd.DataFrame(data).T\n",
    "df.columns = [f\"Accuracy@{k}\" for k in top_k]\n",
    "df"
   ]
  }
 ],
 "metadata": {
  "kernelspec": {
   "display_name": ".venv",
   "language": "python",
   "name": "python3"
  },
  "language_info": {
   "codemirror_mode": {
    "name": "ipython",
    "version": 3
   },
   "file_extension": ".py",
   "mimetype": "text/x-python",
   "name": "python",
   "nbconvert_exporter": "python",
   "pygments_lexer": "ipython3",
   "version": "3.11.6"
  }
 },
 "nbformat": 4,
 "nbformat_minor": 2
}
