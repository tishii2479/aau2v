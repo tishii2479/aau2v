{
 "cells": [
  {
   "cell_type": "code",
   "execution_count": 15,
   "metadata": {},
   "outputs": [],
   "source": [
    "from pathlib import Path\n",
    "import torch\n",
    "import json\n",
    "import tqdm\n",
    "\n",
    "from au2v.config import ModelConfig, TrainerConfig\n",
    "from au2v.dataset_manager import load_dataset_manager\n",
    "from au2v.trainer import PyTorchTrainer\n",
    "from au2v.model import load_model, PyTorchModel"
   ]
  },
  {
   "cell_type": "code",
   "execution_count": 16,
   "metadata": {},
   "outputs": [],
   "source": [
    "def calc_accuracy(\n",
    "    model: PyTorchModel,\n",
    "    num_item: int,\n",
    "    test_dataset: list[tuple[int, list[int], list[int]]],\n",
    "    top_k: list[int],\n",
    ") -> dict[str, float]:\n",
    "    hit_counts = {k: 0 for k in top_k}\n",
    "    for seq_index, context_items, target_indices in tqdm.tqdm(test_dataset):\n",
    "        rec_list = model.output_rec_lists(\n",
    "            seq_index=torch.LongTensor([seq_index]),\n",
    "            item_indices=torch.LongTensor([context_items]),\n",
    "            cand_item_indices=torch.arange(num_item),\n",
    "            k=max(top_k),\n",
    "        )\n",
    "        for k in top_k:\n",
    "            hit_counts[k] += len(set(target_indices) & set(rec_list[0][:k]))\n",
    "\n",
    "    total_rec = len(test_dataset)\n",
    "    results = {\n",
    "        f\"Accuracy@{k}\": hit_count / total_rec / k\n",
    "        for k, hit_count in hit_counts.items()\n",
    "    }\n",
    "    return results"
   ]
  },
  {
   "cell_type": "code",
   "execution_count": 17,
   "metadata": {},
   "outputs": [],
   "source": [
    "run_configs = [\n",
    "    # {\n",
    "    #     \"name\": \"User2Vec (d=16)\",\n",
    "    #     \"model_name\": \"doc2vec\",\n",
    "    #     \"d_model\": 16,\n",
    "    #     \"epochs\": 10,\n",
    "    # },\n",
    "    # {\n",
    "    #     \"name\": \"User2Vec (d=32)\",\n",
    "    #     \"model_name\": \"doc2vec\",\n",
    "    #     \"d_model\": 32,\n",
    "    #     \"epochs\": 10,\n",
    "    # },\n",
    "    # {\n",
    "    #     \"name\": \"User2Vec (d=64)\",\n",
    "    #     \"model_name\": \"doc2vec\",\n",
    "    #     \"d_model\": 64,\n",
    "    #     \"epochs\": 10,\n",
    "    # },\n",
    "    # {\n",
    "    #     \"name\": \"AU2V (d=16)\",\n",
    "    #     \"model_name\": \"attentive\",\n",
    "    #     \"d_model\": 16,\n",
    "    #     \"epochs\": 10,\n",
    "    # },\n",
    "    # {\n",
    "    #     \"name\": \"AU2V (d=32)\",\n",
    "    #     \"model_name\": \"attentive\",\n",
    "    #     \"d_model\": 32,\n",
    "    #     \"epochs\": 10,\n",
    "    # },\n",
    "    # {\n",
    "    #     \"name\": \"AU2V (d=64)\",\n",
    "    #     \"model_name\": \"attentive\",\n",
    "    #     \"d_model\": 64,\n",
    "    #     \"epochs\": 10,\n",
    "    # },\n",
    "    {\n",
    "        \"name\": \"AU2V (wo weight-tying)\",\n",
    "        \"model_name\": \"attentive\",\n",
    "        \"d_model\": 64,\n",
    "        \"epochs\": 10,\n",
    "        \"use_weight_tying\": False,\n",
    "        \"use_attention\": True,\n",
    "        \"use_meta\": True,\n",
    "    },\n",
    "    {\n",
    "        \"name\": \"AU2V (wo attention)\",\n",
    "        \"model_name\": \"attentive\",\n",
    "        \"d_model\": 64,\n",
    "        \"epochs\": 10,\n",
    "        \"use_weight_tying\": True,\n",
    "        \"use_attention\": False,\n",
    "        \"use_meta\": True,\n",
    "    },\n",
    "    {\n",
    "        \"name\": \"AU2V (wo meta)\",\n",
    "        \"model_name\": \"attentive\",\n",
    "        \"d_model\": 64,\n",
    "        \"epochs\": 10,\n",
    "        \"use_weight_tying\": True,\n",
    "        \"use_attention\": True,\n",
    "        \"use_meta\": False,\n",
    "    },\n",
    "]"
   ]
  },
  {
   "cell_type": "code",
   "execution_count": 18,
   "metadata": {},
   "outputs": [
    {
     "name": "stdout",
     "output_type": "stream",
     "text": [
      "ModelConfig(d_model=64, init_embedding_std=0.2, max_embedding_norm=1, window_size=5, negative_sample_size=5, lr=5e-05, weight_decay=1e-08, use_weight_tying=False, use_meta=True, use_attention=True)\n",
      "TrainerConfig(model_name='attentive', dataset_name='movielens', epochs=10, batch_size=64, verbose=False, ignore_saved_model=True, load_model=False, save_model=True, load_dataset=False, save_dataset=False, model_dir='cache/model/', dataset_dir='cache/dataset/', device='cpu')\n",
      "dataset_manager does not exist at: cache/dataset/movielens.pickle, create dataset\n",
      "num_seq: 6040, num_item: 3706, num_item_meta: 28, num_seq_meta: 30, num_item_meta_types: 3, num_seq_meta_types: 3\n",
      "to_sequential_data start\n",
      "to_sequential_data end\n",
      "train: 589192 valid: 110547\n"
     ]
    },
    {
     "name": "stderr",
     "output_type": "stream",
     "text": [
      "100%|██████████| 9207/9207 [02:11<00:00, 70.17it/s]\n"
     ]
    },
    {
     "name": "stdout",
     "output_type": "stream",
     "text": [
      "train 0.005764041080596691\n"
     ]
    },
    {
     "name": "stderr",
     "output_type": "stream",
     "text": [
      "100%|██████████| 1728/1728 [00:07<00:00, 234.20it/s]\n"
     ]
    },
    {
     "name": "stdout",
     "output_type": "stream",
     "text": [
      "valid 0.005530333339661102\n"
     ]
    },
    {
     "name": "stderr",
     "output_type": "stream",
     "text": [
      "100%|██████████| 1591/1591 [00:18<00:00, 87.55it/s]\n"
     ]
    },
    {
     "name": "stdout",
     "output_type": "stream",
     "text": [
      "0 {'Accuracy@10': 0.22269013199245755, 'Accuracy@20': 0.21596480201131363, 'Accuracy@30': 0.20668342761366015, 'Accuracy@40': 0.19875864236329352, 'Accuracy@50': 0.19228158390949088}\n",
      "saved model to cache/model/movielens/attentive.pt\n"
     ]
    },
    {
     "name": "stderr",
     "output_type": "stream",
     "text": [
      "100%|██████████| 9207/9207 [02:12<00:00, 69.24it/s]\n"
     ]
    },
    {
     "name": "stdout",
     "output_type": "stream",
     "text": [
      "train 0.005355899075016443\n"
     ]
    },
    {
     "name": "stderr",
     "output_type": "stream",
     "text": [
      "100%|██████████| 1728/1728 [00:07<00:00, 223.14it/s]\n"
     ]
    },
    {
     "name": "stdout",
     "output_type": "stream",
     "text": [
      "valid 0.005365288159045745\n"
     ]
    },
    {
     "name": "stderr",
     "output_type": "stream",
     "text": [
      "100%|██████████| 1591/1591 [00:18<00:00, 85.50it/s]\n"
     ]
    },
    {
     "name": "stdout",
     "output_type": "stream",
     "text": [
      "1 {'Accuracy@10': 0.2251414204902577, 'Accuracy@20': 0.2213073538654934, 'Accuracy@30': 0.20951183741881418, 'Accuracy@40': 0.20292269013199243, 'Accuracy@50': 0.19728472658705218}\n",
      "saved model to cache/model/movielens/attentive.pt\n"
     ]
    },
    {
     "name": "stderr",
     "output_type": "stream",
     "text": [
      "100%|██████████| 9207/9207 [02:09<00:00, 70.89it/s]\n"
     ]
    },
    {
     "name": "stdout",
     "output_type": "stream",
     "text": [
      "train 0.005244416189578757\n"
     ]
    },
    {
     "name": "stderr",
     "output_type": "stream",
     "text": [
      "100%|██████████| 1728/1728 [00:07<00:00, 230.67it/s]\n"
     ]
    },
    {
     "name": "stdout",
     "output_type": "stream",
     "text": [
      "valid 0.00528447178766171\n"
     ]
    },
    {
     "name": "stderr",
     "output_type": "stream",
     "text": [
      "100%|██████████| 1591/1591 [00:18<00:00, 86.45it/s]\n"
     ]
    },
    {
     "name": "stdout",
     "output_type": "stream",
     "text": [
      "2 {'Accuracy@10': 0.22677561282212447, 'Accuracy@20': 0.21929604022627278, 'Accuracy@30': 0.21045464068719882, 'Accuracy@40': 0.20248271527341294, 'Accuracy@50': 0.19698302954116909}\n",
      "saved model to cache/model/movielens/attentive.pt\n"
     ]
    },
    {
     "name": "stderr",
     "output_type": "stream",
     "text": [
      "100%|██████████| 9207/9207 [02:08<00:00, 71.92it/s]\n"
     ]
    },
    {
     "name": "stdout",
     "output_type": "stream",
     "text": [
      "train 0.00519487485205616\n"
     ]
    },
    {
     "name": "stderr",
     "output_type": "stream",
     "text": [
      "100%|██████████| 1728/1728 [00:07<00:00, 230.83it/s]\n"
     ]
    },
    {
     "name": "stdout",
     "output_type": "stream",
     "text": [
      "valid 0.005239527215436908\n"
     ]
    },
    {
     "name": "stderr",
     "output_type": "stream",
     "text": [
      "100%|██████████| 1591/1591 [00:18<00:00, 86.85it/s]\n"
     ]
    },
    {
     "name": "stdout",
     "output_type": "stream",
     "text": [
      "3 {'Accuracy@10': 0.21829038340666246, 'Accuracy@20': 0.21313639220615962, 'Accuracy@30': 0.2054263565891473, 'Accuracy@40': 0.20034569453174106, 'Accuracy@50': 0.19596480201131364}\n",
      "saved model to cache/model/movielens/attentive.pt\n"
     ]
    },
    {
     "name": "stderr",
     "output_type": "stream",
     "text": [
      "100%|██████████| 9207/9207 [02:07<00:00, 72.21it/s]\n"
     ]
    },
    {
     "name": "stdout",
     "output_type": "stream",
     "text": [
      "train 0.005169106752066377\n"
     ]
    },
    {
     "name": "stderr",
     "output_type": "stream",
     "text": [
      "100%|██████████| 1728/1728 [00:07<00:00, 230.64it/s]\n"
     ]
    },
    {
     "name": "stdout",
     "output_type": "stream",
     "text": [
      "valid 0.005212385230919967\n"
     ]
    },
    {
     "name": "stderr",
     "output_type": "stream",
     "text": [
      "100%|██████████| 1591/1591 [00:18<00:00, 87.00it/s]\n"
     ]
    },
    {
     "name": "stdout",
     "output_type": "stream",
     "text": [
      "4 {'Accuracy@10': 0.20263984915147706, 'Accuracy@20': 0.20527969830295412, 'Accuracy@30': 0.20121516865702913, 'Accuracy@40': 0.1959930861093652, 'Accuracy@50': 0.19035826524198618}\n",
      "saved model to cache/model/movielens/attentive.pt\n"
     ]
    },
    {
     "name": "stderr",
     "output_type": "stream",
     "text": [
      "100%|██████████| 9207/9207 [02:26<00:00, 62.78it/s]\n"
     ]
    },
    {
     "name": "stdout",
     "output_type": "stream",
     "text": [
      "train 0.005154271262567488\n"
     ]
    },
    {
     "name": "stderr",
     "output_type": "stream",
     "text": [
      "100%|██████████| 1728/1728 [00:08<00:00, 213.19it/s]\n"
     ]
    },
    {
     "name": "stdout",
     "output_type": "stream",
     "text": [
      "valid 0.005194800646173049\n"
     ]
    },
    {
     "name": "stderr",
     "output_type": "stream",
     "text": [
      "100%|██████████| 1591/1591 [00:18<00:00, 85.07it/s]\n"
     ]
    },
    {
     "name": "stdout",
     "output_type": "stream",
     "text": [
      "5 {'Accuracy@10': 0.1776869893148963, 'Accuracy@20': 0.1829352608422376, 'Accuracy@30': 0.18680075424261472, 'Accuracy@40': 0.1882149591451917, 'Accuracy@50': 0.18822124450031427}\n",
      "saved model to cache/model/movielens/attentive.pt\n"
     ]
    },
    {
     "name": "stderr",
     "output_type": "stream",
     "text": [
      "100%|██████████| 9207/9207 [02:13<00:00, 69.08it/s]\n"
     ]
    },
    {
     "name": "stdout",
     "output_type": "stream",
     "text": [
      "train 0.005144959334118175\n"
     ]
    },
    {
     "name": "stderr",
     "output_type": "stream",
     "text": [
      "100%|██████████| 1728/1728 [00:07<00:00, 237.76it/s]\n"
     ]
    },
    {
     "name": "stdout",
     "output_type": "stream",
     "text": [
      "valid 0.005182634533018519\n"
     ]
    },
    {
     "name": "stderr",
     "output_type": "stream",
     "text": [
      "100%|██████████| 1591/1591 [00:18<00:00, 87.82it/s]\n"
     ]
    },
    {
     "name": "stdout",
     "output_type": "stream",
     "text": [
      "6 {'Accuracy@10': 0.1569453174104337, 'Accuracy@20': 0.16499057196731615, 'Accuracy@30': 0.16876178504085482, 'Accuracy@40': 0.17247014456316784, 'Accuracy@50': 0.17528598365807668}\n",
      "saved model to cache/model/movielens/attentive.pt\n"
     ]
    },
    {
     "name": "stderr",
     "output_type": "stream",
     "text": [
      "100%|██████████| 9207/9207 [02:00<00:00, 76.57it/s]\n"
     ]
    },
    {
     "name": "stdout",
     "output_type": "stream",
     "text": [
      "train 0.005138785150379551\n"
     ]
    },
    {
     "name": "stderr",
     "output_type": "stream",
     "text": [
      "100%|██████████| 1728/1728 [00:06<00:00, 247.35it/s]\n"
     ]
    },
    {
     "name": "stdout",
     "output_type": "stream",
     "text": [
      "valid 0.005174108331449847\n"
     ]
    },
    {
     "name": "stderr",
     "output_type": "stream",
     "text": [
      "100%|██████████| 1591/1591 [00:18<00:00, 88.17it/s]\n"
     ]
    },
    {
     "name": "stdout",
     "output_type": "stream",
     "text": [
      "7 {'Accuracy@10': 0.1404776869893149, 'Accuracy@20': 0.14670018856065367, 'Accuracy@30': 0.1542216635239891, 'Accuracy@40': 0.1571024512884978, 'Accuracy@50': 0.15997485857950974}\n",
      "saved model to cache/model/movielens/attentive.pt\n"
     ]
    },
    {
     "name": "stderr",
     "output_type": "stream",
     "text": [
      "100%|██████████| 9207/9207 [02:09<00:00, 71.27it/s]\n"
     ]
    },
    {
     "name": "stdout",
     "output_type": "stream",
     "text": [
      "train 0.005134441171883743\n"
     ]
    },
    {
     "name": "stderr",
     "output_type": "stream",
     "text": [
      "100%|██████████| 1728/1728 [00:07<00:00, 241.56it/s]\n"
     ]
    },
    {
     "name": "stdout",
     "output_type": "stream",
     "text": [
      "valid 0.005167756008789011\n"
     ]
    },
    {
     "name": "stderr",
     "output_type": "stream",
     "text": [
      "100%|██████████| 1591/1591 [00:18<00:00, 88.32it/s]\n"
     ]
    },
    {
     "name": "stdout",
     "output_type": "stream",
     "text": [
      "8 {'Accuracy@10': 0.12696417347580138, 'Accuracy@20': 0.13343808925204276, 'Accuracy@30': 0.13827781269641734, 'Accuracy@40': 0.1421904462602137, 'Accuracy@50': 0.1454054054054054}\n",
      "saved model to cache/model/movielens/attentive.pt\n"
     ]
    },
    {
     "name": "stderr",
     "output_type": "stream",
     "text": [
      "100%|██████████| 9207/9207 [02:05<00:00, 73.07it/s]\n"
     ]
    },
    {
     "name": "stdout",
     "output_type": "stream",
     "text": [
      "train 0.005131355352832065\n"
     ]
    },
    {
     "name": "stderr",
     "output_type": "stream",
     "text": [
      "100%|██████████| 1728/1728 [00:08<00:00, 212.73it/s]\n"
     ]
    },
    {
     "name": "stdout",
     "output_type": "stream",
     "text": [
      "valid 0.005162965783802007\n"
     ]
    },
    {
     "name": "stderr",
     "output_type": "stream",
     "text": [
      "100%|██████████| 1591/1591 [00:19<00:00, 80.82it/s]\n"
     ]
    },
    {
     "name": "stdout",
     "output_type": "stream",
     "text": [
      "9 {'Accuracy@10': 0.12331866750471401, 'Accuracy@20': 0.13007542426147076, 'Accuracy@30': 0.1323695788812068, 'Accuracy@40': 0.13562225015713386, 'Accuracy@50': 0.13749842866121936}\n",
      "saved model to cache/model/movielens/attentive.pt\n",
      "ModelConfig(d_model=64, init_embedding_std=0.2, max_embedding_norm=1, window_size=5, negative_sample_size=5, lr=5e-05, weight_decay=1e-08, use_weight_tying=True, use_meta=True, use_attention=False)\n",
      "TrainerConfig(model_name='attentive', dataset_name='movielens', epochs=10, batch_size=64, verbose=False, ignore_saved_model=True, load_model=False, save_model=True, load_dataset=False, save_dataset=False, model_dir='cache/model/', dataset_dir='cache/dataset/', device='cpu')\n",
      "dataset_manager does not exist at: cache/dataset/movielens.pickle, create dataset\n",
      "num_seq: 6040, num_item: 3706, num_item_meta: 28, num_seq_meta: 30, num_item_meta_types: 3, num_seq_meta_types: 3\n",
      "to_sequential_data start\n",
      "to_sequential_data end\n",
      "train: 589192 valid: 110547\n"
     ]
    },
    {
     "name": "stderr",
     "output_type": "stream",
     "text": [
      "100%|██████████| 9207/9207 [02:10<00:00, 70.43it/s]\n"
     ]
    },
    {
     "name": "stdout",
     "output_type": "stream",
     "text": [
      "train 0.005766898712518178\n"
     ]
    },
    {
     "name": "stderr",
     "output_type": "stream",
     "text": [
      "100%|██████████| 1728/1728 [00:07<00:00, 227.03it/s]\n"
     ]
    },
    {
     "name": "stdout",
     "output_type": "stream",
     "text": [
      "valid 0.005532178373413628\n"
     ]
    },
    {
     "name": "stderr",
     "output_type": "stream",
     "text": [
      "100%|██████████| 1591/1591 [00:18<00:00, 85.44it/s]\n"
     ]
    },
    {
     "name": "stdout",
     "output_type": "stream",
     "text": [
      "0 {'Accuracy@10': 0.2244500314267756, 'Accuracy@20': 0.21766184789440604, 'Accuracy@30': 0.2088833019065577, 'Accuracy@40': 0.20136706473915775, 'Accuracy@50': 0.192193588937775}\n",
      "saved model to cache/model/movielens/attentive.pt\n"
     ]
    },
    {
     "name": "stderr",
     "output_type": "stream",
     "text": [
      "100%|██████████| 9207/9207 [02:15<00:00, 68.03it/s]\n"
     ]
    },
    {
     "name": "stdout",
     "output_type": "stream",
     "text": [
      "train 0.005357874176228579\n"
     ]
    },
    {
     "name": "stderr",
     "output_type": "stream",
     "text": [
      "100%|██████████| 1728/1728 [00:07<00:00, 227.05it/s]\n"
     ]
    },
    {
     "name": "stdout",
     "output_type": "stream",
     "text": [
      "valid 0.0053671514567399225\n"
     ]
    },
    {
     "name": "stderr",
     "output_type": "stream",
     "text": [
      "100%|██████████| 1591/1591 [00:18<00:00, 86.06it/s]\n"
     ]
    },
    {
     "name": "stdout",
     "output_type": "stream",
     "text": [
      "1 {'Accuracy@10': 0.2267127592708988, 'Accuracy@20': 0.22149591451917033, 'Accuracy@30': 0.21154410224177667, 'Accuracy@40': 0.20221558768070397, 'Accuracy@50': 0.19576367064739159}\n",
      "saved model to cache/model/movielens/attentive.pt\n"
     ]
    },
    {
     "name": "stderr",
     "output_type": "stream",
     "text": [
      "100%|██████████| 9207/9207 [02:12<00:00, 69.68it/s]\n"
     ]
    },
    {
     "name": "stdout",
     "output_type": "stream",
     "text": [
      "train 0.005245892905506865\n"
     ]
    },
    {
     "name": "stderr",
     "output_type": "stream",
     "text": [
      "100%|██████████| 1728/1728 [00:07<00:00, 221.61it/s]\n"
     ]
    },
    {
     "name": "stdout",
     "output_type": "stream",
     "text": [
      "valid 0.005285588964393519\n"
     ]
    },
    {
     "name": "stderr",
     "output_type": "stream",
     "text": [
      "100%|██████████| 1591/1591 [00:18<00:00, 87.39it/s]\n"
     ]
    },
    {
     "name": "stdout",
     "output_type": "stream",
     "text": [
      "2 {'Accuracy@10': 0.2291011942174733, 'Accuracy@20': 0.2219987429289755, 'Accuracy@30': 0.21133459040435784, 'Accuracy@40': 0.20179132620993084, 'Accuracy@50': 0.19725958516656192}\n",
      "saved model to cache/model/movielens/attentive.pt\n"
     ]
    },
    {
     "name": "stderr",
     "output_type": "stream",
     "text": [
      "100%|██████████| 9207/9207 [02:13<00:00, 68.82it/s]\n"
     ]
    },
    {
     "name": "stdout",
     "output_type": "stream",
     "text": [
      "train 0.005195764757784257\n"
     ]
    },
    {
     "name": "stderr",
     "output_type": "stream",
     "text": [
      "100%|██████████| 1728/1728 [00:08<00:00, 203.20it/s]\n"
     ]
    },
    {
     "name": "stdout",
     "output_type": "stream",
     "text": [
      "valid 0.005240511717192916\n"
     ]
    },
    {
     "name": "stderr",
     "output_type": "stream",
     "text": [
      "100%|██████████| 1591/1591 [00:18<00:00, 85.10it/s]\n"
     ]
    },
    {
     "name": "stdout",
     "output_type": "stream",
     "text": [
      "3 {'Accuracy@10': 0.216781898177247, 'Accuracy@20': 0.21112507856693905, 'Accuracy@30': 0.20322648229624976, 'Accuracy@40': 0.20105279698302952, 'Accuracy@50': 0.19653048397234443}\n",
      "saved model to cache/model/movielens/attentive.pt\n"
     ]
    },
    {
     "name": "stderr",
     "output_type": "stream",
     "text": [
      "100%|██████████| 9207/9207 [02:13<00:00, 69.00it/s]\n"
     ]
    },
    {
     "name": "stdout",
     "output_type": "stream",
     "text": [
      "train 0.005169783614796783\n"
     ]
    },
    {
     "name": "stderr",
     "output_type": "stream",
     "text": [
      "100%|██████████| 1728/1728 [00:07<00:00, 228.30it/s]\n"
     ]
    },
    {
     "name": "stdout",
     "output_type": "stream",
     "text": [
      "valid 0.005212979322439619\n"
     ]
    },
    {
     "name": "stderr",
     "output_type": "stream",
     "text": [
      "100%|██████████| 1591/1591 [00:18<00:00, 86.35it/s]\n"
     ]
    },
    {
     "name": "stdout",
     "output_type": "stream",
     "text": [
      "4 {'Accuracy@10': 0.2049654305468259, 'Accuracy@20': 0.20628535512256443, 'Accuracy@30': 0.20408548082966688, 'Accuracy@40': 0.20003142677561284, 'Accuracy@50': 0.19485857950974228}\n",
      "saved model to cache/model/movielens/attentive.pt\n"
     ]
    },
    {
     "name": "stderr",
     "output_type": "stream",
     "text": [
      "100%|██████████| 9207/9207 [02:14<00:00, 68.45it/s]\n"
     ]
    },
    {
     "name": "stdout",
     "output_type": "stream",
     "text": [
      "train 0.005154692013815258\n"
     ]
    },
    {
     "name": "stderr",
     "output_type": "stream",
     "text": [
      "100%|██████████| 1728/1728 [00:07<00:00, 220.41it/s]\n"
     ]
    },
    {
     "name": "stdout",
     "output_type": "stream",
     "text": [
      "valid 0.0051951406723027786\n"
     ]
    },
    {
     "name": "stderr",
     "output_type": "stream",
     "text": [
      "100%|██████████| 1591/1591 [00:18<00:00, 84.49it/s]\n"
     ]
    },
    {
     "name": "stdout",
     "output_type": "stream",
     "text": [
      "5 {'Accuracy@10': 0.1783783783783784, 'Accuracy@20': 0.18623507228158392, 'Accuracy@30': 0.18931489629164047, 'Accuracy@40': 0.18984915147705844, 'Accuracy@50': 0.1891514770584538}\n",
      "saved model to cache/model/movielens/attentive.pt\n"
     ]
    },
    {
     "name": "stderr",
     "output_type": "stream",
     "text": [
      "100%|██████████| 9207/9207 [02:15<00:00, 67.96it/s]\n"
     ]
    },
    {
     "name": "stdout",
     "output_type": "stream",
     "text": [
      "train 0.00514530429834658\n"
     ]
    },
    {
     "name": "stderr",
     "output_type": "stream",
     "text": [
      "100%|██████████| 1728/1728 [00:07<00:00, 226.82it/s]\n"
     ]
    },
    {
     "name": "stdout",
     "output_type": "stream",
     "text": [
      "valid 0.005182970150254412\n"
     ]
    },
    {
     "name": "stderr",
     "output_type": "stream",
     "text": [
      "100%|██████████| 1591/1591 [00:18<00:00, 86.81it/s]\n"
     ]
    },
    {
     "name": "stdout",
     "output_type": "stream",
     "text": [
      "6 {'Accuracy@10': 0.15524827152734128, 'Accuracy@20': 0.1634820867379007, 'Accuracy@30': 0.16970458830923946, 'Accuracy@40': 0.17377435575109995, 'Accuracy@50': 0.17426775612822124}\n",
      "saved model to cache/model/movielens/attentive.pt\n"
     ]
    },
    {
     "name": "stderr",
     "output_type": "stream",
     "text": [
      "100%|██████████| 9207/9207 [02:11<00:00, 69.90it/s]\n"
     ]
    },
    {
     "name": "stdout",
     "output_type": "stream",
     "text": [
      "train 0.005138972968666648\n"
     ]
    },
    {
     "name": "stderr",
     "output_type": "stream",
     "text": [
      "100%|██████████| 1728/1728 [00:07<00:00, 225.58it/s]\n"
     ]
    },
    {
     "name": "stdout",
     "output_type": "stream",
     "text": [
      "valid 0.0051743415416119504\n"
     ]
    },
    {
     "name": "stderr",
     "output_type": "stream",
     "text": [
      "100%|██████████| 1591/1591 [00:18<00:00, 85.97it/s]\n"
     ]
    },
    {
     "name": "stdout",
     "output_type": "stream",
     "text": [
      "7 {'Accuracy@10': 0.14098051539912004, 'Accuracy@20': 0.1510370835952231, 'Accuracy@30': 0.15600251414204902, 'Accuracy@40': 0.1582338152105594, 'Accuracy@50': 0.15922061596480203}\n",
      "saved model to cache/model/movielens/attentive.pt\n"
     ]
    },
    {
     "name": "stderr",
     "output_type": "stream",
     "text": [
      "100%|██████████| 9207/9207 [02:14<00:00, 68.28it/s]\n"
     ]
    },
    {
     "name": "stdout",
     "output_type": "stream",
     "text": [
      "train 0.005134626922031849\n"
     ]
    },
    {
     "name": "stderr",
     "output_type": "stream",
     "text": [
      "100%|██████████| 1728/1728 [00:07<00:00, 222.73it/s]\n"
     ]
    },
    {
     "name": "stdout",
     "output_type": "stream",
     "text": [
      "valid 0.005167987868198879\n"
     ]
    },
    {
     "name": "stderr",
     "output_type": "stream",
     "text": [
      "100%|██████████| 1591/1591 [00:18<00:00, 86.17it/s]\n"
     ]
    },
    {
     "name": "stdout",
     "output_type": "stream",
     "text": [
      "8 {'Accuracy@10': 0.1288497800125707, 'Accuracy@20': 0.13598365807668134, 'Accuracy@30': 0.14177666038131154, 'Accuracy@40': 0.1449088623507228, 'Accuracy@50': 0.14633563796354493}\n",
      "saved model to cache/model/movielens/attentive.pt\n"
     ]
    },
    {
     "name": "stderr",
     "output_type": "stream",
     "text": [
      "100%|██████████| 9207/9207 [02:12<00:00, 69.63it/s]\n"
     ]
    },
    {
     "name": "stdout",
     "output_type": "stream",
     "text": [
      "train 0.005131513057243226\n"
     ]
    },
    {
     "name": "stderr",
     "output_type": "stream",
     "text": [
      "100%|██████████| 1728/1728 [00:07<00:00, 226.62it/s]\n"
     ]
    },
    {
     "name": "stdout",
     "output_type": "stream",
     "text": [
      "valid 0.00516326347439811\n"
     ]
    },
    {
     "name": "stderr",
     "output_type": "stream",
     "text": [
      "100%|██████████| 1591/1591 [00:18<00:00, 86.92it/s]\n"
     ]
    },
    {
     "name": "stdout",
     "output_type": "stream",
     "text": [
      "9 {'Accuracy@10': 0.11898177247014456, 'Accuracy@20': 0.12536140791954747, 'Accuracy@30': 0.13142677561282212, 'Accuracy@40': 0.1353394091766185, 'Accuracy@50': 0.1391326209930861}\n",
      "saved model to cache/model/movielens/attentive.pt\n",
      "ModelConfig(d_model=64, init_embedding_std=0.2, max_embedding_norm=1, window_size=5, negative_sample_size=5, lr=5e-05, weight_decay=1e-08, use_weight_tying=True, use_meta=False, use_attention=True)\n",
      "TrainerConfig(model_name='attentive', dataset_name='movielens', epochs=10, batch_size=64, verbose=False, ignore_saved_model=True, load_model=False, save_model=True, load_dataset=False, save_dataset=False, model_dir='cache/model/', dataset_dir='cache/dataset/', device='cpu')\n",
      "dataset_manager does not exist at: cache/dataset/movielens.pickle, create dataset\n",
      "num_seq: 6040, num_item: 3706, num_item_meta: 28, num_seq_meta: 30, num_item_meta_types: 3, num_seq_meta_types: 3\n",
      "to_sequential_data start\n",
      "to_sequential_data end\n",
      "train: 589192 valid: 110547\n"
     ]
    },
    {
     "name": "stderr",
     "output_type": "stream",
     "text": [
      "100%|██████████| 9207/9207 [02:12<00:00, 69.54it/s]\n"
     ]
    },
    {
     "name": "stdout",
     "output_type": "stream",
     "text": [
      "train 0.0057662060952429674\n"
     ]
    },
    {
     "name": "stderr",
     "output_type": "stream",
     "text": [
      "100%|██████████| 1728/1728 [00:07<00:00, 224.80it/s]\n"
     ]
    },
    {
     "name": "stdout",
     "output_type": "stream",
     "text": [
      "valid 0.005529311560584954\n"
     ]
    },
    {
     "name": "stderr",
     "output_type": "stream",
     "text": [
      "100%|██████████| 1591/1591 [00:18<00:00, 87.06it/s]\n"
     ]
    },
    {
     "name": "stdout",
     "output_type": "stream",
     "text": [
      "0 {'Accuracy@10': 0.22413576367064741, 'Accuracy@20': 0.2137649277184161, 'Accuracy@30': 0.2036036036036036, 'Accuracy@40': 0.19525455688246388, 'Accuracy@50': 0.18974230043997486}\n",
      "saved model to cache/model/movielens/attentive.pt\n"
     ]
    },
    {
     "name": "stderr",
     "output_type": "stream",
     "text": [
      "100%|██████████| 9207/9207 [02:12<00:00, 69.62it/s]\n"
     ]
    },
    {
     "name": "stdout",
     "output_type": "stream",
     "text": [
      "train 0.005355305577339723\n"
     ]
    },
    {
     "name": "stderr",
     "output_type": "stream",
     "text": [
      "100%|██████████| 1728/1728 [00:07<00:00, 225.02it/s]\n"
     ]
    },
    {
     "name": "stdout",
     "output_type": "stream",
     "text": [
      "valid 0.005365759268266529\n"
     ]
    },
    {
     "name": "stderr",
     "output_type": "stream",
     "text": [
      "100%|██████████| 1591/1591 [00:18<00:00, 85.67it/s]\n"
     ]
    },
    {
     "name": "stdout",
     "output_type": "stream",
     "text": [
      "1 {'Accuracy@10': 0.2279698302954117, 'Accuracy@20': 0.21841609050911376, 'Accuracy@30': 0.20838047349675257, 'Accuracy@40': 0.20106851037083598, 'Accuracy@50': 0.19518541797611566}\n",
      "saved model to cache/model/movielens/attentive.pt\n"
     ]
    },
    {
     "name": "stderr",
     "output_type": "stream",
     "text": [
      "100%|██████████| 9207/9207 [01:49<00:00, 83.85it/s]\n"
     ]
    },
    {
     "name": "stdout",
     "output_type": "stream",
     "text": [
      "train 0.0052447454372961675\n"
     ]
    },
    {
     "name": "stderr",
     "output_type": "stream",
     "text": [
      "100%|██████████| 1728/1728 [00:06<00:00, 267.95it/s]\n"
     ]
    },
    {
     "name": "stdout",
     "output_type": "stream",
     "text": [
      "valid 0.005285244323524647\n"
     ]
    },
    {
     "name": "stderr",
     "output_type": "stream",
     "text": [
      "100%|██████████| 1591/1591 [00:17<00:00, 91.39it/s]\n"
     ]
    },
    {
     "name": "stdout",
     "output_type": "stream",
     "text": [
      "2 {'Accuracy@10': 0.22432432432432434, 'Accuracy@20': 0.21923318667504713, 'Accuracy@30': 0.20963754452126543, 'Accuracy@40': 0.20204274041483344, 'Accuracy@50': 0.1951351351351351}\n",
      "saved model to cache/model/movielens/attentive.pt\n"
     ]
    },
    {
     "name": "stderr",
     "output_type": "stream",
     "text": [
      "100%|██████████| 9207/9207 [01:46<00:00, 86.14it/s]\n"
     ]
    },
    {
     "name": "stdout",
     "output_type": "stream",
     "text": [
      "train 0.005195276390261842\n"
     ]
    },
    {
     "name": "stderr",
     "output_type": "stream",
     "text": [
      "100%|██████████| 1728/1728 [00:06<00:00, 263.81it/s]\n"
     ]
    },
    {
     "name": "stdout",
     "output_type": "stream",
     "text": [
      "valid 0.0052402702565194255\n"
     ]
    },
    {
     "name": "stderr",
     "output_type": "stream",
     "text": [
      "100%|██████████| 1591/1591 [00:17<00:00, 90.95it/s]\n"
     ]
    },
    {
     "name": "stdout",
     "output_type": "stream",
     "text": [
      "3 {'Accuracy@10': 0.21508485229415464, 'Accuracy@20': 0.21297925832809553, 'Accuracy@30': 0.20481877226063272, 'Accuracy@40': 0.19949717159019484, 'Accuracy@50': 0.19522313010685102}\n",
      "saved model to cache/model/movielens/attentive.pt\n"
     ]
    },
    {
     "name": "stderr",
     "output_type": "stream",
     "text": [
      "100%|██████████| 9207/9207 [01:48<00:00, 84.87it/s]\n"
     ]
    },
    {
     "name": "stdout",
     "output_type": "stream",
     "text": [
      "train 0.005169535554748017\n"
     ]
    },
    {
     "name": "stderr",
     "output_type": "stream",
     "text": [
      "100%|██████████| 1728/1728 [00:06<00:00, 268.07it/s]\n"
     ]
    },
    {
     "name": "stdout",
     "output_type": "stream",
     "text": [
      "valid 0.0052129847441854844\n"
     ]
    },
    {
     "name": "stderr",
     "output_type": "stream",
     "text": [
      "100%|██████████| 1591/1591 [00:17<00:00, 91.08it/s]\n"
     ]
    },
    {
     "name": "stdout",
     "output_type": "stream",
     "text": [
      "4 {'Accuracy@10': 0.19698302954116909, 'Accuracy@20': 0.20414833438089253, 'Accuracy@30': 0.20201131363922062, 'Accuracy@40': 0.19797297297297298, 'Accuracy@50': 0.19323695788812068}\n",
      "saved model to cache/model/movielens/attentive.pt\n"
     ]
    },
    {
     "name": "stderr",
     "output_type": "stream",
     "text": [
      "100%|██████████| 9207/9207 [01:46<00:00, 86.24it/s]\n"
     ]
    },
    {
     "name": "stdout",
     "output_type": "stream",
     "text": [
      "train 0.005154600974327726\n"
     ]
    },
    {
     "name": "stderr",
     "output_type": "stream",
     "text": [
      "100%|██████████| 1728/1728 [00:06<00:00, 266.81it/s]\n"
     ]
    },
    {
     "name": "stdout",
     "output_type": "stream",
     "text": [
      "valid 0.005195153057732692\n"
     ]
    },
    {
     "name": "stderr",
     "output_type": "stream",
     "text": [
      "100%|██████████| 1591/1591 [00:17<00:00, 90.23it/s]\n"
     ]
    },
    {
     "name": "stdout",
     "output_type": "stream",
     "text": [
      "5 {'Accuracy@10': 0.1769956002514142, 'Accuracy@20': 0.1836580766813325, 'Accuracy@30': 0.188162581185837, 'Accuracy@40': 0.18874921433060968, 'Accuracy@50': 0.18839723444374606}\n",
      "saved model to cache/model/movielens/attentive.pt\n"
     ]
    },
    {
     "name": "stderr",
     "output_type": "stream",
     "text": [
      "100%|██████████| 9207/9207 [01:47<00:00, 85.89it/s]\n"
     ]
    },
    {
     "name": "stdout",
     "output_type": "stream",
     "text": [
      "train 0.005145197177435902\n"
     ]
    },
    {
     "name": "stderr",
     "output_type": "stream",
     "text": [
      "100%|██████████| 1728/1728 [00:06<00:00, 267.69it/s]\n"
     ]
    },
    {
     "name": "stdout",
     "output_type": "stream",
     "text": [
      "valid 0.0051830499189921666\n"
     ]
    },
    {
     "name": "stderr",
     "output_type": "stream",
     "text": [
      "100%|██████████| 1591/1591 [00:17<00:00, 91.28it/s]\n"
     ]
    },
    {
     "name": "stdout",
     "output_type": "stream",
     "text": [
      "6 {'Accuracy@10': 0.15688246385920807, 'Accuracy@20': 0.16693903205531113, 'Accuracy@30': 0.17083595223130107, 'Accuracy@40': 0.1708830923947203, 'Accuracy@50': 0.16935260842237587}\n",
      "saved model to cache/model/movielens/attentive.pt\n"
     ]
    },
    {
     "name": "stderr",
     "output_type": "stream",
     "text": [
      "100%|██████████| 9207/9207 [01:46<00:00, 86.44it/s]\n"
     ]
    },
    {
     "name": "stdout",
     "output_type": "stream",
     "text": [
      "train 0.005138940443133584\n"
     ]
    },
    {
     "name": "stderr",
     "output_type": "stream",
     "text": [
      "100%|██████████| 1728/1728 [00:06<00:00, 269.02it/s]\n"
     ]
    },
    {
     "name": "stdout",
     "output_type": "stream",
     "text": [
      "valid 0.005174514739086906\n"
     ]
    },
    {
     "name": "stderr",
     "output_type": "stream",
     "text": [
      "100%|██████████| 1591/1591 [00:17<00:00, 91.11it/s]\n"
     ]
    },
    {
     "name": "stdout",
     "output_type": "stream",
     "text": [
      "7 {'Accuracy@10': 0.14154619736015084, 'Accuracy@20': 0.1504085480829667, 'Accuracy@30': 0.15449402891263359, 'Accuracy@40': 0.1587837837837838, 'Accuracy@50': 0.1609679446888749}\n",
      "saved model to cache/model/movielens/attentive.pt\n"
     ]
    },
    {
     "name": "stderr",
     "output_type": "stream",
     "text": [
      "100%|██████████| 9207/9207 [01:46<00:00, 86.20it/s]\n"
     ]
    },
    {
     "name": "stdout",
     "output_type": "stream",
     "text": [
      "train 0.005134623916703365\n"
     ]
    },
    {
     "name": "stderr",
     "output_type": "stream",
     "text": [
      "100%|██████████| 1728/1728 [00:06<00:00, 266.18it/s]\n"
     ]
    },
    {
     "name": "stdout",
     "output_type": "stream",
     "text": [
      "valid 0.005168109286831909\n"
     ]
    },
    {
     "name": "stderr",
     "output_type": "stream",
     "text": [
      "100%|██████████| 1591/1591 [00:17<00:00, 92.17it/s]\n"
     ]
    },
    {
     "name": "stdout",
     "output_type": "stream",
     "text": [
      "8 {'Accuracy@10': 0.12809553739786297, 'Accuracy@20': 0.13598365807668134, 'Accuracy@30': 0.14095956421537817, 'Accuracy@40': 0.14385606536769327, 'Accuracy@50': 0.1464864864864865}\n",
      "saved model to cache/model/movielens/attentive.pt\n"
     ]
    },
    {
     "name": "stderr",
     "output_type": "stream",
     "text": [
      "100%|██████████| 9207/9207 [01:47<00:00, 85.89it/s]\n"
     ]
    },
    {
     "name": "stdout",
     "output_type": "stream",
     "text": [
      "train 0.005131537977733917\n"
     ]
    },
    {
     "name": "stderr",
     "output_type": "stream",
     "text": [
      "100%|██████████| 1728/1728 [00:06<00:00, 268.33it/s]\n"
     ]
    },
    {
     "name": "stdout",
     "output_type": "stream",
     "text": [
      "valid 0.005163341108196558\n"
     ]
    },
    {
     "name": "stderr",
     "output_type": "stream",
     "text": [
      "100%|██████████| 1591/1591 [00:17<00:00, 90.97it/s]"
     ]
    },
    {
     "name": "stdout",
     "output_type": "stream",
     "text": [
      "9 {'Accuracy@10': 0.11942174732872408, 'Accuracy@20': 0.12928975487115021, 'Accuracy@30': 0.13440184370416927, 'Accuracy@40': 0.13845065996228786, 'Accuracy@50': 0.14037712130735386}\n",
      "saved model to cache/model/movielens/attentive.pt\n"
     ]
    },
    {
     "name": "stderr",
     "output_type": "stream",
     "text": [
      "\n"
     ]
    }
   ],
   "source": [
    "with open(\"result-2.json\", \"r\") as f:\n",
    "    results = json.load(f)\n",
    "\n",
    "for run_config in run_configs:\n",
    "    results[run_config[\"name\"]] = {\"accuracy\": []}\n",
    "    model_config = ModelConfig(\n",
    "        weight_decay=1e-8,\n",
    "        max_embedding_norm=1,\n",
    "        d_model=run_config[\"d_model\"],\n",
    "        lr=5e-5,\n",
    "        use_attention=run_config[\"use_attention\"],\n",
    "        use_meta=run_config[\"use_meta\"],\n",
    "        use_weight_tying=run_config[\"use_weight_tying\"],\n",
    "    )\n",
    "    trainer_config = TrainerConfig(\n",
    "        dataset_name=\"movielens\",\n",
    "        model_name=run_config[\"model_name\"],\n",
    "        load_dataset=False,\n",
    "        save_dataset=False,\n",
    "        load_model=False,\n",
    "        ignore_saved_model=True,\n",
    "        epochs=run_config[\"epochs\"],\n",
    "    )\n",
    "\n",
    "    print(model_config)\n",
    "    print(trainer_config)\n",
    "\n",
    "    dataset_manager = load_dataset_manager(\n",
    "        dataset_name=trainer_config.dataset_name,\n",
    "        dataset_dir=trainer_config.dataset_dir,\n",
    "        data_dir=\"../data/\",\n",
    "        load_dataset=trainer_config.load_dataset,\n",
    "        save_dataset=trainer_config.save_dataset,\n",
    "        window_size=model_config.window_size,\n",
    "    )\n",
    "    print(\n",
    "        \"train:\",\n",
    "        len(dataset_manager.train_dataset),\n",
    "        \"valid:\",\n",
    "        len(dataset_manager.valid_dataset),\n",
    "    )\n",
    "    model = load_model(\n",
    "        dataset_manager=dataset_manager,\n",
    "        trainer_config=trainer_config,\n",
    "        model_config=model_config,\n",
    "    )\n",
    "    trainer = PyTorchTrainer(\n",
    "        model=model,\n",
    "        dataset_manager=dataset_manager,\n",
    "        trainer_config=trainer_config,\n",
    "        model_config=model_config,\n",
    "    )\n",
    "\n",
    "    def on_epoch_end(epoch: int):\n",
    "        result = calc_accuracy(\n",
    "            model=model,\n",
    "            num_item=dataset_manager.num_item,\n",
    "            test_dataset=dataset_manager.test_datasets[\"test\"],\n",
    "            top_k=[10, 20, 30, 40, 50],\n",
    "        )\n",
    "        print(epoch, result)\n",
    "        results[run_config[\"name\"]][\"accuracy\"].append(result)\n",
    "        torch.save(model, f\"cache/model/movielens-2/{run_config['name']}-{epoch}.pt\")\n",
    "\n",
    "    losses = trainer.fit(on_epoch_end=on_epoch_end)\n",
    "    results[run_config[\"name\"]][\"loss\"] = losses\n",
    "\n",
    "    with open(\"result-3.json\", \"w\") as f:\n",
    "        json.dump(results, f)"
   ]
  },
  {
   "cell_type": "code",
   "execution_count": 34,
   "metadata": {},
   "outputs": [
    {
     "name": "stdout",
     "output_type": "stream",
     "text": [
      "User2Vec (d=16), 0.16983\n",
      "User2Vec (d=32), 0.17639\n",
      "User2Vec (d=64), 0.18965\n",
      "AU2V (wo weight-tieing), 0.19933\n",
      "AU2V (d=16), 0.20616\n",
      "AU2V (d=32), 0.20943\n",
      "AU2V (d=64), 0.21272\n",
      "AU2V (wo weight-tying), 0.21045\n",
      "AU2V (wo attention), 0.21154\n",
      "AU2V (wo meta), 0.20964\n"
     ]
    }
   ],
   "source": [
    "for method, result in results.items():\n",
    "    a = max(map(lambda r: r[\"Accuracy@30\"], result[\"accuracy\"]))\n",
    "    print(f\"{method}, {a:.5}\")"
   ]
  }
 ],
 "metadata": {
  "kernelspec": {
   "display_name": ".venv",
   "language": "python",
   "name": "python3"
  },
  "language_info": {
   "codemirror_mode": {
    "name": "ipython",
    "version": 3
   },
   "file_extension": ".py",
   "mimetype": "text/x-python",
   "name": "python",
   "nbconvert_exporter": "python",
   "pygments_lexer": "ipython3",
   "version": "3.11.6"
  }
 },
 "nbformat": 4,
 "nbformat_minor": 2
}
