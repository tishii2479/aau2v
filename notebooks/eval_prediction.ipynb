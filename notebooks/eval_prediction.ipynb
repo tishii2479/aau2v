{
 "cells": [
  {
   "cell_type": "code",
   "execution_count": 1,
   "metadata": {},
   "outputs": [],
   "source": [
    "from pathlib import Path\n",
    "import torch\n",
    "import json\n",
    "import tqdm\n",
    "\n",
    "from au2v.config import ModelConfig, TrainerConfig\n",
    "from au2v.dataset_manager import load_dataset_manager\n",
    "from au2v.trainer import PyTorchTrainer\n",
    "from au2v.model import load_model, PyTorchModel"
   ]
  },
  {
   "cell_type": "code",
   "execution_count": 2,
   "metadata": {},
   "outputs": [],
   "source": [
    "def calc_accuracy(\n",
    "    model: PyTorchModel,\n",
    "    num_item: int,\n",
    "    test_dataset: list[tuple[int, list[int], list[int]]],\n",
    "    top_k: list[int],\n",
    ") -> dict[str, float]:\n",
    "    hit_counts = {k: 0 for k in top_k}\n",
    "    for seq_index, context_items, target_indices in tqdm.tqdm(test_dataset):\n",
    "        rec_list = model.output_rec_lists(\n",
    "            seq_index=torch.LongTensor([seq_index]),\n",
    "            item_indices=torch.LongTensor([context_items]),\n",
    "            cand_item_indices=torch.arange(num_item),\n",
    "            k=max(top_k),\n",
    "        )\n",
    "        for k in top_k:\n",
    "            hit_counts[k] += len(set(target_indices) & set(rec_list[0][:k]))\n",
    "\n",
    "    total_rec = len(test_dataset)\n",
    "    results = {\n",
    "        f\"Accuracy@{k}\": hit_count / total_rec / k\n",
    "        for k, hit_count in hit_counts.items()\n",
    "    }\n",
    "    return results"
   ]
  },
  {
   "cell_type": "code",
   "execution_count": 3,
   "metadata": {},
   "outputs": [],
   "source": [
    "run_configs = [\n",
    "    {\n",
    "        \"name\": \"User2Vec (d=16)\",\n",
    "        \"model_name\": \"doc2vec\",\n",
    "        \"d_model\": 16,\n",
    "        \"epochs\": 10,\n",
    "    },\n",
    "    {\n",
    "        \"name\": \"User2Vec (d=32)\",\n",
    "        \"model_name\": \"doc2vec\",\n",
    "        \"d_model\": 32,\n",
    "        \"epochs\": 10,\n",
    "    },\n",
    "    {\n",
    "        \"name\": \"User2Vec (d=64)\",\n",
    "        \"model_name\": \"doc2vec\",\n",
    "        \"d_model\": 64,\n",
    "        \"epochs\": 10,\n",
    "    },\n",
    "    {\n",
    "        \"name\": \"AU2V (wo weight-tieing)\",\n",
    "        \"model_name\": \"old-attentive\",\n",
    "        \"d_model\": 64,\n",
    "        \"epochs\": 10,\n",
    "    },\n",
    "    {\n",
    "        \"name\": \"AU2V (d=16)\",\n",
    "        \"model_name\": \"attentive\",\n",
    "        \"d_model\": 16,\n",
    "        \"epochs\": 10,\n",
    "    },\n",
    "    {\n",
    "        \"name\": \"AU2V (d=32)\",\n",
    "        \"model_name\": \"attentive\",\n",
    "        \"d_model\": 32,\n",
    "        \"epochs\": 10,\n",
    "    },\n",
    "    {\n",
    "        \"name\": \"AU2V (d=64)\",\n",
    "        \"model_name\": \"attentive\",\n",
    "        \"d_model\": 64,\n",
    "        \"epochs\": 10,\n",
    "    },\n",
    "]"
   ]
  },
  {
   "cell_type": "code",
   "execution_count": 4,
   "metadata": {},
   "outputs": [
    {
     "name": "stdout",
     "output_type": "stream",
     "text": [
      "ModelConfig(d_model=16, init_embedding_std=0.2, max_embedding_norm=1, window_size=5, negative_sample_size=5, lr=5e-05, weight_decay=1e-08)\n",
      "TrainerConfig(model_name='doc2vec', dataset_name='movielens', epochs=10, batch_size=64, verbose=False, ignore_saved_model=True, load_model=False, save_model=True, load_dataset=False, save_dataset=False, model_dir='cache/model/', dataset_dir='cache/dataset/', device='cpu')\n",
      "dataset_manager does not exist at: cache/dataset/movielens.pickle, create dataset\n",
      "num_seq: 6040, num_item: 3706, num_item_meta: 28, num_seq_meta: 30, num_item_meta_types: 3, num_seq_meta_types: 3\n",
      "to_sequential_data start\n",
      "to_sequential_data end\n",
      "train: 589192 valid: 110547\n"
     ]
    },
    {
     "name": "stderr",
     "output_type": "stream",
     "text": [
      "100%|██████████| 9207/9207 [00:30<00:00, 299.45it/s]\n"
     ]
    },
    {
     "name": "stdout",
     "output_type": "stream",
     "text": [
      "train 0.006540099319262365\n"
     ]
    },
    {
     "name": "stderr",
     "output_type": "stream",
     "text": [
      "100%|██████████| 1728/1728 [00:00<00:00, 2018.33it/s]\n"
     ]
    },
    {
     "name": "stdout",
     "output_type": "stream",
     "text": [
      "valid 0.0065346670529819175\n"
     ]
    },
    {
     "name": "stderr",
     "output_type": "stream",
     "text": [
      "100%|██████████| 1591/1591 [00:07<00:00, 201.75it/s]\n"
     ]
    },
    {
     "name": "stdout",
     "output_type": "stream",
     "text": [
      "0 {'Accuracy@10': 0.03852922690131992, 'Accuracy@20': 0.04000628535512256, 'Accuracy@30': 0.03890634820867379, 'Accuracy@40': 0.03857636706473916, 'Accuracy@50': 0.03847894406033941}\n",
      "saved model to cache/model/movielens/doc2vec.pt\n"
     ]
    },
    {
     "name": "stderr",
     "output_type": "stream",
     "text": [
      "100%|██████████| 9207/9207 [00:33<00:00, 273.33it/s]\n"
     ]
    },
    {
     "name": "stdout",
     "output_type": "stream",
     "text": [
      "train 0.00646584888245897\n"
     ]
    },
    {
     "name": "stderr",
     "output_type": "stream",
     "text": [
      "100%|██████████| 1728/1728 [00:00<00:00, 1900.94it/s]\n"
     ]
    },
    {
     "name": "stdout",
     "output_type": "stream",
     "text": [
      "valid 0.00648490777738968\n"
     ]
    },
    {
     "name": "stderr",
     "output_type": "stream",
     "text": [
      "100%|██████████| 1591/1591 [00:07<00:00, 204.71it/s]\n"
     ]
    },
    {
     "name": "stdout",
     "output_type": "stream",
     "text": [
      "1 {'Accuracy@10': 0.046825895663104966, 'Accuracy@20': 0.047705845380263984, 'Accuracy@30': 0.04663733500942803, 'Accuracy@40': 0.046024512884978004, 'Accuracy@50': 0.04519170333123822}\n",
      "saved model to cache/model/movielens/doc2vec.pt\n"
     ]
    },
    {
     "name": "stderr",
     "output_type": "stream",
     "text": [
      "100%|██████████| 9207/9207 [00:31<00:00, 295.51it/s]\n"
     ]
    },
    {
     "name": "stdout",
     "output_type": "stream",
     "text": [
      "train 0.006372832874730562\n"
     ]
    },
    {
     "name": "stderr",
     "output_type": "stream",
     "text": [
      "100%|██████████| 1728/1728 [00:00<00:00, 2002.16it/s]\n"
     ]
    },
    {
     "name": "stdout",
     "output_type": "stream",
     "text": [
      "valid 0.006419966505951964\n"
     ]
    },
    {
     "name": "stderr",
     "output_type": "stream",
     "text": [
      "100%|██████████| 1591/1591 [00:07<00:00, 205.06it/s]\n"
     ]
    },
    {
     "name": "stdout",
     "output_type": "stream",
     "text": [
      "2 {'Accuracy@10': 0.06524198617221874, 'Accuracy@20': 0.06247642991829039, 'Accuracy@30': 0.06077938403519799, 'Accuracy@40': 0.05969516027655562, 'Accuracy@50': 0.058466373350094275}\n",
      "saved model to cache/model/movielens/doc2vec.pt\n"
     ]
    },
    {
     "name": "stderr",
     "output_type": "stream",
     "text": [
      "100%|██████████| 9207/9207 [00:31<00:00, 295.53it/s]\n"
     ]
    },
    {
     "name": "stdout",
     "output_type": "stream",
     "text": [
      "train 0.006237834981705682\n"
     ]
    },
    {
     "name": "stderr",
     "output_type": "stream",
     "text": [
      "100%|██████████| 1728/1728 [00:00<00:00, 1992.92it/s]\n"
     ]
    },
    {
     "name": "stdout",
     "output_type": "stream",
     "text": [
      "valid 0.006325418097662875\n"
     ]
    },
    {
     "name": "stderr",
     "output_type": "stream",
     "text": [
      "100%|██████████| 1591/1591 [00:07<00:00, 205.05it/s]\n"
     ]
    },
    {
     "name": "stdout",
     "output_type": "stream",
     "text": [
      "3 {'Accuracy@10': 0.09566310496543054, 'Accuracy@20': 0.09010056568196104, 'Accuracy@30': 0.0868217054263566, 'Accuracy@40': 0.08428661219358893, 'Accuracy@50': 0.08203645505971087}\n",
      "saved model to cache/model/movielens/doc2vec.pt\n"
     ]
    },
    {
     "name": "stderr",
     "output_type": "stream",
     "text": [
      "100%|██████████| 9207/9207 [00:31<00:00, 291.93it/s]\n"
     ]
    },
    {
     "name": "stdout",
     "output_type": "stream",
     "text": [
      "train 0.0060455896867882405\n"
     ]
    },
    {
     "name": "stderr",
     "output_type": "stream",
     "text": [
      "100%|██████████| 1728/1728 [00:00<00:00, 1999.32it/s]\n"
     ]
    },
    {
     "name": "stdout",
     "output_type": "stream",
     "text": [
      "valid 0.006192470902329901\n"
     ]
    },
    {
     "name": "stderr",
     "output_type": "stream",
     "text": [
      "100%|██████████| 1591/1591 [00:07<00:00, 204.22it/s]\n"
     ]
    },
    {
     "name": "stdout",
     "output_type": "stream",
     "text": [
      "4 {'Accuracy@10': 0.1284098051539912, 'Accuracy@20': 0.12545568824638592, 'Accuracy@30': 0.12250157133878065, 'Accuracy@40': 0.11972030169704588, 'Accuracy@50': 0.115512256442489}\n",
      "saved model to cache/model/movielens/doc2vec.pt\n"
     ]
    },
    {
     "name": "stderr",
     "output_type": "stream",
     "text": [
      "100%|██████████| 9207/9207 [00:29<00:00, 309.08it/s]\n"
     ]
    },
    {
     "name": "stdout",
     "output_type": "stream",
     "text": [
      "train 0.005799310966228444\n"
     ]
    },
    {
     "name": "stderr",
     "output_type": "stream",
     "text": [
      "100%|██████████| 1728/1728 [00:00<00:00, 2002.08it/s]\n"
     ]
    },
    {
     "name": "stdout",
     "output_type": "stream",
     "text": [
      "valid 0.006023476581664172\n"
     ]
    },
    {
     "name": "stderr",
     "output_type": "stream",
     "text": [
      "100%|██████████| 1591/1591 [00:07<00:00, 204.65it/s]\n"
     ]
    },
    {
     "name": "stdout",
     "output_type": "stream",
     "text": [
      "5 {'Accuracy@10': 0.15084852294154621, 'Accuracy@20': 0.1511627906976744, 'Accuracy@30': 0.14766394301278024, 'Accuracy@40': 0.14424890006285357, 'Accuracy@50': 0.1414330609679447}\n",
      "saved model to cache/model/movielens/doc2vec.pt\n"
     ]
    },
    {
     "name": "stderr",
     "output_type": "stream",
     "text": [
      "100%|██████████| 9207/9207 [00:29<00:00, 307.58it/s]\n"
     ]
    },
    {
     "name": "stdout",
     "output_type": "stream",
     "text": [
      "train 0.005524060666709621\n"
     ]
    },
    {
     "name": "stderr",
     "output_type": "stream",
     "text": [
      "100%|██████████| 1728/1728 [00:00<00:00, 2006.59it/s]\n"
     ]
    },
    {
     "name": "stdout",
     "output_type": "stream",
     "text": [
      "valid 0.005831384356551959\n"
     ]
    },
    {
     "name": "stderr",
     "output_type": "stream",
     "text": [
      "100%|██████████| 1591/1591 [00:07<00:00, 205.30it/s]\n"
     ]
    },
    {
     "name": "stdout",
     "output_type": "stream",
     "text": [
      "6 {'Accuracy@10': 0.16153362664990573, 'Accuracy@20': 0.16169076052796982, 'Accuracy@30': 0.1587261680284936, 'Accuracy@40': 0.15645820238843494, 'Accuracy@50': 0.1523695788812068}\n",
      "saved model to cache/model/movielens/doc2vec.pt\n"
     ]
    },
    {
     "name": "stderr",
     "output_type": "stream",
     "text": [
      "100%|██████████| 9207/9207 [00:31<00:00, 291.17it/s]\n"
     ]
    },
    {
     "name": "stdout",
     "output_type": "stream",
     "text": [
      "train 0.005247612163546685\n"
     ]
    },
    {
     "name": "stderr",
     "output_type": "stream",
     "text": [
      "100%|██████████| 1728/1728 [00:00<00:00, 1994.46it/s]\n"
     ]
    },
    {
     "name": "stdout",
     "output_type": "stream",
     "text": [
      "valid 0.005631012455170131\n"
     ]
    },
    {
     "name": "stderr",
     "output_type": "stream",
     "text": [
      "100%|██████████| 1591/1591 [00:07<00:00, 202.92it/s]\n"
     ]
    },
    {
     "name": "stdout",
     "output_type": "stream",
     "text": [
      "7 {'Accuracy@10': 0.1676304211187932, 'Accuracy@20': 0.1671904462602137, 'Accuracy@30': 0.1635658914728682, 'Accuracy@40': 0.1616750471401634, 'Accuracy@50': 0.1580892520427404}\n",
      "saved model to cache/model/movielens/doc2vec.pt\n"
     ]
    },
    {
     "name": "stderr",
     "output_type": "stream",
     "text": [
      "100%|██████████| 9207/9207 [00:29<00:00, 307.00it/s]\n"
     ]
    },
    {
     "name": "stdout",
     "output_type": "stream",
     "text": [
      "train 0.004992518456939228\n"
     ]
    },
    {
     "name": "stderr",
     "output_type": "stream",
     "text": [
      "100%|██████████| 1728/1728 [00:00<00:00, 1993.68it/s]\n"
     ]
    },
    {
     "name": "stdout",
     "output_type": "stream",
     "text": [
      "valid 0.005437349491869265\n"
     ]
    },
    {
     "name": "stderr",
     "output_type": "stream",
     "text": [
      "100%|██████████| 1591/1591 [00:07<00:00, 207.85it/s]\n"
     ]
    },
    {
     "name": "stdout",
     "output_type": "stream",
     "text": [
      "8 {'Accuracy@10': 0.17203016970458831, 'Accuracy@20': 0.171024512884978, 'Accuracy@30': 0.16710664152524618, 'Accuracy@40': 0.16422061596480203, 'Accuracy@50': 0.16077938403519798}\n",
      "saved model to cache/model/movielens/doc2vec.pt\n"
     ]
    },
    {
     "name": "stderr",
     "output_type": "stream",
     "text": [
      "100%|██████████| 9207/9207 [00:30<00:00, 306.27it/s]\n"
     ]
    },
    {
     "name": "stdout",
     "output_type": "stream",
     "text": [
      "train 0.0047685659741993945\n"
     ]
    },
    {
     "name": "stderr",
     "output_type": "stream",
     "text": [
      "100%|██████████| 1728/1728 [00:00<00:00, 2001.86it/s]\n"
     ]
    },
    {
     "name": "stdout",
     "output_type": "stream",
     "text": [
      "valid 0.0052559698888093144\n"
     ]
    },
    {
     "name": "stderr",
     "output_type": "stream",
     "text": [
      "100%|██████████| 1591/1591 [00:07<00:00, 207.33it/s]\n"
     ]
    },
    {
     "name": "stdout",
     "output_type": "stream",
     "text": [
      "9 {'Accuracy@10': 0.1759899434318039, 'Accuracy@20': 0.17463859208045254, 'Accuracy@30': 0.16983029541169076, 'Accuracy@40': 0.16645191703331239, 'Accuracy@50': 0.16297925832809554}\n",
      "saved model to cache/model/movielens/doc2vec.pt\n",
      "ModelConfig(d_model=32, init_embedding_std=0.2, max_embedding_norm=1, window_size=5, negative_sample_size=5, lr=5e-05, weight_decay=1e-08)\n",
      "TrainerConfig(model_name='doc2vec', dataset_name='movielens', epochs=10, batch_size=64, verbose=False, ignore_saved_model=True, load_model=False, save_model=True, load_dataset=False, save_dataset=False, model_dir='cache/model/', dataset_dir='cache/dataset/', device='cpu')\n",
      "dataset_manager does not exist at: cache/dataset/movielens.pickle, create dataset\n",
      "num_seq: 6040, num_item: 3706, num_item_meta: 28, num_seq_meta: 30, num_item_meta_types: 3, num_seq_meta_types: 3\n",
      "to_sequential_data start\n",
      "to_sequential_data end\n",
      "train: 589192 valid: 110547\n"
     ]
    },
    {
     "name": "stderr",
     "output_type": "stream",
     "text": [
      "100%|██████████| 9207/9207 [00:39<00:00, 231.28it/s]\n"
     ]
    },
    {
     "name": "stdout",
     "output_type": "stream",
     "text": [
      "train 0.006548665888820734\n"
     ]
    },
    {
     "name": "stderr",
     "output_type": "stream",
     "text": [
      "100%|██████████| 1728/1728 [00:00<00:00, 1970.78it/s]\n"
     ]
    },
    {
     "name": "stdout",
     "output_type": "stream",
     "text": [
      "valid 0.006525090216210719\n"
     ]
    },
    {
     "name": "stderr",
     "output_type": "stream",
     "text": [
      "100%|██████████| 1591/1591 [00:07<00:00, 202.26it/s]\n"
     ]
    },
    {
     "name": "stdout",
     "output_type": "stream",
     "text": [
      "0 {'Accuracy@10': 0.03632935260842238, 'Accuracy@20': 0.0366436203645506, 'Accuracy@30': 0.03685313220196941, 'Accuracy@40': 0.036517913262099314, 'Accuracy@50': 0.03641734758013828}\n",
      "saved model to cache/model/movielens/doc2vec.pt\n"
     ]
    },
    {
     "name": "stderr",
     "output_type": "stream",
     "text": [
      "100%|██████████| 9207/9207 [00:39<00:00, 230.77it/s]\n"
     ]
    },
    {
     "name": "stdout",
     "output_type": "stream",
     "text": [
      "train 0.006392471027387863\n"
     ]
    },
    {
     "name": "stderr",
     "output_type": "stream",
     "text": [
      "100%|██████████| 1728/1728 [00:00<00:00, 1963.34it/s]\n"
     ]
    },
    {
     "name": "stdout",
     "output_type": "stream",
     "text": [
      "valid 0.006422828610219432\n"
     ]
    },
    {
     "name": "stderr",
     "output_type": "stream",
     "text": [
      "100%|██████████| 1591/1591 [00:07<00:00, 204.97it/s]\n"
     ]
    },
    {
     "name": "stdout",
     "output_type": "stream",
     "text": [
      "1 {'Accuracy@10': 0.047705845380263984, 'Accuracy@20': 0.04789440603394092, 'Accuracy@30': 0.04749633354284517, 'Accuracy@40': 0.046873035826524204, 'Accuracy@50': 0.046838466373350096}\n",
      "saved model to cache/model/movielens/doc2vec.pt\n"
     ]
    },
    {
     "name": "stderr",
     "output_type": "stream",
     "text": [
      "100%|██████████| 9207/9207 [00:39<00:00, 231.19it/s]\n"
     ]
    },
    {
     "name": "stdout",
     "output_type": "stream",
     "text": [
      "train 0.006197787068961863\n"
     ]
    },
    {
     "name": "stderr",
     "output_type": "stream",
     "text": [
      "100%|██████████| 1728/1728 [00:00<00:00, 1958.06it/s]\n"
     ]
    },
    {
     "name": "stdout",
     "output_type": "stream",
     "text": [
      "valid 0.00628579503794737\n"
     ]
    },
    {
     "name": "stderr",
     "output_type": "stream",
     "text": [
      "100%|██████████| 1591/1591 [00:07<00:00, 201.79it/s]\n"
     ]
    },
    {
     "name": "stdout",
     "output_type": "stream",
     "text": [
      "2 {'Accuracy@10': 0.07096165933375236, 'Accuracy@20': 0.07237586423632936, 'Accuracy@30': 0.07211397443955583, 'Accuracy@40': 0.07138592080452547, 'Accuracy@50': 0.06998114393463231}\n",
      "saved model to cache/model/movielens/doc2vec.pt\n"
     ]
    },
    {
     "name": "stderr",
     "output_type": "stream",
     "text": [
      "100%|██████████| 9207/9207 [00:40<00:00, 230.01it/s]\n"
     ]
    },
    {
     "name": "stdout",
     "output_type": "stream",
     "text": [
      "train 0.005933968658709036\n"
     ]
    },
    {
     "name": "stderr",
     "output_type": "stream",
     "text": [
      "100%|██████████| 1728/1728 [00:00<00:00, 1962.18it/s]\n"
     ]
    },
    {
     "name": "stdout",
     "output_type": "stream",
     "text": [
      "valid 0.006097118989947766\n"
     ]
    },
    {
     "name": "stderr",
     "output_type": "stream",
     "text": [
      "100%|██████████| 1591/1591 [00:07<00:00, 203.47it/s]\n"
     ]
    },
    {
     "name": "stdout",
     "output_type": "stream",
     "text": [
      "3 {'Accuracy@10': 0.11307353865493401, 'Accuracy@20': 0.11304211187932119, 'Accuracy@30': 0.11164885816048606, 'Accuracy@40': 0.10804525455688245, 'Accuracy@50': 0.10564424890006284}\n",
      "saved model to cache/model/movielens/doc2vec.pt\n"
     ]
    },
    {
     "name": "stderr",
     "output_type": "stream",
     "text": [
      "100%|██████████| 9207/9207 [00:40<00:00, 227.61it/s]\n"
     ]
    },
    {
     "name": "stdout",
     "output_type": "stream",
     "text": [
      "train 0.005603762437447144\n"
     ]
    },
    {
     "name": "stderr",
     "output_type": "stream",
     "text": [
      "100%|██████████| 1728/1728 [00:00<00:00, 1935.51it/s]\n"
     ]
    },
    {
     "name": "stdout",
     "output_type": "stream",
     "text": [
      "valid 0.005861232078287569\n"
     ]
    },
    {
     "name": "stderr",
     "output_type": "stream",
     "text": [
      "100%|██████████| 1591/1591 [00:07<00:00, 201.86it/s]\n"
     ]
    },
    {
     "name": "stdout",
     "output_type": "stream",
     "text": [
      "4 {'Accuracy@10': 0.14563167818981773, 'Accuracy@20': 0.14481458202388436, 'Accuracy@30': 0.14387177875549967, 'Accuracy@40': 0.14098051539912004, 'Accuracy@50': 0.13627906976744186}\n",
      "saved model to cache/model/movielens/doc2vec.pt\n"
     ]
    },
    {
     "name": "stderr",
     "output_type": "stream",
     "text": [
      "100%|██████████| 9207/9207 [00:40<00:00, 228.57it/s]\n"
     ]
    },
    {
     "name": "stdout",
     "output_type": "stream",
     "text": [
      "train 0.005247438354472305\n"
     ]
    },
    {
     "name": "stderr",
     "output_type": "stream",
     "text": [
      "100%|██████████| 1728/1728 [00:00<00:00, 1951.67it/s]\n"
     ]
    },
    {
     "name": "stdout",
     "output_type": "stream",
     "text": [
      "valid 0.005604460464668691\n"
     ]
    },
    {
     "name": "stderr",
     "output_type": "stream",
     "text": [
      "100%|██████████| 1591/1591 [00:07<00:00, 200.20it/s]\n"
     ]
    },
    {
     "name": "stdout",
     "output_type": "stream",
     "text": [
      "5 {'Accuracy@10': 0.16511627906976745, 'Accuracy@20': 0.16640477686989313, 'Accuracy@30': 0.16318877016551436, 'Accuracy@40': 0.1585480829666876, 'Accuracy@50': 0.1538654934003771}\n",
      "saved model to cache/model/movielens/doc2vec.pt\n"
     ]
    },
    {
     "name": "stderr",
     "output_type": "stream",
     "text": [
      "100%|██████████| 9207/9207 [00:40<00:00, 228.24it/s]\n"
     ]
    },
    {
     "name": "stdout",
     "output_type": "stream",
     "text": [
      "train 0.0049152991704250705\n"
     ]
    },
    {
     "name": "stderr",
     "output_type": "stream",
     "text": [
      "100%|██████████| 1728/1728 [00:00<00:00, 1958.26it/s]\n"
     ]
    },
    {
     "name": "stdout",
     "output_type": "stream",
     "text": [
      "valid 0.005355039734366818\n"
     ]
    },
    {
     "name": "stderr",
     "output_type": "stream",
     "text": [
      "100%|██████████| 1591/1591 [00:07<00:00, 205.62it/s]\n"
     ]
    },
    {
     "name": "stdout",
     "output_type": "stream",
     "text": [
      "6 {'Accuracy@10': 0.17806411062225017, 'Accuracy@20': 0.17646134506599623, 'Accuracy@30': 0.17288916823800543, 'Accuracy@40': 0.16741043368950345, 'Accuracy@50': 0.16330609679446886}\n",
      "saved model to cache/model/movielens/doc2vec.pt\n"
     ]
    },
    {
     "name": "stderr",
     "output_type": "stream",
     "text": [
      "100%|██████████| 9207/9207 [00:41<00:00, 219.55it/s]\n"
     ]
    },
    {
     "name": "stdout",
     "output_type": "stream",
     "text": [
      "train 0.0046366787638178995\n"
     ]
    },
    {
     "name": "stderr",
     "output_type": "stream",
     "text": [
      "100%|██████████| 1728/1728 [00:00<00:00, 1972.69it/s]\n"
     ]
    },
    {
     "name": "stdout",
     "output_type": "stream",
     "text": [
      "valid 0.005134225964684804\n"
     ]
    },
    {
     "name": "stderr",
     "output_type": "stream",
     "text": [
      "100%|██████████| 1591/1591 [00:07<00:00, 206.55it/s]\n"
     ]
    },
    {
     "name": "stdout",
     "output_type": "stream",
     "text": [
      "7 {'Accuracy@10': 0.18372093023255814, 'Accuracy@20': 0.18192960402262728, 'Accuracy@30': 0.17638801592289965, 'Accuracy@40': 0.1707416719044626, 'Accuracy@50': 0.16668761785040853}\n",
      "saved model to cache/model/movielens/doc2vec.pt\n"
     ]
    },
    {
     "name": "stderr",
     "output_type": "stream",
     "text": [
      "100%|██████████| 9207/9207 [00:40<00:00, 229.54it/s]\n"
     ]
    },
    {
     "name": "stdout",
     "output_type": "stream",
     "text": [
      "train 0.004411838756711549\n"
     ]
    },
    {
     "name": "stderr",
     "output_type": "stream",
     "text": [
      "100%|██████████| 1728/1728 [00:00<00:00, 1971.29it/s]\n"
     ]
    },
    {
     "name": "stdout",
     "output_type": "stream",
     "text": [
      "valid 0.004938238377208486\n"
     ]
    },
    {
     "name": "stderr",
     "output_type": "stream",
     "text": [
      "100%|██████████| 1591/1591 [00:07<00:00, 205.32it/s]\n"
     ]
    },
    {
     "name": "stdout",
     "output_type": "stream",
     "text": [
      "8 {'Accuracy@10': 0.18447517284726586, 'Accuracy@20': 0.18139534883720929, 'Accuracy@30': 0.17582233396186886, 'Accuracy@40': 0.17093023255813952, 'Accuracy@50': 0.16629792583280956}\n",
      "saved model to cache/model/movielens/doc2vec.pt\n"
     ]
    },
    {
     "name": "stderr",
     "output_type": "stream",
     "text": [
      "100%|██████████| 9207/9207 [00:40<00:00, 230.00it/s]\n"
     ]
    },
    {
     "name": "stdout",
     "output_type": "stream",
     "text": [
      "train 0.004230050280550803\n"
     ]
    },
    {
     "name": "stderr",
     "output_type": "stream",
     "text": [
      "100%|██████████| 1728/1728 [00:00<00:00, 1968.22it/s]\n"
     ]
    },
    {
     "name": "stdout",
     "output_type": "stream",
     "text": [
      "valid 0.00476934994442846\n"
     ]
    },
    {
     "name": "stderr",
     "output_type": "stream",
     "text": [
      "100%|██████████| 1591/1591 [00:07<00:00, 203.94it/s]\n"
     ]
    },
    {
     "name": "stdout",
     "output_type": "stream",
     "text": [
      "9 {'Accuracy@10': 0.18233815210559395, 'Accuracy@20': 0.1790069138906348, 'Accuracy@30': 0.1731824848103918, 'Accuracy@40': 0.16840037712130734, 'Accuracy@50': 0.16377121307353865}\n",
      "saved model to cache/model/movielens/doc2vec.pt\n",
      "ModelConfig(d_model=64, init_embedding_std=0.2, max_embedding_norm=1, window_size=5, negative_sample_size=5, lr=5e-05, weight_decay=1e-08)\n",
      "TrainerConfig(model_name='doc2vec', dataset_name='movielens', epochs=10, batch_size=64, verbose=False, ignore_saved_model=True, load_model=False, save_model=True, load_dataset=False, save_dataset=False, model_dir='cache/model/', dataset_dir='cache/dataset/', device='cpu')\n",
      "dataset_manager does not exist at: cache/dataset/movielens.pickle, create dataset\n",
      "num_seq: 6040, num_item: 3706, num_item_meta: 28, num_seq_meta: 30, num_item_meta_types: 3, num_seq_meta_types: 3\n",
      "to_sequential_data start\n",
      "to_sequential_data end\n",
      "train: 589192 valid: 110547\n"
     ]
    },
    {
     "name": "stderr",
     "output_type": "stream",
     "text": [
      "100%|██████████| 9207/9207 [01:02<00:00, 148.30it/s]\n"
     ]
    },
    {
     "name": "stdout",
     "output_type": "stream",
     "text": [
      "train 0.00647140022351459\n"
     ]
    },
    {
     "name": "stderr",
     "output_type": "stream",
     "text": [
      "100%|██████████| 1728/1728 [00:01<00:00, 1321.73it/s]\n"
     ]
    },
    {
     "name": "stdout",
     "output_type": "stream",
     "text": [
      "valid 0.006437935724442612\n"
     ]
    },
    {
     "name": "stderr",
     "output_type": "stream",
     "text": [
      "100%|██████████| 1591/1591 [00:08<00:00, 192.50it/s]\n"
     ]
    },
    {
     "name": "stdout",
     "output_type": "stream",
     "text": [
      "0 {'Accuracy@10': 0.033626649905719674, 'Accuracy@20': 0.03629792583280955, 'Accuracy@30': 0.03743976534674209, 'Accuracy@40': 0.03841923318667505, 'Accuracy@50': 0.038881206788183534}\n",
      "saved model to cache/model/movielens/doc2vec.pt\n"
     ]
    },
    {
     "name": "stderr",
     "output_type": "stream",
     "text": [
      "100%|██████████| 9207/9207 [01:01<00:00, 149.49it/s]\n"
     ]
    },
    {
     "name": "stdout",
     "output_type": "stream",
     "text": [
      "train 0.006156284062966075\n"
     ]
    },
    {
     "name": "stderr",
     "output_type": "stream",
     "text": [
      "100%|██████████| 1728/1728 [00:01<00:00, 1395.03it/s]\n"
     ]
    },
    {
     "name": "stdout",
     "output_type": "stream",
     "text": [
      "valid 0.006220864202477339\n"
     ]
    },
    {
     "name": "stderr",
     "output_type": "stream",
     "text": [
      "100%|██████████| 1591/1591 [00:08<00:00, 192.13it/s]\n"
     ]
    },
    {
     "name": "stdout",
     "output_type": "stream",
     "text": [
      "1 {'Accuracy@10': 0.06926461345065996, 'Accuracy@20': 0.07994971715901948, 'Accuracy@30': 0.08248481039178714, 'Accuracy@40': 0.08186675047140164, 'Accuracy@50': 0.08045254556882464}\n",
      "saved model to cache/model/movielens/doc2vec.pt\n"
     ]
    },
    {
     "name": "stderr",
     "output_type": "stream",
     "text": [
      "100%|██████████| 9207/9207 [01:01<00:00, 149.51it/s]\n"
     ]
    },
    {
     "name": "stdout",
     "output_type": "stream",
     "text": [
      "train 0.005761725591857561\n"
     ]
    },
    {
     "name": "stderr",
     "output_type": "stream",
     "text": [
      "100%|██████████| 1728/1728 [00:01<00:00, 1367.64it/s]\n"
     ]
    },
    {
     "name": "stdout",
     "output_type": "stream",
     "text": [
      "valid 0.005936860680471478\n"
     ]
    },
    {
     "name": "stderr",
     "output_type": "stream",
     "text": [
      "100%|██████████| 1591/1591 [00:08<00:00, 196.15it/s]\n"
     ]
    },
    {
     "name": "stdout",
     "output_type": "stream",
     "text": [
      "2 {'Accuracy@10': 0.12809553739786297, 'Accuracy@20': 0.14025769956002515, 'Accuracy@30': 0.14064529645924997, 'Accuracy@40': 0.1400691389063482, 'Accuracy@50': 0.13831552482715273}\n",
      "saved model to cache/model/movielens/doc2vec.pt\n"
     ]
    },
    {
     "name": "stderr",
     "output_type": "stream",
     "text": [
      "100%|██████████| 9207/9207 [01:01<00:00, 149.86it/s]\n"
     ]
    },
    {
     "name": "stdout",
     "output_type": "stream",
     "text": [
      "train 0.005305116483066695\n"
     ]
    },
    {
     "name": "stderr",
     "output_type": "stream",
     "text": [
      "100%|██████████| 1728/1728 [00:01<00:00, 1355.65it/s]\n"
     ]
    },
    {
     "name": "stdout",
     "output_type": "stream",
     "text": [
      "valid 0.005602728629336591\n"
     ]
    },
    {
     "name": "stderr",
     "output_type": "stream",
     "text": [
      "100%|██████████| 1591/1591 [00:08<00:00, 198.65it/s]\n"
     ]
    },
    {
     "name": "stdout",
     "output_type": "stream",
     "text": [
      "3 {'Accuracy@10': 0.1623507228158391, 'Accuracy@20': 0.17388434946574483, 'Accuracy@30': 0.1737272155876807, 'Accuracy@40': 0.17027027027027025, 'Accuracy@50': 0.16708988057825266}\n",
      "saved model to cache/model/movielens/doc2vec.pt\n"
     ]
    },
    {
     "name": "stderr",
     "output_type": "stream",
     "text": [
      "100%|██████████| 9207/9207 [01:02<00:00, 148.41it/s]\n"
     ]
    },
    {
     "name": "stdout",
     "output_type": "stream",
     "text": [
      "train 0.004865591594731075\n"
     ]
    },
    {
     "name": "stderr",
     "output_type": "stream",
     "text": [
      "100%|██████████| 1728/1728 [00:01<00:00, 1351.98it/s]\n"
     ]
    },
    {
     "name": "stdout",
     "output_type": "stream",
     "text": [
      "valid 0.005271569996259342\n"
     ]
    },
    {
     "name": "stderr",
     "output_type": "stream",
     "text": [
      "100%|██████████| 1591/1591 [00:08<00:00, 198.33it/s]\n"
     ]
    },
    {
     "name": "stdout",
     "output_type": "stream",
     "text": [
      "4 {'Accuracy@10': 0.1796983029541169, 'Accuracy@20': 0.18840351979886866, 'Accuracy@30': 0.18548082966687618, 'Accuracy@40': 0.1819924575738529, 'Accuracy@50': 0.17754871150219986}\n",
      "saved model to cache/model/movielens/doc2vec.pt\n"
     ]
    },
    {
     "name": "stderr",
     "output_type": "stream",
     "text": [
      "100%|██████████| 9207/9207 [01:02<00:00, 147.21it/s]\n"
     ]
    },
    {
     "name": "stdout",
     "output_type": "stream",
     "text": [
      "train 0.00450100748562738\n"
     ]
    },
    {
     "name": "stderr",
     "output_type": "stream",
     "text": [
      "100%|██████████| 1728/1728 [00:01<00:00, 1375.54it/s]\n"
     ]
    },
    {
     "name": "stdout",
     "output_type": "stream",
     "text": [
      "valid 0.0049770571749764405\n"
     ]
    },
    {
     "name": "stderr",
     "output_type": "stream",
     "text": [
      "100%|██████████| 1591/1591 [00:08<00:00, 193.70it/s]\n"
     ]
    },
    {
     "name": "stdout",
     "output_type": "stream",
     "text": [
      "5 {'Accuracy@10': 0.18843494657448145, 'Accuracy@20': 0.19258328095537397, 'Accuracy@30': 0.18965011523151057, 'Accuracy@40': 0.18555939660590823, 'Accuracy@50': 0.18120678818353236}\n",
      "saved model to cache/model/movielens/doc2vec.pt\n"
     ]
    },
    {
     "name": "stderr",
     "output_type": "stream",
     "text": [
      "100%|██████████| 9207/9207 [01:04<00:00, 143.28it/s]\n"
     ]
    },
    {
     "name": "stdout",
     "output_type": "stream",
     "text": [
      "train 0.004214933312965262\n"
     ]
    },
    {
     "name": "stderr",
     "output_type": "stream",
     "text": [
      "100%|██████████| 1728/1728 [00:01<00:00, 1373.27it/s]\n"
     ]
    },
    {
     "name": "stdout",
     "output_type": "stream",
     "text": [
      "valid 0.004722732759914868\n"
     ]
    },
    {
     "name": "stderr",
     "output_type": "stream",
     "text": [
      "100%|██████████| 1591/1591 [00:08<00:00, 195.53it/s]\n"
     ]
    },
    {
     "name": "stdout",
     "output_type": "stream",
     "text": [
      "6 {'Accuracy@10': 0.18937774984286612, 'Accuracy@20': 0.1916404776869893, 'Accuracy@30': 0.18908443327047977, 'Accuracy@40': 0.18497800125707103, 'Accuracy@50': 0.1813073538654934}\n",
      "saved model to cache/model/movielens/doc2vec.pt\n"
     ]
    },
    {
     "name": "stderr",
     "output_type": "stream",
     "text": [
      "100%|██████████| 9207/9207 [01:02<00:00, 146.69it/s]\n"
     ]
    },
    {
     "name": "stdout",
     "output_type": "stream",
     "text": [
      "train 0.003993434140569365\n"
     ]
    },
    {
     "name": "stderr",
     "output_type": "stream",
     "text": [
      "100%|██████████| 1728/1728 [00:01<00:00, 1092.22it/s]\n"
     ]
    },
    {
     "name": "stdout",
     "output_type": "stream",
     "text": [
      "valid 0.004507450615809389\n"
     ]
    },
    {
     "name": "stderr",
     "output_type": "stream",
     "text": [
      "100%|██████████| 1591/1591 [00:08<00:00, 192.53it/s]\n"
     ]
    },
    {
     "name": "stdout",
     "output_type": "stream",
     "text": [
      "7 {'Accuracy@10': 0.18711502199874291, 'Accuracy@20': 0.18771213073538656, 'Accuracy@30': 0.18652838885397025, 'Accuracy@40': 0.18287240729101195, 'Accuracy@50': 0.17845380263984914}\n",
      "saved model to cache/model/movielens/doc2vec.pt\n"
     ]
    },
    {
     "name": "stderr",
     "output_type": "stream",
     "text": [
      "100%|██████████| 9207/9207 [01:02<00:00, 146.22it/s]\n"
     ]
    },
    {
     "name": "stdout",
     "output_type": "stream",
     "text": [
      "train 0.0038156491586997373\n"
     ]
    },
    {
     "name": "stderr",
     "output_type": "stream",
     "text": [
      "100%|██████████| 1728/1728 [00:01<00:00, 1316.24it/s]\n"
     ]
    },
    {
     "name": "stdout",
     "output_type": "stream",
     "text": [
      "valid 0.004323398177176437\n"
     ]
    },
    {
     "name": "stderr",
     "output_type": "stream",
     "text": [
      "100%|██████████| 1591/1591 [00:08<00:00, 196.07it/s]\n"
     ]
    },
    {
     "name": "stdout",
     "output_type": "stream",
     "text": [
      "8 {'Accuracy@10': 0.1824010056568196, 'Accuracy@20': 0.18557510999371465, 'Accuracy@30': 0.1826314686779803, 'Accuracy@40': 0.17773412947831552, 'Accuracy@50': 0.17274670018856064}\n",
      "saved model to cache/model/movielens/doc2vec.pt\n"
     ]
    },
    {
     "name": "stderr",
     "output_type": "stream",
     "text": [
      "100%|██████████| 9207/9207 [01:02<00:00, 146.65it/s]\n"
     ]
    },
    {
     "name": "stdout",
     "output_type": "stream",
     "text": [
      "train 0.0036683901242646386\n"
     ]
    },
    {
     "name": "stderr",
     "output_type": "stream",
     "text": [
      "100%|██████████| 1728/1728 [00:01<00:00, 1361.55it/s]\n"
     ]
    },
    {
     "name": "stdout",
     "output_type": "stream",
     "text": [
      "valid 0.004167660120315835\n"
     ]
    },
    {
     "name": "stderr",
     "output_type": "stream",
     "text": [
      "100%|██████████| 1591/1591 [00:08<00:00, 196.07it/s]\n"
     ]
    },
    {
     "name": "stdout",
     "output_type": "stream",
     "text": [
      "9 {'Accuracy@10': 0.1768698931489629, 'Accuracy@20': 0.1802639849151477, 'Accuracy@30': 0.17697464906767232, 'Accuracy@40': 0.17234443746071654, 'Accuracy@50': 0.16771841609050914}\n",
      "saved model to cache/model/movielens/doc2vec.pt\n",
      "ModelConfig(d_model=64, init_embedding_std=0.2, max_embedding_norm=1, window_size=5, negative_sample_size=5, lr=5e-05, weight_decay=1e-08)\n",
      "TrainerConfig(model_name='old-attentive', dataset_name='movielens', epochs=10, batch_size=64, verbose=False, ignore_saved_model=True, load_model=False, save_model=True, load_dataset=False, save_dataset=False, model_dir='cache/model/', dataset_dir='cache/dataset/', device='cpu')\n",
      "dataset_manager does not exist at: cache/dataset/movielens.pickle, create dataset\n",
      "num_seq: 6040, num_item: 3706, num_item_meta: 28, num_seq_meta: 30, num_item_meta_types: 3, num_seq_meta_types: 3\n",
      "to_sequential_data start\n",
      "to_sequential_data end\n",
      "train: 589192 valid: 110547\n"
     ]
    },
    {
     "name": "stderr",
     "output_type": "stream",
     "text": [
      "100%|██████████| 9207/9207 [01:42<00:00, 90.07it/s]\n"
     ]
    },
    {
     "name": "stdout",
     "output_type": "stream",
     "text": [
      "train 0.006209447143840744\n"
     ]
    },
    {
     "name": "stderr",
     "output_type": "stream",
     "text": [
      "100%|██████████| 1728/1728 [00:04<00:00, 381.89it/s]\n"
     ]
    },
    {
     "name": "stdout",
     "output_type": "stream",
     "text": [
      "valid 0.005945307117267177\n"
     ]
    },
    {
     "name": "stderr",
     "output_type": "stream",
     "text": [
      "100%|██████████| 1591/1591 [00:18<00:00, 87.90it/s]\n"
     ]
    },
    {
     "name": "stdout",
     "output_type": "stream",
     "text": [
      "0 {'Accuracy@10': 0.17862979258328096, 'Accuracy@20': 0.17476429918290384, 'Accuracy@30': 0.16660381311544104, 'Accuracy@40': 0.15648962916404777, 'Accuracy@50': 0.14807039597737273}\n",
      "saved model to cache/model/movielens/old-attentive.pt\n"
     ]
    },
    {
     "name": "stderr",
     "output_type": "stream",
     "text": [
      "100%|██████████| 9207/9207 [01:43<00:00, 89.36it/s]\n"
     ]
    },
    {
     "name": "stdout",
     "output_type": "stream",
     "text": [
      "train 0.005323313966870309\n"
     ]
    },
    {
     "name": "stderr",
     "output_type": "stream",
     "text": [
      "100%|██████████| 1728/1728 [00:04<00:00, 384.74it/s]\n"
     ]
    },
    {
     "name": "stdout",
     "output_type": "stream",
     "text": [
      "valid 0.005322064495837608\n"
     ]
    },
    {
     "name": "stderr",
     "output_type": "stream",
     "text": [
      "100%|██████████| 1591/1591 [00:17<00:00, 88.74it/s]\n"
     ]
    },
    {
     "name": "stdout",
     "output_type": "stream",
     "text": [
      "1 {'Accuracy@10': 0.21143934632306727, 'Accuracy@20': 0.20430546825895662, 'Accuracy@30': 0.19421747328724073, 'Accuracy@40': 0.19187617850408548, 'Accuracy@50': 0.18869893148962916}\n",
      "saved model to cache/model/movielens/old-attentive.pt\n"
     ]
    },
    {
     "name": "stderr",
     "output_type": "stream",
     "text": [
      "100%|██████████| 9207/9207 [01:44<00:00, 88.30it/s]\n"
     ]
    },
    {
     "name": "stdout",
     "output_type": "stream",
     "text": [
      "train 0.004737648283858413\n"
     ]
    },
    {
     "name": "stderr",
     "output_type": "stream",
     "text": [
      "100%|██████████| 1728/1728 [00:04<00:00, 390.61it/s]\n"
     ]
    },
    {
     "name": "stdout",
     "output_type": "stream",
     "text": [
      "valid 0.004967123830612173\n"
     ]
    },
    {
     "name": "stderr",
     "output_type": "stream",
     "text": [
      "100%|██████████| 1591/1591 [00:17<00:00, 88.55it/s]\n"
     ]
    },
    {
     "name": "stdout",
     "output_type": "stream",
     "text": [
      "2 {'Accuracy@10': 0.2191703331238215, 'Accuracy@20': 0.20389692017598993, 'Accuracy@30': 0.19639639639639642, 'Accuracy@40': 0.18832495285983658, 'Accuracy@50': 0.18211187932118164}\n",
      "saved model to cache/model/movielens/old-attentive.pt\n"
     ]
    },
    {
     "name": "stderr",
     "output_type": "stream",
     "text": [
      "100%|██████████| 9207/9207 [01:43<00:00, 89.15it/s]\n"
     ]
    },
    {
     "name": "stdout",
     "output_type": "stream",
     "text": [
      "train 0.0044583737105394145\n"
     ]
    },
    {
     "name": "stderr",
     "output_type": "stream",
     "text": [
      "100%|██████████| 1728/1728 [00:04<00:00, 378.26it/s]\n"
     ]
    },
    {
     "name": "stdout",
     "output_type": "stream",
     "text": [
      "valid 0.004777756001982482\n"
     ]
    },
    {
     "name": "stderr",
     "output_type": "stream",
     "text": [
      "100%|██████████| 1591/1591 [00:18<00:00, 88.22it/s]\n"
     ]
    },
    {
     "name": "stdout",
     "output_type": "stream",
     "text": [
      "3 {'Accuracy@10': 0.22067881835323697, 'Accuracy@20': 0.20751099937146447, 'Accuracy@30': 0.1993295621202598, 'Accuracy@40': 0.18983343808925204, 'Accuracy@50': 0.18243871778755502}\n",
      "saved model to cache/model/movielens/old-attentive.pt\n"
     ]
    },
    {
     "name": "stderr",
     "output_type": "stream",
     "text": [
      "100%|██████████| 9207/9207 [01:43<00:00, 89.14it/s]\n"
     ]
    },
    {
     "name": "stdout",
     "output_type": "stream",
     "text": [
      "train 0.004328948729025671\n"
     ]
    },
    {
     "name": "stderr",
     "output_type": "stream",
     "text": [
      "100%|██████████| 1728/1728 [00:04<00:00, 378.19it/s]\n"
     ]
    },
    {
     "name": "stdout",
     "output_type": "stream",
     "text": [
      "valid 0.004670419575863346\n"
     ]
    },
    {
     "name": "stderr",
     "output_type": "stream",
     "text": [
      "100%|██████████| 1591/1591 [00:18<00:00, 88.17it/s]\n"
     ]
    },
    {
     "name": "stdout",
     "output_type": "stream",
     "text": [
      "4 {'Accuracy@10': 0.21445631678189817, 'Accuracy@20': 0.20647391577624136, 'Accuracy@30': 0.19702493190865283, 'Accuracy@40': 0.18816781898177246, 'Accuracy@50': 0.1816090509113765}\n",
      "saved model to cache/model/movielens/old-attentive.pt\n"
     ]
    },
    {
     "name": "stderr",
     "output_type": "stream",
     "text": [
      "100%|██████████| 9207/9207 [01:43<00:00, 89.35it/s]\n"
     ]
    },
    {
     "name": "stdout",
     "output_type": "stream",
     "text": [
      "train 0.004263169233782003\n"
     ]
    },
    {
     "name": "stderr",
     "output_type": "stream",
     "text": [
      "100%|██████████| 1728/1728 [00:04<00:00, 379.56it/s]\n"
     ]
    },
    {
     "name": "stdout",
     "output_type": "stream",
     "text": [
      "valid 0.0045992073760399745\n"
     ]
    },
    {
     "name": "stderr",
     "output_type": "stream",
     "text": [
      "100%|██████████| 1591/1591 [00:17<00:00, 88.69it/s]\n"
     ]
    },
    {
     "name": "stdout",
     "output_type": "stream",
     "text": [
      "5 {'Accuracy@10': 0.19270898805782527, 'Accuracy@20': 0.1872093023255814, 'Accuracy@30': 0.18367902786507437, 'Accuracy@40': 0.1803739786297926, 'Accuracy@50': 0.176291640477687}\n",
      "saved model to cache/model/movielens/old-attentive.pt\n"
     ]
    },
    {
     "name": "stderr",
     "output_type": "stream",
     "text": [
      "100%|██████████| 9207/9207 [01:43<00:00, 89.24it/s]\n"
     ]
    },
    {
     "name": "stdout",
     "output_type": "stream",
     "text": [
      "train 0.004223571863102102\n"
     ]
    },
    {
     "name": "stderr",
     "output_type": "stream",
     "text": [
      "100%|██████████| 1728/1728 [00:04<00:00, 384.00it/s]\n"
     ]
    },
    {
     "name": "stdout",
     "output_type": "stream",
     "text": [
      "valid 0.004549457762486354\n"
     ]
    },
    {
     "name": "stderr",
     "output_type": "stream",
     "text": [
      "100%|██████████| 1591/1591 [00:17<00:00, 89.22it/s]\n"
     ]
    },
    {
     "name": "stdout",
     "output_type": "stream",
     "text": [
      "6 {'Accuracy@10': 0.17938403519798868, 'Accuracy@20': 0.17561282212445004, 'Accuracy@30': 0.1721558768070396, 'Accuracy@40': 0.1690131992457574, 'Accuracy@50': 0.16726587052168448}\n",
      "saved model to cache/model/movielens/old-attentive.pt\n"
     ]
    },
    {
     "name": "stderr",
     "output_type": "stream",
     "text": [
      "100%|██████████| 9207/9207 [01:44<00:00, 88.42it/s]\n"
     ]
    },
    {
     "name": "stdout",
     "output_type": "stream",
     "text": [
      "train 0.004196439905687309\n"
     ]
    },
    {
     "name": "stderr",
     "output_type": "stream",
     "text": [
      "100%|██████████| 1728/1728 [00:04<00:00, 380.43it/s]\n"
     ]
    },
    {
     "name": "stdout",
     "output_type": "stream",
     "text": [
      "valid 0.004511647525881934\n"
     ]
    },
    {
     "name": "stderr",
     "output_type": "stream",
     "text": [
      "100%|██████████| 1591/1591 [00:17<00:00, 88.76it/s]\n"
     ]
    },
    {
     "name": "stdout",
     "output_type": "stream",
     "text": [
      "7 {'Accuracy@10': 0.17479572595851664, 'Accuracy@20': 0.16954745443117536, 'Accuracy@30': 0.16817515189608212, 'Accuracy@40': 0.16536769327467002, 'Accuracy@50': 0.16258956631049654}\n",
      "saved model to cache/model/movielens/old-attentive.pt\n"
     ]
    },
    {
     "name": "stderr",
     "output_type": "stream",
     "text": [
      "100%|██████████| 9207/9207 [01:42<00:00, 89.50it/s]\n"
     ]
    },
    {
     "name": "stdout",
     "output_type": "stream",
     "text": [
      "train 0.004171314648778117\n"
     ]
    },
    {
     "name": "stderr",
     "output_type": "stream",
     "text": [
      "100%|██████████| 1728/1728 [00:04<00:00, 378.21it/s]\n"
     ]
    },
    {
     "name": "stdout",
     "output_type": "stream",
     "text": [
      "valid 0.004480645734912431\n"
     ]
    },
    {
     "name": "stderr",
     "output_type": "stream",
     "text": [
      "100%|██████████| 1591/1591 [00:18<00:00, 88.17it/s]\n"
     ]
    },
    {
     "name": "stdout",
     "output_type": "stream",
     "text": [
      "8 {'Accuracy@10': 0.16970458830923946, 'Accuracy@20': 0.16486486486486487, 'Accuracy@30': 0.1624764299182904, 'Accuracy@40': 0.16055939660590823, 'Accuracy@50': 0.15857950974230045}\n",
      "saved model to cache/model/movielens/old-attentive.pt\n"
     ]
    },
    {
     "name": "stderr",
     "output_type": "stream",
     "text": [
      "100%|██████████| 9207/9207 [01:42<00:00, 89.45it/s]\n"
     ]
    },
    {
     "name": "stdout",
     "output_type": "stream",
     "text": [
      "train 0.0041495250472292165\n"
     ]
    },
    {
     "name": "stderr",
     "output_type": "stream",
     "text": [
      "100%|██████████| 1728/1728 [00:04<00:00, 390.23it/s]\n"
     ]
    },
    {
     "name": "stdout",
     "output_type": "stream",
     "text": [
      "valid 0.0044519974792950395\n"
     ]
    },
    {
     "name": "stderr",
     "output_type": "stream",
     "text": [
      "100%|██████████| 1591/1591 [00:18<00:00, 88.16it/s]\n"
     ]
    },
    {
     "name": "stdout",
     "output_type": "stream",
     "text": [
      "9 {'Accuracy@10': 0.16687617850408548, 'Accuracy@20': 0.16238214959145192, 'Accuracy@30': 0.1599622878692646, 'Accuracy@40': 0.1571181646763042, 'Accuracy@50': 0.15493400377121308}\n",
      "saved model to cache/model/movielens/old-attentive.pt\n",
      "ModelConfig(d_model=16, init_embedding_std=0.2, max_embedding_norm=1, window_size=5, negative_sample_size=5, lr=5e-05, weight_decay=1e-08)\n",
      "TrainerConfig(model_name='attentive', dataset_name='movielens', epochs=10, batch_size=64, verbose=False, ignore_saved_model=True, load_model=False, save_model=True, load_dataset=False, save_dataset=False, model_dir='cache/model/', dataset_dir='cache/dataset/', device='cpu')\n",
      "dataset_manager does not exist at: cache/dataset/movielens.pickle, create dataset\n",
      "num_seq: 6040, num_item: 3706, num_item_meta: 28, num_seq_meta: 30, num_item_meta_types: 3, num_seq_meta_types: 3\n",
      "to_sequential_data start\n",
      "to_sequential_data end\n",
      "train: 589192 valid: 110547\n"
     ]
    },
    {
     "name": "stderr",
     "output_type": "stream",
     "text": [
      "100%|██████████| 9207/9207 [00:53<00:00, 171.30it/s]\n"
     ]
    },
    {
     "name": "stdout",
     "output_type": "stream",
     "text": [
      "train 0.005944787941292855\n"
     ]
    },
    {
     "name": "stderr",
     "output_type": "stream",
     "text": [
      "100%|██████████| 1728/1728 [00:03<00:00, 465.47it/s]\n"
     ]
    },
    {
     "name": "stdout",
     "output_type": "stream",
     "text": [
      "valid 0.0056833068619487484\n"
     ]
    },
    {
     "name": "stderr",
     "output_type": "stream",
     "text": [
      "100%|██████████| 1591/1591 [00:10<00:00, 145.36it/s]\n"
     ]
    },
    {
     "name": "stdout",
     "output_type": "stream",
     "text": [
      "0 {'Accuracy@10': 0.16222501571338782, 'Accuracy@20': 0.16027655562539284, 'Accuracy@30': 0.15669390320553112, 'Accuracy@40': 0.1535512256442489, 'Accuracy@50': 0.1508988057825267}\n",
      "saved model to cache/model/movielens/attentive.pt\n"
     ]
    },
    {
     "name": "stderr",
     "output_type": "stream",
     "text": [
      "100%|██████████| 9207/9207 [01:04<00:00, 142.76it/s]\n"
     ]
    },
    {
     "name": "stdout",
     "output_type": "stream",
     "text": [
      "train 0.005513327756733353\n"
     ]
    },
    {
     "name": "stderr",
     "output_type": "stream",
     "text": [
      "100%|██████████| 1728/1728 [00:03<00:00, 457.11it/s]\n"
     ]
    },
    {
     "name": "stdout",
     "output_type": "stream",
     "text": [
      "valid 0.005505931114776751\n"
     ]
    },
    {
     "name": "stderr",
     "output_type": "stream",
     "text": [
      "100%|██████████| 1591/1591 [00:11<00:00, 143.57it/s]\n"
     ]
    },
    {
     "name": "stdout",
     "output_type": "stream",
     "text": [
      "1 {'Accuracy@10': 0.18749214330609681, 'Accuracy@20': 0.18667504714016342, 'Accuracy@30': 0.18418185627487954, 'Accuracy@40': 0.18103394091766184, 'Accuracy@50': 0.17783783783783783}\n",
      "saved model to cache/model/movielens/attentive.pt\n"
     ]
    },
    {
     "name": "stderr",
     "output_type": "stream",
     "text": [
      "100%|██████████| 9207/9207 [00:55<00:00, 164.94it/s]\n"
     ]
    },
    {
     "name": "stdout",
     "output_type": "stream",
     "text": [
      "train 0.005369301379648268\n"
     ]
    },
    {
     "name": "stderr",
     "output_type": "stream",
     "text": [
      "100%|██████████| 1728/1728 [00:03<00:00, 458.77it/s]\n"
     ]
    },
    {
     "name": "stdout",
     "output_type": "stream",
     "text": [
      "valid 0.00540767209111611\n"
     ]
    },
    {
     "name": "stderr",
     "output_type": "stream",
     "text": [
      "100%|██████████| 1591/1591 [00:11<00:00, 144.10it/s]\n"
     ]
    },
    {
     "name": "stdout",
     "output_type": "stream",
     "text": [
      "2 {'Accuracy@10': 0.20219987429289757, 'Accuracy@20': 0.2025141420490258, 'Accuracy@30': 0.1992248062015504, 'Accuracy@40': 0.19335323695788814, 'Accuracy@50': 0.18907605279698303}\n",
      "saved model to cache/model/movielens/attentive.pt\n"
     ]
    },
    {
     "name": "stderr",
     "output_type": "stream",
     "text": [
      "100%|██████████| 9207/9207 [00:57<00:00, 160.32it/s]\n"
     ]
    },
    {
     "name": "stdout",
     "output_type": "stream",
     "text": [
      "train 0.005290944068789227\n"
     ]
    },
    {
     "name": "stderr",
     "output_type": "stream",
     "text": [
      "100%|██████████| 1728/1728 [00:03<00:00, 456.92it/s]\n"
     ]
    },
    {
     "name": "stdout",
     "output_type": "stream",
     "text": [
      "valid 0.005343338570261702\n"
     ]
    },
    {
     "name": "stderr",
     "output_type": "stream",
     "text": [
      "100%|██████████| 1591/1591 [00:11<00:00, 142.19it/s]\n"
     ]
    },
    {
     "name": "stdout",
     "output_type": "stream",
     "text": [
      "3 {'Accuracy@10': 0.21093651791326212, 'Accuracy@20': 0.20773098680075425, 'Accuracy@30': 0.20419023674837627, 'Accuracy@40': 0.1989943431803897, 'Accuracy@50': 0.19279698302954118}\n",
      "saved model to cache/model/movielens/attentive.pt\n"
     ]
    },
    {
     "name": "stderr",
     "output_type": "stream",
     "text": [
      "100%|██████████| 9207/9207 [00:56<00:00, 163.55it/s]\n"
     ]
    },
    {
     "name": "stdout",
     "output_type": "stream",
     "text": [
      "train 0.005242934775413008\n"
     ]
    },
    {
     "name": "stderr",
     "output_type": "stream",
     "text": [
      "100%|██████████| 1728/1728 [00:03<00:00, 464.34it/s]\n"
     ]
    },
    {
     "name": "stdout",
     "output_type": "stream",
     "text": [
      "valid 0.005298974621082105\n"
     ]
    },
    {
     "name": "stderr",
     "output_type": "stream",
     "text": [
      "100%|██████████| 1591/1591 [00:11<00:00, 143.88it/s]\n"
     ]
    },
    {
     "name": "stdout",
     "output_type": "stream",
     "text": [
      "4 {'Accuracy@10': 0.21571338780641108, 'Accuracy@20': 0.20958516656191076, 'Accuracy@30': 0.2055520636915986, 'Accuracy@40': 0.19992143306096793, 'Accuracy@50': 0.19425518541797612}\n",
      "saved model to cache/model/movielens/attentive.pt\n"
     ]
    },
    {
     "name": "stderr",
     "output_type": "stream",
     "text": [
      "100%|██████████| 9207/9207 [00:56<00:00, 163.24it/s]\n"
     ]
    },
    {
     "name": "stdout",
     "output_type": "stream",
     "text": [
      "train 0.005211717709093765\n"
     ]
    },
    {
     "name": "stderr",
     "output_type": "stream",
     "text": [
      "100%|██████████| 1728/1728 [00:03<00:00, 467.39it/s]\n"
     ]
    },
    {
     "name": "stdout",
     "output_type": "stream",
     "text": [
      "valid 0.005266997647510065\n"
     ]
    },
    {
     "name": "stderr",
     "output_type": "stream",
     "text": [
      "100%|██████████| 1591/1591 [00:11<00:00, 143.35it/s]\n"
     ]
    },
    {
     "name": "stdout",
     "output_type": "stream",
     "text": [
      "5 {'Accuracy@10': 0.21483343808925204, 'Accuracy@20': 0.20911376492771844, 'Accuracy@30': 0.20615964802011313, 'Accuracy@40': 0.20004714016341923, 'Accuracy@50': 0.19495914519170335}\n",
      "saved model to cache/model/movielens/attentive.pt\n"
     ]
    },
    {
     "name": "stderr",
     "output_type": "stream",
     "text": [
      "100%|██████████| 9207/9207 [00:55<00:00, 166.45it/s]\n"
     ]
    },
    {
     "name": "stdout",
     "output_type": "stream",
     "text": [
      "train 0.005190472017655634\n"
     ]
    },
    {
     "name": "stderr",
     "output_type": "stream",
     "text": [
      "100%|██████████| 1728/1728 [00:03<00:00, 469.94it/s]\n"
     ]
    },
    {
     "name": "stdout",
     "output_type": "stream",
     "text": [
      "valid 0.005243230560634756\n"
     ]
    },
    {
     "name": "stderr",
     "output_type": "stream",
     "text": [
      "100%|██████████| 1591/1591 [00:10<00:00, 145.88it/s]\n"
     ]
    },
    {
     "name": "stdout",
     "output_type": "stream",
     "text": [
      "6 {'Accuracy@10': 0.21162790697674422, 'Accuracy@20': 0.2085166561910748, 'Accuracy@30': 0.20578252671275926, 'Accuracy@40': 0.20062853551225643, 'Accuracy@50': 0.19505971087366436}\n",
      "saved model to cache/model/movielens/attentive.pt\n"
     ]
    },
    {
     "name": "stderr",
     "output_type": "stream",
     "text": [
      "100%|██████████| 9207/9207 [00:55<00:00, 165.14it/s]\n"
     ]
    },
    {
     "name": "stdout",
     "output_type": "stream",
     "text": [
      "train 0.005175547782077607\n"
     ]
    },
    {
     "name": "stderr",
     "output_type": "stream",
     "text": [
      "100%|██████████| 1728/1728 [00:03<00:00, 444.30it/s]\n"
     ]
    },
    {
     "name": "stdout",
     "output_type": "stream",
     "text": [
      "valid 0.0052257882074981795\n"
     ]
    },
    {
     "name": "stderr",
     "output_type": "stream",
     "text": [
      "100%|██████████| 1591/1591 [00:11<00:00, 138.22it/s]\n"
     ]
    },
    {
     "name": "stdout",
     "output_type": "stream",
     "text": [
      "7 {'Accuracy@10': 0.1998742928975487, 'Accuracy@20': 0.20361407919547453, 'Accuracy@30': 0.20138277812696417, 'Accuracy@40': 0.19902576995600252, 'Accuracy@50': 0.19445631678189815}\n",
      "saved model to cache/model/movielens/attentive.pt\n"
     ]
    },
    {
     "name": "stderr",
     "output_type": "stream",
     "text": [
      "100%|██████████| 9207/9207 [00:56<00:00, 164.37it/s]\n"
     ]
    },
    {
     "name": "stdout",
     "output_type": "stream",
     "text": [
      "train 0.005164744837898035\n"
     ]
    },
    {
     "name": "stderr",
     "output_type": "stream",
     "text": [
      "100%|██████████| 1728/1728 [00:03<00:00, 466.50it/s]\n"
     ]
    },
    {
     "name": "stdout",
     "output_type": "stream",
     "text": [
      "valid 0.00521227704089593\n"
     ]
    },
    {
     "name": "stderr",
     "output_type": "stream",
     "text": [
      "100%|██████████| 1591/1591 [00:10<00:00, 144.72it/s]\n"
     ]
    },
    {
     "name": "stdout",
     "output_type": "stream",
     "text": [
      "8 {'Accuracy@10': 0.18598365807668132, 'Accuracy@20': 0.19324324324324324, 'Accuracy@30': 0.19459459459459458, 'Accuracy@40': 0.19413890634820868, 'Accuracy@50': 0.19094908862350723}\n",
      "saved model to cache/model/movielens/attentive.pt\n"
     ]
    },
    {
     "name": "stderr",
     "output_type": "stream",
     "text": [
      "100%|██████████| 9207/9207 [00:55<00:00, 164.94it/s]\n"
     ]
    },
    {
     "name": "stdout",
     "output_type": "stream",
     "text": [
      "train 0.0051567770740594075\n"
     ]
    },
    {
     "name": "stderr",
     "output_type": "stream",
     "text": [
      "100%|██████████| 1728/1728 [00:03<00:00, 457.74it/s]\n"
     ]
    },
    {
     "name": "stdout",
     "output_type": "stream",
     "text": [
      "valid 0.005201670400059656\n"
     ]
    },
    {
     "name": "stderr",
     "output_type": "stream",
     "text": [
      "100%|██████████| 1591/1591 [00:11<00:00, 143.70it/s]\n"
     ]
    },
    {
     "name": "stdout",
     "output_type": "stream",
     "text": [
      "9 {'Accuracy@10': 0.17278441231929603, 'Accuracy@20': 0.18230672532998113, 'Accuracy@30': 0.1871778755499686, 'Accuracy@40': 0.18903205531112507, 'Accuracy@50': 0.1875927089880578}\n",
      "saved model to cache/model/movielens/attentive.pt\n",
      "ModelConfig(d_model=32, init_embedding_std=0.2, max_embedding_norm=1, window_size=5, negative_sample_size=5, lr=5e-05, weight_decay=1e-08)\n",
      "TrainerConfig(model_name='attentive', dataset_name='movielens', epochs=10, batch_size=64, verbose=False, ignore_saved_model=True, load_model=False, save_model=True, load_dataset=False, save_dataset=False, model_dir='cache/model/', dataset_dir='cache/dataset/', device='cpu')\n",
      "dataset_manager does not exist at: cache/dataset/movielens.pickle, create dataset\n",
      "num_seq: 6040, num_item: 3706, num_item_meta: 28, num_seq_meta: 30, num_item_meta_types: 3, num_seq_meta_types: 3\n",
      "to_sequential_data start\n",
      "to_sequential_data end\n",
      "train: 589192 valid: 110547\n"
     ]
    },
    {
     "name": "stderr",
     "output_type": "stream",
     "text": [
      "100%|██████████| 9207/9207 [01:11<00:00, 129.15it/s]\n"
     ]
    },
    {
     "name": "stdout",
     "output_type": "stream",
     "text": [
      "train 0.005858360576989908\n"
     ]
    },
    {
     "name": "stderr",
     "output_type": "stream",
     "text": [
      "100%|██████████| 1728/1728 [00:04<00:00, 392.21it/s]\n"
     ]
    },
    {
     "name": "stdout",
     "output_type": "stream",
     "text": [
      "valid 0.005614012799801134\n"
     ]
    },
    {
     "name": "stderr",
     "output_type": "stream",
     "text": [
      "100%|██████████| 1591/1591 [00:11<00:00, 133.68it/s]\n"
     ]
    },
    {
     "name": "stdout",
     "output_type": "stream",
     "text": [
      "0 {'Accuracy@10': 0.2148962916404777, 'Accuracy@20': 0.19736015084852293, 'Accuracy@30': 0.19159857531950555, 'Accuracy@40': 0.18326524198617222, 'Accuracy@50': 0.1772972972972973}\n",
      "saved model to cache/model/movielens/attentive.pt\n"
     ]
    },
    {
     "name": "stderr",
     "output_type": "stream",
     "text": [
      "100%|██████████| 9207/9207 [01:13<00:00, 124.83it/s]\n"
     ]
    },
    {
     "name": "stdout",
     "output_type": "stream",
     "text": [
      "train 0.00544241947401406\n"
     ]
    },
    {
     "name": "stderr",
     "output_type": "stream",
     "text": [
      "100%|██████████| 1728/1728 [00:04<00:00, 393.91it/s]\n"
     ]
    },
    {
     "name": "stdout",
     "output_type": "stream",
     "text": [
      "valid 0.005442384839780668\n"
     ]
    },
    {
     "name": "stderr",
     "output_type": "stream",
     "text": [
      "100%|██████████| 1591/1591 [00:12<00:00, 131.56it/s]\n"
     ]
    },
    {
     "name": "stdout",
     "output_type": "stream",
     "text": [
      "1 {'Accuracy@10': 0.22620993086109364, 'Accuracy@20': 0.21385920804525455, 'Accuracy@30': 0.2057406243452755, 'Accuracy@40': 0.1966059082338152, 'Accuracy@50': 0.18991829038340666}\n",
      "saved model to cache/model/movielens/attentive.pt\n"
     ]
    },
    {
     "name": "stderr",
     "output_type": "stream",
     "text": [
      "100%|██████████| 9207/9207 [01:13<00:00, 124.50it/s]\n"
     ]
    },
    {
     "name": "stdout",
     "output_type": "stream",
     "text": [
      "train 0.005309970639654145\n"
     ]
    },
    {
     "name": "stderr",
     "output_type": "stream",
     "text": [
      "100%|██████████| 1728/1728 [00:04<00:00, 395.53it/s]\n"
     ]
    },
    {
     "name": "stdout",
     "output_type": "stream",
     "text": [
      "valid 0.005348602535679544\n"
     ]
    },
    {
     "name": "stderr",
     "output_type": "stream",
     "text": [
      "100%|██████████| 1591/1591 [00:11<00:00, 133.83it/s]\n"
     ]
    },
    {
     "name": "stdout",
     "output_type": "stream",
     "text": [
      "2 {'Accuracy@10': 0.22677561282212447, 'Accuracy@20': 0.2168761785040855, 'Accuracy@30': 0.20817096165933377, 'Accuracy@40': 0.20037712130735388, 'Accuracy@50': 0.19488372093023254}\n",
      "saved model to cache/model/movielens/attentive.pt\n"
     ]
    },
    {
     "name": "stderr",
     "output_type": "stream",
     "text": [
      "100%|██████████| 9207/9207 [01:12<00:00, 126.43it/s]\n"
     ]
    },
    {
     "name": "stdout",
     "output_type": "stream",
     "text": [
      "train 0.005242292441818566\n"
     ]
    },
    {
     "name": "stderr",
     "output_type": "stream",
     "text": [
      "100%|██████████| 1728/1728 [00:04<00:00, 398.76it/s]\n"
     ]
    },
    {
     "name": "stdout",
     "output_type": "stream",
     "text": [
      "valid 0.005291312890739785\n"
     ]
    },
    {
     "name": "stderr",
     "output_type": "stream",
     "text": [
      "100%|██████████| 1591/1591 [00:11<00:00, 133.24it/s]\n"
     ]
    },
    {
     "name": "stdout",
     "output_type": "stream",
     "text": [
      "3 {'Accuracy@10': 0.2257071024512885, 'Accuracy@20': 0.2177875549968573, 'Accuracy@30': 0.20942803268384663, 'Accuracy@40': 0.20119421747328725, 'Accuracy@50': 0.1956002514142049}\n",
      "saved model to cache/model/movielens/attentive.pt\n"
     ]
    },
    {
     "name": "stderr",
     "output_type": "stream",
     "text": [
      "100%|██████████| 9207/9207 [01:12<00:00, 126.19it/s]\n"
     ]
    },
    {
     "name": "stdout",
     "output_type": "stream",
     "text": [
      "train 0.005203975735597804\n"
     ]
    },
    {
     "name": "stderr",
     "output_type": "stream",
     "text": [
      "100%|██████████| 1728/1728 [00:04<00:00, 399.66it/s]\n"
     ]
    },
    {
     "name": "stdout",
     "output_type": "stream",
     "text": [
      "valid 0.005254018354051983\n"
     ]
    },
    {
     "name": "stderr",
     "output_type": "stream",
     "text": [
      "100%|██████████| 1591/1591 [00:12<00:00, 132.07it/s]\n"
     ]
    },
    {
     "name": "stdout",
     "output_type": "stream",
     "text": [
      "4 {'Accuracy@10': 0.21973601508485227, 'Accuracy@20': 0.21442489000628537, 'Accuracy@30': 0.2084642782317201, 'Accuracy@40': 0.2022627278441232, 'Accuracy@50': 0.19578881206788182}\n",
      "saved model to cache/model/movielens/attentive.pt\n"
     ]
    },
    {
     "name": "stderr",
     "output_type": "stream",
     "text": [
      "100%|██████████| 9207/9207 [01:12<00:00, 126.83it/s]\n"
     ]
    },
    {
     "name": "stdout",
     "output_type": "stream",
     "text": [
      "train 0.005180646140608652\n"
     ]
    },
    {
     "name": "stderr",
     "output_type": "stream",
     "text": [
      "100%|██████████| 1728/1728 [00:04<00:00, 393.24it/s]\n"
     ]
    },
    {
     "name": "stdout",
     "output_type": "stream",
     "text": [
      "valid 0.0052288435326430585\n"
     ]
    },
    {
     "name": "stderr",
     "output_type": "stream",
     "text": [
      "100%|██████████| 1591/1591 [00:11<00:00, 134.40it/s]\n"
     ]
    },
    {
     "name": "stdout",
     "output_type": "stream",
     "text": [
      "5 {'Accuracy@10': 0.20609679446888748, 'Accuracy@20': 0.2076995600251414, 'Accuracy@30': 0.20366645715482926, 'Accuracy@40': 0.1973287240729101, 'Accuracy@50': 0.19414204902576995}\n",
      "saved model to cache/model/movielens/attentive.pt\n"
     ]
    },
    {
     "name": "stderr",
     "output_type": "stream",
     "text": [
      "100%|██████████| 9207/9207 [01:12<00:00, 126.40it/s]\n"
     ]
    },
    {
     "name": "stdout",
     "output_type": "stream",
     "text": [
      "train 0.005165464549963788\n"
     ]
    },
    {
     "name": "stderr",
     "output_type": "stream",
     "text": [
      "100%|██████████| 1728/1728 [00:04<00:00, 401.78it/s]\n"
     ]
    },
    {
     "name": "stdout",
     "output_type": "stream",
     "text": [
      "valid 0.0052107825825308245\n"
     ]
    },
    {
     "name": "stderr",
     "output_type": "stream",
     "text": [
      "100%|██████████| 1591/1591 [00:12<00:00, 132.49it/s]\n"
     ]
    },
    {
     "name": "stdout",
     "output_type": "stream",
     "text": [
      "6 {'Accuracy@10': 0.1876807039597737, 'Accuracy@20': 0.1941860465116279, 'Accuracy@30': 0.19844961240310077, 'Accuracy@40': 0.1955845380263985, 'Accuracy@50': 0.1912884978001257}\n",
      "saved model to cache/model/movielens/attentive.pt\n"
     ]
    },
    {
     "name": "stderr",
     "output_type": "stream",
     "text": [
      "100%|██████████| 9207/9207 [01:12<00:00, 126.96it/s]\n"
     ]
    },
    {
     "name": "stdout",
     "output_type": "stream",
     "text": [
      "train 0.005155095747411348\n"
     ]
    },
    {
     "name": "stderr",
     "output_type": "stream",
     "text": [
      "100%|██████████| 1728/1728 [00:04<00:00, 405.50it/s]\n"
     ]
    },
    {
     "name": "stdout",
     "output_type": "stream",
     "text": [
      "valid 0.005197620000674441\n"
     ]
    },
    {
     "name": "stderr",
     "output_type": "stream",
     "text": [
      "100%|██████████| 1591/1591 [00:11<00:00, 132.63it/s]\n"
     ]
    },
    {
     "name": "stdout",
     "output_type": "stream",
     "text": [
      "7 {'Accuracy@10': 0.16957888120678818, 'Accuracy@20': 0.17693274670018858, 'Accuracy@30': 0.1821705426356589, 'Accuracy@40': 0.18684789440603394, 'Accuracy@50': 0.1874418604651163}\n",
      "saved model to cache/model/movielens/attentive.pt\n"
     ]
    },
    {
     "name": "stderr",
     "output_type": "stream",
     "text": [
      "100%|██████████| 9207/9207 [01:13<00:00, 124.88it/s]\n"
     ]
    },
    {
     "name": "stdout",
     "output_type": "stream",
     "text": [
      "train 0.005147729033944747\n"
     ]
    },
    {
     "name": "stderr",
     "output_type": "stream",
     "text": [
      "100%|██████████| 1728/1728 [00:04<00:00, 408.66it/s]\n"
     ]
    },
    {
     "name": "stdout",
     "output_type": "stream",
     "text": [
      "valid 0.0051876537523706506\n"
     ]
    },
    {
     "name": "stderr",
     "output_type": "stream",
     "text": [
      "100%|██████████| 1591/1591 [00:11<00:00, 133.86it/s]\n"
     ]
    },
    {
     "name": "stdout",
     "output_type": "stream",
     "text": [
      "8 {'Accuracy@10': 0.15216844751728473, 'Accuracy@20': 0.16027655562539284, 'Accuracy@30': 0.1683427613660172, 'Accuracy@40': 0.17314582023884348, 'Accuracy@50': 0.17553739786297926}\n",
      "saved model to cache/model/movielens/attentive.pt\n"
     ]
    },
    {
     "name": "stderr",
     "output_type": "stream",
     "text": [
      "100%|██████████| 9207/9207 [01:12<00:00, 127.38it/s]\n"
     ]
    },
    {
     "name": "stdout",
     "output_type": "stream",
     "text": [
      "train 0.005142315109954801\n"
     ]
    },
    {
     "name": "stderr",
     "output_type": "stream",
     "text": [
      "100%|██████████| 1728/1728 [00:04<00:00, 404.64it/s]\n"
     ]
    },
    {
     "name": "stdout",
     "output_type": "stream",
     "text": [
      "valid 0.005180013544334574\n"
     ]
    },
    {
     "name": "stderr",
     "output_type": "stream",
     "text": [
      "100%|██████████| 1591/1591 [00:11<00:00, 132.95it/s]\n"
     ]
    },
    {
     "name": "stdout",
     "output_type": "stream",
     "text": [
      "9 {'Accuracy@10': 0.14280326838466373, 'Accuracy@20': 0.14899434318038968, 'Accuracy@30': 0.15529017389482505, 'Accuracy@40': 0.16063796354494028, 'Accuracy@50': 0.16438717787554996}\n",
      "saved model to cache/model/movielens/attentive.pt\n",
      "ModelConfig(d_model=64, init_embedding_std=0.2, max_embedding_norm=1, window_size=5, negative_sample_size=5, lr=5e-05, weight_decay=1e-08)\n",
      "TrainerConfig(model_name='attentive', dataset_name='movielens', epochs=10, batch_size=64, verbose=False, ignore_saved_model=True, load_model=False, save_model=True, load_dataset=False, save_dataset=False, model_dir='cache/model/', dataset_dir='cache/dataset/', device='cpu')\n",
      "dataset_manager does not exist at: cache/dataset/movielens.pickle, create dataset\n",
      "num_seq: 6040, num_item: 3706, num_item_meta: 28, num_seq_meta: 30, num_item_meta_types: 3, num_seq_meta_types: 3\n",
      "to_sequential_data start\n",
      "to_sequential_data end\n",
      "train: 589192 valid: 110547\n"
     ]
    },
    {
     "name": "stderr",
     "output_type": "stream",
     "text": [
      "100%|██████████| 9207/9207 [02:02<00:00, 75.26it/s]\n"
     ]
    },
    {
     "name": "stdout",
     "output_type": "stream",
     "text": [
      "train 0.005755531283883872\n"
     ]
    },
    {
     "name": "stderr",
     "output_type": "stream",
     "text": [
      "100%|██████████| 1728/1728 [00:07<00:00, 240.97it/s]\n"
     ]
    },
    {
     "name": "stdout",
     "output_type": "stream",
     "text": [
      "valid 0.00552830202039269\n"
     ]
    },
    {
     "name": "stderr",
     "output_type": "stream",
     "text": [
      "100%|██████████| 1591/1591 [00:18<00:00, 88.34it/s]\n"
     ]
    },
    {
     "name": "stdout",
     "output_type": "stream",
     "text": [
      "0 {'Accuracy@10': 0.21401634192331867, 'Accuracy@20': 0.2120678818353237, 'Accuracy@30': 0.20798240100565682, 'Accuracy@40': 0.2015713387806411, 'Accuracy@50': 0.1939409176618479}\n",
      "saved model to cache/model/movielens/attentive.pt\n"
     ]
    },
    {
     "name": "stderr",
     "output_type": "stream",
     "text": [
      "100%|██████████| 9207/9207 [02:03<00:00, 74.52it/s]\n"
     ]
    },
    {
     "name": "stdout",
     "output_type": "stream",
     "text": [
      "train 0.005355377870710876\n"
     ]
    },
    {
     "name": "stderr",
     "output_type": "stream",
     "text": [
      "100%|██████████| 1728/1728 [00:07<00:00, 239.60it/s]\n"
     ]
    },
    {
     "name": "stdout",
     "output_type": "stream",
     "text": [
      "valid 0.005364514578618403\n"
     ]
    },
    {
     "name": "stderr",
     "output_type": "stream",
     "text": [
      "100%|██████████| 1591/1591 [00:18<00:00, 86.63it/s]\n"
     ]
    },
    {
     "name": "stdout",
     "output_type": "stream",
     "text": [
      "1 {'Accuracy@10': 0.22564424890006288, 'Accuracy@20': 0.21671904462602137, 'Accuracy@30': 0.212717368531322, 'Accuracy@40': 0.2048240100565682, 'Accuracy@50': 0.19836580766813325}\n",
      "saved model to cache/model/movielens/attentive.pt\n"
     ]
    },
    {
     "name": "stderr",
     "output_type": "stream",
     "text": [
      "100%|██████████| 9207/9207 [02:04<00:00, 73.95it/s]\n"
     ]
    },
    {
     "name": "stdout",
     "output_type": "stream",
     "text": [
      "train 0.005244383462193386\n"
     ]
    },
    {
     "name": "stderr",
     "output_type": "stream",
     "text": [
      "100%|██████████| 1728/1728 [00:07<00:00, 227.64it/s]\n"
     ]
    },
    {
     "name": "stdout",
     "output_type": "stream",
     "text": [
      "valid 0.005283858851754108\n"
     ]
    },
    {
     "name": "stderr",
     "output_type": "stream",
     "text": [
      "100%|██████████| 1591/1591 [00:17<00:00, 88.43it/s]\n"
     ]
    },
    {
     "name": "stdout",
     "output_type": "stream",
     "text": [
      "2 {'Accuracy@10': 0.22903834066624765, 'Accuracy@20': 0.2211502199874293, 'Accuracy@30': 0.21146029750680914, 'Accuracy@40': 0.20479258328095534, 'Accuracy@50': 0.1981772470144563}\n",
      "saved model to cache/model/movielens/attentive.pt\n"
     ]
    },
    {
     "name": "stderr",
     "output_type": "stream",
     "text": [
      "100%|██████████| 9207/9207 [02:02<00:00, 75.16it/s]\n"
     ]
    },
    {
     "name": "stdout",
     "output_type": "stream",
     "text": [
      "train 0.0051948451367765745\n"
     ]
    },
    {
     "name": "stderr",
     "output_type": "stream",
     "text": [
      "100%|██████████| 1728/1728 [00:07<00:00, 242.39it/s]\n"
     ]
    },
    {
     "name": "stdout",
     "output_type": "stream",
     "text": [
      "valid 0.005239044801172826\n"
     ]
    },
    {
     "name": "stderr",
     "output_type": "stream",
     "text": [
      "100%|██████████| 1591/1591 [00:18<00:00, 88.23it/s]\n"
     ]
    },
    {
     "name": "stdout",
     "output_type": "stream",
     "text": [
      "3 {'Accuracy@10': 0.2191703331238215, 'Accuracy@20': 0.2143306096794469, 'Accuracy@30': 0.20722815839094907, 'Accuracy@40': 0.20160276555625392, 'Accuracy@50': 0.19669390320553112}\n",
      "saved model to cache/model/movielens/attentive.pt\n"
     ]
    },
    {
     "name": "stderr",
     "output_type": "stream",
     "text": [
      "100%|██████████| 9207/9207 [02:03<00:00, 74.77it/s]\n"
     ]
    },
    {
     "name": "stdout",
     "output_type": "stream",
     "text": [
      "train 0.005169091393437349\n"
     ]
    },
    {
     "name": "stderr",
     "output_type": "stream",
     "text": [
      "100%|██████████| 1728/1728 [00:07<00:00, 239.53it/s]\n"
     ]
    },
    {
     "name": "stdout",
     "output_type": "stream",
     "text": [
      "valid 0.00521188596118074\n"
     ]
    },
    {
     "name": "stderr",
     "output_type": "stream",
     "text": [
      "100%|██████████| 1591/1591 [00:18<00:00, 88.33it/s]\n"
     ]
    },
    {
     "name": "stdout",
     "output_type": "stream",
     "text": [
      "4 {'Accuracy@10': 0.202828409805154, 'Accuracy@20': 0.20568824638592081, 'Accuracy@30': 0.20389692017598995, 'Accuracy@40': 0.19981143934632306, 'Accuracy@50': 0.19411690760527972}\n",
      "saved model to cache/model/movielens/attentive.pt\n"
     ]
    },
    {
     "name": "stderr",
     "output_type": "stream",
     "text": [
      "100%|██████████| 9207/9207 [02:02<00:00, 74.99it/s]\n"
     ]
    },
    {
     "name": "stdout",
     "output_type": "stream",
     "text": [
      "train 0.005154211266912893\n"
     ]
    },
    {
     "name": "stderr",
     "output_type": "stream",
     "text": [
      "100%|██████████| 1728/1728 [00:07<00:00, 239.31it/s]\n"
     ]
    },
    {
     "name": "stdout",
     "output_type": "stream",
     "text": [
      "valid 0.005194266114756366\n"
     ]
    },
    {
     "name": "stderr",
     "output_type": "stream",
     "text": [
      "100%|██████████| 1591/1591 [00:18<00:00, 87.77it/s]\n"
     ]
    },
    {
     "name": "stdout",
     "output_type": "stream",
     "text": [
      "5 {'Accuracy@10': 0.1790069138906348, 'Accuracy@20': 0.18953488372093025, 'Accuracy@30': 0.19122145401215168, 'Accuracy@40': 0.19266184789440605, 'Accuracy@50': 0.19060967944688875}\n",
      "saved model to cache/model/movielens/attentive.pt\n"
     ]
    },
    {
     "name": "stderr",
     "output_type": "stream",
     "text": [
      "100%|██████████| 9207/9207 [02:03<00:00, 74.73it/s]\n"
     ]
    },
    {
     "name": "stdout",
     "output_type": "stream",
     "text": [
      "train 0.005144907952008839\n"
     ]
    },
    {
     "name": "stderr",
     "output_type": "stream",
     "text": [
      "100%|██████████| 1728/1728 [00:07<00:00, 220.47it/s]\n"
     ]
    },
    {
     "name": "stdout",
     "output_type": "stream",
     "text": [
      "valid 0.005182235934409795\n"
     ]
    },
    {
     "name": "stderr",
     "output_type": "stream",
     "text": [
      "100%|██████████| 1591/1591 [00:17<00:00, 88.62it/s]\n"
     ]
    },
    {
     "name": "stdout",
     "output_type": "stream",
     "text": [
      "6 {'Accuracy@10': 0.15411690760527968, 'Accuracy@20': 0.1653048397234444, 'Accuracy@30': 0.17186256023465327, 'Accuracy@40': 0.17578566939032053, 'Accuracy@50': 0.17806411062225017}\n",
      "saved model to cache/model/movielens/attentive.pt\n"
     ]
    },
    {
     "name": "stderr",
     "output_type": "stream",
     "text": [
      "100%|██████████| 9207/9207 [02:03<00:00, 74.80it/s]\n"
     ]
    },
    {
     "name": "stdout",
     "output_type": "stream",
     "text": [
      "train 0.005138717738587211\n"
     ]
    },
    {
     "name": "stderr",
     "output_type": "stream",
     "text": [
      "100%|██████████| 1728/1728 [00:07<00:00, 238.91it/s]\n"
     ]
    },
    {
     "name": "stdout",
     "output_type": "stream",
     "text": [
      "valid 0.005173948281464902\n"
     ]
    },
    {
     "name": "stderr",
     "output_type": "stream",
     "text": [
      "100%|██████████| 1591/1591 [00:17<00:00, 88.69it/s]\n"
     ]
    },
    {
     "name": "stdout",
     "output_type": "stream",
     "text": [
      "7 {'Accuracy@10': 0.13331238214959146, 'Accuracy@20': 0.14333752357008173, 'Accuracy@30': 0.1512884978001257, 'Accuracy@40': 0.15592394720301697, 'Accuracy@50': 0.16045254556882466}\n",
      "saved model to cache/model/movielens/attentive.pt\n"
     ]
    },
    {
     "name": "stderr",
     "output_type": "stream",
     "text": [
      "100%|██████████| 9207/9207 [02:03<00:00, 74.80it/s]\n"
     ]
    },
    {
     "name": "stdout",
     "output_type": "stream",
     "text": [
      "train 0.005134450514292347\n"
     ]
    },
    {
     "name": "stderr",
     "output_type": "stream",
     "text": [
      "100%|██████████| 1728/1728 [00:07<00:00, 242.17it/s]\n"
     ]
    },
    {
     "name": "stdout",
     "output_type": "stream",
     "text": [
      "valid 0.0051676021891333785\n"
     ]
    },
    {
     "name": "stderr",
     "output_type": "stream",
     "text": [
      "100%|██████████| 1591/1591 [00:17<00:00, 88.78it/s]\n"
     ]
    },
    {
     "name": "stdout",
     "output_type": "stream",
     "text": [
      "8 {'Accuracy@10': 0.12520427404148335, 'Accuracy@20': 0.134098051539912, 'Accuracy@30': 0.141169076052797, 'Accuracy@40': 0.1451917033312382, 'Accuracy@50': 0.15011942174732873}\n",
      "saved model to cache/model/movielens/attentive.pt\n"
     ]
    },
    {
     "name": "stderr",
     "output_type": "stream",
     "text": [
      "100%|██████████| 9207/9207 [02:03<00:00, 74.70it/s]\n"
     ]
    },
    {
     "name": "stdout",
     "output_type": "stream",
     "text": [
      "train 0.0051313428499251265\n"
     ]
    },
    {
     "name": "stderr",
     "output_type": "stream",
     "text": [
      "100%|██████████| 1728/1728 [00:07<00:00, 238.69it/s]\n"
     ]
    },
    {
     "name": "stdout",
     "output_type": "stream",
     "text": [
      "valid 0.005162893924598728\n"
     ]
    },
    {
     "name": "stderr",
     "output_type": "stream",
     "text": [
      "100%|██████████| 1591/1591 [00:17<00:00, 89.00it/s]\n"
     ]
    },
    {
     "name": "stdout",
     "output_type": "stream",
     "text": [
      "9 {'Accuracy@10': 0.11697045883092394, 'Accuracy@20': 0.12554996857322437, 'Accuracy@30': 0.12960402262727844, 'Accuracy@40': 0.1349151477058454, 'Accuracy@50': 0.13963544940289127}\n",
      "saved model to cache/model/movielens/attentive.pt\n"
     ]
    }
   ],
   "source": [
    "results = {}\n",
    "\n",
    "for run_config in run_configs:\n",
    "    results[run_config[\"name\"]] = {\"accuracy\": []}\n",
    "    model_config = ModelConfig(\n",
    "        weight_decay=1e-8,\n",
    "        max_embedding_norm=1,\n",
    "        d_model=run_config[\"d_model\"],\n",
    "        lr=5e-5,\n",
    "    )\n",
    "    trainer_config = TrainerConfig(\n",
    "        dataset_name=\"movielens\",\n",
    "        model_name=run_config[\"model_name\"],\n",
    "        load_dataset=False,\n",
    "        save_dataset=False,\n",
    "        load_model=False,\n",
    "        ignore_saved_model=True,\n",
    "        epochs=run_config[\"epochs\"],\n",
    "    )\n",
    "\n",
    "    print(model_config)\n",
    "    print(trainer_config)\n",
    "\n",
    "    dataset_manager = load_dataset_manager(\n",
    "        dataset_name=trainer_config.dataset_name,\n",
    "        dataset_dir=trainer_config.dataset_dir,\n",
    "        data_dir=\"../data/\",\n",
    "        load_dataset=trainer_config.load_dataset,\n",
    "        save_dataset=trainer_config.save_dataset,\n",
    "        window_size=model_config.window_size,\n",
    "    )\n",
    "    print(\n",
    "        \"train:\",\n",
    "        len(dataset_manager.train_dataset),\n",
    "        \"valid:\",\n",
    "        len(dataset_manager.valid_dataset),\n",
    "    )\n",
    "    model = load_model(\n",
    "        dataset_manager=dataset_manager,\n",
    "        trainer_config=trainer_config,\n",
    "        model_config=model_config,\n",
    "    )\n",
    "    trainer = PyTorchTrainer(\n",
    "        model=model,\n",
    "        dataset_manager=dataset_manager,\n",
    "        trainer_config=trainer_config,\n",
    "        model_config=model_config,\n",
    "    )\n",
    "\n",
    "    def on_epoch_end(epoch: int):\n",
    "        result = calc_accuracy(\n",
    "            model=model,\n",
    "            num_item=dataset_manager.num_item,\n",
    "            test_dataset=dataset_manager.test_datasets[\"test\"],\n",
    "            top_k=[10, 20, 30, 40, 50],\n",
    "        )\n",
    "        print(epoch, result)\n",
    "        results[run_config[\"name\"]][\"accuracy\"].append(result)\n",
    "        torch.save(model, f\"cache/model/movielens-2/{run_config['name']}-{epoch}.pt\")\n",
    "\n",
    "    losses = trainer.fit(on_epoch_end=on_epoch_end)\n",
    "    results[run_config[\"name\"]][\"loss\"] = losses\n",
    "\n",
    "    with open(\"result-2.json\", \"w\") as f:\n",
    "        json.dump(results, f)"
   ]
  },
  {
   "cell_type": "code",
   "execution_count": 10,
   "metadata": {},
   "outputs": [
    {
     "name": "stdout",
     "output_type": "stream",
     "text": [
      "User2Vec (d=16), 0.16983\n",
      "User2Vec (d=32), 0.17639\n",
      "User2Vec (d=64), 0.18965\n",
      "AU2V (wo weight-tieing), 0.19933\n",
      "AU2V (d=16), 0.20616\n",
      "AU2V (d=32), 0.20943\n",
      "AU2V (d=64), 0.21272\n"
     ]
    }
   ],
   "source": [
    "\"\"\"\n",
    "User2Vec (d=16), 0.15412\n",
    "User2Vec (d=32), 0.17609\n",
    "User2Vec (d=64), 0.18804\n",
    "AU2V (wo weight-tieing), 0.19713\n",
    "AU2V (d=16), 0.20411\n",
    "AU2V (d=32), 0.20859\n",
    "AU2V (d=64), 0.21102\n",
    "\"\"\"\n",
    "\n",
    "for method, result in results.items():\n",
    "    a = max(map(lambda r: r[\"Accuracy@30\"], result[\"accuracy\"]))\n",
    "    print(f\"{method}, {a:.5}\")"
   ]
  }
 ],
 "metadata": {
  "kernelspec": {
   "display_name": ".venv",
   "language": "python",
   "name": "python3"
  },
  "language_info": {
   "codemirror_mode": {
    "name": "ipython",
    "version": 3
   },
   "file_extension": ".py",
   "mimetype": "text/x-python",
   "name": "python",
   "nbconvert_exporter": "python",
   "pygments_lexer": "ipython3",
   "version": "3.11.6"
  }
 },
 "nbformat": 4,
 "nbformat_minor": 2
}
