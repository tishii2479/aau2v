{
 "cells": [
  {
   "cell_type": "code",
   "execution_count": null,
   "metadata": {},
   "outputs": [],
   "source": [
    "import pandas as pd\n",
    "import matplotlib.pyplot as plt\n",
    "\n",
    "plt.rcParams['font.family'] = \"Hiragino Sans\"\n",
    "# plt.rcParams['font.weight'] = \"\""
   ]
  },
  {
   "cell_type": "code",
   "execution_count": null,
   "metadata": {},
   "outputs": [],
   "source": [
    "movies = pd.read_csv(\"../data/ml-1m/movies.csv\")\n",
    "movies"
   ]
  },
  {
   "cell_type": "code",
   "execution_count": null,
   "metadata": {},
   "outputs": [],
   "source": [
    "fig = plt.figure(figsize=(16, 8))"
   ]
  },
  {
   "cell_type": "code",
   "execution_count": null,
   "metadata": {},
   "outputs": [],
   "source": [
    "genre_count = {}\n",
    "for genres in movies.genre.apply(lambda s: s.split(\"|\")):\n",
    "    for genre in genres:\n",
    "        if genre not in genre_count:\n",
    "            genre_count[genre] = 0\n",
    "        genre_count[genre] += 1\n",
    "\n",
    "genre_count = sorted(genre_count.items(), key=lambda x: x[1], reverse=True)\n",
    "keys = list(map(lambda x: x[0], genre_count))\n",
    "values = list(map(lambda x: x[1], genre_count))\n",
    "\n",
    "ax = fig.add_subplot(2, 3, 1)\n",
    "ax.set_title(\"映画のジャンルの分布\")\n",
    "ax.bar(keys, values, color=\"#274A78\")\n",
    "ax.tick_params('x', labelrotation=90)\n",
    "fig"
   ]
  },
  {
   "cell_type": "code",
   "execution_count": null,
   "metadata": {},
   "outputs": [],
   "source": [
    "year_count = movies.year.value_counts()\n",
    "\n",
    "ax = fig.add_subplot(2, 3, 2)\n",
    "ax.set_title(\"映画の公開年の分布\")\n",
    "ax.bar(year_count.keys(), year_count, width=6.0, color=\"#274A78\")\n",
    "fig"
   ]
  },
  {
   "cell_type": "code",
   "execution_count": null,
   "metadata": {},
   "outputs": [],
   "source": [
    "ratings = pd.read_csv(\"../data/ml-1m/ratings.dat\", sep=\"::\", engine=\"python\", header=None)\n",
    "ratings.columns = [\"user_id\", \"movie_id\", \"rate\", \"timestamp\"]\n",
    "ratings"
   ]
  },
  {
   "cell_type": "code",
   "execution_count": null,
   "metadata": {},
   "outputs": [],
   "source": [
    "rate_count = ratings.rate.value_counts()\n",
    "ax = fig.add_subplot(2, 3, 3)\n",
    "ax.set_title(\"映画の評価の分布\")\n",
    "ax.bar(rate_count.keys(), rate_count, color=\"#274A78\")\n",
    "fig"
   ]
  },
  {
   "cell_type": "code",
   "execution_count": null,
   "metadata": {},
   "outputs": [],
   "source": [
    "users = pd.read_csv(\"../data/ml-1m/users.csv\")\n",
    "users"
   ]
  },
  {
   "cell_type": "code",
   "execution_count": null,
   "metadata": {},
   "outputs": [],
   "source": [
    "age_count = users.age.value_counts()\n",
    "keys = [\n",
    "    \"Under 18\",\n",
    "    \"18-24\",\n",
    "    \"25-34\",\n",
    "    \"35-44\",\n",
    "    \"45-49\",\n",
    "    \"50-55\",\n",
    "    \"56+\",\n",
    "]\n",
    "ax = fig.add_subplot(2, 3, 4)\n",
    "ax.set_title(\"ユーザの年齢層の分布\")\n",
    "ax.bar(keys, list(map(lambda x: age_count[x], keys)), color=\"#274A78\")\n",
    "fig.tight_layout()"
   ]
  },
  {
   "cell_type": "code",
   "execution_count": null,
   "metadata": {},
   "outputs": [],
   "source": [
    "gender_count = users.gender.value_counts()\n",
    "ax = fig.add_subplot(2, 3, 5)\n",
    "ax.set_title(\"ユーザの性別の分布\")\n",
    "ax.bar([\"Male\", \"Female\"], gender_count, color=\"#274A78\")\n",
    "fig"
   ]
  },
  {
   "cell_type": "code",
   "execution_count": null,
   "metadata": {},
   "outputs": [],
   "source": [
    "occupation_count = users.occupation.value_counts()\n",
    "\n",
    "ax = fig.add_subplot(2, 3, 6)\n",
    "ax.tick_params('x', labelrotation=90)\n",
    "ax.set_title(\"ユーザの職種の分布\")\n",
    "ax.bar(occupation_count.keys(), occupation_count, color=\"#274A78\")"
   ]
  },
  {
   "cell_type": "code",
   "execution_count": null,
   "metadata": {},
   "outputs": [],
   "source": [
    "fig.tight_layout()\n",
    "fig.savefig(\"data/ml-statistics.pdf\", format=\"pdf\")"
   ]
  },
  {
   "cell_type": "code",
   "execution_count": null,
   "metadata": {},
   "outputs": [],
   "source": [
    "fig"
   ]
  },
  {
   "cell_type": "code",
   "execution_count": null,
   "metadata": {},
   "outputs": [],
   "source": []
  }
 ],
 "metadata": {
  "kernelspec": {
   "display_name": "Python 3.10.4 64-bit ('3.10.4')",
   "language": "python",
   "name": "python3"
  },
  "language_info": {
   "codemirror_mode": {
    "name": "ipython",
    "version": 3
   },
   "file_extension": ".py",
   "mimetype": "text/x-python",
   "name": "python",
   "nbconvert_exporter": "python",
   "pygments_lexer": "ipython3",
   "version": "3.10.4"
  },
  "vscode": {
   "interpreter": {
    "hash": "2a5fb540920344d2a30df49d123c0d51f1e8fc17e24494fc3a54f6f29186e4c7"
   }
  }
 },
 "nbformat": 4,
 "nbformat_minor": 2
}
