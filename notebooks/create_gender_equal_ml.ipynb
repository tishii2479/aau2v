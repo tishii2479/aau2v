{
 "cells": [
  {
   "cell_type": "code",
   "execution_count": 1,
   "metadata": {},
   "outputs": [],
   "source": [
    "import pandas as pd"
   ]
  },
  {
   "cell_type": "code",
   "execution_count": 13,
   "metadata": {},
   "outputs": [],
   "source": [
    "train_df = pd.read_csv(\"../data/ml-1m/train.csv\")\n",
    "user_df = pd.read_csv(\"../data/ml-1m/users.csv\")"
   ]
  },
  {
   "cell_type": "code",
   "execution_count": 14,
   "metadata": {},
   "outputs": [],
   "source": [
    "train_user_df = pd.merge(train_df, user_df, on=\"user_id\", how=\"inner\")"
   ]
  },
  {
   "cell_type": "code",
   "execution_count": 24,
   "metadata": {},
   "outputs": [],
   "source": [
    "train_size = 1700\n",
    "female_df = train_user_df[train_user_df.gender == \"F\"][:train_size]\n",
    "male_df = train_user_df[train_user_df.gender == \"M\"][:train_size]"
   ]
  },
  {
   "cell_type": "code",
   "execution_count": 30,
   "metadata": {},
   "outputs": [
    {
     "data": {
      "text/html": [
       "<div>\n",
       "<style scoped>\n",
       "    .dataframe tbody tr th:only-of-type {\n",
       "        vertical-align: middle;\n",
       "    }\n",
       "\n",
       "    .dataframe tbody tr th {\n",
       "        vertical-align: top;\n",
       "    }\n",
       "\n",
       "    .dataframe thead th {\n",
       "        text-align: right;\n",
       "    }\n",
       "</style>\n",
       "<table border=\"1\" class=\"dataframe\">\n",
       "  <thead>\n",
       "    <tr style=\"text-align: right;\">\n",
       "      <th></th>\n",
       "      <th>user_id</th>\n",
       "      <th>sequence</th>\n",
       "    </tr>\n",
       "  </thead>\n",
       "  <tbody>\n",
       "    <tr>\n",
       "      <th>0</th>\n",
       "      <td>1</td>\n",
       "      <td>3408 2355 1197 1287 2804 594 919 595 938 2398 ...</td>\n",
       "    </tr>\n",
       "    <tr>\n",
       "      <th>5</th>\n",
       "      <td>6</td>\n",
       "      <td>2082 3600 3604 2802 3534 3536 1210 3753 3682 2...</td>\n",
       "    </tr>\n",
       "    <tr>\n",
       "      <th>9</th>\n",
       "      <td>10</td>\n",
       "      <td>3252 1721 3254 3255 2453 110 1580 1653 2529 16...</td>\n",
       "    </tr>\n",
       "    <tr>\n",
       "      <th>10</th>\n",
       "      <td>11</td>\n",
       "      <td>1753 1682 216 2997 1259 1188 2706 586 587 2639...</td>\n",
       "    </tr>\n",
       "    <tr>\n",
       "      <th>15</th>\n",
       "      <td>16</td>\n",
       "      <td>2987 2555 2629 1682 2485 2701 2568 3004 1269 2...</td>\n",
       "    </tr>\n",
       "    <tr>\n",
       "      <th>...</th>\n",
       "      <td>...</td>\n",
       "      <td>...</td>\n",
       "    </tr>\n",
       "    <tr>\n",
       "      <th>2335</th>\n",
       "      <td>2336</td>\n",
       "      <td>1408 1266 2401 1653 266 276 3836 1193 1196 119...</td>\n",
       "    </tr>\n",
       "    <tr>\n",
       "      <th>2336</th>\n",
       "      <td>2337</td>\n",
       "      <td>2302 3105 1370 1377 2321 1527 1393 2355 1573 1721</td>\n",
       "    </tr>\n",
       "    <tr>\n",
       "      <th>2337</th>\n",
       "      <td>2338</td>\n",
       "      <td>3363 1914 160 3384 318 2598 329 3551 1953 1954...</td>\n",
       "    </tr>\n",
       "    <tr>\n",
       "      <th>2339</th>\n",
       "      <td>2340</td>\n",
       "      <td>2792 2793 2794 2795 1994 1057 2797 1059 380 60...</td>\n",
       "    </tr>\n",
       "    <tr>\n",
       "      <th>2340</th>\n",
       "      <td>2341</td>\n",
       "      <td>2359 3160 3174 3175 1580 3185 2529 2530 2532 2533</td>\n",
       "    </tr>\n",
       "  </tbody>\n",
       "</table>\n",
       "<p>3400 rows × 2 columns</p>\n",
       "</div>"
      ],
      "text/plain": [
       "      user_id                                           sequence\n",
       "0           1  3408 2355 1197 1287 2804 594 919 595 938 2398 ...\n",
       "5           6  2082 3600 3604 2802 3534 3536 1210 3753 3682 2...\n",
       "9          10  3252 1721 3254 3255 2453 110 1580 1653 2529 16...\n",
       "10         11  1753 1682 216 2997 1259 1188 2706 586 587 2639...\n",
       "15         16  2987 2555 2629 1682 2485 2701 2568 3004 1269 2...\n",
       "...       ...                                                ...\n",
       "2335     2336  1408 1266 2401 1653 266 276 3836 1193 1196 119...\n",
       "2336     2337  2302 3105 1370 1377 2321 1527 1393 2355 1573 1721\n",
       "2337     2338  3363 1914 160 3384 318 2598 329 3551 1953 1954...\n",
       "2339     2340  2792 2793 2794 2795 1994 1057 2797 1059 380 60...\n",
       "2340     2341  2359 3160 3174 3175 1580 3185 2529 2530 2532 2533\n",
       "\n",
       "[3400 rows x 2 columns]"
      ]
     },
     "execution_count": 30,
     "metadata": {},
     "output_type": "execute_result"
    }
   ],
   "source": [
    "new_train_df = pd.concat([female_df, male_df])[[\"user_id\", \"sequence\"]]\n",
    "new_train_df"
   ]
  },
  {
   "cell_type": "code",
   "execution_count": 31,
   "metadata": {},
   "outputs": [],
   "source": [
    "new_train_df.to_csv(\"../data/ml-1m/equal-gender-train.csv\")"
   ]
  },
  {
   "cell_type": "code",
   "execution_count": null,
   "metadata": {},
   "outputs": [],
   "source": []
  }
 ],
 "metadata": {
  "kernelspec": {
   "display_name": "Python 3.10.4 64-bit ('3.10.4')",
   "language": "python",
   "name": "python3"
  },
  "language_info": {
   "codemirror_mode": {
    "name": "ipython",
    "version": 3
   },
   "file_extension": ".py",
   "mimetype": "text/x-python",
   "name": "python",
   "nbconvert_exporter": "python",
   "pygments_lexer": "ipython3",
   "version": "3.10.4"
  },
  "orig_nbformat": 4,
  "vscode": {
   "interpreter": {
    "hash": "2a5fb540920344d2a30df49d123c0d51f1e8fc17e24494fc3a54f6f29186e4c7"
   }
  }
 },
 "nbformat": 4,
 "nbformat_minor": 2
}
