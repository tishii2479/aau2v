{
 "cells": [
  {
   "cell_type": "code",
   "execution_count": null,
   "metadata": {},
   "outputs": [],
   "source": [
    "import numpy as np\n",
    "import torch\n",
    "import torch.nn.functional as F\n",
    "from scipy.stats import spearmanr\n",
    "import matplotlib.pyplot as plt\n",
    "import random\n",
    "\n",
    "import sys\n",
    "sys.path.append(\"..\")\n",
    "\n",
    "from analyst import Analyst\n",
    "from config import ModelConfig, TrainerConfig\n",
    "from dataset import load_dataset_manager\n",
    "from trainers import PyTorchTrainer"
   ]
  },
  {
   "cell_type": "code",
   "execution_count": null,
   "metadata": {},
   "outputs": [],
   "source": [
    "torch.manual_seed(0)\n",
    "np.random.seed(0)\n",
    "\n",
    "trainer_config = TrainerConfig(\n",
    "    dataset_name=\"movielens\", epochs=0, load_model=True, batch_size=64,\n",
    "    model_dir=\"../cache/model/\", dataset_dir=\"../cache/dataset/\"\n",
    ")\n",
    "model_config = ModelConfig(d_model=128, lr=0.0001, init_embedding_std=0.2, window_size=5)"
   ]
  },
  {
   "cell_type": "code",
   "execution_count": null,
   "metadata": {},
   "outputs": [],
   "source": [
    "dataset_manager = load_dataset_manager(\n",
    "    dataset_name=trainer_config.dataset_name,\n",
    "    dataset_dir=trainer_config.dataset_dir,\n",
    "    load_dataset=trainer_config.load_dataset,\n",
    "    save_dataset=trainer_config.save_dataset,\n",
    "    window_size=model_config.window_size,\n",
    "    data_dir=\"../data/\"\n",
    ")"
   ]
  },
  {
   "cell_type": "code",
   "execution_count": null,
   "metadata": {},
   "outputs": [],
   "source": [
    "trainer = PyTorchTrainer(\n",
    "    dataset_manager=dataset_manager,\n",
    "    trainer_config=trainer_config,\n",
    "    model_config=model_config,\n",
    ")\n",
    "analyst = Analyst(\n",
    "    dataset_manager=dataset_manager,\n",
    "    model=trainer.model\n",
    ")"
   ]
  },
  {
   "cell_type": "code",
   "execution_count": null,
   "metadata": {},
   "outputs": [],
   "source": [
    "from util import to_full_meta_value\n",
    "\n",
    "seq_meta_name = \"occupation\"\n",
    "item_meta_name = \"genre\"\n",
    "seq_meta_names = sorted([\n",
    "    to_full_meta_value(seq_meta_name, e)\n",
    "    for e in dataset_manager.seq_meta_dict[seq_meta_name]\n",
    "])\n",
    "item_meta_names = sorted([\n",
    "    to_full_meta_value(item_meta_name, e)\n",
    "    for e in dataset_manager.item_meta_dict[item_meta_name]\n",
    "])\n",
    "\n",
    "fig, ax = analyst.visualize_similarity_heatmap(\n",
    "    seq_meta_names=seq_meta_names,\n",
    "    item_meta_names=item_meta_names,\n",
    ")\n",
    "\n",
    "fig.tight_layout()\n",
    "fig.savefig(f\"../data/fig_heatmap_{seq_meta_name}_{item_meta_name}.pdf\", format=\"pdf\")"
   ]
  },
  {
   "cell_type": "code",
   "execution_count": null,
   "metadata": {},
   "outputs": [],
   "source": [
    "[\"age:Under 18\", \"age:18-24\", \"age:25-34\", \"age:35-44\", \"age:45-49\", \"age:50-55\", \"age:56+\"]"
   ]
  },
  {
   "cell_type": "code",
   "execution_count": null,
   "metadata": {},
   "outputs": [],
   "source": [
    "rnd = random.Random(0)\n",
    "\n",
    "target_ids = []\n",
    "for id, d in dataset_manager.seq_metadata.items():\n",
    "    if d[\"gender\"] == \"M\" and d[\"age\"] == \"25-34\" and d[\"occupation\"] == \"college/grad student\":\n",
    "        target_ids.append(int(id))\n",
    "\n",
    "random.shuffle(target_ids, rnd.random)\n",
    "\n",
    "target_ids = sorted(target_ids[:5])\n",
    "item_keys = dataset_manager.item_meta_le.classes_\n",
    "seq_keys = list(map(lambda s: \"顧客\" + str(s), target_ids))\n",
    "\n",
    "data = np.zeros((len(seq_keys), len(item_keys)))\n",
    "for i, id in enumerate(target_ids):\n",
    "    seq_name = dataset_manager.seq_le.classes_[id]\n",
    "    df = analyst.analyze_seq(id)\n",
    "    df = df[df.seq == seq_name]\n",
    "    for j, item_key in enumerate(item_keys):\n",
    "        data[i][j] = df[df.item == item_key].similarity.values[0]\n",
    "\n",
    "import util\n",
    "plt.rcParams['font.family'] = 'Hiragino Sans'\n",
    "plt.rcParams['font.weight'] = 'regular'\n",
    "fig, ax = util.visualize_heatmap(data, seq_keys, item_keys)\n",
    "fig.tight_layout()\n",
    "fig.savefig(\"data/fig_heatmap_user_itemmeta.pdf\")"
   ]
  },
  {
   "cell_type": "code",
   "execution_count": null,
   "metadata": {},
   "outputs": [],
   "source": []
  }
 ],
 "metadata": {
  "kernelspec": {
   "display_name": "Python 3",
   "language": "python",
   "name": "python3"
  },
  "language_info": {
   "codemirror_mode": {
    "name": "ipython",
    "version": 3
   },
   "file_extension": ".py",
   "mimetype": "text/x-python",
   "name": "python",
   "nbconvert_exporter": "python",
   "pygments_lexer": "ipython3",
   "version": "3.10.4"
  },
  "vscode": {
   "interpreter": {
    "hash": "2a5fb540920344d2a30df49d123c0d51f1e8fc17e24494fc3a54f6f29186e4c7"
   }
  }
 },
 "nbformat": 4,
 "nbformat_minor": 2
}
