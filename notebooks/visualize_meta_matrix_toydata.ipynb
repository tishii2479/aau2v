{
 "cells": [
  {
   "cell_type": "code",
   "execution_count": null,
   "metadata": {},
   "outputs": [],
   "source": [
    "import numpy as np\n",
    "import torch\n",
    "import torch.nn.functional as F\n",
    "from scipy.stats import spearmanr\n",
    "import matplotlib.pyplot as plt\n",
    "import matplotlib\n",
    "import seaborn as sns\n",
    "import os\n",
    "import sys\n",
    "from pathlib import Path\n",
    "\n",
    "sys.path.append(os.path.join(Path().resolve(), \"../src/\"))\n",
    "\n",
    "from analyst import Analyst\n",
    "from config import ModelConfig, TrainerConfig\n",
    "from dataset_manager import load_dataset_manager\n",
    "from trainers import PyTorchTrainer\n",
    "from model import load_model"
   ]
  },
  {
   "cell_type": "code",
   "execution_count": null,
   "metadata": {},
   "outputs": [],
   "source": [
    "torch.manual_seed(0)\n",
    "np.random.seed(0)\n",
    "\n",
    "trainer_config = TrainerConfig(\n",
    "    dataset_name=\"toydata-paper\", epochs=0, ignore_saved_model=True, load_model=True, batch_size=64,\n",
    "    model_dir=\"../cache/model/\", dataset_dir=\"../cache/dataset/\"\n",
    ")\n",
    "model_config = ModelConfig(d_model=128, lr=0.0001, init_embedding_std=0.2, window_size=5)"
   ]
  },
  {
   "cell_type": "code",
   "execution_count": null,
   "metadata": {},
   "outputs": [],
   "source": [
    "dataset_manager = load_dataset_manager(\n",
    "    dataset_name=trainer_config.dataset_name,\n",
    "    dataset_dir=trainer_config.dataset_dir,\n",
    "    load_dataset=trainer_config.load_dataset,\n",
    "    save_dataset=trainer_config.save_dataset,\n",
    "    window_size=model_config.window_size,\n",
    "    data_dir=\"../data/\"\n",
    ")"
   ]
  },
  {
   "cell_type": "code",
   "execution_count": null,
   "metadata": {},
   "outputs": [],
   "source": [
    "model = load_model(\n",
    "    dataset_manager=dataset_manager,\n",
    "    trainer_config=trainer_config,\n",
    "    model_config=model_config\n",
    ")\n",
    "trainer = PyTorchTrainer(\n",
    "    model=model,\n",
    "    dataset_manager=dataset_manager,\n",
    "    trainer_config=trainer_config,\n",
    "    model_config=model_config,\n",
    ")\n",
    "analyst = Analyst(\n",
    "    dataset_manager=dataset_manager,\n",
    "    model=trainer.model\n",
    ")"
   ]
  },
  {
   "cell_type": "code",
   "execution_count": null,
   "metadata": {},
   "outputs": [],
   "source": [
    "seq = analyst.seq_embedding\n",
    "seq_meta = analyst.seq_meta_embedding\n",
    "item_meta = analyst.item_meta_embedding"
   ]
  },
  {
   "cell_type": "code",
   "execution_count": null,
   "metadata": {},
   "outputs": [],
   "source": [
    "seq_keys = [\"u_4_M_20_50_M5\", \"u_1_M_20_50_M2\", \"u_38_M_20_50_M4\"]\n",
    "seq_meta_keys = [\"gender:M\", \"gender:F\", \"age:20\", \"age:30\", \"age:40\", \"age:50\", \"age:60\"]\n",
    "item_meta_keys = [\"genre:M\", \"genre:E\", \"genre:F\", \"year:1960\", \"year:1970\", \"year:1980\", \"year:1990\", \"year:2000\"]"
   ]
  },
  {
   "cell_type": "code",
   "execution_count": null,
   "metadata": {},
   "outputs": [],
   "source": [
    "# plt.rcParams[\"font.family\"] = \"Osaka\" # or \"Hiragino Mincho ProN\"\n",
    "# plt.rcParams['font.family'] = 'Hiragino Sans'\n",
    "plt.rcParams['font.weight'] = 'regular'\n",
    "plt.rcParams['figure.subplot.bottom'] = 0.30 # なんか保存する時にx軸のラベルが見切れるので、下の余白を調整\n",
    "# cmap = matplotlib.colors.LinearSegmentedColormap.from_list(\"\", [\"cyan\", \"white\", \"hotpink\"])\n",
    "cmap = \"OrRd\"\n",
    "# plt.rcParams[\"font.size\"] = 16"
   ]
  },
  {
   "cell_type": "code",
   "execution_count": null,
   "metadata": {},
   "outputs": [],
   "source": [
    "data = np.zeros((len(seq_meta_keys), len(item_meta_keys)))\n",
    "for i, seq_key in enumerate(seq_meta_keys):\n",
    "    for j, item_key in enumerate(item_meta_keys):\n",
    "        data[i][j] = torch.dot(seq_meta[seq_key], item_meta[item_key])\n",
    "\n",
    "# display_seq_meta_keys = list(map(lambda s: s.replace(\"gender:\", \"性別:\").replace(\"M\", \"男性\").replace(\"F\", \"女性\").replace(\"age:\", \"年代:\"), seq_meta_keys))\n",
    "# display_item_meta_keys = list(map(lambda s: s.replace(\"genre:\", \"ジャンル:\").replace(\"year:\", \"発売年:\"), item_meta_keys))\n",
    "display_seq_meta_keys = seq_meta_keys\n",
    "display_item_meta_keys = item_meta_keys\n",
    "\n",
    "plt.figure(figsize = (6,7/2))\n",
    "ax = sns.heatmap(data, linewidth=0.2, annot=True, fmt=\"5.2f\",\n",
    "    yticklabels=display_seq_meta_keys, xticklabels=display_item_meta_keys, cmap=cmap, cbar=False\n",
    ")\n",
    "ax.set_yticklabels(ax.get_yticklabels(), rotation=0)\n",
    "# plt.subplots_adjust(left=0.12, right=1, bottom=0.33, top=1)\n",
    "plt.savefig(\"../data/fig_heatmap.pdf\", format=\"pdf\", dpi=300)\n",
    "# plt.savefig(\"../data/fig_heatmap.svg\", format=\"svg\", dpi=300)"
   ]
  },
  {
   "cell_type": "code",
   "execution_count": null,
   "metadata": {},
   "outputs": [],
   "source": [
    "data = np.zeros((len(seq_keys), len(item_meta_keys)))\n",
    "for i, seq_key in enumerate(seq_keys):\n",
    "    for j, item_key in enumerate(item_meta_keys):\n",
    "        data[i][j] = np.dot(seq[seq_key], item_meta[item_key])\n",
    "\n",
    "display_item_meta_keys = list(map(lambda s: s.replace(\"genre:\", \"ジャンル:\").replace(\"year:\", \"発売年:\"), item_meta_keys))\n",
    "display_seq_meta_keys = [\"顧客A\", \"顧客B\", \"顧客C\"]\n",
    "display_item_meta_keys = item_meta_keys\n",
    "display_seq_meta_keys = [\"Customer A\", \"Customer B\", \"Customer C\"]\n",
    "\n",
    "plt.figure(figsize = (6,2))\n",
    "ax = sns.heatmap(data, linewidth=0.2, annot=True, fmt=\"5.2f\",\n",
    "    yticklabels=display_seq_meta_keys, xticklabels=display_item_meta_keys, cmap=cmap, cbar=False\n",
    ")\n",
    "ax.set_yticklabels(ax.get_yticklabels(), rotation=0)\n",
    "plt.subplots_adjust(left=0.18, right=1, bottom=0.5, top=1)\n",
    "plt.savefig(\"../data/fig_heatmap_user.pdf\", format=\"pdf\")\n",
    "# plt.savefig(\"../data/fig_heatmap_user.svg\", format=\"svg\", dpi=300)"
   ]
  },
  {
   "cell_type": "code",
   "execution_count": null,
   "metadata": {},
   "outputs": [],
   "source": []
  }
 ],
 "metadata": {
  "kernelspec": {
   "display_name": "Python 3",
   "language": "python",
   "name": "python3"
  },
  "language_info": {
   "codemirror_mode": {
    "name": "ipython",
    "version": 3
   },
   "file_extension": ".py",
   "mimetype": "text/x-python",
   "name": "python",
   "nbconvert_exporter": "python",
   "pygments_lexer": "ipython3",
   "version": "3.10.4"
  },
  "vscode": {
   "interpreter": {
    "hash": "2a5fb540920344d2a30df49d123c0d51f1e8fc17e24494fc3a54f6f29186e4c7"
   }
  }
 },
 "nbformat": 4,
 "nbformat_minor": 2
}
