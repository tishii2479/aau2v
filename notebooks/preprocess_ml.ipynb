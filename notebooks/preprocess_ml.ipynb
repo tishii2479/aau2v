{
 "cells": [
  {
   "cell_type": "code",
   "execution_count": 88,
   "metadata": {},
   "outputs": [],
   "source": [
    "import pandas as pd\n",
    "import datetime"
   ]
  },
  {
   "cell_type": "code",
   "execution_count": 89,
   "metadata": {},
   "outputs": [],
   "source": [
    "users = pd.read_csv(\"../data/ml-1m/users.dat\", sep=\"::\", engine=\"python\", header=None)\n",
    "movies = pd.read_csv(\"../data/ml-1m/movies.dat\", sep=\"::\", engine=\"python\", header=None)\n",
    "ratings = pd.read_csv(\"../data/ml-1m/ratings.dat\", sep=\"::\", engine=\"python\", header=None)\n",
    "\n",
    "users.columns = [\"user_id\", \"gender\", \"age\", \"occupation\", \"zip\"]\n",
    "movies.columns = [\"movie_id\", \"title\", \"genre\"]\n",
    "ratings.columns = [\"user_id\", \"movie_id\", \"rating\", \"timestamp\"]\n",
    "\n",
    "users = users.drop(\"zip\", axis=1)"
   ]
  },
  {
   "cell_type": "code",
   "execution_count": 90,
   "metadata": {},
   "outputs": [],
   "source": [
    "ages = {\n",
    "    1:  \"Under 18\",\n",
    "    18:  \"18-24\",\n",
    "    25:  \"25-34\",\n",
    "    35:  \"35-44\",\n",
    "    45:  \"45-49\",\n",
    "    50:  \"50-55\",\n",
    "    56:  \"56+\",\n",
    "}\n",
    "\n",
    "occupations = {\n",
    "\t0:  \"other\",\n",
    "\t1:  \"academic/educator\",\n",
    "\t2:  \"artist\",\n",
    "\t3:  \"clerical/admin\",\n",
    "\t4:  \"college/grad student\",\n",
    "\t5:  \"customer service\",\n",
    "\t6:  \"doctor/health care\",\n",
    "\t7:  \"executive/managerial\",\n",
    "\t8:  \"farmer\",\n",
    "\t9:  \"homemaker\",\n",
    "\t10:  \"K-12 student\",\n",
    "\t11:  \"lawyer\",\n",
    "\t12:  \"programmer\",\n",
    "\t13:  \"retired\",\n",
    "\t14:  \"sales/marketing\",\n",
    "\t15:  \"scientist\",\n",
    "\t16:  \"self-employed\",\n",
    "\t17:  \"technician/engineer\",\n",
    "\t18:  \"tradesman/craftsman\",\n",
    "\t19:  \"unemployed\",\n",
    "\t20:  \"writer\",\n",
    "}"
   ]
  },
  {
   "cell_type": "code",
   "execution_count": 91,
   "metadata": {},
   "outputs": [],
   "source": [
    "users.age = users.age.replace(ages)\n",
    "users.occupation = users.occupation.replace(occupations)"
   ]
  },
  {
   "cell_type": "code",
   "execution_count": 92,
   "metadata": {},
   "outputs": [],
   "source": [
    "movies[\"year\"] = movies.title.str.extract(\"\\((\\d{4})\\)\", expand=True)\n",
    "movies.year = movies.year.apply(lambda x: str(int(x) // 10 * 10))"
   ]
  },
  {
   "cell_type": "code",
   "execution_count": 93,
   "metadata": {},
   "outputs": [],
   "source": [
    "ratings = ratings.sort_values(by=\"timestamp\")\n",
    "ratings.timestamp = ratings.timestamp.apply(datetime.datetime.fromtimestamp)"
   ]
  },
  {
   "cell_type": "code",
   "execution_count": 94,
   "metadata": {},
   "outputs": [],
   "source": [
    "split_date = datetime.datetime(year=2000, month=12, day=1)"
   ]
  },
  {
   "cell_type": "code",
   "execution_count": 95,
   "metadata": {},
   "outputs": [],
   "source": [
    "train_df = ratings[ratings.timestamp < split_date]\n",
    "test_df = ratings[ratings.timestamp >= split_date]"
   ]
  },
  {
   "cell_type": "code",
   "execution_count": 96,
   "metadata": {},
   "outputs": [],
   "source": [
    "train_raw_sequences = (\n",
    "    train_df.groupby(\"user_id\")\n",
    "    .movie_id.agg(list)\n",
    "    .apply(lambda ls: \" \".join(map(str, ls)))\n",
    "    .rename(\"sequence\")\n",
    ")\n",
    "test_raw_sequences = (\n",
    "    test_df.groupby(\"user_id\")\n",
    "    .movie_id.agg(list)\n",
    "    .apply(lambda ls: \" \".join(map(str, ls)))\n",
    "    .rename(\"sequence\")\n",
    ")"
   ]
  },
  {
   "cell_type": "code",
   "execution_count": 97,
   "metadata": {},
   "outputs": [],
   "source": [
    "train_raw_sequences.to_csv(\"../data/ml-1m/train.csv\")\n",
    "test_raw_sequences.to_csv(\"../data/ml-1m/test.csv\")\n",
    "movies.to_csv(\"../data/ml-1m/movies.csv\", index=False)\n",
    "users.to_csv(\"../data/ml-1m/users.csv\", index=False)"
   ]
  },
  {
   "cell_type": "code",
   "execution_count": null,
   "metadata": {},
   "outputs": [],
   "source": []
  }
 ],
 "metadata": {
  "kernelspec": {
   "display_name": "Python 3.10.4 64-bit ('3.10.4')",
   "language": "python",
   "name": "python3"
  },
  "language_info": {
   "codemirror_mode": {
    "name": "ipython",
    "version": 3
   },
   "file_extension": ".py",
   "mimetype": "text/x-python",
   "name": "python",
   "nbconvert_exporter": "python",
   "pygments_lexer": "ipython3",
   "version": "3.10.4"
  },
  "vscode": {
   "interpreter": {
    "hash": "2a5fb540920344d2a30df49d123c0d51f1e8fc17e24494fc3a54f6f29186e4c7"
   }
  }
 },
 "nbformat": 4,
 "nbformat_minor": 2
}
