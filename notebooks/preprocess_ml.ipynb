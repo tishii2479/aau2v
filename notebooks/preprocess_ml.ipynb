{
 "cells": [
  {
   "cell_type": "code",
   "execution_count": 77,
   "metadata": {},
   "outputs": [],
   "source": [
    "import pandas as pd\n",
    "import datetime"
   ]
  },
  {
   "cell_type": "code",
   "execution_count": 78,
   "metadata": {},
   "outputs": [],
   "source": [
    "users = pd.read_csv(\"../data/ml-1m/users.dat\", sep=\"::\", engine=\"python\", header=None)\n",
    "movies = pd.read_csv(\"../data/ml-1m/movies.dat\", sep=\"::\", engine=\"python\", header=None)\n",
    "ratings = pd.read_csv(\"../data/ml-1m/ratings.dat\", sep=\"::\", engine=\"python\", header=None)\n",
    "\n",
    "users.columns = [\"user_id\", \"gender\", \"age\", \"occupation\", \"zip\"]\n",
    "movies.columns = [\"movie_id\", \"title\", \"genre\"]\n",
    "ratings.columns = [\"user_id\", \"movie_id\", \"rating\", \"timestamp\"]\n",
    "\n",
    "users = users.drop(\"zip\", axis=1)"
   ]
  },
  {
   "cell_type": "code",
   "execution_count": 79,
   "metadata": {},
   "outputs": [],
   "source": [
    "ages = {\n",
    "    1:  \"Under 18\",\n",
    "    18:  \"18-24\",\n",
    "    25:  \"25-34\",\n",
    "    35:  \"35-44\",\n",
    "    45:  \"45-49\",\n",
    "    50:  \"50-55\",\n",
    "    56:  \"56+\",\n",
    "}\n",
    "\n",
    "occupations = {\n",
    "\t0:  \"other\",\n",
    "\t1:  \"academic/educator\",\n",
    "\t2:  \"artist\",\n",
    "\t3:  \"clerical/admin\",\n",
    "\t4:  \"college/grad student\",\n",
    "\t5:  \"customer service\",\n",
    "\t6:  \"doctor/health care\",\n",
    "\t7:  \"executive/managerial\",\n",
    "\t8:  \"farmer\",\n",
    "\t9:  \"homemaker\",\n",
    "\t10:  \"K-12 student\",\n",
    "\t11:  \"lawyer\",\n",
    "\t12:  \"programmer\",\n",
    "\t13:  \"retired\",\n",
    "\t14:  \"sales/marketing\",\n",
    "\t15:  \"scientist\",\n",
    "\t16:  \"self-employed\",\n",
    "\t17:  \"technician/engineer\",\n",
    "\t18:  \"tradesman/craftsman\",\n",
    "\t19:  \"unemployed\",\n",
    "\t20:  \"writer\",\n",
    "}"
   ]
  },
  {
   "cell_type": "code",
   "execution_count": 80,
   "metadata": {},
   "outputs": [],
   "source": [
    "users.age = users.age.replace(ages)\n",
    "users.occupation = users.occupation.replace(occupations)"
   ]
  },
  {
   "cell_type": "code",
   "execution_count": 81,
   "metadata": {},
   "outputs": [],
   "source": [
    "movies[\"year\"] = movies.title.str.extract(\"\\((\\d{4})\\)\", expand=True)\n",
    "movies.year = movies.year.apply(lambda x: str(int(x) // 10 * 10))"
   ]
  },
  {
   "cell_type": "code",
   "execution_count": 82,
   "metadata": {},
   "outputs": [],
   "source": [
    "ratings = ratings.sort_values(by=\"timestamp\")\n",
    "ratings.timestamp = ratings.timestamp.apply(datetime.datetime.fromtimestamp)"
   ]
  },
  {
   "cell_type": "code",
   "execution_count": 83,
   "metadata": {},
   "outputs": [],
   "source": [
    "split_date = datetime.datetime(year=2000, month=12, day=1)"
   ]
  },
  {
   "cell_type": "code",
   "execution_count": 84,
   "metadata": {},
   "outputs": [],
   "source": [
    "train_df = ratings[ratings.timestamp < split_date]\n",
    "test_df = ratings[ratings.timestamp >= split_date]"
   ]
  },
  {
   "cell_type": "code",
   "execution_count": 85,
   "metadata": {},
   "outputs": [],
   "source": [
    "train_raw_sequences = (\n",
    "    train_df.groupby(\"user_id\")\n",
    "    .movie_id.agg(list)\n",
    "    .apply(lambda ls: \" \".join(map(str, ls)))\n",
    "    .rename(\"sequence\")\n",
    ")\n",
    "test_raw_sequences = (\n",
    "    test_df.groupby(\"user_id\")\n",
    "    .movie_id.agg(list)\n",
    "    .apply(lambda ls: \" \".join(map(str, ls)))\n",
    "    .rename(\"sequence\")\n",
    ")"
   ]
  },
  {
   "cell_type": "code",
   "execution_count": 86,
   "metadata": {},
   "outputs": [],
   "source": [
    "train_raw_sequences.to_csv(\"../data/ml-1m/train_raw_sequences.csv\")\n",
    "test_raw_sequences.to_csv(\"../data/ml-1m/test_raw_sequences.csv\")\n",
    "movies.to_csv(\"../data/ml-1m/movies.csv\", index=False)\n",
    "users.to_csv(\"../data/ml-1m/users.csv\", index=False)"
   ]
  },
  {
   "cell_type": "code",
   "execution_count": 87,
   "metadata": {},
   "outputs": [
    {
     "ename": "AssertionError",
     "evalue": "",
     "output_type": "error",
     "traceback": [
      "\u001b[0;31m---------------------------------------------------------------------------\u001b[0m",
      "\u001b[0;31mAssertionError\u001b[0m                            Traceback (most recent call last)",
      "\u001b[1;32m/Users/tatsuyaishii/dev/my-doc2vec/notebooks/preprocess_ml.ipynb Cell 11\u001b[0m line \u001b[0;36m1\n\u001b[0;32m----> <a href='vscode-notebook-cell:/Users/tatsuyaishii/dev/my-doc2vec/notebooks/preprocess_ml.ipynb#X33sZmlsZQ%3D%3D?line=0'>1</a>\u001b[0m \u001b[39massert\u001b[39;00m \u001b[39mFalse\u001b[39;00m\n",
      "\u001b[0;31mAssertionError\u001b[0m: "
     ]
    }
   ],
   "source": [
    "assert False"
   ]
  },
  {
   "cell_type": "code",
   "execution_count": null,
   "metadata": {},
   "outputs": [],
   "source": [
    "train_raw_sequences = pd.read_csv(\"../data/ml-1m/train_raw_sequences.csv\", index_col=\"user_id\")\n",
    "train_raw_sequences.movie_id = train_raw_sequences.movie_id.apply(lambda s: s.split(\" \"))\n",
    "\n",
    "test_raw_sequences = pd.read_csv(\"../data/ml-1m/test_raw_sequences.csv\", index_col=\"user_id\")\n",
    "test_raw_sequences.movie_id = test_raw_sequences.movie_id.apply(lambda s: s.split(\" \"))"
   ]
  },
  {
   "cell_type": "code",
   "execution_count": null,
   "metadata": {},
   "outputs": [
    {
     "data": {
      "text/html": [
       "<div>\n",
       "<style scoped>\n",
       "    .dataframe tbody tr th:only-of-type {\n",
       "        vertical-align: middle;\n",
       "    }\n",
       "\n",
       "    .dataframe tbody tr th {\n",
       "        vertical-align: top;\n",
       "    }\n",
       "\n",
       "    .dataframe thead th {\n",
       "        text-align: right;\n",
       "    }\n",
       "</style>\n",
       "<table border=\"1\" class=\"dataframe\">\n",
       "  <thead>\n",
       "    <tr style=\"text-align: right;\">\n",
       "      <th></th>\n",
       "      <th>movie_id</th>\n",
       "    </tr>\n",
       "    <tr>\n",
       "      <th>user_id</th>\n",
       "      <th></th>\n",
       "    </tr>\n",
       "  </thead>\n",
       "  <tbody>\n",
       "    <tr>\n",
       "      <th>688</th>\n",
       "      <td>[2028, 2729, 1196, 2670, 3701, 1193, 1278]</td>\n",
       "    </tr>\n",
       "    <tr>\n",
       "      <th>689</th>\n",
       "      <td>[1197, 2915, 1334, 1936, 3074, 908, 2568, 3845...</td>\n",
       "    </tr>\n",
       "    <tr>\n",
       "      <th>690</th>\n",
       "      <td>[1213, 1717, 1197, 1097, 2519, 1517, 1193, 266...</td>\n",
       "    </tr>\n",
       "    <tr>\n",
       "      <th>691</th>\n",
       "      <td>[1193, 1194, 1196, 553, 1197, 3819, 1148, 720,...</td>\n",
       "    </tr>\n",
       "    <tr>\n",
       "      <th>692</th>\n",
       "      <td>[2433, 1729, 1193, 174, 1617]</td>\n",
       "    </tr>\n",
       "    <tr>\n",
       "      <th>...</th>\n",
       "      <td>...</td>\n",
       "    </tr>\n",
       "    <tr>\n",
       "      <th>6036</th>\n",
       "      <td>[1721, 1883, 3438, 2376, 2428, 2683, 2572, 270...</td>\n",
       "    </tr>\n",
       "    <tr>\n",
       "      <th>6037</th>\n",
       "      <td>[1882, 702, 1267, 2028, 3508, 3148, 562, 858, ...</td>\n",
       "    </tr>\n",
       "    <tr>\n",
       "      <th>6038</th>\n",
       "      <td>[3396, 920, 1210, 2146, 1387, 356, 1079, 1148,...</td>\n",
       "    </tr>\n",
       "    <tr>\n",
       "      <th>6039</th>\n",
       "      <td>[111, 282, 2067, 1230, 930, 947, 3088, 3022, 3...</td>\n",
       "    </tr>\n",
       "    <tr>\n",
       "      <th>6040</th>\n",
       "      <td>[858, 2384, 593, 1961, 2019, 1419, 213, 3111, ...</td>\n",
       "    </tr>\n",
       "  </tbody>\n",
       "</table>\n",
       "<p>5347 rows × 1 columns</p>\n",
       "</div>"
      ],
      "text/plain": [
       "                                                  movie_id\n",
       "user_id                                                   \n",
       "688             [2028, 2729, 1196, 2670, 3701, 1193, 1278]\n",
       "689      [1197, 2915, 1334, 1936, 3074, 908, 2568, 3845...\n",
       "690      [1213, 1717, 1197, 1097, 2519, 1517, 1193, 266...\n",
       "691      [1193, 1194, 1196, 553, 1197, 3819, 1148, 720,...\n",
       "692                          [2433, 1729, 1193, 174, 1617]\n",
       "...                                                    ...\n",
       "6036     [1721, 1883, 3438, 2376, 2428, 2683, 2572, 270...\n",
       "6037     [1882, 702, 1267, 2028, 3508, 3148, 562, 858, ...\n",
       "6038     [3396, 920, 1210, 2146, 1387, 356, 1079, 1148,...\n",
       "6039     [111, 282, 2067, 1230, 930, 947, 3088, 3022, 3...\n",
       "6040     [858, 2384, 593, 1961, 2019, 1419, 213, 3111, ...\n",
       "\n",
       "[5347 rows x 1 columns]"
      ]
     },
     "execution_count": 76,
     "metadata": {},
     "output_type": "execute_result"
    }
   ],
   "source": [
    "train_raw_sequences"
   ]
  },
  {
   "cell_type": "code",
   "execution_count": null,
   "metadata": {},
   "outputs": [],
   "source": [
    "# 各系列ごとの末尾n個をテストデータとする\n",
    "import random\n",
    "random.seed(0)\n",
    "\n",
    "a = []\n",
    "\n",
    "counter = {}\n",
    "counter[-1] = 0\n",
    "for i in range(5 + 1):\n",
    "    counter[i * 10] = 0\n",
    "\n",
    "for _, (user_id, movie_id) in sequences.iterrows():\n",
    "    seq = movie_id\n",
    "    seq_l = len(seq)\n",
    "\n",
    "    while True:\n",
    "        l = random.randint(-1, 5)\n",
    "        if l == -1:\n",
    "            # そのまま採用する\n",
    "            train_seq = seq\n",
    "            test_seq = []\n",
    "            train_l = -1\n",
    "            counter[train_l] += 1\n",
    "            a.append((user_id, train_l, train_seq, test_seq))\n",
    "            break\n",
    "        else:\n",
    "            train_l = l * 10\n",
    "            if counter[train_l] == 500:\n",
    "                continue\n",
    "\n",
    "            test_l = 20\n",
    "            required_l = train_l + test_l\n",
    "            if seq_l < required_l:\n",
    "                continue\n",
    "            train_seq = seq[-required_l:-test_l]\n",
    "            test_seq = seq[-test_l:]\n",
    "            counter[train_l] += 1\n",
    "            a.append((user_id, train_l, train_seq, test_seq))\n",
    "            break"
   ]
  },
  {
   "cell_type": "code",
   "execution_count": null,
   "metadata": {},
   "outputs": [],
   "source": [
    "train_sequences = {}\n",
    "test_sequences = {}\n",
    "all_test_sequences = {}\n",
    "\n",
    "test_size = [0, 10, 20, 30, 40, 50]\n",
    "for sz in test_size:\n",
    "    test_sequences[sz] = {}\n",
    "\n",
    "for user_id, train_l, train_seq, test_seq in a:\n",
    "    assert user_id not in train_sequences\n",
    "    train_sequences[user_id] = \" \".join(train_seq)\n",
    "    if train_l >= 0:\n",
    "        all_test_sequences[user_id] = \" \".join(test_seq)\n",
    "        test_sequences[train_l][user_id] = \" \".join(test_seq)\n",
    "\n",
    "for sz in test_size:\n",
    "    file_path = f\"../data/ml-1m-new/test-{sz}.csv\"\n",
    "    test_sz_df = pd.DataFrame.from_dict(test_sequences[sz], orient=\"index\", columns=[\"sequence\"])\n",
    "    test_sz_df.index.name = \"user_id\"\n",
    "    test_sz_df.to_csv(file_path)"
   ]
  },
  {
   "cell_type": "code",
   "execution_count": null,
   "metadata": {},
   "outputs": [],
   "source": [
    "train_df = pd.DataFrame.from_dict(train_sequences, orient=\"index\", columns=[\"sequence\"])\n",
    "train_df.index.name = \"user_id\"\n",
    "train_df.to_csv(\"../data/ml-1m-new/train.csv\")"
   ]
  },
  {
   "cell_type": "code",
   "execution_count": null,
   "metadata": {},
   "outputs": [],
   "source": [
    "test_df = pd.DataFrame.from_dict(all_test_sequences, orient=\"index\", columns=[\"sequence\"])\n",
    "test_df.index.name = \"user_id\"\n",
    "test_df.to_csv(\"../data/ml-1m-new/test.csv\")"
   ]
  },
  {
   "cell_type": "code",
   "execution_count": null,
   "metadata": {},
   "outputs": [],
   "source": []
  }
 ],
 "metadata": {
  "kernelspec": {
   "display_name": "Python 3.10.4 64-bit ('3.10.4')",
   "language": "python",
   "name": "python3"
  },
  "language_info": {
   "codemirror_mode": {
    "name": "ipython",
    "version": 3
   },
   "file_extension": ".py",
   "mimetype": "text/x-python",
   "name": "python",
   "nbconvert_exporter": "python",
   "pygments_lexer": "ipython3",
   "version": "3.10.4"
  },
  "vscode": {
   "interpreter": {
    "hash": "2a5fb540920344d2a30df49d123c0d51f1e8fc17e24494fc3a54f6f29186e4c7"
   }
  }
 },
 "nbformat": 4,
 "nbformat_minor": 2
}
