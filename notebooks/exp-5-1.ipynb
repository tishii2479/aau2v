{
 "cells": [
  {
   "cell_type": "code",
   "execution_count": 1,
   "metadata": {},
   "outputs": [],
   "source": [
    "from pathlib import Path\n",
    "import torch\n",
    "import json\n",
    "import pandas as pd\n",
    "import tqdm\n",
    "import math\n",
    "\n",
    "from aau2v.config import ModelConfig, TrainerConfig\n",
    "from aau2v.dataset_center import load_dataset_center\n",
    "from aau2v.trainer import PyTorchTrainer\n",
    "from aau2v.model import load_model, PyTorchModel\n",
    "from aau2v.util import set_seed"
   ]
  },
  {
   "cell_type": "code",
   "execution_count": 2,
   "metadata": {},
   "outputs": [],
   "source": [
    "def calc_accuracy(\n",
    "    model: PyTorchModel,\n",
    "    num_item: int,\n",
    "    test_dataset: list[tuple[int, list[int], list[int]]],\n",
    "    top_k: list[int],\n",
    ") -> dict[str, float]:\n",
    "    model.eval()\n",
    "    hit_counts = {k: 0 for k in top_k}\n",
    "    seq_index = torch.LongTensor(list(map(lambda d: d[0], test_dataset)))\n",
    "    context_items = torch.LongTensor(list(map(lambda d: d[1], test_dataset)))\n",
    "    rec_list = model.output_rec_lists(\n",
    "        seq_index=seq_index,\n",
    "        item_indices=context_items,\n",
    "        cand_item_indices=torch.arange(num_item),\n",
    "        k=max(top_k),\n",
    "    )\n",
    "    for i in range(len(test_dataset)):\n",
    "        for k in top_k:\n",
    "            hit_counts[k] += len(set(test_dataset[i][2]) & set(rec_list[i][:k]))\n",
    "\n",
    "    total_rec = len(test_dataset)\n",
    "    results = {\n",
    "        f\"Accuracy@{k}\": hit_count / total_rec / k\n",
    "        for k, hit_count in hit_counts.items()\n",
    "    }\n",
    "    return results"
   ]
  },
  {
   "cell_type": "code",
   "execution_count": 3,
   "metadata": {},
   "outputs": [],
   "source": [
    "run_configs = [\n",
    "    {\n",
    "        \"name\": \"User2Vec (d=16)\",\n",
    "        \"model_name\": \"user2vec\",\n",
    "        \"d_model\": 16,\n",
    "        \"epochs\": 10,\n",
    "        \"use_weight_tying\": True,\n",
    "        \"use_attention\": True,\n",
    "        \"use_meta\": True,\n",
    "    },\n",
    "    {\n",
    "        \"name\": \"User2Vec (d=32)\",\n",
    "        \"model_name\": \"user2vec\",\n",
    "        \"d_model\": 32,\n",
    "        \"epochs\": 10,\n",
    "        \"use_weight_tying\": True,\n",
    "        \"use_attention\": True,\n",
    "        \"use_meta\": True,\n",
    "    },\n",
    "    {\n",
    "        \"name\": \"User2Vec (d=64)\",\n",
    "        \"model_name\": \"user2vec\",\n",
    "        \"d_model\": 64,\n",
    "        \"epochs\": 10,\n",
    "        \"use_weight_tying\": True,\n",
    "        \"use_attention\": True,\n",
    "        \"use_meta\": True,\n",
    "    },\n",
    "    {\n",
    "        \"name\": \"AAU2V (d=16)\",\n",
    "        \"model_name\": \"aau2v\",\n",
    "        \"d_model\": 16,\n",
    "        \"epochs\": 10,\n",
    "        \"use_weight_tying\": True,\n",
    "        \"use_attention\": True,\n",
    "        \"use_meta\": True,\n",
    "    },\n",
    "    {\n",
    "        \"name\": \"AAU2V (d=32)\",\n",
    "        \"model_name\": \"aau2v\",\n",
    "        \"d_model\": 32,\n",
    "        \"epochs\": 10,\n",
    "        \"use_weight_tying\": True,\n",
    "        \"use_attention\": True,\n",
    "        \"use_meta\": True,\n",
    "    },\n",
    "    {\n",
    "        \"name\": \"AAU2V (d=64)\",\n",
    "        \"model_name\": \"aau2v\",\n",
    "        \"d_model\": 64,\n",
    "        \"epochs\": 10,\n",
    "        \"use_weight_tying\": True,\n",
    "        \"use_attention\": True,\n",
    "        \"use_meta\": True,\n",
    "    },\n",
    "    {\n",
    "        \"name\": \"AAU2V w/o WT\",\n",
    "        \"model_name\": \"aau2v\",\n",
    "        \"d_model\": 64,\n",
    "        \"epochs\": 10,\n",
    "        \"use_weight_tying\": False,\n",
    "        \"use_attention\": True,\n",
    "        \"use_meta\": True,\n",
    "    },\n",
    "    {\n",
    "        \"name\": \"AAU2V w/o AT\",\n",
    "        \"model_name\": \"aau2v\",\n",
    "        \"d_model\": 64,\n",
    "        \"epochs\": 10,\n",
    "        \"use_weight_tying\": True,\n",
    "        \"use_attention\": False,\n",
    "        \"use_meta\": True,\n",
    "    },\n",
    "    {\n",
    "        \"name\": \"AAU2V w/o AI\",\n",
    "        \"model_name\": \"aau2v\",\n",
    "        \"d_model\": 64,\n",
    "        \"epochs\": 10,\n",
    "        \"use_weight_tying\": True,\n",
    "        \"use_attention\": True,\n",
    "        \"use_meta\": False,\n",
    "    },\n",
    "]"
   ]
  },
  {
   "cell_type": "code",
   "execution_count": 4,
   "metadata": {},
   "outputs": [
    {
     "name": "stdout",
     "output_type": "stream",
     "text": [
      "ModelConfig(d_model=16, init_embedding_std=0.2, max_embedding_norm=1, window_size=5, negative_sample_size=5, lr=5e-05, weight_decay=0, use_weight_tying=True, use_meta=True, use_attention=True)\n",
      "TrainerConfig(model_name='user2vec', dataset_name='movielens', epochs=10, batch_size=64, verbose=False, ignore_saved_model=True, save_model=True, load_dataset=False, save_dataset=False, model_dir='cache/model/', dataset_dir='cache/dataset/', device='cpu')\n",
      "create dataset\n",
      "num_seq: 6040, num_item: 3706, num_item_meta: 28, num_seq_meta: 30, num_item_meta_types: 3, num_seq_meta_types: 3\n",
      "train: 589192 valid: 110547\n"
     ]
    },
    {
     "name": "stderr",
     "output_type": "stream",
     "text": [
      "100%|██████████| 9207/9207 [00:33<00:00, 278.97it/s]\n"
     ]
    },
    {
     "name": "stdout",
     "output_type": "stream",
     "text": [
      "train 0.006489633658498872\n"
     ]
    },
    {
     "name": "stderr",
     "output_type": "stream",
     "text": [
      "100%|██████████| 1728/1728 [00:02<00:00, 818.38it/s]\n"
     ]
    },
    {
     "name": "stdout",
     "output_type": "stream",
     "text": [
      "valid 0.006489873384934815\n",
      "epoch: 0, result: {'Accuracy@10': 0.039157762413576366, 'Accuracy@20': 0.03852922690131992, 'Accuracy@30': 0.03773308191912843, 'Accuracy@40': 0.03648648648648649, 'Accuracy@50': 0.03634192331866751}\n",
      "saved model to cache/model/movielens/user2vec.pt\n"
     ]
    },
    {
     "name": "stderr",
     "output_type": "stream",
     "text": [
      "100%|██████████| 9207/9207 [00:35<00:00, 262.57it/s]\n"
     ]
    },
    {
     "name": "stdout",
     "output_type": "stream",
     "text": [
      "train 0.006412574172756763\n"
     ]
    },
    {
     "name": "stderr",
     "output_type": "stream",
     "text": [
      "100%|██████████| 1728/1728 [00:02<00:00, 830.09it/s]\n"
     ]
    },
    {
     "name": "stdout",
     "output_type": "stream",
     "text": [
      "valid 0.006414675161115717\n",
      "epoch: 1, result: {'Accuracy@10': 0.09201759899434317, 'Accuracy@20': 0.08733500942803268, 'Accuracy@30': 0.08254766394301277, 'Accuracy@40': 0.07910119421747329, 'Accuracy@50': 0.07717159019484601}\n",
      "saved model to cache/model/movielens/user2vec.pt\n"
     ]
    },
    {
     "name": "stderr",
     "output_type": "stream",
     "text": [
      "100%|██████████| 9207/9207 [00:38<00:00, 239.91it/s]\n"
     ]
    },
    {
     "name": "stdout",
     "output_type": "stream",
     "text": [
      "train 0.006200081363714445\n"
     ]
    },
    {
     "name": "stderr",
     "output_type": "stream",
     "text": [
      "100%|██████████| 1728/1728 [00:02<00:00, 806.44it/s]\n"
     ]
    },
    {
     "name": "stdout",
     "output_type": "stream",
     "text": [
      "valid 0.0062326967565698626\n",
      "epoch: 2, result: {'Accuracy@10': 0.15336266499057197, 'Accuracy@20': 0.14987429289754872, 'Accuracy@30': 0.14305468258956633, 'Accuracy@40': 0.13898491514770586, 'Accuracy@50': 0.13596480201131364}\n",
      "saved model to cache/model/movielens/user2vec.pt\n"
     ]
    },
    {
     "name": "stderr",
     "output_type": "stream",
     "text": [
      "100%|██████████| 9207/9207 [00:39<00:00, 232.57it/s]\n"
     ]
    },
    {
     "name": "stdout",
     "output_type": "stream",
     "text": [
      "train 0.005875306573830058\n"
     ]
    },
    {
     "name": "stderr",
     "output_type": "stream",
     "text": [
      "100%|██████████| 1728/1728 [00:02<00:00, 831.11it/s]\n"
     ]
    },
    {
     "name": "stdout",
     "output_type": "stream",
     "text": [
      "valid 0.005983657945167993\n",
      "epoch: 3, result: {'Accuracy@10': 0.1698931489629164, 'Accuracy@20': 0.16791326209930862, 'Accuracy@30': 0.1640268175151896, 'Accuracy@40': 0.16084223758642363, 'Accuracy@50': 0.15846637335009428}\n",
      "saved model to cache/model/movielens/user2vec.pt\n"
     ]
    },
    {
     "name": "stderr",
     "output_type": "stream",
     "text": [
      "100%|██████████| 9207/9207 [00:37<00:00, 245.35it/s]\n"
     ]
    },
    {
     "name": "stdout",
     "output_type": "stream",
     "text": [
      "train 0.005560712419432885\n"
     ]
    },
    {
     "name": "stderr",
     "output_type": "stream",
     "text": [
      "100%|██████████| 1728/1728 [00:02<00:00, 810.89it/s]\n"
     ]
    },
    {
     "name": "stdout",
     "output_type": "stream",
     "text": [
      "valid 0.005740949104718974\n",
      "epoch: 4, result: {'Accuracy@10': 0.1774355751099937, 'Accuracy@20': 0.176147077309868, 'Accuracy@30': 0.17251204693065159, 'Accuracy@40': 0.16970458830923946, 'Accuracy@50': 0.16599622878692646}\n",
      "saved model to cache/model/movielens/user2vec.pt\n"
     ]
    },
    {
     "name": "stderr",
     "output_type": "stream",
     "text": [
      "100%|██████████| 9207/9207 [00:38<00:00, 240.29it/s]\n"
     ]
    },
    {
     "name": "stdout",
     "output_type": "stream",
     "text": [
      "train 0.005312523940555647\n"
     ]
    },
    {
     "name": "stderr",
     "output_type": "stream",
     "text": [
      "100%|██████████| 1728/1728 [00:02<00:00, 810.88it/s]\n"
     ]
    },
    {
     "name": "stdout",
     "output_type": "stream",
     "text": [
      "valid 0.005535095341364556\n",
      "epoch: 5, result: {'Accuracy@10': 0.180389692017599, 'Accuracy@20': 0.17771841609050912, 'Accuracy@30': 0.17423004399748585, 'Accuracy@40': 0.17141734758013827, 'Accuracy@50': 0.16891263356379635}\n",
      "saved model to cache/model/movielens/user2vec.pt\n"
     ]
    },
    {
     "name": "stderr",
     "output_type": "stream",
     "text": [
      "100%|██████████| 9207/9207 [00:39<00:00, 234.54it/s]\n"
     ]
    },
    {
     "name": "stdout",
     "output_type": "stream",
     "text": [
      "train 0.005129530256612268\n"
     ]
    },
    {
     "name": "stderr",
     "output_type": "stream",
     "text": [
      "100%|██████████| 1728/1728 [00:02<00:00, 818.83it/s]\n"
     ]
    },
    {
     "name": "stdout",
     "output_type": "stream",
     "text": [
      "valid 0.005368470648263744\n",
      "epoch: 6, result: {'Accuracy@10': 0.17762413576367064, 'Accuracy@20': 0.17677561282212445, 'Accuracy@30': 0.17502618897967734, 'Accuracy@40': 0.17078881206788182, 'Accuracy@50': 0.1675927089880578}\n",
      "saved model to cache/model/movielens/user2vec.pt\n"
     ]
    },
    {
     "name": "stderr",
     "output_type": "stream",
     "text": [
      "100%|██████████| 9207/9207 [00:36<00:00, 253.38it/s]\n"
     ]
    },
    {
     "name": "stdout",
     "output_type": "stream",
     "text": [
      "train 0.0049973914786251555\n"
     ]
    },
    {
     "name": "stderr",
     "output_type": "stream",
     "text": [
      "100%|██████████| 1728/1728 [00:02<00:00, 808.27it/s]\n"
     ]
    },
    {
     "name": "stdout",
     "output_type": "stream",
     "text": [
      "valid 0.005238358291530825\n",
      "epoch: 7, result: {'Accuracy@10': 0.17360150848522943, 'Accuracy@20': 0.17297297297297298, 'Accuracy@30': 0.17039597737272155, 'Accuracy@40': 0.16723758642363293, 'Accuracy@50': 0.1651917033312382}\n",
      "saved model to cache/model/movielens/user2vec.pt\n"
     ]
    },
    {
     "name": "stderr",
     "output_type": "stream",
     "text": [
      "100%|██████████| 9207/9207 [00:37<00:00, 245.39it/s]\n"
     ]
    },
    {
     "name": "stdout",
     "output_type": "stream",
     "text": [
      "train 0.004902117509407832\n"
     ]
    },
    {
     "name": "stderr",
     "output_type": "stream",
     "text": [
      "100%|██████████| 1728/1728 [00:02<00:00, 820.47it/s]\n"
     ]
    },
    {
     "name": "stdout",
     "output_type": "stream",
     "text": [
      "valid 0.005137106976674498\n",
      "epoch: 8, result: {'Accuracy@10': 0.16511627906976745, 'Accuracy@20': 0.16555625392834694, 'Accuracy@30': 0.1642782317200922, 'Accuracy@40': 0.16187932118164677, 'Accuracy@50': 0.15903205531112508}\n",
      "saved model to cache/model/movielens/user2vec.pt\n"
     ]
    },
    {
     "name": "stderr",
     "output_type": "stream",
     "text": [
      "100%|██████████| 9207/9207 [00:37<00:00, 247.09it/s]\n"
     ]
    },
    {
     "name": "stdout",
     "output_type": "stream",
     "text": [
      "train 0.004832217720773893\n"
     ]
    },
    {
     "name": "stderr",
     "output_type": "stream",
     "text": [
      "100%|██████████| 1728/1728 [00:02<00:00, 821.71it/s]\n"
     ]
    },
    {
     "name": "stdout",
     "output_type": "stream",
     "text": [
      "valid 0.005056096837112902\n",
      "epoch: 9, result: {'Accuracy@10': 0.15807668133249528, 'Accuracy@20': 0.1578252671275927, 'Accuracy@30': 0.15533207626230883, 'Accuracy@40': 0.15397548711502201, 'Accuracy@50': 0.15231929604022626}\n",
      "saved model to cache/model/movielens/user2vec.pt\n",
      "ModelConfig(d_model=32, init_embedding_std=0.2, max_embedding_norm=1, window_size=5, negative_sample_size=5, lr=5e-05, weight_decay=0, use_weight_tying=True, use_meta=True, use_attention=True)\n",
      "TrainerConfig(model_name='user2vec', dataset_name='movielens', epochs=10, batch_size=64, verbose=False, ignore_saved_model=True, save_model=True, load_dataset=False, save_dataset=False, model_dir='cache/model/', dataset_dir='cache/dataset/', device='cpu')\n",
      "create dataset\n",
      "num_seq: 6040, num_item: 3706, num_item_meta: 28, num_seq_meta: 30, num_item_meta_types: 3, num_seq_meta_types: 3\n",
      "train: 589192 valid: 110547\n"
     ]
    },
    {
     "name": "stderr",
     "output_type": "stream",
     "text": [
      "100%|██████████| 9207/9207 [00:38<00:00, 242.28it/s]\n"
     ]
    },
    {
     "name": "stdout",
     "output_type": "stream",
     "text": [
      "train 0.0064738063604785475\n"
     ]
    },
    {
     "name": "stderr",
     "output_type": "stream",
     "text": [
      "100%|██████████| 1728/1728 [00:02<00:00, 815.01it/s]\n"
     ]
    },
    {
     "name": "stdout",
     "output_type": "stream",
     "text": [
      "valid 0.006466171633440171\n",
      "epoch: 0, result: {'Accuracy@10': 0.042049025769956, 'Accuracy@20': 0.04390320553111251, 'Accuracy@30': 0.04359941336685523, 'Accuracy@40': 0.04256756756756756, 'Accuracy@50': 0.042011313639220615}\n",
      "saved model to cache/model/movielens/user2vec.pt\n"
     ]
    },
    {
     "name": "stderr",
     "output_type": "stream",
     "text": [
      "100%|██████████| 9207/9207 [00:39<00:00, 234.34it/s]\n"
     ]
    },
    {
     "name": "stdout",
     "output_type": "stream",
     "text": [
      "train 0.006301338565196472\n"
     ]
    },
    {
     "name": "stderr",
     "output_type": "stream",
     "text": [
      "100%|██████████| 1728/1728 [00:02<00:00, 804.20it/s]\n"
     ]
    },
    {
     "name": "stdout",
     "output_type": "stream",
     "text": [
      "valid 0.006289052088883255\n",
      "epoch: 1, result: {'Accuracy@10': 0.13475801382778127, 'Accuracy@20': 0.13761785040854807, 'Accuracy@30': 0.13427613660171797, 'Accuracy@40': 0.1308296668761785, 'Accuracy@50': 0.12769327467001884}\n",
      "saved model to cache/model/movielens/user2vec.pt\n"
     ]
    },
    {
     "name": "stderr",
     "output_type": "stream",
     "text": [
      "100%|██████████| 9207/9207 [00:43<00:00, 210.92it/s]\n"
     ]
    },
    {
     "name": "stdout",
     "output_type": "stream",
     "text": [
      "train 0.005910065065856132\n"
     ]
    },
    {
     "name": "stderr",
     "output_type": "stream",
     "text": [
      "100%|██████████| 1728/1728 [00:02<00:00, 800.05it/s]\n"
     ]
    },
    {
     "name": "stdout",
     "output_type": "stream",
     "text": [
      "valid 0.0059635951356439365\n",
      "epoch: 2, result: {'Accuracy@10': 0.18623507228158392, 'Accuracy@20': 0.18494657448145818, 'Accuracy@30': 0.18099727634611357, 'Accuracy@40': 0.17696417347580137, 'Accuracy@50': 0.17335009428032686}\n",
      "saved model to cache/model/movielens/user2vec.pt\n"
     ]
    },
    {
     "name": "stderr",
     "output_type": "stream",
     "text": [
      "100%|██████████| 9207/9207 [00:44<00:00, 206.29it/s]\n"
     ]
    },
    {
     "name": "stdout",
     "output_type": "stream",
     "text": [
      "train 0.0054920426458812234\n"
     ]
    },
    {
     "name": "stderr",
     "output_type": "stream",
     "text": [
      "100%|██████████| 1728/1728 [00:02<00:00, 800.05it/s]\n"
     ]
    },
    {
     "name": "stdout",
     "output_type": "stream",
     "text": [
      "valid 0.005645589313314647\n",
      "epoch: 3, result: {'Accuracy@10': 0.19270898805782527, 'Accuracy@20': 0.19189189189189187, 'Accuracy@30': 0.18900062853551225, 'Accuracy@40': 0.18566939032055313, 'Accuracy@50': 0.18154619736015085}\n",
      "saved model to cache/model/movielens/user2vec.pt\n"
     ]
    },
    {
     "name": "stderr",
     "output_type": "stream",
     "text": [
      "100%|██████████| 9207/9207 [00:47<00:00, 193.79it/s]\n"
     ]
    },
    {
     "name": "stdout",
     "output_type": "stream",
     "text": [
      "train 0.0051930670527229675\n"
     ]
    },
    {
     "name": "stderr",
     "output_type": "stream",
     "text": [
      "100%|██████████| 1728/1728 [00:02<00:00, 792.22it/s]\n"
     ]
    },
    {
     "name": "stdout",
     "output_type": "stream",
     "text": [
      "valid 0.005402238163078083\n",
      "epoch: 4, result: {'Accuracy@10': 0.18749214330609681, 'Accuracy@20': 0.18689503456945317, 'Accuracy@30': 0.183218101822753, 'Accuracy@40': 0.17917976115650533, 'Accuracy@50': 0.17658076681332496}\n",
      "saved model to cache/model/movielens/user2vec.pt\n"
     ]
    },
    {
     "name": "stderr",
     "output_type": "stream",
     "text": [
      "100%|██████████| 9207/9207 [00:47<00:00, 195.43it/s]\n"
     ]
    },
    {
     "name": "stdout",
     "output_type": "stream",
     "text": [
      "train 0.005001704808040536\n"
     ]
    },
    {
     "name": "stderr",
     "output_type": "stream",
     "text": [
      "100%|██████████| 1728/1728 [00:02<00:00, 798.96it/s]\n"
     ]
    },
    {
     "name": "stdout",
     "output_type": "stream",
     "text": [
      "valid 0.005226052823581966\n",
      "epoch: 5, result: {'Accuracy@10': 0.1763042111879321, 'Accuracy@20': 0.17564424890006286, 'Accuracy@30': 0.1727006075843285, 'Accuracy@40': 0.16910747957259584, 'Accuracy@50': 0.16658705216844752}\n",
      "saved model to cache/model/movielens/user2vec.pt\n"
     ]
    },
    {
     "name": "stderr",
     "output_type": "stream",
     "text": [
      "100%|██████████| 9207/9207 [00:45<00:00, 202.53it/s]\n"
     ]
    },
    {
     "name": "stdout",
     "output_type": "stream",
     "text": [
      "train 0.004878894564559807\n"
     ]
    },
    {
     "name": "stderr",
     "output_type": "stream",
     "text": [
      "100%|██████████| 1728/1728 [00:02<00:00, 791.56it/s]\n"
     ]
    },
    {
     "name": "stdout",
     "output_type": "stream",
     "text": [
      "valid 0.005099338878520051\n",
      "epoch: 6, result: {'Accuracy@10': 0.164487743557511, 'Accuracy@20': 0.16429918290383408, 'Accuracy@30': 0.16128221244500315, 'Accuracy@40': 0.15846951602765555, 'Accuracy@50': 0.15665619107479573}\n",
      "saved model to cache/model/movielens/user2vec.pt\n"
     ]
    },
    {
     "name": "stderr",
     "output_type": "stream",
     "text": [
      "100%|██████████| 9207/9207 [00:48<00:00, 189.74it/s]\n"
     ]
    },
    {
     "name": "stdout",
     "output_type": "stream",
     "text": [
      "train 0.004798047617350943\n"
     ]
    },
    {
     "name": "stderr",
     "output_type": "stream",
     "text": [
      "100%|██████████| 1728/1728 [00:02<00:00, 785.79it/s]\n"
     ]
    },
    {
     "name": "stdout",
     "output_type": "stream",
     "text": [
      "valid 0.005006047402760948\n",
      "epoch: 7, result: {'Accuracy@10': 0.1558139534883721, 'Accuracy@20': 0.15201131363922063, 'Accuracy@30': 0.1499476220406453, 'Accuracy@40': 0.14825581395348836, 'Accuracy@50': 0.14629792583280957}\n",
      "saved model to cache/model/movielens/user2vec.pt\n"
     ]
    },
    {
     "name": "stderr",
     "output_type": "stream",
     "text": [
      "100%|██████████| 9207/9207 [00:46<00:00, 196.65it/s]\n"
     ]
    },
    {
     "name": "stdout",
     "output_type": "stream",
     "text": [
      "train 0.004742063765082376\n"
     ]
    },
    {
     "name": "stderr",
     "output_type": "stream",
     "text": [
      "100%|██████████| 1728/1728 [00:02<00:00, 745.58it/s]\n"
     ]
    },
    {
     "name": "stdout",
     "output_type": "stream",
     "text": [
      "valid 0.004936860413860049\n",
      "epoch: 8, result: {'Accuracy@10': 0.14795725958516656, 'Accuracy@20': 0.14283469516027655, 'Accuracy@30': 0.13936727425099518, 'Accuracy@40': 0.13812067881835324, 'Accuracy@50': 0.1368196103079824}\n",
      "saved model to cache/model/movielens/user2vec.pt\n"
     ]
    },
    {
     "name": "stderr",
     "output_type": "stream",
     "text": [
      "100%|██████████| 9207/9207 [00:46<00:00, 196.15it/s]\n"
     ]
    },
    {
     "name": "stdout",
     "output_type": "stream",
     "text": [
      "train 0.004701655484012514\n"
     ]
    },
    {
     "name": "stderr",
     "output_type": "stream",
     "text": [
      "100%|██████████| 1728/1728 [00:02<00:00, 792.16it/s]\n"
     ]
    },
    {
     "name": "stdout",
     "output_type": "stream",
     "text": [
      "valid 0.00488318455939924\n",
      "epoch: 9, result: {'Accuracy@10': 0.13890634820867379, 'Accuracy@20': 0.13368950345694533, 'Accuracy@30': 0.13079824010056568, 'Accuracy@40': 0.12883406662476432, 'Accuracy@50': 0.12785669390320553}\n",
      "saved model to cache/model/movielens/user2vec.pt\n",
      "ModelConfig(d_model=64, init_embedding_std=0.2, max_embedding_norm=1, window_size=5, negative_sample_size=5, lr=5e-05, weight_decay=0, use_weight_tying=True, use_meta=True, use_attention=True)\n",
      "TrainerConfig(model_name='user2vec', dataset_name='movielens', epochs=10, batch_size=64, verbose=False, ignore_saved_model=True, save_model=True, load_dataset=False, save_dataset=False, model_dir='cache/model/', dataset_dir='cache/dataset/', device='cpu')\n",
      "create dataset\n",
      "num_seq: 6040, num_item: 3706, num_item_meta: 28, num_seq_meta: 30, num_item_meta_types: 3, num_seq_meta_types: 3\n",
      "train: 589192 valid: 110547\n"
     ]
    },
    {
     "name": "stderr",
     "output_type": "stream",
     "text": [
      "100%|██████████| 9207/9207 [01:03<00:00, 145.60it/s]\n"
     ]
    },
    {
     "name": "stdout",
     "output_type": "stream",
     "text": [
      "train 0.006457144074921672\n"
     ]
    },
    {
     "name": "stderr",
     "output_type": "stream",
     "text": [
      "100%|██████████| 1728/1728 [00:02<00:00, 710.95it/s]\n"
     ]
    },
    {
     "name": "stdout",
     "output_type": "stream",
     "text": [
      "valid 0.006431621263379734\n",
      "epoch: 0, result: {'Accuracy@10': 0.05292269013199245, 'Accuracy@20': 0.05930232558139535, 'Accuracy@30': 0.06119840771003562, 'Accuracy@40': 0.06176932746700189, 'Accuracy@50': 0.061923318667504716}\n",
      "saved model to cache/model/movielens/user2vec.pt\n"
     ]
    },
    {
     "name": "stderr",
     "output_type": "stream",
     "text": [
      "100%|██████████| 9207/9207 [01:03<00:00, 144.58it/s]\n"
     ]
    },
    {
     "name": "stdout",
     "output_type": "stream",
     "text": [
      "train 0.006129355851558403\n"
     ]
    },
    {
     "name": "stderr",
     "output_type": "stream",
     "text": [
      "100%|██████████| 1728/1728 [00:02<00:00, 643.96it/s]\n"
     ]
    },
    {
     "name": "stdout",
     "output_type": "stream",
     "text": [
      "valid 0.006071939117333385\n",
      "epoch: 1, result: {'Accuracy@10': 0.1967316153362665, 'Accuracy@20': 0.1960087994971716, 'Accuracy@30': 0.18904253090299603, 'Accuracy@40': 0.1854965430546826, 'Accuracy@50': 0.18027655562539283}\n",
      "saved model to cache/model/movielens/user2vec.pt\n"
     ]
    },
    {
     "name": "stderr",
     "output_type": "stream",
     "text": [
      "100%|██████████| 9207/9207 [01:04<00:00, 142.10it/s]\n"
     ]
    },
    {
     "name": "stdout",
     "output_type": "stream",
     "text": [
      "train 0.005539654669082504\n"
     ]
    },
    {
     "name": "stderr",
     "output_type": "stream",
     "text": [
      "100%|██████████| 1728/1728 [00:02<00:00, 670.30it/s]\n"
     ]
    },
    {
     "name": "stdout",
     "output_type": "stream",
     "text": [
      "valid 0.005612312423132519\n",
      "epoch: 2, result: {'Accuracy@10': 0.2128221244500314, 'Accuracy@20': 0.20801382778126962, 'Accuracy@30': 0.20289126335637964, 'Accuracy@40': 0.19715587680703958, 'Accuracy@50': 0.19206788183532372}\n",
      "saved model to cache/model/movielens/user2vec.pt\n"
     ]
    },
    {
     "name": "stderr",
     "output_type": "stream",
     "text": [
      "100%|██████████| 9207/9207 [00:59<00:00, 153.66it/s]\n"
     ]
    },
    {
     "name": "stdout",
     "output_type": "stream",
     "text": [
      "train 0.005124492910786196\n"
     ]
    },
    {
     "name": "stderr",
     "output_type": "stream",
     "text": [
      "100%|██████████| 1728/1728 [00:02<00:00, 710.70it/s]\n"
     ]
    },
    {
     "name": "stdout",
     "output_type": "stream",
     "text": [
      "valid 0.005294291860042993\n",
      "epoch: 3, result: {'Accuracy@10': 0.2049654305468259, 'Accuracy@20': 0.19971715901948459, 'Accuracy@30': 0.19316991410014667, 'Accuracy@40': 0.1903205531112508, 'Accuracy@50': 0.18730358265241986}\n",
      "saved model to cache/model/movielens/user2vec.pt\n"
     ]
    },
    {
     "name": "stderr",
     "output_type": "stream",
     "text": [
      "100%|██████████| 9207/9207 [00:56<00:00, 163.21it/s]\n"
     ]
    },
    {
     "name": "stdout",
     "output_type": "stream",
     "text": [
      "train 0.004904638244719385\n"
     ]
    },
    {
     "name": "stderr",
     "output_type": "stream",
     "text": [
      "100%|██████████| 1728/1728 [00:02<00:00, 721.48it/s]\n"
     ]
    },
    {
     "name": "stdout",
     "output_type": "stream",
     "text": [
      "valid 0.005096473639323756\n",
      "epoch: 4, result: {'Accuracy@10': 0.18981772470144562, 'Accuracy@20': 0.18494657448145818, 'Accuracy@30': 0.1801592289964383, 'Accuracy@40': 0.1763042111879321, 'Accuracy@50': 0.17357636706473914}\n",
      "saved model to cache/model/movielens/user2vec.pt\n"
     ]
    },
    {
     "name": "stderr",
     "output_type": "stream",
     "text": [
      "100%|██████████| 9207/9207 [00:56<00:00, 164.22it/s]\n"
     ]
    },
    {
     "name": "stdout",
     "output_type": "stream",
     "text": [
      "train 0.004785108249025559\n"
     ]
    },
    {
     "name": "stderr",
     "output_type": "stream",
     "text": [
      "100%|██████████| 1728/1728 [00:02<00:00, 695.75it/s]\n"
     ]
    },
    {
     "name": "stdout",
     "output_type": "stream",
     "text": [
      "valid 0.004969509296297796\n",
      "epoch: 5, result: {'Accuracy@10': 0.17140163419233187, 'Accuracy@20': 0.16970458830923946, 'Accuracy@30': 0.16570291221454012, 'Accuracy@40': 0.1610779384035198, 'Accuracy@50': 0.15737272155876808}\n",
      "saved model to cache/model/movielens/user2vec.pt\n"
     ]
    },
    {
     "name": "stderr",
     "output_type": "stream",
     "text": [
      "100%|██████████| 9207/9207 [00:57<00:00, 159.02it/s]\n"
     ]
    },
    {
     "name": "stdout",
     "output_type": "stream",
     "text": [
      "train 0.004715052764691623\n"
     ]
    },
    {
     "name": "stderr",
     "output_type": "stream",
     "text": [
      "100%|██████████| 1728/1728 [00:02<00:00, 673.11it/s]\n"
     ]
    },
    {
     "name": "stdout",
     "output_type": "stream",
     "text": [
      "valid 0.004885117502275031\n",
      "epoch: 6, result: {'Accuracy@10': 0.15480829666876178, 'Accuracy@20': 0.15219987429289755, 'Accuracy@30': 0.1505133040016761, 'Accuracy@40': 0.14676304211187932, 'Accuracy@50': 0.14339409176618478}\n",
      "saved model to cache/model/movielens/user2vec.pt\n"
     ]
    },
    {
     "name": "stderr",
     "output_type": "stream",
     "text": [
      "100%|██████████| 9207/9207 [01:04<00:00, 142.31it/s]\n"
     ]
    },
    {
     "name": "stdout",
     "output_type": "stream",
     "text": [
      "train 0.004671059988367871\n"
     ]
    },
    {
     "name": "stderr",
     "output_type": "stream",
     "text": [
      "100%|██████████| 1728/1728 [00:02<00:00, 679.21it/s]\n"
     ]
    },
    {
     "name": "stdout",
     "output_type": "stream",
     "text": [
      "valid 0.004827567497986173\n",
      "epoch: 7, result: {'Accuracy@10': 0.1418604651162791, 'Accuracy@20': 0.13705216844751728, 'Accuracy@30': 0.13693693693693693, 'Accuracy@40': 0.13513513513513514, 'Accuracy@50': 0.13254556882463858}\n",
      "saved model to cache/model/movielens/user2vec.pt\n"
     ]
    },
    {
     "name": "stderr",
     "output_type": "stream",
     "text": [
      "100%|██████████| 9207/9207 [01:03<00:00, 144.22it/s]\n"
     ]
    },
    {
     "name": "stdout",
     "output_type": "stream",
     "text": [
      "train 0.004641470557247241\n"
     ]
    },
    {
     "name": "stderr",
     "output_type": "stream",
     "text": [
      "100%|██████████| 1728/1728 [00:02<00:00, 666.93it/s]\n"
     ]
    },
    {
     "name": "stdout",
     "output_type": "stream",
     "text": [
      "valid 0.004785505694767377\n",
      "epoch: 8, result: {'Accuracy@10': 0.13155248271527342, 'Accuracy@20': 0.127027027027027, 'Accuracy@30': 0.12507856693903205, 'Accuracy@40': 0.12404148334380893, 'Accuracy@50': 0.12256442489000628}\n",
      "saved model to cache/model/movielens/user2vec.pt\n"
     ]
    },
    {
     "name": "stderr",
     "output_type": "stream",
     "text": [
      "100%|██████████| 9207/9207 [01:04<00:00, 141.65it/s]\n"
     ]
    },
    {
     "name": "stdout",
     "output_type": "stream",
     "text": [
      "train 0.004620336656583803\n"
     ]
    },
    {
     "name": "stderr",
     "output_type": "stream",
     "text": [
      "100%|██████████| 1728/1728 [00:02<00:00, 669.45it/s]\n"
     ]
    },
    {
     "name": "stdout",
     "output_type": "stream",
     "text": [
      "valid 0.004755131585401214\n",
      "epoch: 9, result: {'Accuracy@10': 0.12030169704588309, 'Accuracy@20': 0.11766184789440604, 'Accuracy@30': 0.11466582861931698, 'Accuracy@40': 0.11400062853551225, 'Accuracy@50': 0.11269641734758014}\n",
      "saved model to cache/model/movielens/user2vec.pt\n",
      "ModelConfig(d_model=16, init_embedding_std=0.2, max_embedding_norm=1, window_size=5, negative_sample_size=5, lr=5e-05, weight_decay=0, use_weight_tying=True, use_meta=True, use_attention=True)\n",
      "TrainerConfig(model_name='aau2v', dataset_name='movielens', epochs=10, batch_size=64, verbose=False, ignore_saved_model=True, save_model=True, load_dataset=False, save_dataset=False, model_dir='cache/model/', dataset_dir='cache/dataset/', device='cpu')\n",
      "create dataset\n",
      "num_seq: 6040, num_item: 3706, num_item_meta: 28, num_seq_meta: 30, num_item_meta_types: 3, num_seq_meta_types: 3\n",
      "train: 589192 valid: 110547\n"
     ]
    },
    {
     "name": "stderr",
     "output_type": "stream",
     "text": [
      "100%|██████████| 9207/9207 [00:54<00:00, 167.94it/s]\n"
     ]
    },
    {
     "name": "stdout",
     "output_type": "stream",
     "text": [
      "train 0.006011341973656508\n"
     ]
    },
    {
     "name": "stderr",
     "output_type": "stream",
     "text": [
      "100%|██████████| 1728/1728 [00:04<00:00, 397.38it/s]\n"
     ]
    },
    {
     "name": "stdout",
     "output_type": "stream",
     "text": [
      "valid 0.00574586079531123\n",
      "epoch: 0, result: {'Accuracy@10': 0.177561282212445, 'Accuracy@20': 0.15864236329352607, 'Accuracy@30': 0.14929813534464698, 'Accuracy@40': 0.14368321810182277, 'Accuracy@50': 0.14007542426147077}\n",
      "saved model to cache/model/movielens/aau2v.pt\n"
     ]
    },
    {
     "name": "stderr",
     "output_type": "stream",
     "text": [
      "100%|██████████| 9207/9207 [00:57<00:00, 158.92it/s]\n"
     ]
    },
    {
     "name": "stdout",
     "output_type": "stream",
     "text": [
      "train 0.005540263623102773\n"
     ]
    },
    {
     "name": "stderr",
     "output_type": "stream",
     "text": [
      "100%|██████████| 1728/1728 [00:04<00:00, 351.16it/s]\n"
     ]
    },
    {
     "name": "stdout",
     "output_type": "stream",
     "text": [
      "valid 0.005500782045779413\n",
      "epoch: 1, result: {'Accuracy@10': 0.20936517913262098, 'Accuracy@20': 0.19651162790697674, 'Accuracy@30': 0.18470563586842656, 'Accuracy@40': 0.1775455688246386, 'Accuracy@50': 0.17370207416719044}\n",
      "saved model to cache/model/movielens/aau2v.pt\n"
     ]
    },
    {
     "name": "stderr",
     "output_type": "stream",
     "text": [
      "100%|██████████| 9207/9207 [00:57<00:00, 159.90it/s]\n"
     ]
    },
    {
     "name": "stdout",
     "output_type": "stream",
     "text": [
      "train 0.005359900943943819\n"
     ]
    },
    {
     "name": "stderr",
     "output_type": "stream",
     "text": [
      "100%|██████████| 1728/1728 [00:04<00:00, 383.33it/s]\n"
     ]
    },
    {
     "name": "stdout",
     "output_type": "stream",
     "text": [
      "valid 0.005383364547319991\n",
      "epoch: 2, result: {'Accuracy@10': 0.22042740414833437, 'Accuracy@20': 0.20678818353236958, 'Accuracy@30': 0.19614498219149382, 'Accuracy@40': 0.18953488372093025, 'Accuracy@50': 0.18514142049025772}\n",
      "saved model to cache/model/movielens/aau2v.pt\n"
     ]
    },
    {
     "name": "stderr",
     "output_type": "stream",
     "text": [
      "100%|██████████| 9207/9207 [00:58<00:00, 156.33it/s]\n"
     ]
    },
    {
     "name": "stdout",
     "output_type": "stream",
     "text": [
      "train 0.005272212818319989\n"
     ]
    },
    {
     "name": "stderr",
     "output_type": "stream",
     "text": [
      "100%|██████████| 1728/1728 [00:04<00:00, 395.05it/s]\n"
     ]
    },
    {
     "name": "stdout",
     "output_type": "stream",
     "text": [
      "valid 0.005312491436784307\n",
      "epoch: 3, result: {'Accuracy@10': 0.22212445003142678, 'Accuracy@20': 0.21099937146448772, 'Accuracy@30': 0.20366645715482926, 'Accuracy@40': 0.1977215587680704, 'Accuracy@50': 0.1918918918918919}\n",
      "saved model to cache/model/movielens/aau2v.pt\n"
     ]
    },
    {
     "name": "stderr",
     "output_type": "stream",
     "text": [
      "100%|██████████| 9207/9207 [00:57<00:00, 158.91it/s]\n"
     ]
    },
    {
     "name": "stdout",
     "output_type": "stream",
     "text": [
      "train 0.005222498378560127\n"
     ]
    },
    {
     "name": "stderr",
     "output_type": "stream",
     "text": [
      "100%|██████████| 1728/1728 [00:04<00:00, 401.52it/s]\n"
     ]
    },
    {
     "name": "stdout",
     "output_type": "stream",
     "text": [
      "valid 0.005266014247218\n",
      "epoch: 4, result: {'Accuracy@10': 0.22294154619736015, 'Accuracy@20': 0.2140477686989315, 'Accuracy@30': 0.20659962287869266, 'Accuracy@40': 0.20050282840980516, 'Accuracy@50': 0.19389063482086738}\n",
      "saved model to cache/model/movielens/aau2v.pt\n"
     ]
    },
    {
     "name": "stderr",
     "output_type": "stream",
     "text": [
      "100%|██████████| 9207/9207 [00:58<00:00, 156.91it/s]\n"
     ]
    },
    {
     "name": "stdout",
     "output_type": "stream",
     "text": [
      "train 0.005191767590382018\n"
     ]
    },
    {
     "name": "stderr",
     "output_type": "stream",
     "text": [
      "100%|██████████| 1728/1728 [00:04<00:00, 386.27it/s]\n"
     ]
    },
    {
     "name": "stdout",
     "output_type": "stream",
     "text": [
      "valid 0.005234254280772617\n",
      "epoch: 5, result: {'Accuracy@10': 0.22067881835323697, 'Accuracy@20': 0.214487743557511, 'Accuracy@30': 0.20699769536978838, 'Accuracy@40': 0.2006913890634821, 'Accuracy@50': 0.19449402891263357}\n",
      "saved model to cache/model/movielens/aau2v.pt\n"
     ]
    },
    {
     "name": "stderr",
     "output_type": "stream",
     "text": [
      "100%|██████████| 9207/9207 [00:59<00:00, 155.54it/s]\n"
     ]
    },
    {
     "name": "stdout",
     "output_type": "stream",
     "text": [
      "train 0.0051718132153227864\n"
     ]
    },
    {
     "name": "stderr",
     "output_type": "stream",
     "text": [
      "100%|██████████| 1728/1728 [00:04<00:00, 416.43it/s]\n"
     ]
    },
    {
     "name": "stdout",
     "output_type": "stream",
     "text": [
      "valid 0.005211989155566945\n",
      "epoch: 6, result: {'Accuracy@10': 0.21338780641106223, 'Accuracy@20': 0.21087366436203644, 'Accuracy@30': 0.2049654305468259, 'Accuracy@40': 0.19976429918290384, 'Accuracy@50': 0.19376492771841608}\n",
      "saved model to cache/model/movielens/aau2v.pt\n"
     ]
    },
    {
     "name": "stderr",
     "output_type": "stream",
     "text": [
      "100%|██████████| 9207/9207 [00:53<00:00, 172.43it/s]\n"
     ]
    },
    {
     "name": "stdout",
     "output_type": "stream",
     "text": [
      "train 0.0051582693472825075\n"
     ]
    },
    {
     "name": "stderr",
     "output_type": "stream",
     "text": [
      "100%|██████████| 1728/1728 [00:04<00:00, 391.61it/s]\n"
     ]
    },
    {
     "name": "stdout",
     "output_type": "stream",
     "text": [
      "valid 0.005195728641161627\n",
      "epoch: 7, result: {'Accuracy@10': 0.19918290383406662, 'Accuracy@20': 0.2047140163419233, 'Accuracy@30': 0.2004609260423214, 'Accuracy@40': 0.1977215587680704, 'Accuracy@50': 0.19304839723444375}\n",
      "saved model to cache/model/movielens/aau2v.pt\n"
     ]
    },
    {
     "name": "stderr",
     "output_type": "stream",
     "text": [
      "100%|██████████| 9207/9207 [00:52<00:00, 174.90it/s]\n"
     ]
    },
    {
     "name": "stdout",
     "output_type": "stream",
     "text": [
      "train 0.005148732283309327\n"
     ]
    },
    {
     "name": "stderr",
     "output_type": "stream",
     "text": [
      "100%|██████████| 1728/1728 [00:03<00:00, 438.20it/s]\n"
     ]
    },
    {
     "name": "stdout",
     "output_type": "stream",
     "text": [
      "valid 0.005183529196717302\n",
      "epoch: 8, result: {'Accuracy@10': 0.18598365807668132, 'Accuracy@20': 0.1917661847894406, 'Accuracy@30': 0.19208045254556882, 'Accuracy@40': 0.1899120050282841, 'Accuracy@50': 0.18804525455688245}\n",
      "saved model to cache/model/movielens/aau2v.pt\n"
     ]
    },
    {
     "name": "stderr",
     "output_type": "stream",
     "text": [
      "100%|██████████| 9207/9207 [00:52<00:00, 174.26it/s]\n"
     ]
    },
    {
     "name": "stdout",
     "output_type": "stream",
     "text": [
      "train 0.005141843954501572\n"
     ]
    },
    {
     "name": "stderr",
     "output_type": "stream",
     "text": [
      "100%|██████████| 1728/1728 [00:03<00:00, 432.44it/s]\n"
     ]
    },
    {
     "name": "stdout",
     "output_type": "stream",
     "text": [
      "valid 0.005174069330088931\n",
      "epoch: 9, result: {'Accuracy@10': 0.16838466373350094, 'Accuracy@20': 0.17561282212445004, 'Accuracy@30': 0.1801592289964383, 'Accuracy@40': 0.18134820867379006, 'Accuracy@50': 0.181269641734758}\n",
      "saved model to cache/model/movielens/aau2v.pt\n",
      "ModelConfig(d_model=32, init_embedding_std=0.2, max_embedding_norm=1, window_size=5, negative_sample_size=5, lr=5e-05, weight_decay=0, use_weight_tying=True, use_meta=True, use_attention=True)\n",
      "TrainerConfig(model_name='aau2v', dataset_name='movielens', epochs=10, batch_size=64, verbose=False, ignore_saved_model=True, save_model=True, load_dataset=False, save_dataset=False, model_dir='cache/model/', dataset_dir='cache/dataset/', device='cpu')\n",
      "create dataset\n",
      "num_seq: 6040, num_item: 3706, num_item_meta: 28, num_seq_meta: 30, num_item_meta_types: 3, num_seq_meta_types: 3\n",
      "train: 589192 valid: 110547\n"
     ]
    },
    {
     "name": "stderr",
     "output_type": "stream",
     "text": [
      "100%|██████████| 9207/9207 [01:10<00:00, 129.89it/s]\n"
     ]
    },
    {
     "name": "stdout",
     "output_type": "stream",
     "text": [
      "train 0.005959816792961831\n"
     ]
    },
    {
     "name": "stderr",
     "output_type": "stream",
     "text": [
      "100%|██████████| 1728/1728 [00:05<00:00, 340.77it/s]\n"
     ]
    },
    {
     "name": "stdout",
     "output_type": "stream",
     "text": [
      "valid 0.005660326473435368\n",
      "epoch: 0, result: {'Accuracy@10': 0.20785669390320552, 'Accuracy@20': 0.20037712130735388, 'Accuracy@30': 0.1826524198617222, 'Accuracy@40': 0.17152734129478314, 'Accuracy@50': 0.16407291011942174}\n",
      "saved model to cache/model/movielens/aau2v.pt\n"
     ]
    },
    {
     "name": "stderr",
     "output_type": "stream",
     "text": [
      "100%|██████████| 9207/9207 [01:15<00:00, 121.70it/s]\n"
     ]
    },
    {
     "name": "stdout",
     "output_type": "stream",
     "text": [
      "train 0.0054554179059128115\n"
     ]
    },
    {
     "name": "stderr",
     "output_type": "stream",
     "text": [
      "100%|██████████| 1728/1728 [00:04<00:00, 346.00it/s]\n"
     ]
    },
    {
     "name": "stdout",
     "output_type": "stream",
     "text": [
      "valid 0.005429163312630531\n",
      "epoch: 1, result: {'Accuracy@10': 0.21929604022627278, 'Accuracy@20': 0.2117536140791955, 'Accuracy@30': 0.20783574271946365, 'Accuracy@40': 0.20028284098051538, 'Accuracy@50': 0.19317410433689503}\n",
      "saved model to cache/model/movielens/aau2v.pt\n"
     ]
    },
    {
     "name": "stderr",
     "output_type": "stream",
     "text": [
      "100%|██████████| 9207/9207 [01:16<00:00, 120.24it/s]\n"
     ]
    },
    {
     "name": "stdout",
     "output_type": "stream",
     "text": [
      "train 0.005296867061416489\n"
     ]
    },
    {
     "name": "stderr",
     "output_type": "stream",
     "text": [
      "100%|██████████| 1728/1728 [00:05<00:00, 333.16it/s]\n"
     ]
    },
    {
     "name": "stdout",
     "output_type": "stream",
     "text": [
      "valid 0.005323989948050849\n",
      "epoch: 2, result: {'Accuracy@10': 0.22545568824638593, 'Accuracy@20': 0.21612193588937773, 'Accuracy@30': 0.21045464068719882, 'Accuracy@40': 0.20381835323695788, 'Accuracy@50': 0.19639220615964803}\n",
      "saved model to cache/model/movielens/aau2v.pt\n"
     ]
    },
    {
     "name": "stderr",
     "output_type": "stream",
     "text": [
      "100%|██████████| 9207/9207 [01:21<00:00, 113.08it/s]\n"
     ]
    },
    {
     "name": "stdout",
     "output_type": "stream",
     "text": [
      "train 0.005224825707851442\n"
     ]
    },
    {
     "name": "stderr",
     "output_type": "stream",
     "text": [
      "100%|██████████| 1728/1728 [00:04<00:00, 374.58it/s]\n"
     ]
    },
    {
     "name": "stdout",
     "output_type": "stream",
     "text": [
      "valid 0.005263271154041195\n",
      "epoch: 3, result: {'Accuracy@10': 0.22583280955373977, 'Accuracy@20': 0.2175675675675676, 'Accuracy@30': 0.21102032264822962, 'Accuracy@40': 0.20430546825895662, 'Accuracy@50': 0.19658076681332495}\n",
      "saved model to cache/model/movielens/aau2v.pt\n"
     ]
    },
    {
     "name": "stderr",
     "output_type": "stream",
     "text": [
      "100%|██████████| 9207/9207 [01:15<00:00, 121.87it/s]\n"
     ]
    },
    {
     "name": "stdout",
     "output_type": "stream",
     "text": [
      "train 0.005186555349823657\n"
     ]
    },
    {
     "name": "stderr",
     "output_type": "stream",
     "text": [
      "100%|██████████| 1728/1728 [00:05<00:00, 288.02it/s]\n"
     ]
    },
    {
     "name": "stdout",
     "output_type": "stream",
     "text": [
      "valid 0.0052256765516151445\n",
      "epoch: 4, result: {'Accuracy@10': 0.21992457573852922, 'Accuracy@20': 0.2177561282212445, 'Accuracy@30': 0.2101613241148125, 'Accuracy@40': 0.20278126964173476, 'Accuracy@50': 0.19635449402891264}\n",
      "saved model to cache/model/movielens/aau2v.pt\n"
     ]
    },
    {
     "name": "stderr",
     "output_type": "stream",
     "text": [
      "100%|██████████| 9207/9207 [01:18<00:00, 117.77it/s]\n"
     ]
    },
    {
     "name": "stdout",
     "output_type": "stream",
     "text": [
      "train 0.005164201449664748\n"
     ]
    },
    {
     "name": "stderr",
     "output_type": "stream",
     "text": [
      "100%|██████████| 1728/1728 [00:04<00:00, 345.71it/s]\n"
     ]
    },
    {
     "name": "stdout",
     "output_type": "stream",
     "text": [
      "valid 0.005200972723231377\n",
      "epoch: 5, result: {'Accuracy@10': 0.21099937146448772, 'Accuracy@20': 0.21059082338152108, 'Accuracy@30': 0.20659962287869266, 'Accuracy@40': 0.20108422375864238, 'Accuracy@50': 0.1959899434318039}\n",
      "saved model to cache/model/movielens/aau2v.pt\n"
     ]
    },
    {
     "name": "stderr",
     "output_type": "stream",
     "text": [
      "100%|██████████| 9207/9207 [01:13<00:00, 124.74it/s]\n"
     ]
    },
    {
     "name": "stdout",
     "output_type": "stream",
     "text": [
      "train 0.005150354760172469\n"
     ]
    },
    {
     "name": "stderr",
     "output_type": "stream",
     "text": [
      "100%|██████████| 1728/1728 [00:05<00:00, 321.07it/s]\n"
     ]
    },
    {
     "name": "stdout",
     "output_type": "stream",
     "text": [
      "valid 0.005183906723047987\n",
      "epoch: 6, result: {'Accuracy@10': 0.19057196731615336, 'Accuracy@20': 0.19591451917033315, 'Accuracy@30': 0.1956212025979468, 'Accuracy@40': 0.1927561282212445, 'Accuracy@50': 0.19003142677561283}\n",
      "saved model to cache/model/movielens/aau2v.pt\n"
     ]
    },
    {
     "name": "stderr",
     "output_type": "stream",
     "text": [
      "100%|██████████| 9207/9207 [01:13<00:00, 124.73it/s]\n"
     ]
    },
    {
     "name": "stdout",
     "output_type": "stream",
     "text": [
      "train 0.0051411296235118475\n"
     ]
    },
    {
     "name": "stderr",
     "output_type": "stream",
     "text": [
      "100%|██████████| 1728/1728 [00:04<00:00, 355.90it/s]\n"
     ]
    },
    {
     "name": "stdout",
     "output_type": "stream",
     "text": [
      "valid 0.005172175157672593\n",
      "epoch: 7, result: {'Accuracy@10': 0.16769327467001888, 'Accuracy@20': 0.17853551225644249, 'Accuracy@30': 0.18022208254766395, 'Accuracy@40': 0.18139534883720929, 'Accuracy@50': 0.18128221244500314}\n",
      "saved model to cache/model/movielens/aau2v.pt\n"
     ]
    },
    {
     "name": "stderr",
     "output_type": "stream",
     "text": [
      "100%|██████████| 9207/9207 [01:14<00:00, 124.06it/s]\n"
     ]
    },
    {
     "name": "stdout",
     "output_type": "stream",
     "text": [
      "train 0.005134828122656586\n"
     ]
    },
    {
     "name": "stderr",
     "output_type": "stream",
     "text": [
      "100%|██████████| 1728/1728 [00:04<00:00, 353.67it/s]\n"
     ]
    },
    {
     "name": "stdout",
     "output_type": "stream",
     "text": [
      "valid 0.005163412473896594\n",
      "epoch: 8, result: {'Accuracy@10': 0.1492771841609051, 'Accuracy@20': 0.1569453174104337, 'Accuracy@30': 0.16325162371673999, 'Accuracy@40': 0.16722187303582653, 'Accuracy@50': 0.16849780012570711}\n",
      "saved model to cache/model/movielens/aau2v.pt\n"
     ]
    },
    {
     "name": "stderr",
     "output_type": "stream",
     "text": [
      "100%|██████████| 9207/9207 [01:15<00:00, 121.95it/s]\n"
     ]
    },
    {
     "name": "stdout",
     "output_type": "stream",
     "text": [
      "train 0.005130299514239876\n"
     ]
    },
    {
     "name": "stderr",
     "output_type": "stream",
     "text": [
      "100%|██████████| 1728/1728 [00:04<00:00, 368.38it/s]\n"
     ]
    },
    {
     "name": "stdout",
     "output_type": "stream",
     "text": [
      "valid 0.00515674680767745\n",
      "epoch: 9, result: {'Accuracy@10': 0.13601508485229413, 'Accuracy@20': 0.14591451917033313, 'Accuracy@30': 0.14967525665200082, 'Accuracy@40': 0.15235700817096165, 'Accuracy@50': 0.15435575109993716}\n",
      "saved model to cache/model/movielens/aau2v.pt\n",
      "ModelConfig(d_model=64, init_embedding_std=0.2, max_embedding_norm=1, window_size=5, negative_sample_size=5, lr=5e-05, weight_decay=0, use_weight_tying=True, use_meta=True, use_attention=True)\n",
      "TrainerConfig(model_name='aau2v', dataset_name='movielens', epochs=10, batch_size=64, verbose=False, ignore_saved_model=True, save_model=True, load_dataset=False, save_dataset=False, model_dir='cache/model/', dataset_dir='cache/dataset/', device='cpu')\n",
      "create dataset\n",
      "num_seq: 6040, num_item: 3706, num_item_meta: 28, num_seq_meta: 30, num_item_meta_types: 3, num_seq_meta_types: 3\n",
      "train: 589192 valid: 110547\n"
     ]
    },
    {
     "name": "stderr",
     "output_type": "stream",
     "text": [
      "100%|██████████| 9207/9207 [02:12<00:00, 69.74it/s]\n"
     ]
    },
    {
     "name": "stdout",
     "output_type": "stream",
     "text": [
      "train 0.005809404283775735\n"
     ]
    },
    {
     "name": "stderr",
     "output_type": "stream",
     "text": [
      "100%|██████████| 1728/1728 [00:08<00:00, 206.17it/s]\n"
     ]
    },
    {
     "name": "stdout",
     "output_type": "stream",
     "text": [
      "valid 0.005524622737425732\n",
      "epoch: 0, result: {'Accuracy@10': 0.2177247014456317, 'Accuracy@20': 0.213953488372093, 'Accuracy@30': 0.20773098680075425, 'Accuracy@40': 0.19962287869264614, 'Accuracy@50': 0.19313639220615963}\n",
      "saved model to cache/model/movielens/aau2v.pt\n"
     ]
    },
    {
     "name": "stderr",
     "output_type": "stream",
     "text": [
      "100%|██████████| 9207/9207 [02:09<00:00, 71.01it/s]\n"
     ]
    },
    {
     "name": "stdout",
     "output_type": "stream",
     "text": [
      "train 0.00534100165292038\n"
     ]
    },
    {
     "name": "stderr",
     "output_type": "stream",
     "text": [
      "100%|██████████| 1728/1728 [00:08<00:00, 211.33it/s]\n"
     ]
    },
    {
     "name": "stdout",
     "output_type": "stream",
     "text": [
      "valid 0.005336511056821066\n",
      "epoch: 1, result: {'Accuracy@10': 0.22545568824638593, 'Accuracy@20': 0.21822752985543686, 'Accuracy@30': 0.20955373978629793, 'Accuracy@40': 0.2033155248271527, 'Accuracy@50': 0.19719673161533627}\n",
      "saved model to cache/model/movielens/aau2v.pt\n"
     ]
    },
    {
     "name": "stderr",
     "output_type": "stream",
     "text": [
      "100%|██████████| 9207/9207 [02:11<00:00, 70.10it/s]\n"
     ]
    },
    {
     "name": "stdout",
     "output_type": "stream",
     "text": [
      "train 0.005223283235006341\n"
     ]
    },
    {
     "name": "stderr",
     "output_type": "stream",
     "text": [
      "100%|██████████| 1728/1728 [00:08<00:00, 195.61it/s]\n"
     ]
    },
    {
     "name": "stdout",
     "output_type": "stream",
     "text": [
      "valid 0.00525272939378328\n",
      "epoch: 2, result: {'Accuracy@10': 0.22715273412947828, 'Accuracy@20': 0.21964173475801382, 'Accuracy@30': 0.21051749423842445, 'Accuracy@40': 0.2029384035197989, 'Accuracy@50': 0.19734758013827783}\n",
      "saved model to cache/model/movielens/aau2v.pt\n"
     ]
    },
    {
     "name": "stderr",
     "output_type": "stream",
     "text": [
      "100%|██████████| 9207/9207 [02:06<00:00, 72.55it/s]\n"
     ]
    },
    {
     "name": "stdout",
     "output_type": "stream",
     "text": [
      "train 0.005175337657213868\n"
     ]
    },
    {
     "name": "stderr",
     "output_type": "stream",
     "text": [
      "100%|██████████| 1728/1728 [00:08<00:00, 210.32it/s]\n"
     ]
    },
    {
     "name": "stdout",
     "output_type": "stream",
     "text": [
      "valid 0.005208999833145921\n",
      "epoch: 3, result: {'Accuracy@10': 0.21979886863607795, 'Accuracy@20': 0.21737900691389064, 'Accuracy@30': 0.20915566729520219, 'Accuracy@40': 0.20174418604651162, 'Accuracy@50': 0.19636706473915777}\n",
      "saved model to cache/model/movielens/aau2v.pt\n"
     ]
    },
    {
     "name": "stderr",
     "output_type": "stream",
     "text": [
      "100%|██████████| 9207/9207 [02:08<00:00, 71.62it/s]\n"
     ]
    },
    {
     "name": "stdout",
     "output_type": "stream",
     "text": [
      "train 0.005152096329543158\n"
     ]
    },
    {
     "name": "stderr",
     "output_type": "stream",
     "text": [
      "100%|██████████| 1728/1728 [00:08<00:00, 204.64it/s]\n"
     ]
    },
    {
     "name": "stdout",
     "output_type": "stream",
     "text": [
      "valid 0.005183969008746179\n",
      "epoch: 4, result: {'Accuracy@10': 0.19868007542426147, 'Accuracy@20': 0.2026712759270899, 'Accuracy@30': 0.20243033731405824, 'Accuracy@40': 0.198585795097423, 'Accuracy@50': 0.19331238214959146}\n",
      "saved model to cache/model/movielens/aau2v.pt\n"
     ]
    },
    {
     "name": "stderr",
     "output_type": "stream",
     "text": [
      "100%|██████████| 9207/9207 [02:09<00:00, 70.95it/s]\n"
     ]
    },
    {
     "name": "stdout",
     "output_type": "stream",
     "text": [
      "train 0.005139392219096231\n"
     ]
    },
    {
     "name": "stderr",
     "output_type": "stream",
     "text": [
      "100%|██████████| 1728/1728 [00:08<00:00, 202.93it/s]\n"
     ]
    },
    {
     "name": "stdout",
     "output_type": "stream",
     "text": [
      "valid 0.005168352852437282\n",
      "epoch: 5, result: {'Accuracy@10': 0.17360150848522943, 'Accuracy@20': 0.17881835323695788, 'Accuracy@30': 0.17969830295411693, 'Accuracy@40': 0.18148962916404776, 'Accuracy@50': 0.1803519798868636}\n",
      "saved model to cache/model/movielens/aau2v.pt\n"
     ]
    },
    {
     "name": "stderr",
     "output_type": "stream",
     "text": [
      "100%|██████████| 9207/9207 [02:13<00:00, 69.21it/s]\n"
     ]
    },
    {
     "name": "stdout",
     "output_type": "stream",
     "text": [
      "train 0.005131835555678987\n"
     ]
    },
    {
     "name": "stderr",
     "output_type": "stream",
     "text": [
      "100%|██████████| 1728/1728 [00:08<00:00, 193.41it/s]\n"
     ]
    },
    {
     "name": "stdout",
     "output_type": "stream",
     "text": [
      "valid 0.005158045609127009\n",
      "epoch: 6, result: {'Accuracy@10': 0.15405405405405406, 'Accuracy@20': 0.15971087366436204, 'Accuracy@30': 0.16272784412319297, 'Accuracy@40': 0.16483343808925205, 'Accuracy@50': 0.16620993086109365}\n",
      "saved model to cache/model/movielens/aau2v.pt\n"
     ]
    },
    {
     "name": "stderr",
     "output_type": "stream",
     "text": [
      "100%|██████████| 9207/9207 [02:12<00:00, 69.60it/s]\n"
     ]
    },
    {
     "name": "stdout",
     "output_type": "stream",
     "text": [
      "train 0.005126976619425126\n"
     ]
    },
    {
     "name": "stderr",
     "output_type": "stream",
     "text": [
      "100%|██████████| 1728/1728 [00:08<00:00, 205.90it/s]\n"
     ]
    },
    {
     "name": "stdout",
     "output_type": "stream",
     "text": [
      "valid 0.005151037246011993\n",
      "epoch: 7, result: {'Accuracy@10': 0.13815210559396607, 'Accuracy@20': 0.14239472030169703, 'Accuracy@30': 0.14684684684684685, 'Accuracy@40': 0.14864864864864863, 'Accuracy@50': 0.15047140163419231}\n",
      "saved model to cache/model/movielens/aau2v.pt\n"
     ]
    },
    {
     "name": "stderr",
     "output_type": "stream",
     "text": [
      "100%|██████████| 9207/9207 [02:10<00:00, 70.63it/s]\n"
     ]
    },
    {
     "name": "stdout",
     "output_type": "stream",
     "text": [
      "train 0.00512359850149085\n"
     ]
    },
    {
     "name": "stderr",
     "output_type": "stream",
     "text": [
      "100%|██████████| 1728/1728 [00:08<00:00, 196.88it/s]\n"
     ]
    },
    {
     "name": "stdout",
     "output_type": "stream",
     "text": [
      "valid 0.005145892217384747\n",
      "epoch: 8, result: {'Accuracy@10': 0.1294154619736015, 'Accuracy@20': 0.13312382149591453, 'Accuracy@30': 0.13547035407500524, 'Accuracy@40': 0.13815210559396607, 'Accuracy@50': 0.14079195474544312}\n",
      "saved model to cache/model/movielens/aau2v.pt\n"
     ]
    },
    {
     "name": "stderr",
     "output_type": "stream",
     "text": [
      "100%|██████████| 9207/9207 [02:09<00:00, 71.14it/s]\n"
     ]
    },
    {
     "name": "stdout",
     "output_type": "stream",
     "text": [
      "train 0.005121329404238502\n"
     ]
    },
    {
     "name": "stderr",
     "output_type": "stream",
     "text": [
      "100%|██████████| 1728/1728 [00:09<00:00, 173.87it/s]\n"
     ]
    },
    {
     "name": "stdout",
     "output_type": "stream",
     "text": [
      "valid 0.005142149895996495\n",
      "epoch: 9, result: {'Accuracy@10': 0.11935889377749842, 'Accuracy@20': 0.121024512884978, 'Accuracy@30': 0.12581185836999792, 'Accuracy@40': 0.12773412947831553, 'Accuracy@50': 0.12960402262727844}\n",
      "saved model to cache/model/movielens/aau2v.pt\n",
      "ModelConfig(d_model=64, init_embedding_std=0.2, max_embedding_norm=1, window_size=5, negative_sample_size=5, lr=5e-05, weight_decay=0, use_weight_tying=False, use_meta=True, use_attention=True)\n",
      "TrainerConfig(model_name='aau2v', dataset_name='movielens', epochs=10, batch_size=64, verbose=False, ignore_saved_model=True, save_model=True, load_dataset=False, save_dataset=False, model_dir='cache/model/', dataset_dir='cache/dataset/', device='cpu')\n",
      "create dataset\n",
      "num_seq: 6040, num_item: 3706, num_item_meta: 28, num_seq_meta: 30, num_item_meta_types: 3, num_seq_meta_types: 3\n",
      "train: 589192 valid: 110547\n"
     ]
    },
    {
     "name": "stderr",
     "output_type": "stream",
     "text": [
      "100%|██████████| 9207/9207 [01:51<00:00, 82.42it/s]\n"
     ]
    },
    {
     "name": "stdout",
     "output_type": "stream",
     "text": [
      "train 0.006203541900560808\n"
     ]
    },
    {
     "name": "stderr",
     "output_type": "stream",
     "text": [
      "100%|██████████| 1728/1728 [00:06<00:00, 277.70it/s]\n"
     ]
    },
    {
     "name": "stdout",
     "output_type": "stream",
     "text": [
      "valid 0.005944869023124472\n",
      "epoch: 0, result: {'Accuracy@10': 0.20873664362036454, 'Accuracy@20': 0.19663733500942804, 'Accuracy@30': 0.186926461345066, 'Accuracy@40': 0.1806882463859208, 'Accuracy@50': 0.17734758013827784}\n",
      "saved model to cache/model/movielens/aau2v.pt\n"
     ]
    },
    {
     "name": "stderr",
     "output_type": "stream",
     "text": [
      "100%|██████████| 9207/9207 [01:53<00:00, 81.38it/s]\n"
     ]
    },
    {
     "name": "stdout",
     "output_type": "stream",
     "text": [
      "train 0.0054869430646542275\n"
     ]
    },
    {
     "name": "stderr",
     "output_type": "stream",
     "text": [
      "100%|██████████| 1728/1728 [00:06<00:00, 267.64it/s]\n"
     ]
    },
    {
     "name": "stdout",
     "output_type": "stream",
     "text": [
      "valid 0.005475535191823224\n",
      "epoch: 1, result: {'Accuracy@10': 0.21992457573852922, 'Accuracy@20': 0.21426775612822127, 'Accuracy@30': 0.21011942174732873, 'Accuracy@40': 0.20350408548082966, 'Accuracy@50': 0.1981646763042112}\n",
      "saved model to cache/model/movielens/aau2v.pt\n"
     ]
    },
    {
     "name": "stderr",
     "output_type": "stream",
     "text": [
      "100%|██████████| 9207/9207 [01:52<00:00, 81.66it/s]\n"
     ]
    },
    {
     "name": "stdout",
     "output_type": "stream",
     "text": [
      "train 0.005147484672279383\n"
     ]
    },
    {
     "name": "stderr",
     "output_type": "stream",
     "text": [
      "100%|██████████| 1728/1728 [00:06<00:00, 286.97it/s]\n"
     ]
    },
    {
     "name": "stdout",
     "output_type": "stream",
     "text": [
      "valid 0.005236840988844064\n",
      "epoch: 2, result: {'Accuracy@10': 0.22325581395348837, 'Accuracy@20': 0.21470773098680077, 'Accuracy@30': 0.2089042530902996, 'Accuracy@40': 0.20339409176618478, 'Accuracy@50': 0.1987932118164676}\n",
      "saved model to cache/model/movielens/aau2v.pt\n"
     ]
    },
    {
     "name": "stderr",
     "output_type": "stream",
     "text": [
      "100%|██████████| 9207/9207 [01:45<00:00, 87.61it/s]\n"
     ]
    },
    {
     "name": "stdout",
     "output_type": "stream",
     "text": [
      "train 0.0050007385694674404\n"
     ]
    },
    {
     "name": "stderr",
     "output_type": "stream",
     "text": [
      "100%|██████████| 1728/1728 [00:06<00:00, 260.90it/s]\n"
     ]
    },
    {
     "name": "stdout",
     "output_type": "stream",
     "text": [
      "valid 0.005107873241570675\n",
      "epoch: 3, result: {'Accuracy@10': 0.2042740414833438, 'Accuracy@20': 0.20179132620993084, 'Accuracy@30': 0.19792583280955375, 'Accuracy@40': 0.19379321181646764, 'Accuracy@50': 0.18878692646134507}\n",
      "saved model to cache/model/movielens/aau2v.pt\n"
     ]
    },
    {
     "name": "stderr",
     "output_type": "stream",
     "text": [
      "100%|██████████| 9207/9207 [01:55<00:00, 79.38it/s]\n"
     ]
    },
    {
     "name": "stdout",
     "output_type": "stream",
     "text": [
      "train 0.004929539789413835\n"
     ]
    },
    {
     "name": "stderr",
     "output_type": "stream",
     "text": [
      "100%|██████████| 1728/1728 [00:06<00:00, 284.96it/s]\n"
     ]
    },
    {
     "name": "stdout",
     "output_type": "stream",
     "text": [
      "valid 0.005032523295648606\n",
      "epoch: 4, result: {'Accuracy@10': 0.19151477058453803, 'Accuracy@20': 0.1819924575738529, 'Accuracy@30': 0.17554996857322439, 'Accuracy@40': 0.17305153991200503, 'Accuracy@50': 0.17160276555625395}\n",
      "saved model to cache/model/movielens/aau2v.pt\n"
     ]
    },
    {
     "name": "stderr",
     "output_type": "stream",
     "text": [
      "100%|██████████| 9207/9207 [01:44<00:00, 88.02it/s]\n"
     ]
    },
    {
     "name": "stdout",
     "output_type": "stream",
     "text": [
      "train 0.004890548353289482\n"
     ]
    },
    {
     "name": "stderr",
     "output_type": "stream",
     "text": [
      "100%|██████████| 1728/1728 [00:05<00:00, 291.12it/s]\n"
     ]
    },
    {
     "name": "stdout",
     "output_type": "stream",
     "text": [
      "valid 0.004985568124570904\n",
      "epoch: 5, result: {'Accuracy@10': 0.1725958516656191, 'Accuracy@20': 0.16521055939660592, 'Accuracy@30': 0.16015084852294154, 'Accuracy@40': 0.1568196103079824, 'Accuracy@50': 0.1548962916404777}\n",
      "saved model to cache/model/movielens/aau2v.pt\n"
     ]
    },
    {
     "name": "stderr",
     "output_type": "stream",
     "text": [
      "100%|██████████| 9207/9207 [01:43<00:00, 88.82it/s]\n"
     ]
    },
    {
     "name": "stdout",
     "output_type": "stream",
     "text": [
      "train 0.004867247517980441\n"
     ]
    },
    {
     "name": "stderr",
     "output_type": "stream",
     "text": [
      "100%|██████████| 1728/1728 [00:05<00:00, 288.29it/s]\n"
     ]
    },
    {
     "name": "stdout",
     "output_type": "stream",
     "text": [
      "valid 0.0049539092741840976\n",
      "epoch: 6, result: {'Accuracy@10': 0.15807668133249528, 'Accuracy@20': 0.1534255185417976, 'Accuracy@30': 0.14988476848941967, 'Accuracy@40': 0.14732872407291012, 'Accuracy@50': 0.14472658705216845}\n",
      "saved model to cache/model/movielens/aau2v.pt\n"
     ]
    },
    {
     "name": "stderr",
     "output_type": "stream",
     "text": [
      "100%|██████████| 9207/9207 [01:43<00:00, 88.62it/s]\n"
     ]
    },
    {
     "name": "stdout",
     "output_type": "stream",
     "text": [
      "train 0.004852198594878658\n"
     ]
    },
    {
     "name": "stderr",
     "output_type": "stream",
     "text": [
      "100%|██████████| 1728/1728 [00:05<00:00, 288.60it/s]\n"
     ]
    },
    {
     "name": "stdout",
     "output_type": "stream",
     "text": [
      "valid 0.004931734147825302\n",
      "epoch: 7, result: {'Accuracy@10': 0.138340666247643, 'Accuracy@20': 0.13702074167190445, 'Accuracy@30': 0.1367693274670019, 'Accuracy@40': 0.13643934632306726, 'Accuracy@50': 0.1359522313010685}\n",
      "saved model to cache/model/movielens/aau2v.pt\n"
     ]
    },
    {
     "name": "stderr",
     "output_type": "stream",
     "text": [
      "100%|██████████| 9207/9207 [01:43<00:00, 89.33it/s]\n"
     ]
    },
    {
     "name": "stdout",
     "output_type": "stream",
     "text": [
      "train 0.004841879567153047\n"
     ]
    },
    {
     "name": "stderr",
     "output_type": "stream",
     "text": [
      "100%|██████████| 1728/1728 [00:05<00:00, 289.21it/s]\n"
     ]
    },
    {
     "name": "stdout",
     "output_type": "stream",
     "text": [
      "valid 0.004916302453999256\n",
      "epoch: 8, result: {'Accuracy@10': 0.11508485229415462, 'Accuracy@20': 0.1183218101822753, 'Accuracy@30': 0.12065786716949507, 'Accuracy@40': 0.12042740414833437, 'Accuracy@50': 0.12061596480201132}\n",
      "saved model to cache/model/movielens/aau2v.pt\n"
     ]
    },
    {
     "name": "stderr",
     "output_type": "stream",
     "text": [
      "100%|██████████| 9207/9207 [01:43<00:00, 89.27it/s]\n"
     ]
    },
    {
     "name": "stdout",
     "output_type": "stream",
     "text": [
      "train 0.00483487216566388\n"
     ]
    },
    {
     "name": "stderr",
     "output_type": "stream",
     "text": [
      "100%|██████████| 1728/1728 [00:05<00:00, 291.20it/s]\n"
     ]
    },
    {
     "name": "stdout",
     "output_type": "stream",
     "text": [
      "valid 0.004904176390122957\n",
      "epoch: 9, result: {'Accuracy@10': 0.11074795725958517, 'Accuracy@20': 0.11235072281583909, 'Accuracy@30': 0.11210978420280746, 'Accuracy@40': 0.11255499685732244, 'Accuracy@50': 0.11294783155248272}\n",
      "saved model to cache/model/movielens/aau2v.pt\n",
      "ModelConfig(d_model=64, init_embedding_std=0.2, max_embedding_norm=1, window_size=5, negative_sample_size=5, lr=5e-05, weight_decay=0, use_weight_tying=True, use_meta=True, use_attention=False)\n",
      "TrainerConfig(model_name='aau2v', dataset_name='movielens', epochs=10, batch_size=64, verbose=False, ignore_saved_model=True, save_model=True, load_dataset=False, save_dataset=False, model_dir='cache/model/', dataset_dir='cache/dataset/', device='cpu')\n",
      "create dataset\n",
      "num_seq: 6040, num_item: 3706, num_item_meta: 28, num_seq_meta: 30, num_item_meta_types: 3, num_seq_meta_types: 3\n",
      "train: 589192 valid: 110547\n"
     ]
    },
    {
     "name": "stderr",
     "output_type": "stream",
     "text": [
      "100%|██████████| 9207/9207 [02:11<00:00, 70.10it/s]\n"
     ]
    },
    {
     "name": "stdout",
     "output_type": "stream",
     "text": [
      "train 0.0058063817206145864\n"
     ]
    },
    {
     "name": "stderr",
     "output_type": "stream",
     "text": [
      "100%|██████████| 1728/1728 [00:08<00:00, 193.26it/s]\n"
     ]
    },
    {
     "name": "stdout",
     "output_type": "stream",
     "text": [
      "valid 0.00551453537514615\n",
      "epoch: 0, result: {'Accuracy@10': 0.2077938403519799, 'Accuracy@20': 0.20930232558139536, 'Accuracy@30': 0.20525874711921224, 'Accuracy@40': 0.1967159019484601, 'Accuracy@50': 0.19025769956002514}\n",
      "saved model to cache/model/movielens/aau2v.pt\n"
     ]
    },
    {
     "name": "stderr",
     "output_type": "stream",
     "text": [
      "100%|██████████| 9207/9207 [02:06<00:00, 72.88it/s]\n"
     ]
    },
    {
     "name": "stdout",
     "output_type": "stream",
     "text": [
      "train 0.005333719767190688\n"
     ]
    },
    {
     "name": "stderr",
     "output_type": "stream",
     "text": [
      "100%|██████████| 1728/1728 [00:08<00:00, 213.03it/s]\n"
     ]
    },
    {
     "name": "stdout",
     "output_type": "stream",
     "text": [
      "valid 0.005327995333770742\n",
      "epoch: 1, result: {'Accuracy@10': 0.22350722815839097, 'Accuracy@20': 0.22033312382149592, 'Accuracy@30': 0.2108317619945527, 'Accuracy@40': 0.20131992457573852, 'Accuracy@50': 0.19477058453802643}\n",
      "saved model to cache/model/movielens/aau2v.pt\n"
     ]
    },
    {
     "name": "stderr",
     "output_type": "stream",
     "text": [
      "100%|██████████| 9207/9207 [02:03<00:00, 74.66it/s]\n"
     ]
    },
    {
     "name": "stdout",
     "output_type": "stream",
     "text": [
      "train 0.005218312071094742\n"
     ]
    },
    {
     "name": "stderr",
     "output_type": "stream",
     "text": [
      "100%|██████████| 1728/1728 [00:08<00:00, 199.30it/s]\n"
     ]
    },
    {
     "name": "stdout",
     "output_type": "stream",
     "text": [
      "valid 0.0052461237557287444\n",
      "epoch: 2, result: {'Accuracy@10': 0.22545568824638593, 'Accuracy@20': 0.2193274670018856, 'Accuracy@30': 0.2115021998742929, 'Accuracy@40': 0.20136706473915775, 'Accuracy@50': 0.19632935260842238}\n",
      "saved model to cache/model/movielens/aau2v.pt\n"
     ]
    },
    {
     "name": "stderr",
     "output_type": "stream",
     "text": [
      "100%|██████████| 9207/9207 [02:02<00:00, 75.03it/s]\n"
     ]
    },
    {
     "name": "stdout",
     "output_type": "stream",
     "text": [
      "train 0.005171230079431584\n"
     ]
    },
    {
     "name": "stderr",
     "output_type": "stream",
     "text": [
      "100%|██████████| 1728/1728 [00:18<00:00, 91.75it/s] \n"
     ]
    },
    {
     "name": "stdout",
     "output_type": "stream",
     "text": [
      "valid 0.0052031327084372005\n",
      "epoch: 3, result: {'Accuracy@10': 0.21439346323067254, 'Accuracy@20': 0.2140477686989315, 'Accuracy@30': 0.20651581814372513, 'Accuracy@40': 0.20081709616593338, 'Accuracy@50': 0.19541169076052797}\n",
      "saved model to cache/model/movielens/aau2v.pt\n"
     ]
    },
    {
     "name": "stderr",
     "output_type": "stream",
     "text": [
      "100%|██████████| 9207/9207 [02:08<00:00, 71.78it/s]\n"
     ]
    },
    {
     "name": "stdout",
     "output_type": "stream",
     "text": [
      "train 0.0051479205731219555\n"
     ]
    },
    {
     "name": "stderr",
     "output_type": "stream",
     "text": [
      "100%|██████████| 1728/1728 [00:08<00:00, 214.58it/s]\n"
     ]
    },
    {
     "name": "stdout",
     "output_type": "stream",
     "text": [
      "valid 0.005177983578202888\n",
      "epoch: 4, result: {'Accuracy@10': 0.1783783783783784, 'Accuracy@20': 0.1876807039597737, 'Accuracy@30': 0.19205950136182695, 'Accuracy@40': 0.19272470144563167, 'Accuracy@50': 0.18996857322438718}\n",
      "saved model to cache/model/movielens/aau2v.pt\n"
     ]
    },
    {
     "name": "stderr",
     "output_type": "stream",
     "text": [
      "100%|██████████| 9207/9207 [01:58<00:00, 77.69it/s]\n"
     ]
    },
    {
     "name": "stdout",
     "output_type": "stream",
     "text": [
      "train 0.005134755407676604\n"
     ]
    },
    {
     "name": "stderr",
     "output_type": "stream",
     "text": [
      "100%|██████████| 1728/1728 [00:08<00:00, 215.99it/s]\n"
     ]
    },
    {
     "name": "stdout",
     "output_type": "stream",
     "text": [
      "valid 0.005161959718700077\n",
      "epoch: 5, result: {'Accuracy@10': 0.14613450659962288, 'Accuracy@20': 0.1533940917661848, 'Accuracy@30': 0.16017179970668344, 'Accuracy@40': 0.16730043997485858, 'Accuracy@50': 0.17151477058453804}\n",
      "saved model to cache/model/movielens/aau2v.pt\n"
     ]
    },
    {
     "name": "stderr",
     "output_type": "stream",
     "text": [
      "100%|██████████| 9207/9207 [02:00<00:00, 76.57it/s]\n"
     ]
    },
    {
     "name": "stdout",
     "output_type": "stream",
     "text": [
      "train 0.005126523151514283\n"
     ]
    },
    {
     "name": "stderr",
     "output_type": "stream",
     "text": [
      "100%|██████████| 1728/1728 [00:07<00:00, 218.83it/s]\n"
     ]
    },
    {
     "name": "stdout",
     "output_type": "stream",
     "text": [
      "valid 0.005151062985974586\n",
      "epoch: 6, result: {'Accuracy@10': 0.1217473287240729, 'Accuracy@20': 0.1265556253928347, 'Accuracy@30': 0.13314477267965638, 'Accuracy@40': 0.1386706473915776, 'Accuracy@50': 0.14438717787554997}\n",
      "saved model to cache/model/movielens/aau2v.pt\n"
     ]
    },
    {
     "name": "stderr",
     "output_type": "stream",
     "text": [
      "100%|██████████| 9207/9207 [02:06<00:00, 72.89it/s]\n"
     ]
    },
    {
     "name": "stdout",
     "output_type": "stream",
     "text": [
      "train 0.005120964724335027\n"
     ]
    },
    {
     "name": "stderr",
     "output_type": "stream",
     "text": [
      "100%|██████████| 1728/1728 [00:07<00:00, 216.56it/s]\n"
     ]
    },
    {
     "name": "stdout",
     "output_type": "stream",
     "text": [
      "valid 0.0051433712136800995\n",
      "epoch: 7, result: {'Accuracy@10': 0.10333123821495915, 'Accuracy@20': 0.10650534255185418, 'Accuracy@30': 0.11158600460926042, 'Accuracy@40': 0.1164833438089252, 'Accuracy@50': 0.12140791954745443}\n",
      "saved model to cache/model/movielens/aau2v.pt\n"
     ]
    },
    {
     "name": "stderr",
     "output_type": "stream",
     "text": [
      "100%|██████████| 9207/9207 [02:08<00:00, 71.55it/s]\n"
     ]
    },
    {
     "name": "stdout",
     "output_type": "stream",
     "text": [
      "train 0.005116947603445252\n"
     ]
    },
    {
     "name": "stderr",
     "output_type": "stream",
     "text": [
      "100%|██████████| 1728/1728 [00:08<00:00, 202.05it/s]\n"
     ]
    },
    {
     "name": "stdout",
     "output_type": "stream",
     "text": [
      "valid 0.005137643682598523\n",
      "epoch: 8, result: {'Accuracy@10': 0.0912005028284098, 'Accuracy@20': 0.09296040226272785, 'Accuracy@30': 0.09752776031845799, 'Accuracy@40': 0.10180703959773726, 'Accuracy@50': 0.1055813953488372}\n",
      "saved model to cache/model/movielens/aau2v.pt\n"
     ]
    },
    {
     "name": "stderr",
     "output_type": "stream",
     "text": [
      "100%|██████████| 9207/9207 [02:09<00:00, 71.15it/s]\n"
     ]
    },
    {
     "name": "stdout",
     "output_type": "stream",
     "text": [
      "train 0.005113872737119297\n"
     ]
    },
    {
     "name": "stderr",
     "output_type": "stream",
     "text": [
      "100%|██████████| 1728/1728 [00:08<00:00, 198.69it/s]\n"
     ]
    },
    {
     "name": "stdout",
     "output_type": "stream",
     "text": [
      "valid 0.0051332072210091015\n",
      "epoch: 9, result: {'Accuracy@10': 0.08089252042740415, 'Accuracy@20': 0.08472658705216844, 'Accuracy@30': 0.08726168028493611, 'Accuracy@40': 0.09178189817724701, 'Accuracy@50': 0.09591451917033313}\n",
      "saved model to cache/model/movielens/aau2v.pt\n",
      "ModelConfig(d_model=64, init_embedding_std=0.2, max_embedding_norm=1, window_size=5, negative_sample_size=5, lr=5e-05, weight_decay=0, use_weight_tying=True, use_meta=False, use_attention=True)\n",
      "TrainerConfig(model_name='aau2v', dataset_name='movielens', epochs=10, batch_size=64, verbose=False, ignore_saved_model=True, save_model=True, load_dataset=False, save_dataset=False, model_dir='cache/model/', dataset_dir='cache/dataset/', device='cpu')\n",
      "create dataset\n",
      "num_seq: 6040, num_item: 3706, num_item_meta: 28, num_seq_meta: 30, num_item_meta_types: 3, num_seq_meta_types: 3\n",
      "train: 589192 valid: 110547\n"
     ]
    },
    {
     "name": "stderr",
     "output_type": "stream",
     "text": [
      "100%|██████████| 9207/9207 [00:59<00:00, 154.65it/s]\n"
     ]
    },
    {
     "name": "stdout",
     "output_type": "stream",
     "text": [
      "train 0.006409730265376052\n"
     ]
    },
    {
     "name": "stderr",
     "output_type": "stream",
     "text": [
      "100%|██████████| 1728/1728 [00:02<00:00, 623.32it/s]\n"
     ]
    },
    {
     "name": "stdout",
     "output_type": "stream",
     "text": [
      "valid 0.0063510810249063025\n",
      "epoch: 0, result: {'Accuracy@10': 0.10823381521055939, 'Accuracy@20': 0.12014456316781899, 'Accuracy@30': 0.12227110831761995, 'Accuracy@40': 0.12020741671904463, 'Accuracy@50': 0.11812696417347579}\n",
      "saved model to cache/model/movielens/aau2v.pt\n"
     ]
    },
    {
     "name": "stderr",
     "output_type": "stream",
     "text": [
      "100%|██████████| 9207/9207 [00:57<00:00, 158.87it/s]\n"
     ]
    },
    {
     "name": "stdout",
     "output_type": "stream",
     "text": [
      "train 0.005917032787763857\n"
     ]
    },
    {
     "name": "stderr",
     "output_type": "stream",
     "text": [
      "100%|██████████| 1728/1728 [00:02<00:00, 635.53it/s]\n"
     ]
    },
    {
     "name": "stdout",
     "output_type": "stream",
     "text": [
      "valid 0.005889791701595985\n",
      "epoch: 1, result: {'Accuracy@10': 0.19754871150219988, 'Accuracy@20': 0.20006285355122566, 'Accuracy@30': 0.19616593337523572, 'Accuracy@40': 0.19292897548711502, 'Accuracy@50': 0.1881835323695789}\n",
      "saved model to cache/model/movielens/aau2v.pt\n"
     ]
    },
    {
     "name": "stderr",
     "output_type": "stream",
     "text": [
      "100%|██████████| 9207/9207 [00:58<00:00, 157.57it/s]\n"
     ]
    },
    {
     "name": "stdout",
     "output_type": "stream",
     "text": [
      "train 0.005327955272272869\n"
     ]
    },
    {
     "name": "stderr",
     "output_type": "stream",
     "text": [
      "100%|██████████| 1728/1728 [00:02<00:00, 640.43it/s]\n"
     ]
    },
    {
     "name": "stdout",
     "output_type": "stream",
     "text": [
      "valid 0.005452200949265475\n",
      "epoch: 2, result: {'Accuracy@10': 0.2131992457573853, 'Accuracy@20': 0.21005656819610308, 'Accuracy@30': 0.20291221454012154, 'Accuracy@40': 0.19769013199245758, 'Accuracy@50': 0.19179132620993086}\n",
      "saved model to cache/model/movielens/aau2v.pt\n"
     ]
    },
    {
     "name": "stderr",
     "output_type": "stream",
     "text": [
      "100%|██████████| 9207/9207 [00:58<00:00, 158.08it/s]\n"
     ]
    },
    {
     "name": "stdout",
     "output_type": "stream",
     "text": [
      "train 0.004970361528495526\n"
     ]
    },
    {
     "name": "stderr",
     "output_type": "stream",
     "text": [
      "100%|██████████| 1728/1728 [00:02<00:00, 624.91it/s]\n"
     ]
    },
    {
     "name": "stdout",
     "output_type": "stream",
     "text": [
      "valid 0.005164859745587642\n",
      "epoch: 3, result: {'Accuracy@10': 0.20766813324952862, 'Accuracy@20': 0.20047140163419233, 'Accuracy@30': 0.1960821286402682, 'Accuracy@40': 0.19102765556253928, 'Accuracy@50': 0.1854431175361408}\n",
      "saved model to cache/model/movielens/aau2v.pt\n"
     ]
    },
    {
     "name": "stderr",
     "output_type": "stream",
     "text": [
      "100%|██████████| 9207/9207 [00:58<00:00, 156.89it/s]\n"
     ]
    },
    {
     "name": "stdout",
     "output_type": "stream",
     "text": [
      "train 0.004780444085884864\n"
     ]
    },
    {
     "name": "stderr",
     "output_type": "stream",
     "text": [
      "100%|██████████| 1728/1728 [00:02<00:00, 625.67it/s]\n"
     ]
    },
    {
     "name": "stdout",
     "output_type": "stream",
     "text": [
      "valid 0.004984377174239547\n",
      "epoch: 4, result: {'Accuracy@10': 0.19264613450659962, 'Accuracy@20': 0.18746071653048396, 'Accuracy@30': 0.18390949088623507, 'Accuracy@40': 0.17858265241986174, 'Accuracy@50': 0.17455688246385923}\n",
      "saved model to cache/model/movielens/aau2v.pt\n"
     ]
    },
    {
     "name": "stderr",
     "output_type": "stream",
     "text": [
      "100%|██████████| 9207/9207 [00:58<00:00, 156.43it/s]\n"
     ]
    },
    {
     "name": "stdout",
     "output_type": "stream",
     "text": [
      "train 0.004673592635140388\n"
     ]
    },
    {
     "name": "stderr",
     "output_type": "stream",
     "text": [
      "100%|██████████| 1728/1728 [00:02<00:00, 617.47it/s]\n"
     ]
    },
    {
     "name": "stdout",
     "output_type": "stream",
     "text": [
      "valid 0.004865846983028118\n",
      "epoch: 5, result: {'Accuracy@10': 0.18051539912005027, 'Accuracy@20': 0.17718416090509115, 'Accuracy@30': 0.1730358265241986, 'Accuracy@40': 0.168463230672533, 'Accuracy@50': 0.1649654305468259}\n",
      "saved model to cache/model/movielens/aau2v.pt\n"
     ]
    },
    {
     "name": "stderr",
     "output_type": "stream",
     "text": [
      "100%|██████████| 9207/9207 [00:58<00:00, 157.14it/s]\n"
     ]
    },
    {
     "name": "stdout",
     "output_type": "stream",
     "text": [
      "train 0.004609180181515331\n"
     ]
    },
    {
     "name": "stderr",
     "output_type": "stream",
     "text": [
      "100%|██████████| 1728/1728 [00:02<00:00, 648.53it/s]\n"
     ]
    },
    {
     "name": "stdout",
     "output_type": "stream",
     "text": [
      "valid 0.004785501434275456\n",
      "epoch: 6, result: {'Accuracy@10': 0.1737272155876807, 'Accuracy@20': 0.16866750471401634, 'Accuracy@30': 0.1649486695998324, 'Accuracy@40': 0.1607950974230044, 'Accuracy@50': 0.15742300439974857}\n",
      "saved model to cache/model/movielens/aau2v.pt\n"
     ]
    },
    {
     "name": "stderr",
     "output_type": "stream",
     "text": [
      "100%|██████████| 9207/9207 [01:02<00:00, 148.44it/s]\n"
     ]
    },
    {
     "name": "stdout",
     "output_type": "stream",
     "text": [
      "train 0.004567229300955873\n"
     ]
    },
    {
     "name": "stderr",
     "output_type": "stream",
     "text": [
      "100%|██████████| 1728/1728 [00:02<00:00, 631.51it/s]\n"
     ]
    },
    {
     "name": "stdout",
     "output_type": "stream",
     "text": [
      "valid 0.004729099394990844\n",
      "epoch: 7, result: {'Accuracy@10': 0.16675047140163418, 'Accuracy@20': 0.16103079824010055, 'Accuracy@30': 0.15891472868217052, 'Accuracy@40': 0.1536926461345066, 'Accuracy@50': 0.15013199245757386}\n",
      "saved model to cache/model/movielens/aau2v.pt\n"
     ]
    },
    {
     "name": "stderr",
     "output_type": "stream",
     "text": [
      "100%|██████████| 9207/9207 [01:01<00:00, 150.68it/s]\n"
     ]
    },
    {
     "name": "stdout",
     "output_type": "stream",
     "text": [
      "train 0.004538862756107003\n"
     ]
    },
    {
     "name": "stderr",
     "output_type": "stream",
     "text": [
      "100%|██████████| 1728/1728 [00:02<00:00, 628.22it/s]\n"
     ]
    },
    {
     "name": "stdout",
     "output_type": "stream",
     "text": [
      "valid 0.004687638868859454\n",
      "epoch: 8, result: {'Accuracy@10': 0.15958516656191074, 'Accuracy@20': 0.15524827152734128, 'Accuracy@30': 0.15156086318877016, 'Accuracy@40': 0.1477372721558768, 'Accuracy@50': 0.14398491514770584}\n",
      "saved model to cache/model/movielens/aau2v.pt\n"
     ]
    },
    {
     "name": "stderr",
     "output_type": "stream",
     "text": [
      "100%|██████████| 9207/9207 [01:04<00:00, 142.64it/s]\n"
     ]
    },
    {
     "name": "stdout",
     "output_type": "stream",
     "text": [
      "train 0.004519878872175085\n"
     ]
    },
    {
     "name": "stderr",
     "output_type": "stream",
     "text": [
      "100%|██████████| 1728/1728 [00:02<00:00, 623.32it/s]\n"
     ]
    },
    {
     "name": "stdout",
     "output_type": "stream",
     "text": [
      "valid 0.0046572648845658645\n",
      "epoch: 9, result: {'Accuracy@10': 0.15518541797611565, 'Accuracy@20': 0.15012570710245127, 'Accuracy@30': 0.1463440184370417, 'Accuracy@40': 0.14252042740414833, 'Accuracy@50': 0.13981143934632306}\n",
      "saved model to cache/model/movielens/aau2v.pt\n"
     ]
    }
   ],
   "source": [
    "results = {}\n",
    "\n",
    "for run_config in run_configs:\n",
    "    set_seed(0)\n",
    "\n",
    "    results[run_config[\"name\"]] = {\"accuracy\": []}\n",
    "    model_config = ModelConfig(\n",
    "        max_embedding_norm=1,\n",
    "        d_model=run_config[\"d_model\"],\n",
    "        use_attention=run_config[\"use_attention\"],\n",
    "        use_meta=run_config[\"use_meta\"],\n",
    "        use_weight_tying=run_config[\"use_weight_tying\"],\n",
    "    )\n",
    "    trainer_config = TrainerConfig(\n",
    "        dataset_name=\"movielens\",\n",
    "        lr=5e-5,\n",
    "        model_name=run_config[\"model_name\"],\n",
    "        epochs=run_config[\"epochs\"],\n",
    "    )\n",
    "\n",
    "    print(model_config)\n",
    "    print(trainer_config)\n",
    "\n",
    "    dataset_center = load_dataset_center(\n",
    "        dataset_name=trainer_config.dataset_name,\n",
    "        window_size=model_config.window_size,\n",
    "    )\n",
    "    print(\n",
    "        \"train:\",\n",
    "        len(dataset_center.train_dataset),\n",
    "        \"valid:\",\n",
    "        len(dataset_center.valid_dataset),\n",
    "    )\n",
    "    model = load_model(\n",
    "        dataset_center=dataset_center,\n",
    "        trainer_config=trainer_config,\n",
    "        model_config=model_config,\n",
    "    )\n",
    "    trainer = PyTorchTrainer(\n",
    "        model=model,\n",
    "        dataset_center=dataset_center,\n",
    "        trainer_config=trainer_config,\n",
    "    )\n",
    "\n",
    "    def on_epoch_end(epoch: int) -> None:\n",
    "        result = calc_accuracy(\n",
    "            model=model,\n",
    "            num_item=dataset_center.num_item,\n",
    "            test_dataset=dataset_center.test_datasets[\"test\"],\n",
    "            top_k=[10, 20, 30, 40, 50],\n",
    "        )\n",
    "        print(f\"epoch: {epoch}, result: {result}\")\n",
    "        results[run_config[\"name\"]][\"accuracy\"].append(result)\n",
    "        torch.save(model, f\"model/exp-5-1/{run_config['name']}-{epoch}.pt\")\n",
    "\n",
    "    losses = trainer.fit(on_epoch_end=on_epoch_end)\n",
    "    results[run_config[\"name\"]][\"loss\"] = losses\n",
    "\n",
    "    with open(\"result.json\", \"w\") as f:\n",
    "        json.dump(results, f)"
   ]
  },
  {
   "cell_type": "code",
   "execution_count": 10,
   "metadata": {},
   "outputs": [],
   "source": [
    "top_k = list(range(10, 51, 20))\n",
    "data = {}\n",
    "for method, result in results.items():\n",
    "    data[method] = []\n",
    "    for k in top_k:\n",
    "        a = max(map(lambda r: r[f\"Accuracy@{k}\"], result[\"accuracy\"]))\n",
    "        data[method].append(a)"
   ]
  },
  {
   "cell_type": "code",
   "execution_count": 11,
   "metadata": {},
   "outputs": [
    {
     "data": {
      "text/html": [
       "<div>\n",
       "<style scoped>\n",
       "    .dataframe tbody tr th:only-of-type {\n",
       "        vertical-align: middle;\n",
       "    }\n",
       "\n",
       "    .dataframe tbody tr th {\n",
       "        vertical-align: top;\n",
       "    }\n",
       "\n",
       "    .dataframe thead th {\n",
       "        text-align: right;\n",
       "    }\n",
       "</style>\n",
       "<table border=\"1\" class=\"dataframe\">\n",
       "  <thead>\n",
       "    <tr style=\"text-align: right;\">\n",
       "      <th></th>\n",
       "      <th>Accuracy@10</th>\n",
       "      <th>Accuracy@30</th>\n",
       "      <th>Accuracy@50</th>\n",
       "    </tr>\n",
       "  </thead>\n",
       "  <tbody>\n",
       "    <tr>\n",
       "      <th>User2Vec (d=16)</th>\n",
       "      <td>0.1804</td>\n",
       "      <td>0.1750</td>\n",
       "      <td>0.1689</td>\n",
       "    </tr>\n",
       "    <tr>\n",
       "      <th>User2Vec (d=32)</th>\n",
       "      <td>0.1927</td>\n",
       "      <td>0.1890</td>\n",
       "      <td>0.1815</td>\n",
       "    </tr>\n",
       "    <tr>\n",
       "      <th>User2Vec (d=64)</th>\n",
       "      <td>0.2128</td>\n",
       "      <td>0.2029</td>\n",
       "      <td>0.1921</td>\n",
       "    </tr>\n",
       "    <tr>\n",
       "      <th>AAU2V (d=16)</th>\n",
       "      <td>0.2229</td>\n",
       "      <td>0.2070</td>\n",
       "      <td>0.1945</td>\n",
       "    </tr>\n",
       "    <tr>\n",
       "      <th>AAU2V (d=32)</th>\n",
       "      <td>0.2258</td>\n",
       "      <td>0.2110</td>\n",
       "      <td>0.1966</td>\n",
       "    </tr>\n",
       "    <tr>\n",
       "      <th>AAU2V (d=64)</th>\n",
       "      <td>0.2272</td>\n",
       "      <td>0.2105</td>\n",
       "      <td>0.1973</td>\n",
       "    </tr>\n",
       "    <tr>\n",
       "      <th>AAU2V (wo weight-tying)</th>\n",
       "      <td>0.2233</td>\n",
       "      <td>0.2101</td>\n",
       "      <td>0.1988</td>\n",
       "    </tr>\n",
       "    <tr>\n",
       "      <th>AAU2V (wo attention)</th>\n",
       "      <td>0.2255</td>\n",
       "      <td>0.2115</td>\n",
       "      <td>0.1963</td>\n",
       "    </tr>\n",
       "    <tr>\n",
       "      <th>AAU2V (wo meta)</th>\n",
       "      <td>0.2132</td>\n",
       "      <td>0.2029</td>\n",
       "      <td>0.1918</td>\n",
       "    </tr>\n",
       "  </tbody>\n",
       "</table>\n",
       "</div>"
      ],
      "text/plain": [
       "                         Accuracy@10  Accuracy@30  Accuracy@50\n",
       "User2Vec (d=16)               0.1804       0.1750       0.1689\n",
       "User2Vec (d=32)               0.1927       0.1890       0.1815\n",
       "User2Vec (d=64)               0.2128       0.2029       0.1921\n",
       "AAU2V (d=16)                  0.2229       0.2070       0.1945\n",
       "AAU2V (d=32)                  0.2258       0.2110       0.1966\n",
       "AAU2V (d=64)                  0.2272       0.2105       0.1973\n",
       "AAU2V (wo weight-tying)       0.2233       0.2101       0.1988\n",
       "AAU2V (wo attention)          0.2255       0.2115       0.1963\n",
       "AAU2V (wo meta)               0.2132       0.2029       0.1918"
      ]
     },
     "execution_count": 11,
     "metadata": {},
     "output_type": "execute_result"
    }
   ],
   "source": [
    "pd.options.display.precision = 4\n",
    "df = pd.DataFrame(data).T\n",
    "df.columns = [f\"Accuracy@{k}\" for k in top_k]\n",
    "df"
   ]
  }
 ],
 "metadata": {
  "kernelspec": {
   "display_name": ".venv",
   "language": "python",
   "name": "python3"
  },
  "language_info": {
   "codemirror_mode": {
    "name": "ipython",
    "version": 3
   },
   "file_extension": ".py",
   "mimetype": "text/x-python",
   "name": "python",
   "nbconvert_exporter": "python",
   "pygments_lexer": "ipython3",
   "version": "3.11.6"
  }
 },
 "nbformat": 4,
 "nbformat_minor": 2
}
