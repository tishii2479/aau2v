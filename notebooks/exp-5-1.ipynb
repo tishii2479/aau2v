{
 "cells": [
  {
   "cell_type": "code",
   "execution_count": 5,
   "metadata": {},
   "outputs": [
    {
     "ename": "ModuleNotFoundError",
     "evalue": "No module named 'aau2v'",
     "output_type": "error",
     "traceback": [
      "\u001b[0;31m---------------------------------------------------------------------------\u001b[0m",
      "\u001b[0;31mModuleNotFoundError\u001b[0m                       Traceback (most recent call last)",
      "Cell \u001b[0;32mIn[5], line 5\u001b[0m\n\u001b[1;32m      2\u001b[0m \u001b[38;5;28;01mimport\u001b[39;00m \u001b[38;5;21;01mjson\u001b[39;00m\n\u001b[1;32m      3\u001b[0m \u001b[38;5;28;01mimport\u001b[39;00m \u001b[38;5;21;01mpandas\u001b[39;00m \u001b[38;5;28;01mas\u001b[39;00m \u001b[38;5;21;01mpd\u001b[39;00m\n\u001b[0;32m----> 5\u001b[0m \u001b[38;5;28;01mfrom\u001b[39;00m \u001b[38;5;21;01maau2v\u001b[39;00m\u001b[38;5;21;01m.\u001b[39;00m\u001b[38;5;21;01mconfig\u001b[39;00m \u001b[38;5;28;01mimport\u001b[39;00m ModelConfig, TrainerConfig\n\u001b[1;32m      6\u001b[0m \u001b[38;5;28;01mfrom\u001b[39;00m \u001b[38;5;21;01maau2v\u001b[39;00m\u001b[38;5;21;01m.\u001b[39;00m\u001b[38;5;21;01mdataset_center\u001b[39;00m \u001b[38;5;28;01mimport\u001b[39;00m load_dataset_center\n\u001b[1;32m      7\u001b[0m \u001b[38;5;28;01mfrom\u001b[39;00m \u001b[38;5;21;01maau2v\u001b[39;00m\u001b[38;5;21;01m.\u001b[39;00m\u001b[38;5;21;01mtrainer\u001b[39;00m \u001b[38;5;28;01mimport\u001b[39;00m PyTorchTrainer\n",
      "\u001b[0;31mModuleNotFoundError\u001b[0m: No module named 'aau2v'"
     ]
    }
   ],
   "source": [
    "import torch\n",
    "import json\n",
    "import pandas as pd\n",
    "\n",
    "from aau2v.config import ModelConfig, TrainerConfig\n",
    "from aau2v.dataset_center import load_dataset_center\n",
    "from aau2v.trainer import PyTorchTrainer\n",
    "from aau2v.model import load_model, PyTorchModel\n",
    "from aau2v.util import set_seed"
   ]
  },
  {
   "cell_type": "code",
   "execution_count": 20,
   "metadata": {},
   "outputs": [],
   "source": [
    "def calc_accuracy(\n",
    "    model: PyTorchModel,\n",
    "    num_item: int,\n",
    "    test_dataset: list[tuple[int, list[int], list[int]]],\n",
    "    top_k: list[int],\n",
    ") -> dict[str, float]:\n",
    "    model.eval()\n",
    "    hit_counts = {k: 0 for k in top_k}\n",
    "    seq_index = torch.LongTensor(list(map(lambda d: d[0], test_dataset)))\n",
    "    context_items = torch.LongTensor(list(map(lambda d: d[1], test_dataset)))\n",
    "    rec_list = model.output_rec_lists(\n",
    "        seq_index=seq_index,\n",
    "        item_indices=context_items,\n",
    "        cand_item_indices=torch.arange(num_item),\n",
    "        k=max(top_k),\n",
    "    )\n",
    "    for i in range(len(test_dataset)):\n",
    "        for k in top_k:\n",
    "            hit_counts[k] += len(set(test_dataset[i][2]) & set(rec_list[i][:k]))\n",
    "\n",
    "    total_rec = len(test_dataset)\n",
    "    results = {\n",
    "        f\"Accuracy@{k}\": hit_count / total_rec / k\n",
    "        for k, hit_count in hit_counts.items()\n",
    "    }\n",
    "    return results"
   ]
  },
  {
   "cell_type": "code",
   "execution_count": 25,
   "metadata": {},
   "outputs": [],
   "source": [
    "run_configs = [\n",
    "    {\n",
    "        \"name\": \"AAU2V (d=16)\",\n",
    "        \"model_name\": \"aau2v\",\n",
    "        \"d_model\": 16,\n",
    "        \"use_weight_tying\": True,\n",
    "        \"use_attention\": True,\n",
    "        \"use_meta\": True,\n",
    "    },\n",
    "    {\n",
    "        \"name\": \"AAU2V (d=32)\",\n",
    "        \"model_name\": \"aau2v\",\n",
    "        \"d_model\": 32,\n",
    "        \"use_weight_tying\": True,\n",
    "        \"use_attention\": True,\n",
    "        \"use_meta\": True,\n",
    "    },\n",
    "    {\n",
    "        \"name\": \"AAU2V (d=64)\",\n",
    "        \"model_name\": \"aau2v\",\n",
    "        \"d_model\": 64,\n",
    "        \"use_weight_tying\": True,\n",
    "        \"use_attention\": True,\n",
    "        \"use_meta\": True,\n",
    "    },\n",
    "    {\n",
    "        \"name\": \"AAU2V w/o WT\",\n",
    "        \"model_name\": \"aau2v\",\n",
    "        \"d_model\": 64,\n",
    "        \"use_weight_tying\": False,\n",
    "        \"use_attention\": True,\n",
    "        \"use_meta\": True,\n",
    "    },\n",
    "    {\n",
    "        \"name\": \"AAU2V w/o AT\",\n",
    "        \"model_name\": \"aau2v\",\n",
    "        \"d_model\": 64,\n",
    "        \"use_weight_tying\": True,\n",
    "        \"use_attention\": False,\n",
    "        \"use_meta\": True,\n",
    "    },\n",
    "    {\n",
    "        \"name\": \"AAU2V w/o AI\",\n",
    "        \"model_name\": \"aau2v\",\n",
    "        \"d_model\": 64,\n",
    "        \"use_weight_tying\": True,\n",
    "        \"use_attention\": True,\n",
    "        \"use_meta\": False,\n",
    "    },\n",
    "    {\n",
    "        \"name\": \"User2Vec (d=16)\",\n",
    "        \"model_name\": \"user2vec\",\n",
    "        \"d_model\": 16,\n",
    "        \"use_weight_tying\": True,\n",
    "        \"use_attention\": True,\n",
    "        \"use_meta\": True,\n",
    "    },\n",
    "    {\n",
    "        \"name\": \"User2Vec (d=32)\",\n",
    "        \"model_name\": \"user2vec\",\n",
    "        \"d_model\": 32,\n",
    "        \"use_weight_tying\": True,\n",
    "        \"use_attention\": True,\n",
    "        \"use_meta\": True,\n",
    "    },\n",
    "    {\n",
    "        \"name\": \"User2Vec (d=64)\",\n",
    "        \"model_name\": \"user2vec\",\n",
    "        \"d_model\": 64,\n",
    "        \"use_weight_tying\": True,\n",
    "        \"use_attention\": True,\n",
    "        \"use_meta\": True,\n",
    "    },\n",
    "]"
   ]
  },
  {
   "cell_type": "code",
   "execution_count": 26,
   "metadata": {},
   "outputs": [
    {
     "name": "stdout",
     "output_type": "stream",
     "text": [
      "ModelConfig(d_model=16, init_embedding_std=0.2, max_embedding_norm=1, window_size=5, negative_sample_size=5, use_weight_tying=True, use_meta=True, use_attention=True)\n",
      "TrainerConfig(model_name='user2vec', dataset_name='movielens', epochs=10, batch_size=64, lr=0.0001, weight_decay=0, verbose=False, model_dir='model', save_model=True, device='cpu')\n",
      "num_seq: 6040, num_item: 3706, num_item_meta: 28, num_seq_meta: 30, num_item_meta_types: 3, num_seq_meta_types: 3\n",
      "train: 589192 valid: 110547\n"
     ]
    },
    {
     "name": "stderr",
     "output_type": "stream",
     "text": [
      " 11%|█▏        | 1053/9207 [00:03<00:36, 225.08it/s]"
     ]
    },
    {
     "name": "stdout",
     "output_type": "stream",
     "text": [
      "epoch: 0, result: {'Accuracy@10': 0.02853551225644249, 'Accuracy@30': 0.03002304630211607, 'Accuracy@50': 0.031150219987429287, 'Accuracy@100': 0.03203016970458831}\n"
     ]
    },
    {
     "name": "stderr",
     "output_type": "stream",
     "text": [
      " 22%|██▏       | 2036/9207 [00:07<00:31, 230.46it/s]"
     ]
    },
    {
     "name": "stdout",
     "output_type": "stream",
     "text": [
      "epoch: 0, result: {'Accuracy@10': 0.028849780012570707, 'Accuracy@30': 0.030379216425728054, 'Accuracy@50': 0.03113764927718416, 'Accuracy@100': 0.032325581395348836}\n"
     ]
    },
    {
     "name": "stderr",
     "output_type": "stream",
     "text": [
      " 33%|███▎      | 3049/9207 [00:11<00:27, 225.58it/s]"
     ]
    },
    {
     "name": "stdout",
     "output_type": "stream",
     "text": [
      "epoch: 0, result: {'Accuracy@10': 0.02916404776869893, 'Accuracy@30': 0.03142677561282212, 'Accuracy@50': 0.03208045254556882, 'Accuracy@100': 0.032922690131992456}\n"
     ]
    },
    {
     "name": "stderr",
     "output_type": "stream",
     "text": [
      " 44%|████▎     | 4028/9207 [00:15<00:24, 211.50it/s]"
     ]
    },
    {
     "name": "stdout",
     "output_type": "stream",
     "text": [
      "epoch: 0, result: {'Accuracy@10': 0.03142677561282212, 'Accuracy@30': 0.03272574900481877, 'Accuracy@50': 0.033463230672533, 'Accuracy@100': 0.0339409176618479}\n"
     ]
    },
    {
     "name": "stderr",
     "output_type": "stream",
     "text": [
      " 55%|█████▍    | 5054/9207 [00:18<00:17, 239.95it/s]"
     ]
    },
    {
     "name": "stdout",
     "output_type": "stream",
     "text": [
      "epoch: 0, result: {'Accuracy@10': 0.033123821495914516, 'Accuracy@30': 0.035302744605070185, 'Accuracy@50': 0.03527341294783155, 'Accuracy@100': 0.035355122564424885}\n"
     ]
    },
    {
     "name": "stderr",
     "output_type": "stream",
     "text": [
      " 66%|██████▌   | 6038/9207 [00:22<00:13, 233.34it/s]"
     ]
    },
    {
     "name": "stdout",
     "output_type": "stream",
     "text": [
      "epoch: 0, result: {'Accuracy@10': 0.03758642363293526, 'Accuracy@30': 0.0387806411062225, 'Accuracy@50': 0.03800125707102451, 'Accuracy@100': 0.03773098680075424}\n"
     ]
    },
    {
     "name": "stderr",
     "output_type": "stream",
     "text": [
      " 76%|███████▋  | 7038/9207 [00:26<00:09, 218.52it/s]"
     ]
    },
    {
     "name": "stdout",
     "output_type": "stream",
     "text": [
      "epoch: 0, result: {'Accuracy@10': 0.043871778755499684, 'Accuracy@30': 0.04353655981562958, 'Accuracy@50': 0.04209930861093651, 'Accuracy@100': 0.041879321181646764}\n"
     ]
    },
    {
     "name": "stderr",
     "output_type": "stream",
     "text": [
      " 87%|████████▋ | 8046/9207 [00:29<00:05, 230.24it/s]"
     ]
    },
    {
     "name": "stdout",
     "output_type": "stream",
     "text": [
      "epoch: 0, result: {'Accuracy@10': 0.054556882463859216, 'Accuracy@30': 0.05221034988476849, 'Accuracy@50': 0.05047140163419234, 'Accuracy@100': 0.048711502199874294}\n"
     ]
    },
    {
     "name": "stderr",
     "output_type": "stream",
     "text": [
      " 98%|█████████▊| 9051/9207 [00:33<00:00, 212.24it/s]"
     ]
    },
    {
     "name": "stdout",
     "output_type": "stream",
     "text": [
      "epoch: 0, result: {'Accuracy@10': 0.07133878064110623, 'Accuracy@30': 0.06670856903415043, 'Accuracy@50': 0.06402262727844123, 'Accuracy@100': 0.05899434318038969}\n"
     ]
    },
    {
     "name": "stderr",
     "output_type": "stream",
     "text": [
      "100%|██████████| 9207/9207 [00:34<00:00, 268.67it/s]\n"
     ]
    },
    {
     "name": "stdout",
     "output_type": "stream",
     "text": [
      "loss for train: 0.0064625632\n"
     ]
    },
    {
     "name": "stderr",
     "output_type": "stream",
     "text": [
      " 67%|██████▋   | 1165/1728 [00:01<00:00, 817.66it/s]"
     ]
    },
    {
     "name": "stdout",
     "output_type": "stream",
     "text": [
      "epoch: 0, result: {'Accuracy@10': 0.07542426147077311, 'Accuracy@30': 0.07083595223130107, 'Accuracy@50': 0.06676304211187932, 'Accuracy@100': 0.06164676304211188}\n"
     ]
    },
    {
     "name": "stderr",
     "output_type": "stream",
     "text": [
      "100%|██████████| 1728/1728 [00:01<00:00, 966.63it/s]\n"
     ]
    },
    {
     "name": "stdout",
     "output_type": "stream",
     "text": [
      "loss for valid: 0.0064237306\n",
      "saved model to model/user2vec-0.pt\n"
     ]
    },
    {
     "name": "stderr",
     "output_type": "stream",
     "text": [
      " 11%|█▏        | 1036/9207 [00:03<00:35, 232.09it/s]"
     ]
    },
    {
     "name": "stdout",
     "output_type": "stream",
     "text": [
      "epoch: 1, result: {'Accuracy@10': 0.09685732243871778, 'Accuracy@30': 0.08960821286402681, 'Accuracy@50': 0.0842740414833438, 'Accuracy@100': 0.07502199874292897}\n"
     ]
    },
    {
     "name": "stderr",
     "output_type": "stream",
     "text": [
      " 22%|██▏       | 2029/9207 [00:07<00:33, 212.65it/s]"
     ]
    },
    {
     "name": "stdout",
     "output_type": "stream",
     "text": [
      "epoch: 1, result: {'Accuracy@10': 0.11986172218730358, 'Accuracy@30': 0.11039178713597318, 'Accuracy@50': 0.1033060967944689, 'Accuracy@100': 0.09103079824010056}\n"
     ]
    },
    {
     "name": "stderr",
     "output_type": "stream",
     "text": [
      " 33%|███▎      | 3028/9207 [00:11<00:27, 221.81it/s]"
     ]
    },
    {
     "name": "stdout",
     "output_type": "stream",
     "text": [
      "epoch: 1, result: {'Accuracy@10': 0.13463230672532997, 'Accuracy@30': 0.1281793421328305, 'Accuracy@50': 0.1200879949717159, 'Accuracy@100': 0.106536769327467}\n"
     ]
    },
    {
     "name": "stderr",
     "output_type": "stream",
     "text": [
      " 44%|████▍     | 4037/9207 [00:14<00:23, 219.94it/s]"
     ]
    },
    {
     "name": "stdout",
     "output_type": "stream",
     "text": [
      "epoch: 1, result: {'Accuracy@10': 0.14883720930232558, 'Accuracy@30': 0.1418185627487953, 'Accuracy@50': 0.13448145820238844, 'Accuracy@100': 0.12059082338152105}\n"
     ]
    },
    {
     "name": "stderr",
     "output_type": "stream",
     "text": [
      " 55%|█████▍    | 5040/9207 [00:18<00:18, 227.01it/s]"
     ]
    },
    {
     "name": "stdout",
     "output_type": "stream",
     "text": [
      "epoch: 1, result: {'Accuracy@10': 0.15738529226901318, 'Accuracy@30': 0.15112088833019063, 'Accuracy@50': 0.14380892520427405, 'Accuracy@100': 0.13003771213073537}\n"
     ]
    },
    {
     "name": "stderr",
     "output_type": "stream",
     "text": [
      " 65%|██████▌   | 6028/9207 [00:22<00:14, 215.08it/s]"
     ]
    },
    {
     "name": "stdout",
     "output_type": "stream",
     "text": [
      "epoch: 1, result: {'Accuracy@10': 0.16429918290383408, 'Accuracy@30': 0.15709197569662686, 'Accuracy@50': 0.1498051539912005, 'Accuracy@100': 0.13650534255185418}\n"
     ]
    },
    {
     "name": "stderr",
     "output_type": "stream",
     "text": [
      " 77%|███████▋  | 7047/9207 [00:26<00:10, 214.08it/s]"
     ]
    },
    {
     "name": "stdout",
     "output_type": "stream",
     "text": [
      "epoch: 1, result: {'Accuracy@10': 0.16926461345065996, 'Accuracy@30': 0.16147077309868008, 'Accuracy@50': 0.15407919547454432, 'Accuracy@100': 0.14162162162162162}\n"
     ]
    },
    {
     "name": "stderr",
     "output_type": "stream",
     "text": [
      " 87%|████████▋ | 8041/9207 [00:30<00:05, 222.86it/s]"
     ]
    },
    {
     "name": "stdout",
     "output_type": "stream",
     "text": [
      "epoch: 1, result: {'Accuracy@10': 0.17605279698302953, 'Accuracy@30': 0.1661847894406034, 'Accuracy@50': 0.15873035826524198, 'Accuracy@100': 0.14561282212445004}\n"
     ]
    },
    {
     "name": "stderr",
     "output_type": "stream",
     "text": [
      " 98%|█████████▊| 9050/9207 [00:33<00:00, 214.65it/s]"
     ]
    },
    {
     "name": "stdout",
     "output_type": "stream",
     "text": [
      "epoch: 1, result: {'Accuracy@10': 0.18007542426147077, 'Accuracy@30': 0.17039597737272155, 'Accuracy@50': 0.16238843494657448, 'Accuracy@100': 0.14875549968573223}\n"
     ]
    },
    {
     "name": "stderr",
     "output_type": "stream",
     "text": [
      "100%|██████████| 9207/9207 [00:34<00:00, 266.22it/s]\n"
     ]
    },
    {
     "name": "stdout",
     "output_type": "stream",
     "text": [
      "loss for train: 0.0060192902\n"
     ]
    },
    {
     "name": "stderr",
     "output_type": "stream",
     "text": [
      " 67%|██████▋   | 1162/1728 [00:01<00:00, 853.61it/s]"
     ]
    },
    {
     "name": "stdout",
     "output_type": "stream",
     "text": [
      "epoch: 1, result: {'Accuracy@10': 0.18089252042740417, 'Accuracy@30': 0.17110831761994555, 'Accuracy@50': 0.16260213702074167, 'Accuracy@100': 0.14927718416090507}\n"
     ]
    },
    {
     "name": "stderr",
     "output_type": "stream",
     "text": [
      "100%|██████████| 1728/1728 [00:01<00:00, 985.97it/s] \n"
     ]
    },
    {
     "name": "stdout",
     "output_type": "stream",
     "text": [
      "loss for valid: 0.0059302679\n",
      "saved model to model/user2vec-1.pt\n"
     ]
    },
    {
     "name": "stderr",
     "output_type": "stream",
     "text": [
      " 11%|█         | 1035/9207 [00:03<00:39, 206.25it/s]"
     ]
    },
    {
     "name": "stdout",
     "output_type": "stream",
     "text": [
      "epoch: 2, result: {'Accuracy@10': 0.18661219358893777, 'Accuracy@30': 0.17454431175361407, 'Accuracy@50': 0.16587052168447516, 'Accuracy@100': 0.15137020741671903}\n"
     ]
    },
    {
     "name": "stderr",
     "output_type": "stream",
     "text": [
      " 22%|██▏       | 2042/9207 [00:07<00:32, 218.00it/s]"
     ]
    },
    {
     "name": "stdout",
     "output_type": "stream",
     "text": [
      "epoch: 2, result: {'Accuracy@10': 0.18680075424261472, 'Accuracy@30': 0.17772889168238004, 'Accuracy@50': 0.16877435575109995, 'Accuracy@100': 0.1538654934003771}\n"
     ]
    },
    {
     "name": "stderr",
     "output_type": "stream",
     "text": [
      " 33%|███▎      | 3025/9207 [00:11<00:30, 205.21it/s]"
     ]
    },
    {
     "name": "stdout",
     "output_type": "stream",
     "text": [
      "epoch: 2, result: {'Accuracy@10': 0.18812067881835323, 'Accuracy@30': 0.17969830295411693, 'Accuracy@50': 0.17148962916404778, 'Accuracy@100': 0.1556505342551854}\n"
     ]
    },
    {
     "name": "stderr",
     "output_type": "stream",
     "text": [
      " 44%|████▍     | 4043/9207 [00:15<00:23, 223.86it/s]"
     ]
    },
    {
     "name": "stdout",
     "output_type": "stream",
     "text": [
      "epoch: 2, result: {'Accuracy@10': 0.19126335637963546, 'Accuracy@30': 0.18208673790069138, 'Accuracy@50': 0.17410433689503457, 'Accuracy@100': 0.15736015084852295}\n"
     ]
    },
    {
     "name": "stderr",
     "output_type": "stream",
     "text": [
      " 55%|█████▍    | 5035/9207 [00:19<00:19, 219.55it/s]"
     ]
    },
    {
     "name": "stdout",
     "output_type": "stream",
     "text": [
      "epoch: 2, result: {'Accuracy@10': 0.1917661847894406, 'Accuracy@30': 0.1828828828828829, 'Accuracy@50': 0.17497171590194846, 'Accuracy@100': 0.15781898177247014}\n"
     ]
    },
    {
     "name": "stderr",
     "output_type": "stream",
     "text": [
      " 66%|██████▌   | 6050/9207 [00:23<00:14, 214.54it/s]"
     ]
    },
    {
     "name": "stdout",
     "output_type": "stream",
     "text": [
      "epoch: 2, result: {'Accuracy@10': 0.18994343180389692, 'Accuracy@30': 0.18271527341294783, 'Accuracy@50': 0.17588937774984287, 'Accuracy@100': 0.1581646763042112}\n"
     ]
    },
    {
     "name": "stderr",
     "output_type": "stream",
     "text": [
      " 76%|███████▋  | 7039/9207 [00:27<00:10, 209.83it/s]"
     ]
    },
    {
     "name": "stdout",
     "output_type": "stream",
     "text": [
      "epoch: 2, result: {'Accuracy@10': 0.18912633563796355, 'Accuracy@30': 0.18340666247642992, 'Accuracy@50': 0.1761282212445003, 'Accuracy@100': 0.15871778755499685}\n"
     ]
    },
    {
     "name": "stderr",
     "output_type": "stream",
     "text": [
      " 87%|████████▋ | 8048/9207 [00:31<00:05, 217.70it/s]"
     ]
    },
    {
     "name": "stdout",
     "output_type": "stream",
     "text": [
      "epoch: 2, result: {'Accuracy@10': 0.1880578252671276, 'Accuracy@30': 0.18386758851875132, 'Accuracy@50': 0.1759899434318039, 'Accuracy@100': 0.1589189189189189}\n"
     ]
    },
    {
     "name": "stderr",
     "output_type": "stream",
     "text": [
      " 98%|█████████▊| 9037/9207 [00:35<00:00, 207.36it/s]"
     ]
    },
    {
     "name": "stdout",
     "output_type": "stream",
     "text": [
      "epoch: 2, result: {'Accuracy@10': 0.1877435575109994, 'Accuracy@30': 0.18342761366017182, 'Accuracy@50': 0.17507228158390947, 'Accuracy@100': 0.15894406033940917}\n"
     ]
    },
    {
     "name": "stderr",
     "output_type": "stream",
     "text": [
      "100%|██████████| 9207/9207 [00:35<00:00, 257.35it/s]\n"
     ]
    },
    {
     "name": "stdout",
     "output_type": "stream",
     "text": [
      "loss for train: 0.0053609247\n"
     ]
    },
    {
     "name": "stderr",
     "output_type": "stream",
     "text": [
      " 67%|██████▋   | 1156/1728 [00:01<00:00, 844.21it/s]"
     ]
    },
    {
     "name": "stdout",
     "output_type": "stream",
     "text": [
      "epoch: 2, result: {'Accuracy@10': 0.1876178504085481, 'Accuracy@30': 0.182861931699141, 'Accuracy@50': 0.17495914519170333, 'Accuracy@100': 0.15898805782526712}\n"
     ]
    },
    {
     "name": "stderr",
     "output_type": "stream",
     "text": [
      "100%|██████████| 1728/1728 [00:01<00:00, 974.48it/s] \n"
     ]
    },
    {
     "name": "stdout",
     "output_type": "stream",
     "text": [
      "loss for valid: 0.0054648215\n",
      "saved model to model/user2vec-2.pt\n"
     ]
    },
    {
     "name": "stderr",
     "output_type": "stream",
     "text": [
      " 11%|█▏        | 1046/9207 [00:04<00:37, 217.75it/s]"
     ]
    },
    {
     "name": "stdout",
     "output_type": "stream",
     "text": [
      "epoch: 3, result: {'Accuracy@10': 0.18717787554996856, 'Accuracy@30': 0.18238005447307773, 'Accuracy@50': 0.17441860465116277, 'Accuracy@100': 0.1590823381521056}\n"
     ]
    },
    {
     "name": "stderr",
     "output_type": "stream",
     "text": [
      " 22%|██▏       | 2030/9207 [00:07<00:33, 216.07it/s]"
     ]
    },
    {
     "name": "stdout",
     "output_type": "stream",
     "text": [
      "epoch: 3, result: {'Accuracy@10': 0.18497800125707103, 'Accuracy@30': 0.18064110622250157, 'Accuracy@50': 0.17332495285983657, 'Accuracy@100': 0.15880578252671276}\n"
     ]
    },
    {
     "name": "stderr",
     "output_type": "stream",
     "text": [
      " 33%|███▎      | 3035/9207 [00:11<00:32, 189.36it/s]"
     ]
    },
    {
     "name": "stdout",
     "output_type": "stream",
     "text": [
      "epoch: 3, result: {'Accuracy@10': 0.18409805153991202, 'Accuracy@30': 0.17927927927927928, 'Accuracy@50': 0.17258328095537398, 'Accuracy@100': 0.1585355122564425}\n"
     ]
    },
    {
     "name": "stderr",
     "output_type": "stream",
     "text": [
      " 44%|████▍     | 4045/9207 [00:16<00:25, 203.49it/s]"
     ]
    },
    {
     "name": "stdout",
     "output_type": "stream",
     "text": [
      "epoch: 3, result: {'Accuracy@10': 0.18202388434946576, 'Accuracy@30': 0.17816886654095956, 'Accuracy@50': 0.1717661847894406, 'Accuracy@100': 0.15813324952859836}\n"
     ]
    },
    {
     "name": "stderr",
     "output_type": "stream",
     "text": [
      " 54%|█████▍    | 5013/9207 [00:20<00:24, 173.98it/s]"
     ]
    },
    {
     "name": "stdout",
     "output_type": "stream",
     "text": [
      "epoch: 3, result: {'Accuracy@10': 0.18177247014456316, 'Accuracy@30': 0.17636706473915778, 'Accuracy@50': 0.16978001257071024, 'Accuracy@100': 0.15707730986800755}\n"
     ]
    },
    {
     "name": "stderr",
     "output_type": "stream",
     "text": [
      " 66%|██████▌   | 6042/9207 [00:24<00:16, 187.44it/s]"
     ]
    },
    {
     "name": "stdout",
     "output_type": "stream",
     "text": [
      "epoch: 3, result: {'Accuracy@10': 0.1809553739786298, 'Accuracy@30': 0.17458621412109784, 'Accuracy@50': 0.16781898177247015, 'Accuracy@100': 0.15612822124450032}\n"
     ]
    },
    {
     "name": "stderr",
     "output_type": "stream",
     "text": [
      " 76%|███████▌  | 7015/9207 [00:29<00:12, 177.61it/s]"
     ]
    },
    {
     "name": "stdout",
     "output_type": "stream",
     "text": [
      "epoch: 3, result: {'Accuracy@10': 0.17774984286612194, 'Accuracy@30': 0.17307772889168238, 'Accuracy@50': 0.1664990571967316, 'Accuracy@100': 0.15539912005028284}\n"
     ]
    },
    {
     "name": "stderr",
     "output_type": "stream",
     "text": [
      " 87%|████████▋ | 8044/9207 [00:34<00:05, 218.18it/s]"
     ]
    },
    {
     "name": "stdout",
     "output_type": "stream",
     "text": [
      "epoch: 3, result: {'Accuracy@10': 0.17554996857322439, 'Accuracy@30': 0.169788393044207, 'Accuracy@50': 0.1651037083595223, 'Accuracy@100': 0.15402891263356377}\n"
     ]
    },
    {
     "name": "stderr",
     "output_type": "stream",
     "text": [
      " 98%|█████████▊| 9050/9207 [00:37<00:00, 230.13it/s]"
     ]
    },
    {
     "name": "stdout",
     "output_type": "stream",
     "text": [
      "epoch: 3, result: {'Accuracy@10': 0.17347580138277813, 'Accuracy@30': 0.1680913471611146, 'Accuracy@50': 0.16315524827152736, 'Accuracy@100': 0.1519924575738529}\n"
     ]
    },
    {
     "name": "stderr",
     "output_type": "stream",
     "text": [
      "100%|██████████| 9207/9207 [00:38<00:00, 239.80it/s]\n"
     ]
    },
    {
     "name": "stdout",
     "output_type": "stream",
     "text": [
      "loss for train: 0.0050056447\n"
     ]
    },
    {
     "name": "stderr",
     "output_type": "stream",
     "text": [
      " 67%|██████▋   | 1152/1728 [00:01<00:00, 852.96it/s]"
     ]
    },
    {
     "name": "stdout",
     "output_type": "stream",
     "text": [
      "epoch: 3, result: {'Accuracy@10': 0.17309868007542425, 'Accuracy@30': 0.16792373769117958, 'Accuracy@50': 0.16279069767441862, 'Accuracy@100': 0.15167190446260215}\n"
     ]
    },
    {
     "name": "stderr",
     "output_type": "stream",
     "text": [
      "100%|██████████| 1728/1728 [00:01<00:00, 973.69it/s]\n"
     ]
    },
    {
     "name": "stdout",
     "output_type": "stream",
     "text": [
      "loss for valid: 0.0051891197\n",
      "saved model to model/user2vec-3.pt\n"
     ]
    },
    {
     "name": "stderr",
     "output_type": "stream",
     "text": [
      " 11%|█▏        | 1046/9207 [00:03<00:34, 234.30it/s]"
     ]
    },
    {
     "name": "stdout",
     "output_type": "stream",
     "text": [
      "epoch: 4, result: {'Accuracy@10': 0.1721558768070396, 'Accuracy@30': 0.1658495705007333, 'Accuracy@50': 0.16150848522941547, 'Accuracy@100': 0.1505279698302954}\n"
     ]
    },
    {
     "name": "stderr",
     "output_type": "stream",
     "text": [
      " 22%|██▏       | 2035/9207 [00:07<00:31, 228.38it/s]"
     ]
    },
    {
     "name": "stdout",
     "output_type": "stream",
     "text": [
      "epoch: 4, result: {'Accuracy@10': 0.16939032055311126, 'Accuracy@30': 0.16411062225015713, 'Accuracy@50': 0.15968573224387178, 'Accuracy@100': 0.1494154619736015}\n"
     ]
    },
    {
     "name": "stderr",
     "output_type": "stream",
     "text": [
      " 33%|███▎      | 3025/9207 [00:11<00:30, 203.81it/s]"
     ]
    },
    {
     "name": "stdout",
     "output_type": "stream",
     "text": [
      "epoch: 4, result: {'Accuracy@10': 0.1666247642991829, 'Accuracy@30': 0.16205740624345275, 'Accuracy@50': 0.15818981772470145, 'Accuracy@100': 0.14813953488372092}\n"
     ]
    },
    {
     "name": "stderr",
     "output_type": "stream",
     "text": [
      " 44%|████▍     | 4053/9207 [00:15<00:23, 223.93it/s]"
     ]
    },
    {
     "name": "stdout",
     "output_type": "stream",
     "text": [
      "epoch: 4, result: {'Accuracy@10': 0.1639220615964802, 'Accuracy@30': 0.16063272574900483, 'Accuracy@50': 0.1565053425518542, 'Accuracy@100': 0.14717787554996856}\n"
     ]
    },
    {
     "name": "stderr",
     "output_type": "stream",
     "text": [
      " 55%|█████▍    | 5048/9207 [00:18<00:18, 223.65it/s]"
     ]
    },
    {
     "name": "stdout",
     "output_type": "stream",
     "text": [
      "epoch: 4, result: {'Accuracy@10': 0.16147077309868008, 'Accuracy@30': 0.15891472868217052, 'Accuracy@50': 0.15436832181018226, 'Accuracy@100': 0.1456882463859208}\n"
     ]
    },
    {
     "name": "stderr",
     "output_type": "stream",
     "text": [
      " 65%|██████▌   | 6027/9207 [00:22<00:15, 211.99it/s]"
     ]
    },
    {
     "name": "stdout",
     "output_type": "stream",
     "text": [
      "epoch: 4, result: {'Accuracy@10': 0.16140791954745443, 'Accuracy@30': 0.15715482924785248, 'Accuracy@50': 0.15229415461973603, 'Accuracy@100': 0.1440477686989315}\n"
     ]
    },
    {
     "name": "stderr",
     "output_type": "stream",
     "text": [
      " 77%|███████▋  | 7044/9207 [00:26<00:09, 220.45it/s]"
     ]
    },
    {
     "name": "stdout",
     "output_type": "stream",
     "text": [
      "epoch: 4, result: {'Accuracy@10': 0.16077938403519798, 'Accuracy@30': 0.1556044416509533, 'Accuracy@50': 0.15069767441860465, 'Accuracy@100': 0.14291011942174733}\n"
     ]
    },
    {
     "name": "stderr",
     "output_type": "stream",
     "text": [
      " 87%|████████▋ | 8041/9207 [00:29<00:05, 221.53it/s]"
     ]
    },
    {
     "name": "stdout",
     "output_type": "stream",
     "text": [
      "epoch: 4, result: {'Accuracy@10': 0.15751099937146448, 'Accuracy@30': 0.1530902996019275, 'Accuracy@50': 0.1485355122564425, 'Accuracy@100': 0.14124450031426775}\n"
     ]
    },
    {
     "name": "stderr",
     "output_type": "stream",
     "text": [
      " 98%|█████████▊| 9053/9207 [00:33<00:00, 233.93it/s]"
     ]
    },
    {
     "name": "stdout",
     "output_type": "stream",
     "text": [
      "epoch: 4, result: {'Accuracy@10': 0.1549968573224387, 'Accuracy@30': 0.1510999371464488, 'Accuracy@50': 0.14668761785040854, 'Accuracy@100': 0.13958516656191075}\n"
     ]
    },
    {
     "name": "stderr",
     "output_type": "stream",
     "text": [
      "100%|██████████| 9207/9207 [00:34<00:00, 268.39it/s]\n"
     ]
    },
    {
     "name": "stdout",
     "output_type": "stream",
     "text": [
      "loss for train: 0.0048322258\n"
     ]
    },
    {
     "name": "stderr",
     "output_type": "stream",
     "text": [
      " 67%|██████▋   | 1151/1728 [00:01<00:00, 861.10it/s]"
     ]
    },
    {
     "name": "stdout",
     "output_type": "stream",
     "text": [
      "epoch: 4, result: {'Accuracy@10': 0.15556253928346953, 'Accuracy@30': 0.15055520636915984, 'Accuracy@50': 0.14617221873035827, 'Accuracy@100': 0.13908862350722814}\n"
     ]
    },
    {
     "name": "stderr",
     "output_type": "stream",
     "text": [
      "100%|██████████| 1728/1728 [00:01<00:00, 965.43it/s]\n"
     ]
    },
    {
     "name": "stdout",
     "output_type": "stream",
     "text": [
      "loss for valid: 0.0050222683\n",
      "saved model to model/user2vec-4.pt\n"
     ]
    },
    {
     "name": "stderr",
     "output_type": "stream",
     "text": [
      " 11%|█▏        | 1040/9207 [00:03<00:36, 225.75it/s]"
     ]
    },
    {
     "name": "stdout",
     "output_type": "stream",
     "text": [
      "epoch: 5, result: {'Accuracy@10': 0.15160276555625393, 'Accuracy@30': 0.14883720930232558, 'Accuracy@50': 0.14472658705216845, 'Accuracy@100': 0.13790697674418603}\n"
     ]
    },
    {
     "name": "stderr",
     "output_type": "stream",
     "text": [
      " 22%|██▏       | 2053/9207 [00:07<00:30, 231.70it/s]"
     ]
    },
    {
     "name": "stdout",
     "output_type": "stream",
     "text": [
      "epoch: 5, result: {'Accuracy@10': 0.1509742300439975, 'Accuracy@30': 0.14686779803058872, 'Accuracy@50': 0.14320553111250786, 'Accuracy@100': 0.13641106222501573}\n"
     ]
    },
    {
     "name": "stderr",
     "output_type": "stream",
     "text": [
      " 33%|███▎      | 3047/9207 [00:11<00:28, 213.94it/s]"
     ]
    },
    {
     "name": "stdout",
     "output_type": "stream",
     "text": [
      "epoch: 5, result: {'Accuracy@10': 0.14883720930232558, 'Accuracy@30': 0.14584119002723653, 'Accuracy@50': 0.14172218730358266, 'Accuracy@100': 0.1350911376492772}\n"
     ]
    },
    {
     "name": "stderr",
     "output_type": "stream",
     "text": [
      " 44%|████▍     | 4051/9207 [00:15<00:24, 214.07it/s]"
     ]
    },
    {
     "name": "stdout",
     "output_type": "stream",
     "text": [
      "epoch: 5, result: {'Accuracy@10': 0.14506599622878694, 'Accuracy@30': 0.1442069976953698, 'Accuracy@50': 0.14076681332495286, 'Accuracy@100': 0.1339032055311125}\n"
     ]
    },
    {
     "name": "stderr",
     "output_type": "stream",
     "text": [
      " 55%|█████▍    | 5033/9207 [00:18<00:18, 229.12it/s]"
     ]
    },
    {
     "name": "stdout",
     "output_type": "stream",
     "text": [
      "epoch: 5, result: {'Accuracy@10': 0.14204902576995598, 'Accuracy@30': 0.14232139115860046, 'Accuracy@50': 0.13906976744186048, 'Accuracy@100': 0.13228158390949088}\n"
     ]
    },
    {
     "name": "stderr",
     "output_type": "stream",
     "text": [
      " 66%|██████▌   | 6031/9207 [00:22<00:14, 221.24it/s]"
     ]
    },
    {
     "name": "stdout",
     "output_type": "stream",
     "text": [
      "epoch: 5, result: {'Accuracy@10': 0.13953488372093023, 'Accuracy@30': 0.1407081500104756, 'Accuracy@50': 0.1372972972972973, 'Accuracy@100': 0.13077309868007542}\n"
     ]
    },
    {
     "name": "stderr",
     "output_type": "stream",
     "text": [
      " 76%|███████▋  | 7039/9207 [00:26<00:09, 231.25it/s]"
     ]
    },
    {
     "name": "stdout",
     "output_type": "stream",
     "text": [
      "epoch: 5, result: {'Accuracy@10': 0.13796354494028912, 'Accuracy@30': 0.14026817515189607, 'Accuracy@50': 0.13645505971087368, 'Accuracy@100': 0.1296983029541169}\n"
     ]
    },
    {
     "name": "stderr",
     "output_type": "stream",
     "text": [
      " 87%|████████▋ | 8040/9207 [00:30<00:05, 219.13it/s]"
     ]
    },
    {
     "name": "stdout",
     "output_type": "stream",
     "text": [
      "epoch: 5, result: {'Accuracy@10': 0.13695788812067883, 'Accuracy@30': 0.13758642363293525, 'Accuracy@50': 0.13541169076052798, 'Accuracy@100': 0.1282149591451917}\n"
     ]
    },
    {
     "name": "stderr",
     "output_type": "stream",
     "text": [
      " 98%|█████████▊| 9045/9207 [00:33<00:00, 220.96it/s]"
     ]
    },
    {
     "name": "stdout",
     "output_type": "stream",
     "text": [
      "epoch: 5, result: {'Accuracy@10': 0.13199245757385292, 'Accuracy@30': 0.13574271946364969, 'Accuracy@50': 0.1338152105593966, 'Accuracy@100': 0.1267693274670019}\n"
     ]
    },
    {
     "name": "stderr",
     "output_type": "stream",
     "text": [
      "100%|██████████| 9207/9207 [00:34<00:00, 267.71it/s]\n"
     ]
    },
    {
     "name": "stdout",
     "output_type": "stream",
     "text": [
      "loss for train: 0.0047377242\n"
     ]
    },
    {
     "name": "stderr",
     "output_type": "stream",
     "text": [
      " 67%|██████▋   | 1160/1728 [00:01<00:00, 835.53it/s]"
     ]
    },
    {
     "name": "stdout",
     "output_type": "stream",
     "text": [
      "epoch: 5, result: {'Accuracy@10': 0.13312382149591453, 'Accuracy@30': 0.13542845170752146, 'Accuracy@50': 0.13350094280326838, 'Accuracy@100': 0.1265870521684475}\n"
     ]
    },
    {
     "name": "stderr",
     "output_type": "stream",
     "text": [
      "100%|██████████| 1728/1728 [00:01<00:00, 981.13it/s] \n"
     ]
    },
    {
     "name": "stdout",
     "output_type": "stream",
     "text": [
      "loss for valid: 0.0049157698\n",
      "saved model to model/user2vec-5.pt\n"
     ]
    },
    {
     "name": "stderr",
     "output_type": "stream",
     "text": [
      " 11%|█▏        | 1046/9207 [00:04<00:38, 210.27it/s]"
     ]
    },
    {
     "name": "stdout",
     "output_type": "stream",
     "text": [
      "epoch: 6, result: {'Accuracy@10': 0.13060967944688875, 'Accuracy@30': 0.13442279488791117, 'Accuracy@50': 0.13209302325581396, 'Accuracy@100': 0.12570081709616593}\n"
     ]
    },
    {
     "name": "stderr",
     "output_type": "stream",
     "text": [
      " 22%|██▏       | 2036/9207 [00:07<00:31, 227.98it/s]"
     ]
    },
    {
     "name": "stdout",
     "output_type": "stream",
     "text": [
      "epoch: 6, result: {'Accuracy@10': 0.13004399748585796, 'Accuracy@30': 0.13352189398701025, 'Accuracy@50': 0.13091137649277185, 'Accuracy@100': 0.12443746071653049}\n"
     ]
    },
    {
     "name": "stderr",
     "output_type": "stream",
     "text": [
      " 33%|███▎      | 3050/9207 [00:11<00:27, 227.28it/s]"
     ]
    },
    {
     "name": "stdout",
     "output_type": "stream",
     "text": [
      "epoch: 6, result: {'Accuracy@10': 0.1279698302954117, 'Accuracy@30': 0.1327047978210769, 'Accuracy@50': 0.12986800754242614, 'Accuracy@100': 0.12367064739157761}\n"
     ]
    },
    {
     "name": "stderr",
     "output_type": "stream",
     "text": [
      " 44%|████▍     | 4058/9207 [00:15<00:21, 234.70it/s]"
     ]
    },
    {
     "name": "stdout",
     "output_type": "stream",
     "text": [
      "epoch: 6, result: {'Accuracy@10': 0.12614707730986802, 'Accuracy@30': 0.13048397234443745, 'Accuracy@50': 0.12869893148962916, 'Accuracy@100': 0.1224890006285355}\n"
     ]
    },
    {
     "name": "stderr",
     "output_type": "stream",
     "text": [
      " 55%|█████▍    | 5044/9207 [00:18<00:18, 229.08it/s]"
     ]
    },
    {
     "name": "stdout",
     "output_type": "stream",
     "text": [
      "epoch: 6, result: {'Accuracy@10': 0.12495285983658078, 'Accuracy@30': 0.1287659752776032, 'Accuracy@50': 0.1273664362036455, 'Accuracy@100': 0.12129478315524826}\n"
     ]
    },
    {
     "name": "stderr",
     "output_type": "stream",
     "text": [
      " 66%|██████▌   | 6046/9207 [00:22<00:14, 217.75it/s]"
     ]
    },
    {
     "name": "stdout",
     "output_type": "stream",
     "text": [
      "epoch: 6, result: {'Accuracy@10': 0.12300439974858579, 'Accuracy@30': 0.12690131992457573, 'Accuracy@50': 0.12595851665619107, 'Accuracy@100': 0.1198931489629164}\n"
     ]
    },
    {
     "name": "stderr",
     "output_type": "stream",
     "text": [
      " 76%|███████▋  | 7037/9207 [00:26<00:09, 230.15it/s]"
     ]
    },
    {
     "name": "stdout",
     "output_type": "stream",
     "text": [
      "epoch: 6, result: {'Accuracy@10': 0.12294154619736015, 'Accuracy@30': 0.12587471192122354, 'Accuracy@50': 0.12463859208045255, 'Accuracy@100': 0.11918918918918919}\n"
     ]
    },
    {
     "name": "stderr",
     "output_type": "stream",
     "text": [
      " 87%|████████▋ | 8042/9207 [00:30<00:05, 224.02it/s]"
     ]
    },
    {
     "name": "stdout",
     "output_type": "stream",
     "text": [
      "epoch: 6, result: {'Accuracy@10': 0.12105593966059083, 'Accuracy@30': 0.12459668971296879, 'Accuracy@50': 0.12330609679446888, 'Accuracy@100': 0.11815210559396606}\n"
     ]
    },
    {
     "name": "stderr",
     "output_type": "stream",
     "text": [
      " 98%|█████████▊| 9031/9207 [00:33<00:00, 211.67it/s]"
     ]
    },
    {
     "name": "stdout",
     "output_type": "stream",
     "text": [
      "epoch: 6, result: {'Accuracy@10': 0.1184789440603394, 'Accuracy@30': 0.12344437460716531, 'Accuracy@50': 0.1221747328724073, 'Accuracy@100': 0.11635449402891263}\n"
     ]
    },
    {
     "name": "stderr",
     "output_type": "stream",
     "text": [
      "100%|██████████| 9207/9207 [00:34<00:00, 268.02it/s]\n"
     ]
    },
    {
     "name": "stdout",
     "output_type": "stream",
     "text": [
      "loss for train: 0.0046818297\n"
     ]
    },
    {
     "name": "stderr",
     "output_type": "stream",
     "text": [
      " 67%|██████▋   | 1162/1728 [00:01<00:00, 862.76it/s]"
     ]
    },
    {
     "name": "stdout",
     "output_type": "stream",
     "text": [
      "epoch: 6, result: {'Accuracy@10': 0.1181646763042112, 'Accuracy@30': 0.12338152105593966, 'Accuracy@50': 0.12202388434946573, 'Accuracy@100': 0.11610936517913262}\n"
     ]
    },
    {
     "name": "stderr",
     "output_type": "stream",
     "text": [
      "100%|██████████| 1728/1728 [00:01<00:00, 986.69it/s] \n"
     ]
    },
    {
     "name": "stdout",
     "output_type": "stream",
     "text": [
      "loss for valid: 0.0048453819\n",
      "saved model to model/user2vec-6.pt\n"
     ]
    },
    {
     "name": "stderr",
     "output_type": "stream",
     "text": [
      " 11%|█         | 1032/9207 [00:03<00:35, 230.30it/s]"
     ]
    },
    {
     "name": "stdout",
     "output_type": "stream",
     "text": [
      "epoch: 7, result: {'Accuracy@10': 0.11772470144563167, 'Accuracy@30': 0.12325581395348836, 'Accuracy@50': 0.12089252042740414, 'Accuracy@100': 0.11532369578881208}\n"
     ]
    },
    {
     "name": "stderr",
     "output_type": "stream",
     "text": [
      " 22%|██▏       | 2040/9207 [00:07<00:31, 228.75it/s]"
     ]
    },
    {
     "name": "stdout",
     "output_type": "stream",
     "text": [
      "epoch: 7, result: {'Accuracy@10': 0.11565053425518541, 'Accuracy@30': 0.12157971925413787, 'Accuracy@50': 0.11942174732872407, 'Accuracy@100': 0.11407291011942174}\n"
     ]
    },
    {
     "name": "stderr",
     "output_type": "stream",
     "text": [
      " 33%|███▎      | 3047/9207 [00:11<00:28, 218.01it/s]"
     ]
    },
    {
     "name": "stdout",
     "output_type": "stream",
     "text": [
      "epoch: 7, result: {'Accuracy@10': 0.1170333123821496, 'Accuracy@30': 0.11992457573852923, 'Accuracy@50': 0.11861722187303583, 'Accuracy@100': 0.11348837209302326}\n"
     ]
    },
    {
     "name": "stderr",
     "output_type": "stream",
     "text": [
      " 44%|████▍     | 4055/9207 [00:15<00:22, 227.46it/s]"
     ]
    },
    {
     "name": "stdout",
     "output_type": "stream",
     "text": [
      "epoch: 7, result: {'Accuracy@10': 0.11275927089880577, 'Accuracy@30': 0.11841609050911377, 'Accuracy@50': 0.11769956002514143, 'Accuracy@100': 0.11201131363922062}\n"
     ]
    },
    {
     "name": "stderr",
     "output_type": "stream",
     "text": [
      " 55%|█████▍    | 5032/9207 [00:18<00:19, 218.64it/s]"
     ]
    },
    {
     "name": "stdout",
     "output_type": "stream",
     "text": [
      "epoch: 7, result: {'Accuracy@10': 0.11200502828409804, 'Accuracy@30': 0.11669809344227948, 'Accuracy@50': 0.11645505971087367, 'Accuracy@100': 0.1112005028284098}\n"
     ]
    },
    {
     "name": "stderr",
     "output_type": "stream",
     "text": [
      " 66%|██████▌   | 6039/9207 [00:22<00:14, 225.25it/s]"
     ]
    },
    {
     "name": "stdout",
     "output_type": "stream",
     "text": [
      "epoch: 7, result: {'Accuracy@10': 0.10967944688874923, 'Accuracy@30': 0.11514770584538027, 'Accuracy@50': 0.11566310496543056, 'Accuracy@100': 0.11002514142049026}\n"
     ]
    },
    {
     "name": "stderr",
     "output_type": "stream",
     "text": [
      " 77%|███████▋  | 7047/9207 [00:26<00:09, 219.21it/s]"
     ]
    },
    {
     "name": "stdout",
     "output_type": "stream",
     "text": [
      "epoch: 7, result: {'Accuracy@10': 0.10886235072281585, 'Accuracy@30': 0.11412109784202808, 'Accuracy@50': 0.11469516027655562, 'Accuracy@100': 0.10959773727215588}\n"
     ]
    },
    {
     "name": "stderr",
     "output_type": "stream",
     "text": [
      " 87%|████████▋ | 8048/9207 [00:30<00:05, 226.38it/s]"
     ]
    },
    {
     "name": "stdout",
     "output_type": "stream",
     "text": [
      "epoch: 7, result: {'Accuracy@10': 0.10823381521055939, 'Accuracy@30': 0.11328305049235282, 'Accuracy@50': 0.1131992457573853, 'Accuracy@100': 0.10878692646134507}\n"
     ]
    },
    {
     "name": "stderr",
     "output_type": "stream",
     "text": [
      " 98%|█████████▊| 9031/9207 [00:33<00:00, 223.19it/s]"
     ]
    },
    {
     "name": "stdout",
     "output_type": "stream",
     "text": [
      "epoch: 7, result: {'Accuracy@10': 0.10829666876178504, 'Accuracy@30': 0.11223549130525876, 'Accuracy@50': 0.11174104336895034, 'Accuracy@100': 0.10758642363293527}\n"
     ]
    },
    {
     "name": "stderr",
     "output_type": "stream",
     "text": [
      "100%|██████████| 9207/9207 [00:34<00:00, 267.38it/s]\n"
     ]
    },
    {
     "name": "stdout",
     "output_type": "stream",
     "text": [
      "loss for train: 0.0046458454\n"
     ]
    },
    {
     "name": "stderr",
     "output_type": "stream",
     "text": [
      " 67%|██████▋   | 1156/1728 [00:01<00:00, 856.38it/s]"
     ]
    },
    {
     "name": "stdout",
     "output_type": "stream",
     "text": [
      "epoch: 7, result: {'Accuracy@10': 0.10773098680075424, 'Accuracy@30': 0.11244500314267757, 'Accuracy@50': 0.11175361407919547, 'Accuracy@100': 0.10745443117536141}\n"
     ]
    },
    {
     "name": "stderr",
     "output_type": "stream",
     "text": [
      "100%|██████████| 1728/1728 [00:01<00:00, 981.58it/s] \n"
     ]
    },
    {
     "name": "stdout",
     "output_type": "stream",
     "text": [
      "loss for valid: 0.0047966447\n",
      "saved model to model/user2vec-7.pt\n"
     ]
    },
    {
     "name": "stderr",
     "output_type": "stream",
     "text": [
      " 11%|█▏        | 1036/9207 [00:03<00:36, 222.67it/s]"
     ]
    },
    {
     "name": "stdout",
     "output_type": "stream",
     "text": [
      "epoch: 8, result: {'Accuracy@10': 0.10842237586423634, 'Accuracy@30': 0.11108317619945528, 'Accuracy@50': 0.11092394720301697, 'Accuracy@100': 0.10654934003771213}\n"
     ]
    },
    {
     "name": "stderr",
     "output_type": "stream",
     "text": [
      " 22%|██▏       | 2041/9207 [00:07<00:32, 218.32it/s]"
     ]
    },
    {
     "name": "stdout",
     "output_type": "stream",
     "text": [
      "epoch: 8, result: {'Accuracy@10': 0.1064110622250157, 'Accuracy@30': 0.11007751937984496, 'Accuracy@50': 0.1098051539912005, 'Accuracy@100': 0.10582652419861721}\n"
     ]
    },
    {
     "name": "stderr",
     "output_type": "stream",
     "text": [
      " 33%|███▎      | 3027/9207 [00:11<00:28, 219.67it/s]"
     ]
    },
    {
     "name": "stdout",
     "output_type": "stream",
     "text": [
      "epoch: 8, result: {'Accuracy@10': 0.10666247642991829, 'Accuracy@30': 0.11005656819610307, 'Accuracy@50': 0.10906348208673791, 'Accuracy@100': 0.10552482715273413}\n"
     ]
    },
    {
     "name": "stderr",
     "output_type": "stream",
     "text": [
      " 44%|████▍     | 4030/9207 [00:15<00:23, 217.08it/s]"
     ]
    },
    {
     "name": "stdout",
     "output_type": "stream",
     "text": [
      "epoch: 8, result: {'Accuracy@10': 0.10238843494657449, 'Accuracy@30': 0.10911376492771842, 'Accuracy@50': 0.1073664362036455, 'Accuracy@100': 0.10462602137020742}\n"
     ]
    },
    {
     "name": "stderr",
     "output_type": "stream",
     "text": [
      " 55%|█████▍    | 5040/9207 [00:18<00:18, 226.13it/s]"
     ]
    },
    {
     "name": "stdout",
     "output_type": "stream",
     "text": [
      "epoch: 8, result: {'Accuracy@10': 0.10289126335637963, 'Accuracy@30': 0.107772889168238, 'Accuracy@50': 0.10614707730986801, 'Accuracy@100': 0.10358265241986173}\n"
     ]
    },
    {
     "name": "stderr",
     "output_type": "stream",
     "text": [
      " 65%|██████▌   | 6028/9207 [00:22<00:15, 209.46it/s]"
     ]
    },
    {
     "name": "stdout",
     "output_type": "stream",
     "text": [
      "epoch: 8, result: {'Accuracy@10': 0.10087994971715901, 'Accuracy@30': 0.10607584328514562, 'Accuracy@50': 0.1053174104336895, 'Accuracy@100': 0.10247642991829037}\n"
     ]
    },
    {
     "name": "stderr",
     "output_type": "stream",
     "text": [
      " 76%|███████▋  | 7040/9207 [00:26<00:09, 226.31it/s]"
     ]
    },
    {
     "name": "stdout",
     "output_type": "stream",
     "text": [
      "epoch: 8, result: {'Accuracy@10': 0.1, 'Accuracy@30': 0.1043997485857951, 'Accuracy@50': 0.10407291011942174, 'Accuracy@100': 0.10184160905091139}\n"
     ]
    },
    {
     "name": "stderr",
     "output_type": "stream",
     "text": [
      " 87%|████████▋ | 8028/9207 [00:29<00:05, 212.55it/s]"
     ]
    },
    {
     "name": "stdout",
     "output_type": "stream",
     "text": [
      "epoch: 8, result: {'Accuracy@10': 0.0998742928975487, 'Accuracy@30': 0.1028074586214121, 'Accuracy@50': 0.10417347580138278, 'Accuracy@100': 0.1013073538654934}\n"
     ]
    },
    {
     "name": "stderr",
     "output_type": "stream",
     "text": [
      " 98%|█████████▊| 9040/9207 [00:33<00:00, 226.15it/s]"
     ]
    },
    {
     "name": "stdout",
     "output_type": "stream",
     "text": [
      "epoch: 8, result: {'Accuracy@10': 0.09761156505342553, 'Accuracy@30': 0.10230463021160695, 'Accuracy@50': 0.10256442489000628, 'Accuracy@100': 0.10002514142049027}\n"
     ]
    },
    {
     "name": "stderr",
     "output_type": "stream",
     "text": [
      "100%|██████████| 9207/9207 [00:34<00:00, 268.56it/s]\n"
     ]
    },
    {
     "name": "stdout",
     "output_type": "stream",
     "text": [
      "loss for train: 0.0046221225\n"
     ]
    },
    {
     "name": "stderr",
     "output_type": "stream",
     "text": [
      " 68%|██████▊   | 1169/1728 [00:01<00:00, 849.33it/s]"
     ]
    },
    {
     "name": "stdout",
     "output_type": "stream",
     "text": [
      "epoch: 8, result: {'Accuracy@10': 0.09761156505342553, 'Accuracy@30': 0.10234653257909071, 'Accuracy@50': 0.10238843494657449, 'Accuracy@100': 0.09971087366436203}\n"
     ]
    },
    {
     "name": "stderr",
     "output_type": "stream",
     "text": [
      "100%|██████████| 1728/1728 [00:01<00:00, 988.59it/s] \n"
     ]
    },
    {
     "name": "stdout",
     "output_type": "stream",
     "text": [
      "loss for valid: 0.0047621955\n",
      "saved model to model/user2vec-8.pt\n"
     ]
    },
    {
     "name": "stderr",
     "output_type": "stream",
     "text": [
      " 11%|█         | 1033/9207 [00:03<00:35, 228.76it/s]"
     ]
    },
    {
     "name": "stdout",
     "output_type": "stream",
     "text": [
      "epoch: 9, result: {'Accuracy@10': 0.09736015084852294, 'Accuracy@30': 0.10138277812696418, 'Accuracy@50': 0.10158390949088623, 'Accuracy@100': 0.09919547454431175}\n"
     ]
    },
    {
     "name": "stderr",
     "output_type": "stream",
     "text": [
      " 22%|██▏       | 2026/9207 [00:07<00:34, 205.78it/s]"
     ]
    },
    {
     "name": "stdout",
     "output_type": "stream",
     "text": [
      "epoch: 9, result: {'Accuracy@10': 0.09566310496543054, 'Accuracy@30': 0.10150848522941547, 'Accuracy@50': 0.1004776869893149, 'Accuracy@100': 0.09838466373350094}\n"
     ]
    },
    {
     "name": "stderr",
     "output_type": "stream",
     "text": [
      " 33%|███▎      | 3034/9207 [00:11<00:32, 192.77it/s]"
     ]
    },
    {
     "name": "stdout",
     "output_type": "stream",
     "text": [
      "epoch: 9, result: {'Accuracy@10': 0.0956002514142049, 'Accuracy@30': 0.10090090090090091, 'Accuracy@50': 0.0999120050282841, 'Accuracy@100': 0.09773098680075425}\n"
     ]
    },
    {
     "name": "stderr",
     "output_type": "stream",
     "text": [
      " 44%|████▍     | 4034/9207 [00:15<00:29, 176.32it/s]"
     ]
    },
    {
     "name": "stdout",
     "output_type": "stream",
     "text": [
      "epoch: 9, result: {'Accuracy@10': 0.0945945945945946, 'Accuracy@30': 0.09886863607793842, 'Accuracy@50': 0.09912005028284097, 'Accuracy@100': 0.09688874921433062}\n"
     ]
    },
    {
     "name": "stderr",
     "output_type": "stream",
     "text": [
      " 55%|█████▍    | 5021/9207 [00:20<00:24, 171.09it/s]"
     ]
    },
    {
     "name": "stdout",
     "output_type": "stream",
     "text": [
      "epoch: 9, result: {'Accuracy@10': 0.09296040226272785, 'Accuracy@30': 0.09725539492981354, 'Accuracy@50': 0.09796354494028912, 'Accuracy@100': 0.09597737272155876}\n"
     ]
    },
    {
     "name": "stderr",
     "output_type": "stream",
     "text": [
      " 66%|██████▌   | 6033/9207 [00:24<00:13, 233.35it/s]"
     ]
    },
    {
     "name": "stdout",
     "output_type": "stream",
     "text": [
      "epoch: 9, result: {'Accuracy@10': 0.09302325581395349, 'Accuracy@30': 0.09599832390530065, 'Accuracy@50': 0.09693274670018855, 'Accuracy@100': 0.09513513513513513}\n"
     ]
    },
    {
     "name": "stderr",
     "output_type": "stream",
     "text": [
      " 76%|███████▋  | 7038/9207 [00:28<00:10, 215.96it/s]"
     ]
    },
    {
     "name": "stdout",
     "output_type": "stream",
     "text": [
      "epoch: 9, result: {'Accuracy@10': 0.09145191703331237, 'Accuracy@30': 0.09528598365807668, 'Accuracy@50': 0.09632935260842239, 'Accuracy@100': 0.0945757385292269}\n"
     ]
    },
    {
     "name": "stderr",
     "output_type": "stream",
     "text": [
      " 87%|████████▋ | 8044/9207 [00:31<00:05, 226.05it/s]"
     ]
    },
    {
     "name": "stdout",
     "output_type": "stream",
     "text": [
      "epoch: 9, result: {'Accuracy@10': 0.08975487115021999, 'Accuracy@30': 0.09384035197988687, 'Accuracy@50': 0.09556253928346951, 'Accuracy@100': 0.09410433689503456}\n"
     ]
    },
    {
     "name": "stderr",
     "output_type": "stream",
     "text": [
      " 98%|█████████▊| 9035/9207 [00:35<00:00, 221.95it/s]"
     ]
    },
    {
     "name": "stdout",
     "output_type": "stream",
     "text": [
      "epoch: 9, result: {'Accuracy@10': 0.08975487115021999, 'Accuracy@30': 0.09365179132620992, 'Accuracy@50': 0.09425518541797612, 'Accuracy@100': 0.09311125078566938}\n"
     ]
    },
    {
     "name": "stderr",
     "output_type": "stream",
     "text": [
      "100%|██████████| 9207/9207 [00:36<00:00, 254.39it/s]\n"
     ]
    },
    {
     "name": "stdout",
     "output_type": "stream",
     "text": [
      "loss for train: 0.0046050096\n"
     ]
    },
    {
     "name": "stderr",
     "output_type": "stream",
     "text": [
      " 67%|██████▋   | 1157/1728 [00:01<00:00, 867.36it/s]"
     ]
    },
    {
     "name": "stdout",
     "output_type": "stream",
     "text": [
      "epoch: 9, result: {'Accuracy@10': 0.0891891891891892, 'Accuracy@30': 0.09384035197988687, 'Accuracy@50': 0.09384035197988685, 'Accuracy@100': 0.0928786926461345}\n"
     ]
    },
    {
     "name": "stderr",
     "output_type": "stream",
     "text": [
      "100%|██████████| 1728/1728 [00:01<00:00, 988.01it/s] \n"
     ]
    },
    {
     "name": "stdout",
     "output_type": "stream",
     "text": [
      "loss for valid: 0.0047363648\n",
      "saved model to model/user2vec-9.pt\n",
      "ModelConfig(d_model=32, init_embedding_std=0.2, max_embedding_norm=1, window_size=5, negative_sample_size=5, use_weight_tying=True, use_meta=True, use_attention=True)\n",
      "TrainerConfig(model_name='user2vec', dataset_name='movielens', epochs=10, batch_size=64, lr=0.0001, weight_decay=0, verbose=False, model_dir='model', save_model=True, device='cpu')\n",
      "num_seq: 6040, num_item: 3706, num_item_meta: 28, num_seq_meta: 30, num_item_meta_types: 3, num_seq_meta_types: 3\n",
      "train: 589192 valid: 110547\n"
     ]
    },
    {
     "name": "stderr",
     "output_type": "stream",
     "text": [
      " 11%|█▏        | 1042/9207 [00:04<00:42, 189.99it/s]"
     ]
    },
    {
     "name": "stdout",
     "output_type": "stream",
     "text": [
      "epoch: 0, result: {'Accuracy@10': 0.02866121935889378, 'Accuracy@30': 0.030504923528179344, 'Accuracy@50': 0.03060967944688875, 'Accuracy@100': 0.031143934632306726}\n"
     ]
    },
    {
     "name": "stderr",
     "output_type": "stream",
     "text": [
      " 22%|██▏       | 2032/9207 [00:08<00:37, 192.16it/s]"
     ]
    },
    {
     "name": "stdout",
     "output_type": "stream",
     "text": [
      "epoch: 0, result: {'Accuracy@10': 0.029666876178504088, 'Accuracy@30': 0.031636287450240934, 'Accuracy@50': 0.03068510370835952, 'Accuracy@100': 0.0321370207416719}\n"
     ]
    },
    {
     "name": "stderr",
     "output_type": "stream",
     "text": [
      " 33%|███▎      | 3046/9207 [00:13<00:32, 191.84it/s]"
     ]
    },
    {
     "name": "stdout",
     "output_type": "stream",
     "text": [
      "epoch: 0, result: {'Accuracy@10': 0.03280955373978629, 'Accuracy@30': 0.03306096794468887, 'Accuracy@50': 0.03267127592708988, 'Accuracy@100': 0.03406033940917662}\n"
     ]
    },
    {
     "name": "stderr",
     "output_type": "stream",
     "text": [
      " 44%|████▍     | 4034/9207 [00:17<00:29, 178.13it/s]"
     ]
    },
    {
     "name": "stdout",
     "output_type": "stream",
     "text": [
      "epoch: 0, result: {'Accuracy@10': 0.03739786297925833, 'Accuracy@30': 0.036706473915776236, 'Accuracy@50': 0.03757385292269013, 'Accuracy@100': 0.0374732872407291}\n"
     ]
    },
    {
     "name": "stderr",
     "output_type": "stream",
     "text": [
      " 55%|█████▍    | 5040/9207 [00:22<00:21, 190.35it/s]"
     ]
    },
    {
     "name": "stdout",
     "output_type": "stream",
     "text": [
      "epoch: 0, result: {'Accuracy@10': 0.045380263984915147, 'Accuracy@30': 0.04496124031007752, 'Accuracy@50': 0.04467630421118793, 'Accuracy@100': 0.043708359522313014}\n"
     ]
    },
    {
     "name": "stderr",
     "output_type": "stream",
     "text": [
      " 66%|██████▌   | 6033/9207 [00:26<00:16, 192.31it/s]"
     ]
    },
    {
     "name": "stdout",
     "output_type": "stream",
     "text": [
      "epoch: 0, result: {'Accuracy@10': 0.05832809553739786, 'Accuracy@30': 0.05744814582023884, 'Accuracy@50': 0.05573852922690132, 'Accuracy@100': 0.05356379635449403}\n"
     ]
    },
    {
     "name": "stderr",
     "output_type": "stream",
     "text": [
      " 76%|███████▌  | 7020/9207 [00:30<00:12, 169.72it/s]"
     ]
    },
    {
     "name": "stdout",
     "output_type": "stream",
     "text": [
      "epoch: 0, result: {'Accuracy@10': 0.07850408548082967, 'Accuracy@30': 0.07647182065786717, 'Accuracy@50': 0.07323695788812068, 'Accuracy@100': 0.0674041483343809}\n"
     ]
    },
    {
     "name": "stderr",
     "output_type": "stream",
     "text": [
      " 87%|████████▋ | 8024/9207 [00:35<00:06, 186.35it/s]"
     ]
    },
    {
     "name": "stdout",
     "output_type": "stream",
     "text": [
      "epoch: 0, result: {'Accuracy@10': 0.10886235072281585, 'Accuracy@30': 0.10247223968154201, 'Accuracy@50': 0.09715901948460087, 'Accuracy@100': 0.08717787554996857}\n"
     ]
    },
    {
     "name": "stderr",
     "output_type": "stream",
     "text": [
      " 98%|█████████▊| 9040/9207 [00:39<00:00, 186.10it/s]"
     ]
    },
    {
     "name": "stdout",
     "output_type": "stream",
     "text": [
      "epoch: 0, result: {'Accuracy@10': 0.13406662476429917, 'Accuracy@30': 0.1283050492352818, 'Accuracy@50': 0.12098051539912005, 'Accuracy@100': 0.10841609050911377}\n"
     ]
    },
    {
     "name": "stderr",
     "output_type": "stream",
     "text": [
      "100%|██████████| 9207/9207 [00:40<00:00, 226.26it/s]\n"
     ]
    },
    {
     "name": "stdout",
     "output_type": "stream",
     "text": [
      "loss for train: 0.0063903461\n"
     ]
    },
    {
     "name": "stderr",
     "output_type": "stream",
     "text": [
      " 67%|██████▋   | 1150/1728 [00:01<00:00, 846.89it/s]"
     ]
    },
    {
     "name": "stdout",
     "output_type": "stream",
     "text": [
      "epoch: 0, result: {'Accuracy@10': 0.13689503456945318, 'Accuracy@30': 0.13228577414623927, 'Accuracy@50': 0.12527969830295413, 'Accuracy@100': 0.11237586423632935}\n"
     ]
    },
    {
     "name": "stderr",
     "output_type": "stream",
     "text": [
      "100%|██████████| 1728/1728 [00:01<00:00, 968.67it/s]\n"
     ]
    },
    {
     "name": "stdout",
     "output_type": "stream",
     "text": [
      "loss for valid: 0.0062907215\n",
      "saved model to model/user2vec-0.pt\n"
     ]
    },
    {
     "name": "stderr",
     "output_type": "stream",
     "text": [
      " 11%|█         | 1026/9207 [00:04<00:46, 177.52it/s]"
     ]
    },
    {
     "name": "stdout",
     "output_type": "stream",
     "text": [
      "epoch: 1, result: {'Accuracy@10': 0.15191703331238215, 'Accuracy@30': 0.15009428032683847, 'Accuracy@50': 0.14257699560025142, 'Accuracy@100': 0.12860465116279068}\n"
     ]
    },
    {
     "name": "stderr",
     "output_type": "stream",
     "text": [
      " 22%|██▏       | 2038/9207 [00:09<00:38, 185.16it/s]"
     ]
    },
    {
     "name": "stdout",
     "output_type": "stream",
     "text": [
      "epoch: 1, result: {'Accuracy@10': 0.1637963544940289, 'Accuracy@30': 0.16138696836371255, 'Accuracy@50': 0.1553865493400377, 'Accuracy@100': 0.14000628535512255}\n"
     ]
    },
    {
     "name": "stderr",
     "output_type": "stream",
     "text": [
      " 33%|███▎      | 3038/9207 [00:13<00:34, 181.37it/s]"
     ]
    },
    {
     "name": "stdout",
     "output_type": "stream",
     "text": [
      "epoch: 1, result: {'Accuracy@10': 0.1725958516656191, 'Accuracy@30': 0.17138068300858997, 'Accuracy@50': 0.16406033940917664, 'Accuracy@100': 0.14836580766813326}\n"
     ]
    },
    {
     "name": "stderr",
     "output_type": "stream",
     "text": [
      " 44%|████▍     | 4031/9207 [00:18<00:28, 183.45it/s]"
     ]
    },
    {
     "name": "stdout",
     "output_type": "stream",
     "text": [
      "epoch: 1, result: {'Accuracy@10': 0.18032683846637335, 'Accuracy@30': 0.1786926461345066, 'Accuracy@50': 0.17121307353865492, 'Accuracy@100': 0.15438717787554998}\n"
     ]
    },
    {
     "name": "stderr",
     "output_type": "stream",
     "text": [
      " 55%|█████▍    | 5031/9207 [00:22<00:22, 183.73it/s]"
     ]
    },
    {
     "name": "stdout",
     "output_type": "stream",
     "text": [
      "epoch: 1, result: {'Accuracy@10': 0.18277812696417348, 'Accuracy@30': 0.18256861512675465, 'Accuracy@50': 0.17445631678189816, 'Accuracy@100': 0.15730986800754243}\n"
     ]
    },
    {
     "name": "stderr",
     "output_type": "stream",
     "text": [
      " 66%|██████▌   | 6034/9207 [00:27<00:17, 178.92it/s]"
     ]
    },
    {
     "name": "stdout",
     "output_type": "stream",
     "text": [
      "epoch: 1, result: {'Accuracy@10': 0.1857950974230044, 'Accuracy@30': 0.1847684894196522, 'Accuracy@50': 0.1767316153362665, 'Accuracy@100': 0.15971087366436204}\n"
     ]
    },
    {
     "name": "stderr",
     "output_type": "stream",
     "text": [
      " 76%|███████▌  | 7019/9207 [00:32<00:15, 138.64it/s]"
     ]
    },
    {
     "name": "stdout",
     "output_type": "stream",
     "text": [
      "epoch: 1, result: {'Accuracy@10': 0.18799497171590196, 'Accuracy@30': 0.18701026608003352, 'Accuracy@50': 0.17866750471401635, 'Accuracy@100': 0.16136392206159647}\n"
     ]
    },
    {
     "name": "stderr",
     "output_type": "stream",
     "text": [
      " 87%|████████▋ | 8038/9207 [00:37<00:06, 183.40it/s]"
     ]
    },
    {
     "name": "stdout",
     "output_type": "stream",
     "text": [
      "epoch: 1, result: {'Accuracy@10': 0.19264613450659962, 'Accuracy@30': 0.1883930442069977, 'Accuracy@50': 0.17996228786926463, 'Accuracy@100': 0.1622438717787555}\n"
     ]
    },
    {
     "name": "stderr",
     "output_type": "stream",
     "text": [
      " 98%|█████████▊| 9034/9207 [00:41<00:00, 179.27it/s]"
     ]
    },
    {
     "name": "stdout",
     "output_type": "stream",
     "text": [
      "epoch: 1, result: {'Accuracy@10': 0.19522313010685105, 'Accuracy@30': 0.18845589775822333, 'Accuracy@50': 0.1801759899434318, 'Accuracy@100': 0.1623318667504714}\n"
     ]
    },
    {
     "name": "stderr",
     "output_type": "stream",
     "text": [
      "100%|██████████| 9207/9207 [00:42<00:00, 216.32it/s]\n"
     ]
    },
    {
     "name": "stdout",
     "output_type": "stream",
     "text": [
      "loss for train: 0.0057264283\n"
     ]
    },
    {
     "name": "stderr",
     "output_type": "stream",
     "text": [
      " 66%|██████▌   | 1143/1728 [00:01<00:00, 839.55it/s]"
     ]
    },
    {
     "name": "stdout",
     "output_type": "stream",
     "text": [
      "epoch: 1, result: {'Accuracy@10': 0.19534883720930232, 'Accuracy@30': 0.18765975277603184, 'Accuracy@50': 0.1799874292897549, 'Accuracy@100': 0.162149591451917}\n"
     ]
    },
    {
     "name": "stderr",
     "output_type": "stream",
     "text": [
      "100%|██████████| 1728/1728 [00:01<00:00, 971.40it/s] \n"
     ]
    },
    {
     "name": "stdout",
     "output_type": "stream",
     "text": [
      "loss for valid: 0.005670228\n",
      "saved model to model/user2vec-1.pt\n"
     ]
    },
    {
     "name": "stderr",
     "output_type": "stream",
     "text": [
      " 11%|█         | 1034/9207 [00:05<00:54, 151.29it/s]"
     ]
    },
    {
     "name": "stdout",
     "output_type": "stream",
     "text": [
      "epoch: 2, result: {'Accuracy@10': 0.1944688874921433, 'Accuracy@30': 0.18868636077938403, 'Accuracy@50': 0.17988686360779382, 'Accuracy@100': 0.16296040226272784}\n"
     ]
    },
    {
     "name": "stderr",
     "output_type": "stream",
     "text": [
      " 22%|██▏       | 2031/9207 [00:10<00:39, 182.32it/s]"
     ]
    },
    {
     "name": "stdout",
     "output_type": "stream",
     "text": [
      "epoch: 2, result: {'Accuracy@10': 0.19478315524827153, 'Accuracy@30': 0.18841399539073958, 'Accuracy@50': 0.17918290383406663, 'Accuracy@100': 0.1627718416090509}\n"
     ]
    },
    {
     "name": "stderr",
     "output_type": "stream",
     "text": [
      " 33%|███▎      | 3021/9207 [00:15<00:34, 180.49it/s]"
     ]
    },
    {
     "name": "stdout",
     "output_type": "stream",
     "text": [
      "epoch: 2, result: {'Accuracy@10': 0.19440603394091766, 'Accuracy@30': 0.1874711921223549, 'Accuracy@50': 0.1783783783783784, 'Accuracy@100': 0.16216216216216217}\n"
     ]
    },
    {
     "name": "stderr",
     "output_type": "stream",
     "text": [
      " 44%|████▍     | 4036/9207 [00:19<00:28, 179.53it/s]"
     ]
    },
    {
     "name": "stdout",
     "output_type": "stream",
     "text": [
      "epoch: 2, result: {'Accuracy@10': 0.19371464487743556, 'Accuracy@30': 0.1868217054263566, 'Accuracy@50': 0.17725958516656193, 'Accuracy@100': 0.1620867379006914}\n"
     ]
    },
    {
     "name": "stderr",
     "output_type": "stream",
     "text": [
      " 55%|█████▍    | 5019/9207 [00:24<00:25, 162.94it/s]"
     ]
    },
    {
     "name": "stdout",
     "output_type": "stream",
     "text": [
      "epoch: 2, result: {'Accuracy@10': 0.1928975487115022, 'Accuracy@30': 0.18342761366017182, 'Accuracy@50': 0.17504714016341924, 'Accuracy@100': 0.16089252042740415}\n"
     ]
    },
    {
     "name": "stderr",
     "output_type": "stream",
     "text": [
      " 65%|██████▌   | 6024/9207 [00:28<00:17, 184.19it/s]"
     ]
    },
    {
     "name": "stdout",
     "output_type": "stream",
     "text": [
      "epoch: 2, result: {'Accuracy@10': 0.19013199245757387, 'Accuracy@30': 0.1803687408338571, 'Accuracy@50': 0.17296040226272782, 'Accuracy@100': 0.15901319924575738}\n"
     ]
    },
    {
     "name": "stderr",
     "output_type": "stream",
     "text": [
      " 76%|███████▋  | 7041/9207 [00:33<00:12, 175.92it/s]"
     ]
    },
    {
     "name": "stdout",
     "output_type": "stream",
     "text": [
      "epoch: 2, result: {'Accuracy@10': 0.18925204274041482, 'Accuracy@30': 0.17888120678818353, 'Accuracy@50': 0.17191703331238217, 'Accuracy@100': 0.1580892520427404}\n"
     ]
    },
    {
     "name": "stderr",
     "output_type": "stream",
     "text": [
      " 87%|████████▋ | 8032/9207 [00:38<00:06, 170.28it/s]"
     ]
    },
    {
     "name": "stdout",
     "output_type": "stream",
     "text": [
      "epoch: 2, result: {'Accuracy@10': 0.18799497171590196, 'Accuracy@30': 0.17594804106432013, 'Accuracy@50': 0.1695034569453174, 'Accuracy@100': 0.1560590823381521}\n"
     ]
    },
    {
     "name": "stderr",
     "output_type": "stream",
     "text": [
      " 98%|█████████▊| 9025/9207 [00:43<00:01, 177.67it/s]"
     ]
    },
    {
     "name": "stdout",
     "output_type": "stream",
     "text": [
      "epoch: 2, result: {'Accuracy@10': 0.18566939032055313, 'Accuracy@30': 0.17349675256652, 'Accuracy@50': 0.16681332495285983, 'Accuracy@100': 0.15419233186675046}\n"
     ]
    },
    {
     "name": "stderr",
     "output_type": "stream",
     "text": [
      "100%|██████████| 9207/9207 [00:43<00:00, 209.60it/s]\n"
     ]
    },
    {
     "name": "stdout",
     "output_type": "stream",
     "text": [
      "loss for train: 0.0051285045\n"
     ]
    },
    {
     "name": "stderr",
     "output_type": "stream",
     "text": [
      " 65%|██████▌   | 1129/1728 [00:01<00:00, 819.08it/s]"
     ]
    },
    {
     "name": "stdout",
     "output_type": "stream",
     "text": [
      "epoch: 2, result: {'Accuracy@10': 0.18460087994971716, 'Accuracy@30': 0.17244919337942594, 'Accuracy@50': 0.1663607793840352, 'Accuracy@100': 0.15373978629792584}\n"
     ]
    },
    {
     "name": "stderr",
     "output_type": "stream",
     "text": [
      "100%|██████████| 1728/1728 [00:01<00:00, 963.32it/s]\n"
     ]
    },
    {
     "name": "stdout",
     "output_type": "stream",
     "text": [
      "loss for valid: 0.0052451097\n",
      "saved model to model/user2vec-2.pt\n"
     ]
    },
    {
     "name": "stderr",
     "output_type": "stream",
     "text": [
      " 11%|█▏        | 1037/9207 [00:04<00:46, 175.59it/s]"
     ]
    },
    {
     "name": "stdout",
     "output_type": "stream",
     "text": [
      "epoch: 3, result: {'Accuracy@10': 0.18384663733500944, 'Accuracy@30': 0.17062644039388225, 'Accuracy@50': 0.16457573852922688, 'Accuracy@100': 0.15205531112507856}\n"
     ]
    },
    {
     "name": "stderr",
     "output_type": "stream",
     "text": [
      " 22%|██▏       | 2028/9207 [00:09<00:40, 178.95it/s]"
     ]
    },
    {
     "name": "stdout",
     "output_type": "stream",
     "text": [
      "epoch: 3, result: {'Accuracy@10': 0.18233815210559395, 'Accuracy@30': 0.16840561491724282, 'Accuracy@50': 0.1622627278441232, 'Accuracy@100': 0.15016970458830925}\n"
     ]
    },
    {
     "name": "stderr",
     "output_type": "stream",
     "text": [
      " 33%|███▎      | 3044/9207 [00:14<00:32, 188.19it/s]"
     ]
    },
    {
     "name": "stdout",
     "output_type": "stream",
     "text": [
      "epoch: 3, result: {'Accuracy@10': 0.1785669390320553, 'Accuracy@30': 0.1667295202178923, 'Accuracy@50': 0.16098051539912006, 'Accuracy@100': 0.14849151477058453}\n"
     ]
    },
    {
     "name": "stderr",
     "output_type": "stream",
     "text": [
      " 44%|████▍     | 4037/9207 [00:18<00:29, 173.84it/s]"
     ]
    },
    {
     "name": "stdout",
     "output_type": "stream",
     "text": [
      "epoch: 3, result: {'Accuracy@10': 0.17523570081709616, 'Accuracy@30': 0.1652838885397025, 'Accuracy@50': 0.1583532369578881, 'Accuracy@100': 0.14686360779384036}\n"
     ]
    },
    {
     "name": "stderr",
     "output_type": "stream",
     "text": [
      " 55%|█████▍    | 5039/9207 [00:23<00:22, 184.30it/s]"
     ]
    },
    {
     "name": "stdout",
     "output_type": "stream",
     "text": [
      "epoch: 3, result: {'Accuracy@10': 0.17247014456316784, 'Accuracy@30': 0.16186884558977582, 'Accuracy@50': 0.15602765556253928, 'Accuracy@100': 0.1448271527341295}\n"
     ]
    },
    {
     "name": "stderr",
     "output_type": "stream",
     "text": [
      " 66%|██████▌   | 6033/9207 [00:27<00:17, 181.26it/s]"
     ]
    },
    {
     "name": "stdout",
     "output_type": "stream",
     "text": [
      "epoch: 3, result: {'Accuracy@10': 0.16970458830923946, 'Accuracy@30': 0.15960611774565261, 'Accuracy@50': 0.1528975487115022, 'Accuracy@100': 0.14249528598365807}\n"
     ]
    },
    {
     "name": "stderr",
     "output_type": "stream",
     "text": [
      " 76%|███████▋  | 7043/9207 [00:32<00:11, 182.80it/s]"
     ]
    },
    {
     "name": "stdout",
     "output_type": "stream",
     "text": [
      "epoch: 3, result: {'Accuracy@10': 0.16750471401634193, 'Accuracy@30': 0.15721768279907816, 'Accuracy@50': 0.1509742300439975, 'Accuracy@100': 0.14020113136392207}\n"
     ]
    },
    {
     "name": "stderr",
     "output_type": "stream",
     "text": [
      " 87%|████████▋ | 8031/9207 [00:37<00:06, 176.98it/s]"
     ]
    },
    {
     "name": "stdout",
     "output_type": "stream",
     "text": [
      "epoch: 3, result: {'Accuracy@10': 0.16511627906976745, 'Accuracy@30': 0.15623297716320972, 'Accuracy@50': 0.14859836580766814, 'Accuracy@100': 0.13812067881835324}\n"
     ]
    },
    {
     "name": "stderr",
     "output_type": "stream",
     "text": [
      " 98%|█████████▊| 9027/9207 [00:41<00:00, 181.83it/s]"
     ]
    },
    {
     "name": "stdout",
     "output_type": "stream",
     "text": [
      "epoch: 3, result: {'Accuracy@10': 0.16216216216216217, 'Accuracy@30': 0.15317410433689505, 'Accuracy@50': 0.14584538026398491, 'Accuracy@100': 0.13605279698302955}\n"
     ]
    },
    {
     "name": "stderr",
     "output_type": "stream",
     "text": [
      "100%|██████████| 9207/9207 [00:42<00:00, 215.74it/s]\n"
     ]
    },
    {
     "name": "stdout",
     "output_type": "stream",
     "text": [
      "loss for train: 0.0048570078\n"
     ]
    },
    {
     "name": "stderr",
     "output_type": "stream",
     "text": [
      " 66%|██████▌   | 1139/1728 [00:01<00:00, 840.80it/s]"
     ]
    },
    {
     "name": "stdout",
     "output_type": "stream",
     "text": [
      "epoch: 3, result: {'Accuracy@10': 0.15989943431803896, 'Accuracy@30': 0.15262937355960612, 'Accuracy@50': 0.145757385292269, 'Accuracy@100': 0.13585795097423004}\n"
     ]
    },
    {
     "name": "stderr",
     "output_type": "stream",
     "text": [
      "100%|██████████| 1728/1728 [00:01<00:00, 964.16it/s]\n"
     ]
    },
    {
     "name": "stdout",
     "output_type": "stream",
     "text": [
      "loss for valid: 0.0050141991\n",
      "saved model to model/user2vec-3.pt\n"
     ]
    },
    {
     "name": "stderr",
     "output_type": "stream",
     "text": [
      " 11%|█▏        | 1037/9207 [00:04<00:44, 182.55it/s]"
     ]
    },
    {
     "name": "stdout",
     "output_type": "stream",
     "text": [
      "epoch: 4, result: {'Accuracy@10': 0.15870521684475172, 'Accuracy@30': 0.1507647182065787, 'Accuracy@50': 0.14338152105593965, 'Accuracy@100': 0.13371464487743556}\n"
     ]
    },
    {
     "name": "stderr",
     "output_type": "stream",
     "text": [
      " 22%|██▏       | 2040/9207 [00:09<00:42, 169.22it/s]"
     ]
    },
    {
     "name": "stdout",
     "output_type": "stream",
     "text": [
      "epoch: 4, result: {'Accuracy@10': 0.15575109993714645, 'Accuracy@30': 0.1484600879949717, 'Accuracy@50': 0.14142049025769954, 'Accuracy@100': 0.13218730358265243}\n"
     ]
    },
    {
     "name": "stderr",
     "output_type": "stream",
     "text": [
      " 33%|███▎      | 3039/9207 [00:13<00:34, 180.14it/s]"
     ]
    },
    {
     "name": "stdout",
     "output_type": "stream",
     "text": [
      "epoch: 4, result: {'Accuracy@10': 0.15411690760527968, 'Accuracy@30': 0.1463440184370417, 'Accuracy@50': 0.14061596480201133, 'Accuracy@100': 0.13049025769956002}\n"
     ]
    },
    {
     "name": "stderr",
     "output_type": "stream",
     "text": [
      " 44%|████▍     | 4038/9207 [00:18<00:28, 184.13it/s]"
     ]
    },
    {
     "name": "stdout",
     "output_type": "stream",
     "text": [
      "epoch: 4, result: {'Accuracy@10': 0.15191703331238215, 'Accuracy@30': 0.14347370626440395, 'Accuracy@50': 0.13906976744186048, 'Accuracy@100': 0.1290257699560025}\n"
     ]
    },
    {
     "name": "stderr",
     "output_type": "stream",
     "text": [
      " 55%|█████▍    | 5028/9207 [00:23<00:23, 179.87it/s]"
     ]
    },
    {
     "name": "stdout",
     "output_type": "stream",
     "text": [
      "epoch: 4, result: {'Accuracy@10': 0.14896291640477688, 'Accuracy@30': 0.14018437041692858, 'Accuracy@50': 0.13644248900062853, 'Accuracy@100': 0.1271213073538655}\n"
     ]
    },
    {
     "name": "stderr",
     "output_type": "stream",
     "text": [
      " 66%|██████▌   | 6033/9207 [00:27<00:17, 178.37it/s]"
     ]
    },
    {
     "name": "stdout",
     "output_type": "stream",
     "text": [
      "epoch: 4, result: {'Accuracy@10': 0.1451917033312382, 'Accuracy@30': 0.1375654724491934, 'Accuracy@50': 0.13436832181018227, 'Accuracy@100': 0.12523570081709617}\n"
     ]
    },
    {
     "name": "stderr",
     "output_type": "stream",
     "text": [
      " 76%|███████▋  | 7026/9207 [00:32<00:13, 165.22it/s]"
     ]
    },
    {
     "name": "stdout",
     "output_type": "stream",
     "text": [
      "epoch: 4, result: {'Accuracy@10': 0.1436203645505971, 'Accuracy@30': 0.1361617431384873, 'Accuracy@50': 0.13226901319924575, 'Accuracy@100': 0.12359522313010686}\n"
     ]
    },
    {
     "name": "stderr",
     "output_type": "stream",
     "text": [
      " 87%|████████▋ | 8033/9207 [00:37<00:06, 175.54it/s]"
     ]
    },
    {
     "name": "stdout",
     "output_type": "stream",
     "text": [
      "epoch: 4, result: {'Accuracy@10': 0.14041483343808925, 'Accuracy@30': 0.13532369578881207, 'Accuracy@50': 0.1303708359522313, 'Accuracy@100': 0.12147077309868008}\n"
     ]
    },
    {
     "name": "stderr",
     "output_type": "stream",
     "text": [
      " 98%|█████████▊| 9023/9207 [00:41<00:01, 161.55it/s]"
     ]
    },
    {
     "name": "stdout",
     "output_type": "stream",
     "text": [
      "epoch: 4, result: {'Accuracy@10': 0.13752357008170962, 'Accuracy@30': 0.1328305049235282, 'Accuracy@50': 0.1282715273412948, 'Accuracy@100': 0.12011942174732873}\n"
     ]
    },
    {
     "name": "stderr",
     "output_type": "stream",
     "text": [
      "100%|██████████| 9207/9207 [00:42<00:00, 215.71it/s]\n"
     ]
    },
    {
     "name": "stdout",
     "output_type": "stream",
     "text": [
      "loss for train: 0.0047312758\n"
     ]
    },
    {
     "name": "stderr",
     "output_type": "stream",
     "text": [
      " 66%|██████▋   | 1147/1728 [00:01<00:00, 836.88it/s]"
     ]
    },
    {
     "name": "stdout",
     "output_type": "stream",
     "text": [
      "epoch: 4, result: {'Accuracy@10': 0.13689503456945318, 'Accuracy@30': 0.13243243243243244, 'Accuracy@50': 0.12790697674418605, 'Accuracy@100': 0.11979886863607794}\n"
     ]
    },
    {
     "name": "stderr",
     "output_type": "stream",
     "text": [
      "100%|██████████| 1728/1728 [00:01<00:00, 974.46it/s] \n"
     ]
    },
    {
     "name": "stdout",
     "output_type": "stream",
     "text": [
      "loss for valid: 0.0048847988\n",
      "saved model to model/user2vec-4.pt\n"
     ]
    },
    {
     "name": "stderr",
     "output_type": "stream",
     "text": [
      " 11%|█▏        | 1038/9207 [00:04<00:45, 178.66it/s]"
     ]
    },
    {
     "name": "stdout",
     "output_type": "stream",
     "text": [
      "epoch: 5, result: {'Accuracy@10': 0.13632935260842238, 'Accuracy@30': 0.13092394720301698, 'Accuracy@50': 0.12608422375864237, 'Accuracy@100': 0.11846008799497172}\n"
     ]
    },
    {
     "name": "stderr",
     "output_type": "stream",
     "text": [
      " 22%|██▏       | 2019/9207 [00:09<00:42, 169.82it/s]"
     ]
    },
    {
     "name": "stdout",
     "output_type": "stream",
     "text": [
      "epoch: 5, result: {'Accuracy@10': 0.13526084223758644, 'Accuracy@30': 0.1297506809134716, 'Accuracy@50': 0.12529226901319926, 'Accuracy@100': 0.11757385292269014}\n"
     ]
    },
    {
     "name": "stderr",
     "output_type": "stream",
     "text": [
      " 33%|███▎      | 3027/9207 [00:14<00:34, 179.48it/s]"
     ]
    },
    {
     "name": "stdout",
     "output_type": "stream",
     "text": [
      "epoch: 5, result: {'Accuracy@10': 0.13299811439346323, 'Accuracy@30': 0.12872407291011942, 'Accuracy@50': 0.12456316781898177, 'Accuracy@100': 0.11670647391577624}\n"
     ]
    },
    {
     "name": "stderr",
     "output_type": "stream",
     "text": [
      " 44%|████▍     | 4033/9207 [00:18<00:29, 174.96it/s]"
     ]
    },
    {
     "name": "stdout",
     "output_type": "stream",
     "text": [
      "epoch: 5, result: {'Accuracy@10': 0.1297925832809554, 'Accuracy@30': 0.1267546616383826, 'Accuracy@50': 0.12274041483343807, 'Accuracy@100': 0.11600879949717159}\n"
     ]
    },
    {
     "name": "stderr",
     "output_type": "stream",
     "text": [
      " 55%|█████▍    | 5030/9207 [00:23<00:22, 185.68it/s]"
     ]
    },
    {
     "name": "stdout",
     "output_type": "stream",
     "text": [
      "epoch: 5, result: {'Accuracy@10': 0.12602137020741672, 'Accuracy@30': 0.12357008170961659, 'Accuracy@50': 0.12071653048397234, 'Accuracy@100': 0.11416090509113765}\n"
     ]
    },
    {
     "name": "stderr",
     "output_type": "stream",
     "text": [
      " 65%|██████▌   | 6021/9207 [00:27<00:18, 171.03it/s]"
     ]
    },
    {
     "name": "stdout",
     "output_type": "stream",
     "text": [
      "epoch: 5, result: {'Accuracy@10': 0.12445003142677562, 'Accuracy@30': 0.1213073538654934, 'Accuracy@50': 0.11854179761156505, 'Accuracy@100': 0.11279698302954116}\n"
     ]
    },
    {
     "name": "stderr",
     "output_type": "stream",
     "text": [
      " 76%|███████▋  | 7039/9207 [00:32<00:12, 179.73it/s]"
     ]
    },
    {
     "name": "stdout",
     "output_type": "stream",
     "text": [
      "epoch: 5, result: {'Accuracy@10': 0.12225015713387806, 'Accuracy@30': 0.11975696626859418, 'Accuracy@50': 0.11698302954116908, 'Accuracy@100': 0.1110936517913262}\n"
     ]
    },
    {
     "name": "stderr",
     "output_type": "stream",
     "text": [
      " 87%|████████▋ | 8036/9207 [00:37<00:06, 184.00it/s]"
     ]
    },
    {
     "name": "stdout",
     "output_type": "stream",
     "text": [
      "epoch: 5, result: {'Accuracy@10': 0.1225644248900063, 'Accuracy@30': 0.11852084642782316, 'Accuracy@50': 0.11563796354494028, 'Accuracy@100': 0.10928975487115021}\n"
     ]
    },
    {
     "name": "stderr",
     "output_type": "stream",
     "text": [
      " 98%|█████████▊| 9040/9207 [00:41<00:00, 181.75it/s]"
     ]
    },
    {
     "name": "stdout",
     "output_type": "stream",
     "text": [
      "epoch: 5, result: {'Accuracy@10': 0.12074167190446261, 'Accuracy@30': 0.11684475172847267, 'Accuracy@50': 0.11381521055939661, 'Accuracy@100': 0.10813324952859837}\n"
     ]
    },
    {
     "name": "stderr",
     "output_type": "stream",
     "text": [
      "100%|██████████| 9207/9207 [00:42<00:00, 215.75it/s]\n"
     ]
    },
    {
     "name": "stdout",
     "output_type": "stream",
     "text": [
      "loss for train: 0.0046659775\n"
     ]
    },
    {
     "name": "stderr",
     "output_type": "stream",
     "text": [
      " 66%|██████▌   | 1144/1728 [00:01<00:00, 843.98it/s]"
     ]
    },
    {
     "name": "stdout",
     "output_type": "stream",
     "text": [
      "epoch: 5, result: {'Accuracy@10': 0.11986172218730358, 'Accuracy@30': 0.11606955793002305, 'Accuracy@50': 0.11347580138277813, 'Accuracy@100': 0.10799497171590194}\n"
     ]
    },
    {
     "name": "stderr",
     "output_type": "stream",
     "text": [
      "100%|██████████| 1728/1728 [00:01<00:00, 970.95it/s]\n"
     ]
    },
    {
     "name": "stdout",
     "output_type": "stream",
     "text": [
      "loss for valid: 0.004808305\n",
      "saved model to model/user2vec-5.pt\n"
     ]
    },
    {
     "name": "stderr",
     "output_type": "stream",
     "text": [
      " 11%|█▏        | 1039/9207 [00:04<00:44, 183.34it/s]"
     ]
    },
    {
     "name": "stdout",
     "output_type": "stream",
     "text": [
      "epoch: 6, result: {'Accuracy@10': 0.11929604022627278, 'Accuracy@30': 0.11525246176408968, 'Accuracy@50': 0.11252042740414833, 'Accuracy@100': 0.10705216844751728}\n"
     ]
    },
    {
     "name": "stderr",
     "output_type": "stream",
     "text": [
      " 22%|██▏       | 2021/9207 [00:09<00:42, 167.99it/s]"
     ]
    },
    {
     "name": "stdout",
     "output_type": "stream",
     "text": [
      "epoch: 6, result: {'Accuracy@10': 0.11873035826524199, 'Accuracy@30': 0.115545778336476, 'Accuracy@50': 0.11147705845380264, 'Accuracy@100': 0.10639220615964802}\n"
     ]
    },
    {
     "name": "stderr",
     "output_type": "stream",
     "text": [
      " 33%|███▎      | 3040/9207 [00:14<00:33, 181.61it/s]"
     ]
    },
    {
     "name": "stdout",
     "output_type": "stream",
     "text": [
      "epoch: 6, result: {'Accuracy@10': 0.11678189817724702, 'Accuracy@30': 0.11495914519170333, 'Accuracy@50': 0.11170333123821496, 'Accuracy@100': 0.10599622878692645}\n"
     ]
    },
    {
     "name": "stderr",
     "output_type": "stream",
     "text": [
      " 44%|████▍     | 4032/9207 [00:18<00:28, 181.27it/s]"
     ]
    },
    {
     "name": "stdout",
     "output_type": "stream",
     "text": [
      "epoch: 6, result: {'Accuracy@10': 0.11464487743557512, 'Accuracy@30': 0.11257071024512884, 'Accuracy@50': 0.11009428032683846, 'Accuracy@100': 0.10539912005028285}\n"
     ]
    },
    {
     "name": "stderr",
     "output_type": "stream",
     "text": [
      " 55%|█████▍    | 5038/9207 [00:23<00:22, 183.18it/s]"
     ]
    },
    {
     "name": "stdout",
     "output_type": "stream",
     "text": [
      "epoch: 6, result: {'Accuracy@10': 0.11282212445003144, 'Accuracy@30': 0.11047559187094072, 'Accuracy@50': 0.1081081081081081, 'Accuracy@100': 0.10387177875549967}\n"
     ]
    },
    {
     "name": "stderr",
     "output_type": "stream",
     "text": [
      " 66%|██████▌   | 6039/9207 [00:27<00:17, 184.03it/s]"
     ]
    },
    {
     "name": "stdout",
     "output_type": "stream",
     "text": [
      "epoch: 6, result: {'Accuracy@10': 0.11150219987429291, 'Accuracy@30': 0.10823381521055939, 'Accuracy@50': 0.10693903205531113, 'Accuracy@100': 0.10231929604022627}\n"
     ]
    },
    {
     "name": "stderr",
     "output_type": "stream",
     "text": [
      " 76%|███████▋  | 7040/9207 [00:32<00:12, 169.58it/s]"
     ]
    },
    {
     "name": "stdout",
     "output_type": "stream",
     "text": [
      "epoch: 6, result: {'Accuracy@10': 0.1098051539912005, 'Accuracy@30': 0.10745862141210978, 'Accuracy@50': 0.1051414204902577, 'Accuracy@100': 0.10089252042740414}\n"
     ]
    },
    {
     "name": "stderr",
     "output_type": "stream",
     "text": [
      " 87%|████████▋ | 8032/9207 [00:37<00:06, 178.43it/s]"
     ]
    },
    {
     "name": "stdout",
     "output_type": "stream",
     "text": [
      "epoch: 6, result: {'Accuracy@10': 0.11112507856693903, 'Accuracy@30': 0.10590823381521057, 'Accuracy@50': 0.10437460716530485, 'Accuracy@100': 0.10021370207416719}\n"
     ]
    },
    {
     "name": "stderr",
     "output_type": "stream",
     "text": [
      " 98%|█████████▊| 9028/9207 [00:41<00:00, 181.59it/s]"
     ]
    },
    {
     "name": "stdout",
     "output_type": "stream",
     "text": [
      "epoch: 6, result: {'Accuracy@10': 0.1092394720301697, 'Accuracy@30': 0.10446260213702074, 'Accuracy@50': 0.10251414204902577, 'Accuracy@100': 0.09877435575109994}\n"
     ]
    },
    {
     "name": "stderr",
     "output_type": "stream",
     "text": [
      "100%|██████████| 9207/9207 [00:42<00:00, 215.69it/s]\n"
     ]
    },
    {
     "name": "stdout",
     "output_type": "stream",
     "text": [
      "loss for train: 0.0046282064\n"
     ]
    },
    {
     "name": "stderr",
     "output_type": "stream",
     "text": [
      " 66%|██████▋   | 1148/1728 [00:01<00:00, 845.28it/s]"
     ]
    },
    {
     "name": "stdout",
     "output_type": "stream",
     "text": [
      "epoch: 6, result: {'Accuracy@10': 0.1092394720301697, 'Accuracy@30': 0.10408548082966688, 'Accuracy@50': 0.10248900062853551, 'Accuracy@100': 0.09837837837837839}\n"
     ]
    },
    {
     "name": "stderr",
     "output_type": "stream",
     "text": [
      "100%|██████████| 1728/1728 [00:01<00:00, 965.16it/s]\n"
     ]
    },
    {
     "name": "stdout",
     "output_type": "stream",
     "text": [
      "loss for valid: 0.0047605756\n",
      "saved model to model/user2vec-6.pt\n"
     ]
    },
    {
     "name": "stderr",
     "output_type": "stream",
     "text": [
      " 11%|█         | 1025/9207 [00:04<00:46, 175.13it/s]"
     ]
    },
    {
     "name": "stdout",
     "output_type": "stream",
     "text": [
      "epoch: 7, result: {'Accuracy@10': 0.10659962287869265, 'Accuracy@30': 0.10318457992876598, 'Accuracy@50': 0.10165933375235701, 'Accuracy@100': 0.09759899434318038}\n"
     ]
    },
    {
     "name": "stderr",
     "output_type": "stream",
     "text": [
      " 22%|██▏       | 2038/9207 [00:09<00:42, 170.25it/s]"
     ]
    },
    {
     "name": "stdout",
     "output_type": "stream",
     "text": [
      "epoch: 7, result: {'Accuracy@10': 0.10546825895663106, 'Accuracy@30': 0.10364550597108738, 'Accuracy@50': 0.10187303582652421, 'Accuracy@100': 0.09702702702702704}\n"
     ]
    },
    {
     "name": "stderr",
     "output_type": "stream",
     "text": [
      " 33%|███▎      | 3030/9207 [00:13<00:35, 172.42it/s]"
     ]
    },
    {
     "name": "stdout",
     "output_type": "stream",
     "text": [
      "epoch: 7, result: {'Accuracy@10': 0.1049654305468259, 'Accuracy@30': 0.10356170123611984, 'Accuracy@50': 0.1013073538654934, 'Accuracy@100': 0.0968573224387178}\n"
     ]
    },
    {
     "name": "stderr",
     "output_type": "stream",
     "text": [
      " 44%|████▍     | 4040/9207 [00:18<00:29, 177.06it/s]"
     ]
    },
    {
     "name": "stdout",
     "output_type": "stream",
     "text": [
      "epoch: 7, result: {'Accuracy@10': 0.10263984915147706, 'Accuracy@30': 0.10217892310915566, 'Accuracy@50': 0.10026398491514771, 'Accuracy@100': 0.09639849151477059}\n"
     ]
    },
    {
     "name": "stderr",
     "output_type": "stream",
     "text": [
      " 55%|█████▍    | 5039/9207 [00:23<00:24, 171.84it/s]"
     ]
    },
    {
     "name": "stdout",
     "output_type": "stream",
     "text": [
      "epoch: 7, result: {'Accuracy@10': 0.1022627278441232, 'Accuracy@30': 0.10085899853341714, 'Accuracy@50': 0.09864236329352609, 'Accuracy@100': 0.0950345694531741}\n"
     ]
    },
    {
     "name": "stderr",
     "output_type": "stream",
     "text": [
      " 65%|██████▌   | 6028/9207 [00:29<00:24, 130.33it/s]"
     ]
    },
    {
     "name": "stdout",
     "output_type": "stream",
     "text": [
      "epoch: 7, result: {'Accuracy@10': 0.09937146448774356, 'Accuracy@30': 0.0992038550178085, 'Accuracy@50': 0.09776241357636707, 'Accuracy@100': 0.09378378378378378}\n"
     ]
    },
    {
     "name": "stderr",
     "output_type": "stream",
     "text": [
      " 76%|███████▋  | 7028/9207 [00:34<00:11, 182.12it/s]"
     ]
    },
    {
     "name": "stdout",
     "output_type": "stream",
     "text": [
      "epoch: 7, result: {'Accuracy@10': 0.09874292897548712, 'Accuracy@30': 0.09821914938194007, 'Accuracy@50': 0.09753614079195475, 'Accuracy@100': 0.09319296040226273}\n"
     ]
    },
    {
     "name": "stderr",
     "output_type": "stream",
     "text": [
      " 87%|████████▋ | 8036/9207 [00:38<00:06, 180.14it/s]"
     ]
    },
    {
     "name": "stdout",
     "output_type": "stream",
     "text": [
      "epoch: 7, result: {'Accuracy@10': 0.09880578252671277, 'Accuracy@30': 0.09744395558349046, 'Accuracy@50': 0.09624135763670648, 'Accuracy@100': 0.09253299811439346}\n"
     ]
    },
    {
     "name": "stderr",
     "output_type": "stream",
     "text": [
      " 98%|█████████▊| 9037/9207 [00:43<00:00, 173.46it/s]"
     ]
    },
    {
     "name": "stdout",
     "output_type": "stream",
     "text": [
      "epoch: 7, result: {'Accuracy@10': 0.09842866121935889, 'Accuracy@30': 0.09650115231510581, 'Accuracy@50': 0.09439346323067253, 'Accuracy@100': 0.09116279069767443}\n"
     ]
    },
    {
     "name": "stderr",
     "output_type": "stream",
     "text": [
      "100%|██████████| 9207/9207 [00:44<00:00, 208.07it/s]\n"
     ]
    },
    {
     "name": "stdout",
     "output_type": "stream",
     "text": [
      "loss for train: 0.0046041656\n"
     ]
    },
    {
     "name": "stderr",
     "output_type": "stream",
     "text": [
      " 66%|██████▌   | 1144/1728 [00:01<00:00, 840.49it/s]"
     ]
    },
    {
     "name": "stdout",
     "output_type": "stream",
     "text": [
      "epoch: 7, result: {'Accuracy@10': 0.09817724701445632, 'Accuracy@30': 0.09618688455897757, 'Accuracy@50': 0.09424261470773099, 'Accuracy@100': 0.0909365179132621}\n"
     ]
    },
    {
     "name": "stderr",
     "output_type": "stream",
     "text": [
      "100%|██████████| 1728/1728 [00:01<00:00, 972.06it/s] \n"
     ]
    },
    {
     "name": "stdout",
     "output_type": "stream",
     "text": [
      "loss for valid: 0.0047289194\n",
      "saved model to model/user2vec-7.pt\n"
     ]
    },
    {
     "name": "stderr",
     "output_type": "stream",
     "text": [
      " 11%|█         | 1028/9207 [00:04<00:45, 180.69it/s]"
     ]
    },
    {
     "name": "stdout",
     "output_type": "stream",
     "text": [
      "epoch: 8, result: {'Accuracy@10': 0.09629164047768698, 'Accuracy@30': 0.09495076471820658, 'Accuracy@50': 0.09358893777498428, 'Accuracy@100': 0.09003771213073537}\n"
     ]
    },
    {
     "name": "stderr",
     "output_type": "stream",
     "text": [
      " 22%|██▏       | 2022/9207 [00:09<00:42, 167.62it/s]"
     ]
    },
    {
     "name": "stdout",
     "output_type": "stream",
     "text": [
      "epoch: 8, result: {'Accuracy@10': 0.09635449402891264, 'Accuracy@30': 0.09620783574271946, 'Accuracy@50': 0.09400377121307354, 'Accuracy@100': 0.08960402262727843}\n"
     ]
    },
    {
     "name": "stderr",
     "output_type": "stream",
     "text": [
      " 33%|███▎      | 3018/9207 [00:14<00:37, 164.31it/s]"
     ]
    },
    {
     "name": "stdout",
     "output_type": "stream",
     "text": [
      "epoch: 8, result: {'Accuracy@10': 0.0950345694531741, 'Accuracy@30': 0.09662685941755708, 'Accuracy@50': 0.09405405405405405, 'Accuracy@100': 0.08964173475801383}\n"
     ]
    },
    {
     "name": "stderr",
     "output_type": "stream",
     "text": [
      " 44%|████▍     | 4031/9207 [00:18<00:28, 181.61it/s]"
     ]
    },
    {
     "name": "stdout",
     "output_type": "stream",
     "text": [
      "epoch: 8, result: {'Accuracy@10': 0.09484600879949717, 'Accuracy@30': 0.09532788602556044, 'Accuracy@50': 0.09304839723444375, 'Accuracy@100': 0.08943431803896922}\n"
     ]
    },
    {
     "name": "stderr",
     "output_type": "stream",
     "text": [
      " 55%|█████▍    | 5031/9207 [00:23<00:22, 182.88it/s]"
     ]
    },
    {
     "name": "stdout",
     "output_type": "stream",
     "text": [
      "epoch: 8, result: {'Accuracy@10': 0.09314896291640477, 'Accuracy@30': 0.0940289126335638, 'Accuracy@50': 0.09174104336895034, 'Accuracy@100': 0.08810182275298555}\n"
     ]
    },
    {
     "name": "stderr",
     "output_type": "stream",
     "text": [
      " 65%|██████▌   | 6026/9207 [00:28<00:17, 179.79it/s]"
     ]
    },
    {
     "name": "stdout",
     "output_type": "stream",
     "text": [
      "epoch: 8, result: {'Accuracy@10': 0.09239472030169704, 'Accuracy@30': 0.09258328095537398, 'Accuracy@50': 0.09087366436203645, 'Accuracy@100': 0.08686360779384035}\n"
     ]
    },
    {
     "name": "stderr",
     "output_type": "stream",
     "text": [
      " 76%|███████▋  | 7025/9207 [00:32<00:15, 144.37it/s]"
     ]
    },
    {
     "name": "stdout",
     "output_type": "stream",
     "text": [
      "epoch: 8, result: {'Accuracy@10': 0.09371464487743557, 'Accuracy@30': 0.09180808715692437, 'Accuracy@50': 0.09009428032683847, 'Accuracy@100': 0.08653048397234445}\n"
     ]
    },
    {
     "name": "stderr",
     "output_type": "stream",
     "text": [
      " 87%|████████▋ | 8036/9207 [00:37<00:06, 181.78it/s]"
     ]
    },
    {
     "name": "stdout",
     "output_type": "stream",
     "text": [
      "epoch: 8, result: {'Accuracy@10': 0.0923318667504714, 'Accuracy@30': 0.09071862560234653, 'Accuracy@50': 0.08890006285355122, 'Accuracy@100': 0.08601508485229414}\n"
     ]
    },
    {
     "name": "stderr",
     "output_type": "stream",
     "text": [
      " 98%|█████████▊| 9023/9207 [00:41<00:01, 181.21it/s]"
     ]
    },
    {
     "name": "stdout",
     "output_type": "stream",
     "text": [
      "epoch: 8, result: {'Accuracy@10': 0.09069767441860464, 'Accuracy@30': 0.09004818772260632, 'Accuracy@50': 0.0877561282212445, 'Accuracy@100': 0.08470773098680075}\n"
     ]
    },
    {
     "name": "stderr",
     "output_type": "stream",
     "text": [
      "100%|██████████| 9207/9207 [00:42<00:00, 215.08it/s]\n"
     ]
    },
    {
     "name": "stdout",
     "output_type": "stream",
     "text": [
      "loss for train: 0.0045885873\n"
     ]
    },
    {
     "name": "stderr",
     "output_type": "stream",
     "text": [
      " 66%|██████▌   | 1141/1728 [00:01<00:00, 831.51it/s]"
     ]
    },
    {
     "name": "stdout",
     "output_type": "stream",
     "text": [
      "epoch: 8, result: {'Accuracy@10': 0.09044626021370208, 'Accuracy@30': 0.08981772470144563, 'Accuracy@50': 0.08739157762413577, 'Accuracy@100': 0.08444374607165304}\n"
     ]
    },
    {
     "name": "stderr",
     "output_type": "stream",
     "text": [
      "100%|██████████| 1728/1728 [00:01<00:00, 969.14it/s] \n"
     ]
    },
    {
     "name": "stdout",
     "output_type": "stream",
     "text": [
      "loss for valid: 0.004707941\n",
      "saved model to model/user2vec-8.pt\n"
     ]
    },
    {
     "name": "stderr",
     "output_type": "stream",
     "text": [
      " 11%|█         | 1035/9207 [00:04<00:46, 174.13it/s]"
     ]
    },
    {
     "name": "stdout",
     "output_type": "stream",
     "text": [
      "epoch: 9, result: {'Accuracy@10': 0.0895034569453174, 'Accuracy@30': 0.0891891891891892, 'Accuracy@50': 0.0876178504085481, 'Accuracy@100': 0.08348837209302326}\n"
     ]
    },
    {
     "name": "stderr",
     "output_type": "stream",
     "text": [
      " 22%|██▏       | 2025/9207 [00:09<00:40, 178.97it/s]"
     ]
    },
    {
     "name": "stdout",
     "output_type": "stream",
     "text": [
      "epoch: 9, result: {'Accuracy@10': 0.08962916404776869, 'Accuracy@30': 0.09009009009009009, 'Accuracy@50': 0.08783155248271526, 'Accuracy@100': 0.08329981143934634}\n"
     ]
    },
    {
     "name": "stderr",
     "output_type": "stream",
     "text": [
      " 33%|███▎      | 3021/9207 [00:14<00:37, 166.54it/s]"
     ]
    },
    {
     "name": "stdout",
     "output_type": "stream",
     "text": [
      "epoch: 9, result: {'Accuracy@10': 0.08937774984286612, 'Accuracy@30': 0.09059291849989524, 'Accuracy@50': 0.0879321181646763, 'Accuracy@100': 0.08387806411062225}\n"
     ]
    },
    {
     "name": "stderr",
     "output_type": "stream",
     "text": [
      " 44%|████▍     | 4045/9207 [00:18<00:28, 183.82it/s]"
     ]
    },
    {
     "name": "stdout",
     "output_type": "stream",
     "text": [
      "epoch: 9, result: {'Accuracy@10': 0.0884978001257071, 'Accuracy@30': 0.08954535931280118, 'Accuracy@50': 0.0874041483343809, 'Accuracy@100': 0.08350722815839096}\n"
     ]
    },
    {
     "name": "stderr",
     "output_type": "stream",
     "text": [
      " 55%|█████▍    | 5036/9207 [00:23<00:22, 184.97it/s]"
     ]
    },
    {
     "name": "stdout",
     "output_type": "stream",
     "text": [
      "epoch: 9, result: {'Accuracy@10': 0.08812067881835324, 'Accuracy@30': 0.08786926461345067, 'Accuracy@50': 0.08585795097423005, 'Accuracy@100': 0.08235700817096166}\n"
     ]
    },
    {
     "name": "stderr",
     "output_type": "stream",
     "text": [
      " 66%|██████▌   | 6034/9207 [00:28<00:18, 168.35it/s]"
     ]
    },
    {
     "name": "stdout",
     "output_type": "stream",
     "text": [
      "epoch: 9, result: {'Accuracy@10': 0.08629792583280955, 'Accuracy@30': 0.08740833857112927, 'Accuracy@50': 0.08492771841609051, 'Accuracy@100': 0.08148334380892522}\n"
     ]
    },
    {
     "name": "stderr",
     "output_type": "stream",
     "text": [
      " 76%|███████▋  | 7032/9207 [00:32<00:13, 158.42it/s]"
     ]
    },
    {
     "name": "stdout",
     "output_type": "stream",
     "text": [
      "epoch: 9, result: {'Accuracy@10': 0.08755499685732245, 'Accuracy@30': 0.08663314477267965, 'Accuracy@50': 0.08456316781898178, 'Accuracy@100': 0.08093651791326209}\n"
     ]
    },
    {
     "name": "stderr",
     "output_type": "stream",
     "text": [
      " 87%|████████▋ | 8037/9207 [00:37<00:06, 178.46it/s]"
     ]
    },
    {
     "name": "stdout",
     "output_type": "stream",
     "text": [
      "epoch: 9, result: {'Accuracy@10': 0.08610936517913262, 'Accuracy@30': 0.08631887701655144, 'Accuracy@50': 0.08345694531741044, 'Accuracy@100': 0.08059082338152106}\n"
     ]
    },
    {
     "name": "stderr",
     "output_type": "stream",
     "text": [
      " 98%|█████████▊| 9025/9207 [00:41<00:01, 172.20it/s]"
     ]
    },
    {
     "name": "stdout",
     "output_type": "stream",
     "text": [
      "epoch: 9, result: {'Accuracy@10': 0.08610936517913262, 'Accuracy@30': 0.08516656191074796, 'Accuracy@50': 0.08290383406662477, 'Accuracy@100': 0.0793463230672533}\n"
     ]
    },
    {
     "name": "stderr",
     "output_type": "stream",
     "text": [
      "100%|██████████| 9207/9207 [00:42<00:00, 215.52it/s]\n"
     ]
    },
    {
     "name": "stdout",
     "output_type": "stream",
     "text": [
      "loss for train: 0.0045771373\n"
     ]
    },
    {
     "name": "stderr",
     "output_type": "stream",
     "text": [
      " 66%|██████▌   | 1143/1728 [00:01<00:00, 841.98it/s]"
     ]
    },
    {
     "name": "stdout",
     "output_type": "stream",
     "text": [
      "epoch: 9, result: {'Accuracy@10': 0.08617221873035827, 'Accuracy@30': 0.0846637335009428, 'Accuracy@50': 0.08251414204902577, 'Accuracy@100': 0.0790823381521056}\n"
     ]
    },
    {
     "name": "stderr",
     "output_type": "stream",
     "text": [
      "100%|██████████| 1728/1728 [00:01<00:00, 959.28it/s]\n"
     ]
    },
    {
     "name": "stdout",
     "output_type": "stream",
     "text": [
      "loss for valid: 0.0046922454\n",
      "saved model to model/user2vec-9.pt\n",
      "ModelConfig(d_model=64, init_embedding_std=0.2, max_embedding_norm=1, window_size=5, negative_sample_size=5, use_weight_tying=True, use_meta=True, use_attention=True)\n",
      "TrainerConfig(model_name='user2vec', dataset_name='movielens', epochs=10, batch_size=64, lr=0.0001, weight_decay=0, verbose=False, model_dir='model', save_model=True, device='cpu')\n",
      "num_seq: 6040, num_item: 3706, num_item_meta: 28, num_seq_meta: 30, num_item_meta_types: 3, num_seq_meta_types: 3\n",
      "train: 589192 valid: 110547\n"
     ]
    },
    {
     "name": "stderr",
     "output_type": "stream",
     "text": [
      " 11%|█         | 1017/9207 [00:06<00:59, 138.29it/s]"
     ]
    },
    {
     "name": "stdout",
     "output_type": "stream",
     "text": [
      "epoch: 0, result: {'Accuracy@10': 0.02143306096794469, 'Accuracy@30': 0.028745024093861305, 'Accuracy@50': 0.03015713387806411, 'Accuracy@100': 0.031011942174732875}\n"
     ]
    },
    {
     "name": "stderr",
     "output_type": "stream",
     "text": [
      " 22%|██▏       | 2029/9207 [00:13<00:53, 134.02it/s]"
     ]
    },
    {
     "name": "stdout",
     "output_type": "stream",
     "text": [
      "epoch: 0, result: {'Accuracy@10': 0.02338152105593966, 'Accuracy@30': 0.031280117326628956, 'Accuracy@50': 0.03303582652419862, 'Accuracy@100': 0.033746071653048396}\n"
     ]
    },
    {
     "name": "stderr",
     "output_type": "stream",
     "text": [
      " 33%|███▎      | 3020/9207 [00:19<00:47, 131.06it/s]"
     ]
    },
    {
     "name": "stdout",
     "output_type": "stream",
     "text": [
      "epoch: 0, result: {'Accuracy@10': 0.03073538654934004, 'Accuracy@30': 0.03890634820867379, 'Accuracy@50': 0.040314267756128216, 'Accuracy@100': 0.04081081081081081}\n"
     ]
    },
    {
     "name": "stderr",
     "output_type": "stream",
     "text": [
      " 44%|████▍     | 4030/9207 [00:26<00:37, 136.53it/s]"
     ]
    },
    {
     "name": "stdout",
     "output_type": "stream",
     "text": [
      "epoch: 0, result: {'Accuracy@10': 0.05505971087366436, 'Accuracy@30': 0.06306306306306306, 'Accuracy@50': 0.06272784412319296, 'Accuracy@100': 0.06023884349465745}\n"
     ]
    },
    {
     "name": "stderr",
     "output_type": "stream",
     "text": [
      " 55%|█████▍    | 5033/9207 [00:32<00:31, 134.24it/s]"
     ]
    },
    {
     "name": "stdout",
     "output_type": "stream",
     "text": [
      "epoch: 0, result: {'Accuracy@10': 0.09151477058453802, 'Accuracy@30': 0.10580347789650114, 'Accuracy@50': 0.10174732872407292, 'Accuracy@100': 0.09145191703331239}\n"
     ]
    },
    {
     "name": "stderr",
     "output_type": "stream",
     "text": [
      " 65%|██████▌   | 6029/9207 [00:39<00:25, 126.23it/s]"
     ]
    },
    {
     "name": "stdout",
     "output_type": "stream",
     "text": [
      "epoch: 0, result: {'Accuracy@10': 0.12677561282212443, 'Accuracy@30': 0.1419652210349885, 'Accuracy@50': 0.138340666247643, 'Accuracy@100': 0.12285355122564426}\n"
     ]
    },
    {
     "name": "stderr",
     "output_type": "stream",
     "text": [
      " 76%|███████▋  | 7030/9207 [00:45<00:16, 131.27it/s]"
     ]
    },
    {
     "name": "stdout",
     "output_type": "stream",
     "text": [
      "epoch: 0, result: {'Accuracy@10': 0.15336266499057197, 'Accuracy@30': 0.16641525246176408, 'Accuracy@50': 0.16169704588309242, 'Accuracy@100': 0.14505971087366437}\n"
     ]
    },
    {
     "name": "stderr",
     "output_type": "stream",
     "text": [
      " 87%|████████▋ | 8015/9207 [00:51<00:10, 115.13it/s]"
     ]
    },
    {
     "name": "stdout",
     "output_type": "stream",
     "text": [
      "epoch: 0, result: {'Accuracy@10': 0.17523570081709616, 'Accuracy@30': 0.1824010056568196, 'Accuracy@50': 0.17517284726587054, 'Accuracy@100': 0.15723444374607165}\n"
     ]
    },
    {
     "name": "stderr",
     "output_type": "stream",
     "text": [
      " 98%|█████████▊| 9026/9207 [00:58<00:01, 131.44it/s]"
     ]
    },
    {
     "name": "stdout",
     "output_type": "stream",
     "text": [
      "epoch: 0, result: {'Accuracy@10': 0.1882463859208045, 'Accuracy@30': 0.1906557720511209, 'Accuracy@50': 0.18221244500314268, 'Accuracy@100': 0.1628598365807668}\n"
     ]
    },
    {
     "name": "stderr",
     "output_type": "stream",
     "text": [
      "100%|██████████| 9207/9207 [00:59<00:00, 154.71it/s]\n"
     ]
    },
    {
     "name": "stdout",
     "output_type": "stream",
     "text": [
      "loss for train: 0.0062690957\n"
     ]
    },
    {
     "name": "stderr",
     "output_type": "stream",
     "text": [
      " 65%|██████▍   | 1122/1728 [00:01<00:00, 626.08it/s]"
     ]
    },
    {
     "name": "stdout",
     "output_type": "stream",
     "text": [
      "epoch: 0, result: {'Accuracy@10': 0.1903205531112508, 'Accuracy@30': 0.19147286821705428, 'Accuracy@50': 0.18304211187932118, 'Accuracy@100': 0.1635009428032684}\n"
     ]
    },
    {
     "name": "stderr",
     "output_type": "stream",
     "text": [
      "100%|██████████| 1728/1728 [00:02<00:00, 805.72it/s]\n"
     ]
    },
    {
     "name": "stdout",
     "output_type": "stream",
     "text": [
      "loss for valid: 0.0060447846\n",
      "saved model to model/user2vec-0.pt\n"
     ]
    },
    {
     "name": "stderr",
     "output_type": "stream",
     "text": [
      " 11%|█         | 1030/9207 [00:06<01:02, 131.47it/s]"
     ]
    },
    {
     "name": "stdout",
     "output_type": "stream",
     "text": [
      "epoch: 1, result: {'Accuracy@10': 0.19723444374607166, 'Accuracy@30': 0.19635449402891264, 'Accuracy@50': 0.18726587052168447, 'Accuracy@100': 0.16710245128849782}\n"
     ]
    },
    {
     "name": "stderr",
     "output_type": "stream",
     "text": [
      " 22%|██▏       | 2017/9207 [00:12<00:53, 133.18it/s]"
     ]
    },
    {
     "name": "stdout",
     "output_type": "stream",
     "text": [
      "epoch: 1, result: {'Accuracy@10': 0.20175989943431802, 'Accuracy@30': 0.1989733919966478, 'Accuracy@50': 0.18879949717159017, 'Accuracy@100': 0.16898177247014456}\n"
     ]
    },
    {
     "name": "stderr",
     "output_type": "stream",
     "text": [
      " 33%|███▎      | 3031/9207 [00:18<00:45, 135.92it/s]"
     ]
    },
    {
     "name": "stdout",
     "output_type": "stream",
     "text": [
      "epoch: 1, result: {'Accuracy@10': 0.20509113764927717, 'Accuracy@30': 0.20012570710245128, 'Accuracy@50': 0.19003142677561283, 'Accuracy@100': 0.17093023255813955}\n"
     ]
    },
    {
     "name": "stderr",
     "output_type": "stream",
     "text": [
      " 44%|████▎     | 4021/9207 [00:25<00:38, 136.31it/s]"
     ]
    },
    {
     "name": "stdout",
     "output_type": "stream",
     "text": [
      "epoch: 1, result: {'Accuracy@10': 0.20634820867379008, 'Accuracy@30': 0.20142468049444792, 'Accuracy@50': 0.19044626021370206, 'Accuracy@100': 0.17255185417976115}\n"
     ]
    },
    {
     "name": "stderr",
     "output_type": "stream",
     "text": [
      " 54%|█████▍    | 5011/9207 [00:31<00:33, 125.88it/s]"
     ]
    },
    {
     "name": "stdout",
     "output_type": "stream",
     "text": [
      "epoch: 1, result: {'Accuracy@10': 0.20810810810810812, 'Accuracy@30': 0.2012570710245129, 'Accuracy@50': 0.19065996228786924, 'Accuracy@100': 0.17249528598365807}\n"
     ]
    },
    {
     "name": "stderr",
     "output_type": "stream",
     "text": [
      " 65%|██████▌   | 6023/9207 [00:37<00:24, 132.12it/s]"
     ]
    },
    {
     "name": "stdout",
     "output_type": "stream",
     "text": [
      "epoch: 1, result: {'Accuracy@10': 0.20653676932746698, 'Accuracy@30': 0.1998114393463231, 'Accuracy@50': 0.18936517913262102, 'Accuracy@100': 0.17248271527341294}\n"
     ]
    },
    {
     "name": "stderr",
     "output_type": "stream",
     "text": [
      " 76%|███████▋  | 7022/9207 [00:43<00:16, 132.00it/s]"
     ]
    },
    {
     "name": "stdout",
     "output_type": "stream",
     "text": [
      "epoch: 1, result: {'Accuracy@10': 0.20502828409805157, 'Accuracy@30': 0.1983029541169076, 'Accuracy@50': 0.18786926461345066, 'Accuracy@100': 0.1716970458830924}\n"
     ]
    },
    {
     "name": "stderr",
     "output_type": "stream",
     "text": [
      " 87%|████████▋ | 8030/9207 [00:50<00:09, 130.28it/s]"
     ]
    },
    {
     "name": "stdout",
     "output_type": "stream",
     "text": [
      "epoch: 1, result: {'Accuracy@10': 0.20301697045883094, 'Accuracy@30': 0.19555834904672112, 'Accuracy@50': 0.1864487743557511, 'Accuracy@100': 0.16990571967316154}\n"
     ]
    },
    {
     "name": "stderr",
     "output_type": "stream",
     "text": [
      " 98%|█████████▊| 9028/9207 [00:56<00:01, 129.47it/s]"
     ]
    },
    {
     "name": "stdout",
     "output_type": "stream",
     "text": [
      "epoch: 1, result: {'Accuracy@10': 0.2011313639220616, 'Accuracy@30': 0.1927927927927928, 'Accuracy@50': 0.18413576367064738, 'Accuracy@100': 0.1679824010056568}\n"
     ]
    },
    {
     "name": "stderr",
     "output_type": "stream",
     "text": [
      "100%|██████████| 9207/9207 [00:57<00:00, 160.57it/s]\n"
     ]
    },
    {
     "name": "stdout",
     "output_type": "stream",
     "text": [
      "loss for train: 0.0053203062\n"
     ]
    },
    {
     "name": "stderr",
     "output_type": "stream",
     "text": [
      " 64%|██████▍   | 1111/1728 [00:01<00:00, 708.18it/s]"
     ]
    },
    {
     "name": "stdout",
     "output_type": "stream",
     "text": [
      "epoch: 1, result: {'Accuracy@10': 0.1995600251414205, 'Accuracy@30': 0.1924575738529227, 'Accuracy@50': 0.18380892520427405, 'Accuracy@100': 0.16734758013827783}\n"
     ]
    },
    {
     "name": "stderr",
     "output_type": "stream",
     "text": [
      "100%|██████████| 1728/1728 [00:02<00:00, 808.63it/s]\n"
     ]
    },
    {
     "name": "stdout",
     "output_type": "stream",
     "text": [
      "loss for valid: 0.0053062186\n",
      "saved model to model/user2vec-1.pt\n"
     ]
    },
    {
     "name": "stderr",
     "output_type": "stream",
     "text": [
      " 11%|█         | 1032/9207 [00:06<01:02, 131.07it/s]"
     ]
    },
    {
     "name": "stdout",
     "output_type": "stream",
     "text": [
      "epoch: 2, result: {'Accuracy@10': 0.19666876178504084, 'Accuracy@30': 0.1896291640477687, 'Accuracy@50': 0.18101822752985544, 'Accuracy@100': 0.165267127592709}\n"
     ]
    },
    {
     "name": "stderr",
     "output_type": "stream",
     "text": [
      " 22%|██▏       | 2019/9207 [00:12<01:01, 116.16it/s]"
     ]
    },
    {
     "name": "stdout",
     "output_type": "stream",
     "text": [
      "epoch: 2, result: {'Accuracy@10': 0.1935889377749843, 'Accuracy@30': 0.18585795097423005, 'Accuracy@50': 0.17865493400377122, 'Accuracy@100': 0.16304839723444375}\n"
     ]
    },
    {
     "name": "stderr",
     "output_type": "stream",
     "text": [
      " 33%|███▎      | 3023/9207 [00:18<00:47, 131.42it/s]"
     ]
    },
    {
     "name": "stdout",
     "output_type": "stream",
     "text": [
      "epoch: 2, result: {'Accuracy@10': 0.1903205531112508, 'Accuracy@30': 0.18311334590404357, 'Accuracy@50': 0.17610307982401008, 'Accuracy@100': 0.16096165933375237}\n"
     ]
    },
    {
     "name": "stderr",
     "output_type": "stream",
     "text": [
      " 44%|████▎     | 4021/9207 [00:25<00:43, 118.06it/s]"
     ]
    },
    {
     "name": "stdout",
     "output_type": "stream",
     "text": [
      "epoch: 2, result: {'Accuracy@10': 0.18818353236957888, 'Accuracy@30': 0.1807249109574691, 'Accuracy@50': 0.17249528598365807, 'Accuracy@100': 0.15861093651791328}\n"
     ]
    },
    {
     "name": "stderr",
     "output_type": "stream",
     "text": [
      " 55%|█████▍    | 5032/9207 [00:31<00:31, 133.65it/s]"
     ]
    },
    {
     "name": "stdout",
     "output_type": "stream",
     "text": [
      "epoch: 2, result: {'Accuracy@10': 0.18724072910119421, 'Accuracy@30': 0.17548711502199874, 'Accuracy@50': 0.1695034569453174, 'Accuracy@100': 0.1556756756756757}\n"
     ]
    },
    {
     "name": "stderr",
     "output_type": "stream",
     "text": [
      " 65%|██████▌   | 6018/9207 [00:37<00:23, 136.42it/s]"
     ]
    },
    {
     "name": "stdout",
     "output_type": "stream",
     "text": [
      "epoch: 2, result: {'Accuracy@10': 0.18409805153991202, 'Accuracy@30': 0.1723444374607165, 'Accuracy@50': 0.16559396605908233, 'Accuracy@100': 0.15314896291640478}\n"
     ]
    },
    {
     "name": "stderr",
     "output_type": "stream",
     "text": [
      " 76%|███████▌  | 7018/9207 [00:44<00:16, 132.51it/s]"
     ]
    },
    {
     "name": "stdout",
     "output_type": "stream",
     "text": [
      "epoch: 2, result: {'Accuracy@10': 0.1837837837837838, 'Accuracy@30': 0.17020741671904463, 'Accuracy@50': 0.1626524198617222, 'Accuracy@100': 0.15055939660590822}\n"
     ]
    },
    {
     "name": "stderr",
     "output_type": "stream",
     "text": [
      " 87%|████████▋ | 8024/9207 [00:50<00:09, 130.35it/s]"
     ]
    },
    {
     "name": "stdout",
     "output_type": "stream",
     "text": [
      "epoch: 2, result: {'Accuracy@10': 0.17957259585166563, 'Accuracy@30': 0.16467630421118792, 'Accuracy@50': 0.15971087366436204, 'Accuracy@100': 0.14745443117536142}\n"
     ]
    },
    {
     "name": "stderr",
     "output_type": "stream",
     "text": [
      " 98%|█████████▊| 9025/9207 [00:56<00:01, 134.95it/s]"
     ]
    },
    {
     "name": "stdout",
     "output_type": "stream",
     "text": [
      "epoch: 2, result: {'Accuracy@10': 0.17467001885606537, 'Accuracy@30': 0.16142887073119633, 'Accuracy@50': 0.15563796354494028, 'Accuracy@100': 0.14433689503456945}\n"
     ]
    },
    {
     "name": "stderr",
     "output_type": "stream",
     "text": [
      "100%|██████████| 9207/9207 [00:57<00:00, 159.33it/s]\n"
     ]
    },
    {
     "name": "stdout",
     "output_type": "stream",
     "text": [
      "loss for train: 0.0048545724\n"
     ]
    },
    {
     "name": "stderr",
     "output_type": "stream",
     "text": [
      " 66%|██████▌   | 1137/1728 [00:01<00:00, 717.60it/s]"
     ]
    },
    {
     "name": "stdout",
     "output_type": "stream",
     "text": [
      "epoch: 2, result: {'Accuracy@10': 0.1744186046511628, 'Accuracy@30': 0.160779384035198, 'Accuracy@50': 0.15504714016341922, 'Accuracy@100': 0.14347580138277813}\n"
     ]
    },
    {
     "name": "stderr",
     "output_type": "stream",
     "text": [
      "100%|██████████| 1728/1728 [00:02<00:00, 822.92it/s]\n"
     ]
    },
    {
     "name": "stdout",
     "output_type": "stream",
     "text": [
      "loss for valid: 0.0049856849\n",
      "saved model to model/user2vec-2.pt\n"
     ]
    },
    {
     "name": "stderr",
     "output_type": "stream",
     "text": [
      " 11%|█         | 1028/9207 [00:06<01:00, 134.93it/s]"
     ]
    },
    {
     "name": "stdout",
     "output_type": "stream",
     "text": [
      "epoch: 3, result: {'Accuracy@10': 0.16945317410433688, 'Accuracy@30': 0.15757385292269013, 'Accuracy@50': 0.15191703331238215, 'Accuracy@100': 0.14164676304211188}\n"
     ]
    },
    {
     "name": "stderr",
     "output_type": "stream",
     "text": [
      " 22%|██▏       | 2015/9207 [00:12<01:00, 119.56it/s]"
     ]
    },
    {
     "name": "stdout",
     "output_type": "stream",
     "text": [
      "epoch: 3, result: {'Accuracy@10': 0.166436203645506, 'Accuracy@30': 0.15564634401843705, 'Accuracy@50': 0.14935260842237585, 'Accuracy@100': 0.13935889377749844}\n"
     ]
    },
    {
     "name": "stderr",
     "output_type": "stream",
     "text": [
      " 33%|███▎      | 3021/9207 [00:18<00:47, 129.98it/s]"
     ]
    },
    {
     "name": "stdout",
     "output_type": "stream",
     "text": [
      "epoch: 3, result: {'Accuracy@10': 0.16241357636706474, 'Accuracy@30': 0.15325790907186257, 'Accuracy@50': 0.14735386549340038, 'Accuracy@100': 0.1376681332495286}\n"
     ]
    },
    {
     "name": "stderr",
     "output_type": "stream",
     "text": [
      " 44%|████▎     | 4020/9207 [00:25<00:44, 115.43it/s]"
     ]
    },
    {
     "name": "stdout",
     "output_type": "stream",
     "text": [
      "epoch: 3, result: {'Accuracy@10': 0.1563796354494029, 'Accuracy@30': 0.1487953069348418, 'Accuracy@50': 0.14408548082966688, 'Accuracy@100': 0.13543683218101824}\n"
     ]
    },
    {
     "name": "stderr",
     "output_type": "stream",
     "text": [
      " 55%|█████▍    | 5018/9207 [00:31<00:32, 130.84it/s]"
     ]
    },
    {
     "name": "stdout",
     "output_type": "stream",
     "text": [
      "epoch: 3, result: {'Accuracy@10': 0.15348837209302327, 'Accuracy@30': 0.14586214121097843, 'Accuracy@50': 0.14067881835323695, 'Accuracy@100': 0.13308610936517914}\n"
     ]
    },
    {
     "name": "stderr",
     "output_type": "stream",
     "text": [
      " 65%|██████▌   | 6020/9207 [00:37<00:26, 119.70it/s]"
     ]
    },
    {
     "name": "stdout",
     "output_type": "stream",
     "text": [
      "epoch: 3, result: {'Accuracy@10': 0.15292269013199247, 'Accuracy@30': 0.14234234234234233, 'Accuracy@50': 0.13801382778126964, 'Accuracy@100': 0.1302828409805154}\n"
     ]
    },
    {
     "name": "stderr",
     "output_type": "stream",
     "text": [
      " 76%|███████▌  | 7016/9207 [00:44<00:18, 121.10it/s]"
     ]
    },
    {
     "name": "stdout",
     "output_type": "stream",
     "text": [
      "epoch: 3, result: {'Accuracy@10': 0.14877435575109993, 'Accuracy@30': 0.13980724910957468, 'Accuracy@50': 0.13561282212445003, 'Accuracy@100': 0.1277561282212445}\n"
     ]
    },
    {
     "name": "stderr",
     "output_type": "stream",
     "text": [
      " 87%|████████▋ | 8023/9207 [00:51<00:10, 111.46it/s]"
     ]
    },
    {
     "name": "stdout",
     "output_type": "stream",
     "text": [
      "epoch: 3, result: {'Accuracy@10': 0.14399748585795097, 'Accuracy@30': 0.13693693693693693, 'Accuracy@50': 0.13253299811439345, 'Accuracy@100': 0.12509113764927718}\n"
     ]
    },
    {
     "name": "stderr",
     "output_type": "stream",
     "text": [
      " 98%|█████████▊| 9027/9207 [00:57<00:01, 130.29it/s]"
     ]
    },
    {
     "name": "stdout",
     "output_type": "stream",
     "text": [
      "epoch: 3, result: {'Accuracy@10': 0.13746071653048397, 'Accuracy@30': 0.13306096794468888, 'Accuracy@50': 0.1284978001257071, 'Accuracy@100': 0.12205531112507856}\n"
     ]
    },
    {
     "name": "stderr",
     "output_type": "stream",
     "text": [
      "100%|██████████| 9207/9207 [00:59<00:00, 155.94it/s]\n"
     ]
    },
    {
     "name": "stdout",
     "output_type": "stream",
     "text": [
      "loss for train: 0.0047011545\n"
     ]
    },
    {
     "name": "stderr",
     "output_type": "stream",
     "text": [
      " 65%|██████▌   | 1130/1728 [00:01<00:00, 694.22it/s]"
     ]
    },
    {
     "name": "stdout",
     "output_type": "stream",
     "text": [
      "epoch: 3, result: {'Accuracy@10': 0.13783783783783782, 'Accuracy@30': 0.13297716320972133, 'Accuracy@50': 0.12796983029541167, 'Accuracy@100': 0.12152734129478315}\n"
     ]
    },
    {
     "name": "stderr",
     "output_type": "stream",
     "text": [
      "100%|██████████| 1728/1728 [00:02<00:00, 810.82it/s]\n"
     ]
    },
    {
     "name": "stdout",
     "output_type": "stream",
     "text": [
      "loss for valid: 0.0048411185\n",
      "saved model to model/user2vec-3.pt\n"
     ]
    },
    {
     "name": "stderr",
     "output_type": "stream",
     "text": [
      " 11%|█         | 1018/9207 [00:06<01:01, 133.66it/s]"
     ]
    },
    {
     "name": "stdout",
     "output_type": "stream",
     "text": [
      "epoch: 4, result: {'Accuracy@10': 0.1359522313010685, 'Accuracy@30': 0.1300858998533417, 'Accuracy@50': 0.1263607793840352, 'Accuracy@100': 0.11921433060967944}\n"
     ]
    },
    {
     "name": "stderr",
     "output_type": "stream",
     "text": [
      " 22%|██▏       | 2030/9207 [00:12<00:56, 127.97it/s]"
     ]
    },
    {
     "name": "stdout",
     "output_type": "stream",
     "text": [
      "epoch: 4, result: {'Accuracy@10': 0.13475801382778127, 'Accuracy@30': 0.12849360988895872, 'Accuracy@50': 0.12463859208045255, 'Accuracy@100': 0.11737900691389064}\n"
     ]
    },
    {
     "name": "stderr",
     "output_type": "stream",
     "text": [
      " 33%|███▎      | 3013/9207 [00:18<00:50, 122.85it/s]"
     ]
    },
    {
     "name": "stdout",
     "output_type": "stream",
     "text": [
      "epoch: 4, result: {'Accuracy@10': 0.13023255813953488, 'Accuracy@30': 0.12669180808715694, 'Accuracy@50': 0.12256442489000628, 'Accuracy@100': 0.11604651162790697}\n"
     ]
    },
    {
     "name": "stderr",
     "output_type": "stream",
     "text": [
      " 44%|████▎     | 4019/9207 [00:25<00:40, 126.63it/s]"
     ]
    },
    {
     "name": "stdout",
     "output_type": "stream",
     "text": [
      "epoch: 4, result: {'Accuracy@10': 0.12627278441231932, 'Accuracy@30': 0.12388434946574482, 'Accuracy@50': 0.12042740414833439, 'Accuracy@100': 0.11476429918290383}\n"
     ]
    },
    {
     "name": "stderr",
     "output_type": "stream",
     "text": [
      " 55%|█████▍    | 5024/9207 [00:31<00:35, 118.50it/s]"
     ]
    },
    {
     "name": "stdout",
     "output_type": "stream",
     "text": [
      "epoch: 4, result: {'Accuracy@10': 0.12445003142677562, 'Accuracy@30': 0.12183113345904044, 'Accuracy@50': 0.11803896920175991, 'Accuracy@100': 0.11275298554368321}\n"
     ]
    },
    {
     "name": "stderr",
     "output_type": "stream",
     "text": [
      " 65%|██████▌   | 6023/9207 [00:38<00:24, 131.56it/s]"
     ]
    },
    {
     "name": "stdout",
     "output_type": "stream",
     "text": [
      "epoch: 4, result: {'Accuracy@10': 0.122438717787555, 'Accuracy@30': 0.11933794259375655, 'Accuracy@50': 0.1164299182903834, 'Accuracy@100': 0.11081709616593338}\n"
     ]
    },
    {
     "name": "stderr",
     "output_type": "stream",
     "text": [
      " 76%|███████▌  | 7016/9207 [00:44<00:19, 113.40it/s]"
     ]
    },
    {
     "name": "stdout",
     "output_type": "stream",
     "text": [
      "epoch: 4, result: {'Accuracy@10': 0.11854179761156505, 'Accuracy@30': 0.11774565262937356, 'Accuracy@50': 0.11464487743557511, 'Accuracy@100': 0.10883092394720302}\n"
     ]
    },
    {
     "name": "stderr",
     "output_type": "stream",
     "text": [
      " 87%|████████▋ | 8014/9207 [00:50<00:09, 120.12it/s]"
     ]
    },
    {
     "name": "stdout",
     "output_type": "stream",
     "text": [
      "epoch: 4, result: {'Accuracy@10': 0.11433060967944689, 'Accuracy@30': 0.11491724282421957, 'Accuracy@50': 0.11229415461973602, 'Accuracy@100': 0.10749214330609679}\n"
     ]
    },
    {
     "name": "stderr",
     "output_type": "stream",
     "text": [
      " 98%|█████████▊| 9016/9207 [00:56<00:01, 111.76it/s]"
     ]
    },
    {
     "name": "stdout",
     "output_type": "stream",
     "text": [
      "epoch: 4, result: {'Accuracy@10': 0.11162790697674418, 'Accuracy@30': 0.11102032264822963, 'Accuracy@50': 0.10867379006913891, 'Accuracy@100': 0.1049277184160905}\n"
     ]
    },
    {
     "name": "stderr",
     "output_type": "stream",
     "text": [
      "100%|██████████| 9207/9207 [00:58<00:00, 158.60it/s]\n"
     ]
    },
    {
     "name": "stdout",
     "output_type": "stream",
     "text": [
      "loss for train: 0.0046367292\n"
     ]
    },
    {
     "name": "stderr",
     "output_type": "stream",
     "text": [
      " 65%|██████▍   | 1117/1728 [00:01<00:00, 626.88it/s]"
     ]
    },
    {
     "name": "stdout",
     "output_type": "stream",
     "text": [
      "epoch: 4, result: {'Accuracy@10': 0.11231929604022628, 'Accuracy@30': 0.11095746909700398, 'Accuracy@50': 0.10856065367693274, 'Accuracy@100': 0.10440603394091767}\n"
     ]
    },
    {
     "name": "stderr",
     "output_type": "stream",
     "text": [
      "100%|██████████| 1728/1728 [00:02<00:00, 801.49it/s]\n"
     ]
    },
    {
     "name": "stdout",
     "output_type": "stream",
     "text": [
      "loss for valid: 0.0047666888\n",
      "saved model to model/user2vec-4.pt\n"
     ]
    },
    {
     "name": "stderr",
     "output_type": "stream",
     "text": [
      " 11%|█         | 1030/9207 [00:06<01:01, 132.95it/s]"
     ]
    },
    {
     "name": "stdout",
     "output_type": "stream",
     "text": [
      "epoch: 5, result: {'Accuracy@10': 0.10999371464487744, 'Accuracy@30': 0.10917661847894405, 'Accuracy@50': 0.10737900691389063, 'Accuracy@100': 0.10304211187932118}\n"
     ]
    },
    {
     "name": "stderr",
     "output_type": "stream",
     "text": [
      " 22%|██▏       | 2028/9207 [00:12<00:55, 128.76it/s]"
     ]
    },
    {
     "name": "stdout",
     "output_type": "stream",
     "text": [
      "epoch: 5, result: {'Accuracy@10': 0.10823381521055939, 'Accuracy@30': 0.10806620574062434, 'Accuracy@50': 0.10604651162790697, 'Accuracy@100': 0.10200502828409805}\n"
     ]
    },
    {
     "name": "stderr",
     "output_type": "stream",
     "text": [
      " 33%|███▎      | 3027/9207 [00:19<00:48, 127.75it/s]"
     ]
    },
    {
     "name": "stdout",
     "output_type": "stream",
     "text": [
      "epoch: 5, result: {'Accuracy@10': 0.10886235072281585, 'Accuracy@30': 0.10739576786088414, 'Accuracy@50': 0.10554368321810183, 'Accuracy@100': 0.10177247014456317}\n"
     ]
    },
    {
     "name": "stderr",
     "output_type": "stream",
     "text": [
      " 44%|████▎     | 4019/9207 [00:25<00:41, 124.38it/s]"
     ]
    },
    {
     "name": "stdout",
     "output_type": "stream",
     "text": [
      "epoch: 5, result: {'Accuracy@10': 0.10546825895663106, 'Accuracy@30': 0.10559396605908233, 'Accuracy@50': 0.10354494028912634, 'Accuracy@100': 0.1008673790069139}\n"
     ]
    },
    {
     "name": "stderr",
     "output_type": "stream",
     "text": [
      " 55%|█████▍    | 5031/9207 [00:31<00:32, 129.71it/s]"
     ]
    },
    {
     "name": "stdout",
     "output_type": "stream",
     "text": [
      "epoch: 5, result: {'Accuracy@10': 0.10219987429289754, 'Accuracy@30': 0.10343599413366857, 'Accuracy@50': 0.10285355122564425, 'Accuracy@100': 0.09898805782526714}\n"
     ]
    },
    {
     "name": "stderr",
     "output_type": "stream",
     "text": [
      " 65%|██████▌   | 6026/9207 [00:37<00:26, 120.76it/s]"
     ]
    },
    {
     "name": "stdout",
     "output_type": "stream",
     "text": [
      "epoch: 5, result: {'Accuracy@10': 0.10131992457573853, 'Accuracy@30': 0.10201131363922061, 'Accuracy@50': 0.10062853551225644, 'Accuracy@100': 0.09788183532369579}\n"
     ]
    },
    {
     "name": "stderr",
     "output_type": "stream",
     "text": [
      " 76%|███████▌  | 7017/9207 [00:43<00:16, 130.47it/s]"
     ]
    },
    {
     "name": "stdout",
     "output_type": "stream",
     "text": [
      "epoch: 5, result: {'Accuracy@10': 0.09943431803896921, 'Accuracy@30': 0.10064948669599832, 'Accuracy@50': 0.09967316153362665, 'Accuracy@100': 0.0964487743557511}\n"
     ]
    },
    {
     "name": "stderr",
     "output_type": "stream",
     "text": [
      " 87%|████████▋ | 8022/9207 [00:50<00:09, 118.80it/s]"
     ]
    },
    {
     "name": "stdout",
     "output_type": "stream",
     "text": [
      "epoch: 5, result: {'Accuracy@10': 0.09604022627278441, 'Accuracy@30': 0.09742300439974859, 'Accuracy@50': 0.09788812067881836, 'Accuracy@100': 0.09501571338780641}\n"
     ]
    },
    {
     "name": "stderr",
     "output_type": "stream",
     "text": [
      " 98%|█████████▊| 9026/9207 [00:56<00:01, 129.18it/s]"
     ]
    },
    {
     "name": "stdout",
     "output_type": "stream",
     "text": [
      "epoch: 5, result: {'Accuracy@10': 0.09358893777498428, 'Accuracy@30': 0.093463230672533, 'Accuracy@50': 0.09546197360150849, 'Accuracy@100': 0.09304211187932118}\n"
     ]
    },
    {
     "name": "stderr",
     "output_type": "stream",
     "text": [
      "100%|██████████| 9207/9207 [00:57<00:00, 159.69it/s]\n"
     ]
    },
    {
     "name": "stdout",
     "output_type": "stream",
     "text": [
      "loss for train: 0.0046033406\n"
     ]
    },
    {
     "name": "stderr",
     "output_type": "stream",
     "text": [
      " 62%|██████▏   | 1069/1728 [00:01<00:01, 657.93it/s]"
     ]
    },
    {
     "name": "stdout",
     "output_type": "stream",
     "text": [
      "epoch: 5, result: {'Accuracy@10': 0.09377749842866122, 'Accuracy@30': 0.0933584747538236, 'Accuracy@50': 0.09505971087366437, 'Accuracy@100': 0.09288497800125707}\n"
     ]
    },
    {
     "name": "stderr",
     "output_type": "stream",
     "text": [
      "100%|██████████| 1728/1728 [00:02<00:00, 805.84it/s]\n"
     ]
    },
    {
     "name": "stdout",
     "output_type": "stream",
     "text": [
      "loss for valid: 0.0047244682\n",
      "saved model to model/user2vec-5.pt\n"
     ]
    },
    {
     "name": "stderr",
     "output_type": "stream",
     "text": [
      " 11%|█         | 1020/9207 [00:06<01:02, 131.86it/s]"
     ]
    },
    {
     "name": "stdout",
     "output_type": "stream",
     "text": [
      "epoch: 6, result: {'Accuracy@10': 0.09327467001885606, 'Accuracy@30': 0.09314896291640479, 'Accuracy@50': 0.0943808925204274, 'Accuracy@100': 0.09182275298554368}\n"
     ]
    },
    {
     "name": "stderr",
     "output_type": "stream",
     "text": [
      " 22%|██▏       | 2018/9207 [00:12<01:01, 116.75it/s]"
     ]
    },
    {
     "name": "stdout",
     "output_type": "stream",
     "text": [
      "epoch: 6, result: {'Accuracy@10': 0.0939032055311125, 'Accuracy@30': 0.09373559606117746, 'Accuracy@50': 0.09384035197988685, 'Accuracy@100': 0.09149591451917033}\n"
     ]
    },
    {
     "name": "stderr",
     "output_type": "stream",
     "text": [
      " 33%|███▎      | 3021/9207 [00:18<00:46, 133.72it/s]"
     ]
    },
    {
     "name": "stdout",
     "output_type": "stream",
     "text": [
      "epoch: 6, result: {'Accuracy@10': 0.0944688874921433, 'Accuracy@30': 0.0940289126335638, 'Accuracy@50': 0.09400377121307354, 'Accuracy@100': 0.09164676304211188}\n"
     ]
    },
    {
     "name": "stderr",
     "output_type": "stream",
     "text": [
      " 44%|████▎     | 4026/9207 [00:25<00:43, 119.91it/s]"
     ]
    },
    {
     "name": "stdout",
     "output_type": "stream",
     "text": [
      "epoch: 6, result: {'Accuracy@10': 0.09157762413576367, 'Accuracy@30': 0.09275089042530903, 'Accuracy@50': 0.09284726587052168, 'Accuracy@100': 0.09080452545568825}\n"
     ]
    },
    {
     "name": "stderr",
     "output_type": "stream",
     "text": [
      " 55%|█████▍    | 5022/9207 [00:31<00:30, 135.41it/s]"
     ]
    },
    {
     "name": "stdout",
     "output_type": "stream",
     "text": [
      "epoch: 6, result: {'Accuracy@10': 0.09132620993086109, 'Accuracy@30': 0.0910957469097004, 'Accuracy@50': 0.09174104336895034, 'Accuracy@100': 0.08969830295411692}\n"
     ]
    },
    {
     "name": "stderr",
     "output_type": "stream",
     "text": [
      " 65%|██████▌   | 6022/9207 [00:37<00:27, 114.08it/s]"
     ]
    },
    {
     "name": "stdout",
     "output_type": "stream",
     "text": [
      "epoch: 6, result: {'Accuracy@10': 0.0886235072281584, 'Accuracy@30': 0.08971296878273623, 'Accuracy@50': 0.09009428032683847, 'Accuracy@100': 0.08827152734129479}\n"
     ]
    },
    {
     "name": "stderr",
     "output_type": "stream",
     "text": [
      " 76%|███████▋  | 7031/9207 [00:44<00:16, 135.33it/s]"
     ]
    },
    {
     "name": "stdout",
     "output_type": "stream",
     "text": [
      "epoch: 6, result: {'Accuracy@10': 0.08786926461345065, 'Accuracy@30': 0.08870731196312591, 'Accuracy@50': 0.08937774984286612, 'Accuracy@100': 0.08760527969830295}\n"
     ]
    },
    {
     "name": "stderr",
     "output_type": "stream",
     "text": [
      " 87%|████████▋ | 8027/9207 [00:50<00:08, 135.17it/s]"
     ]
    },
    {
     "name": "stdout",
     "output_type": "stream",
     "text": [
      "epoch: 6, result: {'Accuracy@10': 0.08453802639849152, 'Accuracy@30': 0.08680075424261471, 'Accuracy@50': 0.088196103079824, 'Accuracy@100': 0.0870144563167819}\n"
     ]
    },
    {
     "name": "stderr",
     "output_type": "stream",
     "text": [
      " 98%|█████████▊| 9024/9207 [00:56<00:01, 128.64it/s]"
     ]
    },
    {
     "name": "stdout",
     "output_type": "stream",
     "text": [
      "epoch: 6, result: {'Accuracy@10': 0.0826524198617222, 'Accuracy@30': 0.08499895244081292, 'Accuracy@50': 0.08595851665619109, 'Accuracy@100': 0.08531112507856693}\n"
     ]
    },
    {
     "name": "stderr",
     "output_type": "stream",
     "text": [
      "100%|██████████| 9207/9207 [00:57<00:00, 159.03it/s]\n"
     ]
    },
    {
     "name": "stdout",
     "output_type": "stream",
     "text": [
      "loss for train: 0.0045831564\n"
     ]
    },
    {
     "name": "stderr",
     "output_type": "stream",
     "text": [
      " 66%|██████▌   | 1139/1728 [00:01<00:00, 632.64it/s]"
     ]
    },
    {
     "name": "stdout",
     "output_type": "stream",
     "text": [
      "epoch: 6, result: {'Accuracy@10': 0.08359522313010685, 'Accuracy@30': 0.08543892729939243, 'Accuracy@50': 0.08568196103079824, 'Accuracy@100': 0.08526712759270899}\n"
     ]
    },
    {
     "name": "stderr",
     "output_type": "stream",
     "text": [
      "100%|██████████| 1728/1728 [00:02<00:00, 797.57it/s]\n"
     ]
    },
    {
     "name": "stdout",
     "output_type": "stream",
     "text": [
      "loss for valid: 0.0046984058\n",
      "saved model to model/user2vec-6.pt\n"
     ]
    },
    {
     "name": "stderr",
     "output_type": "stream",
     "text": [
      " 11%|█         | 1026/9207 [00:06<01:00, 135.34it/s]"
     ]
    },
    {
     "name": "stdout",
     "output_type": "stream",
     "text": [
      "epoch: 7, result: {'Accuracy@10': 0.08208673790069139, 'Accuracy@30': 0.08483134297087785, 'Accuracy@50': 0.0850534255185418, 'Accuracy@100': 0.08444374607165304}\n"
     ]
    },
    {
     "name": "stderr",
     "output_type": "stream",
     "text": [
      " 22%|██▏       | 2018/9207 [00:12<00:58, 123.08it/s]"
     ]
    },
    {
     "name": "stdout",
     "output_type": "stream",
     "text": [
      "epoch: 7, result: {'Accuracy@10': 0.08390949088623507, 'Accuracy@30': 0.08481039178713597, 'Accuracy@50': 0.08521684475172847, 'Accuracy@100': 0.08418604651162792}\n"
     ]
    },
    {
     "name": "stderr",
     "output_type": "stream",
     "text": [
      " 33%|███▎      | 3014/9207 [00:19<00:51, 119.94it/s]"
     ]
    },
    {
     "name": "stdout",
     "output_type": "stream",
     "text": [
      "epoch: 7, result: {'Accuracy@10': 0.08434946574481458, 'Accuracy@30': 0.08543892729939243, 'Accuracy@50': 0.0850157133878064, 'Accuracy@100': 0.08402262727844123}\n"
     ]
    },
    {
     "name": "stderr",
     "output_type": "stream",
     "text": [
      " 44%|████▎     | 4022/9207 [00:26<00:39, 130.57it/s]"
     ]
    },
    {
     "name": "stdout",
     "output_type": "stream",
     "text": [
      "epoch: 7, result: {'Accuracy@10': 0.08397234443746072, 'Accuracy@30': 0.08424470982610517, 'Accuracy@50': 0.08367064739157762, 'Accuracy@100': 0.08361407919547455}\n"
     ]
    },
    {
     "name": "stderr",
     "output_type": "stream",
     "text": [
      " 55%|█████▍    | 5025/9207 [00:32<00:30, 138.38it/s]"
     ]
    },
    {
     "name": "stdout",
     "output_type": "stream",
     "text": [
      "epoch: 7, result: {'Accuracy@10': 0.08158390949088623, 'Accuracy@30': 0.08277812696417347, 'Accuracy@50': 0.08333123821495915, 'Accuracy@100': 0.08296668761785041}\n"
     ]
    },
    {
     "name": "stderr",
     "output_type": "stream",
     "text": [
      " 65%|██████▌   | 6023/9207 [00:38<00:24, 131.97it/s]"
     ]
    },
    {
     "name": "stdout",
     "output_type": "stream",
     "text": [
      "epoch: 7, result: {'Accuracy@10': 0.08240100565681961, 'Accuracy@30': 0.0824219568405615, 'Accuracy@50': 0.08282840980515399, 'Accuracy@100': 0.08220615964802011}\n"
     ]
    },
    {
     "name": "stderr",
     "output_type": "stream",
     "text": [
      " 76%|███████▋  | 7030/9207 [00:45<00:16, 132.50it/s]"
     ]
    },
    {
     "name": "stdout",
     "output_type": "stream",
     "text": [
      "epoch: 7, result: {'Accuracy@10': 0.08051539912005028, 'Accuracy@30': 0.0813953488372093, 'Accuracy@50': 0.08202388434946574, 'Accuracy@100': 0.08193588937774984}\n"
     ]
    },
    {
     "name": "stderr",
     "output_type": "stream",
     "text": [
      " 87%|████████▋ | 8016/9207 [00:51<00:09, 121.47it/s]"
     ]
    },
    {
     "name": "stdout",
     "output_type": "stream",
     "text": [
      "epoch: 7, result: {'Accuracy@10': 0.07818981772470145, 'Accuracy@30': 0.08053635030379216, 'Accuracy@50': 0.08087994971715902, 'Accuracy@100': 0.0812193588937775}\n"
     ]
    },
    {
     "name": "stderr",
     "output_type": "stream",
     "text": [
      " 98%|█████████▊| 9016/9207 [00:57<00:01, 131.72it/s]"
     ]
    },
    {
     "name": "stdout",
     "output_type": "stream",
     "text": [
      "epoch: 7, result: {'Accuracy@10': 0.07680703959773727, 'Accuracy@30': 0.07875549968573224, 'Accuracy@50': 0.08, 'Accuracy@100': 0.08006285355122564}\n"
     ]
    },
    {
     "name": "stderr",
     "output_type": "stream",
     "text": [
      "100%|██████████| 9207/9207 [00:59<00:00, 155.84it/s]\n"
     ]
    },
    {
     "name": "stdout",
     "output_type": "stream",
     "text": [
      "loss for train: 0.0045690801\n"
     ]
    },
    {
     "name": "stderr",
     "output_type": "stream",
     "text": [
      " 61%|██████    | 1058/1728 [00:01<00:01, 651.69it/s]"
     ]
    },
    {
     "name": "stdout",
     "output_type": "stream",
     "text": [
      "epoch: 7, result: {'Accuracy@10': 0.07624135763670647, 'Accuracy@30': 0.07921642572805364, 'Accuracy@50': 0.07961030798240101, 'Accuracy@100': 0.0799811439346323}\n"
     ]
    },
    {
     "name": "stderr",
     "output_type": "stream",
     "text": [
      "100%|██████████| 1728/1728 [00:02<00:00, 813.91it/s]\n"
     ]
    },
    {
     "name": "stdout",
     "output_type": "stream",
     "text": [
      "loss for valid: 0.0046804262\n",
      "saved model to model/user2vec-7.pt\n"
     ]
    },
    {
     "name": "stderr",
     "output_type": "stream",
     "text": [
      " 11%|█         | 1014/9207 [00:06<01:07, 122.08it/s]"
     ]
    },
    {
     "name": "stdout",
     "output_type": "stream",
     "text": [
      "epoch: 8, result: {'Accuracy@10': 0.0759899434318039, 'Accuracy@30': 0.07850408548082967, 'Accuracy@50': 0.07945945945945945, 'Accuracy@100': 0.07947831552482715}\n"
     ]
    },
    {
     "name": "stderr",
     "output_type": "stream",
     "text": [
      " 22%|██▏       | 2024/9207 [00:12<00:59, 120.29it/s]"
     ]
    },
    {
     "name": "stdout",
     "output_type": "stream",
     "text": [
      "epoch: 8, result: {'Accuracy@10': 0.07856693903205532, 'Accuracy@30': 0.07915357217682799, 'Accuracy@50': 0.07940917661847895, 'Accuracy@100': 0.07907605279698303}\n"
     ]
    },
    {
     "name": "stderr",
     "output_type": "stream",
     "text": [
      " 33%|███▎      | 3023/9207 [00:18<00:45, 134.95it/s]"
     ]
    },
    {
     "name": "stdout",
     "output_type": "stream",
     "text": [
      "epoch: 8, result: {'Accuracy@10': 0.0798240100565682, 'Accuracy@30': 0.07986591242405196, 'Accuracy@50': 0.07899434318038968, 'Accuracy@100': 0.07953488372093023}\n"
     ]
    },
    {
     "name": "stderr",
     "output_type": "stream",
     "text": [
      " 44%|████▎     | 4014/9207 [00:25<00:56, 92.20it/s] "
     ]
    },
    {
     "name": "stdout",
     "output_type": "stream",
     "text": [
      "epoch: 8, result: {'Accuracy@10': 0.07806411062225016, 'Accuracy@30': 0.07875549968573224, 'Accuracy@50': 0.0787806411062225, 'Accuracy@100': 0.07837837837837838}\n"
     ]
    },
    {
     "name": "stderr",
     "output_type": "stream",
     "text": [
      " 55%|█████▍    | 5018/9207 [00:32<00:31, 134.48it/s]"
     ]
    },
    {
     "name": "stdout",
     "output_type": "stream",
     "text": [
      "epoch: 8, result: {'Accuracy@10': 0.07674418604651163, 'Accuracy@30': 0.07726796564005865, 'Accuracy@50': 0.07827781269641734, 'Accuracy@100': 0.07811439346323067}\n"
     ]
    },
    {
     "name": "stderr",
     "output_type": "stream",
     "text": [
      " 65%|██████▌   | 6017/9207 [00:38<00:26, 119.74it/s]"
     ]
    },
    {
     "name": "stdout",
     "output_type": "stream",
     "text": [
      "epoch: 8, result: {'Accuracy@10': 0.07818981772470145, 'Accuracy@30': 0.0777917452336057, 'Accuracy@50': 0.07817724701445632, 'Accuracy@100': 0.07745443117536141}\n"
     ]
    },
    {
     "name": "stderr",
     "output_type": "stream",
     "text": [
      " 76%|███████▌  | 7018/9207 [00:44<00:16, 134.43it/s]"
     ]
    },
    {
     "name": "stdout",
     "output_type": "stream",
     "text": [
      "epoch: 8, result: {'Accuracy@10': 0.07743557510999372, 'Accuracy@30': 0.07728891682380054, 'Accuracy@50': 0.07787554996857322, 'Accuracy@100': 0.07721558768070395}\n"
     ]
    },
    {
     "name": "stderr",
     "output_type": "stream",
     "text": [
      " 87%|████████▋ | 8016/9207 [00:51<00:09, 124.77it/s]"
     ]
    },
    {
     "name": "stdout",
     "output_type": "stream",
     "text": [
      "epoch: 8, result: {'Accuracy@10': 0.07423004399748587, 'Accuracy@30': 0.076325162371674, 'Accuracy@50': 0.07660590823381522, 'Accuracy@100': 0.07663104965430546}\n"
     ]
    },
    {
     "name": "stderr",
     "output_type": "stream",
     "text": [
      " 98%|█████████▊| 9016/9207 [00:57<00:01, 121.51it/s]"
     ]
    },
    {
     "name": "stdout",
     "output_type": "stream",
     "text": [
      "epoch: 8, result: {'Accuracy@10': 0.07196731615336267, 'Accuracy@30': 0.07473287240729101, 'Accuracy@50': 0.0755499685732244, 'Accuracy@100': 0.0755499685732244}\n"
     ]
    },
    {
     "name": "stderr",
     "output_type": "stream",
     "text": [
      "100%|██████████| 9207/9207 [00:58<00:00, 156.99it/s]\n"
     ]
    },
    {
     "name": "stdout",
     "output_type": "stream",
     "text": [
      "loss for train: 0.0045594475\n"
     ]
    },
    {
     "name": "stderr",
     "output_type": "stream",
     "text": [
      " 66%|██████▌   | 1135/1728 [00:01<00:00, 635.44it/s]"
     ]
    },
    {
     "name": "stdout",
     "output_type": "stream",
     "text": [
      "epoch: 8, result: {'Accuracy@10': 0.07303582652419863, 'Accuracy@30': 0.07517284726587052, 'Accuracy@50': 0.07522313010685104, 'Accuracy@100': 0.07527341294783155}\n"
     ]
    },
    {
     "name": "stderr",
     "output_type": "stream",
     "text": [
      "100%|██████████| 1728/1728 [00:02<00:00, 808.77it/s]\n"
     ]
    },
    {
     "name": "stdout",
     "output_type": "stream",
     "text": [
      "loss for valid: 0.0046683755\n",
      "saved model to model/user2vec-8.pt\n"
     ]
    },
    {
     "name": "stderr",
     "output_type": "stream",
     "text": [
      " 11%|█         | 1031/9207 [00:06<00:59, 137.16it/s]"
     ]
    },
    {
     "name": "stdout",
     "output_type": "stream",
     "text": [
      "epoch: 9, result: {'Accuracy@10': 0.07272155876807039, 'Accuracy@30': 0.07492143306096795, 'Accuracy@50': 0.07480829666876178, 'Accuracy@100': 0.07515399120050283}\n"
     ]
    },
    {
     "name": "stderr",
     "output_type": "stream",
     "text": [
      " 22%|██▏       | 2012/9207 [00:12<00:59, 120.98it/s]"
     ]
    },
    {
     "name": "stdout",
     "output_type": "stream",
     "text": [
      "epoch: 9, result: {'Accuracy@10': 0.07636706473915776, 'Accuracy@30': 0.0759899434318039, 'Accuracy@50': 0.07519798868636078, 'Accuracy@100': 0.074487743557511}\n"
     ]
    },
    {
     "name": "stderr",
     "output_type": "stream",
     "text": [
      " 33%|███▎      | 3024/9207 [00:18<00:47, 129.63it/s]"
     ]
    },
    {
     "name": "stdout",
     "output_type": "stream",
     "text": [
      "epoch: 9, result: {'Accuracy@10': 0.07686989314896292, 'Accuracy@30': 0.07582233396186885, 'Accuracy@50': 0.07570081709616593, 'Accuracy@100': 0.07522313010685104}\n"
     ]
    },
    {
     "name": "stderr",
     "output_type": "stream",
     "text": [
      " 44%|████▎     | 4018/9207 [00:25<00:39, 130.46it/s]"
     ]
    },
    {
     "name": "stdout",
     "output_type": "stream",
     "text": [
      "epoch: 9, result: {'Accuracy@10': 0.07467001885606536, 'Accuracy@30': 0.07473287240729101, 'Accuracy@50': 0.07532369578881207, 'Accuracy@100': 0.07452545568824638}\n"
     ]
    },
    {
     "name": "stderr",
     "output_type": "stream",
     "text": [
      " 54%|█████▍    | 5016/9207 [00:31<00:33, 124.93it/s]"
     ]
    },
    {
     "name": "stdout",
     "output_type": "stream",
     "text": [
      "epoch: 9, result: {'Accuracy@10': 0.0748585795097423, 'Accuracy@30': 0.07431384873245338, 'Accuracy@50': 0.07468258956631049, 'Accuracy@100': 0.07431803896920176}\n"
     ]
    },
    {
     "name": "stderr",
     "output_type": "stream",
     "text": [
      " 65%|██████▌   | 6021/9207 [00:37<00:26, 118.75it/s]"
     ]
    },
    {
     "name": "stdout",
     "output_type": "stream",
     "text": [
      "epoch: 9, result: {'Accuracy@10': 0.07448145820238844, 'Accuracy@30': 0.07448145820238844, 'Accuracy@50': 0.0743306096794469, 'Accuracy@100': 0.0740289126335638}\n"
     ]
    },
    {
     "name": "stderr",
     "output_type": "stream",
     "text": [
      " 76%|███████▋  | 7024/9207 [00:43<00:17, 125.51it/s]"
     ]
    },
    {
     "name": "stdout",
     "output_type": "stream",
     "text": [
      "epoch: 9, result: {'Accuracy@10': 0.07435575109993715, 'Accuracy@30': 0.07366436203645506, 'Accuracy@50': 0.07444374607165305, 'Accuracy@100': 0.07334380892520427}\n"
     ]
    },
    {
     "name": "stderr",
     "output_type": "stream",
     "text": [
      " 87%|████████▋ | 8024/9207 [00:49<00:09, 118.99it/s]"
     ]
    },
    {
     "name": "stdout",
     "output_type": "stream",
     "text": [
      "epoch: 9, result: {'Accuracy@10': 0.07177875549968574, 'Accuracy@30': 0.07347580138277812, 'Accuracy@50': 0.0728095537397863, 'Accuracy@100': 0.07308610936517913}\n"
     ]
    },
    {
     "name": "stderr",
     "output_type": "stream",
     "text": [
      " 98%|█████████▊| 9026/9207 [00:56<00:01, 134.54it/s]"
     ]
    },
    {
     "name": "stdout",
     "output_type": "stream",
     "text": [
      "epoch: 9, result: {'Accuracy@10': 0.0698931489629164, 'Accuracy@30': 0.07219777917452336, 'Accuracy@50': 0.07205531112507857, 'Accuracy@100': 0.07227529855436832}\n"
     ]
    },
    {
     "name": "stderr",
     "output_type": "stream",
     "text": [
      "100%|██████████| 9207/9207 [00:57<00:00, 160.55it/s]\n"
     ]
    },
    {
     "name": "stdout",
     "output_type": "stream",
     "text": [
      "loss for train: 0.0045516634\n"
     ]
    },
    {
     "name": "stderr",
     "output_type": "stream",
     "text": [
      " 62%|██████▏   | 1065/1728 [00:01<00:00, 671.85it/s]"
     ]
    },
    {
     "name": "stdout",
     "output_type": "stream",
     "text": [
      "epoch: 9, result: {'Accuracy@10': 0.06970458830923947, 'Accuracy@30': 0.07186256023465326, 'Accuracy@50': 0.07161533626649906, 'Accuracy@100': 0.07199245757385292}\n"
     ]
    },
    {
     "name": "stderr",
     "output_type": "stream",
     "text": [
      "100%|██████████| 1728/1728 [00:02<00:00, 816.28it/s]"
     ]
    },
    {
     "name": "stdout",
     "output_type": "stream",
     "text": [
      "loss for valid: 0.0046585808\n",
      "saved model to model/user2vec-9.pt\n"
     ]
    },
    {
     "name": "stderr",
     "output_type": "stream",
     "text": [
      "\n"
     ]
    }
   ],
   "source": [
    "results = {}\n",
    "\n",
    "for run_config in run_configs:\n",
    "    set_seed(0)\n",
    "\n",
    "    results[run_config[\"name\"]] = {\"accuracy\": []}\n",
    "    model_config = ModelConfig(\n",
    "        max_embedding_norm=1,\n",
    "        d_model=run_config[\"d_model\"],\n",
    "        use_attention=run_config[\"use_attention\"],\n",
    "        use_meta=run_config[\"use_meta\"],\n",
    "        use_weight_tying=run_config[\"use_weight_tying\"],\n",
    "    )\n",
    "    trainer_config = TrainerConfig(\n",
    "        dataset_name=\"movielens\",\n",
    "        lr=1e-4,\n",
    "        model_name=run_config[\"model_name\"],\n",
    "        epochs=5,\n",
    "    )\n",
    "\n",
    "    print(model_config)\n",
    "    print(trainer_config)\n",
    "\n",
    "    dataset_center = load_dataset_center(\n",
    "        dataset_name=trainer_config.dataset_name,\n",
    "        window_size=model_config.window_size,\n",
    "        data_dir=\"../data\",\n",
    "    )\n",
    "    model = load_model(\n",
    "        dataset_center=dataset_center,\n",
    "        trainer_config=trainer_config,\n",
    "        model_config=model_config,\n",
    "    )\n",
    "    trainer = PyTorchTrainer(\n",
    "        model=model,\n",
    "        dataset_center=dataset_center,\n",
    "        trainer_config=trainer_config,\n",
    "    )\n",
    "\n",
    "    def on_iter_end(epoch: int, batch: int) -> None:\n",
    "        if (batch + 1) % 1000 == 0:\n",
    "            result = calc_accuracy(\n",
    "                model=model,\n",
    "                num_item=dataset_center.num_item,\n",
    "                test_dataset=dataset_center.test_datasets[\"test\"],\n",
    "                top_k=[10, 30, 50, 100],\n",
    "            )\n",
    "            print(f\"epoch: {epoch}, result: {result}\")\n",
    "            results[run_config[\"name\"]][\"accuracy\"].append(result)\n",
    "\n",
    "            with open(\"result.json\", \"w\") as f:\n",
    "                json.dump(results, f)\n",
    "\n",
    "    losses = trainer.fit(on_iter_end=on_iter_end)\n",
    "    results[run_config[\"name\"]][\"loss\"] = losses"
   ]
  },
  {
   "cell_type": "code",
   "execution_count": 6,
   "metadata": {},
   "outputs": [
    {
     "data": {
      "text/html": [
       "<div>\n",
       "<style scoped>\n",
       "    .dataframe tbody tr th:only-of-type {\n",
       "        vertical-align: middle;\n",
       "    }\n",
       "\n",
       "    .dataframe tbody tr th {\n",
       "        vertical-align: top;\n",
       "    }\n",
       "\n",
       "    .dataframe thead th {\n",
       "        text-align: right;\n",
       "    }\n",
       "</style>\n",
       "<table border=\"1\" class=\"dataframe\">\n",
       "  <thead>\n",
       "    <tr style=\"text-align: right;\">\n",
       "      <th></th>\n",
       "      <th>Accuracy@30</th>\n",
       "      <th>Accuracy@50</th>\n",
       "      <th>Accuracy@100</th>\n",
       "    </tr>\n",
       "  </thead>\n",
       "  <tbody>\n",
       "    <tr>\n",
       "      <th>AAU2V (d=16)</th>\n",
       "      <td>0.2090</td>\n",
       "      <td>0.1935</td>\n",
       "      <td>0.1720</td>\n",
       "    </tr>\n",
       "    <tr>\n",
       "      <th>AAU2V (d=32)</th>\n",
       "      <td>0.2108</td>\n",
       "      <td>0.1960</td>\n",
       "      <td>0.1759</td>\n",
       "    </tr>\n",
       "    <tr>\n",
       "      <th>AAU2V (d=64)</th>\n",
       "      <td>0.2109</td>\n",
       "      <td>0.1985</td>\n",
       "      <td>0.1787</td>\n",
       "    </tr>\n",
       "    <tr>\n",
       "      <th>AAU2V w/o WT</th>\n",
       "      <td>0.2121</td>\n",
       "      <td>0.1987</td>\n",
       "      <td>0.1802</td>\n",
       "    </tr>\n",
       "    <tr>\n",
       "      <th>AAU2V w/o AT</th>\n",
       "      <td>0.2110</td>\n",
       "      <td>0.1984</td>\n",
       "      <td>0.1784</td>\n",
       "    </tr>\n",
       "    <tr>\n",
       "      <th>AAU2V w/o AI</th>\n",
       "      <td>0.2003</td>\n",
       "      <td>0.1916</td>\n",
       "      <td>0.1724</td>\n",
       "    </tr>\n",
       "    <tr>\n",
       "      <th>User2Vec (d=16)</th>\n",
       "      <td>0.1839</td>\n",
       "      <td>0.1761</td>\n",
       "      <td>0.1591</td>\n",
       "    </tr>\n",
       "    <tr>\n",
       "      <th>User2Vec (d=32)</th>\n",
       "      <td>0.1887</td>\n",
       "      <td>0.1802</td>\n",
       "      <td>0.1630</td>\n",
       "    </tr>\n",
       "    <tr>\n",
       "      <th>User2Vec (d=64)</th>\n",
       "      <td>0.2014</td>\n",
       "      <td>0.1907</td>\n",
       "      <td>0.1726</td>\n",
       "    </tr>\n",
       "  </tbody>\n",
       "</table>\n",
       "</div>"
      ],
      "text/plain": [
       "                 Accuracy@30  Accuracy@50  Accuracy@100\n",
       "AAU2V (d=16)          0.2090       0.1935        0.1720\n",
       "AAU2V (d=32)          0.2108       0.1960        0.1759\n",
       "AAU2V (d=64)          0.2109       0.1985        0.1787\n",
       "AAU2V w/o WT          0.2121       0.1987        0.1802\n",
       "AAU2V w/o AT          0.2110       0.1984        0.1784\n",
       "AAU2V w/o AI          0.2003       0.1916        0.1724\n",
       "User2Vec (d=16)       0.1839       0.1761        0.1591\n",
       "User2Vec (d=32)       0.1887       0.1802        0.1630\n",
       "User2Vec (d=64)       0.2014       0.1907        0.1726"
      ]
     },
     "execution_count": 6,
     "metadata": {},
     "output_type": "execute_result"
    }
   ],
   "source": [
    "with open(\"result.json\", \"r\") as f:\n",
    "    results = json.load(f)\n",
    "\n",
    "top_k = [30, 50, 100]\n",
    "data = {}\n",
    "for method, result in results.items():\n",
    "    data[method] = []\n",
    "    for k in top_k:\n",
    "        a = max(map(lambda r: r[f\"Accuracy@{k}\"], result[\"accuracy\"]))\n",
    "        data[method].append(a)\n",
    "\n",
    "pd.options.display.precision = 4\n",
    "df = pd.DataFrame(data).T\n",
    "df.columns = [f\"Accuracy@{k}\" for k in top_k]\n",
    "df"
   ]
  }
 ],
 "metadata": {
  "kernelspec": {
   "display_name": ".venv",
   "language": "python",
   "name": "python3"
  },
  "language_info": {
   "codemirror_mode": {
    "name": "ipython",
    "version": 3
   },
   "file_extension": ".py",
   "mimetype": "text/x-python",
   "name": "python",
   "nbconvert_exporter": "python",
   "pygments_lexer": "ipython3",
   "version": "3.11.6"
  }
 },
 "nbformat": 4,
 "nbformat_minor": 2
}
