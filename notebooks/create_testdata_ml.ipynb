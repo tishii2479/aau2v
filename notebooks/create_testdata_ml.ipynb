{
 "cells": [
  {
   "cell_type": "code",
   "execution_count": null,
   "metadata": {},
   "outputs": [],
   "source": [
    "import pandas as pd"
   ]
  },
  {
   "cell_type": "code",
   "execution_count": null,
   "metadata": {},
   "outputs": [],
   "source": [
    "sequences = pd.read_csv(\"../data/ml-1m/raw_sequences.csv\")"
   ]
  },
  {
   "cell_type": "code",
   "execution_count": null,
   "metadata": {},
   "outputs": [],
   "source": [
    "sequences"
   ]
  },
  {
   "cell_type": "code",
   "execution_count": null,
   "metadata": {},
   "outputs": [],
   "source": [
    "# テストデータに含まれる顧客の学習データが何個かあるかによって学習データを分けたい\n",
    "# 学習データがx個ある顧客のみを含んだテストデータ\n",
    "# x = [10, 20, 30, 40, 50]\n",
    "sequences.movie_id = sequences.movie_id.apply(lambda s: s.split(\" \"))"
   ]
  },
  {
   "cell_type": "code",
   "execution_count": null,
   "metadata": {},
   "outputs": [],
   "source": [
    "# 各系列ごとの末尾n個をテストデータとする\n",
    "import random\n",
    "from typing import Dict, List, Tuple\n",
    "random.seed(0)\n",
    "\n",
    "a = []\n",
    "\n",
    "counter = {}\n",
    "counter[-1] = 0\n",
    "for i in range(5 + 1):\n",
    "    counter[i * 10] = 0\n",
    "\n",
    "for _, (user_id, movie_id) in sequences.iterrows():\n",
    "    seq = movie_id\n",
    "    seq_l = len(seq)\n",
    "\n",
    "    while True:\n",
    "        l = random.randint(-1, 5)\n",
    "        if l == -1:\n",
    "            # そのまま採用する\n",
    "            train_seq = seq\n",
    "            test_seq = []\n",
    "            train_l = -1\n",
    "            counter[train_l] += 1\n",
    "            a.append((user_id, train_l, train_seq, test_seq))\n",
    "            break\n",
    "        else:\n",
    "            train_l = l * 10\n",
    "            if counter[train_l] == 500:\n",
    "                continue\n",
    "\n",
    "            test_l = 20\n",
    "            required_l = train_l + test_l\n",
    "            if seq_l < required_l:\n",
    "                continue\n",
    "            train_seq = seq[-required_l:-test_l]\n",
    "            test_seq = seq[-test_l:]\n",
    "            counter[train_l] += 1\n",
    "            a.append((user_id, train_l, train_seq, test_seq))\n",
    "            break"
   ]
  },
  {
   "cell_type": "code",
   "execution_count": null,
   "metadata": {},
   "outputs": [],
   "source": [
    "train_sequences = {}\n",
    "test_sequences = {}\n",
    "all_test_sequences = {}\n",
    "\n",
    "test_size = [0, 10, 20, 30, 40, 50]\n",
    "for sz in test_size:\n",
    "    test_sequences[sz] = {}\n",
    "\n",
    "for user_id, train_l, train_seq, test_seq in a:\n",
    "    assert user_id not in train_sequences\n",
    "    train_sequences[user_id] = \" \".join(train_seq)\n",
    "    if train_l >= 0:\n",
    "        all_test_sequences[user_id] = \" \".join(test_seq)\n",
    "        test_sequences[train_l][user_id] = \" \".join(test_seq)\n",
    "\n",
    "for sz in test_size:\n",
    "    file_path = f\"../data/ml-1m-new/test-{sz}.csv\"\n",
    "    test_sz_df = pd.DataFrame.from_dict(test_sequences[sz], orient=\"index\", columns=[\"sequence\"])\n",
    "    test_sz_df.index.name = \"user_id\"\n",
    "    test_sz_df.to_csv(file_path)"
   ]
  },
  {
   "cell_type": "code",
   "execution_count": null,
   "metadata": {},
   "outputs": [],
   "source": [
    "train_df = pd.DataFrame.from_dict(train_sequences, orient=\"index\", columns=[\"sequence\"])\n",
    "train_df.index.name = \"user_id\"\n",
    "train_df.to_csv(\"../data/ml-1m-new/train.csv\")"
   ]
  },
  {
   "cell_type": "code",
   "execution_count": null,
   "metadata": {},
   "outputs": [],
   "source": [
    "test_df = pd.DataFrame.from_dict(all_test_sequences, orient=\"index\", columns=[\"sequence\"])\n",
    "test_df.index.name = \"user_id\"\n",
    "test_df.to_csv(\"../data/ml-1m-new/test.csv\")"
   ]
  },
  {
   "cell_type": "code",
   "execution_count": null,
   "metadata": {},
   "outputs": [],
   "source": []
  }
 ],
 "metadata": {
  "kernelspec": {
   "display_name": "Python 3.10.4 64-bit ('3.10.4')",
   "language": "python",
   "name": "python3"
  },
  "language_info": {
   "codemirror_mode": {
    "name": "ipython",
    "version": 3
   },
   "file_extension": ".py",
   "mimetype": "text/x-python",
   "name": "python",
   "nbconvert_exporter": "python",
   "pygments_lexer": "ipython3",
   "version": "3.10.4"
  },
  "vscode": {
   "interpreter": {
    "hash": "2a5fb540920344d2a30df49d123c0d51f1e8fc17e24494fc3a54f6f29186e4c7"
   }
  }
 },
 "nbformat": 4,
 "nbformat_minor": 2
}
