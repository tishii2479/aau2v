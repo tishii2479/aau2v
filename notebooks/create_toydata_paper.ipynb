{
 "cells": [
  {
   "cell_type": "code",
   "execution_count": null,
   "metadata": {},
   "outputs": [],
   "source": [
    "from typing import Dict, List, Any\n",
    "import random"
   ]
  },
  {
   "cell_type": "code",
   "execution_count": null,
   "metadata": {},
   "outputs": [],
   "source": [
    "random.seed(0)\n",
    "user_count_per_segment = 1000\n",
    "item_count_per_segment = 50\n",
    "seq_lengths = [50]\n",
    "genders = [\"M\", \"F\"]\n",
    "ages = [20, 30, 40, 50, 60]\n",
    "# genres = [\"M1\", \"M2\", \"M3\", \"M4\", \"M5\", \"F1\", \"F2\", \"F3\", \"F4\", \"F5\"]\n",
    "# genres = [\"M1\", \"M2\", \"M3\", \"E1\", \"E2\", \"E3\", \"F1\", \"F2\", \"F3\"]\n",
    "# genres = [\"M1\", \"M2\", \"M3\", \"M4\", \"M5\", \"E1\", \"E2\", \"E3\", \"E4\", \"E5\", \"F1\", \"F2\", \"F3\", \"F4\", \"F5\"]\n",
    "genres = [\"M\", \"E\", \"F\"]\n",
    "base_year = 2020\n",
    "years = [1960, 1970, 1980, 1990, 2000]\n",
    "test_length = 20\n",
    "\n",
    "raw_sequences: Dict[str, List[str]] = {}\n",
    "test_raw_sequences: Dict[str, List[str]] = {}\n",
    "users: Dict[str, Dict[str, Any]] = {}\n",
    "items: Dict[str, Dict[str, Any]] = {}\n",
    "\n",
    "def get_user_name(user_id: int, gender: str, age: int, seq_length: int):\n",
    "    return f\"u_{user_id}_{gender}_{age}_{seq_length}_{gender}{user_id % 5 + 1}\"\n",
    "\n",
    "def get_item_name(item_id: int, genre: str, year: int):\n",
    "    return f\"v_{item_id}_{genre}_{year}\"\n",
    "\n",
    "for gender in genders:\n",
    "    for age in ages:\n",
    "        for seq_length in seq_lengths:\n",
    "            for user_id in range(user_count_per_segment):\n",
    "                user_name = get_user_name(user_id, gender, age, seq_length)\n",
    "\n",
    "                # user-metadata\n",
    "                users[user_name] = {\n",
    "                    \"gender\": gender,\n",
    "                    \"age\": age,\n",
    "                }\n",
    "\n",
    "                genre_weight = []\n",
    "                if gender == \"M\":\n",
    "                    # genre_weight = [0.200] * 3 + [0.100] * 3 + [0.033] * 3\n",
    "                    genre_weight = [0.600] + [0.300] + [0.100]\n",
    "                else:\n",
    "                    # genre_weight = [0.033] * 3 + [0.100] * 3 + [0.200] * 3\n",
    "                    genre_weight = [0.100] + [0.300] + [0.600]\n",
    "                year_weight = list(map(lambda e: 0.50 if e == base_year - age else 0.10, years))\n",
    "\n",
    "                # trains\n",
    "                genre_list = random.choices(genres, genre_weight, k=seq_length)\n",
    "                year_list = random.choices(years, year_weight, k=seq_length)\n",
    "                item_id_list = sorted([random.randint(0, item_count_per_segment - 1) for _ in range(seq_length)])\n",
    "                sequences = list(map(lambda x: get_item_name(*x), zip(item_id_list, genre_list, year_list)))\n",
    "                raw_sequences[user_name] = sequences\n",
    "\n",
    "                # tests\n",
    "                genre_list = random.choices(genres, genre_weight, k=test_length)\n",
    "                year_list = random.choices(years, year_weight, k=test_length)\n",
    "                item_id_list = sorted([random.randint(0, item_count_per_segment - 1) for _ in range(test_length)])\n",
    "                test_sequences = list(map(lambda x: get_item_name(*x), zip(item_id_list, genre_list, year_list)))\n",
    "                test_raw_sequences[user_name] = test_sequences\n",
    "\n",
    "for genre in genres:\n",
    "    for year in years:\n",
    "        for item_id in range(item_count_per_segment):\n",
    "            item_name = get_item_name(item_id, genre, year)\n",
    "            items[item_name] = {\n",
    "                \"genre\": genre,\n",
    "                \"year\": year\n",
    "            }"
   ]
  },
  {
   "cell_type": "code",
   "execution_count": null,
   "metadata": {},
   "outputs": [],
   "source": [
    "import pandas as pd\n",
    "\n",
    "user_df = pd.DataFrame(users.values(), index=users.keys())\n",
    "item_df = pd.DataFrame(items.values(), index=items.keys())\n",
    "\n",
    "train_sequences = list(map(lambda s: \" \".join(s), raw_sequences.values()))\n",
    "train_df = pd.DataFrame(train_sequences, index=raw_sequences.keys(), columns=[\"sequence\"])\n",
    "test_sequences = list(map(lambda s: \" \".join(s), test_raw_sequences.values()))\n",
    "test_df = pd.DataFrame(test_sequences, index=test_raw_sequences.keys(), columns=[\"sequence\"])\n",
    "\n",
    "user_df.index.name = \"user_id\"\n",
    "item_df.index.name = \"item_id\"\n",
    "train_df.index.name = \"user_id\"\n",
    "test_df.index.name = \"user_id\"\n",
    "\n",
    "data_dir = \"../data/toydata-paper/\"\n",
    "\n",
    "user_df.to_csv(data_dir + \"users.csv\")\n",
    "item_df.to_csv(data_dir + \"items.csv\")\n",
    "train_df.to_csv(data_dir + \"train.csv\")\n",
    "test_df.to_csv(data_dir + \"test.csv\")"
   ]
  },
  {
   "cell_type": "code",
   "execution_count": null,
   "metadata": {},
   "outputs": [],
   "source": []
  }
 ],
 "metadata": {
  "kernelspec": {
   "display_name": "Python 3.10.4 64-bit ('3.10.4')",
   "language": "python",
   "name": "python3"
  },
  "language_info": {
   "codemirror_mode": {
    "name": "ipython",
    "version": 3
   },
   "file_extension": ".py",
   "mimetype": "text/x-python",
   "name": "python",
   "nbconvert_exporter": "python",
   "pygments_lexer": "ipython3",
   "version": "3.10.4 (main, Jul  6 2022, 22:17:03) [Clang 13.1.6 (clang-1316.0.21.2.5)]"
  },
  "vscode": {
   "interpreter": {
    "hash": "2a5fb540920344d2a30df49d123c0d51f1e8fc17e24494fc3a54f6f29186e4c7"
   }
  }
 },
 "nbformat": 4,
 "nbformat_minor": 2
}
