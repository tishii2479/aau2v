{
 "cells": [
  {
   "cell_type": "code",
   "execution_count": 6,
   "metadata": {},
   "outputs": [
    {
     "data": {
      "text/plain": [
       "(                                                           sequence\n",
       " user_id                                                            \n",
       " u_0_M_20_50_M1    v_1_E_2000 v_1_E_2000 v_1_M_1960 v_1_M_1990 v_...\n",
       " u_1_M_20_50_M2    v_0_E_2000 v_2_M_2000 v_3_M_2000 v_4_E_1960 v_...\n",
       " u_2_M_20_50_M3    v_0_M_2000 v_1_M_1960 v_1_M_2000 v_1_E_2000 v_...\n",
       " u_3_M_20_50_M4    v_0_E_2000 v_0_E_2000 v_0_M_2000 v_2_M_2000 v_...\n",
       " u_4_M_20_50_M5    v_0_M_1980 v_1_M_1980 v_2_M_1970 v_3_M_2000 v_...\n",
       " ...                                                             ...\n",
       " u_995_F_60_50_F1  v_0_F_1980 v_1_F_1960 v_1_F_1960 v_3_F_1960 v_...\n",
       " u_996_F_60_50_F2  v_0_F_1960 v_0_F_1960 v_1_M_1970 v_2_F_2000 v_...\n",
       " u_997_F_60_50_F3  v_1_E_1960 v_2_F_2000 v_3_F_1960 v_4_F_1960 v_...\n",
       " u_998_F_60_50_F4  v_0_M_1990 v_1_E_1960 v_2_F_1990 v_3_F_1960 v_...\n",
       " u_999_F_60_50_F5  v_2_E_1970 v_4_F_1990 v_5_M_1960 v_5_F_1970 v_...\n",
       " \n",
       " [10000 rows x 1 columns],\n",
       "                                                            sequence\n",
       " user_id                                                            \n",
       " u_0_M_20_50_M1    v_8_M_2000 v_8_E_1970 v_15_E_1970 v_17_M_2000 ...\n",
       " u_1_M_20_50_M2    v_2_M_1970 v_2_M_2000 v_4_M_1990 v_5_F_2000 v_...\n",
       " u_2_M_20_50_M3    v_1_E_2000 v_4_M_1980 v_4_E_2000 v_5_M_2000 v_...\n",
       " u_3_M_20_50_M4    v_5_E_1980 v_6_M_2000 v_12_E_1990 v_14_M_2000 ...\n",
       " u_4_M_20_50_M5    v_1_M_1990 v_5_M_2000 v_5_M_2000 v_6_M_2000 v_...\n",
       " ...                                                             ...\n",
       " u_995_F_60_50_F1  v_1_E_2000 v_4_E_1960 v_14_F_1960 v_15_E_1960 ...\n",
       " u_996_F_60_50_F2  v_1_E_1960 v_7_F_1960 v_10_F_1960 v_10_F_1960 ...\n",
       " u_997_F_60_50_F3  v_1_F_1970 v_2_F_2000 v_3_E_1960 v_5_E_1960 v_...\n",
       " u_998_F_60_50_F4  v_0_F_1960 v_4_E_1980 v_5_F_1970 v_7_E_1960 v_...\n",
       " u_999_F_60_50_F5  v_0_F_1960 v_1_M_1990 v_7_F_1960 v_8_F_1960 v_...\n",
       " \n",
       " [10000 rows x 1 columns],\n",
       "                  gender age\n",
       " user_id                    \n",
       " u_0_M_20_50_M1        M  20\n",
       " u_1_M_20_50_M2        M  20\n",
       " u_2_M_20_50_M3        M  20\n",
       " u_3_M_20_50_M4        M  20\n",
       " u_4_M_20_50_M5        M  20\n",
       " ...                 ...  ..\n",
       " u_995_F_60_50_F1      F  60\n",
       " u_996_F_60_50_F2      F  60\n",
       " u_997_F_60_50_F3      F  60\n",
       " u_998_F_60_50_F4      F  60\n",
       " u_999_F_60_50_F5      F  60\n",
       " \n",
       " [10000 rows x 2 columns],\n",
       "             genre  year\n",
       " item_id                \n",
       " v_0_M_1960      M  1960\n",
       " v_1_M_1960      M  1960\n",
       " v_2_M_1960      M  1960\n",
       " v_3_M_1960      M  1960\n",
       " v_4_M_1960      M  1960\n",
       " ...           ...   ...\n",
       " v_45_F_2000     F  2000\n",
       " v_46_F_2000     F  2000\n",
       " v_47_F_2000     F  2000\n",
       " v_48_F_2000     F  2000\n",
       " v_49_F_2000     F  2000\n",
       " \n",
       " [750 rows x 2 columns])"
      ]
     },
     "execution_count": 6,
     "metadata": {},
     "output_type": "execute_result"
    }
   ],
   "source": [
    "from au2v import toydata\n",
    "\n",
    "toydata.generate_toydata(\"toydata-paper\")"
   ]
  },
  {
   "cell_type": "code",
   "execution_count": null,
   "metadata": {},
   "outputs": [],
   "source": []
  }
 ],
 "metadata": {
  "kernelspec": {
   "display_name": "Python 3.10.4 64-bit ('3.10.4')",
   "language": "python",
   "name": "python3"
  },
  "language_info": {
   "codemirror_mode": {
    "name": "ipython",
    "version": 3
   },
   "file_extension": ".py",
   "mimetype": "text/x-python",
   "name": "python",
   "nbconvert_exporter": "python",
   "pygments_lexer": "ipython3",
   "version": "3.10.4"
  },
  "vscode": {
   "interpreter": {
    "hash": "2a5fb540920344d2a30df49d123c0d51f1e8fc17e24494fc3a54f6f29186e4c7"
   }
  }
 },
 "nbformat": 4,
 "nbformat_minor": 2
}
