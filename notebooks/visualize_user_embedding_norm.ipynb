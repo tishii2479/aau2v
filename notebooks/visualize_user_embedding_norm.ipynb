{
 "cells": [
  {
   "cell_type": "code",
   "execution_count": 1,
   "metadata": {},
   "outputs": [],
   "source": [
    "from pathlib import Path\n",
    "import matplotlib.pyplot as plt\n",
    "\n",
    "from au2v.analyst import Analyst\n",
    "from au2v.config import ModelConfig, TrainerConfig\n",
    "from au2v.dataset_manager import load_dataset_manager\n",
    "from au2v.model import load_model"
   ]
  },
  {
   "cell_type": "code",
   "execution_count": 2,
   "metadata": {},
   "outputs": [
    {
     "name": "stdout",
     "output_type": "stream",
     "text": [
      "dataset_manager does not exist at: ../cache/dataset/toydata-seq-lengths.pickle, create dataset\n",
      "num_seq: 4000, num_item: 150, num_item_meta: 8, num_seq_meta: 7, num_item_meta_types: 2, num_seq_meta_types: 2\n",
      "to_sequential_data start\n"
     ]
    },
    {
     "name": "stderr",
     "output_type": "stream",
     "text": [
      "100%|██████████| 4000/4000 [00:09<00:00, 416.23it/s]\n"
     ]
    },
    {
     "name": "stdout",
     "output_type": "stream",
     "text": [
      "to_sequential_data end\n",
      "to_sequential_data start\n"
     ]
    },
    {
     "name": "stderr",
     "output_type": "stream",
     "text": [
      " 48%|████▊     | 1900/4000 [00:03<00:04, 491.78it/s]\n"
     ]
    },
    {
     "ename": "KeyboardInterrupt",
     "evalue": "",
     "output_type": "error",
     "traceback": [
      "\u001b[0;31m---------------------------------------------------------------------------\u001b[0m",
      "\u001b[0;31mKeyboardInterrupt\u001b[0m                         Traceback (most recent call last)",
      "\u001b[1;32m/Users/tatsuyaishii/dev/my-doc2vec/notebooks/visualize_user_embedding_norm.ipynb Cell 2\u001b[0m line \u001b[0;36m8\n\u001b[1;32m      <a href='vscode-notebook-cell:/Users/tatsuyaishii/dev/my-doc2vec/notebooks/visualize_user_embedding_norm.ipynb#W1sZmlsZQ%3D%3D?line=0'>1</a>\u001b[0m model_config \u001b[39m=\u001b[39m ModelConfig()\n\u001b[1;32m      <a href='vscode-notebook-cell:/Users/tatsuyaishii/dev/my-doc2vec/notebooks/visualize_user_embedding_norm.ipynb#W1sZmlsZQ%3D%3D?line=1'>2</a>\u001b[0m trainer_config \u001b[39m=\u001b[39m TrainerConfig(\n\u001b[1;32m      <a href='vscode-notebook-cell:/Users/tatsuyaishii/dev/my-doc2vec/notebooks/visualize_user_embedding_norm.ipynb#W1sZmlsZQ%3D%3D?line=2'>3</a>\u001b[0m     dataset_name\u001b[39m=\u001b[39m\u001b[39m\"\u001b[39m\u001b[39mtoydata-seq-lengths\u001b[39m\u001b[39m\"\u001b[39m,\n\u001b[1;32m      <a href='vscode-notebook-cell:/Users/tatsuyaishii/dev/my-doc2vec/notebooks/visualize_user_embedding_norm.ipynb#W1sZmlsZQ%3D%3D?line=3'>4</a>\u001b[0m     model_dir\u001b[39m=\u001b[39m\u001b[39m\"\u001b[39m\u001b[39m../cache/model\u001b[39m\u001b[39m\"\u001b[39m,\n\u001b[1;32m      <a href='vscode-notebook-cell:/Users/tatsuyaishii/dev/my-doc2vec/notebooks/visualize_user_embedding_norm.ipynb#W1sZmlsZQ%3D%3D?line=4'>5</a>\u001b[0m     dataset_dir\u001b[39m=\u001b[39m\u001b[39m\"\u001b[39m\u001b[39m../cache/dataset\u001b[39m\u001b[39m\"\u001b[39m,\n\u001b[1;32m      <a href='vscode-notebook-cell:/Users/tatsuyaishii/dev/my-doc2vec/notebooks/visualize_user_embedding_norm.ipynb#W1sZmlsZQ%3D%3D?line=5'>6</a>\u001b[0m )\n\u001b[0;32m----> <a href='vscode-notebook-cell:/Users/tatsuyaishii/dev/my-doc2vec/notebooks/visualize_user_embedding_norm.ipynb#W1sZmlsZQ%3D%3D?line=7'>8</a>\u001b[0m dataset_manager \u001b[39m=\u001b[39m load_dataset_manager(\n\u001b[1;32m      <a href='vscode-notebook-cell:/Users/tatsuyaishii/dev/my-doc2vec/notebooks/visualize_user_embedding_norm.ipynb#W1sZmlsZQ%3D%3D?line=8'>9</a>\u001b[0m     dataset_name\u001b[39m=\u001b[39;49mtrainer_config\u001b[39m.\u001b[39;49mdataset_name,\n\u001b[1;32m     <a href='vscode-notebook-cell:/Users/tatsuyaishii/dev/my-doc2vec/notebooks/visualize_user_embedding_norm.ipynb#W1sZmlsZQ%3D%3D?line=9'>10</a>\u001b[0m     dataset_dir\u001b[39m=\u001b[39;49mtrainer_config\u001b[39m.\u001b[39;49mdataset_dir,\n\u001b[1;32m     <a href='vscode-notebook-cell:/Users/tatsuyaishii/dev/my-doc2vec/notebooks/visualize_user_embedding_norm.ipynb#W1sZmlsZQ%3D%3D?line=10'>11</a>\u001b[0m     load_dataset\u001b[39m=\u001b[39;49mtrainer_config\u001b[39m.\u001b[39;49mload_dataset,\n\u001b[1;32m     <a href='vscode-notebook-cell:/Users/tatsuyaishii/dev/my-doc2vec/notebooks/visualize_user_embedding_norm.ipynb#W1sZmlsZQ%3D%3D?line=11'>12</a>\u001b[0m     save_dataset\u001b[39m=\u001b[39;49mtrainer_config\u001b[39m.\u001b[39;49msave_dataset,\n\u001b[1;32m     <a href='vscode-notebook-cell:/Users/tatsuyaishii/dev/my-doc2vec/notebooks/visualize_user_embedding_norm.ipynb#W1sZmlsZQ%3D%3D?line=12'>13</a>\u001b[0m     window_size\u001b[39m=\u001b[39;49mmodel_config\u001b[39m.\u001b[39;49mwindow_size,\n\u001b[1;32m     <a href='vscode-notebook-cell:/Users/tatsuyaishii/dev/my-doc2vec/notebooks/visualize_user_embedding_norm.ipynb#W1sZmlsZQ%3D%3D?line=13'>14</a>\u001b[0m )\n\u001b[1;32m     <a href='vscode-notebook-cell:/Users/tatsuyaishii/dev/my-doc2vec/notebooks/visualize_user_embedding_norm.ipynb#W1sZmlsZQ%3D%3D?line=14'>15</a>\u001b[0m model \u001b[39m=\u001b[39m load_model(\n\u001b[1;32m     <a href='vscode-notebook-cell:/Users/tatsuyaishii/dev/my-doc2vec/notebooks/visualize_user_embedding_norm.ipynb#W1sZmlsZQ%3D%3D?line=15'>16</a>\u001b[0m     dataset_manager\u001b[39m=\u001b[39mdataset_manager,\n\u001b[1;32m     <a href='vscode-notebook-cell:/Users/tatsuyaishii/dev/my-doc2vec/notebooks/visualize_user_embedding_norm.ipynb#W1sZmlsZQ%3D%3D?line=16'>17</a>\u001b[0m     trainer_config\u001b[39m=\u001b[39mtrainer_config,\n\u001b[1;32m     <a href='vscode-notebook-cell:/Users/tatsuyaishii/dev/my-doc2vec/notebooks/visualize_user_embedding_norm.ipynb#W1sZmlsZQ%3D%3D?line=17'>18</a>\u001b[0m     model_config\u001b[39m=\u001b[39mmodel_config\n\u001b[1;32m     <a href='vscode-notebook-cell:/Users/tatsuyaishii/dev/my-doc2vec/notebooks/visualize_user_embedding_norm.ipynb#W1sZmlsZQ%3D%3D?line=18'>19</a>\u001b[0m )\n",
      "File \u001b[0;32m~/dev/my-doc2vec/au2v/dataset_manager.py:330\u001b[0m, in \u001b[0;36mload_dataset_manager\u001b[0;34m(dataset_name, dataset_dir, load_dataset, save_dataset, window_size, data_dir)\u001b[0m\n\u001b[1;32m    326\u001b[0m \u001b[39mprint\u001b[39m(\u001b[39mf\u001b[39m\u001b[39m\"\u001b[39m\u001b[39mdataset_manager does not exist at: \u001b[39m\u001b[39m{\u001b[39;00mpickle_path\u001b[39m}\u001b[39;00m\u001b[39m, create dataset\u001b[39m\u001b[39m\"\u001b[39m)\n\u001b[1;32m    328\u001b[0m dataset \u001b[39m=\u001b[39m load_raw_dataset(dataset_name\u001b[39m=\u001b[39mdataset_name, data_dir\u001b[39m=\u001b[39mdata_dir)\n\u001b[0;32m--> 330\u001b[0m dataset_manager \u001b[39m=\u001b[39m SequenceDatasetManager(dataset, window_size\u001b[39m=\u001b[39;49mwindow_size)\n\u001b[1;32m    332\u001b[0m \u001b[39mif\u001b[39;00m save_dataset:\n\u001b[1;32m    333\u001b[0m     os\u001b[39m.\u001b[39mmakedirs(dataset_dir, exist_ok\u001b[39m=\u001b[39m\u001b[39mTrue\u001b[39;00m)\n",
      "File \u001b[0;32m~/dev/my-doc2vec/au2v/dataset_manager.py:94\u001b[0m, in \u001b[0;36mSequenceDatasetManager.__init__\u001b[0;34m(self, dataset, window_size)\u001b[0m\n\u001b[1;32m     89\u001b[0m     \u001b[39mself\u001b[39m\u001b[39m.\u001b[39mtest_dataset: Optional[Dict[\u001b[39mstr\u001b[39m, SequenceDataset]] \u001b[39m=\u001b[39m {}\n\u001b[1;32m     90\u001b[0m     \u001b[39mfor\u001b[39;00m (\n\u001b[1;32m     91\u001b[0m         test_name,\n\u001b[1;32m     92\u001b[0m         test_raw_sequences,\n\u001b[1;32m     93\u001b[0m     ) \u001b[39min\u001b[39;00m dataset\u001b[39m.\u001b[39mtest_raw_sequences_dict\u001b[39m.\u001b[39mitems():\n\u001b[0;32m---> 94\u001b[0m         \u001b[39mself\u001b[39m\u001b[39m.\u001b[39mtest_dataset[test_name] \u001b[39m=\u001b[39m SequenceDataset(\n\u001b[1;32m     95\u001b[0m             raw_sequences\u001b[39m=\u001b[39;49mtest_raw_sequences,\n\u001b[1;32m     96\u001b[0m             seq_le\u001b[39m=\u001b[39;49m\u001b[39mself\u001b[39;49m\u001b[39m.\u001b[39;49mseq_le,\n\u001b[1;32m     97\u001b[0m             item_le\u001b[39m=\u001b[39;49m\u001b[39mself\u001b[39;49m\u001b[39m.\u001b[39;49mitem_le,\n\u001b[1;32m     98\u001b[0m             window_size\u001b[39m=\u001b[39;49mwindow_size,\n\u001b[1;32m     99\u001b[0m         )\n\u001b[1;32m    100\u001b[0m         \u001b[39mself\u001b[39m\u001b[39m.\u001b[39msequences \u001b[39m+\u001b[39m\u001b[39m=\u001b[39m \u001b[39mself\u001b[39m\u001b[39m.\u001b[39mtest_dataset[test_name]\u001b[39m.\u001b[39msequences\n\u001b[1;32m    101\u001b[0m \u001b[39melse\u001b[39;00m:\n",
      "File \u001b[0;32m~/dev/my-doc2vec/au2v/dataset_manager.py:144\u001b[0m, in \u001b[0;36mSequenceDataset.__init__\u001b[0;34m(self, raw_sequences, seq_le, item_le, window_size)\u001b[0m\n\u001b[1;32m    126\u001b[0m \u001b[39m\u001b[39m\u001b[39m\"\"\"\u001b[39;00m\n\u001b[1;32m    127\u001b[0m \u001b[39m補助情報を含んだシーケンシャルのデータを保持するクラス\u001b[39;00m\n\u001b[1;32m    128\u001b[0m \n\u001b[0;32m   (...)\u001b[0m\n\u001b[1;32m    140\u001b[0m \u001b[39m        Defaults to 8.\u001b[39;00m\n\u001b[1;32m    141\u001b[0m \u001b[39m\"\"\"\u001b[39;00m\n\u001b[1;32m    142\u001b[0m \u001b[39mself\u001b[39m\u001b[39m.\u001b[39mraw_sequences \u001b[39m=\u001b[39m raw_sequences\n\u001b[0;32m--> 144\u001b[0m \u001b[39mself\u001b[39m\u001b[39m.\u001b[39msequences, \u001b[39mself\u001b[39m\u001b[39m.\u001b[39mdata \u001b[39m=\u001b[39m to_sequential_data(\n\u001b[1;32m    145\u001b[0m     raw_sequences\u001b[39m=\u001b[39;49m\u001b[39mself\u001b[39;49m\u001b[39m.\u001b[39;49mraw_sequences,\n\u001b[1;32m    146\u001b[0m     seq_le\u001b[39m=\u001b[39;49mseq_le,\n\u001b[1;32m    147\u001b[0m     item_le\u001b[39m=\u001b[39;49mitem_le,\n\u001b[1;32m    148\u001b[0m     window_size\u001b[39m=\u001b[39;49mwindow_size,\n\u001b[1;32m    149\u001b[0m )\n",
      "File \u001b[0;32m~/dev/my-doc2vec/au2v/dataset_manager.py:282\u001b[0m, in \u001b[0;36mto_sequential_data\u001b[0;34m(raw_sequences, seq_le, item_le, window_size)\u001b[0m\n\u001b[1;32m    279\u001b[0m sequence \u001b[39m=\u001b[39m item_le\u001b[39m.\u001b[39mtransform(raw_sequence)\n\u001b[1;32m    280\u001b[0m sequences\u001b[39m.\u001b[39mappend(sequence)\n\u001b[0;32m--> 282\u001b[0m seq_index \u001b[39m=\u001b[39m torch\u001b[39m.\u001b[39mtensor(seq_le\u001b[39m.\u001b[39;49mtransform([seq_name])[\u001b[39m0\u001b[39m], dtype\u001b[39m=\u001b[39mtorch\u001b[39m.\u001b[39mlong)\n\u001b[1;32m    283\u001b[0m left \u001b[39m=\u001b[39m window_size\n\u001b[1;32m    284\u001b[0m right \u001b[39m=\u001b[39m \u001b[39mlen\u001b[39m(sequence) \u001b[39m-\u001b[39m \u001b[39m1\u001b[39m \u001b[39m-\u001b[39m window_size\n",
      "File \u001b[0;32m~/dev/my-doc2vec/.venv/lib/python3.11/site-packages/sklearn/preprocessing/_label.py:137\u001b[0m, in \u001b[0;36mLabelEncoder.transform\u001b[0;34m(self, y)\u001b[0m\n\u001b[1;32m    134\u001b[0m \u001b[39mif\u001b[39;00m _num_samples(y) \u001b[39m==\u001b[39m \u001b[39m0\u001b[39m:\n\u001b[1;32m    135\u001b[0m     \u001b[39mreturn\u001b[39;00m np\u001b[39m.\u001b[39marray([])\n\u001b[0;32m--> 137\u001b[0m \u001b[39mreturn\u001b[39;00m _encode(y, uniques\u001b[39m=\u001b[39;49m\u001b[39mself\u001b[39;49m\u001b[39m.\u001b[39;49mclasses_)\n",
      "File \u001b[0;32m~/dev/my-doc2vec/.venv/lib/python3.11/site-packages/sklearn/utils/_encode.py:225\u001b[0m, in \u001b[0;36m_encode\u001b[0;34m(values, uniques, check_unknown)\u001b[0m\n\u001b[1;32m    223\u001b[0m \u001b[39mif\u001b[39;00m values\u001b[39m.\u001b[39mdtype\u001b[39m.\u001b[39mkind \u001b[39min\u001b[39;00m \u001b[39m\"\u001b[39m\u001b[39mOUS\u001b[39m\u001b[39m\"\u001b[39m:\n\u001b[1;32m    224\u001b[0m     \u001b[39mtry\u001b[39;00m:\n\u001b[0;32m--> 225\u001b[0m         \u001b[39mreturn\u001b[39;00m _map_to_integer(values, uniques)\n\u001b[1;32m    226\u001b[0m     \u001b[39mexcept\u001b[39;00m \u001b[39mKeyError\u001b[39;00m \u001b[39mas\u001b[39;00m e:\n\u001b[1;32m    227\u001b[0m         \u001b[39mraise\u001b[39;00m \u001b[39mValueError\u001b[39;00m(\u001b[39mf\u001b[39m\u001b[39m\"\u001b[39m\u001b[39my contains previously unseen labels: \u001b[39m\u001b[39m{\u001b[39;00m\u001b[39mstr\u001b[39m(e)\u001b[39m}\u001b[39;00m\u001b[39m\"\u001b[39m)\n",
      "File \u001b[0;32m~/dev/my-doc2vec/.venv/lib/python3.11/site-packages/sklearn/utils/_encode.py:164\u001b[0m, in \u001b[0;36m_map_to_integer\u001b[0;34m(values, uniques)\u001b[0m\n\u001b[1;32m    162\u001b[0m \u001b[39mdef\u001b[39;00m \u001b[39m_map_to_integer\u001b[39m(values, uniques):\n\u001b[1;32m    163\u001b[0m \u001b[39m    \u001b[39m\u001b[39m\"\"\"Map values based on its position in uniques.\"\"\"\u001b[39;00m\n\u001b[0;32m--> 164\u001b[0m     table \u001b[39m=\u001b[39m _nandict({val: i \u001b[39mfor\u001b[39;49;00m i, val \u001b[39min\u001b[39;49;00m \u001b[39menumerate\u001b[39;49m(uniques)})\n\u001b[1;32m    165\u001b[0m     \u001b[39mreturn\u001b[39;00m np\u001b[39m.\u001b[39marray([table[v] \u001b[39mfor\u001b[39;00m v \u001b[39min\u001b[39;00m values])\n",
      "File \u001b[0;32m~/dev/my-doc2vec/.venv/lib/python3.11/site-packages/sklearn/utils/_encode.py:152\u001b[0m, in \u001b[0;36m_nandict.__init__\u001b[0;34m(self, mapping)\u001b[0m\n\u001b[1;32m    150\u001b[0m \u001b[39msuper\u001b[39m()\u001b[39m.\u001b[39m\u001b[39m__init__\u001b[39m(mapping)\n\u001b[1;32m    151\u001b[0m \u001b[39mfor\u001b[39;00m key, value \u001b[39min\u001b[39;00m mapping\u001b[39m.\u001b[39mitems():\n\u001b[0;32m--> 152\u001b[0m     \u001b[39mif\u001b[39;00m is_scalar_nan(key):\n\u001b[1;32m    153\u001b[0m         \u001b[39mself\u001b[39m\u001b[39m.\u001b[39mnan_value \u001b[39m=\u001b[39m value\n\u001b[1;32m    154\u001b[0m         \u001b[39mbreak\u001b[39;00m\n",
      "File \u001b[0;32m~/dev/my-doc2vec/.venv/lib/python3.11/site-packages/sklearn/utils/__init__.py:1183\u001b[0m, in \u001b[0;36mis_scalar_nan\u001b[0;34m(x)\u001b[0m\n\u001b[1;32m   1151\u001b[0m \u001b[39mdef\u001b[39;00m \u001b[39mis_scalar_nan\u001b[39m(x):\n\u001b[1;32m   1152\u001b[0m \u001b[39m    \u001b[39m\u001b[39m\"\"\"Test if x is NaN.\u001b[39;00m\n\u001b[1;32m   1153\u001b[0m \n\u001b[1;32m   1154\u001b[0m \u001b[39m    This function is meant to overcome the issue that np.isnan does not allow\u001b[39;00m\n\u001b[0;32m   (...)\u001b[0m\n\u001b[1;32m   1180\u001b[0m \u001b[39m    False\u001b[39;00m\n\u001b[1;32m   1181\u001b[0m \u001b[39m    \"\"\"\u001b[39;00m\n\u001b[1;32m   1182\u001b[0m     \u001b[39mreturn\u001b[39;00m (\n\u001b[0;32m-> 1183\u001b[0m         \u001b[39mnot\u001b[39;00m \u001b[39misinstance\u001b[39m(x, numbers\u001b[39m.\u001b[39mIntegral)\n\u001b[1;32m   1184\u001b[0m         \u001b[39mand\u001b[39;00m \u001b[39misinstance\u001b[39m(x, numbers\u001b[39m.\u001b[39mReal)\n\u001b[1;32m   1185\u001b[0m         \u001b[39mand\u001b[39;00m math\u001b[39m.\u001b[39misnan(x)\n\u001b[1;32m   1186\u001b[0m     )\n",
      "File \u001b[0;32m<frozen abc>:117\u001b[0m, in \u001b[0;36m__instancecheck__\u001b[0;34m(cls, instance)\u001b[0m\n",
      "\u001b[0;31mKeyboardInterrupt\u001b[0m: "
     ]
    }
   ],
   "source": [
    "model_config = ModelConfig()\n",
    "trainer_config = TrainerConfig(\n",
    "    dataset_name=\"toydata-seq-lengths\",\n",
    "    model_dir=\"../cache/model\",\n",
    "    dataset_dir=\"../cache/dataset\",\n",
    ")\n",
    "\n",
    "dataset_manager = load_dataset_manager(\n",
    "    dataset_name=trainer_config.dataset_name,\n",
    "    dataset_dir=trainer_config.dataset_dir,\n",
    "    load_dataset=trainer_config.load_dataset,\n",
    "    save_dataset=trainer_config.save_dataset,\n",
    "    window_size=model_config.window_size,\n",
    ")\n",
    "model = load_model(\n",
    "    dataset_manager=dataset_manager,\n",
    "    trainer_config=trainer_config,\n",
    "    model_config=model_config\n",
    ")"
   ]
  },
  {
   "cell_type": "code",
   "execution_count": null,
   "metadata": {},
   "outputs": [],
   "source": [
    "analyst = Analyst(model, dataset_manager)"
   ]
  },
  {
   "cell_type": "code",
   "execution_count": null,
   "metadata": {},
   "outputs": [],
   "source": [
    "analyst.visualize_similarity_heatmap()"
   ]
  },
  {
   "cell_type": "code",
   "execution_count": null,
   "metadata": {},
   "outputs": [],
   "source": [
    "norms = {}\n",
    "\n",
    "for i, (id, seq) in enumerate(dataset_manager.raw_sequences.items()):\n",
    "    l = len(seq)\n",
    "    if l not in norms:\n",
    "        norms[l] = []\n",
    "    norms[l].append(model.seq_embedding[i].norm().item())"
   ]
  },
  {
   "cell_type": "code",
   "execution_count": null,
   "metadata": {},
   "outputs": [],
   "source": [
    "x, y = [], []\n",
    "x_means, y_means = [], []\n",
    "for l, norm in norms.items():\n",
    "    for v in norm:\n",
    "        x.append(l - 20)\n",
    "        y.append(v)\n",
    "    x_means.append(l - 20)\n",
    "    y_means.append(sum(norm) / len(norm))"
   ]
  },
  {
   "cell_type": "code",
   "execution_count": null,
   "metadata": {},
   "outputs": [],
   "source": [
    "plt.scatter(x, y, marker=\"x\")\n",
    "plt.plot(x_means, y_means, c=\"red\", marker=\"o\")\n",
    "plt.xticks([25, 50, 75, 100])"
   ]
  },
  {
   "cell_type": "code",
   "execution_count": null,
   "metadata": {},
   "outputs": [],
   "source": []
  }
 ],
 "metadata": {
  "kernelspec": {
   "display_name": ".venv",
   "language": "python",
   "name": "python3"
  },
  "language_info": {
   "codemirror_mode": {
    "name": "ipython",
    "version": 3
   },
   "file_extension": ".py",
   "mimetype": "text/x-python",
   "name": "python",
   "nbconvert_exporter": "python",
   "pygments_lexer": "ipython3",
   "version": "3.11.6"
  }
 },
 "nbformat": 4,
 "nbformat_minor": 2
}
