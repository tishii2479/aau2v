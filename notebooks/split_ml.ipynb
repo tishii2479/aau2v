{
 "cells": [
  {
   "cell_type": "code",
   "execution_count": 1,
   "metadata": {},
   "outputs": [],
   "source": [
    "import pandas as pd"
   ]
  },
  {
   "cell_type": "code",
   "execution_count": 2,
   "metadata": {},
   "outputs": [],
   "source": [
    "sequences = pd.read_csv(\"../data/ml-1m/raw_sequences.csv\")"
   ]
  },
  {
   "cell_type": "code",
   "execution_count": 3,
   "metadata": {},
   "outputs": [
    {
     "data": {
      "text/html": [
       "<div>\n",
       "<style scoped>\n",
       "    .dataframe tbody tr th:only-of-type {\n",
       "        vertical-align: middle;\n",
       "    }\n",
       "\n",
       "    .dataframe tbody tr th {\n",
       "        vertical-align: top;\n",
       "    }\n",
       "\n",
       "    .dataframe thead th {\n",
       "        text-align: right;\n",
       "    }\n",
       "</style>\n",
       "<table border=\"1\" class=\"dataframe\">\n",
       "  <thead>\n",
       "    <tr style=\"text-align: right;\">\n",
       "      <th></th>\n",
       "      <th>user_id</th>\n",
       "      <th>movie_id</th>\n",
       "    </tr>\n",
       "  </thead>\n",
       "  <tbody>\n",
       "    <tr>\n",
       "      <th>0</th>\n",
       "      <td>1</td>\n",
       "      <td>1193 661 914 3408 2355 1197 1287 2804 594 919 ...</td>\n",
       "    </tr>\n",
       "    <tr>\n",
       "      <th>1</th>\n",
       "      <td>2</td>\n",
       "      <td>1357 3068 1537 647 2194 648 2268 2628 1103 291...</td>\n",
       "    </tr>\n",
       "    <tr>\n",
       "      <th>2</th>\n",
       "      <td>3</td>\n",
       "      <td>3421 1641 648 1394 3534 104 2735 1210 1431 386...</td>\n",
       "    </tr>\n",
       "    <tr>\n",
       "      <th>3</th>\n",
       "      <td>4</td>\n",
       "      <td>3468 1210 2951 1214 1036 260 2028 480 1196 119...</td>\n",
       "    </tr>\n",
       "    <tr>\n",
       "      <th>4</th>\n",
       "      <td>5</td>\n",
       "      <td>2987 2333 1175 39 288 2337 1535 1392 2268 1466...</td>\n",
       "    </tr>\n",
       "    <tr>\n",
       "      <th>...</th>\n",
       "      <td>...</td>\n",
       "      <td>...</td>\n",
       "    </tr>\n",
       "    <tr>\n",
       "      <th>6035</th>\n",
       "      <td>6036</td>\n",
       "      <td>571 574 2053 2054 2058 588 589 4 3005 6 3006 3...</td>\n",
       "    </tr>\n",
       "    <tr>\n",
       "      <th>6036</th>\n",
       "      <td>6037</td>\n",
       "      <td>589 3006 1407 2064 2065 593 3015 903 904 905 9...</td>\n",
       "    </tr>\n",
       "    <tr>\n",
       "      <th>6037</th>\n",
       "      <td>6038</td>\n",
       "      <td>1419 920 3088 232 1136 1148 1183 2146 3548 356...</td>\n",
       "    </tr>\n",
       "    <tr>\n",
       "      <th>6038</th>\n",
       "      <td>6039</td>\n",
       "      <td>588 2067 1416 3022 3028 2080 2083 2087 3035 30...</td>\n",
       "    </tr>\n",
       "    <tr>\n",
       "      <th>6039</th>\n",
       "      <td>6040</td>\n",
       "      <td>573 589 1 2068 592 593 3016 3017 2070 1419 207...</td>\n",
       "    </tr>\n",
       "  </tbody>\n",
       "</table>\n",
       "<p>6040 rows × 2 columns</p>\n",
       "</div>"
      ],
      "text/plain": [
       "      user_id                                           movie_id\n",
       "0           1  1193 661 914 3408 2355 1197 1287 2804 594 919 ...\n",
       "1           2  1357 3068 1537 647 2194 648 2268 2628 1103 291...\n",
       "2           3  3421 1641 648 1394 3534 104 2735 1210 1431 386...\n",
       "3           4  3468 1210 2951 1214 1036 260 2028 480 1196 119...\n",
       "4           5  2987 2333 1175 39 288 2337 1535 1392 2268 1466...\n",
       "...       ...                                                ...\n",
       "6035     6036  571 574 2053 2054 2058 588 589 4 3005 6 3006 3...\n",
       "6036     6037  589 3006 1407 2064 2065 593 3015 903 904 905 9...\n",
       "6037     6038  1419 920 3088 232 1136 1148 1183 2146 3548 356...\n",
       "6038     6039  588 2067 1416 3022 3028 2080 2083 2087 3035 30...\n",
       "6039     6040  573 589 1 2068 592 593 3016 3017 2070 1419 207...\n",
       "\n",
       "[6040 rows x 2 columns]"
      ]
     },
     "execution_count": 3,
     "metadata": {},
     "output_type": "execute_result"
    }
   ],
   "source": [
    "sequences"
   ]
  },
  {
   "cell_type": "code",
   "execution_count": 64,
   "metadata": {},
   "outputs": [],
   "source": [
    "# テストデータに含まれる顧客の学習データが何個かあるかによって学習データを分けたい\n",
    "# 学習データがx個ある顧客のみを含んだテストデータ\n",
    "# x = [10, 20, 30, 40, 50]\n",
    "sequences.movie_id = sequences.movie_id.apply(lambda s: s.split(\" \"))"
   ]
  },
  {
   "cell_type": "code",
   "execution_count": 119,
   "metadata": {},
   "outputs": [
    {
     "data": {
      "text/plain": [
       "{0: 3540, 10: 500, 20: 500, 30: 500, 40: 500, 50: 500}"
      ]
     },
     "execution_count": 119,
     "metadata": {},
     "output_type": "execute_result"
    }
   ],
   "source": [
    "# 各系列ごとの末尾n個をテストデータとする\n",
    "\n",
    "import random\n",
    "from typing import Dict, List, Tuple\n",
    "random.seed(0)\n",
    "\n",
    "a = []\n",
    "\n",
    "counter = {}\n",
    "for i in range(5 + 1):\n",
    "    counter[i * 10] = 0\n",
    "\n",
    "for _, (user_id, movie_id) in sequences.iterrows():\n",
    "    seq = movie_id\n",
    "    seq_l = len(seq)\n",
    "\n",
    "    while True:\n",
    "        l = random.randint(0, 5)\n",
    "        if l == 0:\n",
    "            train_seq = seq\n",
    "            test_seq = []\n",
    "            train_l = 0\n",
    "            counter[train_l] += 1\n",
    "            a.append((user_id, train_l, train_seq, test_seq))\n",
    "            break\n",
    "        else:\n",
    "            train_l = l * 10\n",
    "            if counter[train_l] == 500:\n",
    "                continue\n",
    "\n",
    "            test_l = 20\n",
    "            required_l = train_l + test_l\n",
    "            if seq_l < required_l:\n",
    "                continue\n",
    "            train_seq = seq[-required_l:-test_l]\n",
    "            test_seq = seq[-test_l:]\n",
    "            counter[train_l] += 1\n",
    "            a.append((user_id, train_l, train_seq, test_seq))\n",
    "            break"
   ]
  },
  {
   "cell_type": "code",
   "execution_count": 141,
   "metadata": {},
   "outputs": [],
   "source": [
    "train_sequences = {}\n",
    "test_sequences = {}\n",
    "all_test_sequences = {}\n",
    "\n",
    "test_size = [10, 20, 30, 40, 50]\n",
    "for sz in test_size:\n",
    "    test_sequences[sz] = {}\n",
    "\n",
    "for user_id, train_l, train_seq, test_seq in a:\n",
    "    assert user_id not in train_sequences\n",
    "    train_sequences[user_id] = \" \".join(train_seq)\n",
    "    if train_l > 0:\n",
    "        all_test_sequences[user_id] = \" \".join(test_seq)\n",
    "        test_sequences[train_l][user_id] = \" \".join(test_seq)\n",
    "\n",
    "for sz in test_size:\n",
    "    file_path = f\"../data/ml-1m/test-{sz}.csv\"\n",
    "    test_sz_df = pd.DataFrame.from_dict(test_sequences[sz], orient=\"index\", columns=[\"sequence\"])\n",
    "    test_sz_df.index.name = \"user_id\"\n",
    "    test_sz_df.to_csv(file_path)"
   ]
  },
  {
   "cell_type": "code",
   "execution_count": 142,
   "metadata": {},
   "outputs": [],
   "source": [
    "train_df = pd.DataFrame.from_dict(train_sequences, orient=\"index\", columns=[\"sequence\"])\n",
    "train_df.index.name = \"user_id\"\n",
    "train_df.to_csv(\"../data/ml-1m/train.csv\")"
   ]
  },
  {
   "cell_type": "code",
   "execution_count": 143,
   "metadata": {},
   "outputs": [],
   "source": [
    "test_df = pd.DataFrame.from_dict(all_test_sequences, orient=\"index\", columns=[\"sequence\"])\n",
    "test_df.index.name = \"user_id\"\n",
    "test_df.to_csv(\"../data/ml-1m/test.csv\")"
   ]
  },
  {
   "cell_type": "code",
   "execution_count": null,
   "metadata": {},
   "outputs": [],
   "source": []
  }
 ],
 "metadata": {
  "kernelspec": {
   "display_name": "Python 3.10.4 64-bit ('3.10.4')",
   "language": "python",
   "name": "python3"
  },
  "language_info": {
   "codemirror_mode": {
    "name": "ipython",
    "version": 3
   },
   "file_extension": ".py",
   "mimetype": "text/x-python",
   "name": "python",
   "nbconvert_exporter": "python",
   "pygments_lexer": "ipython3",
   "version": "3.10.4"
  },
  "orig_nbformat": 4,
  "vscode": {
   "interpreter": {
    "hash": "2a5fb540920344d2a30df49d123c0d51f1e8fc17e24494fc3a54f6f29186e4c7"
   }
  }
 },
 "nbformat": 4,
 "nbformat_minor": 2
}
