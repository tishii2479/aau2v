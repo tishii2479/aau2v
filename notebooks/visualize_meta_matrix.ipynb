{
 "cells": [
  {
   "cell_type": "code",
   "execution_count": null,
   "metadata": {},
   "outputs": [],
   "source": [
    "import numpy as np\n",
    "import torch\n",
    "import torch.nn.functional as F\n",
    "from scipy.stats import spearmanr\n",
    "import matplotlib.pyplot as plt\n",
    "\n",
    "import sys\n",
    "sys.path.append(\"..\")\n",
    "\n",
    "from analyst import Analyst\n",
    "from config import ModelConfig, TrainerConfig\n",
    "from dataset import load_dataset_manager"
   ]
  },
  {
   "cell_type": "code",
   "execution_count": null,
   "metadata": {},
   "outputs": [],
   "source": [
    "torch.manual_seed(0)\n",
    "np.random.seed(0)\n",
    "\n",
    "trainer_config = TrainerConfig(\n",
    "    dataset_name=\"toydata-paper\", epochs=3, ignore_saved_model=True, load_model=True, batch_size=64,\n",
    "    model_dir=\"../cache/model/\", dataset_dir=\"../cache/dataset/\"\n",
    ")\n",
    "model_config = ModelConfig(d_model=128, lr=0.0001, init_embedding_std=0.2, normalize_embedding_weight=True, window_size=5)"
   ]
  },
  {
   "cell_type": "code",
   "execution_count": null,
   "metadata": {},
   "outputs": [],
   "source": [
    "dataset_manager = load_dataset_manager(\n",
    "    dataset_name=trainer_config.dataset_name,\n",
    "    dataset_dir=trainer_config.dataset_dir,\n",
    "    load_dataset=trainer_config.load_dataset,\n",
    "    save_dataset=trainer_config.save_dataset,\n",
    "    window_size=model_config.window_size,\n",
    "    data_dir=\"../data/\"\n",
    ")"
   ]
  },
  {
   "cell_type": "code",
   "execution_count": null,
   "metadata": {},
   "outputs": [],
   "source": [
    "analyst = Analyst(\n",
    "    dataset_manager=dataset_manager,\n",
    "    trainer_config=trainer_config,\n",
    "    model_config=model_config,\n",
    ")"
   ]
  },
  {
   "cell_type": "code",
   "execution_count": null,
   "metadata": {},
   "outputs": [],
   "source": [
    "analyst.similarity_between_seq_meta_and_item_meta(\"gender\", \"F\", \"genre\", method=\"inner-product\")"
   ]
  },
  {
   "cell_type": "code",
   "execution_count": null,
   "metadata": {},
   "outputs": [],
   "source": [
    "analyst.similarity_between_seq_meta_and_item_meta(\"gender\", \"F\", \"genre\", method=\"inner-product\")"
   ]
  },
  {
   "cell_type": "code",
   "execution_count": null,
   "metadata": {},
   "outputs": [],
   "source": [
    "seq_meta = analyst.trainer.seq_meta_embedding\n",
    "item_meta = analyst.trainer.item_meta_embedding"
   ]
  },
  {
   "cell_type": "code",
   "execution_count": null,
   "metadata": {},
   "outputs": [],
   "source": [
    "seq_meta_keys = [\"gender:M\", \"gender:F\", \"age:20\", \"age:30\", \"age:40\", \"age:50\", \"age:60\"]\n",
    "item_meta_keys = [\"genre:M\", \"genre:E\", \"genre:F\", \"year:1960\", \"year:1970\", \"year:1980\", \"year:1990\", \"year:2000\"]"
   ]
  },
  {
   "cell_type": "code",
   "execution_count": null,
   "metadata": {},
   "outputs": [],
   "source": [
    "data = np.zeros((len(seq_meta_keys), len(item_meta_keys)))\n",
    "for i, seq_key in enumerate(seq_meta_keys):\n",
    "    for j, item_key in enumerate(item_meta_keys):\n",
    "        data[i][j] = np.dot(seq_meta[seq_key], item_meta[item_key])"
   ]
  },
  {
   "cell_type": "code",
   "execution_count": null,
   "metadata": {},
   "outputs": [],
   "source": [
    "import seaborn as sns\n",
    "# plt.rcParams[\"font.family\"] = \"Osaka\" # or \"Hiragino Mincho ProN\"\n",
    "plt.rcParams['font.family'] = 'Hiragino Sans'\n",
    "plt.rcParams['font.weight'] = 'regular'\n",
    "plt.rcParams['figure.subplot.bottom'] = 0.30 # なんか保存する時にx軸のラベルが見切れるので、下の余白を調整"
   ]
  },
  {
   "cell_type": "code",
   "execution_count": null,
   "metadata": {},
   "outputs": [],
   "source": [
    "display_seq_meta_keys = list(map(lambda s: s.replace(\"gender:\", \"性別:\").replace(\"M\", \"男性\").replace(\"F\", \"女性\").replace(\"age:\", \"年齢:\"), seq_meta_keys))\n",
    "display_item_meta_keys = list(map(lambda s: s.replace(\"genre:\", \"ジャンル:\").replace(\"year:\", \"発売年:\"), item_meta_keys))\n",
    "ax = sns.heatmap(data, linewidth=0.2, annot=True, fmt=\"5.2f\",\n",
    "    yticklabels=display_seq_meta_keys, xticklabels=display_item_meta_keys, cmap=\"OrRd\", cbar=False\n",
    ")\n",
    "# ax.set(xlabel=\"商品の補助情報\", ylabel=\"顧客の補助情報\")\n",
    "# plt.savefig(\"data/fig_heatmap.svg\", format=\"svg\")\n",
    "# tight_layoutでいい?\n",
    "plt.subplots_adjust(left=0.12, right=1, bottom=0.3, top=1)\n",
    "plt.savefig(\"data/fig_heatmap.png\", format=\"png\", dpi=300)\n",
    "plt.savefig(\"data/fig_heatmap.pdf\", format=\"pdf\", dpi=300)"
   ]
  },
  {
   "cell_type": "code",
   "execution_count": null,
   "metadata": {},
   "outputs": [],
   "source": []
  }
 ],
 "metadata": {
  "kernelspec": {
   "display_name": "Python 3",
   "language": "python",
   "name": "python3"
  },
  "language_info": {
   "codemirror_mode": {
    "name": "ipython",
    "version": 3
   },
   "file_extension": ".py",
   "mimetype": "text/x-python",
   "name": "python",
   "nbconvert_exporter": "python",
   "pygments_lexer": "ipython3",
   "version": "3.10.4"
  },
  "vscode": {
   "interpreter": {
    "hash": "2a5fb540920344d2a30df49d123c0d51f1e8fc17e24494fc3a54f6f29186e4c7"
   }
  }
 },
 "nbformat": 4,
 "nbformat_minor": 2
}
